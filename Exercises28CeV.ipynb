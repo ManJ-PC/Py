{
  "nbformat": 4,
  "nbformat_minor": 0,
  "metadata": {
    "colab": {
      "name": "Exercises28CeV.ipynb",
      "provenance": [],
      "authorship_tag": "ABX9TyPI1+ZEM7uxkpSgE1dFBZ7i",
      "include_colab_link": true
    },
    "kernelspec": {
      "display_name": "Python 3",
      "name": "python3"
    },
    "language_info": {
      "name": "python"
    }
  },
  "cells": [
    {
      "cell_type": "markdown",
      "metadata": {
        "id": "view-in-github",
        "colab_type": "text"
      },
      "source": [
        "<a href=\"https://colab.research.google.com/github/ManJ-PC/Py/blob/master/Exercises28CeV.ipynb\" target=\"_parent\"><img src=\"https://colab.research.google.com/assets/colab-badge.svg\" alt=\"Open In Colab\"/></a>"
      ]
    },
    {
      "cell_type": "code",
      "metadata": {
        "id": "iQO5owqX-meN"
      },
      "source": [
        "cores = {'limpa':'\\033[0;0m',\n",
        "         'azul':'\\033[34m',\n",
        "         'amarelo':'\\033[33m',\n",
        "         'pretoebranco':'\\033[7;30m'}\n",
        "background = {'branco':'\\033[40m',\n",
        "              'vermelho': '\\033[41m',\n",
        "              'azul': '\\033[44m'\n",
        "              }"
      ],
      "execution_count": null,
      "outputs": []
    },
    {
      "cell_type": "markdown",
      "metadata": {
        "id": "lX9n9FKi-xX0"
      },
      "source": [
        "**#10 Condições (Parte 1)**\n",
        "\n",
        "carro.siga()\n",
        "carro.esquerda()\n",
        "carro.siga()\n",
        "caro.direita()\n",
        "\n",
        "\n",
        "objecto <- carro  \n",
        "\n",
        "Métodos:\n",
        "siga()\n",
        "esquerda()\n",
        "direita()\n",
        "pare()"
      ]
    },
    {
      "cell_type": "code",
      "metadata": {
        "id": "leyXX6VU_d_o"
      },
      "source": [
        ""
      ],
      "execution_count": null,
      "outputs": []
    },
    {
      "cell_type": "markdown",
      "metadata": {
        "id": "P5eqogC5_5tb"
      },
      "source": [
        "Pode aparecer de 2 formas...:\n",
        "\n",
        "procedimental ou estruturada.. identada, condições biforcações, ciclo\n",
        "\n",
        "\n",
        "o que Waze faz é feito com condições... imaginemos que encontramos um engarrafamento ... então : vamos pelo outro caminho pois apesar de ser mais longo , também é mais rápido neste caso (conforme nós queremos)"
      ]
    },
    {
      "cell_type": "code",
      "metadata": {
        "colab": {
          "base_uri": "https://localhost:8080/"
        },
        "id": "R-evb2sQAn01",
        "outputId": "dff64080-d809-4196-c370-4a6fa0e17f1a"
      },
      "source": [
        "nome = str(input('Qual é seu nome? '))\n",
        "if nome == 'Gustavo':\n",
        "  print('Que nome lindo voçê tem!')\n",
        "else:\n",
        "  print('Seu nome é tão normal!')  \n",
        "print('Bom dia, {}!'.format(nome))"
      ],
      "execution_count": null,
      "outputs": [
        {
          "output_type": "stream",
          "name": "stdout",
          "text": [
            "Qual é seu nome? p\n",
            "Seu nome é tão normal!\n",
            "Bom dia, p!\n"
          ]
        }
      ]
    },
    {
      "cell_type": "code",
      "metadata": {
        "colab": {
          "base_uri": "https://localhost:8080/"
        },
        "id": "JLPefOGF6Nk-",
        "outputId": "f5fcf271-d413-433f-d8db-3858aa77d7e3"
      },
      "source": [
        "n1 = float(input('Digite a primeira nota: '))\n",
        "n2 = float(input('Digite a segunda nota: '))\n",
        "m = (n1+n2)/2\n",
        "print('A sua média foi {:.1f}'.format(m))\n",
        "if m >= 6.0:\n",
        "  print('Sua média foi boa! Parabéns!')\n",
        "else:\n",
        "  print('Sua média foi ruim! ESTUDE MAIS!') # Condição composta"
      ],
      "execution_count": null,
      "outputs": [
        {
          "output_type": "stream",
          "name": "stdout",
          "text": [
            "Digite a primeira nota: 9\n",
            "Digite a segunda nota: 7\n",
            "A sua média foi 8.0\n",
            "Sua média foi boa! Parabéns!\n"
          ]
        }
      ]
    },
    {
      "cell_type": "code",
      "metadata": {
        "colab": {
          "base_uri": "https://localhost:8080/"
        },
        "id": "Ao0PV_po7c8P",
        "outputId": "30bcc84b-88bd-4648-e453-2ba6cb2f7341"
      },
      "source": [
        "print('PARABÉNS' if m > 6 else 'ESTUDE MAIS!') # Condições simplificadas, tipo ternário"
      ],
      "execution_count": null,
      "outputs": [
        {
          "output_type": "stream",
          "name": "stdout",
          "text": [
            "PARABÉNS\n"
          ]
        }
      ]
    },
    {
      "cell_type": "code",
      "metadata": {
        "id": "CW1bFyGP7p_8"
      },
      "source": [
        "# 28 Escreva um programa que faça o computador \"pensar\" em um número inteiro entre 0 e 5 e peça para o utilizador tentar descobrir qual foi o número escolhido pelo computador\n",
        "# O programa deverá escrever na tela se o usuário venceu ou perdeu"
      ],
      "execution_count": null,
      "outputs": []
    },
    {
      "cell_type": "markdown",
      "metadata": {
        "id": "KQVB4uMy8YvZ"
      },
      "source": [
        "**#28 Escreva um programa que faça o computador \"pensar\" em um número inteiro entre 0 e 5 e peça para o utilizador tentar descobrir qual foi o número escolhido pelo computador.  O programa deverá escrever na tela se o usuário venceu ou perdeu**\n"
      ]
    },
    {
      "cell_type": "code",
      "metadata": {
        "id": "rc5capQx9WAQ"
      },
      "source": [
        "import random"
      ],
      "execution_count": null,
      "outputs": []
    },
    {
      "cell_type": "code",
      "metadata": {
        "colab": {
          "base_uri": "https://localhost:8080/"
        },
        "id": "uivtX7CK8fn9",
        "outputId": "daa44970-cddb-4897-96a4-d665e9959df1"
      },
      "source": [
        "num = random.randint(0,5)\n",
        "\n",
        "unum = int(input('Digite um número entre 0 e 5: '))\n",
        "if (num == unum):\n",
        "  print('Parabéns')\n",
        "else:\n",
        "  print('O computador venceu desta vez! \\n O número escolhido foi {}'.format(num))"
      ],
      "execution_count": null,
      "outputs": [
        {
          "output_type": "stream",
          "name": "stdout",
          "text": [
            "Digite um número entre 0 e 5: 4\n",
            "Parabéns\n"
          ]
        }
      ]
    },
    {
      "cell_type": "markdown",
      "metadata": {
        "id": "pEr1hWK_iU71"
      },
      "source": [
        "#Basicamente é o tico ti, tico-te ... Quantos dedos estão de pé\n",
        "\n",
        "Rosinha e um amarrrado para baixo e outro nas costas com os dedos no fundo das do colega"
      ]
    },
    {
      "cell_type": "code",
      "metadata": {
        "colab": {
          "base_uri": "https://localhost:8080/"
        },
        "id": "dXTKp69RhvIM",
        "outputId": "ee60874e-72c2-4fb6-821e-ba759e499ba2"
      },
      "source": [
        "#solução CeV, final do 1º mundo fundamentos básico do python, condicionais e estruturas de repetição... \n",
        "#Solução dos exercícios depois de fazer o teste! (nº limitado para fazer o certificado do mundo 0 de python!)\n",
        "\n",
        "from random import randint\n",
        "from time import sleep\n",
        "# para simular que o computador está a pensar\n",
        "computador = randint(0,5) #Faz o computador \"PENSAR\"\n",
        "#print('Pensei no número {}'.format(computador))\n",
        "\n",
        "print('-=-' *20)\n",
        "print('Vou pensar em um número entre 0 e 5. Tente adivinhar...')\n",
        "#sleep(3) devia ser aqui mas --- Enfim\n",
        "jogador = int(input('Em que número eu pensei? ')) #Jogador tenta adivinhar\n",
        "print(\"Processando ...\")\n",
        "sleep(3)\n",
        "if jogador == computador:\n",
        "  print('PARABÉNS! Você conseguiu me vencer!')\n",
        "else:\n",
        "  print('Ganhei! Eu pensei no número {} e não no {}!'.format(computador, jogador))\n",
        "\n"
      ],
      "execution_count": null,
      "outputs": [
        {
          "output_type": "stream",
          "name": "stdout",
          "text": [
            "-=--=--=--=--=--=--=--=--=--=--=--=--=--=--=--=--=--=--=--=-\n",
            "Vou pensar em um número entre 0 e 5. Tente adivinhar...\n",
            "Em que número eu pensei? 5\n",
            "Processando ...\n",
            "Ganhei! Eu pensei no número 4 e não no 5!\n"
          ]
        }
      ]
    },
    {
      "cell_type": "markdown",
      "metadata": {
        "id": "KA37UDSr-YWC"
      },
      "source": [
        "**#29 Escreva um programa que leia a velocidade de um carro.**\n",
        "\n",
        "**Se ele ultrapassar 80km, mostre uma mensagem dizendo que ele foi multado.**\n",
        "\n",
        "**A multa vai custar R$7,00 por cada Km acima do limite.**\n"
      ]
    },
    {
      "cell_type": "code",
      "metadata": {
        "colab": {
          "base_uri": "https://localhost:8080/"
        },
        "id": "fGUhb9Jd9xtU",
        "outputId": "975b7e50-e9cd-4e86-fef3-7650845b0a08"
      },
      "source": [
        "vel = float(input('Qual a velocidade de seu veículo? '))\n",
        "\n",
        "if (vel > 80):\n",
        "  multa = (vel-80)*7\n",
        "  print('Foste multado ... no valor de {:.2f}'.format(multa))\n",
        "else:\n",
        "  print(\"Tenha um bom dia e dirija com segurança!\")\n"
      ],
      "execution_count": null,
      "outputs": [
        {
          "output_type": "stream",
          "name": "stdout",
          "text": [
            "Qual a velocidade de seu veículo? 89\n",
            "Foste multado ... no valor de 63.00\n"
          ]
        }
      ]
    },
    {
      "cell_type": "code",
      "metadata": {
        "colab": {
          "base_uri": "https://localhost:8080/"
        },
        "id": "MP4pJZGaUmUj",
        "outputId": "3ade7445-4d81-49a2-8a6d-206f0c8a117b"
      },
      "source": [
        "#Solução do CeV\n",
        "#Primeiros passos do python, Fundamento, Mundo 0 e todos os exercícios ... etc Dúvidas no canal do youtube... muito proveitoso\n",
        "\n",
        "#particionar o exercícios em pedaços, redefinir e dividir para conquistar!\n",
        "velocidade = float(input(\"Qual é a velocidade atual do carro? \"))\n",
        "if velocidade > 80: #Condição simples\n",
        "  print('MULTADO! Voçe excedeu o limite permitido que é de 80Km/h')\n",
        "  multa = (velocidade - 80) * 7\n",
        "  print('Voçê deve pagar uma multa de R${:.2f}!'.format(multa))\n",
        "  #Calcular a multa do carro...\n",
        "print(\"Tenha um bom dia! Dirija com segurança\")\n"
      ],
      "execution_count": null,
      "outputs": [
        {
          "output_type": "stream",
          "name": "stdout",
          "text": [
            "Qual é a velocidade atual do carro? 90\n",
            "MULTADO! Voçe excedeu o limite permitido que é de 80Km/h\n",
            "Voçê deve pagar uma multa de R$70.00!\n",
            "Tenha um bom dia! Dirija com segurança\n"
          ]
        }
      ]
    },
    {
      "cell_type": "markdown",
      "metadata": {
        "id": "rEhQpZfnFVEt"
      },
      "source": [
        "**#30 Crie um programa que leia um número inteiro**  \n",
        "\n",
        "**Mostre na tela se ele é PAR ou ÍMPAR**"
      ]
    },
    {
      "cell_type": "code",
      "metadata": {
        "colab": {
          "base_uri": "https://localhost:8080/"
        },
        "id": "fmXlt720AF7e",
        "outputId": "524a8450-c064-465c-9c75-23dfde87b5b5"
      },
      "source": [
        "num = int(input('Digite um número na tela: '))\n",
        "\n",
        "if (num % 2 == 0):\n",
        "  print('PAR')\n",
        "else :\n",
        "  print('ÍMPAR')"
      ],
      "execution_count": null,
      "outputs": [
        {
          "output_type": "stream",
          "name": "stdout",
          "text": [
            "Digite um número na tela: 4\n",
            "PAR\n"
          ]
        }
      ]
    },
    {
      "cell_type": "code",
      "metadata": {
        "id": "MeCv9syDdOui"
      },
      "source": [
        ""
      ],
      "execution_count": null,
      "outputs": []
    },
    {
      "cell_type": "code",
      "metadata": {
        "colab": {
          "base_uri": "https://localhost:8080/"
        },
        "id": "NMXy8b9XXWg9",
        "outputId": "66cffed4-3e80-427e-b438-8f3d308315ba"
      },
      "source": [
        "# SOl CeV\n",
        "#Exercício transversal e clássico da programação qq linguagem/ sala de aula\n",
        "\n",
        "#Qq professor já fez este exercício...\n",
        "#número = int(input('Me diga um número qualquer: '))\n",
        "resultado = num % 2 \n",
        "#print('O resultado foi {}'.format(resultado))\n",
        "if resultado:\n",
        "  print('Ímpar') # dá 1 o resto por dois\n",
        "else:\n",
        "  print('Par') # dá 0    \"          \"                é binário e funciona para todo o número Negativos, 0 e 1\n",
        "if resultado == 0:\n",
        "  print('O numero {} é PAR'.format(num))\n",
        "else:\n",
        "  print('O numero {} é ÍMPAR'.format(num))"
      ],
      "execution_count": null,
      "outputs": [
        {
          "output_type": "stream",
          "name": "stdout",
          "text": [
            "Par\n",
            "O numero 4 é PAR\n"
          ]
        }
      ]
    },
    {
      "cell_type": "markdown",
      "metadata": {
        "id": "q5AGjjGEG3Oc"
      },
      "source": [
        "**#31 Desenvolva um programa que pergunte a distância de uma viagem em Km.**  \n",
        "**Calcule o preço da passagem, cobrando R฿0.50 por Km para viagens até 200Km e R฿0.45 para viagens mais longas.**"
      ]
    },
    {
      "cell_type": "code",
      "metadata": {
        "colab": {
          "base_uri": "https://localhost:8080/"
        },
        "id": "PeSXZIctGlDI",
        "outputId": "43906d99-34b4-4f70-aa61-3e330fca1e64"
      },
      "source": [
        "dist = float(input(\"Digite a distância de sua viagem: \"))\n",
        "if dist > 200:\n",
        "  price = dist*0.45 #um descontinho\n",
        "else:\n",
        "  price = dist*0.50\n",
        "print (\"O preço da passagem será de {}\".format(price))"
      ],
      "execution_count": null,
      "outputs": [
        {
          "output_type": "stream",
          "name": "stdout",
          "text": [
            "Digite a distância de sua viagem: 900\n",
            "O preço da passagem será de 405.0\n"
          ]
        }
      ]
    },
    {
      "cell_type": "code",
      "metadata": {
        "colab": {
          "base_uri": "https://localhost:8080/"
        },
        "id": "qZHBSnza_KyX",
        "outputId": "9f475f61-f6fc-4c32-d799-96bb71bfade7"
      },
      "source": [
        "# Sol CeV\n",
        "\n",
        "dist = float(input('Qual é a distância da sua viagem de sonho? '))\n",
        "print('Voçê está prestes a começar a viagem da sua vida de {}Km.'.format(dist))\n",
        "# condicional composta\n",
        "'''if dist <=200:\n",
        "  price = dist *0.5\n",
        "else:\n",
        "  price = dist *0.45\n",
        "print('E o preço da sua passagem será de R${:.2f}'.format(price))\n",
        "'''\n",
        "#if-inline ou operador ternário\n",
        "\n",
        "\n",
        "price = dist * 0.5 if dist<=200 else dist * 0.45\n",
        "\n",
        "print('E o preço da sua passagem será de R${:.2f}'.format(price))"
      ],
      "execution_count": null,
      "outputs": [
        {
          "output_type": "stream",
          "name": "stdout",
          "text": [
            "Qual é a distância da sua viagem de sonho? 89\n",
            "Voçê está prestes a começar a viagem da sua vida de 89.0Km.\n",
            "E o preço da sua passagem será de R$44.50\n"
          ]
        }
      ]
    },
    {
      "cell_type": "markdown",
      "metadata": {
        "id": "MwgzouAPejZ7"
      },
      "source": [
        "**#32 Faça um programa que leia um ano qualquer e mostre se ele é BISSEXTO**"
      ]
    },
    {
      "cell_type": "code",
      "metadata": {
        "id": "Y_3-WbGnd6Ft"
      },
      "source": [
        "# Anos bissextos são múltiplos de 4, não múltiplos de 100 (1900 não é bissexto) e múltiplos de 400 (2000 é bissexto).\n"
      ],
      "execution_count": null,
      "outputs": []
    },
    {
      "cell_type": "code",
      "metadata": {
        "colab": {
          "base_uri": "https://localhost:8080/"
        },
        "id": "XnM94acEfCo0",
        "outputId": "e1e0e232-1949-477f-fcd5-5de21bf5ff6b"
      },
      "source": [
        "ano = int(input('Digite um ano: '))\n",
        "ano = 2021 if ano == 0 else ano "
      ],
      "execution_count": null,
      "outputs": [
        {
          "name": "stdout",
          "output_type": "stream",
          "text": [
            "Digite um ano: 9521\n"
          ]
        }
      ]
    },
    {
      "cell_type": "code",
      "metadata": {
        "colab": {
          "base_uri": "https://localhost:8080/"
        },
        "id": "65fkdfDqfQpP",
        "outputId": "0092e440-4129-4576-fadf-8d471a5bef71"
      },
      "source": [
        "'''if ano % 4 != 0:\n",
        "  bissexto = False\n",
        "elif ano % 100 != 0:\n",
        "  bissexto = True\n",
        "  if ano % 400 == 0:\n",
        "    bissexto = True\n",
        "  else :\n",
        "    bissexto = False\n",
        "else :\n",
        "  bissexto = True\n",
        "print('Bissexto? = {}'.format(bissexto))\n",
        "''' #ERRADO\n",
        "\n",
        "#Sol CeV\n",
        "from datetime import date\n",
        "#ano = int(input('Que ano quer analisar? '))\n",
        "if ano == 0:\n",
        "  ano = date.today().year\n",
        "if ano % 4 == 0 and ano % 100 !=0 or ano %400 == 0:\n",
        "  print('O ano {} é BISSEXTO'.format(ano))\n",
        "else:\n",
        "  print('O ano {} NÃO é BISSEXTO'.format(ano))\n",
        "\n",
        "\n",
        "\n"
      ],
      "execution_count": null,
      "outputs": [
        {
          "output_type": "stream",
          "name": "stdout",
          "text": [
            "O ano 9521 NÃO é BISSEXTO\n"
          ]
        }
      ]
    },
    {
      "cell_type": "code",
      "metadata": {
        "colab": {
          "base_uri": "https://localhost:8080/"
        },
        "id": "6lVFnqt7HCt5",
        "outputId": "23bc6b60-b136-4b5d-8283-96283fb6ea4c"
      },
      "source": [
        "bissexto = True\n",
        "if ano % 4 != 0:\n",
        "  bissexto = False\n",
        "elif ano % 400 == 0:\n",
        "  bissexto = True\n",
        "elif ano % 100 == 0:\n",
        "  bissexto = False\n",
        "\n",
        "print('Bissexto? = {}'.format(bissexto))"
      ],
      "execution_count": null,
      "outputs": [
        {
          "output_type": "stream",
          "name": "stdout",
          "text": [
            "Bissexto? = False\n"
          ]
        }
      ]
    },
    {
      "cell_type": "code",
      "metadata": {
        "id": "G0qaGyDqlldZ"
      },
      "source": [
        "text = \"\""
      ],
      "execution_count": null,
      "outputs": []
    },
    {
      "cell_type": "code",
      "metadata": {
        "id": "hxyi-vsvlJ-j"
      },
      "source": [
        "P = \"Palindrome\""
      ],
      "execution_count": null,
      "outputs": []
    },
    {
      "cell_type": "code",
      "metadata": {
        "id": "SqFYrRrslOJ5"
      },
      "source": [
        "x = P[::-1]"
      ],
      "execution_count": null,
      "outputs": []
    },
    {
      "cell_type": "code",
      "metadata": {
        "colab": {
          "base_uri": "https://localhost:8080/",
          "height": 36
        },
        "id": "4fEHc7fmlXtW",
        "outputId": "4142aad3-f3b6-4a27-b759-3a85b9f9b806"
      },
      "source": [
        "x"
      ],
      "execution_count": null,
      "outputs": [
        {
          "output_type": "execute_result",
          "data": {
            "application/vnd.google.colaboratory.intrinsic+json": {
              "type": "string"
            },
            "text/plain": [
              "'emordnilaP'"
            ]
          },
          "metadata": {},
          "execution_count": 21
        }
      ]
    },
    {
      "cell_type": "code",
      "metadata": {
        "colab": {
          "base_uri": "https://localhost:8080/"
        },
        "id": "sJXYCaG3lYU_",
        "outputId": "cc29e3b5-df54-4f81-be29-02c1355acabe"
      },
      "source": [
        "type(P)"
      ],
      "execution_count": null,
      "outputs": [
        {
          "output_type": "execute_result",
          "data": {
            "text/plain": [
              "str"
            ]
          },
          "metadata": {},
          "execution_count": 22
        }
      ]
    },
    {
      "cell_type": "code",
      "metadata": {
        "id": "dUWpEjMGlct2"
      },
      "source": [
        "txt = \"Hello World\""
      ],
      "execution_count": null,
      "outputs": []
    },
    {
      "cell_type": "code",
      "metadata": {
        "id": "3x9qNAQNolfn"
      },
      "source": [
        "#txt[-1:-5]"
      ],
      "execution_count": null,
      "outputs": []
    },
    {
      "cell_type": "code",
      "metadata": {
        "colab": {
          "base_uri": "https://localhost:8080/",
          "height": 36
        },
        "id": "o_L6t-hJooZz",
        "outputId": "0a759837-66fc-4a7a-cdb1-8f100a0f3b3a"
      },
      "source": [
        "txt[-1:2]"
      ],
      "execution_count": null,
      "outputs": [
        {
          "output_type": "execute_result",
          "data": {
            "application/vnd.google.colaboratory.intrinsic+json": {
              "type": "string"
            },
            "text/plain": [
              "''"
            ]
          },
          "metadata": {},
          "execution_count": 25
        }
      ]
    },
    {
      "cell_type": "code",
      "metadata": {
        "colab": {
          "base_uri": "https://localhost:8080/",
          "height": 36
        },
        "id": "EoK8zdKvouNz",
        "outputId": "f614b3a0-b341-4aab-c389-0f408b9c6c77"
      },
      "source": [
        "txt[1:3]"
      ],
      "execution_count": null,
      "outputs": [
        {
          "output_type": "execute_result",
          "data": {
            "application/vnd.google.colaboratory.intrinsic+json": {
              "type": "string"
            },
            "text/plain": [
              "'el'"
            ]
          },
          "metadata": {},
          "execution_count": 26
        }
      ]
    },
    {
      "cell_type": "code",
      "metadata": {
        "colab": {
          "base_uri": "https://localhost:8080/",
          "height": 36
        },
        "id": "PeVNyt7gowUy",
        "outputId": "a7aee46e-a070-423b-9f0e-d52f840f5146"
      },
      "source": [
        "txt[-1:]"
      ],
      "execution_count": null,
      "outputs": [
        {
          "output_type": "execute_result",
          "data": {
            "application/vnd.google.colaboratory.intrinsic+json": {
              "type": "string"
            },
            "text/plain": [
              "'d'"
            ]
          },
          "metadata": {},
          "execution_count": 27
        }
      ]
    },
    {
      "cell_type": "code",
      "metadata": {
        "colab": {
          "base_uri": "https://localhost:8080/",
          "height": 36
        },
        "id": "85f0rn9ao-qD",
        "outputId": "8d25ab49-825c-4039-c89f-e7d736478787"
      },
      "source": [
        "txt[:-1]"
      ],
      "execution_count": null,
      "outputs": [
        {
          "output_type": "execute_result",
          "data": {
            "application/vnd.google.colaboratory.intrinsic+json": {
              "type": "string"
            },
            "text/plain": [
              "'Hello Worl'"
            ]
          },
          "metadata": {},
          "execution_count": 28
        }
      ]
    },
    {
      "cell_type": "code",
      "metadata": {
        "colab": {
          "base_uri": "https://localhost:8080/",
          "height": 36
        },
        "id": "TEeklkgtpCAD",
        "outputId": "5d1f07f5-8cb7-4d88-f089-faba0a860704"
      },
      "source": [
        "txt[:-6]"
      ],
      "execution_count": null,
      "outputs": [
        {
          "output_type": "execute_result",
          "data": {
            "application/vnd.google.colaboratory.intrinsic+json": {
              "type": "string"
            },
            "text/plain": [
              "'Hello'"
            ]
          },
          "metadata": {},
          "execution_count": 29
        }
      ]
    },
    {
      "cell_type": "code",
      "metadata": {
        "colab": {
          "base_uri": "https://localhost:8080/",
          "height": 36
        },
        "id": "a7yYmGl_pGGD",
        "outputId": "2c9a6ef5-f7d5-480d-8272-b46da09f5ad2"
      },
      "source": [
        "txt[-6:]"
      ],
      "execution_count": null,
      "outputs": [
        {
          "output_type": "execute_result",
          "data": {
            "application/vnd.google.colaboratory.intrinsic+json": {
              "type": "string"
            },
            "text/plain": [
              "' World'"
            ]
          },
          "metadata": {},
          "execution_count": 30
        }
      ]
    },
    {
      "cell_type": "code",
      "metadata": {
        "colab": {
          "base_uri": "https://localhost:8080/",
          "height": 36
        },
        "id": "jYMXI1JQpIyD",
        "outputId": "47e2cd00-f9c7-4e9e-e88a-0bca1b7f9213"
      },
      "source": [
        "txt[::-1]"
      ],
      "execution_count": null,
      "outputs": [
        {
          "output_type": "execute_result",
          "data": {
            "application/vnd.google.colaboratory.intrinsic+json": {
              "type": "string"
            },
            "text/plain": [
              "'dlroW olleH'"
            ]
          },
          "metadata": {},
          "execution_count": 31
        }
      ]
    },
    {
      "cell_type": "code",
      "metadata": {
        "colab": {
          "base_uri": "https://localhost:8080/",
          "height": 36
        },
        "id": "t_JCGqJQpOUb",
        "outputId": "834a6844-c70f-4aa3-ed47-f35633b12008"
      },
      "source": [
        "txt[::]"
      ],
      "execution_count": null,
      "outputs": [
        {
          "output_type": "execute_result",
          "data": {
            "application/vnd.google.colaboratory.intrinsic+json": {
              "type": "string"
            },
            "text/plain": [
              "'Hello World'"
            ]
          },
          "metadata": {},
          "execution_count": 32
        }
      ]
    },
    {
      "cell_type": "code",
      "metadata": {
        "colab": {
          "base_uri": "https://localhost:8080/",
          "height": 36
        },
        "id": "QeyYAX3kpQAD",
        "outputId": "f94dd1f4-a169-422a-9cd7-a8b54dc593db"
      },
      "source": [
        "txt[::1]"
      ],
      "execution_count": null,
      "outputs": [
        {
          "output_type": "execute_result",
          "data": {
            "application/vnd.google.colaboratory.intrinsic+json": {
              "type": "string"
            },
            "text/plain": [
              "'Hello World'"
            ]
          },
          "metadata": {},
          "execution_count": 33
        }
      ]
    },
    {
      "cell_type": "code",
      "metadata": {
        "colab": {
          "base_uri": "https://localhost:8080/",
          "height": 36
        },
        "id": "D6zmf0l0pTbE",
        "outputId": "e023fd79-d673-46d0-dcd1-b2bed0eb75ef"
      },
      "source": [
        "txt[::2]"
      ],
      "execution_count": null,
      "outputs": [
        {
          "output_type": "execute_result",
          "data": {
            "application/vnd.google.colaboratory.intrinsic+json": {
              "type": "string"
            },
            "text/plain": [
              "'HloWrd'"
            ]
          },
          "metadata": {},
          "execution_count": 34
        }
      ]
    },
    {
      "cell_type": "markdown",
      "metadata": {
        "id": "zP70siNHqu8e"
      },
      "source": [
        "**#33 Faça um programa que leia três números e mostre qual é o maior e qual é o menor.**"
      ]
    },
    {
      "cell_type": "code",
      "metadata": {
        "colab": {
          "base_uri": "https://localhost:8080/"
        },
        "id": "8nIOlfJqq_O1",
        "outputId": "a38c736b-7460-4b93-b3ef-dc657156216f"
      },
      "source": [
        "num1 = int(input(\"Digite o 1º num: \"))\n",
        "num2 = int(input('Digite o 2º num: '))\n",
        "num3 = int(input(\"Digite o 3º num: \"))\n",
        "\n",
        "if num1 > num2 and num2 > num3:\n",
        "  maior = num1\n",
        "  menor = num3\n",
        "elif num1 > num3 and num3 > num2:\n",
        "  maior = num1\n",
        "  menor = num2\n",
        "elif num2 > num1 and num1 > num3:\n",
        "  maior = num2\n",
        "  menor = num3\n",
        "elif num2 > num3 and num3 > num1:\n",
        "  maior = num2\n",
        "  menor = num1\n",
        "elif num3 > num2 and num2 > num1:\n",
        "  maior = num3\n",
        "  menor = num1\n",
        "elif num3 > num1 and num1 > num2:\n",
        "  maior = num3\n",
        "  menor = num2\n",
        "print(' O maior dos números é: {}\\n O menor dos números é: {}'.format(maior, menor))\n",
        "#se colocar todos mesmo valor, diz que maior não está definido.. error\n"
      ],
      "execution_count": null,
      "outputs": [
        {
          "output_type": "stream",
          "name": "stdout",
          "text": [
            "Digite o 1º num: 9\n",
            "Digite o 2º num: 0\n",
            "Digite o 3º num: 8\n",
            " O maior dos números é: 9\n",
            " O menor dos números é: 0\n"
          ]
        }
      ]
    },
    {
      "cell_type": "code",
      "metadata": {
        "colab": {
          "base_uri": "https://localhost:8080/"
        },
        "id": "Cmv364VTnqkD",
        "outputId": "e7a6e132-4611-4802-84fa-f8d5590832a1"
      },
      "source": [
        "#Sol CeV\n",
        "\n",
        "a = int(input('Primeiro valor: '))\n",
        "b = int(input('Segundo valor: '))\n",
        "c = int(input('Terceiro valor: '))\n",
        "\"\"\"\n",
        "if a>c and a>b:\n",
        "  menor = a\n",
        "if b<c and b<a: # todas são condições condicionais simples, não tem senão\n",
        "  menor = b\n",
        "if c<a and c<b:\n",
        "  menor = c\n",
        "  \"\"\"\n",
        "# Verificando quem é o menor\n",
        "menor = a #reduzimos um if / condição poupamos instruções\n",
        "if b<a and b<c:\n",
        "  menor = b\n",
        "if c<a and c <b:\n",
        "  menor = c\n",
        "# Verificando quem é o maior\n",
        "maior = a\n",
        "if b > a and b > c:\n",
        "  maior = b\n",
        "if c > a and c > b:\n",
        "  maior = c\n",
        "\n",
        "print('O menor valor digitado foi {}'.format(menor))\n",
        "print('O maior valor digitado foi {}'.format(maior))\n",
        "\n",
        "\n",
        "\n",
        "#print('O menor valor digitado é {}'.format(menor))"
      ],
      "execution_count": null,
      "outputs": [
        {
          "output_type": "stream",
          "name": "stdout",
          "text": [
            "Primeiro valor: 8\n",
            "Segundo valor: 6\n",
            "Terceiro valor: 8\n",
            "O menor valor digitado foi 6\n",
            "O maior valor digitado foi 8\n"
          ]
        }
      ]
    },
    {
      "cell_type": "markdown",
      "metadata": {
        "id": "znSxOPzEuLnL"
      },
      "source": [
        "\"**#34 Escreva um programa que pergunte o salário de um funcionário**  \n",
        "**Calcule o valor do seu aumento Salário>1250$:\n",
        "* SIM -> aumenta 10%\n",
        "* NÂO -> aumenta 15%"
      ]
    },
    {
      "cell_type": "code",
      "metadata": {
        "colab": {
          "base_uri": "https://localhost:8080/"
        },
        "id": "W4qNPN0UpV6b",
        "outputId": "929a8c8c-950c-4d7c-dc9d-b5e452fc03cd"
      },
      "source": [
        "salario = float(input('Digite o seu salário: '))\n",
        "if salario > 1250:\n",
        "  aumento = 0.1 * salario\n",
        "else:\n",
        "  aumento = 0.15 * salario\n",
        "print(' O aumento do salario foi de {}\\n e com a atualização fica a ganhar {}'.format(aumento, aumento+salario))"
      ],
      "execution_count": null,
      "outputs": [
        {
          "output_type": "stream",
          "name": "stdout",
          "text": [
            "Digite o seu salário: 800\n",
            " O aumento do salario foi de 120.0\n",
            " e com a atualização fica a ganhar 920.0\n"
          ]
        }
      ]
    },
    {
      "cell_type": "code",
      "metadata": {
        "colab": {
          "base_uri": "https://localhost:8080/"
        },
        "id": "sJXEc69bDSkc",
        "outputId": "ab857e5f-3da1-44f8-ecd4-43c84736ad22"
      },
      "source": [
        "#Sol CeV\n",
        "\n",
        "salario = float(input('Qual é o salário do funcionário? R$'))\n",
        "if salario <= 1250:\n",
        "  novo = salario + (salario *15 / 100)\n",
        "else:\n",
        "  novo = salario + (salario * 10/100)\n",
        "print('Quem ganhava R${:.2f} passa a ganhar R${:.2f} agora.'.format(salario,novo))"
      ],
      "execution_count": null,
      "outputs": [
        {
          "output_type": "stream",
          "name": "stdout",
          "text": [
            "Qual é o salário do funcionário? R$090\n",
            "Quem ganhava R$90.00 passa a ganhar R$103.50 agora.\n"
          ]
        }
      ]
    },
    {
      "cell_type": "code",
      "metadata": {
        "colab": {
          "base_uri": "https://localhost:8080/"
        },
        "id": "3OuXm0rXFhmE",
        "outputId": "347e6b0b-6e67-4a7a-d6a6-b4c4be1bd7fe"
      },
      "source": [
        "pip install emoji"
      ],
      "execution_count": null,
      "outputs": [
        {
          "output_type": "stream",
          "name": "stdout",
          "text": [
            "Collecting emoji\n",
            "  Downloading emoji-1.4.2.tar.gz (184 kB)\n",
            "\u001b[K     |████████████████████████████████| 184 kB 3.2 MB/s \n",
            "\u001b[?25hBuilding wheels for collected packages: emoji\n",
            "  Building wheel for emoji (setup.py) ... \u001b[?25l\u001b[?25hdone\n",
            "  Created wheel for emoji: filename=emoji-1.4.2-py3-none-any.whl size=186469 sha256=aad35b33216f5d4da05977a7ca139307149a2005b76065e580404db0f7da81cb\n",
            "  Stored in directory: /root/.cache/pip/wheels/e4/61/e7/2fc1ac8f306848fc66c6c013ab511f0a39ef4b1825b11363b2\n",
            "Successfully built emoji\n",
            "Installing collected packages: emoji\n",
            "Successfully installed emoji-1.4.2\n"
          ]
        }
      ]
    },
    {
      "cell_type": "markdown",
      "metadata": {
        "id": "vT5SDmBIzcT4"
      },
      "source": [
        "**#35 Desenvolva um programa que leia o comprimento de três retas e diga ao usuário se elas podem ou não formar um triângulo.**"
      ]
    },
    {
      "cell_type": "code",
      "metadata": {
        "id": "lRBmJCGBzbq9"
      },
      "source": [
        "#para formar angulo o retângulo tem de ter todos os lados cada um deles a ser menor que a soma dos outros dois senão não é capaz de se juntarem\n"
      ],
      "execution_count": null,
      "outputs": []
    },
    {
      "cell_type": "code",
      "metadata": {
        "colab": {
          "base_uri": "https://localhost:8080/"
        },
        "id": "E38Vd3C0yMRi",
        "outputId": "40ca3fad-e140-4985-a816-d67f0151ac18"
      },
      "source": [
        "lado1 = float(input('Digite o lado 1: '))\n",
        "lado2 = float(input('Digite o lado 2: '))\n",
        "lado3 = float(input('Digite o lado 3: '))"
      ],
      "execution_count": null,
      "outputs": [
        {
          "name": "stdout",
          "output_type": "stream",
          "text": [
            "Digite o lado 1: 7\n",
            "Digite o lado 2: 8\n",
            "Digite o lado 3: 9\n"
          ]
        }
      ]
    },
    {
      "cell_type": "code",
      "metadata": {
        "colab": {
          "base_uri": "https://localhost:8080/"
        },
        "id": "lt21SFOq0TXw",
        "outputId": "27fca11b-dab0-454a-e021-08ddb9b7c311"
      },
      "source": [
        "if (lado1 < lado2  + lado3) and (lado2 < lado1 + lado3) and lado3 < (lado2 + lado3):\n",
        "  print('Check.. ingredientes para fazer um retângulo Satisfeitos ✅ ') # emoji para realizar o check a Verde\n",
        "else:\n",
        "  print('Lado maior demasiado Gigante comparativamente aos outros')\n"
      ],
      "execution_count": null,
      "outputs": [
        {
          "output_type": "stream",
          "name": "stdout",
          "text": [
            "Check.. ingredientes para fazer um retângulo Satisfeitos ✅ \n"
          ]
        }
      ]
    },
    {
      "cell_type": "code",
      "metadata": {
        "id": "gUbYa5qs9JLO"
      },
      "source": [
        "#maior... ainda não sei fazer funções..."
      ],
      "execution_count": null,
      "outputs": []
    },
    {
      "cell_type": "code",
      "metadata": {
        "id": "Kvs_VV-jJTd_"
      },
      "source": [
        "# Sol CeV  os lados mais pequenos, tem de conseguir encostar lá em cima, pensado no desenho com o maior na base"
      ],
      "execution_count": null,
      "outputs": []
    },
    {
      "cell_type": "code",
      "metadata": {
        "colab": {
          "base_uri": "https://localhost:8080/"
        },
        "id": "meYNH3f6Jcd1",
        "outputId": "2a103854-e232-4bc0-8b2c-3304add12484"
      },
      "source": [
        "print('-='*20)\n",
        "print('Analisador de Triângulos')\n",
        "print('-='*20)\n",
        "r1 = float(input('Primeiro segmento: '))\n",
        "r2 = float(input('Segundo segmento: '))\n",
        "r3 = float(input('Terceiro segmento: '))\n",
        "if r1 < r2 + r3 and r2 < r1 + r3 and r3 < r1 + r2:\n",
        "  print('Os segmentos acima PODEM FORMAR um triângulo!')\n",
        "else:\n",
        "  print('Os segmentos acima NÃO PODEM FORMAR um triângulo') #programa que distingue o tipo de triângulos (aula 12 do segundo mundo e que tipo de triângulo pode ser formado... )\n",
        "  #dizer se pode ou não pode fazer o triângulo"
      ],
      "execution_count": null,
      "outputs": [
        {
          "output_type": "stream",
          "name": "stdout",
          "text": [
            "-=-=-=-=-=-=-=-=-=-=-=-=-=-=-=-=-=-=-=-=\n",
            "Analisador de Triângulos\n",
            "-=-=-=-=-=-=-=-=-=-=-=-=-=-=-=-=-=-=-=-=\n",
            "Primeiro segmento: 4\n",
            "Segundo segmento: 7\n",
            "Terceiro segmento: 9\n",
            "Os segmentos acima PODEM FORMAR um triângulo!\n"
          ]
        }
      ]
    },
    {
      "cell_type": "code",
      "metadata": {
        "colab": {
          "base_uri": "https://localhost:8080/"
        },
        "id": "lsT9iqIiJ61W",
        "outputId": "f809ba3f-0499-4d93-f418-ef0f22e1af03"
      },
      "source": [
        "# 11 - Cores no Terminal\n",
        "# \\033[style;Text;Backm                        OPCIONAIS e ordem aleatória \n",
        "# style <- 0 None, 1 Bold, 4 Underline, 7 Negative\n",
        "# text <- 30,31,32,33,34,35,36,37\n",
        "\n",
        "print('\\033[31;43mOlá, Mundo!')"
      ],
      "execution_count": null,
      "outputs": [
        {
          "output_type": "stream",
          "name": "stdout",
          "text": [
            "\u001b[31;43mOlá, Mundo!\n"
          ]
        }
      ]
    },
    {
      "cell_type": "code",
      "metadata": {
        "colab": {
          "base_uri": "https://localhost:8080/"
        },
        "id": "dMk1B15vcP3D",
        "outputId": "fadbcb7e-ce36-4688-d8e0-099e6ead7552"
      },
      "source": [
        "![picture](https://drive.google.com/file/d/1Tz1bU5D2KXHByHM5YLR2Os_Xd_MOYhp8/view?usp=sharing, https://drive.google.com/file/d/1knjQ4gHwDqV4gxNu3_tkAOM0MlqmSrXy/view?usp=sharing)"
      ],
      "execution_count": null,
      "outputs": [
        {
          "output_type": "stream",
          "name": "stdout",
          "text": [
            "/bin/bash: -c: line 0: syntax error near unexpected token `https://drive.google.com/file/d/1Tz1bU5D2KXHByHM5YLR2Os_Xd_MOYhp8/view?usp=sharing,'\n",
            "/bin/bash: -c: line 0: `[picture](https://drive.google.com/file/d/1Tz1bU5D2KXHByHM5YLR2Os_Xd_MOYhp8/view?usp=sharing, https://drive.google.com/file/d/1knjQ4gHwDqV4gxNu3_tkAOM0MlqmSrXy/view?usp=sharing)'\n"
          ]
        }
      ]
    },
    {
      "cell_type": "code",
      "metadata": {
        "colab": {
          "base_uri": "https://localhost:8080/"
        },
        "id": "nLF4sp-1uHiU",
        "outputId": "aa06e1fe-c67e-44cd-864d-4a04aa21b392"
      },
      "source": [
        "![picture](https://drive.google.com/file/d/1Tz1bU5D2KXHByHM5YLR2Os_Xd_MOYhp8)"
      ],
      "execution_count": null,
      "outputs": [
        {
          "output_type": "stream",
          "name": "stdout",
          "text": [
            "/bin/bash: -c: line 0: syntax error near unexpected token `https://drive.google.com/file/d/1Tz1bU5D2KXHByHM5YLR2Os_Xd_MOYhp8'\n",
            "/bin/bash: -c: line 0: `[picture](https://drive.google.com/file/d/1Tz1bU5D2KXHByHM5YLR2Os_Xd_MOYhp8)'\n"
          ]
        }
      ]
    },
    {
      "cell_type": "code",
      "metadata": {
        "colab": {
          "base_uri": "https://localhost:8080/"
        },
        "id": "H3a1dzt6uUAd",
        "outputId": "5637dbf1-eca0-45de-d326-f92f13497e1e"
      },
      "source": [
        "![picture](https://drive.google.com/uc?id=1Tz1bU5D2KXHByHM5YLR2Os_Xd_MOYhp8)\n"
      ],
      "execution_count": null,
      "outputs": [
        {
          "output_type": "stream",
          "name": "stdout",
          "text": [
            "/bin/bash: -c: line 0: syntax error near unexpected token `https://drive.google.com/uc?id=1Tz1bU5D2KXHByHM5YLR2Os_Xd_MOYhp8'\n",
            "/bin/bash: -c: line 0: `[picture](https://drive.google.com/uc?id=1Tz1bU5D2KXHByHM5YLR2Os_Xd_MOYhp8)'\n"
          ]
        }
      ]
    },
    {
      "cell_type": "markdown",
      "metadata": {
        "id": "IxzTY3aPvSph"
      },
      "source": [
        "##Hey there medium family!\n",
        "lets embed our image in this markdown <br>!\n",
        "[alt text](https://drive.google.com/file/d/1Tz1bU5D2KXHByHM5YLR2Os_Xd_MOYhp8)"
      ]
    },
    {
      "cell_type": "markdown",
      "metadata": {
        "id": "TNJAZNNZv0Qs"
      },
      "source": [
        "##Hey there medium family!\n",
        "lets embed our image in this markdown <br>!\n",
        "<img src='https://drive.google.com/uc?id=1Tz1bU5D2KXHByHM5YLR2Os_Xd_MOYhp8'>"
      ]
    },
    {
      "cell_type": "code",
      "metadata": {
        "colab": {
          "base_uri": "https://localhost:8080/"
        },
        "id": "hAkMV489uyTN",
        "outputId": "916835f7-ac15-4665-b060-74efe742f72d"
      },
      "source": [
        "print('Olá Mundo!')"
      ],
      "execution_count": null,
      "outputs": [
        {
          "output_type": "stream",
          "name": "stdout",
          "text": [
            "Olá Mundo!\n"
          ]
        }
      ]
    },
    {
      "cell_type": "code",
      "metadata": {
        "id": "kqs5081Kvvll",
        "colab": {
          "base_uri": "https://localhost:8080/"
        },
        "outputId": "540ef00e-ced1-47ef-8508-75e6301dbbd5"
      },
      "source": [
        "print('\\033[31mHello World!')"
      ],
      "execution_count": null,
      "outputs": [
        {
          "output_type": "stream",
          "name": "stdout",
          "text": [
            "\u001b[31mHello World!\n"
          ]
        }
      ]
    },
    {
      "cell_type": "code",
      "metadata": {
        "colab": {
          "base_uri": "https://localhost:8080/"
        },
        "id": "LKRzFWBolKez",
        "outputId": "ac0cc118-05b3-4b3d-b22d-8ef5299909c7"
      },
      "source": [
        "print('\\033[31;43;1mHello World!') #estava a chegar ao fundo dele e depois acrescentou o caracter/flag de final de linha string \\033[m'"
      ],
      "execution_count": null,
      "outputs": [
        {
          "output_type": "stream",
          "name": "stdout",
          "text": [
            "\u001b[31;43;1mHello World!\n"
          ]
        }
      ]
    },
    {
      "cell_type": "code",
      "metadata": {
        "colab": {
          "base_uri": "https://localhost:8080/"
        },
        "id": "mFAZAwKhmOa4",
        "outputId": "730acccc-cf34-42c0-d242-06de2b7fd4ec"
      },
      "source": [
        "print('\\033[30;45;1mHello World!')"
      ],
      "execution_count": null,
      "outputs": [
        {
          "output_type": "stream",
          "name": "stdout",
          "text": [
            "\u001b[30;45;1mHello World!\n"
          ]
        }
      ]
    },
    {
      "cell_type": "code",
      "metadata": {
        "colab": {
          "base_uri": "https://localhost:8080/"
        },
        "id": "fbHyftClmvvv",
        "outputId": "e6364b39-cbd3-4f66-d9be-3f796b75a17e"
      },
      "source": [
        "print('\\033[33;44;1mHello World!')"
      ],
      "execution_count": null,
      "outputs": [
        {
          "output_type": "stream",
          "name": "stdout",
          "text": [
            "\u001b[33;44;1mHello World!\n"
          ]
        }
      ]
    },
    {
      "cell_type": "code",
      "metadata": {
        "colab": {
          "base_uri": "https://localhost:8080/"
        },
        "id": "YZUlbM__nO1J",
        "outputId": "d51bace2-a4fe-4e3f-b0fd-8af490c6cd60"
      },
      "source": [
        "print('\\033[7;31;43;1mHello World!')"
      ],
      "execution_count": null,
      "outputs": [
        {
          "output_type": "stream",
          "name": "stdout",
          "text": [
            "\u001b[7;31;43;1mHello World!\n"
          ]
        }
      ]
    },
    {
      "cell_type": "code",
      "metadata": {
        "colab": {
          "base_uri": "https://localhost:8080/"
        },
        "id": "pbYwJ_1nnaVQ",
        "outputId": "a231f462-5dc2-4301-a5a6-06a1e0c9384a"
      },
      "source": [
        "a = 3\n",
        "b = 5\n",
        "print('Os valores são \\033[32m{}\\033[ e \\033[31m{}\\033[m!!!'.format(a,b))"
      ],
      "execution_count": null,
      "outputs": [
        {
          "output_type": "stream",
          "name": "stdout",
          "text": [
            "Os valores são \u001b[32m3\u001b[ e \u001b[31m5\u001b[m!!!\n"
          ]
        }
      ]
    },
    {
      "cell_type": "code",
      "metadata": {
        "colab": {
          "base_uri": "https://localhost:8080/"
        },
        "id": "_eH8SYcin25I",
        "outputId": "9c040f3d-c07b-4c47-d17e-7c43a5fc4c7e"
      },
      "source": [
        "nome = 'Guanabará'\n",
        "cores = {'limpa':'\\033[0;0m',\n",
        "         'azul':'\\033[34m',\n",
        "         'amarelo':'\\033[33m',\n",
        "         'pretoebranco':'\\033[7;30m'}\n",
        "print('Olá! Muito prazer em te conhecer, {}{}{}!!!'.format('\\033[4;34m',nome,'\\033[0;0m')) # Reset (remove formatação)\t\\033[0;0m https://raccoon.ninja/pt/dev-pt/tabela-de-cores-ansi-python/"
      ],
      "execution_count": null,
      "outputs": [
        {
          "output_type": "stream",
          "name": "stdout",
          "text": [
            "Olá! Muito prazer em te conhecer, \u001b[4;34mGuanabará\u001b[0;0m!!!\n"
          ]
        }
      ]
    },
    {
      "cell_type": "code",
      "metadata": {
        "colab": {
          "base_uri": "https://localhost:8080/"
        },
        "id": "7gX2OcEnqSoS",
        "outputId": "8236ccb1-a803-4c7b-f088-98f07fad1150"
      },
      "source": [
        "print('Olá! Muito prazer em te conhecer, {}{}{}!!!'.format(cores['pretoebranco'],nome,cores['limpa'])) # Reset (remove formatação)\t\\033[0;0m https://raccoon.ninja/pt/dev-pt/tabela-de-cores-ansi-python/"
      ],
      "execution_count": null,
      "outputs": [
        {
          "output_type": "stream",
          "name": "stdout",
          "text": [
            "Olá! Muito prazer em te conhecer, \u001b[7;30mGuanabará\u001b[0;0m!!!\n"
          ]
        }
      ]
    },
    {
      "cell_type": "code",
      "metadata": {
        "id": "pb2bD6_wt4MS"
      },
      "source": [
        "#Criar uma lista de cores , um dicionário , utilizando cores de uma maneira mais simples. Simplificar a programação , organizando cores dentro do programa principalmente se este for longo."
      ],
      "execution_count": null,
      "outputs": []
    },
    {
      "cell_type": "code",
      "metadata": {
        "id": "xJysMrIxydaQ"
      },
      "source": [
        "# Desafio aula 10 é 35 ... master tirar um sistemas de cores para eles! etc Criar um sistema de cores para todos eles. Programas mais bonitos e nós mais espertos! Fazer todos nos exercícios!! Hard\n",
        "# Declaração oficial e encerramos o mundo 1 do python"
      ],
      "execution_count": null,
      "outputs": []
    },
    {
      "cell_type": "code",
      "metadata": {
        "id": "_29cNjx31Y-A"
      },
      "source": [
        "s = 'prova de python'"
      ],
      "execution_count": null,
      "outputs": []
    },
    {
      "cell_type": "code",
      "metadata": {
        "colab": {
          "base_uri": "https://localhost:8080/"
        },
        "id": "_cJ5f5_91a3m",
        "outputId": "5ddf1627-73d8-4770-a31e-e7bbf6ed79d9"
      },
      "source": [
        "len(s)"
      ],
      "execution_count": null,
      "outputs": [
        {
          "output_type": "execute_result",
          "data": {
            "text/plain": [
              "15"
            ]
          },
          "metadata": {},
          "execution_count": 109
        }
      ]
    },
    {
      "cell_type": "code",
      "metadata": {
        "id": "01wPJ4JV1cMn"
      },
      "source": [
        "n='José'\n",
        "i=25"
      ],
      "execution_count": null,
      "outputs": []
    },
    {
      "cell_type": "code",
      "metadata": {
        "colab": {
          "base_uri": "https://localhost:8080/",
          "height": 36
        },
        "id": "F5m6Mlh51p1-",
        "outputId": "f18ed083-3342-48db-d30c-8df883e0214b"
      },
      "source": [
        "'Você se chama {n} e tem {i} anos de idade'"
      ],
      "execution_count": null,
      "outputs": [
        {
          "output_type": "execute_result",
          "data": {
            "application/vnd.google.colaboratory.intrinsic+json": {
              "type": "string"
            },
            "text/plain": [
              "'Você se chama {n} e tem {i} anos de idade'"
            ]
          },
          "metadata": {},
          "execution_count": 111
        }
      ]
    },
    {
      "cell_type": "code",
      "metadata": {
        "colab": {
          "base_uri": "https://localhost:8080/",
          "height": 168
        },
        "id": "HWj9N0te13Cu",
        "outputId": "6c983661-2a5a-43eb-aa5d-3aec18b954d9"
      },
      "source": [
        "'Voçê se chama {n} e tem {i} anos de idade'.format(n,i)"
      ],
      "execution_count": null,
      "outputs": [
        {
          "output_type": "error",
          "ename": "KeyError",
          "evalue": "ignored",
          "traceback": [
            "\u001b[0;31m---------------------------------------------------------------------------\u001b[0m",
            "\u001b[0;31mKeyError\u001b[0m                                  Traceback (most recent call last)",
            "\u001b[0;32m<ipython-input-112-47b5096aac8d>\u001b[0m in \u001b[0;36m<module>\u001b[0;34m()\u001b[0m\n\u001b[0;32m----> 1\u001b[0;31m \u001b[0;34m'Voçê se chama {n} e tem {i} anos de idade'\u001b[0m\u001b[0;34m.\u001b[0m\u001b[0mformat\u001b[0m\u001b[0;34m(\u001b[0m\u001b[0mn\u001b[0m\u001b[0;34m,\u001b[0m\u001b[0mi\u001b[0m\u001b[0;34m)\u001b[0m\u001b[0;34m\u001b[0m\u001b[0;34m\u001b[0m\u001b[0m\n\u001b[0m",
            "\u001b[0;31mKeyError\u001b[0m: 'n'"
          ]
        }
      ]
    },
    {
      "cell_type": "code",
      "metadata": {
        "colab": {
          "base_uri": "https://localhost:8080/",
          "height": 36
        },
        "id": "kJOrJiGy197v",
        "outputId": "96c8a881-6fb3-472c-e457-096f9f67dc68"
      },
      "source": [
        "'Voçê se chama [] e tem [] anos de idade'.format(n,i)"
      ],
      "execution_count": null,
      "outputs": [
        {
          "output_type": "execute_result",
          "data": {
            "application/vnd.google.colaboratory.intrinsic+json": {
              "type": "string"
            },
            "text/plain": [
              "'Voçê se chama [] e tem [] anos de idade'"
            ]
          },
          "metadata": {},
          "execution_count": 113
        }
      ]
    },
    {
      "cell_type": "code",
      "metadata": {
        "colab": {
          "base_uri": "https://localhost:8080/",
          "height": 36
        },
        "id": "RZbnNpeI2EDe",
        "outputId": "7d6f407a-652b-4c74-f04e-a8e22710ca22"
      },
      "source": [
        "'Voçê se chama () e tem () anos de idade'.format(n,i)"
      ],
      "execution_count": null,
      "outputs": [
        {
          "output_type": "execute_result",
          "data": {
            "application/vnd.google.colaboratory.intrinsic+json": {
              "type": "string"
            },
            "text/plain": [
              "'Voçê se chama () e tem () anos de idade'"
            ]
          },
          "metadata": {},
          "execution_count": 115
        }
      ]
    },
    {
      "cell_type": "code",
      "metadata": {
        "colab": {
          "base_uri": "https://localhost:8080/"
        },
        "id": "u19t22pE2IpW",
        "outputId": "ab9a1d9c-9d70-4c7a-951a-a2d8b1bb1d19"
      },
      "source": [
        "19/2"
      ],
      "execution_count": null,
      "outputs": [
        {
          "output_type": "execute_result",
          "data": {
            "text/plain": [
              "9.5"
            ]
          },
          "metadata": {},
          "execution_count": 116
        }
      ]
    },
    {
      "cell_type": "code",
      "metadata": {
        "id": "69QkkyPs2UZm"
      },
      "source": [
        ""
      ],
      "execution_count": null,
      "outputs": []
    }
  ]
}