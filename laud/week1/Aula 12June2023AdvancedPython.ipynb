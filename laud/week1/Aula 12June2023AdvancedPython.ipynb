{
 "cells": [
  {
   "cell_type": "code",
   "execution_count": 1,
   "metadata": {},
   "outputs": [
    {
     "name": "stdout",
     "output_type": "stream",
     "text": [
      "10\n"
     ]
    }
   ],
   "source": [
    "mínimo = lambda a ,b : a if(a<b) else b\n",
    "print(mínimo(10,20))"
   ]
  },
  {
   "cell_type": "code",
   "execution_count": 2,
   "metadata": {},
   "outputs": [
    {
     "name": "stdout",
     "output_type": "stream",
     "text": [
      "5\n"
     ]
    }
   ],
   "source": [
    "mínimo = lambda a ,b : a if(a<b) else b\n",
    "print(mínimo(10,5))"
   ]
  },
  {
   "cell_type": "code",
   "execution_count": 2,
   "metadata": {},
   "outputs": [],
   "source": [
    "# c = int(input(\"a=\"))\n",
    "# d = int(input(\"b=\"))\n",
    "# y = lambda a,b : a+b\n",
    "# x = lambda k, j : k*j\n",
    "# result = (lambda c, d: print(y(c, d)) if c > d else print(x(c, d)) if c < d else (print(y(c, d)), print(x(c, d))))(c, d)"
   ]
  },
  {
   "cell_type": "code",
   "execution_count": null,
   "metadata": {},
   "outputs": [],
   "source": [
    "# y = lambda x, a, b, k, j: a+b, k*j  "
   ]
  },
  {
   "cell_type": "code",
   "execution_count": null,
   "metadata": {},
   "outputs": [],
   "source": [
    "# z = lambda c,d: if(c>d) y(c,d)"
   ]
  },
  {
   "cell_type": "code",
   "execution_count": 1,
   "metadata": {},
   "outputs": [],
   "source": [
    "if __name__=='__main__':\n",
    "    #Entradas de dados\n",
    "    c=int(input(\"a=\"))\n",
    "    d=int(input(\"b=\"))\n",
    "\n",
    "    #Funções\n",
    "    y=lambda a,b : a+b\n",
    "    x=lambda k,j : k*j\n",
    "\n",
    "    #Estrutura decisão\n",
    "    if c>d: #True\n",
    "        print(y(c,d))\n",
    "    elif c<d:\n",
    "        print(x(c,d))\n",
    "    else:\n",
    "        print(y(c,d))\n",
    "        print(x(c,d))"
   ]
  },
  {
   "cell_type": "code",
   "execution_count": 4,
   "metadata": {},
   "outputs": [],
   "source": [
    "if __name__=='__main__':\n",
    "    #Entradas de dados\n",
    "    c=int(input(\"a=\"))\n",
    "    d=int(input(\"b=\"))\n",
    "    #Funções\n",
    "    y=lambda a,b : a+b"
   ]
  },
  {
   "cell_type": "code",
   "execution_count": 2,
   "metadata": {},
   "outputs": [
    {
     "name": "stdout",
     "output_type": "stream",
     "text": [
      "45\n"
     ]
    }
   ],
   "source": [
    "c=int(input(\"a=\"))\n",
    "d=int(input(\"b=\"))\n",
    "y=lambda a,b : a+b\n",
    "x=lambda k,j : k*j # a condição é antes do if...\n",
    "result = (lambda c, d: print(y(c, d)) if c > d else print(x(c, d))if c < d else (print(y(c, d)), print(x(c, d))))(c, d)"
   ]
  },
  {
   "cell_type": "code",
   "execution_count": 3,
   "metadata": {},
   "outputs": [
    {
     "name": "stdout",
     "output_type": "stream",
     "text": [
      "Nuno\n"
     ]
    }
   ],
   "source": [
    "nome = lambda:print('Nuno')\n",
    "nome()"
   ]
  },
  {
   "cell_type": "code",
   "execution_count": 9,
   "metadata": {},
   "outputs": [
    {
     "name": "stdout",
     "output_type": "stream",
     "text": [
      "Nuno Rodrigues\n"
     ]
    }
   ],
   "source": [
    "nomecompleto = lambda nome: print(nome + ' ' + 'Rodrigues')\n",
    "nomecompleto('Nuno')"
   ]
  },
  {
   "cell_type": "code",
   "execution_count": 11,
   "metadata": {},
   "outputs": [
    {
     "data": {
      "text/plain": [
       "4"
      ]
     },
     "execution_count": 11,
     "metadata": {},
     "output_type": "execute_result"
    }
   ],
   "source": [
    "def myfunc(x, y, z):\n",
    "    result = x + y + z\n",
    "    return result\n",
    "\n",
    "\n",
    "myfunc(3,2,-1)"
   ]
  },
  {
   "cell_type": "code",
   "execution_count": 14,
   "metadata": {},
   "outputs": [
    {
     "data": {
      "text/plain": [
       "15"
      ]
     },
     "execution_count": 14,
     "metadata": {},
     "output_type": "execute_result"
    }
   ],
   "source": [
    "myfunc2 = lambda x, y, z: x + y + z\n",
    "\n",
    "myfunc2(4,5,6)"
   ]
  },
  {
   "cell_type": "code",
   "execution_count": 18,
   "metadata": {},
   "outputs": [
    {
     "name": "stdout",
     "output_type": "stream",
     "text": [
      "None\n"
     ]
    }
   ],
   "source": [
    "# second = lambda list(x,y,z): y\n",
    "a = [(1,2), (2,5), (3,1), (4,15)]\n",
    "second = a.sort(key=lambda x:x[1])\n",
    "\n",
    "print(second)"
   ]
  },
  {
   "cell_type": "code",
   "execution_count": 19,
   "metadata": {},
   "outputs": [
    {
     "data": {
      "text/plain": [
       "[1, 25, 9]"
      ]
     },
     "execution_count": 19,
     "metadata": {},
     "output_type": "execute_result"
    }
   ],
   "source": [
    "iterable = [1,5,3]\n",
    "new_list = [x*x for x in iterable]\n",
    "\n",
    "new_list"
   ]
  },
  {
   "cell_type": "code",
   "execution_count": 20,
   "metadata": {},
   "outputs": [
    {
     "data": {
      "text/plain": [
       "[0, 1, 4, 9, 16, 25, 36, 49, 64, 81]"
      ]
     },
     "execution_count": 20,
     "metadata": {},
     "output_type": "execute_result"
    }
   ],
   "source": [
    "squares = [i*i for i in range(10)]\n",
    "squares"
   ]
  },
  {
   "cell_type": "code",
   "execution_count": 22,
   "metadata": {},
   "outputs": [
    {
     "data": {
      "text/plain": [
       "[1.1772000000000002, 25.4448, 62.467200000000005, 4.9248, 7.322400000000001]"
      ]
     },
     "execution_count": 22,
     "metadata": {},
     "output_type": "execute_result"
    }
   ],
   "source": [
    "txns = [1.09, 23.56, 57.84, 4.56, 6.78]\n",
    "TAX_RATE = 0.08\n",
    "def get_price_with_tax(txn):\n",
    "    return txn * (1 + TAX_RATE)\n",
    "final_prices = [get_price_with_tax(i) for i in txns]\n",
    "final_prices"
   ]
  },
  {
   "cell_type": "code",
   "execution_count": 27,
   "metadata": {},
   "outputs": [
    {
     "name": "stdout",
     "output_type": "stream",
     "text": [
      "['h', 'r', 'c', 'k', 't', 'w', 'h', 'w', 's', 'n', 'm', 'd', 'd', 'c', 'm', 'b', 'c', 'k', 'f', 'r', 'm', 'r', 's', 'b', 'c', 's', 'h', 'm', 's', 's', 'd', 'h', 's', 'f', 'r', 'n', 'd', 's']\n"
     ]
    }
   ],
   "source": [
    "sentence = 'The rocket, who was named Ted, came back \\\n",
    "... from Mars because he missed his friends.'\n",
    "def is_consonant(letter):\n",
    "     vowels = 'aeiou'\n",
    "     return letter.isalpha() and letter.islower() and letter not in vowels # letter in sentence if letter in not vowels\n",
    "\n",
    "consonants = [i for i in sentence if is_consonant(i)] #letter) for letter in sentence\n",
    "\n",
    "print(consonants)"
   ]
  },
  {
   "cell_type": "code",
   "execution_count": 26,
   "metadata": {},
   "outputs": [
    {
     "name": "stdout",
     "output_type": "stream",
     "text": [
      "['h', 'r', 'c', 'k', 't', 'w', 'h', 'w', 's', 'n', 'm', 'd', 'd', 'c', 'm', 'b', 'c', 'k', 'f', 'r', 'm', 'r', 's', 'b', 'c', 's', 'h', 'm', 's', 's', 'd', 'h', 's', 'f', 'r', 'n', 'd', 's']\n"
     ]
    }
   ],
   "source": [
    "sentence = 'The rocket, who was named Ted, came back \\\n",
    "... from Mars because he missed his friends.'\n",
    "\n",
    "def is_consonant(letter):\n",
    "    vowels = 'aeiou'\n",
    "    return letter.isalpha() and letter.islower() and letter not in vowels\n",
    "\n",
    "consonants = [i for i in sentence if is_consonant(i)]\n",
    "\n",
    "print(consonants)\n"
   ]
  }
 ],
 "metadata": {
  "kernelspec": {
   "display_name": "Python 3",
   "language": "python",
   "name": "python3"
  },
  "language_info": {
   "codemirror_mode": {
    "name": "ipython",
    "version": 3
   },
   "file_extension": ".py",
   "mimetype": "text/x-python",
   "name": "python",
   "nbconvert_exporter": "python",
   "pygments_lexer": "ipython3",
   "version": "3.11.4"
  },
  "orig_nbformat": 4
 },
 "nbformat": 4,
 "nbformat_minor": 2
}
