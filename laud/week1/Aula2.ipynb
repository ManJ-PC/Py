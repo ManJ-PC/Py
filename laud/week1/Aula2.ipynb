{
 "cells": [
  {
   "cell_type": "code",
   "execution_count": 11,
   "metadata": {},
   "outputs": [
    {
     "name": "stdout",
     "output_type": "stream",
     "text": [
      "Parte inteira do valor num_1 14 e o valor num_2 27.4\n"
     ]
    }
   ],
   "source": [
    "num_0 = 14\n",
    "num_2 = 27.4\n",
    "print('Parte inteira do valor num_1 %d e o valor num_2 %s'%(num_1, num_2))"
   ]
  },
  {
   "cell_type": "code",
   "execution_count": 8,
   "metadata": {},
   "outputs": [
    {
     "name": "stdout",
     "output_type": "stream",
     "text": [
      "Parte inteira do valor num_1 14 e o valor num_2 27.41\n"
     ]
    }
   ],
   "source": [
    "num_1 = 14.7\n",
    "num_2 = 27.413\n",
    "print('Parte inteira do valor num_1 %i e o valor num_2 %.2f'%(num_1, num_2))"
   ]
  },
  {
   "cell_type": "code",
   "execution_count": 13,
   "metadata": {},
   "outputs": [
    {
     "name": "stdout",
     "output_type": "stream",
     "text": [
      "1110\n"
     ]
    }
   ],
   "source": [
    "print(f'{num_0:b}')"
   ]
  },
  {
   "attachments": {},
   "cell_type": "markdown",
   "metadata": {},
   "source": [
    "## o Format veio substituir os marcadores\n"
   ]
  },
  {
   "cell_type": "code",
   "execution_count": 14,
   "metadata": {},
   "outputs": [
    {
     "name": "stdout",
     "output_type": "stream",
     "text": [
      "Nesta string será colocado texto. \n"
     ]
    }
   ],
   "source": [
    "print('Nesta string será colocado {}. '.format('texto'))"
   ]
  },
  {
   "cell_type": "code",
   "execution_count": 17,
   "metadata": {},
   "outputs": [
    {
     "name": "stdout",
     "output_type": "stream",
     "text": [
      "nEsTa string SeRá colocado texto. \n"
     ]
    }
   ],
   "source": [
    "print('{} string {} colocado {}. '.format('nEsTa','SeRá','texto'))"
   ]
  },
  {
   "cell_type": "code",
   "execution_count": 18,
   "metadata": {},
   "outputs": [
    {
     "name": "stdout",
     "output_type": "stream",
     "text": [
      "texto string nEsTa colocado SeRá. \n"
     ]
    }
   ],
   "source": [
    "print('{2} string {0} colocado {1}. '.format('nEsTa','SeRá','texto'))"
   ]
  },
  {
   "cell_type": "code",
   "execution_count": 19,
   "metadata": {},
   "outputs": [
    {
     "name": "stdout",
     "output_type": "stream",
     "text": [
      "texto string texto colocado texto. \n"
     ]
    }
   ],
   "source": [
    "print('{2} string {2} colocado {2}. '.format('nEsTa','SeRá','texto'))"
   ]
  },
  {
   "cell_type": "code",
   "execution_count": 20,
   "metadata": {},
   "outputs": [
    {
     "ename": "IndexError",
     "evalue": "Replacement index 3 out of range for positional args tuple",
     "output_type": "error",
     "traceback": [
      "\u001b[1;31m---------------------------------------------------------------------------\u001b[0m",
      "\u001b[1;31mIndexError\u001b[0m                                Traceback (most recent call last)",
      "Cell \u001b[1;32mIn[20], line 1\u001b[0m\n\u001b[1;32m----> 1\u001b[0m \u001b[39mprint\u001b[39m(\u001b[39m'\u001b[39;49m\u001b[39m{2}\u001b[39;49;00m\u001b[39m string \u001b[39;49m\u001b[39m{3}\u001b[39;49;00m\u001b[39m colocado \u001b[39;49m\u001b[39m{2}\u001b[39;49;00m\u001b[39m. \u001b[39;49m\u001b[39m'\u001b[39;49m\u001b[39m.\u001b[39;49mformat(\u001b[39m'\u001b[39;49m\u001b[39mnEsTa\u001b[39;49m\u001b[39m'\u001b[39;49m,\u001b[39m'\u001b[39;49m\u001b[39mSeRá\u001b[39;49m\u001b[39m'\u001b[39;49m,\u001b[39m'\u001b[39;49m\u001b[39mtexto\u001b[39;49m\u001b[39m'\u001b[39;49m))\n",
      "\u001b[1;31mIndexError\u001b[0m: Replacement index 3 out of range for positional args tuple"
     ]
    }
   ],
   "source": [
    "print('{2} string {3} colocado {2}. '.format('nEsTa','SeRá','texto'))"
   ]
  },
  {
   "cell_type": "code",
   "execution_count": 33,
   "metadata": {},
   "outputs": [
    {
     "name": "stdout",
     "output_type": "stream",
     "text": [
      "10 string 20 colocado 20. \n",
      "Primeiro: 10; Segundo 20, Terceiro 30.\n",
      "10 + 20 = 40\n"
     ]
    }
   ],
   "source": [
    "print('{a} string {b} colocado {b}. '.format(a = 10, b = 20, c = 30))\n",
    "\n",
    "print('Primeiro: {0}; Segundo {1}, Terceiro {2}.'.format(a, b, c))\n",
    "c = a+b\n",
    "print('{0} + {1} = {2}'.format( a, b, c))"
   ]
  },
  {
   "cell_type": "code",
   "execution_count": 34,
   "metadata": {},
   "outputs": [
    {
     "name": "stdout",
     "output_type": "stream",
     "text": [
      "Nome             | Idade\n",
      "Pedro            |  30\n",
      "Carlos           | 35   \n",
      "Francisco        | 40\n"
     ]
    }
   ],
   "source": [
    "print('{0:16} | {1:5}'.format('Nome','Idade'))\n",
    "print('{0:16} | {1:3}'.format('Pedro', 30)) # no inteiro assume o número como avanço\n",
    "print('{0:16} | {1:5}'.format('Carlos','35'))\n",
    "print('{0:16} | {1:0}'.format('Francisco','40'))"
   ]
  },
  {
   "cell_type": "code",
   "execution_count": 35,
   "metadata": {},
   "outputs": [
    {
     "name": "stdout",
     "output_type": "stream",
     "text": [
      "Nome             | Idade\n",
      "Pedro            | 30.5\n",
      "Carlos           | 35   \n",
      "Francisco        | 40\n"
     ]
    }
   ],
   "source": [
    "print('{0:16} | {1:5}'.format('Nome','Idade'))\n",
    "print('{0:16} | {1:3}'.format('Pedro', 30.5)) # no inteiro assume o número como avanço\n",
    "print('{0:16} | {1:5}'.format('Carlos','35'))\n",
    "print('{0:16} | {1:0}'.format('Francisco','40'))"
   ]
  },
  {
   "cell_type": "code",
   "execution_count": 61,
   "metadata": {},
   "outputs": [
    {
     "name": "stdout",
     "output_type": "stream",
     "text": [
      "Nome             | Idade\n",
      "Pedro            | 30\n",
      "Carlos           | 35   \n",
      "Francisco        | 40\n"
     ]
    }
   ],
   "source": [
    "print('{0:16} | {1:5}'.format('Nome','Idade'))\n",
    "print('{0:16} | {1:.0f}'.format('Pedro', 30.5)) # no inteiro assume o número como avanço, https://www.tribunaalentejo.pt/artigos/as-voltas-com-os-arredondamentos\n",
    "print('{0:16} | {1:5}'.format('Carlos','35'))\n",
    "print('{0:16} | {1:0}'.format('Francisco','40'))"
   ]
  },
  {
   "cell_type": "code",
   "execution_count": null,
   "metadata": {},
   "outputs": [],
   "source": [
    "a = 0\n",
    "if a:\n",
    "    print(a)"
   ]
  }
 ],
 "metadata": {
  "kernelspec": {
   "display_name": "Python 3",
   "language": "python",
   "name": "python3"
  },
  "language_info": {
   "codemirror_mode": {
    "name": "ipython",
    "version": 3
   },
   "file_extension": ".py",
   "mimetype": "text/x-python",
   "name": "python",
   "nbconvert_exporter": "python",
   "pygments_lexer": "ipython3",
   "version": "3.11.4"
  },
  "orig_nbformat": 4
 },
 "nbformat": 4,
 "nbformat_minor": 2
}
