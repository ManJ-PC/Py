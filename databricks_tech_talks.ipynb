{
  "nbformat": 4,
  "nbformat_minor": 0,
  "metadata": {
    "colab": {
      "name": "databricks / tech-talks.ipynb",
      "provenance": [],
      "authorship_tag": "ABX9TyOGhczg0cfU3c1BH9CEckyo",
      "include_colab_link": true
    },
    "kernelspec": {
      "name": "python3",
      "display_name": "Python 3"
    },
    "language_info": {
      "name": "python"
    }
  },
  "cells": [
    {
      "cell_type": "markdown",
      "metadata": {
        "id": "view-in-github",
        "colab_type": "text"
      },
      "source": [
        "<a href=\"https://colab.research.google.com/github/ManJ-PC/Py/blob/master/databricks_tech_talks.ipynb\" target=\"_parent\"><img src=\"https://colab.research.google.com/assets/colab-badge.svg\" alt=\"Open In Colab\"/></a>"
      ]
    },
    {
      "cell_type": "markdown",
      "source": [
        "**1) Numbers: Using Python as your calculator!**"
      ],
      "metadata": {
        "id": "itk81P2lra53"
      }
    },
    {
      "cell_type": "code",
      "source": [
        "# Hit the run button, or shift + enter\n",
        "1+1"
      ],
      "metadata": {
        "colab": {
          "base_uri": "https://localhost:8080/"
        },
        "id": "Qi5y2gFGreAJ",
        "outputId": "b1fd5e7b-3d91-47db-fd67-a0fd5c8c6e3f"
      },
      "execution_count": 2,
      "outputs": [
        {
          "output_type": "execute_result",
          "data": {
            "text/plain": [
              "2"
            ]
          },
          "metadata": {},
          "execution_count": 2
        }
      ]
    },
    {
      "cell_type": "markdown",
      "source": [
        "**2) Strings**\n",
        "\n"
      ],
      "metadata": {
        "id": "2jFD4GHlrtVo"
      }
    },
    {
      "cell_type": "code",
      "execution_count": 3,
      "metadata": {
        "colab": {
          "base_uri": "https://localhost:8080/",
          "height": 35
        },
        "id": "rueJkfHvrOBe",
        "outputId": "6cc78452-083d-425e-86dd-2abac079d407"
      },
      "outputs": [
        {
          "output_type": "execute_result",
          "data": {
            "application/vnd.google.colaboratory.intrinsic+json": {
              "type": "string"
            },
            "text/plain": [
              "'Ice cream'"
            ]
          },
          "metadata": {},
          "execution_count": 3
        }
      ],
      "source": [
        "'Ice cream'"
      ]
    },
    {
      "cell_type": "code",
      "source": [
        "'Ice cream' + \" is paradise\"\n",
        "#  Ice cream is paradise #ctrl + shift + / uncomment False"
      ],
      "metadata": {
        "colab": {
          "base_uri": "https://localhost:8080/",
          "height": 35
        },
        "id": "EGqT79JorUBG",
        "outputId": "6fccc65f-184d-47c9-d728-6e6e0a92210c"
      },
      "execution_count": 9,
      "outputs": [
        {
          "output_type": "execute_result",
          "data": {
            "application/vnd.google.colaboratory.intrinsic+json": {
              "type": "string"
            },
            "text/plain": [
              "'Ice cream is paradise'"
            ]
          },
          "metadata": {},
          "execution_count": 9
        }
      ]
    },
    {
      "cell_type": "markdown",
      "source": [
        "**3) Variables**\n",
        "As Shakespeare famously wrote: 'A rose by any other name would smell as sweet'. A variable in Python simply holds a value - you can call it any name you want (within reason...)!\n",
        "\n"
      ],
      "metadata": {
        "id": "BizjV7nbrX2i"
      }
    },
    {
      "cell_type": "markdown",
      "source": [
        "[I like ice cream](https://) False"
      ],
      "metadata": {
        "id": "KLQt254Os1aI"
      }
    },
    {
      "cell_type": "code",
      "source": [
        "#I like ice cream True"
      ],
      "metadata": {
        "colab": {
          "base_uri": "https://localhost:8080/",
          "height": 132
        },
        "id": "qKr7R4kisQtS",
        "outputId": "0ba03a42-8355-42a1-eea4-256345634996"
      },
      "execution_count": 10,
      "outputs": [
        {
          "output_type": "error",
          "ename": "SyntaxError",
          "evalue": "ignored",
          "traceback": [
            "\u001b[0;36m  File \u001b[0;32m\"<ipython-input-10-8510636f6730>\"\u001b[0;36m, line \u001b[0;32m1\u001b[0m\n\u001b[0;31m    I like ice cream\u001b[0m\n\u001b[0m         ^\u001b[0m\n\u001b[0;31mSyntaxError\u001b[0m\u001b[0;31m:\u001b[0m invalid syntax\n"
          ]
        }
      ]
    },
    {
      "cell_type": "code",
      "source": [
        "best food = \"Ice cream\"\n",
        "# best_food = \"pizza\"\n",
        "best_food"
      ],
      "metadata": {
        "colab": {
          "base_uri": "https://localhost:8080/",
          "height": 132
        },
        "id": "CkswTfRWuabC",
        "outputId": "84d68e65-bd36-4457-da22-9be963abd27c"
      },
      "execution_count": 11,
      "outputs": [
        {
          "output_type": "error",
          "ename": "SyntaxError",
          "evalue": "ignored",
          "traceback": [
            "\u001b[0;36m  File \u001b[0;32m\"<ipython-input-11-e3c3d3dd04c3>\"\u001b[0;36m, line \u001b[0;32m1\u001b[0m\n\u001b[0;31m    best food = \"Ice cream\"\u001b[0m\n\u001b[0m            ^\u001b[0m\n\u001b[0;31mSyntaxError\u001b[0m\u001b[0;31m:\u001b[0m invalid syntax\n"
          ]
        }
      ]
    },
    {
      "cell_type": "code",
      "source": [
        ""
      ],
      "metadata": {
        "id": "c5QrRnhfuuYy"
      },
      "execution_count": null,
      "outputs": []
    }
  ]
}