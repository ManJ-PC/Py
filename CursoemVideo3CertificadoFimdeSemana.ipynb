{
  "nbformat": 4,
  "nbformat_minor": 0,
  "metadata": {
    "colab": {
      "name": "CursoemVideo3CertificadoFimdeSemana.ipynb",
      "provenance": [],
      "authorship_tag": "ABX9TyPBJKXc67eYoOlSjRxv2qEk",
      "include_colab_link": true
    },
    "kernelspec": {
      "name": "python3",
      "display_name": "Python 3"
    },
    "language_info": {
      "name": "python"
    }
  },
  "cells": [
    {
      "cell_type": "markdown",
      "metadata": {
        "id": "view-in-github",
        "colab_type": "text"
      },
      "source": [
        "<a href=\"https://colab.research.google.com/github/ManJ-PC/Py/blob/master/CursoemVideo3CertificadoFimdeSemana.ipynb\" target=\"_parent\"><img src=\"https://colab.research.google.com/assets/colab-badge.svg\" alt=\"Open In Colab\"/></a>"
      ]
    },
    {
      "cell_type": "code",
      "source": [
        "signup = {'name': '', 'gender': '', 'age': ''}\n",
        "people = []\n",
        "women = []\n",
        "oldpeople = []\n",
        "oldpeople2 = []\n",
        "adelante = ''\n",
        "agesum = 0\n",
        "while True:\n",
        "  signup['name'] = str(input('Say person name: '))\n",
        "  signup['gender'] = str(input('Say person gender: ').strip().upper()[0]) # Corrigido gralha no comentário abaixo ...\n",
        "  while signup['gender'] not in 'MF':#'MmFf':   # Muito limitante ..., pois só aceita a 1 letra do Sexo... alterar\n",
        "    signup['gender'] = str(input('We only consider gender: [F/M] ... : ').strip().upper()[0])   # No final de contas, ele poêm uma claúsula que corta no [0] pois na solução só aceita aquilo que estava a fazzr antes. ou seja era equivalente... DAMN!\n",
        "  signup['age'] = int(input('Say your age: '))\n",
        "  while signup['age'] < 0:\n",
        "    signup['age'] = int(input('Age cannot be negative, say a positive number with the years: '))\n",
        "  agesum += signup['age']\n",
        "  people.append(signup.copy())\n",
        "  if signup['gender'].strip().upper() in 'F':\n",
        "    women.append(signup['name'])\n",
        "    #women.append(signup.copy())\n",
        "  #signup.clear()\n",
        "  adelante = str(input('Did you want continue to sign up person? :'))\n",
        "  if adelante in 'Nn':\n",
        "    break\n",
        "print('-='*30)\n",
        "print(f\" People signup was {len(people)}\")\n",
        "print(f\" Age mean is {agesum/len(people)}\")\n",
        "print(f\" Women are : {women}\")\n",
        "\n",
        "\n",
        "for person in people:\n",
        "  if person['age'] > (agesum/len(people)):\n",
        "    oldpeople.append(person['name'])\n",
        "    #or\n",
        "    oldpeople2.append(person)\n",
        "print(f\" Person with more that mean age is {oldpeople}\\n or person are: {oldpeople}\")\n",
        "print(\"<< END >>\")"
      ],
      "metadata": {
        "colab": {
          "base_uri": "https://localhost:8080/",
          "height": 398
        },
        "id": "nMMHdcrFiiGH",
        "outputId": "fc256c6c-c1de-4fc0-acca-ec5e6b9f1339"
      },
      "execution_count": 8,
      "outputs": [
        {
          "name": "stdout",
          "output_type": "stream",
          "text": [
            "Say your age: 77\n"
          ]
        },
        {
          "output_type": "error",
          "ename": "KeyboardInterrupt",
          "evalue": "ignored",
          "traceback": [
            "\u001b[0;31m---------------------------------------------------------------------------\u001b[0m",
            "\u001b[0;31mKeyboardInterrupt\u001b[0m                         Traceback (most recent call last)",
            "\u001b[0;32m<ipython-input-8-30d95a1d063b>\u001b[0m in \u001b[0;36m<module>\u001b[0;34m\u001b[0m\n\u001b[1;32m     20\u001b[0m     \u001b[0;31m#women.append(signup.copy())\u001b[0m\u001b[0;34m\u001b[0m\u001b[0;34m\u001b[0m\u001b[0;34m\u001b[0m\u001b[0m\n\u001b[1;32m     21\u001b[0m   \u001b[0;31m#signup.clear()\u001b[0m\u001b[0;34m\u001b[0m\u001b[0;34m\u001b[0m\u001b[0;34m\u001b[0m\u001b[0m\n\u001b[0;32m---> 22\u001b[0;31m   \u001b[0madelante\u001b[0m \u001b[0;34m=\u001b[0m \u001b[0mstr\u001b[0m\u001b[0;34m(\u001b[0m\u001b[0minput\u001b[0m\u001b[0;34m(\u001b[0m\u001b[0;34m'Did you want continue to sign up person? :'\u001b[0m\u001b[0;34m)\u001b[0m\u001b[0;34m)\u001b[0m\u001b[0;34m\u001b[0m\u001b[0;34m\u001b[0m\u001b[0m\n\u001b[0m\u001b[1;32m     23\u001b[0m   \u001b[0;32mif\u001b[0m \u001b[0madelante\u001b[0m \u001b[0;32min\u001b[0m \u001b[0;34m'Nn'\u001b[0m\u001b[0;34m:\u001b[0m\u001b[0;34m\u001b[0m\u001b[0;34m\u001b[0m\u001b[0m\n\u001b[1;32m     24\u001b[0m     \u001b[0;32mbreak\u001b[0m\u001b[0;34m\u001b[0m\u001b[0;34m\u001b[0m\u001b[0m\n",
            "\u001b[0;32m/usr/local/lib/python3.7/dist-packages/ipykernel/kernelbase.py\u001b[0m in \u001b[0;36mraw_input\u001b[0;34m(self, prompt)\u001b[0m\n\u001b[1;32m    861\u001b[0m             \u001b[0mself\u001b[0m\u001b[0;34m.\u001b[0m\u001b[0m_parent_ident\u001b[0m\u001b[0;34m,\u001b[0m\u001b[0;34m\u001b[0m\u001b[0;34m\u001b[0m\u001b[0m\n\u001b[1;32m    862\u001b[0m             \u001b[0mself\u001b[0m\u001b[0;34m.\u001b[0m\u001b[0m_parent_header\u001b[0m\u001b[0;34m,\u001b[0m\u001b[0;34m\u001b[0m\u001b[0;34m\u001b[0m\u001b[0m\n\u001b[0;32m--> 863\u001b[0;31m             \u001b[0mpassword\u001b[0m\u001b[0;34m=\u001b[0m\u001b[0;32mFalse\u001b[0m\u001b[0;34m,\u001b[0m\u001b[0;34m\u001b[0m\u001b[0;34m\u001b[0m\u001b[0m\n\u001b[0m\u001b[1;32m    864\u001b[0m         )\n\u001b[1;32m    865\u001b[0m \u001b[0;34m\u001b[0m\u001b[0m\n",
            "\u001b[0;32m/usr/local/lib/python3.7/dist-packages/ipykernel/kernelbase.py\u001b[0m in \u001b[0;36m_input_request\u001b[0;34m(self, prompt, ident, parent, password)\u001b[0m\n\u001b[1;32m    902\u001b[0m             \u001b[0;32mexcept\u001b[0m \u001b[0mKeyboardInterrupt\u001b[0m\u001b[0;34m:\u001b[0m\u001b[0;34m\u001b[0m\u001b[0;34m\u001b[0m\u001b[0m\n\u001b[1;32m    903\u001b[0m                 \u001b[0;31m# re-raise KeyboardInterrupt, to truncate traceback\u001b[0m\u001b[0;34m\u001b[0m\u001b[0;34m\u001b[0m\u001b[0;34m\u001b[0m\u001b[0m\n\u001b[0;32m--> 904\u001b[0;31m                 \u001b[0;32mraise\u001b[0m \u001b[0mKeyboardInterrupt\u001b[0m\u001b[0;34m(\u001b[0m\u001b[0;34m\"Interrupted by user\"\u001b[0m\u001b[0;34m)\u001b[0m \u001b[0;32mfrom\u001b[0m \u001b[0;32mNone\u001b[0m\u001b[0;34m\u001b[0m\u001b[0;34m\u001b[0m\u001b[0m\n\u001b[0m\u001b[1;32m    905\u001b[0m             \u001b[0;32mexcept\u001b[0m \u001b[0mException\u001b[0m \u001b[0;32mas\u001b[0m \u001b[0me\u001b[0m\u001b[0;34m:\u001b[0m\u001b[0;34m\u001b[0m\u001b[0;34m\u001b[0m\u001b[0m\n\u001b[1;32m    906\u001b[0m                 \u001b[0mself\u001b[0m\u001b[0;34m.\u001b[0m\u001b[0mlog\u001b[0m\u001b[0;34m.\u001b[0m\u001b[0mwarning\u001b[0m\u001b[0;34m(\u001b[0m\u001b[0;34m\"Invalid Message:\"\u001b[0m\u001b[0;34m,\u001b[0m \u001b[0mexc_info\u001b[0m\u001b[0;34m=\u001b[0m\u001b[0;32mTrue\u001b[0m\u001b[0;34m)\u001b[0m\u001b[0;34m\u001b[0m\u001b[0;34m\u001b[0m\u001b[0m\n",
            "\u001b[0;31mKeyboardInterrupt\u001b[0m: Interrupted by user"
          ]
        }
      ]
    },
    {
      "cell_type": "code",
      "execution_count": 15,
      "metadata": {
        "colab": {
          "base_uri": "https://localhost:8080/"
        },
        "id": "lXDJySE2gWCz",
        "outputId": "685600ff-a31f-474f-ec22-ddc2b3202501"
      },
      "outputs": [
        {
          "output_type": "stream",
          "name": "stdout",
          "text": [
            "   \n",
            "nome = Alvaro; sexo = M; idade = 29; \n",
            " << ENCERRADO >>\n"
          ]
        }
      ],
      "source": [
        "# Solution 94 GG\n",
        "\n",
        "# Validação de dados e coisas mais complexas ...\n",
        "# Fazer com ajuda etc ... mas fazer é o mais importante!\n",
        "\n",
        "#Lista de dicionários ...\n",
        "\n",
        "galera = list()\n",
        "pessoa = dict() # não define/inicializa as keys logo no início, e fica pela ordem que declara as keys ordenadas no dicionario\n",
        "média = soma = 0\n",
        "while True: # a leitura de dados vai estar dentro de um while\n",
        "  # pessoa.clear()\n",
        "  pessoa['nome'] = str(input('Nome: ')) # igual.. \n",
        "  while True: #validação bonita\n",
        "    pessoa['sexo'] = str(input('Sexo: [M/F] ')).upper()[0] # faz o ciclo ao contrário.... lol, quando é sai e deixa de perguntar!\n",
        "    if pessoa['sexo'] in 'MF': # Validaç\\ao dupla\n",
        "      break\n",
        "    print('ERRO! Por favor, digite apenas M ou F.')\n",
        "  pessoa['idade'] = int(input('Idade: '))\n",
        "  soma += pessoa['idade']\n",
        "  galera.append(pessoa.copy())\n",
        "  while True:\n",
        "    resp = str(input('Quer continuar? [S/N] ')).upper()[0]\n",
        "    if resp in 'SN': # Beleza destes ciclos , faz lembrar-me a pergunta que fiz à Carolina! Noite Branca em Braga!\n",
        "      break\n",
        "    print('ERRO! Responda apenas S ou N.')\n",
        "  if resp == 'N':\n",
        "    break # e leva dois break's seguidos para sair de ambos/todos os ciclos e terminar o programa de festas!\n",
        "print('-=' * 30)\n",
        "print(f'A) Ao todo temos {len(galera)} pessoas cadastradas.') #A\n",
        "média = soma / len(galera)\n",
        "print(f'B) A média de idade é de {média:5.2f} anos.') #B\n",
        "print(f'C) As mulheres cadastradas foram ', end='') #C\n",
        "for p in galera:\n",
        "  if p['sexo'] in 'Ff': # não criou nova lista ....\n",
        "    print(f'{p[\"nome\"]} ', end='')\n",
        "print()\n",
        "print('D) Lista das pessoas que estão acima da média: ')\n",
        "for p in galera:\n",
        "  if p['idade'] >= média: #mais dados que a idade das pessoas\n",
        "    print('   ')\n",
        "    for k, v, in p.items():\n",
        "      print(f'{k} = {v}; ', end='')\n",
        "    print()\n",
        "print(' << ENCERRADO >>')\n",
        "# print(galera)\n",
        "# print(pessoa)"
      ]
    },
    {
      "cell_type": "code",
      "source": [
        "dir(dict)"
      ],
      "metadata": {
        "colab": {
          "base_uri": "https://localhost:8080/"
        },
        "id": "_p18tfRPGvi7",
        "outputId": "bba3ac07-4017-4989-c94b-824a32d662ff"
      },
      "execution_count": 7,
      "outputs": [
        {
          "output_type": "execute_result",
          "data": {
            "text/plain": [
              "['__class__',\n",
              " '__contains__',\n",
              " '__delattr__',\n",
              " '__delitem__',\n",
              " '__dir__',\n",
              " '__doc__',\n",
              " '__eq__',\n",
              " '__format__',\n",
              " '__ge__',\n",
              " '__getattribute__',\n",
              " '__getitem__',\n",
              " '__gt__',\n",
              " '__hash__',\n",
              " '__init__',\n",
              " '__init_subclass__',\n",
              " '__iter__',\n",
              " '__le__',\n",
              " '__len__',\n",
              " '__lt__',\n",
              " '__ne__',\n",
              " '__new__',\n",
              " '__reduce__',\n",
              " '__reduce_ex__',\n",
              " '__repr__',\n",
              " '__setattr__',\n",
              " '__setitem__',\n",
              " '__sizeof__',\n",
              " '__str__',\n",
              " '__subclasshook__',\n",
              " 'clear',\n",
              " 'copy',\n",
              " 'fromkeys',\n",
              " 'get',\n",
              " 'items',\n",
              " 'keys',\n",
              " 'pop',\n",
              " 'popitem',\n",
              " 'setdefault',\n",
              " 'update',\n",
              " 'values']"
            ]
          },
          "metadata": {},
          "execution_count": 7
        }
      ]
    },
    {
      "cell_type": "code",
      "source": [
        "# number of ...matches could obtained for len(goalList)\n",
        "squad = []\n",
        "\n",
        "soccerPl = {'nameSP': '', 'goalsbyGame':[], 'totalGoals': '', 'numMatches': ''} # name by input, goalsbygame append list, totalGoals cyclecounter and numMatches <- imply to obtain a len() function by a list (implícita de outra variável)\n",
        "\n",
        "#nextOne = ''\n",
        "\n",
        "while True:\n",
        "  soccerPl['nameSP'] = str(input(' Say soccerPlayer name? :  '))\n",
        "  soccerPl['numMatches'] = int(input(' Say number of matches played? : ')) # vai derivar o número de chaves antes assim, devia por num varíável isolada.., pois consegue ser obtida a partir do len() da lista\n",
        "  totalGoals = 0\n",
        "  #soccerPl['goalsbyGame'].clear()\n",
        "  for i in range(0, soccerPl['numMatches']):\n",
        "    print(f'Number of goals scored in match {i} :')\n",
        "    soccerPl['goalsbyGame'].append(int(input(''))) # o erro está aqui, tenho de manter a lista separada, à parte da entrada/campo/key goalsbyGame do dicionário!\n",
        "    totalGoals += soccerPl['goalsbyGame'][i]\n",
        "    \n",
        "  soccerPl['totalGoals'] = totalGoals\n",
        "  squad.append(soccerPl.copy())\n",
        "  print('-=' * 25)\n",
        "  nextOne = str(input('Do you want add more player to the squad? ')).strip().upper()\n",
        "  if nextOne == 'N':\n",
        "    break\n",
        "\n",
        "print('The Squad player data ...')\n",
        "print(f\"{'No.':^5}  {'name':^9}  {'goals by match':<16} {'totalGoals':<12}  {'numMatches':<15} \")\n",
        "# for i in range(0,len(squad)):\n",
        "#   #for squad[i] in range (0squad\n",
        "#   print(f\"{i+1:^5}  {squad[i]['nameSP']:^9}  {squad[i]['goalsbyGame']:<16} {squad[i]['totalGoals']:<12}  {squad[i]['numMatches']:<15} \")\n",
        "i = 0\n",
        "gambiarra = 0\n",
        "for player in squad:\n",
        "  if gambiarra == 0:\n",
        "    print(f\"{i+1:^5} {player['nameSP']:^13}   {(player['goalsbyGame'])[:player['numMatches']]}          {player['totalGoals']:<12} {player['numMatches']:<15} \")\n",
        "    #5print(\"{:^5}\".format(i+1))\n",
        "  else:\n",
        "    print(f\"{i+1:^5} {player['nameSP']:^13}   {(player['goalsbyGame'])[gambiarra:]}         {player['totalGoals']:<12}  {player['numMatches']:<15} \")\n",
        "  #player['goalsbyGame']=[]\n",
        "  gambiarra += player['numMatches']\n",
        "  i += 1\n",
        "  \n",
        "print('-=' * 30)\n",
        "while True:\n",
        "  choice = int(input('Say the number of player that you want to know more details: '))\n",
        "  print(squad[choice])\n",
        "  #for player in squad:\n",
        "  print(f\"Name is [{(squad[choice])['nameSP']}]\")\n",
        "  print(f\"The scoring in games was: {soccerPl['goalsbyGame']}.\")\n",
        "  print(f\"Total goals in season until now is: {soccerPl['totalGoals']}.\")\n",
        "\n",
        "  print('-='*25)\n",
        "\n",
        "print(f\"{soccerPl['nameSP']} plays {soccerPl['numMatches']} match.\")\n",
        "for j in range(0, len(soccerPl['goalsbyGame'])):\n",
        "  print(f\"=> In match {j}, scored {soccerPl['goalsbyGame'][j]} goals.\")"
      ],
      "metadata": {
        "colab": {
          "base_uri": "https://localhost:8080/"
        },
        "id": "sN4Hyx4wsqcM",
        "outputId": "afd58a24-32d2-4168-f29e-81439e99dc10"
      },
      "execution_count": null,
      "outputs": [
        {
          "metadata": {
            "tags": null
          },
          "name": "stdout",
          "output_type": "stream",
          "text": [
            "Number of goals scored in match 0 :\n",
            "Number of goals scored in match 1 :\n",
            "-=-=-=-=-=-=-=-=-=-=-=-=-=-=-=-=-=-=-=-=-=-=-=-=-=\n",
            "Number of goals scored in match 0 :\n",
            "Number of goals scored in match 1 :\n",
            "Number of goals scored in match 2 :\n",
            "-=-=-=-=-=-=-=-=-=-=-=-=-=-=-=-=-=-=-=-=-=-=-=-=-=\n",
            "Number of goals scored in match 0 :\n",
            "Number of goals scored in match 1 :\n",
            "Number of goals scored in match 2 :\n",
            "Number of goals scored in match 3 :\n",
            "Number of goals scored in match 4 :\n",
            "-=-=-=-=-=-=-=-=-=-=-=-=-=-=-=-=-=-=-=-=-=-=-=-=-=\n",
            "Number of goals scored in match 0 :\n",
            "-=-=-=-=-=-=-=-=-=-=-=-=-=-=-=-=-=-=-=-=-=-=-=-=-=\n",
            "The Squad player data ...\n",
            " No.     name     goals by match   totalGoals    numMatches      \n",
            "  1       Hugo        [4]          3            2               \n",
            "  2       Julio       []         7             3               \n",
            "  3         1         []         13            5               \n",
            "  4    depois do 1    []         4             1               \n",
            "-=-=-=-=-=-=-=-=-=-=-=-=-=-=-=-=-=-=-=-=-=-=-=-=-=-=-=-=-=-=\n"
          ]
        }
      ]
    },
    {
      "cell_type": "code",
      "source": [
        "rlo"
      ],
      "metadata": {
        "id": "Y3YFpKBgwEvh"
      },
      "execution_count": null,
      "outputs": []
    },
    {
      "cell_type": "code",
      "source": [
        "# Solution by Gustavo Guanabará\n",
        "team = list() # nova listateam\n",
        "\n",
        "jogador = dict()\n",
        "#partidas = list() # não quero/posso ter relação entre lista, declaração tem de ser separada\n",
        "\n",
        "while True:\n",
        "  #jogador.clear()\n",
        "  # leio os dados do jogador e jogo eles para dentro...\n",
        "  jogador['nome'] = str(input('Nome do Jogador: '))\n",
        "  tot = int(input(f'Quantas partidas {jogador[\"nome\"]} jogou? ')) # He doesn't save in dict\n",
        "  partidas = []  # repor a 0\n",
        "  for c in range(0, tot):\n",
        "    partidas.append(int(input(f'  Quantos gols na partida{c+1}? ')))\n",
        "  jogador['gols'] = partidas[:]\n",
        "  jogador['total']= sum(partidas)\n",
        "  team.append(jogador.copy())\n",
        "  while True:\n",
        "    resp = str(input('Quer continuar? [S/N] ')).upper()[0]\n",
        "    if resp in 'SN':\n",
        "      break\n",
        "    print('ERRO! Responda apenas S ou N.')\n",
        "  if resp == 'N':\n",
        "    break\n",
        "print('-=' * 30)\n",
        "print(' cod ', end='')\n",
        "for i in jogador.keys():\n",
        "  print(f'{i:<15}', end='')\n",
        "print()\n",
        "print('-' * 40)\n",
        "for k, v in enumerate(team):\n",
        "  print(f'{k:>4} ', end = '')\n",
        "  for d in v.values():\n",
        "    print(f'{str(d):<15}', end=' ')\n",
        "  print()\n",
        "print('-' * 40)\n",
        "while True:\n",
        "  busca = int(input('Mostrar dados de qual jogador? (999 para parar) '))\n",
        "  if busca == 999:\n",
        "    break\n",
        "  if busca >= len(team):\n",
        "    print(f'Erro! Não existe jogador com código {busca}!')\n",
        "  else:\n",
        "    print(f' -- LEVANTAMENTO DO JOGADOR {team[busca][\"nome\"]}:')\n",
        "    for i, g in enumerate(team[busca]['gols']): #dentro da lista, então é um enumerate..!c  \n",
        "      print(f'   No jogo {i+1} fez {g} gols.') # a gente se acomodou no anterior... as partidas estavam a começar em 0\n",
        "  print('-' * 40)\n",
        "#print('<< VOLTE SEMPRE >>')                                                                                                                                                                                                                                                                                                                                                                                                                                                                                                                                                                                                                                                                                                                                                                                                                                                                                                                                                                                                                                                                                                                                                                                                                                                                                                                                                                                                                                                                                                                                                                                                                                                                                                                                                                                                                                                                                                                                                                                                                                                                                                                                                                                                                    u\n",
        "# print('-='*30)\n",
        "# print(jogador)\n",
        "# print('-=' * 30)\n",
        "  # for d in v.values():\n",
        "  #   print(f'{str(d):<15}', end=' ')\n",
        "  # print()\n",
        "  # print('-' * 40)\n",
        "# print('-='*30)\n",
        "# print(jogador)\n",
        "# print('-=' * 30)\n",
        "# for k, v in jogador.items():\n",
        "#   print(f'O campo {k} tem o valor {v}')\n",
        "\n",
        "# print('-=' * 30)\n",
        "# print(f'O jogador {jogador[\"nome\"]} jogou {len(jogador[\"gols\"])} partidas.')\n",
        "# for i, v in enumerate(jogador['gols']):\n",
        "#   print(f'  => Na partida {i}, fez {v} gols.')\n",
        "# print(f'Foi um total de {jogador[\"total\"]} gols.')\n",
        "\n",
        "print(' << VOLTE SEMPRE >> ')\n",
        "# ## Agora o que quero, é que ... quer continuar,... se quer cadastrar mais um jogador... numa lista, dicionário dentro de uma lista com vários dict/jogadores...\n",
        "\n"
      ],
      "metadata": {
        "colab": {
          "base_uri": "https://localhost:8080/"
        },
        "id": "iDE2Am20s1i9",
        "outputId": "58ec6c12-c158-46c8-b15e-2c8af44311f3"
      },
      "execution_count": 1,
      "outputs": [
        {
          "output_type": "stream",
          "name": "stdout",
          "text": [
            "Nome do Jogador: zeze\n",
            "Quantas partidas zeze jogou? 5\n",
            "  Quantos gols na partida1? 9\n",
            "  Quantos gols na partida2? 6\n",
            "  Quantos gols na partida3? 7\n",
            "  Quantos gols na partida4? 7\n",
            "  Quantos gols na partida5? 8\n",
            "Quer continuar? [S/N] 3\n",
            "ERRO! Responda apenas S ou N.\n",
            "Quer continuar? [S/N] s\n",
            "Nome do Jogador: Nelo\n",
            "Quantas partidas Nelo jogou? 4\n",
            "  Quantos gols na partida1? 3\n",
            "  Quantos gols na partida2? 2\n",
            "  Quantos gols na partida3? 1\n",
            "  Quantos gols na partida4? 1\n",
            "Quer continuar? [S/N] n\n",
            "-=-=-=-=-=-=-=-=-=-=-=-=-=-=-=-=-=-=-=-=-=-=-=-=-=-=-=-=-=-=\n",
            " cod nome           gols           total          \n",
            "----------------------------------------\n",
            "   0 zeze            [9, 6, 7, 7, 8] 37              \n",
            "   1 Nelo            [3, 2, 1, 1]    7               \n",
            "----------------------------------------\n",
            "Mostrar dados de qual jogador? (999 para parar) 1\n",
            " -- LEVANTAMENTO DO JOGADOR Nelo:\n",
            "   No jogo 1 fez 3 gols.\n",
            "   No jogo 2 fez 2 gols.\n",
            "   No jogo 3 fez 1 gols.\n",
            "   No jogo 4 fez 1 gols.\n",
            "----------------------------------------\n",
            "Mostrar dados de qual jogador? (999 para parar) 999\n",
            " << VOLTE SEMPRE >> \n"
          ]
        }
      ]
    },
    {
      "cell_type": "code",
      "source": [
        "partidas\n",
        "jogador['gols']"
      ],
      "metadata": {
        "colab": {
          "base_uri": "https://localhost:8080/"
        },
        "id": "08ri3vioC940",
        "outputId": "cb87cc35-c65c-453f-8a5b-dca48b21be2f"
      },
      "execution_count": 3,
      "outputs": [
        {
          "output_type": "execute_result",
          "data": {
            "text/plain": [
              "[3, 2, 1, 1]"
            ]
          },
          "metadata": {},
          "execution_count": 3
        }
      ]
    },
    {
      "cell_type": "markdown",
      "source": [
        "# New Section"
      ],
      "metadata": {
        "id": "SQSb3iCUUi8O"
      }
    }
  ]
}