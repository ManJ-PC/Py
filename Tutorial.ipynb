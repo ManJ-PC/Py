{
  "cells": [
    {
      "cell_type": "markdown",
      "metadata": {
        "id": "7E-zKp2XcsP8"
      },
      "source": [
        "![rmotr](https://user-images.githubusercontent.com/7065401/52071918-bda15380-2562-11e9-828c-7f95297e4a82.png)\n",
        "<hr style=\"margin-bottom: 40px;\">\n",
        "\n",
        "<img src=\"https://user-images.githubusercontent.com/7065401/55025843-7d99a280-4fe0-11e9-938a-4879d95c4130.png\"\n",
        "    style=\"width:150px; float: right; margin: 0 40px 40px 40px;\"></img>\n",
        "\n",
        "# Interactive Notebooks Tutorial\n",
        "\n",
        "Welcome to Notebooks.ai ❤️, a fully online 🤖, cloud-based ☁️ Data Science environment. All your work, analysis and datasets organized in the same place 🙌.\n",
        "\n",
        "![purple-divider](https://user-images.githubusercontent.com/7065401/52071927-c1cd7100-2562-11e9-908a-dde91ba14e59.png)"
      ]
    },
    {
      "cell_type": "markdown",
      "metadata": {
        "id": "xZV8QDm0csQV"
      },
      "source": [
        "### Objective of this tutorial:\n",
        "\n",
        "> **Help you get started with Notebooks.ai for Data Science and Python programming.**\n",
        "\n",
        "_Need help? Create an [issue](https://github.com/notebooks-ai/notebooks-help)._\n",
        "\n",
        "![green-divider](https://user-images.githubusercontent.com/7065401/52071924-c003ad80-2562-11e9-8297-1c6595f8a7ff.png)\n",
        "\n",
        "## Jupyter Notebooks\n",
        "\n",
        "This document that you're currently reading is a \"Jupyter Notebook\", and you've probably heard about it before. It's like a text document, but you can run code on it! It can also display inline graphs, pull data from Databases or show excel spreadsheets live! Isn't it amazing? 😄 \n",
        "\n",
        "**Mildly interesting fact of the day:**\n",
        "\n",
        "> _Jupyter is a nod to 3 languages: Julia, Python, and R._ Source [@jakevdp](https://twitter.com/jakevdp/status/1033071052652302336).\n",
        "\n",
        "This is a really quick tutorial on how to get started with Jupyter notebooks (and lab). It shouldn't take more than 10 minutes and you'll be writing Python code right away.\n",
        "\n",
        "### Part 1: everything is a _cell_\n",
        "\n",
        "Jupyter Notebooks are organized as a set of _\"cells\"_. Each cell can contain different types of content: like Python code (or R, Julia, etc), images or even human readable text (markdown), like the one you're currently reading.\n",
        "\n",
        "I've left a couple of empty cells below for you to see them:"
      ]
    },
    {
      "cell_type": "code",
      "execution_count": null,
      "metadata": {
        "id": "i5vCgKF9csQY"
      },
      "outputs": [],
      "source": []
    },
    {
      "cell_type": "code",
      "execution_count": 1,
      "metadata": {
        "id": "-aGs7G1scsQa",
        "outputId": "90137e91-e774-472f-e6f3-b5aff631295c",
        "colab": {
          "base_uri": "https://localhost:8080/"
        }
      },
      "outputs": [
        {
          "output_type": "execute_result",
          "data": {
            "text/plain": [
              "18"
            ]
          },
          "metadata": {},
          "execution_count": 1
        }
      ],
      "source": [
        "3*6"
      ]
    },
    {
      "cell_type": "code",
      "execution_count": 1,
      "metadata": {
        "id": "sxb5HNW0csQa"
      },
      "outputs": [],
      "source": []
    },
    {
      "cell_type": "markdown",
      "metadata": {
        "id": "93HIWKeAcsQb"
      },
      "source": [
        "This is another cell containing Markdown (human readable) code. And below, another empty cell:"
      ]
    },
    {
      "cell_type": "code",
      "execution_count": null,
      "metadata": {
        "id": "ZJMFAxgbcsQb"
      },
      "outputs": [],
      "source": []
    },
    {
      "cell_type": "markdown",
      "metadata": {
        "id": "nnC2NRlLcsQc"
      },
      "source": [
        "You can edit these cells just by double clicking on them. Try editing the following cell:"
      ]
    },
    {
      "cell_type": "markdown",
      "metadata": {
        "id": "3VJXOvemcsQc"
      },
      "source": [
        "**👉 Double click on me 👈** Pretty Cool :)"
      ]
    },
    {
      "cell_type": "markdown",
      "metadata": {
        "id": "SXQDYl70csQd"
      },
      "source": [
        "When you double click the cell, it should open an \"edit mode\", and you should see something similar to:\n",
        "\n",
        "![image](https://github.com/ine-rmotr-curriculum/ds-content-interactive-jupyterlab-tutorial/blob/master/images/_1.png?raw=1)"
      ]
    },
    {
      "cell_type": "markdown",
      "metadata": {
        "id": "8dZo4dVHcsQe"
      },
      "source": [
        "If you're seeing those asterisks, it's because you've correctly entered \"Edit Mode\". Once you've made the changes, you have to \"execute\", or \"run\" the cell to reflect the changes. To do that just click on the little _play_ button on the top menu bar:\n",
        "\n",
        "![image](https://github.com/ine-rmotr-curriculum/ds-content-interactive-jupyterlab-tutorial/blob/master/images/_2.png?raw=1)"
      ]
    },
    {
      "cell_type": "markdown",
      "metadata": {
        "id": "nuvs8e2rcsQg"
      },
      "source": [
        "Jupyter notebooks are optimized for an efficient workflow. There are many keyboard shortcuts that will let you interact with your documents, run code and make other changes; mastering these shortcuts will speed up your work. For example, there are two shortcuts to execute a cell:\n",
        "\n",
        "1. `shift + return`: Run cell and advance to the next one.\n",
        "2. `ctrl  + return`: Run the cell but don't change focus.\n",
        "\n",
        "\n",
        "Try them with the following cell:"
      ]
    },
    {
      "cell_type": "code",
      "execution_count": 2,
      "metadata": {
        "id": "RwPoDjBzcsQj",
        "outputId": "285439e7-36f6-43cf-c044-b1fcd9a9b406",
        "colab": {
          "base_uri": "https://localhost:8080/"
        }
      },
      "outputs": [
        {
          "output_type": "execute_result",
          "data": {
            "text/plain": [
              "4"
            ]
          },
          "metadata": {},
          "execution_count": 2
        }
      ],
      "source": [
        "2 + 2"
      ]
    },
    {
      "cell_type": "markdown",
      "metadata": {
        "id": "yXD3w3WlcsQs"
      },
      "source": [
        "You can try executing these cells as many times as you want, it won't break anything"
      ]
    },
    {
      "cell_type": "markdown",
      "metadata": {
        "id": "DPOSTxcbcsQt"
      },
      "source": [
        "#### `ctrl + Return` effect:\n",
        "\n",
        "As you can see in the following animation, the code is correctly executed (it returns 4) and the focus (the blue line at the left side of the cell) stays in the same cell.\n",
        "\n",
        "![ctrl+enter effect](https://github.com/ine-rmotr-curriculum/ds-content-interactive-jupyterlab-tutorial/blob/master/images/_3.gif?raw=1)\n",
        "\n",
        "Now compare it to the next shortcut, `shift + return`:\n",
        "\n",
        "#### `shift + Return` effect:\n",
        "\n",
        "![shift+enter effect](https://github.com/ine-rmotr-curriculum/ds-content-interactive-jupyterlab-tutorial/blob/master/images/_4.gif?raw=1)\n",
        "\n",
        "As you can see, every time I execute code the focus changes to the cell below."
      ]
    },
    {
      "cell_type": "markdown",
      "metadata": {
        "id": "4wB-M1DacsQy"
      },
      "source": [
        "![green-divider](https://user-images.githubusercontent.com/7065401/52071924-c003ad80-2562-11e9-8297-1c6595f8a7ff.png)"
      ]
    },
    {
      "cell_type": "markdown",
      "metadata": {
        "id": "ymcjtUEKcsQ0"
      },
      "source": [
        "## Part 2: Working with code\n",
        "\n",
        "Jupyter notebooks have amazing features to include text and images and create beautiful, human readable documents as you've just seen. But their main benefit is working with code. Now we're going to import a few libraries and start experimenting with Python code. We've already done the simple `2 + 2` before, so let's do something a little bit more interesting. First, we need to import `numpy` and `matplotlib`:"
      ]
    },
    {
      "cell_type": "code",
      "execution_count": 4,
      "metadata": {
        "id": "xM84k0WpcsQ5"
      },
      "outputs": [],
      "source": [
        "import numpy as np\n",
        "import matplotlib.pyplot as plt\n",
        "%matplotlib inline"
      ]
    },
    {
      "cell_type": "markdown",
      "metadata": {
        "id": "Tr7dn82HcsQ7"
      },
      "source": [
        "Notebooks.ai include all the most popular Data Science and Deep Learning libraries already installed. And even if there's one missing, you can always install it in your own environment (more on that later). We've just imported these two libraries:\n",
        "* `numpy` the most popular Python library for array manipulation and numeric computing\n",
        "* `matplotlib` the most popular visualization library in the Python ecosystem.\n",
        "\n",
        "Let's now execute a few lines of code and generate some plots:"
      ]
    },
    {
      "cell_type": "code",
      "source": [
        "np.cumsum(np.random.randn(10, 3),0)"
      ],
      "metadata": {
        "id": "WSEMQGc3RZpU",
        "outputId": "0949a727-5493-4c7e-eebe-11bb9a51cf3c",
        "colab": {
          "base_uri": "https://localhost:8080/"
        }
      },
      "execution_count": 5,
      "outputs": [
        {
          "output_type": "execute_result",
          "data": {
            "text/plain": [
              "array([[ 0.88276186, -0.49196623, -0.83449233],\n",
              "       [ 0.02710503, -0.98301113, -0.64928439],\n",
              "       [-0.01895771,  0.01195798, -0.67889026],\n",
              "       [ 0.89992125,  0.62950646, -2.57373455],\n",
              "       [ 1.20162934, -0.44137734, -3.18783596],\n",
              "       [ 1.74815527,  0.3803204 , -3.04969912],\n",
              "       [ 2.29400916, -0.73242571, -2.15667062],\n",
              "       [ 1.72724496, -1.21381203, -3.56541671],\n",
              "       [ 1.82787034, -0.15087458, -2.31847999],\n",
              "       [ 2.36223345,  1.04576945, -1.65400786]])"
            ]
          },
          "metadata": {},
          "execution_count": 5
        }
      ]
    },
    {
      "cell_type": "code",
      "execution_count": 6,
      "metadata": {
        "id": "kkSu-UvGcsQ9"
      },
      "outputs": [],
      "source": [
        "x = np.linspace(0, 10, 500) # 50 divisões por unidade\n",
        "y = np.cumsum(np.random.randn(500, 6), 0)  # varia entre -3 e 3, [-3, 3] , de 500 somas para cada linha referencial"
      ]
    },
    {
      "cell_type": "markdown",
      "source": [
        "The Standard Normal Distribution - SPHhttps://sphweb.bumc.bu.edu › otlt\n",
        "·\n",
        "Traduzir esta página\n",
        "24/07/2016 — Probabilities of the Standard Normal Distribution Z ... while the standardized normal distribution, Z, ranges from -3 to 3.\n",
        "As pessoas também perguntam\n",
        "Can a standard deviation be 3?\n",
        "The Empirical Rule states that 99.7% of data observed following a normal distribution lies within 3 standard deviations of the mean. Under this rule, 68% of the data falls within one standard deviation, 95% percent within two standard deviations, and 99.7% within three standard deviations from the mean."
      ],
      "metadata": {
        "id": "DfV3VCNWPtmn"
      }
    },
    {
      "cell_type": "code",
      "execution_count": 7,
      "metadata": {
        "id": "WwJEiGwQcsRC",
        "outputId": "2f5e0ba6-c384-4a78-b633-2ea9e56e08cd",
        "colab": {
          "base_uri": "https://localhost:8080/",
          "height": 445
        }
      },
      "outputs": [
        {
          "output_type": "execute_result",
          "data": {
            "text/plain": [
              "<matplotlib.legend.Legend at 0x7f64eef0b100>"
            ]
          },
          "metadata": {},
          "execution_count": 7
        },
        {
          "output_type": "display_data",
          "data": {
            "text/plain": [
              "<Figure size 864x504 with 1 Axes>"
            ],
            "image/png": "[encoded data removed]"
          },
          "metadata": {
            "needs_background": "light"
          }
        }
      ],
      "source": [
        "plt.figure(figsize=(12, 7))\n",
        "plt.plot(x, y)\n",
        "plt.legend('ABCDEF', ncol=2, loc='upper left')"
      ]
    },
    {
      "cell_type": "markdown",
      "metadata": {
        "id": "fydgKgnhcsRD"
      },
      "source": [
        "But what is that 😱? Just random generated datapoints, but you can clearly see how simple is to do numeric processing and plotting with Notebooks.ai."
      ]
    },
    {
      "cell_type": "markdown",
      "metadata": {
        "id": "Th47YWckcsRE"
      },
      "source": [
        "![green-divider](https://user-images.githubusercontent.com/7065401/52071924-c003ad80-2562-11e9-8297-1c6595f8a7ff.png)\n",
        "\n",
        "## Part 3: Interacting with data\n",
        "\n",
        "Notebooks.ai and Jupyter Lab make it really simple to intereact with files in your local storage. These files are securely stored in the cloud and you can access them from anywhere in the world.\n",
        "\n",
        "To show you the full potential of Notebooks.ai, we're going to pull cryptocurrencies prices from a public API and download them as Excel files, pretty fancy 😎. I need to import two libraries first: `requests` (to pull data from the web) and `pandas` to process it."
      ]
    },
    {
      "cell_type": "code",
      "execution_count": 8,
      "metadata": {
        "id": "lQ5zHI5EcsRF"
      },
      "outputs": [],
      "source": [
        "import requests\n",
        "import pandas as pd"
      ]
    },
    {
      "cell_type": "markdown",
      "source": [
        "coding and web experience\n",
        "\n"
      ],
      "metadata": {
        "id": "KxMb2zzTK_Vp"
      }
    },
    {
      "cell_type": "markdown",
      "metadata": {
        "id": "xdxXcwHtcsRG"
      },
      "source": [
        "I have a predefined function that simplifies the process of importing data from [Cryptowatch](https://cryptowat.ch) (for reference, check [their docs](https://cryptowat.ch/docs/api#ohlc))."
      ]
    },
    {
      "cell_type": "code",
      "execution_count": 9,
      "metadata": {
        "id": "-5vi2zz6csRH"
      },
      "outputs": [],
      "source": [
        "def get_historic_price(symbol, exchange='bitfinex', after='2018-09-01'):\n",
        "    url = 'https://api.cryptowat.ch/markets/{exchange}/{symbol}usd/ohlc'.format(\n",
        "        symbol=symbol, exchange=exchange)\n",
        "    resp = requests.get(url, params={\n",
        "        'periods': '3600',\n",
        "        'after': str(int(pd.Timestamp(after).timestamp()))\n",
        "    })\n",
        "    resp.raise_for_status()\n",
        "    data = resp.json()\n",
        "    df = pd.DataFrame(data['result']['3600'], columns=[\n",
        "        'CloseTime', 'OpenPrice', 'HighPrice', 'LowPrice', 'ClosePrice', 'Volume', 'NA'\n",
        "    ])\n",
        "    df['CloseTime'] = pd.to_datetime(df['CloseTime'], unit='s')\n",
        "    df.set_index('CloseTime', inplace=True)\n",
        "    return df"
      ]
    },
    {
      "cell_type": "markdown",
      "metadata": {
        "id": "PYe1PqXwcsRJ"
      },
      "source": [
        "I will now pull data from Bitcoin and Ether, two of the most popular cryptocurrencies, for the last 7 days:"
      ]
    },
    {
      "cell_type": "code",
      "execution_count": 10,
      "metadata": {
        "id": "sQF2WR6wcsRJ",
        "outputId": "9ea4df58-72fb-41e5-fdb6-543f9ae0a3a1",
        "colab": {
          "base_uri": "https://localhost:8080/"
        }
      },
      "outputs": [
        {
          "output_type": "execute_result",
          "data": {
            "text/plain": [
              "Timestamp('2023-01-08 18:30:51.259467')"
            ]
          },
          "metadata": {},
          "execution_count": 10
        }
      ],
      "source": [
        "last_week = (pd.Timestamp.now() - pd.offsets.Day(7))\n",
        "last_week"
      ]
    },
    {
      "cell_type": "code",
      "execution_count": 11,
      "metadata": {
        "id": "-Kjpae_qcsRK"
      },
      "outputs": [],
      "source": [
        "btc = get_historic_price('btc', 'bitstamp', after=last_week)"
      ]
    },
    {
      "cell_type": "code",
      "execution_count": 12,
      "metadata": {
        "id": "DGBxCmyxcsRK"
      },
      "outputs": [],
      "source": [
        "eth = get_historic_price('eth', 'bitstamp', after=last_week)"
      ]
    },
    {
      "cell_type": "markdown",
      "metadata": {
        "id": "8sI6vWImcsRL"
      },
      "source": [
        "**Bitcoin:**"
      ]
    },
    {
      "cell_type": "code",
      "execution_count": 13,
      "metadata": {
        "id": "Y1RIvw7rcsRL",
        "outputId": "53577c86-3942-4fbb-93fa-4cfacf08f83d",
        "colab": {
          "base_uri": "https://localhost:8080/",
          "height": 238
        }
      },
      "outputs": [
        {
          "output_type": "execute_result",
          "data": {
            "text/plain": [
              "                     OpenPrice  HighPrice  LowPrice  ClosePrice     Volume  \\\n",
              "CloseTime                                                                    \n",
              "2023-01-08 19:00:00      16925      16930     16922       16926  13.660861   \n",
              "2023-01-08 20:00:00      16926      16935     16925       16929  11.897110   \n",
              "2023-01-08 21:00:00      16929      16975     16926       16965  34.527183   \n",
              "2023-01-08 22:00:00      16964      16981     16949       16954  39.046883   \n",
              "2023-01-08 23:00:00      16954      16973     16953       16965  17.772818   \n",
              "\n",
              "                                NA  \n",
              "CloseTime                           \n",
              "2023-01-08 19:00:00  231224.361681  \n",
              "2023-01-08 20:00:00  201428.742982  \n",
              "2023-01-08 21:00:00  585348.297560  \n",
              "2023-01-08 22:00:00  662546.935747  \n",
              "2023-01-08 23:00:00  301467.120724  "
            ],
            "text/html": [
              "\n",
              "  <div id=\"df-03aa509f-03d6-41d1-9747-d781fe12b11d\">\n",
              "    <div class=\"colab-df-container\">\n",
              "      <div>\n",
              "<style scoped>\n",
              "    .dataframe tbody tr th:only-of-type {\n",
              "        vertical-align: middle;\n",
              "    }\n",
              "\n",
              "    .dataframe tbody tr th {\n",
              "        vertical-align: top;\n",
              "    }\n",
              "\n",
              "    .dataframe thead th {\n",
              "        text-align: right;\n",
              "    }\n",
              "</style>\n",
              "<table border=\"1\" class=\"dataframe\">\n",
              "  <thead>\n",
              "    <tr style=\"text-align: right;\">\n",
              "      <th></th>\n",
              "      <th>OpenPrice</th>\n",
              "      <th>HighPrice</th>\n",
              "      <th>LowPrice</th>\n",
              "      <th>ClosePrice</th>\n",
              "      <th>Volume</th>\n",
              "      <th>NA</th>\n",
              "    </tr>\n",
              "    <tr>\n",
              "      <th>CloseTime</th>\n",
              "      <th></th>\n",
              "      <th></th>\n",
              "      <th></th>\n",
              "      <th></th>\n",
              "      <th></th>\n",
              "      <th></th>\n",
              "    </tr>\n",
              "  </thead>\n",
              "  <tbody>\n",
              "    <tr>\n",
              "      <th>2023-01-08 19:00:00</th>\n",
              "      <td>16925</td>\n",
              "      <td>16930</td>\n",
              "      <td>16922</td>\n",
              "      <td>16926</td>\n",
              "      <td>13.660861</td>\n",
              "      <td>231224.361681</td>\n",
              "    </tr>\n",
              "    <tr>\n",
              "      <th>2023-01-08 20:00:00</th>\n",
              "      <td>16926</td>\n",
              "      <td>16935</td>\n",
              "      <td>16925</td>\n",
              "      <td>16929</td>\n",
              "      <td>11.897110</td>\n",
              "      <td>201428.742982</td>\n",
              "    </tr>\n",
              "    <tr>\n",
              "      <th>2023-01-08 21:00:00</th>\n",
              "      <td>16929</td>\n",
              "      <td>16975</td>\n",
              "      <td>16926</td>\n",
              "      <td>16965</td>\n",
              "      <td>34.527183</td>\n",
              "      <td>585348.297560</td>\n",
              "    </tr>\n",
              "    <tr>\n",
              "      <th>2023-01-08 22:00:00</th>\n",
              "      <td>16964</td>\n",
              "      <td>16981</td>\n",
              "      <td>16949</td>\n",
              "      <td>16954</td>\n",
              "      <td>39.046883</td>\n",
              "      <td>662546.935747</td>\n",
              "    </tr>\n",
              "    <tr>\n",
              "      <th>2023-01-08 23:00:00</th>\n",
              "      <td>16954</td>\n",
              "      <td>16973</td>\n",
              "      <td>16953</td>\n",
              "      <td>16965</td>\n",
              "      <td>17.772818</td>\n",
              "      <td>301467.120724</td>\n",
              "    </tr>\n",
              "  </tbody>\n",
              "</table>\n",
              "</div>\n",
              "      <button class=\"colab-df-convert\" onclick=\"convertToInteractive('df-03aa509f-03d6-41d1-9747-d781fe12b11d')\"\n",
              "              title=\"Convert this dataframe to an interactive table.\"\n",
              "              style=\"display:none;\">\n",
              "        \n",
              "  <svg xmlns=\"http://www.w3.org/2000/svg\" height=\"24px\"viewBox=\"0 0 24 24\"\n",
              "       width=\"24px\">\n",
              "    <path d=\"M0 0h24v24H0V0z\" fill=\"none\"/>\n",
              "    <path d=\"M18.56 5.44l.94 2.06.94-2.06 2.06-.94-2.06-.94-.94-2.06-.94 2.06-2.06.94zm-11 1L8.5 8.5l.94-2.06 2.06-.94-2.06-.94L8.5 2.5l-.94 2.06-2.06.94zm10 10l.94 2.06.94-2.06 2.06-.94-2.06-.94-.94-2.06-.94 2.06-2.06.94z\"/><path d=\"M17.41 7.96l-1.37-1.37c-.4-.4-.92-.59-1.43-.59-.52 0-1.04.2-1.43.59L10.3 9.45l-7.72 7.72c-.78.78-.78 2.05 0 2.83L4 21.41c.39.39.9.59 1.41.59.51 0 1.02-.2 1.41-.59l7.78-7.78 2.81-2.81c.8-.78.8-2.07 0-2.86zM5.41 20L4 18.59l7.72-7.72 1.47 1.35L5.41 20z\"/>\n",
              "  </svg>\n",
              "      </button>\n",
              "      \n",
              "  <style>\n",
              "    .colab-df-container {\n",
              "      display:flex;\n",
              "      flex-wrap:wrap;\n",
              "      gap: 12px;\n",
              "    }\n",
              "\n",
              "    .colab-df-convert {\n",
              "      background-color: #E8F0FE;\n",
              "      border: none;\n",
              "      border-radius: 50%;\n",
              "      cursor: pointer;\n",
              "      display: none;\n",
              "      fill: #1967D2;\n",
              "      height: 32px;\n",
              "      padding: 0 0 0 0;\n",
              "      width: 32px;\n",
              "    }\n",
              "\n",
              "    .colab-df-convert:hover {\n",
              "      background-color: #E2EBFA;\n",
              "      box-shadow: 0px 1px 2px rgba(60, 64, 67, 0.3), 0px 1px 3px 1px rgba(60, 64, 67, 0.15);\n",
              "      fill: #174EA6;\n",
              "    }\n",
              "\n",
              "    [theme=dark] .colab-df-convert {\n",
              "      background-color: #3B4455;\n",
              "      fill: #D2E3FC;\n",
              "    }\n",
              "\n",
              "    [theme=dark] .colab-df-convert:hover {\n",
              "      background-color: #434B5C;\n",
              "      box-shadow: 0px 1px 3px 1px rgba(0, 0, 0, 0.15);\n",
              "      filter: drop-shadow(0px 1px 2px rgba(0, 0, 0, 0.3));\n",
              "      fill: #FFFFFF;\n",
              "    }\n",
              "  </style>\n",
              "\n",
              "      <script>\n",
              "        const buttonEl =\n",
              "          document.querySelector('#df-03aa509f-03d6-41d1-9747-d781fe12b11d button.colab-df-convert');\n",
              "        buttonEl.style.display =\n",
              "          google.colab.kernel.accessAllowed ? 'block' : 'none';\n",
              "\n",
              "        async function convertToInteractive(key) {\n",
              "          const element = document.querySelector('#df-03aa509f-03d6-41d1-9747-d781fe12b11d');\n",
              "          const dataTable =\n",
              "            await google.colab.kernel.invokeFunction('convertToInteractive',\n",
              "                                                     [key], {});\n",
              "          if (!dataTable) return;\n",
              "\n",
              "          const docLinkHtml = 'Like what you see? Visit the ' +\n",
              "            '<a target=\"_blank\" href=https://colab.research.google.com/notebooks/data_table.ipynb>data table notebook</a>'\n",
              "            + ' to learn more about interactive tables.';\n",
              "          element.innerHTML = '';\n",
              "          dataTable['output_type'] = 'display_data';\n",
              "          await google.colab.output.renderOutput(dataTable, element);\n",
              "          const docLink = document.createElement('div');\n",
              "          docLink.innerHTML = docLinkHtml;\n",
              "          element.appendChild(docLink);\n",
              "        }\n",
              "      </script>\n",
              "    </div>\n",
              "  </div>\n",
              "  "
            ]
          },
          "metadata": {},
          "execution_count": 13
        }
      ],
      "source": [
        "btc.head()"
      ]
    },
    {
      "cell_type": "code",
      "execution_count": 14,
      "metadata": {
        "id": "JUNmvlkocsRN",
        "outputId": "a2bcde15-a816-467f-f4f7-35713df5dfdc",
        "colab": {
          "base_uri": "https://localhost:8080/",
          "height": 481
        }
      },
      "outputs": [
        {
          "output_type": "execute_result",
          "data": {
            "text/plain": [
              "<matplotlib.axes._subplots.AxesSubplot at 0x7f64e6748190>"
            ]
          },
          "metadata": {},
          "execution_count": 14
        },
        {
          "output_type": "display_data",
          "data": {
            "text/plain": [
              "<Figure size 1080x504 with 1 Axes>"
            ],
            "image/png": "[encoded data removed]"
          },
          "metadata": {
            "needs_background": "light"
          }
        }
      ],
      "source": [
        "btc['ClosePrice'].plot(figsize=(15, 7))"
      ]
    },
    {
      "cell_type": "markdown",
      "metadata": {
        "id": "LgNZnKQzcsRO"
      },
      "source": [
        "**Ether:**"
      ]
    },
    {
      "cell_type": "code",
      "execution_count": 15,
      "metadata": {
        "id": "ugo2RKtscsRP",
        "outputId": "b5bdbbb0-8a02-4430-9921-d9b9356cc330",
        "colab": {
          "base_uri": "https://localhost:8080/",
          "height": 238
        }
      },
      "outputs": [
        {
          "output_type": "execute_result",
          "data": {
            "text/plain": [
              "                     OpenPrice  HighPrice  LowPrice  ClosePrice      Volume  \\\n",
              "CloseTime                                                                     \n",
              "2023-01-08 19:00:00     1264.3     1265.8    1263.4      1265.4   68.608578   \n",
              "2023-01-08 20:00:00     1265.4     1266.5    1264.9      1265.3   58.833158   \n",
              "2023-01-08 21:00:00     1264.8     1271.6    1264.3      1270.7  990.545467   \n",
              "2023-01-08 22:00:00     1270.7     1273.2    1269.2      1269.7  170.549559   \n",
              "2023-01-08 23:00:00     1269.8     1271.4    1268.4      1269.9  212.626950   \n",
              "\n",
              "                               NA  \n",
              "CloseTime                          \n",
              "2023-01-08 19:00:00  8.678471e+04  \n",
              "2023-01-08 20:00:00  7.445300e+04  \n",
              "2023-01-08 21:00:00  1.256902e+06  \n",
              "2023-01-08 22:00:00  2.167616e+05  \n",
              "2023-01-08 23:00:00  2.700892e+05  "
            ],
            "text/html": [
              "\n",
              "  <div id=\"df-569c11cd-0cd0-41f4-abff-125c640ce682\">\n",
              "    <div class=\"colab-df-container\">\n",
              "      <div>\n",
              "<style scoped>\n",
              "    .dataframe tbody tr th:only-of-type {\n",
              "        vertical-align: middle;\n",
              "    }\n",
              "\n",
              "    .dataframe tbody tr th {\n",
              "        vertical-align: top;\n",
              "    }\n",
              "\n",
              "    .dataframe thead th {\n",
              "        text-align: right;\n",
              "    }\n",
              "</style>\n",
              "<table border=\"1\" class=\"dataframe\">\n",
              "  <thead>\n",
              "    <tr style=\"text-align: right;\">\n",
              "      <th></th>\n",
              "      <th>OpenPrice</th>\n",
              "      <th>HighPrice</th>\n",
              "      <th>LowPrice</th>\n",
              "      <th>ClosePrice</th>\n",
              "      <th>Volume</th>\n",
              "      <th>NA</th>\n",
              "    </tr>\n",
              "    <tr>\n",
              "      <th>CloseTime</th>\n",
              "      <th></th>\n",
              "      <th></th>\n",
              "      <th></th>\n",
              "      <th></th>\n",
              "      <th></th>\n",
              "      <th></th>\n",
              "    </tr>\n",
              "  </thead>\n",
              "  <tbody>\n",
              "    <tr>\n",
              "      <th>2023-01-08 19:00:00</th>\n",
              "      <td>1264.3</td>\n",
              "      <td>1265.8</td>\n",
              "      <td>1263.4</td>\n",
              "      <td>1265.4</td>\n",
              "      <td>68.608578</td>\n",
              "      <td>8.678471e+04</td>\n",
              "    </tr>\n",
              "    <tr>\n",
              "      <th>2023-01-08 20:00:00</th>\n",
              "      <td>1265.4</td>\n",
              "      <td>1266.5</td>\n",
              "      <td>1264.9</td>\n",
              "      <td>1265.3</td>\n",
              "      <td>58.833158</td>\n",
              "      <td>7.445300e+04</td>\n",
              "    </tr>\n",
              "    <tr>\n",
              "      <th>2023-01-08 21:00:00</th>\n",
              "      <td>1264.8</td>\n",
              "      <td>1271.6</td>\n",
              "      <td>1264.3</td>\n",
              "      <td>1270.7</td>\n",
              "      <td>990.545467</td>\n",
              "      <td>1.256902e+06</td>\n",
              "    </tr>\n",
              "    <tr>\n",
              "      <th>2023-01-08 22:00:00</th>\n",
              "      <td>1270.7</td>\n",
              "      <td>1273.2</td>\n",
              "      <td>1269.2</td>\n",
              "      <td>1269.7</td>\n",
              "      <td>170.549559</td>\n",
              "      <td>2.167616e+05</td>\n",
              "    </tr>\n",
              "    <tr>\n",
              "      <th>2023-01-08 23:00:00</th>\n",
              "      <td>1269.8</td>\n",
              "      <td>1271.4</td>\n",
              "      <td>1268.4</td>\n",
              "      <td>1269.9</td>\n",
              "      <td>212.626950</td>\n",
              "      <td>2.700892e+05</td>\n",
              "    </tr>\n",
              "  </tbody>\n",
              "</table>\n",
              "</div>\n",
              "      <button class=\"colab-df-convert\" onclick=\"convertToInteractive('df-569c11cd-0cd0-41f4-abff-125c640ce682')\"\n",
              "              title=\"Convert this dataframe to an interactive table.\"\n",
              "              style=\"display:none;\">\n",
              "        \n",
              "  <svg xmlns=\"http://www.w3.org/2000/svg\" height=\"24px\"viewBox=\"0 0 24 24\"\n",
              "       width=\"24px\">\n",
              "    <path d=\"M0 0h24v24H0V0z\" fill=\"none\"/>\n",
              "    <path d=\"M18.56 5.44l.94 2.06.94-2.06 2.06-.94-2.06-.94-.94-2.06-.94 2.06-2.06.94zm-11 1L8.5 8.5l.94-2.06 2.06-.94-2.06-.94L8.5 2.5l-.94 2.06-2.06.94zm10 10l.94 2.06.94-2.06 2.06-.94-2.06-.94-.94-2.06-.94 2.06-2.06.94z\"/><path d=\"M17.41 7.96l-1.37-1.37c-.4-.4-.92-.59-1.43-.59-.52 0-1.04.2-1.43.59L10.3 9.45l-7.72 7.72c-.78.78-.78 2.05 0 2.83L4 21.41c.39.39.9.59 1.41.59.51 0 1.02-.2 1.41-.59l7.78-7.78 2.81-2.81c.8-.78.8-2.07 0-2.86zM5.41 20L4 18.59l7.72-7.72 1.47 1.35L5.41 20z\"/>\n",
              "  </svg>\n",
              "      </button>\n",
              "      \n",
              "  <style>\n",
              "    .colab-df-container {\n",
              "      display:flex;\n",
              "      flex-wrap:wrap;\n",
              "      gap: 12px;\n",
              "    }\n",
              "\n",
              "    .colab-df-convert {\n",
              "      background-color: #E8F0FE;\n",
              "      border: none;\n",
              "      border-radius: 50%;\n",
              "      cursor: pointer;\n",
              "      display: none;\n",
              "      fill: #1967D2;\n",
              "      height: 32px;\n",
              "      padding: 0 0 0 0;\n",
              "      width: 32px;\n",
              "    }\n",
              "\n",
              "    .colab-df-convert:hover {\n",
              "      background-color: #E2EBFA;\n",
              "      box-shadow: 0px 1px 2px rgba(60, 64, 67, 0.3), 0px 1px 3px 1px rgba(60, 64, 67, 0.15);\n",
              "      fill: #174EA6;\n",
              "    }\n",
              "\n",
              "    [theme=dark] .colab-df-convert {\n",
              "      background-color: #3B4455;\n",
              "      fill: #D2E3FC;\n",
              "    }\n",
              "\n",
              "    [theme=dark] .colab-df-convert:hover {\n",
              "      background-color: #434B5C;\n",
              "      box-shadow: 0px 1px 3px 1px rgba(0, 0, 0, 0.15);\n",
              "      filter: drop-shadow(0px 1px 2px rgba(0, 0, 0, 0.3));\n",
              "      fill: #FFFFFF;\n",
              "    }\n",
              "  </style>\n",
              "\n",
              "      <script>\n",
              "        const buttonEl =\n",
              "          document.querySelector('#df-569c11cd-0cd0-41f4-abff-125c640ce682 button.colab-df-convert');\n",
              "        buttonEl.style.display =\n",
              "          google.colab.kernel.accessAllowed ? 'block' : 'none';\n",
              "\n",
              "        async function convertToInteractive(key) {\n",
              "          const element = document.querySelector('#df-569c11cd-0cd0-41f4-abff-125c640ce682');\n",
              "          const dataTable =\n",
              "            await google.colab.kernel.invokeFunction('convertToInteractive',\n",
              "                                                     [key], {});\n",
              "          if (!dataTable) return;\n",
              "\n",
              "          const docLinkHtml = 'Like what you see? Visit the ' +\n",
              "            '<a target=\"_blank\" href=https://colab.research.google.com/notebooks/data_table.ipynb>data table notebook</a>'\n",
              "            + ' to learn more about interactive tables.';\n",
              "          element.innerHTML = '';\n",
              "          dataTable['output_type'] = 'display_data';\n",
              "          await google.colab.output.renderOutput(dataTable, element);\n",
              "          const docLink = document.createElement('div');\n",
              "          docLink.innerHTML = docLinkHtml;\n",
              "          element.appendChild(docLink);\n",
              "        }\n",
              "      </script>\n",
              "    </div>\n",
              "  </div>\n",
              "  "
            ]
          },
          "metadata": {},
          "execution_count": 15
        }
      ],
      "source": [
        "eth.head()"
      ]
    },
    {
      "cell_type": "code",
      "execution_count": 16,
      "metadata": {
        "id": "E7PmqffqcsRQ",
        "outputId": "61d1c4e3-9179-4edd-d4fe-d07dddf7d498",
        "colab": {
          "base_uri": "https://localhost:8080/",
          "height": 481
        }
      },
      "outputs": [
        {
          "output_type": "execute_result",
          "data": {
            "text/plain": [
              "<matplotlib.axes._subplots.AxesSubplot at 0x7f64e66cca00>"
            ]
          },
          "metadata": {},
          "execution_count": 16
        },
        {
          "output_type": "display_data",
          "data": {
            "text/plain": [
              "<Figure size 1080x504 with 1 Axes>"
            ],
            "image/png": "[encoded data removed]"
          },
          "metadata": {
            "needs_background": "light"
          }
        }
      ],
      "source": [
        "eth['ClosePrice'].plot(figsize=(15, 7))"
      ]
    },
    {
      "cell_type": "markdown",
      "metadata": {
        "id": "xuhSWfnpcsSf"
      },
      "source": [
        "As you can see, we're able to pull data from the internet with just a few lines, create a DataFrame and plot it all within Jupyter Lab."
      ]
    },
    {
      "cell_type": "code",
      "execution_count": 17,
      "metadata": {
        "id": "fnRa_x0McsSl",
        "outputId": "8d6500f0-f938-43cf-ab7b-e8f7ea6376f4",
        "colab": {
          "base_uri": "https://localhost:8080/",
          "height": 238
        }
      },
      "outputs": [
        {
          "output_type": "execute_result",
          "data": {
            "text/plain": [
              "                     OpenPrice  HighPrice  LowPrice  ClosePrice      Volume  \\\n",
              "CloseTime                                                                     \n",
              "2023-01-08 19:00:00     1264.3     1265.8    1263.4      1265.4   68.608578   \n",
              "2023-01-08 20:00:00     1265.4     1266.5    1264.9      1265.3   58.833158   \n",
              "2023-01-08 21:00:00     1264.8     1271.6    1264.3      1270.7  990.545467   \n",
              "2023-01-08 22:00:00     1270.7     1273.2    1269.2      1269.7  170.549559   \n",
              "2023-01-08 23:00:00     1269.8     1271.4    1268.4      1269.9  212.626950   \n",
              "\n",
              "                               NA  \n",
              "CloseTime                          \n",
              "2023-01-08 19:00:00  8.678471e+04  \n",
              "2023-01-08 20:00:00  7.445300e+04  \n",
              "2023-01-08 21:00:00  1.256902e+06  \n",
              "2023-01-08 22:00:00  2.167616e+05  \n",
              "2023-01-08 23:00:00  2.700892e+05  "
            ],
            "text/html": [
              "\n",
              "  <div id=\"df-6f442db8-fb98-4768-9452-3d5fe4b46327\">\n",
              "    <div class=\"colab-df-container\">\n",
              "      <div>\n",
              "<style scoped>\n",
              "    .dataframe tbody tr th:only-of-type {\n",
              "        vertical-align: middle;\n",
              "    }\n",
              "\n",
              "    .dataframe tbody tr th {\n",
              "        vertical-align: top;\n",
              "    }\n",
              "\n",
              "    .dataframe thead th {\n",
              "        text-align: right;\n",
              "    }\n",
              "</style>\n",
              "<table border=\"1\" class=\"dataframe\">\n",
              "  <thead>\n",
              "    <tr style=\"text-align: right;\">\n",
              "      <th></th>\n",
              "      <th>OpenPrice</th>\n",
              "      <th>HighPrice</th>\n",
              "      <th>LowPrice</th>\n",
              "      <th>ClosePrice</th>\n",
              "      <th>Volume</th>\n",
              "      <th>NA</th>\n",
              "    </tr>\n",
              "    <tr>\n",
              "      <th>CloseTime</th>\n",
              "      <th></th>\n",
              "      <th></th>\n",
              "      <th></th>\n",
              "      <th></th>\n",
              "      <th></th>\n",
              "      <th></th>\n",
              "    </tr>\n",
              "  </thead>\n",
              "  <tbody>\n",
              "    <tr>\n",
              "      <th>2023-01-08 19:00:00</th>\n",
              "      <td>1264.3</td>\n",
              "      <td>1265.8</td>\n",
              "      <td>1263.4</td>\n",
              "      <td>1265.4</td>\n",
              "      <td>68.608578</td>\n",
              "      <td>8.678471e+04</td>\n",
              "    </tr>\n",
              "    <tr>\n",
              "      <th>2023-01-08 20:00:00</th>\n",
              "      <td>1265.4</td>\n",
              "      <td>1266.5</td>\n",
              "      <td>1264.9</td>\n",
              "      <td>1265.3</td>\n",
              "      <td>58.833158</td>\n",
              "      <td>7.445300e+04</td>\n",
              "    </tr>\n",
              "    <tr>\n",
              "      <th>2023-01-08 21:00:00</th>\n",
              "      <td>1264.8</td>\n",
              "      <td>1271.6</td>\n",
              "      <td>1264.3</td>\n",
              "      <td>1270.7</td>\n",
              "      <td>990.545467</td>\n",
              "      <td>1.256902e+06</td>\n",
              "    </tr>\n",
              "    <tr>\n",
              "      <th>2023-01-08 22:00:00</th>\n",
              "      <td>1270.7</td>\n",
              "      <td>1273.2</td>\n",
              "      <td>1269.2</td>\n",
              "      <td>1269.7</td>\n",
              "      <td>170.549559</td>\n",
              "      <td>2.167616e+05</td>\n",
              "    </tr>\n",
              "    <tr>\n",
              "      <th>2023-01-08 23:00:00</th>\n",
              "      <td>1269.8</td>\n",
              "      <td>1271.4</td>\n",
              "      <td>1268.4</td>\n",
              "      <td>1269.9</td>\n",
              "      <td>212.626950</td>\n",
              "      <td>2.700892e+05</td>\n",
              "    </tr>\n",
              "  </tbody>\n",
              "</table>\n",
              "</div>\n",
              "      <button class=\"colab-df-convert\" onclick=\"convertToInteractive('df-6f442db8-fb98-4768-9452-3d5fe4b46327')\"\n",
              "              title=\"Convert this dataframe to an interactive table.\"\n",
              "              style=\"display:none;\">\n",
              "        \n",
              "  <svg xmlns=\"http://www.w3.org/2000/svg\" height=\"24px\"viewBox=\"0 0 24 24\"\n",
              "       width=\"24px\">\n",
              "    <path d=\"M0 0h24v24H0V0z\" fill=\"none\"/>\n",
              "    <path d=\"M18.56 5.44l.94 2.06.94-2.06 2.06-.94-2.06-.94-.94-2.06-.94 2.06-2.06.94zm-11 1L8.5 8.5l.94-2.06 2.06-.94-2.06-.94L8.5 2.5l-.94 2.06-2.06.94zm10 10l.94 2.06.94-2.06 2.06-.94-2.06-.94-.94-2.06-.94 2.06-2.06.94z\"/><path d=\"M17.41 7.96l-1.37-1.37c-.4-.4-.92-.59-1.43-.59-.52 0-1.04.2-1.43.59L10.3 9.45l-7.72 7.72c-.78.78-.78 2.05 0 2.83L4 21.41c.39.39.9.59 1.41.59.51 0 1.02-.2 1.41-.59l7.78-7.78 2.81-2.81c.8-.78.8-2.07 0-2.86zM5.41 20L4 18.59l7.72-7.72 1.47 1.35L5.41 20z\"/>\n",
              "  </svg>\n",
              "      </button>\n",
              "      \n",
              "  <style>\n",
              "    .colab-df-container {\n",
              "      display:flex;\n",
              "      flex-wrap:wrap;\n",
              "      gap: 12px;\n",
              "    }\n",
              "\n",
              "    .colab-df-convert {\n",
              "      background-color: #E8F0FE;\n",
              "      border: none;\n",
              "      border-radius: 50%;\n",
              "      cursor: pointer;\n",
              "      display: none;\n",
              "      fill: #1967D2;\n",
              "      height: 32px;\n",
              "      padding: 0 0 0 0;\n",
              "      width: 32px;\n",
              "    }\n",
              "\n",
              "    .colab-df-convert:hover {\n",
              "      background-color: #E2EBFA;\n",
              "      box-shadow: 0px 1px 2px rgba(60, 64, 67, 0.3), 0px 1px 3px 1px rgba(60, 64, 67, 0.15);\n",
              "      fill: #174EA6;\n",
              "    }\n",
              "\n",
              "    [theme=dark] .colab-df-convert {\n",
              "      background-color: #3B4455;\n",
              "      fill: #D2E3FC;\n",
              "    }\n",
              "\n",
              "    [theme=dark] .colab-df-convert:hover {\n",
              "      background-color: #434B5C;\n",
              "      box-shadow: 0px 1px 3px 1px rgba(0, 0, 0, 0.15);\n",
              "      filter: drop-shadow(0px 1px 2px rgba(0, 0, 0, 0.3));\n",
              "      fill: #FFFFFF;\n",
              "    }\n",
              "  </style>\n",
              "\n",
              "      <script>\n",
              "        const buttonEl =\n",
              "          document.querySelector('#df-6f442db8-fb98-4768-9452-3d5fe4b46327 button.colab-df-convert');\n",
              "        buttonEl.style.display =\n",
              "          google.colab.kernel.accessAllowed ? 'block' : 'none';\n",
              "\n",
              "        async function convertToInteractive(key) {\n",
              "          const element = document.querySelector('#df-6f442db8-fb98-4768-9452-3d5fe4b46327');\n",
              "          const dataTable =\n",
              "            await google.colab.kernel.invokeFunction('convertToInteractive',\n",
              "                                                     [key], {});\n",
              "          if (!dataTable) return;\n",
              "\n",
              "          const docLinkHtml = 'Like what you see? Visit the ' +\n",
              "            '<a target=\"_blank\" href=https://colab.research.google.com/notebooks/data_table.ipynb>data table notebook</a>'\n",
              "            + ' to learn more about interactive tables.';\n",
              "          element.innerHTML = '';\n",
              "          dataTable['output_type'] = 'display_data';\n",
              "          await google.colab.output.renderOutput(dataTable, element);\n",
              "          const docLink = document.createElement('div');\n",
              "          docLink.innerHTML = docLinkHtml;\n",
              "          element.appendChild(docLink);\n",
              "        }\n",
              "      </script>\n",
              "    </div>\n",
              "  </div>\n",
              "  "
            ]
          },
          "metadata": {},
          "execution_count": 17
        }
      ],
      "source": [
        "eth.head()"
      ]
    },
    {
      "cell_type": "markdown",
      "metadata": {
        "id": "kzYiBTLhcsSp"
      },
      "source": [
        "![green-divider](https://user-images.githubusercontent.com/7065401/52071924-c003ad80-2562-11e9-8297-1c6595f8a7ff.png)\n",
        "\n",
        "### Bonus: Dynamic plots with Bokeh\n",
        "\n",
        "We've also included [Bokeh](https://bokeh.pydata.org/) as part of this main distribution. Bokeh is a plotting library that generates interactive plots, that can be manipulated right within your browser.\n",
        "\n",
        "We first need to import the libraries:"
      ]
    },
    {
      "cell_type": "code",
      "execution_count": 18,
      "metadata": {
        "id": "70IysJC6csSt"
      },
      "outputs": [],
      "source": [
        "from bokeh.plotting import figure, output_file, show\n",
        "from bokeh.io import output_notebook"
      ]
    },
    {
      "cell_type": "code",
      "execution_count": 19,
      "metadata": {
        "id": "8y3sBiPecsSv"
      },
      "outputs": [],
      "source": [
        "output_notebook()"
      ]
    },
    {
      "cell_type": "markdown",
      "metadata": {
        "id": "LQ_fCIcecsS0"
      },
      "source": [
        "And we generate the plot:"
      ]
    },
    {
      "cell_type": "code",
      "execution_count": 20,
      "metadata": {
        "id": "OpuTeVGHcsS0",
        "outputId": "df41688c-d837-4ac0-8e34-de356b94c351",
        "colab": {
          "base_uri": "https://localhost:8080/",
          "height": 634
        }
      },
      "outputs": [
        {
          "output_type": "stream",
          "name": "stderr",
          "text": [
            "BokehDeprecationWarning: 'legend' keyword is deprecated, use explicit 'legend_label', 'legend_field', or 'legend_group' keywords instead\n"
          ]
        },
        {
          "output_type": "display_data",
          "data": {
            "application/javascript": [
              "\n",
              "(function(root) {\n",
              "  function now() {\n",
              "    return new Date();\n",
              "  }\n",
              "\n",
              "  var force = true;\n",
              "\n",
              "  if (typeof root._bokeh_onload_callbacks === \"undefined\" || force === true) {\n",
              "    root._bokeh_onload_callbacks = [];\n",
              "    root._bokeh_is_loading = undefined;\n",
              "  }\n",
              "\n",
              "  var JS_MIME_TYPE = 'application/javascript';\n",
              "  var HTML_MIME_TYPE = 'text/html';\n",
              "  var EXEC_MIME_TYPE = 'application/vnd.bokehjs_exec.v0+json';\n",
              "  var CLASS_NAME = 'output_bokeh rendered_html';\n",
              "\n",
              "  /**\n",
              "   * Render data to the DOM node\n",
              "   */\n",
              "  function render(props, node) {\n",
              "    var script = document.createElement(\"script\");\n",
              "    node.appendChild(script);\n",
              "  }\n",
              "\n",
              "  /**\n",
              "   * Handle when an output is cleared or removed\n",
              "   */\n",
              "  function handleClearOutput(event, handle) {\n",
              "    var cell = handle.cell;\n",
              "\n",
              "    var id = cell.output_area._bokeh_element_id;\n",
              "    var server_id = cell.output_area._bokeh_server_id;\n",
              "    // Clean up Bokeh references\n",
              "    if (id != null && id in Bokeh.index) {\n",
              "      Bokeh.index[id].model.document.clear();\n",
              "      delete Bokeh.index[id];\n",
              "    }\n",
              "\n",
              "    if (server_id !== undefined) {\n",
              "      // Clean up Bokeh references\n",
              "      var cmd = \"from bokeh.io.state import curstate; print(curstate().uuid_to_server['\" + server_id + \"'].get_sessions()[0].document.roots[0]._id)\";\n",
              "      cell.notebook.kernel.execute(cmd, {\n",
              "        iopub: {\n",
              "          output: function(msg) {\n",
              "            var id = msg.content.text.trim();\n",
              "            if (id in Bokeh.index) {\n",
              "              Bokeh.index[id].model.document.clear();\n",
              "              delete Bokeh.index[id];\n",
              "            }\n",
              "          }\n",
              "        }\n",
              "      });\n",
              "      // Destroy server and session\n",
              "      var cmd = \"import bokeh.io.notebook as ion; ion.destroy_server('\" + server_id + \"')\";\n",
              "      cell.notebook.kernel.execute(cmd);\n",
              "    }\n",
              "  }\n",
              "\n",
              "  /**\n",
              "   * Handle when a new output is added\n",
              "   */\n",
              "  function handleAddOutput(event, handle) {\n",
              "    var output_area = handle.output_area;\n",
              "    var output = handle.output;\n",
              "\n",
              "    // limit handleAddOutput to display_data with EXEC_MIME_TYPE content only\n",
              "    if ((output.output_type != \"display_data\") || (!Object.prototype.hasOwnProperty.call(output.data, EXEC_MIME_TYPE))) {\n",
              "      return\n",
              "    }\n",
              "\n",
              "    var toinsert = output_area.element.find(\".\" + CLASS_NAME.split(' ')[0]);\n",
              "\n",
              "    if (output.metadata[EXEC_MIME_TYPE][\"id\"] !== undefined) {\n",
              "      toinsert[toinsert.length - 1].firstChild.textContent = output.data[JS_MIME_TYPE];\n",
              "      // store reference to embed id on output_area\n",
              "      output_area._bokeh_element_id = output.metadata[EXEC_MIME_TYPE][\"id\"];\n",
              "    }\n",
              "    if (output.metadata[EXEC_MIME_TYPE][\"server_id\"] !== undefined) {\n",
              "      var bk_div = document.createElement(\"div\");\n",
              "      bk_div.innerHTML = output.data[HTML_MIME_TYPE];\n",
              "      var script_attrs = bk_div.children[0].attributes;\n",
              "      for (var i = 0; i < script_attrs.length; i++) {\n",
              "        toinsert[toinsert.length - 1].firstChild.setAttribute(script_attrs[i].name, script_attrs[i].value);\n",
              "        toinsert[toinsert.length - 1].firstChild.textContent = bk_div.children[0].textContent\n",
              "      }\n",
              "      // store reference to server id on output_area\n",
              "      output_area._bokeh_server_id = output.metadata[EXEC_MIME_TYPE][\"server_id\"];\n",
              "    }\n",
              "  }\n",
              "\n",
              "  function register_renderer(events, OutputArea) {\n",
              "\n",
              "    function append_mime(data, metadata, element) {\n",
              "      // create a DOM node to render to\n",
              "      var toinsert = this.create_output_subarea(\n",
              "        metadata,\n",
              "        CLASS_NAME,\n",
              "        EXEC_MIME_TYPE\n",
              "      );\n",
              "      this.keyboard_manager.register_events(toinsert);\n",
              "      // Render to node\n",
              "      var props = {data: data, metadata: metadata[EXEC_MIME_TYPE]};\n",
              "      render(props, toinsert[toinsert.length - 1]);\n",
              "      element.append(toinsert);\n",
              "      return toinsert\n",
              "    }\n",
              "\n",
              "    /* Handle when an output is cleared or removed */\n",
              "    events.on('clear_output.CodeCell', handleClearOutput);\n",
              "    events.on('delete.Cell', handleClearOutput);\n",
              "\n",
              "    /* Handle when a new output is added */\n",
              "    events.on('output_added.OutputArea', handleAddOutput);\n",
              "\n",
              "    /**\n",
              "     * Register the mime type and append_mime function with output_area\n",
              "     */\n",
              "    OutputArea.prototype.register_mime_type(EXEC_MIME_TYPE, append_mime, {\n",
              "      /* Is output safe? */\n",
              "      safe: true,\n",
              "      /* Index of renderer in `output_area.display_order` */\n",
              "      index: 0\n",
              "    });\n",
              "  }\n",
              "\n",
              "  // register the mime type if in Jupyter Notebook environment and previously unregistered\n",
              "  if (root.Jupyter !== undefined) {\n",
              "    var events = require('base/js/events');\n",
              "    var OutputArea = require('notebook/js/outputarea').OutputArea;\n",
              "\n",
              "    if (OutputArea.prototype.mime_types().indexOf(EXEC_MIME_TYPE) == -1) {\n",
              "      register_renderer(events, OutputArea);\n",
              "    }\n",
              "  }\n",
              "\n",
              "  \n",
              "  if (typeof (root._bokeh_timeout) === \"undefined\" || force === true) {\n",
              "    root._bokeh_timeout = Date.now() + 5000;\n",
              "    root._bokeh_failed_load = false;\n",
              "  }\n",
              "\n",
              "  var NB_LOAD_WARNING = {'data': {'text/html':\n",
              "     \"<div style='background-color: #fdd'>\\n\"+\n",
              "     \"<p>\\n\"+\n",
              "     \"BokehJS does not appear to have successfully loaded. If loading BokehJS from CDN, this \\n\"+\n",
              "     \"may be due to a slow or bad network connection. Possible fixes:\\n\"+\n",
              "     \"</p>\\n\"+\n",
              "     \"<ul>\\n\"+\n",
              "     \"<li>re-rerun `output_notebook()` to attempt to load from CDN again, or</li>\\n\"+\n",
              "     \"<li>use INLINE resources instead, as so:</li>\\n\"+\n",
              "     \"</ul>\\n\"+\n",
              "     \"<code>\\n\"+\n",
              "     \"from bokeh.resources import INLINE\\n\"+\n",
              "     \"output_notebook(resources=INLINE)\\n\"+\n",
              "     \"</code>\\n\"+\n",
              "     \"</div>\"}};\n",
              "\n",
              "  function display_loaded() {\n",
              "    var el = document.getElementById(null);\n",
              "    if (el != null) {\n",
              "      el.textContent = \"BokehJS is loading...\";\n",
              "    }\n",
              "    if (root.Bokeh !== undefined) {\n",
              "      if (el != null) {\n",
              "        el.textContent = \"BokehJS \" + root.Bokeh.version + \" successfully loaded.\";\n",
              "      }\n",
              "    } else if (Date.now() < root._bokeh_timeout) {\n",
              "      setTimeout(display_loaded, 100)\n",
              "    }\n",
              "  }\n",
              "\n",
              "\n",
              "  function run_callbacks() {\n",
              "    try {\n",
              "      root._bokeh_onload_callbacks.forEach(function(callback) {\n",
              "        if (callback != null)\n",
              "          callback();\n",
              "      });\n",
              "    } finally {\n",
              "      delete root._bokeh_onload_callbacks\n",
              "    }\n",
              "    console.debug(\"Bokeh: all callbacks have finished\");\n",
              "  }\n",
              "\n",
              "  function load_libs(css_urls, js_urls, callback) {\n",
              "    if (css_urls == null) css_urls = [];\n",
              "    if (js_urls == null) js_urls = [];\n",
              "\n",
              "    root._bokeh_onload_callbacks.push(callback);\n",
              "    if (root._bokeh_is_loading > 0) {\n",
              "      console.debug(\"Bokeh: BokehJS is being loaded, scheduling callback at\", now());\n",
              "      return null;\n",
              "    }\n",
              "    if (js_urls == null || js_urls.length === 0) {\n",
              "      run_callbacks();\n",
              "      return null;\n",
              "    }\n",
              "    console.debug(\"Bokeh: BokehJS not loaded, scheduling load and callback at\", now());\n",
              "    root._bokeh_is_loading = css_urls.length + js_urls.length;\n",
              "\n",
              "    function on_load() {\n",
              "      root._bokeh_is_loading--;\n",
              "      if (root._bokeh_is_loading === 0) {\n",
              "        console.debug(\"Bokeh: all BokehJS libraries/stylesheets loaded\");\n",
              "        run_callbacks()\n",
              "      }\n",
              "    }\n",
              "\n",
              "    function on_error(url) {\n",
              "      console.error(\"failed to load \" + url);\n",
              "    }\n",
              "\n",
              "    for (let i = 0; i < css_urls.length; i++) {\n",
              "      const url = css_urls[i];\n",
              "      const element = document.createElement(\"link\");\n",
              "      element.onload = on_load;\n",
              "      element.onerror = on_error.bind(null, url);\n",
              "      element.rel = \"stylesheet\";\n",
              "      element.type = \"text/css\";\n",
              "      element.href = url;\n",
              "      console.debug(\"Bokeh: injecting link tag for BokehJS stylesheet: \", url);\n",
              "      document.body.appendChild(element);\n",
              "    }\n",
              "\n",
              "    const hashes = {\"https://cdn.bokeh.org/bokeh/release/bokeh-2.3.3.min.js\": \"dM3QQsP+wXdHg42wTqW85BjZQdLNNIXqlPw/BgKoExPmTG7ZLML4EGqLMfqHT6ON\", \"https://cdn.bokeh.org/bokeh/release/bokeh-tables-2.3.3.min.js\": \"8x57I4YuIfu8XyZfFo0XVr2WAT8EK4rh/uDe3wF7YuW2FNUSNEpJbsPaB1nJ2fz2\", \"https://cdn.bokeh.org/bokeh/release/bokeh-widgets-2.3.3.min.js\": \"3QTqdz9LyAm2i0sG5XTePsHec3UHWwVsrOL68SYRoAXsafvfAyqtQ+h440+qIBhS\"};\n",
              "\n",
              "    for (let i = 0; i < js_urls.length; i++) {\n",
              "      const url = js_urls[i];\n",
              "      const element = document.createElement('script');\n",
              "      element.onload = on_load;\n",
              "      element.onerror = on_error.bind(null, url);\n",
              "      element.async = false;\n",
              "      element.src = url;\n",
              "      if (url in hashes) {\n",
              "        element.crossOrigin = \"anonymous\";\n",
              "        element.integrity = \"sha384-\" + hashes[url];\n",
              "      }\n",
              "      console.debug(\"Bokeh: injecting script tag for BokehJS library: \", url);\n",
              "      document.head.appendChild(element);\n",
              "    }\n",
              "  };\n",
              "\n",
              "  function inject_raw_css(css) {\n",
              "    const element = document.createElement(\"style\");\n",
              "    element.appendChild(document.createTextNode(css));\n",
              "    document.body.appendChild(element);\n",
              "  }\n",
              "\n",
              "  \n",
              "  var js_urls = [\"https://cdn.bokeh.org/bokeh/release/bokeh-2.3.3.min.js\", \"https://cdn.bokeh.org/bokeh/release/bokeh-widgets-2.3.3.min.js\", \"https://cdn.bokeh.org/bokeh/release/bokeh-tables-2.3.3.min.js\"];\n",
              "  var css_urls = [];\n",
              "  \n",
              "\n",
              "  var inline_js = [\n",
              "    function(Bokeh) {\n",
              "      Bokeh.set_log_level(\"info\");\n",
              "    },\n",
              "    function(Bokeh) {\n",
              "    \n",
              "    \n",
              "    }\n",
              "  ];\n",
              "\n",
              "  function run_inline_js() {\n",
              "    \n",
              "    if (root.Bokeh !== undefined || force === true) {\n",
              "      \n",
              "    for (var i = 0; i < inline_js.length; i++) {\n",
              "      inline_js[i].call(root, root.Bokeh);\n",
              "    }\n",
              "    } else if (Date.now() < root._bokeh_timeout) {\n",
              "      setTimeout(run_inline_js, 100);\n",
              "    } else if (!root._bokeh_failed_load) {\n",
              "      console.log(\"Bokeh: BokehJS failed to load within specified timeout.\");\n",
              "      root._bokeh_failed_load = true;\n",
              "    } else if (force !== true) {\n",
              "      var cell = $(document.getElementById(null)).parents('.cell').data().cell;\n",
              "      cell.output_area.append_execute_result(NB_LOAD_WARNING)\n",
              "    }\n",
              "\n",
              "  }\n",
              "\n",
              "  if (root._bokeh_is_loading === 0) {\n",
              "    console.debug(\"Bokeh: BokehJS loaded, going straight to plotting\");\n",
              "    run_inline_js();\n",
              "  } else {\n",
              "    load_libs(css_urls, js_urls, function() {\n",
              "      console.debug(\"Bokeh: BokehJS plotting callback run at\", now());\n",
              "      run_inline_js();\n",
              "    });\n",
              "  }\n",
              "}(window));"
            ],
            "application/vnd.bokehjs_load.v0+json": "\n(function(root) {\n  function now() {\n    return new Date();\n  }\n\n  var force = true;\n\n  if (typeof root._bokeh_onload_callbacks === \"undefined\" || force === true) {\n    root._bokeh_onload_callbacks = [];\n    root._bokeh_is_loading = undefined;\n  }\n\n  \n\n  \n  if (typeof (root._bokeh_timeout) === \"undefined\" || force === true) {\n    root._bokeh_timeout = Date.now() + 5000;\n    root._bokeh_failed_load = false;\n  }\n\n  var NB_LOAD_WARNING = {'data': {'text/html':\n     \"<div style='background-color: #fdd'>\\n\"+\n     \"<p>\\n\"+\n     \"BokehJS does not appear to have successfully loaded. If loading BokehJS from CDN, this \\n\"+\n     \"may be due to a slow or bad network connection. Possible fixes:\\n\"+\n     \"</p>\\n\"+\n     \"<ul>\\n\"+\n     \"<li>re-rerun `output_notebook()` to attempt to load from CDN again, or</li>\\n\"+\n     \"<li>use INLINE resources instead, as so:</li>\\n\"+\n     \"</ul>\\n\"+\n     \"<code>\\n\"+\n     \"from bokeh.resources import INLINE\\n\"+\n     \"output_notebook(resources=INLINE)\\n\"+\n     \"</code>\\n\"+\n     \"</div>\"}};\n\n  function display_loaded() {\n    var el = document.getElementById(null);\n    if (el != null) {\n      el.textContent = \"BokehJS is loading...\";\n    }\n    if (root.Bokeh !== undefined) {\n      if (el != null) {\n        el.textContent = \"BokehJS \" + root.Bokeh.version + \" successfully loaded.\";\n      }\n    } else if (Date.now() < root._bokeh_timeout) {\n      setTimeout(display_loaded, 100)\n    }\n  }\n\n\n  function run_callbacks() {\n    try {\n      root._bokeh_onload_callbacks.forEach(function(callback) {\n        if (callback != null)\n          callback();\n      });\n    } finally {\n      delete root._bokeh_onload_callbacks\n    }\n    console.debug(\"Bokeh: all callbacks have finished\");\n  }\n\n  function load_libs(css_urls, js_urls, callback) {\n    if (css_urls == null) css_urls = [];\n    if (js_urls == null) js_urls = [];\n\n    root._bokeh_onload_callbacks.push(callback);\n    if (root._bokeh_is_loading > 0) {\n      console.debug(\"Bokeh: BokehJS is being loaded, scheduling callback at\", now());\n      return null;\n    }\n    if (js_urls == null || js_urls.length === 0) {\n      run_callbacks();\n      return null;\n    }\n    console.debug(\"Bokeh: BokehJS not loaded, scheduling load and callback at\", now());\n    root._bokeh_is_loading = css_urls.length + js_urls.length;\n\n    function on_load() {\n      root._bokeh_is_loading--;\n      if (root._bokeh_is_loading === 0) {\n        console.debug(\"Bokeh: all BokehJS libraries/stylesheets loaded\");\n        run_callbacks()\n      }\n    }\n\n    function on_error(url) {\n      console.error(\"failed to load \" + url);\n    }\n\n    for (let i = 0; i < css_urls.length; i++) {\n      const url = css_urls[i];\n      const element = document.createElement(\"link\");\n      element.onload = on_load;\n      element.onerror = on_error.bind(null, url);\n      element.rel = \"stylesheet\";\n      element.type = \"text/css\";\n      element.href = url;\n      console.debug(\"Bokeh: injecting link tag for BokehJS stylesheet: \", url);\n      document.body.appendChild(element);\n    }\n\n    const hashes = {\"https://cdn.bokeh.org/bokeh/release/bokeh-2.3.3.min.js\": \"dM3QQsP+wXdHg42wTqW85BjZQdLNNIXqlPw/BgKoExPmTG7ZLML4EGqLMfqHT6ON\", \"https://cdn.bokeh.org/bokeh/release/bokeh-tables-2.3.3.min.js\": \"8x57I4YuIfu8XyZfFo0XVr2WAT8EK4rh/uDe3wF7YuW2FNUSNEpJbsPaB1nJ2fz2\", \"https://cdn.bokeh.org/bokeh/release/bokeh-widgets-2.3.3.min.js\": \"3QTqdz9LyAm2i0sG5XTePsHec3UHWwVsrOL68SYRoAXsafvfAyqtQ+h440+qIBhS\"};\n\n    for (let i = 0; i < js_urls.length; i++) {\n      const url = js_urls[i];\n      const element = document.createElement('script');\n      element.onload = on_load;\n      element.onerror = on_error.bind(null, url);\n      element.async = false;\n      element.src = url;\n      if (url in hashes) {\n        element.crossOrigin = \"anonymous\";\n        element.integrity = \"sha384-\" + hashes[url];\n      }\n      console.debug(\"Bokeh: injecting script tag for BokehJS library: \", url);\n      document.head.appendChild(element);\n    }\n  };\n\n  function inject_raw_css(css) {\n    const element = document.createElement(\"style\");\n    element.appendChild(document.createTextNode(css));\n    document.body.appendChild(element);\n  }\n\n  \n  var js_urls = [\"https://cdn.bokeh.org/bokeh/release/bokeh-2.3.3.min.js\", \"https://cdn.bokeh.org/bokeh/release/bokeh-widgets-2.3.3.min.js\", \"https://cdn.bokeh.org/bokeh/release/bokeh-tables-2.3.3.min.js\"];\n  var css_urls = [];\n  \n\n  var inline_js = [\n    function(Bokeh) {\n      Bokeh.set_log_level(\"info\");\n    },\n    function(Bokeh) {\n    \n    \n    }\n  ];\n\n  function run_inline_js() {\n    \n    if (root.Bokeh !== undefined || force === true) {\n      \n    for (var i = 0; i < inline_js.length; i++) {\n      inline_js[i].call(root, root.Bokeh);\n    }\n    } else if (Date.now() < root._bokeh_timeout) {\n      setTimeout(run_inline_js, 100);\n    } else if (!root._bokeh_failed_load) {\n      console.log(\"Bokeh: BokehJS failed to load within specified timeout.\");\n      root._bokeh_failed_load = true;\n    } else if (force !== true) {\n      var cell = $(document.getElementById(null)).parents('.cell').data().cell;\n      cell.output_area.append_execute_result(NB_LOAD_WARNING)\n    }\n\n  }\n\n  if (root._bokeh_is_loading === 0) {\n    console.debug(\"Bokeh: BokehJS loaded, going straight to plotting\");\n    run_inline_js();\n  } else {\n    load_libs(css_urls, js_urls, function() {\n      console.debug(\"Bokeh: BokehJS plotting callback run at\", now());\n      run_inline_js();\n    });\n  }\n}(window));"
          },
          "metadata": {}
        },
        {
          "output_type": "display_data",
          "data": {
            "text/html": [
              "\n",
              "\n",
              "\n",
              "\n",
              "\n",
              "\n",
              "  <div class=\"bk-root\" id=\"5364eee8-1431-48f3-aeee-1a53dfffdda7\" data-root-id=\"1002\"></div>\n"
            ]
          },
          "metadata": {}
        },
        {
          "output_type": "display_data",
          "data": {
            "application/javascript": [
              "(function(root) {\n",
              "  function embed_document(root) {\n",
              "    \n",
              "  var docs_json = {\"4d81b301-abfb-40c7-8220-9cf7365fe1d1\":{\"defs\":[],\"roots\":{\"references\":[{\"attributes\":{\"below\":[{\"id\":\"1013\"}],\"center\":[{\"id\":\"1016\"},{\"id\":\"1020\"},{\"id\":\"1062\"}],\"left\":[{\"id\":\"1017\"}],\"renderers\":[{\"id\":\"1038\"}],\"title\":{\"id\":\"1003\"},\"toolbar\":{\"id\":\"1028\"},\"width\":800,\"x_range\":{\"id\":\"1005\"},\"x_scale\":{\"id\":\"1009\"},\"y_range\":{\"id\":\"1007\"},\"y_scale\":{\"id\":\"1011\"}},\"id\":\"1002\",\"subtype\":\"Figure\",\"type\":\"Plot\"},{\"attributes\":{},\"id\":\"1041\",\"type\":\"BasicTickFormatter\"},{\"attributes\":{\"line_color\":\"#f2a900\",\"x\":{\"field\":\"x\"},\"y\":{\"field\":\"y\"}},\"id\":\"1036\",\"type\":\"Line\"},{\"attributes\":{\"bottom_units\":\"screen\",\"fill_alpha\":0.5,\"fill_color\":\"lightgrey\",\"left_units\":\"screen\",\"level\":\"overlay\",\"line_alpha\":1.0,\"line_color\":\"black\",\"line_dash\":[4,4],\"line_width\":2,\"right_units\":\"screen\",\"syncable\":false,\"top_units\":\"screen\"},\"id\":\"1027\",\"type\":\"BoxAnnotation\"},{\"attributes\":{},\"id\":\"1024\",\"type\":\"SaveTool\"},{\"attributes\":{},\"id\":\"1042\",\"type\":\"AllLabels\"},{\"attributes\":{\"items\":[{\"id\":\"1063\"}],\"location\":\"top_left\"},\"id\":\"1062\",\"type\":\"Legend\"},{\"attributes\":{\"axis\":{\"id\":\"1017\"},\"dimension\":1,\"grid_line_alpha\":0.3,\"ticker\":null},\"id\":\"1020\",\"type\":\"Grid\"},{\"attributes\":{\"mantissas\":[1,2,5],\"max_interval\":500.0,\"num_minor_ticks\":0},\"id\":\"1050\",\"type\":\"AdaptiveTicker\"},{\"attributes\":{\"base\":60,\"mantissas\":[1,2,5,10,15,20,30],\"max_interval\":1800000.0,\"min_interval\":1000.0,\"num_minor_ticks\":0},\"id\":\"1051\",\"type\":\"AdaptiveTicker\"},{\"attributes\":{\"data\":{\"x\":{\"__ndarray__\":\"AAD4DyxZeEIAAOB+L1l4QgAAyO0yWXhCAACwXDZZeEIAAJjLOVl4QgAAgDo9WXhCAABoqUBZeEIAAFAYRFl4QgAAOIdHWXhCAAAg9kpZeEIAAAhlTll4QgAA8NNRWXhCAADYQlVZeEIAAMCxWFl4QgAAqCBcWXhCAACQj19ZeEIAAHj+Yll4QgAAYG1mWXhCAABI3GlZeEIAADBLbVl4QgAAGLpwWXhCAAAAKXRZeEIAAOiXd1l4QgAA0AZ7WXhCAAC4dX5ZeEIAAKDkgVl4QgAAiFOFWXhCAABwwohZeEIAAFgxjFl4QgAAQKCPWXhCAAAoD5NZeEIAABB+lll4QgAA+OyZWXhCAADgW51ZeEIAAMjKoFl4QgAAsDmkWXhCAACYqKdZeEIAAIAXq1l4QgAAaIauWXhCAABQ9bFZeEIAADhktVl4QgAAINO4WXhCAAAIQrxZeEIAAPCwv1l4QgAA2B/DWXhCAADAjsZZeEIAAKj9yVl4QgAAkGzNWXhCAAB429BZeEIAAGBK1Fl4QgAASLnXWXhCAAAwKNtZeEIAABiX3ll4QgAAAAbiWXhCAADodOVZeEIAANDj6Fl4QgAAuFLsWXhCAACgwe9ZeEIAAIgw81l4QgAAcJ/2WXhCAABYDvpZeEIAAEB9/Vl4QgAAKOwAWnhCAAAQWwRaeEIAAPjJB1p4QgAA4DgLWnhCAADIpw5aeEIAALAWElp4QgAAmIUVWnhCAACA9BhaeEIAAGhjHFp4QgAAUNIfWnhCAAA4QSNaeEIAACCwJlp4QgAACB8qWnhCAADwjS1aeEIAANj8MFp4QgAAwGs0WnhCAACo2jdaeEIAAJBJO1p4QgAAeLg+WnhCAABgJ0JaeEIAAEiWRVp4QgAAMAVJWnhCAAAYdExaeEIAAADjT1p4QgAA6FFTWnhCAADQwFZaeEIAALgvWlp4QgAAoJ5dWnhCAACIDWFaeEIAAHB8ZFp4QgAAWOtnWnhCAABAWmtaeEIAACjJblp4QgAAEDhyWnhCAAD4pnVaeEIAAOAVeVp4QgAAyIR8WnhCAACw839aeEIAAJhig1p4QgAAgNGGWnhCAABoQIpaeEIAAFCvjVp4QgAAOB6RWnhCAAAgjZRaeEIAAAj8l1p4QgAA8GqbWnhCAADY2Z5aeEIAAMBIolp4QgAAqLelWnhCAACQJqlaeEIAAHiVrFp4QgAAYASwWnhCAABIc7NaeEIAADDitlp4QgAAGFG6WnhCAAAAwL1aeEIAAOguwVp4QgAA0J3EWnhCAAC4DMhaeEIAAKB7y1p4QgAAiOrOWnhCAABwWdJaeEIAAFjI1Vp4QgAAQDfZWnhCAAAoptxaeEIAABAV4Fp4QgAA+IPjWnhCAADg8uZaeEIAAMhh6lp4QgAAsNDtWnhCAACYP/FaeEIAAICu9Fp4QgAAaB34WnhCAABQjPtaeEIAADj7/lp4QgAAIGoCW3hCAAAI2QVbeEIAAPBHCVt4QgAA2LYMW3hCAADAJRBbeEIAAKiUE1t4QgAAkAMXW3hCAAB4chpbeEIAAGDhHVt4QgAASFAhW3hCAAAwvyRbeEIAABguKFt4QgAAAJ0rW3hCAADoCy9beEIAANB6Mlt4QgAAuOk1W3hCAACgWDlbeEIAAIjHPFt4QgAAcDZAW3hCAABYpUNbeEIAAEAUR1t4QgAAKINKW3hCAAAQ8k1beEIAAPhgUVt4QgAA4M9UW3hCAADIPlhbeEIAALCtW1t4QgAAmBxfW3hCAACAi2JbeEIAAGj6ZVt4QgAAUGlpW3hCAAA42GxbeEI=\",\"dtype\":\"float64\",\"order\":\"little\",\"shape\":[169]},\"y\":[16926,16929,16965,16954,16965,17119,17184,17178,17191,17199,17228,17208,17189,17203,17195,17240,17264,17241,17250,17225,17263,17271,17325,17359,17350,17298,17209,17178,17203,17179,17214,17193,17180,17206,17215,17226,17204,17198,17257,17249,17272,17256,17220,17244,17287,17328,17307,17331,17434,17431,17473,17467,17439,17446,17471,17460,17390,17419,17413,17409,17442,17449,17450,17446,17442,17438,17418,17415,17411,17328,17347,17383,17488,17549,17555,17559,17572,17930,18245,18232,18200,18224,18217,18086,18148,18137,18144,18167,18184,18206,18268,18291,17994,18090,18135,18840,18802,18898,19059,18830,18919,18853,18777,18808,18836,18879,18824,18790,18856,18824,18844,18913,19046,18922,18859,18858,19016,19267,19131,19259,19300,19364,19477,19814,19856,19931,20906,20937,20933,20969,20901,20840,20964,20901,21005,20521,20508,20732,20911,20942,20828,20785,20805,20762,20761,20795,20881,20900,20992,20960,20771,20775,20679,20730,20702,20749,20718,20738,20617,20752,20735,20728,20700,20714,20798,20921,20879,20923,20811]},\"selected\":{\"id\":\"1047\"},\"selection_policy\":{\"id\":\"1048\"}},\"id\":\"1035\",\"type\":\"ColumnDataSource\"},{\"attributes\":{\"text\":\"Crypto Prices\"},\"id\":\"1003\",\"type\":\"Title\"},{\"attributes\":{},\"id\":\"1044\",\"type\":\"DatetimeTickFormatter\"},{\"attributes\":{},\"id\":\"1009\",\"type\":\"LinearScale\"},{\"attributes\":{\"days\":[1,2,3,4,5,6,7,8,9,10,11,12,13,14,15,16,17,18,19,20,21,22,23,24,25,26,27,28,29,30,31]},\"id\":\"1053\",\"type\":\"DaysTicker\"},{\"attributes\":{},\"id\":\"1021\",\"type\":\"PanTool\"},{\"attributes\":{},\"id\":\"1007\",\"type\":\"DataRange1d\"},{\"attributes\":{},\"id\":\"1045\",\"type\":\"AllLabels\"},{\"attributes\":{\"base\":24,\"mantissas\":[1,2,4,6,8,12],\"max_interval\":43200000.0,\"min_interval\":3600000.0,\"num_minor_ticks\":0},\"id\":\"1052\",\"type\":\"AdaptiveTicker\"},{\"attributes\":{},\"id\":\"1022\",\"type\":\"WheelZoomTool\"},{\"attributes\":{\"months\":[0,1,2,3,4,5,6,7,8,9,10,11]},\"id\":\"1057\",\"type\":\"MonthsTicker\"},{\"attributes\":{\"months\":[0,2,4,6,8,10]},\"id\":\"1058\",\"type\":\"MonthsTicker\"},{\"attributes\":{},\"id\":\"1005\",\"type\":\"DataRange1d\"},{\"attributes\":{\"days\":[1,4,7,10,13,16,19,22,25,28]},\"id\":\"1054\",\"type\":\"DaysTicker\"},{\"attributes\":{},\"id\":\"1011\",\"type\":\"LinearScale\"},{\"attributes\":{\"days\":[1,15]},\"id\":\"1056\",\"type\":\"DaysTicker\"},{\"attributes\":{\"axis_label\":\"Date\",\"formatter\":{\"id\":\"1044\"},\"major_label_policy\":{\"id\":\"1045\"},\"ticker\":{\"id\":\"1014\"}},\"id\":\"1013\",\"type\":\"DatetimeAxis\"},{\"attributes\":{},\"id\":\"1047\",\"type\":\"Selection\"},{\"attributes\":{\"months\":[0,6]},\"id\":\"1060\",\"type\":\"MonthsTicker\"},{\"attributes\":{\"num_minor_ticks\":5,\"tickers\":[{\"id\":\"1050\"},{\"id\":\"1051\"},{\"id\":\"1052\"},{\"id\":\"1053\"},{\"id\":\"1054\"},{\"id\":\"1055\"},{\"id\":\"1056\"},{\"id\":\"1057\"},{\"id\":\"1058\"},{\"id\":\"1059\"},{\"id\":\"1060\"},{\"id\":\"1061\"}]},\"id\":\"1014\",\"type\":\"DatetimeTicker\"},{\"attributes\":{},\"id\":\"1048\",\"type\":\"UnionRenderers\"},{\"attributes\":{\"days\":[1,8,15,22]},\"id\":\"1055\",\"type\":\"DaysTicker\"},{\"attributes\":{\"axis\":{\"id\":\"1013\"},\"grid_line_alpha\":0.3,\"ticker\":null},\"id\":\"1016\",\"type\":\"Grid\"},{\"attributes\":{},\"id\":\"1061\",\"type\":\"YearsTicker\"},{\"attributes\":{\"active_multi\":null,\"tools\":[{\"id\":\"1021\"},{\"id\":\"1022\"},{\"id\":\"1023\"},{\"id\":\"1024\"},{\"id\":\"1025\"},{\"id\":\"1026\"}]},\"id\":\"1028\",\"type\":\"Toolbar\"},{\"attributes\":{},\"id\":\"1026\",\"type\":\"HelpTool\"},{\"attributes\":{\"months\":[0,4,8]},\"id\":\"1059\",\"type\":\"MonthsTicker\"},{\"attributes\":{\"overlay\":{\"id\":\"1027\"}},\"id\":\"1023\",\"type\":\"BoxZoomTool\"},{\"attributes\":{\"data_source\":{\"id\":\"1035\"},\"glyph\":{\"id\":\"1036\"},\"hover_glyph\":null,\"muted_glyph\":null,\"nonselection_glyph\":{\"id\":\"1037\"},\"view\":{\"id\":\"1039\"}},\"id\":\"1038\",\"type\":\"GlyphRenderer\"},{\"attributes\":{},\"id\":\"1025\",\"type\":\"ResetTool\"},{\"attributes\":{\"label\":{\"value\":\"Bitcoin\"},\"renderers\":[{\"id\":\"1038\"}]},\"id\":\"1063\",\"type\":\"LegendItem\"},{\"attributes\":{\"source\":{\"id\":\"1035\"}},\"id\":\"1039\",\"type\":\"CDSView\"},{\"attributes\":{},\"id\":\"1018\",\"type\":\"BasicTicker\"},{\"attributes\":{\"line_alpha\":0.1,\"line_color\":\"#f2a900\",\"x\":{\"field\":\"x\"},\"y\":{\"field\":\"y\"}},\"id\":\"1037\",\"type\":\"Line\"},{\"attributes\":{\"axis_label\":\"Price\",\"formatter\":{\"id\":\"1041\"},\"major_label_policy\":{\"id\":\"1042\"},\"ticker\":{\"id\":\"1018\"}},\"id\":\"1017\",\"type\":\"LinearAxis\"}],\"root_ids\":[\"1002\"]},\"title\":\"Bokeh Application\",\"version\":\"2.3.3\"}};\n",
              "  var render_items = [{\"docid\":\"4d81b301-abfb-40c7-8220-9cf7365fe1d1\",\"root_ids\":[\"1002\"],\"roots\":{\"1002\":\"5364eee8-1431-48f3-aeee-1a53dfffdda7\"}}];\n",
              "  root.Bokeh.embed.embed_items_notebook(docs_json, render_items);\n",
              "\n",
              "  }\n",
              "  if (root.Bokeh !== undefined) {\n",
              "    embed_document(root);\n",
              "  } else {\n",
              "    var attempts = 0;\n",
              "    var timer = setInterval(function(root) {\n",
              "      if (root.Bokeh !== undefined) {\n",
              "        clearInterval(timer);\n",
              "        embed_document(root);\n",
              "      } else {\n",
              "        attempts++;\n",
              "        if (attempts > 100) {\n",
              "          clearInterval(timer);\n",
              "          console.log(\"Bokeh: ERROR: Unable to run BokehJS code because BokehJS library is missing\");\n",
              "        }\n",
              "      }\n",
              "    }, 10, root)\n",
              "  }\n",
              "})(window);"
            ],
            "application/vnd.bokehjs_exec.v0+json": ""
          },
          "metadata": {
            "application/vnd.bokehjs_exec.v0+json": {
              "id": "1002"
            }
          }
        }
      ],
      "source": [
        "p1 = figure(x_axis_type=\"datetime\", title=\"Crypto Prices\", width=800)\n",
        "p1.grid.grid_line_alpha=0.3\n",
        "p1.xaxis.axis_label = 'Date'\n",
        "p1.yaxis.axis_label = 'Price'\n",
        "\n",
        "p1.line(btc.index, btc['ClosePrice'], color='#f2a900', legend='Bitcoin')\n",
        "#p1.line(eth.index, eth['ClosePrice'], color='#A6CEE3', legend='Ether')\n",
        "\n",
        "p1.legend.location = \"top_left\"\n",
        "\n",
        "show(p1)"
      ]
    },
    {
      "cell_type": "markdown",
      "metadata": {
        "id": "dfvXjRFpcsS8"
      },
      "source": [
        "☝️ as you can see, the plot is interactive. Try zomming in and out, and scrolling in the plot."
      ]
    },
    {
      "cell_type": "markdown",
      "metadata": {
        "id": "gvpWPoSecsS9"
      },
      "source": [
        "![green-divider](https://user-images.githubusercontent.com/7065401/52071924-c003ad80-2562-11e9-8297-1c6595f8a7ff.png)\n",
        "\n",
        "## Part 4: Exporting to Excel\n",
        "\n",
        "We're now ready to generate an Excel file from the downloaded prices. Working with Excel and other formats (like CSV or JSON) is extremely simple in Jupyter Lab (thanks to pandas and Python). Our first step will be to create an \"Excel writer\", a component from the `pandas` package:"
      ]
    },
    {
      "cell_type": "code",
      "execution_count": 21,
      "metadata": {
        "id": "7aRZoPdhcsTE"
      },
      "outputs": [],
      "source": [
        "writer = pd.ExcelWriter('cryptos.xlsx')"
      ]
    },
    {
      "cell_type": "markdown",
      "metadata": {
        "id": "5awLDa1EcsTQ"
      },
      "source": [
        "We'll now write both our Bitcoin and Ether data as separate sheets:"
      ]
    },
    {
      "cell_type": "code",
      "execution_count": 22,
      "metadata": {
        "id": "KpKaAbPGcsTc"
      },
      "outputs": [],
      "source": [
        "btc.to_excel(writer, sheet_name='Bitcoin')"
      ]
    },
    {
      "cell_type": "code",
      "execution_count": 23,
      "metadata": {
        "id": "HIsbbNr5csTd"
      },
      "outputs": [],
      "source": [
        "eth.to_excel(writer, sheet_name='Ether')"
      ]
    },
    {
      "cell_type": "markdown",
      "metadata": {
        "id": "LEJQzZ08csTd"
      },
      "source": [
        "And finally, we can save the file:"
      ]
    },
    {
      "cell_type": "code",
      "execution_count": 24,
      "metadata": {
        "id": "Z64n_9gVcsTe"
      },
      "outputs": [],
      "source": [
        "writer.save()"
      ]
    },
    {
      "cell_type": "markdown",
      "metadata": {
        "id": "VTXCUorVcsTg"
      },
      "source": [
        "Once you've saved the file, you should see it in the left side navigation bar:\n",
        "\n",
        "![Excel file](https://github.com/ine-rmotr-curriculum/ds-content-interactive-jupyterlab-tutorial/blob/master/images/_5.png?raw=1)"
      ]
    },
    {
      "cell_type": "markdown",
      "metadata": {
        "id": "ln0C2HxicsTg"
      },
      "source": [
        "## Final words and how to get help\n",
        "\n",
        "That's it! It's your time now to start working and playing around with jupyter lab and Notebooks.ai. This product is in an early stage, so we'd love to receive all your feedback and suggestions. If you need help or ideas for us to implement, create an issue in the following replo: [https://github.com/notebooks-ai/notebooks-help](https://github.com/notebooks-ai/notebooks-help). It'll be highly appreciated!"
      ]
    },
    {
      "cell_type": "markdown",
      "metadata": {
        "id": "rO1xqY4bcsTh"
      },
      "source": [
        "![purple-divider](https://user-images.githubusercontent.com/7065401/52071927-c1cd7100-2562-11e9-908a-dde91ba14e59.png)"
      ]
    }
  ],
  "metadata": {
    "kernelspec": {
      "display_name": "Python 3",
      "language": "python",
      "name": "python3"
    },
    "language_info": {
      "codemirror_mode": {
        "name": "ipython",
        "version": 3
      },
      "file_extension": ".py",
      "mimetype": "text/x-python",
      "name": "python",
      "nbconvert_exporter": "python",
      "pygments_lexer": "ipython3",
      "version": "3.6.8"
    },
    "colab": {
      "provenance": []
    }
  },
  "nbformat": 4,
  "nbformat_minor": 0
}