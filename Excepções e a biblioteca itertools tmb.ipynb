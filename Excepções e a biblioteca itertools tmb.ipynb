{
  "nbformat": 4,
  "nbformat_minor": 0,
  "metadata": {
    "colab": {
      "provenance": [],
      "authorship_tag": "ABX9TyOTns3QhhX0Ihrvs9HYATx1",
      "include_colab_link": true
    },
    "kernelspec": {
      "name": "python3",
      "display_name": "Python 3"
    },
    "language_info": {
      "name": "python"
    }
  },
  "cells": [
    {
      "cell_type": "markdown",
      "metadata": {
        "id": "view-in-github",
        "colab_type": "text"
      },
      "source": [
        "<a href=\"https://colab.research.google.com/github/ManJ-PC/Py/blob/master/Excep%C3%A7%C3%B5es%20e%20a%20biblioteca%20itertools%20tmb.ipynb\" target=\"_parent\"><img src=\"https://colab.research.google.com/assets/colab-badge.svg\" alt=\"Open In Colab\"/></a>"
      ]
    },
    {
      "cell_type": "code",
      "execution_count": 2,
      "metadata": {
        "colab": {
          "base_uri": "https://localhost:8080/"
        },
        "id": "3Y0asVw5Kd2s",
        "outputId": "9927e4c4-d751-4229-bbb9-b98ea53b38cd"
      },
      "outputs": [
        {
          "output_type": "stream",
          "name": "stdout",
          "text": [
            "Digite um número inteiro: 5.7\n",
            "\u001b[0;31mERRO: digite um número inteiro válido.\u001b[m\n",
            "Digite um número inteiro: g\n",
            "\u001b[0;31mERRO: digite um número inteiro válido.\u001b[m\n",
            "Digite um número inteiro: 7\n",
            "Digite um número: True\n",
            "\u001b[0;31mERRO: digite um número válido.\u001b[m\n",
            "Digite um número: \"er\"\n",
            "\u001b[0;31mERRO: digite um número válido.\u001b[m\n",
            "Digite um número: 6\n",
            "Você acabou de digitar o número inteiro 7 e o número real 6.0.\n"
          ]
        }
      ],
      "source": [
        "# Exercício Python 113: Reescreva a função leiaInt() que fizemos no desafio 104, incluindo agora a possibilidade da digitação de um número de tipo inválido.\n",
        "# Aproveite e crie também uma função leiaFloat() com a mesma funcionalidade.\n",
        "\n",
        "def leiaInt(num):\n",
        "    while True:\n",
        "        try:\n",
        "            n = int(input(num))\n",
        "        except (ValueError, TypeError):\n",
        "            print('\\033[0;31mERRO: digite um número inteiro válido.\\033[m')\n",
        "            continue\n",
        "        else:\n",
        "            return n\n",
        "\n",
        "\n",
        "def leiaFloat(num):\n",
        "    while True:\n",
        "        try:\n",
        "            n = float(input(num))\n",
        "        except (ValueError, TypeError):\n",
        "            print('\\033[0;31mERRO: digite um número válido.\\033[m')\n",
        "            continue\n",
        "        else:\n",
        "            return n\n",
        "\n",
        "\n",
        "n = leiaInt('Digite um número inteiro: ')\n",
        "m = leiaFloat('Digite um número: ')\n",
        "print(f'Você acabou de digitar o número inteiro {n} e o número real {m}.')"
      ]
    },
    {
      "cell_type": "code",
      "source": [
        "# Python code to demonstrate the working of\n",
        "# dropwhile()\n",
        "\n",
        "\n",
        "import itertools\n",
        "\n",
        "\n",
        "# initializing list\n",
        "li = [2, 4, 5, 7, 8] # depois da primeira vez ser falso já não a quer mais (como as mulheres depois de serem traídas num casamento ... )\n",
        "\n",
        "# using dropwhile() to start displaying after condition is false\n",
        "print (\"The values after condition returns false : \", end =\"\")\n",
        "print (list(itertools.dropwhile(lambda x : x % 2 == 0, li)))"
      ],
      "metadata": {
        "colab": {
          "base_uri": "https://localhost:8080/"
        },
        "id": "6wBHKNGQHWNm",
        "outputId": "bef34520-7d88-4713-ee61-cbf7105da819"
      },
      "execution_count": 1,
      "outputs": [
        {
          "output_type": "stream",
          "name": "stdout",
          "text": [
            "The values after condition returns false : [5, 7, 8]\n"
          ]
        }
      ]
    }
  ]
}