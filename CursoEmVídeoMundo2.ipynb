{
  "nbformat": 4,
  "nbformat_minor": 0,
  "metadata": {
    "colab": {
      "name": "CursoEmVídeoMundo2.ipynb",
      "provenance": [],
      "collapsed_sections": [],
      "history_visible": true,
      "authorship_tag": "ABX9TyPNyL/QZFkcKE+nOaWEaTzU",
      "include_colab_link": true
    },
    "kernelspec": {
      "name": "python3",
      "display_name": "Python 3"
    },
    "language_info": {
      "name": "python"
    }
  },
  "cells": [
    {
      "cell_type": "markdown",
      "metadata": {
        "id": "view-in-github",
        "colab_type": "text"
      },
      "source": [
        "<a href=\"https://colab.research.google.com/github/ManJ-PC/Py/blob/master/CursoEmV%C3%ADdeoMundo2.ipynb\" target=\"_parent\"><img src=\"https://colab.research.google.com/assets/colab-badge.svg\" alt=\"Open In Colab\"/></a>"
      ]
    },
    {
      "cell_type": "code",
      "metadata": {
        "id": "pVfzmcRw45Gr"
      },
      "source": [
        "# if carro.esquerda():\n",
        "#   bloco 1\n",
        "# elif carro.direita():\n",
        "#   bloco 2\n",
        "# elif carro.ré():\n",
        "#   bloco 3\n",
        "# else:\n",
        "#   bloco 4"
      ],
      "execution_count": 1,
      "outputs": []
    },
    {
      "cell_type": "code",
      "metadata": {
        "id": "9_toTlIs6vK4",
        "colab": {
          "base_uri": "https://localhost:8080/"
        },
        "outputId": "3008fc24-f123-4b62-8f54-180d9b1a16f7"
      },
      "source": [
        "nome = str(input('Qual é o seu nome? '))\n",
        "if nome == 'Gustavo':\n",
        "  print('Que nome bonito!')\n",
        "elif nome in 'Ana Claúdia Jéssica Juliana':\n",
        "  print('Belo nome feminino')\n",
        "else:\n",
        "  print('Seu nome é bem normal.')\n",
        "print('Tenha um bom dia, {}!'.format(nome))"
      ],
      "execution_count": 2,
      "outputs": [
        {
          "output_type": "stream",
          "name": "stdout",
          "text": [
            "Qual é o seu nome? 76\n",
            "Seu nome é bem normal.\n",
            "Tenha um bom dia, 76!\n"
          ]
        }
      ]
    },
    {
      "cell_type": "code",
      "metadata": {
        "id": "Hewv9NXhMb4_"
      },
      "source": [
        ""
      ],
      "execution_count": 2,
      "outputs": []
    },
    {
      "cell_type": "markdown",
      "metadata": {
        "id": "qJ0AHY-3MaMu"
      },
      "source": [
        "**Desafio  036**\n",
        "\n",
        "Escreva um programa para aprovar o empréstimo bancário para a compra de uma casa. O Programa vai perguntar o valor da casa, o salário do comprador e em quantos anos ele vai pagar.\n",
        "\n",
        "Calcule o valor da prestação mensal, sabendo que ela não pode exceder 30% do salário ou então o empréstimo será negado."
      ]
    },
    {
      "cell_type": "code",
      "metadata": {
        "id": "Ad1DFIn_LN_h",
        "colab": {
          "base_uri": "https://localhost:8080/"
        },
        "outputId": "f65d6180-7981-4d03-cd11-ae605ec8d991"
      },
      "source": [
        "PatrimonyL = float(input('Good Morning to our House Loan\\'s Bank!\\n Which the value of property that wants to adquire: '))\n",
        "Wage = float(input('What is your wage: '))\n",
        "T_Age = float(input('How much time lasts bank loan, in years: '))\n",
        "\n",
        "MonthPay = PatrimonyL/(T_Age * 12)\n",
        "\n",
        "print('The mensal value to pay the house is: ', MonthPay)\n",
        "\n",
        "if MonthPay > 0.30 * Wage:\n",
        "  print(\"Empréstimo negado\")\n",
        "else:\n",
        "  print(\"Aceite!!\")\n"
      ],
      "execution_count": 3,
      "outputs": [
        {
          "output_type": "stream",
          "name": "stdout",
          "text": [
            "Good Morning to our House Loan's Bank!\n",
            " Which the value of property that wants to adquire: 23\n",
            "What is your wage: 434\n",
            "How much time lasts bank loan, in years: 8\n",
            "The mensal value to pay the house is:  0.23958333333333334\n",
            "Aceite!!\n"
          ]
        }
      ]
    },
    {
      "cell_type": "markdown",
      "metadata": {
        "id": "bciltV4YshS-"
      },
      "source": [
        "**Desafio 37**"
      ]
    },
    {
      "cell_type": "markdown",
      "metadata": {
        "id": "jQ_sZgJHsPU8"
      },
      "source": [
        "Escreva um programa que leia um número inteiro qualquer e peça para o usuário escolher qual será a **base de conversão**\n",
        "\n",
        "\n",
        "*   1 para binário\n",
        "*   2 para octal\n",
        "*   3 para hexadecimal\n",
        "\n"
      ]
    },
    {
      "cell_type": "code",
      "metadata": {
        "id": "AlFBgd6ls7UO",
        "colab": {
          "base_uri": "https://localhost:8080/"
        },
        "outputId": "988bb9c5-febb-46f3-d335-6cd63b0466f7"
      },
      "source": [
        "num = int(input('Insira o valor decimal: '))\n",
        "b2 = bin(num)\n",
        "o8 = oct(num)\n",
        "Ox = hex(num)\n",
        "\n",
        "base = str(input('Qual será a base de conversão?\\n O <- octal\\n H <- hexadecimal\\n B or other thing <- binary '))\n",
        "if base.upper() == 'O':\n",
        "  print(o8)\n",
        "elif base.upper() == 'H':\n",
        "  print(Ox)\n",
        "else:\n",
        "  print(b2)"
      ],
      "execution_count": 4,
      "outputs": [
        {
          "output_type": "stream",
          "name": "stdout",
          "text": [
            "Insira o valor decimal: 67\n",
            "Qual será a base de conversão?\n",
            " O <- octal\n",
            " H <- hexadecimal\n",
            " B or other thing <- binary b\n",
            "0b1000011\n"
          ]
        }
      ]
    },
    {
      "cell_type": "code",
      "metadata": {
        "id": "HQ_9BUdcQtrn"
      },
      "source": [
        "def converte2(a,b): #a = bq + r\n",
        "  novabase = \"\" #resto ou r_string\n",
        "  r = 0\n",
        "  while a>0: #r<a: #r > 0: ...n//b!\n",
        "    q = a // b\n",
        "    r = a - (q*b)\n",
        "    #r = a % b\n",
        "    a = q \n",
        "\n",
        "    print(r,'\\n')\n",
        "    #novabase=str(r)\n",
        "    novabase += str(r)\n",
        "  novabase = novabase[::-1]\n",
        "  #novabase[::-1]\n",
        "  #print('\\n',novabase[::-1])\n",
        "  return novabase"
      ],
      "execution_count": 5,
      "outputs": []
    },
    {
      "cell_type": "code",
      "source": [
        "# def converte(n,b): #n = bq + r\n",
        "#   # 10b10 = 1010b2  10/2 r1 5/2 r1 2/2 r0 0/2 r0\n",
        "#   r_string = \"\"\n",
        "#   while n//b > 0:\n",
        "#     r = n%b\n",
        "#     a = n//b\n",
        "#     print(r,'\\n')\n",
        "#     r_string += str(r)\n",
        "#   r_string[::-1]\n",
        "#   print('')\n",
        "    \n",
        "\n",
        "    \n"
      ],
      "metadata": {
        "id": "m61tfNXS1dGB"
      },
      "execution_count": 6,
      "outputs": []
    },
    {
      "cell_type": "code",
      "metadata": {
        "id": "tNa8bDFIrrgf",
        "colab": {
          "base_uri": "https://localhost:8080/",
          "height": 174
        },
        "outputId": "75f4ccb2-b54e-420a-c990-10c6d6e9e719"
      },
      "source": [
        "converte2(12,2)"
      ],
      "execution_count": 7,
      "outputs": [
        {
          "output_type": "stream",
          "name": "stdout",
          "text": [
            "0 \n",
            "\n",
            "0 \n",
            "\n",
            "1 \n",
            "\n",
            "1 \n",
            "\n"
          ]
        },
        {
          "output_type": "execute_result",
          "data": {
            "application/vnd.google.colaboratory.intrinsic+json": {
              "type": "string"
            },
            "text/plain": [
              "'1100'"
            ]
          },
          "metadata": {},
          "execution_count": 7
        }
      ]
    },
    {
      "cell_type": "code",
      "source": [
        "converte2(12, 8)"
      ],
      "metadata": {
        "id": "FdcHStnN86LU",
        "colab": {
          "base_uri": "https://localhost:8080/",
          "height": 105
        },
        "outputId": "cb82c082-5f02-492b-bd83-0f129105ed09"
      },
      "execution_count": 8,
      "outputs": [
        {
          "output_type": "stream",
          "name": "stdout",
          "text": [
            "4 \n",
            "\n",
            "1 \n",
            "\n"
          ]
        },
        {
          "output_type": "execute_result",
          "data": {
            "application/vnd.google.colaboratory.intrinsic+json": {
              "type": "string"
            },
            "text/plain": [
              "'14'"
            ]
          },
          "metadata": {},
          "execution_count": 8
        }
      ]
    },
    {
      "cell_type": "code",
      "source": [
        "# Solution\n",
        "def dec_to_base(num,base): # Maximum base - 36\n",
        "  base_num = \"\"\n",
        "  while num>0:\n",
        "    dig = int(num%base) # porque este int? \n",
        "    if dig<10:\n",
        "      base_num += str(dig)\n",
        "    else:\n",
        "      base_num += chr(ord('A')+dig-10) # Using uppercase Letters\n",
        "    num //= base\n",
        "\n",
        "  base_num = base_num[::-1] #To reverse the string\n",
        "  return base_num"
      ],
      "metadata": {
        "id": "vuDXQHyAEc8e"
      },
      "execution_count": 9,
      "outputs": []
    },
    {
      "cell_type": "code",
      "source": [
        "int(\"12\",8)"
      ],
      "metadata": {
        "colab": {
          "base_uri": "https://localhost:8080/"
        },
        "id": "dQtoNDQAVTp9",
        "outputId": "88bf0235-dd41-4635-c2e2-59ab292ec916"
      },
      "execution_count": 10,
      "outputs": [
        {
          "output_type": "execute_result",
          "data": {
            "text/plain": [
              "10"
            ]
          },
          "metadata": {},
          "execution_count": 10
        }
      ]
    },
    {
      "cell_type": "code",
      "source": [
        "ord('a')"
      ],
      "metadata": {
        "colab": {
          "base_uri": "https://localhost:8080/"
        },
        "id": "J5Uf7sB5RULc",
        "outputId": "97aa8ed8-74ee-4847-9d4b-65faa2ce3ab9"
      },
      "execution_count": 11,
      "outputs": [
        {
          "output_type": "execute_result",
          "data": {
            "text/plain": [
              "97"
            ]
          },
          "metadata": {},
          "execution_count": 11
        }
      ]
    },
    {
      "cell_type": "code",
      "source": [
        "ord('A')"
      ],
      "metadata": {
        "colab": {
          "base_uri": "https://localhost:8080/"
        },
        "id": "EIVaJTaDTMPI",
        "outputId": "9e0d794a-d363-408c-8b65-6cc7d920113e"
      },
      "execution_count": 12,
      "outputs": [
        {
          "output_type": "execute_result",
          "data": {
            "text/plain": [
              "65"
            ]
          },
          "metadata": {},
          "execution_count": 12
        }
      ]
    },
    {
      "cell_type": "code",
      "source": [
        "chr(94)+chr(93)+chr(92)+chr(91)+chr(90)"
      ],
      "metadata": {
        "colab": {
          "base_uri": "https://localhost:8080/",
          "height": 35
        },
        "id": "AvFrhOLNTNg_",
        "outputId": "770cd3df-78b8-4fc0-d717-9528d75a38ed"
      },
      "execution_count": 13,
      "outputs": [
        {
          "output_type": "execute_result",
          "data": {
            "application/vnd.google.colaboratory.intrinsic+json": {
              "type": "string"
            },
            "text/plain": [
              "'^]\\\\[Z'"
            ]
          },
          "metadata": {},
          "execution_count": 13
        }
      ]
    },
    {
      "cell_type": "code",
      "source": [
        "# Any Base to Decimal\n",
        "\n",
        "print(int(\"12\",3))\n",
        "print(int(\"12\",8))\n",
        "print(int(\"12\",10))\n",
        "print(int(\"12\",16))\n",
        "\n",
        "#chr(16)"
      ],
      "metadata": {
        "colab": {
          "base_uri": "https://localhost:8080/"
        },
        "id": "_YDKVYGdVbF7",
        "outputId": "60a75e38-d193-4d5a-9994-de772503017e"
      },
      "execution_count": 14,
      "outputs": [
        {
          "output_type": "stream",
          "name": "stdout",
          "text": [
            "5\n",
            "10\n",
            "12\n",
            "18\n"
          ]
        }
      ]
    },
    {
      "cell_type": "code",
      "source": [
        "username = input(\"Choose a username: \")  # Canita Broa\n",
        "final_username = username.replace(\"r\", \"_\")\n",
        "\n",
        "print(\"Your username is: \" + final_username) "
      ],
      "metadata": {
        "colab": {
          "base_uri": "https://localhost:8080/"
        },
        "id": "FIvNXYlmkQOP",
        "outputId": "d5155c9d-6273-470a-8b90-836126eb9dc5"
      },
      "execution_count": 15,
      "outputs": [
        {
          "output_type": "stream",
          "name": "stdout",
          "text": [
            "Choose a username: hugo\n",
            "Your username is: hugo\n"
          ]
        }
      ]
    },
    {
      "cell_type": "code",
      "source": [
        "for element in final_username: #string_name:\n",
        "  print(element, end=' ')\n",
        "print(\"\\n\")"
      ],
      "metadata": {
        "colab": {
          "base_uri": "https://localhost:8080/"
        },
        "id": "f2FBkp2hlqUT",
        "outputId": "982cd884-fb94-4f77-e6fd-d5b6f4918338"
      },
      "execution_count": 16,
      "outputs": [
        {
          "output_type": "stream",
          "name": "stdout",
          "text": [
            "h u g o \n",
            "\n"
          ]
        }
      ]
    },
    {
      "cell_type": "code",
      "source": [
        "def base_to_dec(num_str, base):\n",
        " base_num = 0\n",
        " power = 0           # declaration and initialization\n",
        " for column in num_str[::-1]: # d\n",
        "   print(column)\n",
        "   base_num += int(column) * pow(base, power)  # c = a + b \n",
        "   power += 1 # e\n",
        " print(base_num)\n",
        " #falta a potência!!! Incorporar, dessa forma em vez 12*8 = 96\n",
        "# We have:"
      ],
      "metadata": {
        "id": "tTrnrxV9TgbM"
      },
      "execution_count": 17,
      "outputs": []
    },
    {
      "cell_type": "code",
      "source": [
        "num_str = \"147\"\n",
        "num_str[::-1]"
      ],
      "metadata": {
        "colab": {
          "base_uri": "https://localhost:8080/",
          "height": 35
        },
        "id": "2tWvCkng6pXK",
        "outputId": "1a336eb7-3890-4d58-b49d-6eb8d1c7e029"
      },
      "execution_count": 18,
      "outputs": [
        {
          "output_type": "execute_result",
          "data": {
            "application/vnd.google.colaboratory.intrinsic+json": {
              "type": "string"
            },
            "text/plain": [
              "'741'"
            ]
          },
          "metadata": {},
          "execution_count": 18
        }
      ]
    },
    {
      "cell_type": "code",
      "source": [
        "base_to_dec(\"147\",8)"
      ],
      "metadata": {
        "colab": {
          "base_uri": "https://localhost:8080/"
        },
        "id": "m6iKJMP78RuQ",
        "outputId": "dea2504b-48f2-4b0d-9dd3-065fb891dc4b"
      },
      "execution_count": 19,
      "outputs": [
        {
          "output_type": "stream",
          "name": "stdout",
          "text": [
            "7\n",
            "4\n",
            "1\n",
            "103\n"
          ]
        }
      ]
    },
    {
      "cell_type": "code",
      "source": [
        "base_to_dec(\"147\",8)"
      ],
      "metadata": {
        "colab": {
          "base_uri": "https://localhost:8080/"
        },
        "id": "SxIaCQ7jkUau",
        "outputId": "90c51495-d232-4f89-9e89-fafc7d74faa9"
      },
      "execution_count": 20,
      "outputs": [
        {
          "output_type": "stream",
          "name": "stdout",
          "text": [
            "7\n",
            "4\n",
            "1\n",
            "103\n"
          ]
        }
      ]
    },
    {
      "cell_type": "code",
      "source": [
        "print(pow(8,3))\n",
        "7*64 # valores muito próximos, logicamente... pois base = 8 , 7 imediamente antes!"
      ],
      "metadata": {
        "colab": {
          "base_uri": "https://localhost:8080/"
        },
        "id": "Kb0aECnK3jI1",
        "outputId": "c3d2304d-f479-4e3b-dc3c-0f505210b8b7"
      },
      "execution_count": 21,
      "outputs": [
        {
          "output_type": "stream",
          "name": "stdout",
          "text": [
            "512\n"
          ]
        },
        {
          "output_type": "execute_result",
          "data": {
            "text/plain": [
              "448"
            ]
          },
          "metadata": {},
          "execution_count": 21
        }
      ]
    },
    {
      "cell_type": "code",
      "source": [
        "base_to_dec(\"147\",8)"
      ],
      "metadata": {
        "colab": {
          "base_uri": "https://localhost:8080/"
        },
        "id": "zxAYslCoXxwI",
        "outputId": "062aa01f-fbcb-411f-baf2-55beee388150"
      },
      "execution_count": 22,
      "outputs": [
        {
          "output_type": "stream",
          "name": "stdout",
          "text": [
            "7\n",
            "4\n",
            "1\n",
            "103\n"
          ]
        }
      ]
    },
    {
      "cell_type": "code",
      "source": [
        "pow(4,4)"
      ],
      "metadata": {
        "colab": {
          "base_uri": "https://localhost:8080/"
        },
        "id": "Ji_Z5aZjMr9b",
        "outputId": "8fa1299c-d80a-47b8-b117-ce334393dba3"
      },
      "execution_count": 23,
      "outputs": [
        {
          "output_type": "execute_result",
          "data": {
            "text/plain": [
              "256"
            ]
          },
          "metadata": {},
          "execution_count": 23
        }
      ]
    },
    {
      "cell_type": "code",
      "source": [
        "pow(4,4,8)"
      ],
      "metadata": {
        "colab": {
          "base_uri": "https://localhost:8080/"
        },
        "id": "4lIZYwboIX2i",
        "outputId": "9f528a9d-6363-4d1c-be6e-fac2e9af531c"
      },
      "execution_count": 24,
      "outputs": [
        {
          "output_type": "execute_result",
          "data": {
            "text/plain": [
              "0"
            ]
          },
          "metadata": {},
          "execution_count": 24
        }
      ]
    },
    {
      "cell_type": "code",
      "source": [
        "pow(4,4,12)"
      ],
      "metadata": {
        "colab": {
          "base_uri": "https://localhost:8080/"
        },
        "id": "FMgNcxe1JB_Z",
        "outputId": "c92cb089-54dd-4d59-f18d-5064894450e5"
      },
      "execution_count": 25,
      "outputs": [
        {
          "output_type": "execute_result",
          "data": {
            "text/plain": [
              "4"
            ]
          },
          "metadata": {},
          "execution_count": 25
        }
      ]
    },
    {
      "cell_type": "code",
      "source": [
        "# a,b,c = 100\n",
        "# print(c)  .> cannot unpack non-iterable int object\n",
        "\n",
        "a,b,c = 1,2,3\n",
        "print(a,b,c)"
      ],
      "metadata": {
        "colab": {
          "base_uri": "https://localhost:8080/"
        },
        "id": "YQCqnQYnJIex",
        "outputId": "461724d1-c39a-4e58-96fd-b098585a8360"
      },
      "execution_count": 26,
      "outputs": [
        {
          "output_type": "stream",
          "name": "stdout",
          "text": [
            "1 2 3\n"
          ]
        }
      ]
    },
    {
      "cell_type": "code",
      "source": [
        "def baseToDec(num_str, base): # suporta até base de valor 36 \n",
        "  num_str = num_str[::-1]\n",
        "  num = 0\n",
        "  for k in range(len(num_str)):\n",
        "    dig = num_str[k]\n",
        "    if dig.isdigit():\n",
        "      dig = int(dig)\n",
        "    else:  # Assuming its either number or alphabet only\n",
        "      dig = ord(dig.upper())-ord('A')+10\n",
        "    num += dig*(base**k)\n",
        "  return num"
      ],
      "metadata": {
        "id": "0jhGYQhjbbVf"
      },
      "execution_count": 27,
      "outputs": []
    },
    {
      "cell_type": "code",
      "source": [
        "baseToDec(\"147\",8)"
      ],
      "metadata": {
        "id": "rlLc6braV0oP",
        "outputId": "f85cf149-cfcd-41c6-dac0-ef4a4d013efa",
        "colab": {
          "base_uri": "https://localhost:8080/"
        }
      },
      "execution_count": 28,
      "outputs": [
        {
          "output_type": "execute_result",
          "data": {
            "text/plain": [
              "103"
            ]
          },
          "metadata": {},
          "execution_count": 28
        }
      ]
    },
    {
      "cell_type": "code",
      "source": [
        "tries = 5\n",
        "time = \"0\"\n",
        "names = \"\"\n",
        "while time:\n",
        "  tries -= 1\n",
        "  name = input('Digite seu nome')\n",
        "  if name == 'name':\n",
        "    break\n",
        "  names += name\n",
        "print(names)"
      ],
      "metadata": {
        "id": "856ZTcLdV737",
        "outputId": "24e3b450-0bbc-4312-8984-f4ad6506c336",
        "colab": {
          "base_uri": "https://localhost:8080/"
        }
      },
      "execution_count": 31,
      "outputs": [
        {
          "output_type": "stream",
          "name": "stdout",
          "text": [
            "Digite seu nomeCarlos\n",
            "Digite seu nomeRui\n",
            "Digite seu nomename\n",
            "CarlosRui\n"
          ]
        }
      ]
    },
    {
      "cell_type": "code",
      "source": [
        ""
      ],
      "metadata": {
        "id": "JxanOfckv5JE"
      },
      "execution_count": null,
      "outputs": []
    }
  ]
}