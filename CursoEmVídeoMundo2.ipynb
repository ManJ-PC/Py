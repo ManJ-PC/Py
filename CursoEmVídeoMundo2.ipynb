{
  "nbformat": 4,
  "nbformat_minor": 0,
  "metadata": {
    "colab": {
      "name": "CursoEmVídeoMundo2.ipynb",
      "provenance": [],
      "collapsed_sections": [],
      "history_visible": true,
      "authorship_tag": "ABX9TyPhvHcM7yfQGgTvL9kTSlAO",
      "include_colab_link": true
    },
    "kernelspec": {
      "name": "python3",
      "display_name": "Python 3"
    },
    "language_info": {
      "name": "python"
    }
  },
  "cells": [
    {
      "cell_type": "markdown",
      "metadata": {
        "id": "view-in-github",
        "colab_type": "text"
      },
      "source": [
        "<a href=\"https://colab.research.google.com/github/ManJ-PC/Py/blob/master/CursoEmV%C3%ADdeoMundo2.ipynb\" target=\"_parent\"><img src=\"https://colab.research.google.com/assets/colab-badge.svg\" alt=\"Open In Colab\"/></a>"
      ]
    },
    {
      "cell_type": "code",
      "metadata": {
        "id": "pVfzmcRw45Gr"
      },
      "source": [
        "# if carro.esquerda():\n",
        "#   bloco 1\n",
        "# elif carro.direita():\n",
        "#   bloco 2\n",
        "# elif carro.ré():\n",
        "#   bloco 3\n",
        "# else:\n",
        "#   bloco 4"
      ],
      "execution_count": 1,
      "outputs": []
    },
    {
      "cell_type": "code",
      "metadata": {
        "id": "9_toTlIs6vK4",
        "colab": {
          "base_uri": "https://localhost:8080/"
        },
        "outputId": "4895d43b-bf18-45a8-ae37-56ea1b1eb0d8"
      },
      "source": [
        "nome = str(input('Qual é o seu nome? '))\n",
        "if nome == 'Gustavo':\n",
        "  print('Que nome bonito!')\n",
        "elif nome in 'Ana Claúdia Jéssica Juliana':\n",
        "  print('Belo nome feminino')\n",
        "else:\n",
        "  print('Seu nome é bem normal.')\n",
        "print('Tenha um bom dia, {}!'.format(nome))"
      ],
      "execution_count": 2,
      "outputs": [
        {
          "output_type": "stream",
          "name": "stdout",
          "text": [
            "Qual é o seu nome? Catarina\n",
            "Seu nome é bem normal.\n",
            "Tenha um bom dia, Catarina!\n"
          ]
        }
      ]
    },
    {
      "cell_type": "code",
      "metadata": {
        "id": "Hewv9NXhMb4_"
      },
      "source": [
        ""
      ],
      "execution_count": 2,
      "outputs": []
    },
    {
      "cell_type": "markdown",
      "metadata": {
        "id": "qJ0AHY-3MaMu"
      },
      "source": [
        "**Desafio  036**\n",
        "\n",
        "Escreva um programa para aprovar o empréstimo bancário para a compra de uma casa. O Programa vai perguntar o valor da casa, o salário do comprador e em quantos anos ele vai pagar.\n",
        "\n",
        "Calcule o valor da prestação mensal, sabendo que ela não pode exceder 30% do salário ou então o empréstimo será negado."
      ]
    },
    {
      "cell_type": "code",
      "metadata": {
        "id": "Ad1DFIn_LN_h",
        "colab": {
          "base_uri": "https://localhost:8080/"
        },
        "outputId": "739be8e6-c091-4d37-fdb0-6ab2d3ad8327"
      },
      "source": [
        "PatrimonyL = float(input('Good Morning to our House Loan\\'s Bank!\\n Which the value of property that wants to adquire: '))\n",
        "Wage = float(input('What is your wage: '))\n",
        "T_Age = float(input('How much time lasts bank loan, in years: '))\n",
        "\n",
        "MonthPay = PatrimonyL/(T_Age * 12)\n",
        "\n",
        "print('The mensal value to pay the house is: ', MonthPay)\n",
        "\n",
        "if MonthPay > 0.30 * Wage:\n",
        "  print(\"Empréstimo negado\")\n",
        "else:\n",
        "  print(\"Aceite!!\")\n"
      ],
      "execution_count": 3,
      "outputs": [
        {
          "output_type": "stream",
          "name": "stdout",
          "text": [
            "Good Morning to our House Loan's Bank!\n",
            " Which the value of property that wants to adquire: 111\n",
            "What is your wage: 200\n",
            "How much time lasts bank loan, in years: 3\n",
            "The mensal value to pay the house is:  3.0833333333333335\n",
            "Aceite!!\n"
          ]
        }
      ]
    },
    {
      "cell_type": "markdown",
      "metadata": {
        "id": "bciltV4YshS-"
      },
      "source": [
        "**Desafio 37**"
      ]
    },
    {
      "cell_type": "markdown",
      "metadata": {
        "id": "jQ_sZgJHsPU8"
      },
      "source": [
        "Escreva um programa que leia um número inteiro qualquer e peça para o usuário escolher qual será a **base de conversão**\n",
        "\n",
        "\n",
        "*   1 para binário\n",
        "*   2 para octal\n",
        "*   3 para hexadecimal\n",
        "\n"
      ]
    },
    {
      "cell_type": "code",
      "metadata": {
        "id": "AlFBgd6ls7UO",
        "colab": {
          "base_uri": "https://localhost:8080/"
        },
        "outputId": "c7fe0dff-5b61-4e8e-fd41-3ed84014562c"
      },
      "source": [
        "num = int(input('Insira o valor decimal: '))\n",
        "b2 = bin(num)\n",
        "o8 = oct(num)\n",
        "Ox = hex(num)\n",
        "\n",
        "base = str(input('Qual será a base de conversão?\\n O <- octal\\n H <- hexadecimal\\n B or other thing <- binary '))\n",
        "if base.upper() == 'O':\n",
        "  print(o8)\n",
        "elif base.upper() == 'H':\n",
        "  print(Ox)\n",
        "else:\n",
        "  print(b2)"
      ],
      "execution_count": 4,
      "outputs": [
        {
          "output_type": "stream",
          "name": "stdout",
          "text": [
            "Insira o valor decimal: 79\n",
            "Qual será a base de conversão?\n",
            " O <- octal\n",
            " H <- hexadecimal\n",
            " B or other thing <- binary h\n",
            "0x4f\n"
          ]
        }
      ]
    },
    {
      "cell_type": "code",
      "metadata": {
        "id": "HQ_9BUdcQtrn"
      },
      "source": [
        "def converte2(a,b): #a = bq + r\n",
        "  novabase = \"\" #resto ou r_string\n",
        "  r = 0\n",
        "  while a>0: #r<a: #r > 0: ...n//b!\n",
        "    q = a // b\n",
        "    r = a - (q*b)\n",
        "    #r = a % b\n",
        "    a = q \n",
        "\n",
        "    print(r,'\\n')\n",
        "    #novabase=str(r)\n",
        "    novabase += str(r)\n",
        "  novabase = novabase[::-1]\n",
        "  #novabase[::-1]\n",
        "  #print('\\n',novabase[::-1])\n",
        "  return novabase"
      ],
      "execution_count": 5,
      "outputs": []
    },
    {
      "cell_type": "code",
      "source": [
        "# def converte(n,b): #n = bq + r\n",
        "#   # 10b10 = 1010b2  10/2 r1 5/2 r1 2/2 r0 0/2 r0\n",
        "#   r_string = \"\"\n",
        "#   while n//b > 0:\n",
        "#     r = n%b\n",
        "#     a = n//b\n",
        "#     print(r,'\\n')\n",
        "#     r_string += str(r)\n",
        "#   r_string[::-1]\n",
        "#   print('')\n",
        "    \n",
        "\n",
        "    \n"
      ],
      "metadata": {
        "id": "m61tfNXS1dGB"
      },
      "execution_count": 6,
      "outputs": []
    },
    {
      "cell_type": "code",
      "metadata": {
        "id": "tNa8bDFIrrgf",
        "colab": {
          "base_uri": "https://localhost:8080/",
          "height": 174
        },
        "outputId": "00c8188c-83b5-4f74-c62c-e7441b02d75d"
      },
      "source": [
        "converte2(12,2)"
      ],
      "execution_count": 7,
      "outputs": [
        {
          "output_type": "stream",
          "name": "stdout",
          "text": [
            "0 \n",
            "\n",
            "0 \n",
            "\n",
            "1 \n",
            "\n",
            "1 \n",
            "\n"
          ]
        },
        {
          "output_type": "execute_result",
          "data": {
            "application/vnd.google.colaboratory.intrinsic+json": {
              "type": "string"
            },
            "text/plain": [
              "'1100'"
            ]
          },
          "metadata": {},
          "execution_count": 7
        }
      ]
    },
    {
      "cell_type": "code",
      "source": [
        "converte2(12, 8)"
      ],
      "metadata": {
        "id": "FdcHStnN86LU",
        "colab": {
          "base_uri": "https://localhost:8080/",
          "height": 105
        },
        "outputId": "43b771f2-7ed5-465c-f720-0a16c0db2609"
      },
      "execution_count": 8,
      "outputs": [
        {
          "output_type": "stream",
          "name": "stdout",
          "text": [
            "4 \n",
            "\n",
            "1 \n",
            "\n"
          ]
        },
        {
          "output_type": "execute_result",
          "data": {
            "application/vnd.google.colaboratory.intrinsic+json": {
              "type": "string"
            },
            "text/plain": [
              "'14'"
            ]
          },
          "metadata": {},
          "execution_count": 8
        }
      ]
    },
    {
      "cell_type": "code",
      "source": [
        "# Solution\n",
        "def dec_to_base(num,base): # Maximum base - 36\n",
        "  base_num = \"\"\n",
        "  while num>0:\n",
        "    dig = int(num%base) # porque este int? \n",
        "    if dig<10:\n",
        "      base_num += str(dig)\n",
        "    else:\n",
        "      base_num += chr(ord('A')+dig-10) # Using uppercase Letters\n",
        "    num //= base\n",
        "\n",
        "  base_num = base_num[::-1] #To reverse the string\n",
        "  return base_num"
      ],
      "metadata": {
        "id": "vuDXQHyAEc8e"
      },
      "execution_count": 9,
      "outputs": []
    },
    {
      "cell_type": "code",
      "source": [
        "int(\"12\",8)"
      ],
      "metadata": {
        "id": "dQtoNDQAVTp9",
        "outputId": "7ce9c797-3506-4719-9e43-d6cc9573d2b2",
        "colab": {
          "base_uri": "https://localhost:8080/"
        }
      },
      "execution_count": 13,
      "outputs": [
        {
          "output_type": "execute_result",
          "data": {
            "text/plain": [
              "10"
            ]
          },
          "metadata": {},
          "execution_count": 13
        }
      ]
    },
    {
      "cell_type": "code",
      "source": [
        "ord('a')"
      ],
      "metadata": {
        "colab": {
          "base_uri": "https://localhost:8080/"
        },
        "id": "J5Uf7sB5RULc",
        "outputId": "2367b86e-46c6-48ac-e227-6e75386510ed"
      },
      "execution_count": 10,
      "outputs": [
        {
          "output_type": "execute_result",
          "data": {
            "text/plain": [
              "97"
            ]
          },
          "metadata": {},
          "execution_count": 10
        }
      ]
    },
    {
      "cell_type": "code",
      "source": [
        "ord('A')"
      ],
      "metadata": {
        "colab": {
          "base_uri": "https://localhost:8080/"
        },
        "id": "EIVaJTaDTMPI",
        "outputId": "3946e475-3b72-4176-eb9a-cd779a4e134e"
      },
      "execution_count": 11,
      "outputs": [
        {
          "output_type": "execute_result",
          "data": {
            "text/plain": [
              "65"
            ]
          },
          "metadata": {},
          "execution_count": 11
        }
      ]
    },
    {
      "cell_type": "code",
      "source": [
        "chr(94)+chr(93)+chr(92)+chr(91)+chr(90)"
      ],
      "metadata": {
        "colab": {
          "base_uri": "https://localhost:8080/",
          "height": 35
        },
        "id": "AvFrhOLNTNg_",
        "outputId": "aff71a0a-f332-4ab3-ed4b-ccc0b927c0e7"
      },
      "execution_count": 12,
      "outputs": [
        {
          "output_type": "execute_result",
          "data": {
            "application/vnd.google.colaboratory.intrinsic+json": {
              "type": "string"
            },
            "text/plain": [
              "'^]\\\\[Z'"
            ]
          },
          "metadata": {},
          "execution_count": 12
        }
      ]
    },
    {
      "cell_type": "code",
      "source": [
        "# Any Base to Decimal\n",
        "\n",
        "print(int(\"12\",3))\n",
        "print(int(\"12\",8))\n",
        "print(int(\"12\",10))\n",
        "print(int(\"12\",16))\n",
        "\n",
        "#chr(16)"
      ],
      "metadata": {
        "id": "_YDKVYGdVbF7",
        "outputId": "85af0ecb-4692-4bae-c4af-dfba24c85b9a",
        "colab": {
          "base_uri": "https://localhost:8080/"
        }
      },
      "execution_count": 34,
      "outputs": [
        {
          "output_type": "stream",
          "name": "stdout",
          "text": [
            "5\n",
            "10\n",
            "12\n",
            "18\n"
          ]
        }
      ]
    },
    {
      "cell_type": "code",
      "source": [
        "username = input(\"Choose a username: \")  # Canita Broa\n",
        "final_username = username.replace(\"r\", \"_\")\n",
        "\n",
        "print(\"Your username is: \" + final_username) "
      ],
      "metadata": {
        "id": "FIvNXYlmkQOP",
        "outputId": "d087f9be-63a0-4609-d78c-ec4d7a3130d1",
        "colab": {
          "base_uri": "https://localhost:8080/"
        }
      },
      "execution_count": 37,
      "outputs": [
        {
          "output_type": "stream",
          "name": "stdout",
          "text": [
            "Choose a username: Canita Broa\n",
            "Your username is: Canita B_oa\n"
          ]
        }
      ]
    },
    {
      "cell_type": "code",
      "source": [
        "for element in final_username: #string_name:\n",
        "  print(element, end=' ')\n",
        "print(\"\\n\")"
      ],
      "metadata": {
        "id": "f2FBkp2hlqUT",
        "outputId": "656ea920-d36b-4e17-9251-c0b52737f6d9",
        "colab": {
          "base_uri": "https://localhost:8080/"
        }
      },
      "execution_count": 40,
      "outputs": [
        {
          "output_type": "stream",
          "name": "stdout",
          "text": [
            "C a n i t a   B _ o a \n",
            "\n"
          ]
        }
      ]
    },
    {
      "cell_type": "code",
      "source": [
        "def base_to_dec(num_str, base):\n",
        " base_num = 0\n",
        " power = 0           # declaration and initialization\n",
        " for column in num_str[::-1]: # d\n",
        "   print(column)\n",
        "   base_num += int(column) * pow(base, power)  # c = a + b \n",
        "   power += 1 # e\n",
        " print(base_num)\n",
        " #falta a potência!!! Incorporar, dessa forma em vez 12*8 = 96\n",
        "# We have:"
      ],
      "metadata": {
        "id": "tTrnrxV9TgbM"
      },
      "execution_count": 36,
      "outputs": []
    },
    {
      "cell_type": "code",
      "source": [
        "num_str = \"147\"\n",
        "num_str[::-1]"
      ],
      "metadata": {
        "id": "2tWvCkng6pXK",
        "outputId": "814e5e2b-12c9-4d97-e3fd-d18e2906cf98",
        "colab": {
          "base_uri": "https://localhost:8080/",
          "height": 35
        }
      },
      "execution_count": 35,
      "outputs": [
        {
          "output_type": "execute_result",
          "data": {
            "application/vnd.google.colaboratory.intrinsic+json": {
              "type": "string"
            },
            "text/plain": [
              "'741'"
            ]
          },
          "metadata": {},
          "execution_count": 35
        }
      ]
    },
    {
      "cell_type": "code",
      "source": [
        "base_to_dec(\"147\",8)"
      ],
      "metadata": {
        "id": "m6iKJMP78RuQ",
        "outputId": "341f20dd-3651-4c75-8c46-c0d518ea7376",
        "colab": {
          "base_uri": "https://localhost:8080/"
        }
      },
      "execution_count": 37,
      "outputs": [
        {
          "output_type": "stream",
          "name": "stdout",
          "text": [
            "7\n",
            "4\n",
            "1\n",
            "103\n"
          ]
        }
      ]
    },
    {
      "cell_type": "code",
      "source": [
        "base_to_dec(\"147\",8)"
      ],
      "metadata": {
        "id": "SxIaCQ7jkUau",
        "outputId": "1bf7dc49-5f8d-442f-857d-c7ce3d2b8ed2",
        "colab": {
          "base_uri": "https://localhost:8080/"
        }
      },
      "execution_count": 22,
      "outputs": [
        {
          "output_type": "stream",
          "name": "stdout",
          "text": [
            "1\n",
            "4\n",
            "7\n",
            "481\n"
          ]
        }
      ]
    },
    {
      "cell_type": "code",
      "source": [
        "print(pow(8,3))\n",
        "7*64 # valores muito próximos, logicamente... pois base = 8 , 7 imediamente antes!"
      ],
      "metadata": {
        "id": "Kb0aECnK3jI1",
        "outputId": "3c84ddea-9ad8-48a9-ce82-b367448d8491",
        "colab": {
          "base_uri": "https://localhost:8080/"
        }
      },
      "execution_count": 25,
      "outputs": [
        {
          "output_type": "stream",
          "name": "stdout",
          "text": [
            "512\n"
          ]
        },
        {
          "output_type": "execute_result",
          "data": {
            "text/plain": [
              "448"
            ]
          },
          "metadata": {},
          "execution_count": 25
        }
      ]
    },
    {
      "cell_type": "code",
      "source": [
        "base_to_dec(\"147\",8)"
      ],
      "metadata": {
        "id": "zxAYslCoXxwI",
        "outputId": "1aeda34b-6757-4568-edda-725a3696d585",
        "colab": {
          "base_uri": "https://localhost:8080/"
        }
      },
      "execution_count": 12,
      "outputs": [
        {
          "output_type": "stream",
          "name": "stdout",
          "text": [
            "3848\n"
          ]
        }
      ]
    },
    {
      "cell_type": "code",
      "source": [
        "pow(4,4)"
      ],
      "metadata": {
        "id": "Ji_Z5aZjMr9b",
        "outputId": "1f34bd85-c08d-4b93-c82e-d43bf8b3989d",
        "colab": {
          "base_uri": "https://localhost:8080/"
        }
      },
      "execution_count": 4,
      "outputs": [
        {
          "output_type": "execute_result",
          "data": {
            "text/plain": [
              "256"
            ]
          },
          "metadata": {},
          "execution_count": 4
        }
      ]
    },
    {
      "cell_type": "code",
      "source": [
        "pow(4,4,8)"
      ],
      "metadata": {
        "id": "4lIZYwboIX2i",
        "outputId": "7f0c2f15-7a36-46ee-d8d6-6beb07b771b5",
        "colab": {
          "base_uri": "https://localhost:8080/"
        }
      },
      "execution_count": 6,
      "outputs": [
        {
          "output_type": "execute_result",
          "data": {
            "text/plain": [
              "0"
            ]
          },
          "metadata": {},
          "execution_count": 6
        }
      ]
    },
    {
      "cell_type": "code",
      "source": [
        "pow(4,4,12)"
      ],
      "metadata": {
        "id": "FMgNcxe1JB_Z",
        "outputId": "0cfddce3-7b64-4f5b-cc09-9addc6930068",
        "colab": {
          "base_uri": "https://localhost:8080/"
        }
      },
      "execution_count": 7,
      "outputs": [
        {
          "output_type": "execute_result",
          "data": {
            "text/plain": [
              "4"
            ]
          },
          "metadata": {},
          "execution_count": 7
        }
      ]
    },
    {
      "cell_type": "code",
      "source": [
        "# a,b,c = 100\n",
        "# print(c)  .> cannot unpack non-iterable int object\n",
        "\n",
        "a,b,c = 1,2,3\n",
        "print(a,b,c)"
      ],
      "metadata": {
        "id": "YQCqnQYnJIex",
        "outputId": "183de982-f2a7-4755-8c73-b5342dcee39c",
        "colab": {
          "base_uri": "https://localhost:8080/"
        }
      },
      "execution_count": 15,
      "outputs": [
        {
          "output_type": "stream",
          "name": "stdout",
          "text": [
            "1 2 3\n"
          ]
        }
      ]
    },
    {
      "cell_type": "code",
      "source": [
        ""
      ],
      "metadata": {
        "id": "0jhGYQhjbbVf"
      },
      "execution_count": 15,
      "outputs": []
    }
  ]
}