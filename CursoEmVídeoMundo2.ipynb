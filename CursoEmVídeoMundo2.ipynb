{
  "nbformat": 4,
  "nbformat_minor": 0,
  "metadata": {
    "colab": {
      "name": "CursoEmVídeoMundo2.ipynb",
      "provenance": [],
      "collapsed_sections": [],
      "include_colab_link": true
    },
    "kernelspec": {
      "name": "python3",
      "display_name": "Python 3"
    },
    "language_info": {
      "name": "python"
    }
  },
  "cells": [
    {
      "cell_type": "markdown",
      "metadata": {
        "id": "view-in-github",
        "colab_type": "text"
      },
      "source": [
        "<a href=\"https://colab.research.google.com/github/ManJ-PC/Py/blob/master/CursoEmV%C3%ADdeoMundo2.ipynb\" target=\"_parent\"><img src=\"https://colab.research.google.com/assets/colab-badge.svg\" alt=\"Open In Colab\"/></a>"
      ]
    },
    {
      "cell_type": "code",
      "metadata": {
        "id": "pVfzmcRw45Gr"
      },
      "source": [
        "# if carro.esquerda():\n",
        "#   bloco 1\n",
        "# elif carro.direita():\n",
        "#   bloco 2\n",
        "# elif carro.ré():\n",
        "#   bloco 3\n",
        "# else:\n",
        "#   bloco 4 NO"
      ],
      "execution_count": null,
      "outputs": []
    },
    {
      "cell_type": "code",
      "metadata": {
        "id": "9_toTlIs6vK4"
      },
      "source": [
        "# nome = str(input('Qual é o seu nome? '))\n",
        "# if nome == 'Gustavo':\n",
        "#   print('Que nome bonito!')\n",
        "# elif nome in 'Ana Claúdia Jéssica Juliana':\n",
        "#   print('Belo nome feminino')\n",
        "# else:\n",
        "#   print('Seu nome é bem normal.')\n",
        "# print('Tenha um bom dia, {}!'.format(nome))"
      ],
      "execution_count": null,
      "outputs": []
    },
    {
      "cell_type": "code",
      "metadata": {
        "id": "Hewv9NXhMb4_"
      },
      "source": [
        ""
      ],
      "execution_count": null,
      "outputs": []
    },
    {
      "cell_type": "markdown",
      "metadata": {
        "id": "qJ0AHY-3MaMu"
      },
      "source": [
        "**Desafio  036**\n",
        "\n",
        "Escreva um programa para aprovar o empréstimo bancário para a compra de uma casa. O Programa vai perguntar o valor da casa, o salário do comprador e em quantos anos ele vai pagar.\n",
        "\n",
        "Calcule o valor da prestação mensal, sabendo que ela não pode exceder 30% do salário ou então o empréstimo será negado."
      ]
    },
    {
      "cell_type": "code",
      "metadata": {
        "id": "Ad1DFIn_LN_h"
      },
      "source": [
        "# patrimonyL = float(input('Good Morning to our House Loan\\'s Bank!\\n Which the value of property that wants to adquire: '))\n",
        "# wage = float(input('What is your wage: '))\n",
        "# ageY = float(input('How much time lasts bank loan, in years: '))\n",
        "\n",
        "# monthPay = patrimonyL/(ageY * 12)\n",
        "\n",
        "# print('The mensal value to pay the house is: ', monthPay)\n",
        "\n",
        "# if monthPay > 0.30 * wage:\n",
        "#   print(\"Empréstimo negado\")\n",
        "# else:\n",
        "#   print(\"Aceite!!\")\n"
      ],
      "execution_count": null,
      "outputs": []
    },
    {
      "cell_type": "code",
      "source": [
        "# #SOLUÇÂO\n",
        "\n",
        "# casa = float(input('Valor da casa: R$  '))\n",
        "# salario = float(input('Salário do comprador: R$  '))\n",
        "# anos = int(input('Quantos anos de financiamento?  '))\n",
        "# prestação = casa / (anos * 12)\n",
        "# minimo = salario * 30 / 100 # min = .3*wage\n",
        "# print('Para pagar uma casa de R${:.2f} em {} anos'.format(casa, anos), end='')\n",
        "# \"\"\", end='')\"\"\"\n",
        "# print(' a prestação será de R${:.2f}'.format(prestação))\n",
        "# #print('Para pagar uma casa de R${:.2f}'.format(prestação))\n",
        "\n",
        "# #print('COMPARANDO tem que pagar {} e o mínimo é de {}'.format(prestação,minimo))\n",
        "\n",
        "# if prestação <= minimo: \n",
        "#    print('Empréstimo pode ser CONCEDIDO')\n",
        "# else:\n",
        "#   print('Empréstimo NEGADO')"
      ],
      "metadata": {
        "id": "lVia_6wLaEsP"
      },
      "execution_count": null,
      "outputs": []
    },
    {
      "cell_type": "markdown",
      "metadata": {
        "id": "bciltV4YshS-"
      },
      "source": [
        "**Desafio 37**"
      ]
    },
    {
      "cell_type": "markdown",
      "metadata": {
        "id": "jQ_sZgJHsPU8"
      },
      "source": [
        "Escreva um programa que leia um número inteiro qualquer e peça para o usuário escolher qual será a **base de conversão**\n",
        "\n",
        "\n",
        "*   1 para binário\n",
        "*   2 para octal\n",
        "*   3 para hexadecimal\n",
        "\n"
      ]
    },
    {
      "cell_type": "code",
      "metadata": {
        "id": "AlFBgd6ls7UO"
      },
      "source": [
        "# num = int(input('Insira o valor decimal: '))\n",
        "# b2 = bin(num)\n",
        "# o8 = oct(num)\n",
        "# Ox = hex(num)\n",
        "\n",
        "# base = str(input('Qual será a base de conversão?\\n O <- octal\\n H <- hexadecimal\\n B or other thing <- binary '))\n",
        "# if base.upper() == 'O':\n",
        "#   print(o8)\n",
        "# elif base.upper() == 'H':\n",
        "#   print(Ox)\n",
        "# else:\n",
        "#   print(b2)"
      ],
      "execution_count": null,
      "outputs": []
    },
    {
      "cell_type": "code",
      "source": [
        "# SOLUÇÃO\n",
        "\n",
        "\n",
        "# num = int(input('Digite um numero inteiro: '))\n",
        "# print('''Escolha uma das bases para conversão:\n",
        "# [ 1 ] converter para BINÁRIO\n",
        "# [ 2 ] converter para OCTAL\n",
        "# [ 3 ] converter para HEXADECIMAL''')\n",
        "# opção = int(input('Sua opção: '))\n",
        "# if opção == 1:\n",
        "#   print('{} convertido para BINÁRIO é igual a {}'.format(num, bin(num)))\n",
        "# elif opção == 2:\n",
        "#   print('{} convertido para OCTAL é igual a {}'.format(num, oct(num)))\n",
        "# elif opção == 3:\n",
        "#   print('{} convertido para HEXADECIMAL é igual a {}'.format(num, hex(num)))"
      ],
      "metadata": {
        "id": "D_Sf9nxvEjlO"
      },
      "execution_count": null,
      "outputs": []
    },
    {
      "cell_type": "code",
      "metadata": {
        "id": "HQ_9BUdcQtrn"
      },
      "source": [
        "# def converte2(a,b): #a = bq + r\n",
        "#   novabase = \"\" #resto ou r_string\n",
        "#   r = 0\n",
        "#   while a>0: #r<a: #r > 0: ...n//b!\n",
        "#     q = a // b\n",
        "#     r = a - (q*b)\n",
        "#     #r = a % b\n",
        "#     a = q \n",
        "\n",
        "#     print(r,'\\n')\n",
        "#     #novabase=str(r)\n",
        "#     novabase += str(r)\n",
        "#   novabase = novabase[::-1]\n",
        "#   #novabase[::-1]\n",
        "#   #print('\\n',novabase[::-1])\n",
        "#   return novabase"
      ],
      "execution_count": null,
      "outputs": []
    },
    {
      "cell_type": "code",
      "source": [
        "# def converte(n,b): #n = bq + r\n",
        "#   # 10b10 = 1010b2  10/2 r1 5/2 r1 2/2 r0 0/2 r0\n",
        "#   r_string = \"\"\n",
        "#   while n//b > 0:\n",
        "#     r = n%b\n",
        "#     a = n//b\n",
        "#     print(r,'\\n')\n",
        "#     r_string += str(r)\n",
        "#   r_string[::-1]\n",
        "#   print('')  NO\n",
        "    \n",
        "\n",
        "    \n"
      ],
      "metadata": {
        "id": "m61tfNXS1dGB"
      },
      "execution_count": null,
      "outputs": []
    },
    {
      "cell_type": "code",
      "metadata": {
        "id": "tNa8bDFIrrgf"
      },
      "source": [
        "# converte2(12,2)"
      ],
      "execution_count": null,
      "outputs": []
    },
    {
      "cell_type": "code",
      "source": [
        "# converte2(12, 8)"
      ],
      "metadata": {
        "id": "FdcHStnN86LU"
      },
      "execution_count": null,
      "outputs": []
    },
    {
      "cell_type": "code",
      "source": [
        "# Solution\n",
        "def dec_to_base(num,base): # Maximum base - 36\n",
        "  base_num = \"\"\n",
        "  while num>0:\n",
        "    dig = int(num%base) # porque este int? \n",
        "    if dig<10:\n",
        "      base_num += str(dig)\n",
        "    else:\n",
        "      base_num += chr(ord('A')+dig-10) # Using uppercase Letters\n",
        "    num //= base\n",
        "\n",
        "  base_num = base_num[::-1] #To reverse the string\n",
        "  return base_num"
      ],
      "metadata": {
        "id": "vuDXQHyAEc8e"
      },
      "execution_count": null,
      "outputs": []
    },
    {
      "cell_type": "code",
      "source": [
        "dec_to_base(77,2)"
      ],
      "metadata": {
        "id": "kqCculiegCxz"
      },
      "execution_count": null,
      "outputs": []
    },
    {
      "cell_type": "code",
      "source": [
        "int(\"12\",8)"
      ],
      "metadata": {
        "id": "dQtoNDQAVTp9"
      },
      "execution_count": null,
      "outputs": []
    },
    {
      "cell_type": "code",
      "source": [
        "ord('a')"
      ],
      "metadata": {
        "id": "J5Uf7sB5RULc"
      },
      "execution_count": null,
      "outputs": []
    },
    {
      "cell_type": "code",
      "source": [
        "ord('A')"
      ],
      "metadata": {
        "id": "EIVaJTaDTMPI"
      },
      "execution_count": null,
      "outputs": []
    },
    {
      "cell_type": "code",
      "source": [
        "chr(94)+chr(93)+chr(92)+chr(91)+chr(90)"
      ],
      "metadata": {
        "id": "AvFrhOLNTNg_"
      },
      "execution_count": null,
      "outputs": []
    },
    {
      "cell_type": "code",
      "source": [
        "# Any Base to Decimal\n",
        "\n",
        "print(int(\"12\",3))\n",
        "print(int(\"12\",8))\n",
        "print(int(\"12\",10))\n",
        "print(int(\"12\",16))\n",
        "\n",
        "#chr(16)"
      ],
      "metadata": {
        "id": "_YDKVYGdVbF7"
      },
      "execution_count": null,
      "outputs": []
    },
    {
      "cell_type": "code",
      "source": [
        "username = input(\"Choose a username: \")  # Canita Broa\n",
        "final_username = username.replace(\"r\", \"_\")\n",
        "\n",
        "print(\"Your username is: \" + final_username) "
      ],
      "metadata": {
        "id": "FIvNXYlmkQOP"
      },
      "execution_count": null,
      "outputs": []
    },
    {
      "cell_type": "code",
      "source": [
        "for element in final_username: #string_name:\n",
        "  print(element, end=' ')\n",
        "print(\"\\n\")"
      ],
      "metadata": {
        "colab": {
          "base_uri": "https://localhost:8080/"
        },
        "id": "f2FBkp2hlqUT",
        "outputId": "6f51ae93-f854-4428-dd0a-0dbf8fed264b"
      },
      "execution_count": null,
      "outputs": [
        {
          "output_type": "stream",
          "name": "stdout",
          "text": [
            "G a l o \n",
            "\n"
          ]
        }
      ]
    },
    {
      "cell_type": "code",
      "source": [
        "def base_to_dec(num_str, base):\n",
        " base_num = 0\n",
        " power = 0           # declaration and initialization\n",
        " for column in num_str[::-1]: # d\n",
        "   print(column)\n",
        "   base_num += int(column) * pow(base, power)  # c = a + b \n",
        "   power += 1 # e\n",
        " print(base_num)\n",
        " #falta a potência!!! Incorporar, dessa forma em vez 12*8 = 96\n",
        "# We have:"
      ],
      "metadata": {
        "id": "tTrnrxV9TgbM"
      },
      "execution_count": null,
      "outputs": []
    },
    {
      "cell_type": "code",
      "source": [
        "num_str = \"147\"\n",
        "num_str[::-1]"
      ],
      "metadata": {
        "colab": {
          "base_uri": "https://localhost:8080/",
          "height": 35
        },
        "id": "2tWvCkng6pXK",
        "outputId": "d34a3c4a-fd16-4fe0-e69b-6eb24e1b9bc7"
      },
      "execution_count": null,
      "outputs": [
        {
          "output_type": "execute_result",
          "data": {
            "application/vnd.google.colaboratory.intrinsic+json": {
              "type": "string"
            },
            "text/plain": [
              "'741'"
            ]
          },
          "metadata": {},
          "execution_count": 18
        }
      ]
    },
    {
      "cell_type": "code",
      "source": [
        "base_to_dec(\"147\",8)"
      ],
      "metadata": {
        "colab": {
          "base_uri": "https://localhost:8080/"
        },
        "id": "m6iKJMP78RuQ",
        "outputId": "cca3bdca-f0b8-41da-cb6b-0fb9c3b31295"
      },
      "execution_count": null,
      "outputs": [
        {
          "output_type": "stream",
          "name": "stdout",
          "text": [
            "7\n",
            "4\n",
            "1\n",
            "103\n"
          ]
        }
      ]
    },
    {
      "cell_type": "code",
      "source": [
        "base_to_dec(\"147\",8)"
      ],
      "metadata": {
        "colab": {
          "base_uri": "https://localhost:8080/"
        },
        "id": "SxIaCQ7jkUau",
        "outputId": "871f1838-5cb1-4d3d-e085-9f32d38d2e07"
      },
      "execution_count": null,
      "outputs": [
        {
          "output_type": "stream",
          "name": "stdout",
          "text": [
            "7\n",
            "4\n",
            "1\n",
            "103\n"
          ]
        }
      ]
    },
    {
      "cell_type": "code",
      "source": [
        "print(pow(8,3))\n",
        "7*64 # valores muito próximos, logicamente... pois base = 8 , 7 imediamente antes!"
      ],
      "metadata": {
        "colab": {
          "base_uri": "https://localhost:8080/"
        },
        "id": "Kb0aECnK3jI1",
        "outputId": "c9c3826a-2679-4270-9c75-4a170ff6247a"
      },
      "execution_count": null,
      "outputs": [
        {
          "output_type": "stream",
          "name": "stdout",
          "text": [
            "512\n"
          ]
        },
        {
          "output_type": "execute_result",
          "data": {
            "text/plain": [
              "448"
            ]
          },
          "metadata": {},
          "execution_count": 21
        }
      ]
    },
    {
      "cell_type": "code",
      "source": [
        "base_to_dec(\"147\",8)"
      ],
      "metadata": {
        "colab": {
          "base_uri": "https://localhost:8080/"
        },
        "id": "zxAYslCoXxwI",
        "outputId": "acca8843-5986-49cf-825f-bacaedf0e98f"
      },
      "execution_count": null,
      "outputs": [
        {
          "output_type": "stream",
          "name": "stdout",
          "text": [
            "7\n",
            "4\n",
            "1\n",
            "103\n"
          ]
        }
      ]
    },
    {
      "cell_type": "code",
      "source": [
        "pow(4,4)"
      ],
      "metadata": {
        "colab": {
          "base_uri": "https://localhost:8080/"
        },
        "id": "Ji_Z5aZjMr9b",
        "outputId": "2213f61a-f2c6-4d04-e17b-751686a93719"
      },
      "execution_count": null,
      "outputs": [
        {
          "output_type": "execute_result",
          "data": {
            "text/plain": [
              "256"
            ]
          },
          "metadata": {},
          "execution_count": 23
        }
      ]
    },
    {
      "cell_type": "code",
      "source": [
        "pow(4,4,8)"
      ],
      "metadata": {
        "colab": {
          "base_uri": "https://localhost:8080/"
        },
        "id": "4lIZYwboIX2i",
        "outputId": "2df29cca-663c-452d-c0b5-982049560c3e"
      },
      "execution_count": null,
      "outputs": [
        {
          "output_type": "execute_result",
          "data": {
            "text/plain": [
              "0"
            ]
          },
          "metadata": {},
          "execution_count": 24
        }
      ]
    },
    {
      "cell_type": "code",
      "source": [
        "pow(4,4,12)"
      ],
      "metadata": {
        "colab": {
          "base_uri": "https://localhost:8080/"
        },
        "id": "FMgNcxe1JB_Z",
        "outputId": "1358dba8-fe14-420e-ff09-41cae9949636"
      },
      "execution_count": null,
      "outputs": [
        {
          "output_type": "execute_result",
          "data": {
            "text/plain": [
              "4"
            ]
          },
          "metadata": {},
          "execution_count": 25
        }
      ]
    },
    {
      "cell_type": "code",
      "source": [
        "# a,b,c = 100\n",
        "# print(c)  .> cannot unpack non-iterable int object\n",
        "\n",
        "a,b,c = 1,2,3\n",
        "print(a,b,c)"
      ],
      "metadata": {
        "colab": {
          "base_uri": "https://localhost:8080/"
        },
        "id": "YQCqnQYnJIex",
        "outputId": "dce81582-710e-4ce4-c402-3836fc64c90c"
      },
      "execution_count": null,
      "outputs": [
        {
          "output_type": "stream",
          "name": "stdout",
          "text": [
            "1 2 3\n"
          ]
        }
      ]
    },
    {
      "cell_type": "code",
      "source": [
        "def baseToDec(num_str, base): # suporta até base de valor 36 \n",
        "  num_str = num_str[::-1]\n",
        "  num = 0\n",
        "  for k in range(len(num_str)):\n",
        "    dig = num_str[k]\n",
        "    if dig.isdigit():\n",
        "      dig = int(dig)\n",
        "    else:  # Assuming its either number or alphabet only\n",
        "      dig = ord(dig.upper())-ord('A')+10\n",
        "    num += dig*(base**k)\n",
        "  return num"
      ],
      "metadata": {
        "id": "0jhGYQhjbbVf"
      },
      "execution_count": null,
      "outputs": []
    },
    {
      "cell_type": "code",
      "source": [
        "baseToDec(\"147\",8)"
      ],
      "metadata": {
        "colab": {
          "base_uri": "https://localhost:8080/"
        },
        "id": "rlLc6braV0oP",
        "outputId": "1e1799c3-e69a-4c21-87ef-eed7526e667c"
      },
      "execution_count": null,
      "outputs": [
        {
          "output_type": "execute_result",
          "data": {
            "text/plain": [
              "103"
            ]
          },
          "metadata": {},
          "execution_count": 28
        }
      ]
    },
    {
      "cell_type": "code",
      "source": [
        "tries = 5\n",
        "time = \"0\"\n",
        "names = \"\"\n",
        "while time:\n",
        "  tries -= 1\n",
        "  name = input('Digite seu nome: ')\n",
        "  if name == 'name':\n",
        "    break\n",
        "  names += name\n",
        "print(names)"
      ],
      "metadata": {
        "colab": {
          "base_uri": "https://localhost:8080/"
        },
        "id": "856ZTcLdV737",
        "outputId": "d67088f2-6db7-4ef8-e799-a40b944a1675"
      },
      "execution_count": null,
      "outputs": [
        {
          "output_type": "stream",
          "name": "stdout",
          "text": [
            "Digite seu nome: iu\n",
            "Digite seu nome: j\n",
            "Digite seu nome: name\n",
            "iuj\n"
          ]
        }
      ]
    },
    {
      "cell_type": "markdown",
      "source": [
        "**Desafio 038**\n",
        "\n",
        "Escreva um programa que leia dois números inteiros e compare-os, mostrando na tela uma mensagem:\n",
        "\n",
        "- O primeiro valor é maior\n",
        "- O segundo valor é maior \n",
        "- Não existe valor maior, os dois são iguais"
      ],
      "metadata": {
        "id": "XFQINJzGmX5R"
      }
    },
    {
      "cell_type": "code",
      "source": [
        "n1 = input('Digite o 1º: ')\n",
        "n2 = input('Digite o 2º: ')\n",
        "if n1 > n2:\n",
        "  print('O primeiro valor é maior.')\n",
        "elif n1 == n2:\n",
        "  print('\\nR: Não existe valor maior, os dois são iguais.')\n",
        "else:\n",
        "  print('\\nR: O segundo valor é maior')"
      ],
      "metadata": {
        "colab": {
          "base_uri": "https://localhost:8080/"
        },
        "id": "JxanOfckv5JE",
        "outputId": "db2aa97e-feeb-4767-825f-3b0259f0e755"
      },
      "execution_count": null,
      "outputs": [
        {
          "output_type": "stream",
          "name": "stdout",
          "text": [
            "Digite o 1º: 6\n",
            "Digite o 2º: 9\n",
            "\n",
            "R: O segundo valor é maior\n"
          ]
        }
      ]
    },
    {
      "cell_type": "markdown",
      "source": [
        "**Desafio 039**\n",
        "\n",
        "Faça um programa que leia o ano de nascimento de um jovem e informe, de acordo com sua idade:\n",
        "\n",
        "- Se ele ainda vai se alistar ao serviço militar.\n",
        "- Se é na hora de se alistar.\n",
        "- Se já passou do tempo de alistamento.\n",
        "\n",
        "Seu programa também deverá mostrar o tempo que falta ou que passou de prazo"
      ],
      "metadata": {
        "id": "OFK80PEho8i0"
      }
    },
    {
      "cell_type": "code",
      "source": [
        "from datetime import date\n",
        "\n",
        "year = date.today().year\n",
        "#print(data_atual)\n",
        "bornYear = int(input('Say your born year: '))\n",
        "\n",
        "MILITARYAGE = 18 \n",
        "age = year-bornYear\n",
        "\n",
        "militaryTime = age - MILITARYAGE\n",
        "\n",
        "if militaryTime > 0:\n",
        "  print('Already passed ',militaryTime, ' year(s) since military register' )\n",
        "elif militaryTime == 0:\n",
        "  print('Military register is in this year')\n",
        "else:\n",
        "  print(abs(militaryTime), 'year(s) to you have military service register day.')"
      ],
      "metadata": {
        "id": "wMeG0zd_vBfZ",
        "outputId": "8affc08c-9b60-4036-c26b-44b2690dae46",
        "colab": {
          "base_uri": "https://localhost:8080/"
        }
      },
      "execution_count": null,
      "outputs": [
        {
          "output_type": "stream",
          "name": "stdout",
          "text": [
            "Say your born year: 2023\n",
            "19 year(s) to you have military service register day.\n"
          ]
        }
      ]
    },
    {
      "cell_type": "code",
      "source": [
        "data_atual = date.today()\n",
        "data_em_texto = '{}/{}/{}'.format(data_atual.day, data_atual.month, data_atual.year)"
      ],
      "metadata": {
        "id": "BILrrQCevaac"
      },
      "execution_count": null,
      "outputs": []
    },
    {
      "cell_type": "code",
      "source": [
        "data_em_texto"
      ],
      "metadata": {
        "id": "1mlxPyrYIJ4H",
        "outputId": "70064550-7497-45e3-e31e-fe2edaac2115",
        "colab": {
          "base_uri": "https://localhost:8080/",
          "height": 35
        }
      },
      "execution_count": null,
      "outputs": [
        {
          "output_type": "execute_result",
          "data": {
            "application/vnd.google.colaboratory.intrinsic+json": {
              "type": "string"
            },
            "text/plain": [
              "'2/3/2022'"
            ]
          },
          "metadata": {},
          "execution_count": 4
        }
      ]
    },
    {
      "cell_type": "code",
      "source": [
        "import datetime"
      ],
      "metadata": {
        "id": "oHUNq3hb1EJK"
      },
      "execution_count": null,
      "outputs": []
    },
    {
      "cell_type": "code",
      "source": [
        "data_e_hora_atuais = datetime.datetime.now() # truque\n",
        "data_e_hora_em_texto = data_e_hora_atuais.strftime('%d/%m/%Y')\n",
        "\n",
        "print(data_e_hora_em_texto)"
      ],
      "metadata": {
        "id": "14ogZQ2UIyEH",
        "outputId": "995a5c72-dcfa-43a2-82de-7227dc309b21",
        "colab": {
          "base_uri": "https://localhost:8080/"
        }
      },
      "execution_count": null,
      "outputs": [
        {
          "output_type": "stream",
          "name": "stdout",
          "text": [
            "02/03/2022\n"
          ]
        }
      ]
    },
    {
      "cell_type": "code",
      "source": [
        "data_e_hora_em_texto = data_e_hora_atuais.strftime('%d/%m/%Y %H:%M')\n",
        "\n",
        "print(data_e_hora_em_texto)"
      ],
      "metadata": {
        "id": "ZHWvvscPQxpR",
        "outputId": "51a045a0-4896-42d3-a029-c30609598254",
        "colab": {
          "base_uri": "https://localhost:8080/"
        }
      },
      "execution_count": null,
      "outputs": [
        {
          "output_type": "stream",
          "name": "stdout",
          "text": [
            "02/03/2022 16:05\n"
          ]
        }
      ]
    },
    {
      "cell_type": "code",
      "source": [
        "from datetime import datetime\n",
        "\n",
        "data_e_hora_em_texto = '17/07/2030 12:55' #14:61'\n",
        "data_e_hora = datetime.strptime(data_em_texto, '%d/%m/%Y')# %H:%M')\n",
        "data_e_hora = datetime.strptime(data_e_hora_em_texto, '%d/%m/%Y %H:%M')\n"
      ],
      "metadata": {
        "id": "O79bfk0pc4A4"
      },
      "execution_count": null,
      "outputs": []
    },
    {
      "cell_type": "code",
      "source": [
        "print(data_e_hora)"
      ],
      "metadata": {
        "id": "IOe3mgvu0Mw5",
        "outputId": "5d848166-101a-45f1-c05f-d3fa4138f17e",
        "colab": {
          "base_uri": "https://localhost:8080/"
        }
      },
      "execution_count": null,
      "outputs": [
        {
          "output_type": "stream",
          "name": "stdout",
          "text": [
            "2030-07-17 12:55:00\n"
          ]
        }
      ]
    },
    {
      "cell_type": "markdown",
      "source": [
        "**Desafio 40**\n",
        "\n",
        "Crie um programa que leia duas notas de um aluno e calcule sua média, mostrando uma mensagem no final, de acordo com a média atingida:\n",
        "- Média abaixo de 5.0:  REPROVADO\n",
        "\n",
        "- Média entre 5.0 e 6.9: RECUPERAÇÃO\n",
        "\n",
        "- Média 7.0 ou superior: APROVADO\n"
      ],
      "metadata": {
        "id": "9tbkKTHOWLRI"
      }
    },
    {
      "cell_type": "code",
      "source": [
        "grade1 = float(input('Tell your first grade: '))\n",
        "grade2 = float(input('Tell me your second grade: '))\n",
        "\n",
        "avg = round((grade1+grade2)/2,1) # se 6.0 e 3.9 dá RECUPERAÇÃO\n",
        "\n",
        "if avg < 5.0:\n",
        "  print('REPROVADO')\n",
        "elif avg < 7.0: \n",
        "  print('RECUPERAÇÃO')\n",
        "else:\n",
        "  print('APROVADO')\n",
        "  "
      ],
      "metadata": {
        "id": "KH-vjpkm2W_U",
        "colab": {
          "base_uri": "https://localhost:8080/"
        },
        "outputId": "a3116afe-d2ce-4517-e1c4-6e2b0ffec2c6"
      },
      "execution_count": null,
      "outputs": [
        {
          "output_type": "stream",
          "name": "stdout",
          "text": [
            "Tell your first grade: 7\n",
            "Tell me your second grade: 9\n",
            "APROVADO\n"
          ]
        }
      ]
    },
    {
      "cell_type": "markdown",
      "source": [
        "**Desafio 41**\n",
        "\n",
        "A Confederação Nacional de Natação precisa de um programa que leia o ano de nascimento de um atleta e mostre sua categoria, de acordo com a idade:\n",
        "\n",
        "- Até 9 anos: MIRIM\n",
        "- Até 14 anos: INFANTIL\n",
        "- Até 19 anos: JUNIOR\n",
        "- Até 30 anos: SÊNIOR\n",
        "- Acima: MASTER"
      ],
      "metadata": {
        "id": "IyrGuH7pcwhc"
      }
    },
    {
      "cell_type": "code",
      "source": [
        "year"
      ],
      "metadata": {
        "colab": {
          "base_uri": "https://localhost:8080/"
        },
        "id": "3lFl5OFhAxmg",
        "outputId": "d59ad0be-1119-4eca-ce5d-1e92f2d858a8"
      },
      "execution_count": null,
      "outputs": [
        {
          "output_type": "execute_result",
          "data": {
            "text/plain": [
              "2022"
            ]
          },
          "metadata": {},
          "execution_count": 11
        }
      ]
    },
    {
      "cell_type": "code",
      "source": [
        "bornYear = int(input('Athlete, say your born year: '))\n",
        "age = year - bornYear\n",
        "if age <= 9:\n",
        "  print('MIRIM')\n",
        "elif age <= 14:\n",
        "  print('INFANTIL')\n",
        "elif age <= 19:\n",
        "  print('JUNIOR')\n",
        "elif age <= 30:\n",
        "  print('SÊNIOR')\n",
        "else:\n",
        "  print('MASTER')"
      ],
      "metadata": {
        "colab": {
          "base_uri": "https://localhost:8080/"
        },
        "id": "PCgSqjN2cwC1",
        "outputId": "9b736a64-3677-4a13-bf27-3c1e8d149375"
      },
      "execution_count": null,
      "outputs": [
        {
          "output_type": "stream",
          "name": "stdout",
          "text": [
            "Athlete, say your born year: 2018\n",
            "MIRIM\n"
          ]
        }
      ]
    },
    {
      "cell_type": "markdown",
      "source": [
        "**DESAFIO 42**\n",
        "\n",
        "Refaça o Desafio 35 dos triângulos, acrescentando o recurso de mostrar que tipo de triângulo será formado:\n",
        "\n",
        "* **Equilátero**: todos os lados iguais\n",
        "* **Isósceles**: dois lados iguais\n",
        "* **Escaleno**: todos os lados diferentes"
      ],
      "metadata": {
        "id": "JJkkW_UwKs3U"
      }
    },
    {
      "cell_type": "code",
      "source": [
        "def istriangle(a,b,c):\n",
        "  # great = a\n",
        "  # if great<b:\n",
        "  #   great = b\n",
        "  # if great < c:\n",
        "  #   great = c\n",
        "  # #return great\n",
        "  # great\n",
        "  return a < b + c and b < a + c and c < a + b\n",
        " "
      ],
      "metadata": {
        "id": "M69g8rq3bskc"
      },
      "execution_count": null,
      "outputs": []
    },
    {
      "cell_type": "code",
      "source": [
        "def triangletype(s1,s2,s3):\n",
        "  if istriangle(s1,s2,s3):\n",
        "    if s1 == s2 and s2 == s3:\n",
        "      print('Equilateral')\n",
        "    elif s1 == s2 or s1 == s3 or s2 == s3:\n",
        "      print('Isosceles')\n",
        "    else:\n",
        "      print('Scalene')\n",
        "  else: print('With this measures don\\'t is possible build a triangle')"
      ],
      "metadata": {
        "id": "zgSaZEIRbJdh"
      },
      "execution_count": null,
      "outputs": []
    },
    {
      "cell_type": "code",
      "source": [
        "triangletype(2,3,4)"
      ],
      "metadata": {
        "id": "BMAscIlaQ6-M",
        "outputId": "6f5ba83a-4228-4b39-8342-ac457591f773",
        "colab": {
          "base_uri": "https://localhost:8080/"
        }
      },
      "execution_count": null,
      "outputs": [
        {
          "output_type": "stream",
          "name": "stdout",
          "text": [
            "Scalene\n"
          ]
        }
      ]
    },
    {
      "cell_type": "code",
      "source": [
        "triangletype(4,3,10)"
      ],
      "metadata": {
        "colab": {
          "base_uri": "https://localhost:8080/"
        },
        "id": "-Bsiyk7uujnd",
        "outputId": "b232f142-cb87-4166-c7d6-e5cf4482fe94"
      },
      "execution_count": null,
      "outputs": [
        {
          "output_type": "stream",
          "name": "stdout",
          "text": [
            "With this measures don't is possible build a triangle\n"
          ]
        }
      ]
    },
    {
      "cell_type": "code",
      "source": [
        "def triangletype2(s1,s2,s3):\n",
        "  if istriangle(s1,s2,s3):\n",
        "    if s1 == s2:\n",
        "      if s1 == s3:\n",
        "        print('Equilateral')\n",
        "      else: print('Isosceles')\n",
        "    elif s1 == s3 or s2 == s3:\n",
        "      print('Isosceles')\n",
        "    else: print('Scalene') \n",
        "  else: print('With this measures don\\'t is possible build a triangle')"
      ],
      "metadata": {
        "id": "K4nkBCjdQ_cP"
      },
      "execution_count": null,
      "outputs": []
    },
    {
      "cell_type": "code",
      "source": [
        "triangletype2(1,2,3)"
      ],
      "metadata": {
        "colab": {
          "base_uri": "https://localhost:8080/"
        },
        "id": "IPEpZDuPtIWP",
        "outputId": "25a2c18e-3912-4e06-c406-e02d27fba676"
      },
      "execution_count": null,
      "outputs": [
        {
          "output_type": "stream",
          "name": "stdout",
          "text": [
            "With this measures don't is possible build a triangle\n"
          ]
        }
      ]
    },
    {
      "cell_type": "code",
      "source": [
        "triangletype2(4,2,5)"
      ],
      "metadata": {
        "id": "J6mqhKGuU0ec",
        "outputId": "df72691b-54a2-4654-d1db-a43efc8c1522",
        "colab": {
          "base_uri": "https://localhost:8080/"
        }
      },
      "execution_count": null,
      "outputs": [
        {
          "output_type": "stream",
          "name": "stdout",
          "text": [
            "Scalene\n"
          ]
        }
      ]
    },
    {
      "cell_type": "code",
      "source": [
        "triangletype2(3,3,5)"
      ],
      "metadata": {
        "id": "sP_Gq17MU7dp",
        "outputId": "d1cd85c1-f879-4b51-ac17-6699b66667a8",
        "colab": {
          "base_uri": "https://localhost:8080/"
        }
      },
      "execution_count": null,
      "outputs": [
        {
          "output_type": "stream",
          "name": "stdout",
          "text": [
            "Isosceles\n"
          ]
        }
      ]
    },
    {
      "cell_type": "code",
      "source": [
        "triangletype(0,0,0)"
      ],
      "metadata": {
        "id": "Q12xiFNoU_qC",
        "colab": {
          "base_uri": "https://localhost:8080/"
        },
        "outputId": "5b377c28-f6d8-4c1a-c475-bfcbc80181f1"
      },
      "execution_count": null,
      "outputs": [
        {
          "output_type": "stream",
          "name": "stdout",
          "text": [
            "Equilateral\n"
          ]
        }
      ]
    },
    {
      "cell_type": "code",
      "source": [
        "\n",
        "\n",
        "#def istriangle(a,b,c): # decomponho para ver qual é o maior e a partir daí vejo se é triangulo\n",
        "  #if (a>b>c)"
      ],
      "metadata": {
        "id": "d7mhzn7VYhwO"
      },
      "execution_count": null,
      "outputs": []
    },
    {
      "cell_type": "code",
      "source": [
        "istriangle(2,2,3)"
      ],
      "metadata": {
        "colab": {
          "base_uri": "https://localhost:8080/"
        },
        "id": "5pDi-yJMrq6H",
        "outputId": "6a58817d-6b47-4389-ff71-14a244563e59"
      },
      "execution_count": null,
      "outputs": [
        {
          "output_type": "execute_result",
          "data": {
            "text/plain": [
              "True"
            ]
          },
          "metadata": {},
          "execution_count": 36
        }
      ]
    },
    {
      "cell_type": "code",
      "source": [
        "# def istriangle(a,b,c):\n",
        "#   great(a,b,c)# a > b + c\n",
        "  "
      ],
      "metadata": {
        "id": "o5rQoJPxdfnk"
      },
      "execution_count": null,
      "outputs": []
    },
    {
      "cell_type": "code",
      "source": [
        "#greaterSide(3,4,6)"
      ],
      "metadata": {
        "colab": {
          "base_uri": "https://localhost:8080/"
        },
        "id": "ahptP0E1deg3",
        "outputId": "8cc11cc8-10fb-49b2-e788-e8d9d7038899"
      },
      "execution_count": null,
      "outputs": [
        {
          "output_type": "execute_result",
          "data": {
            "text/plain": [
              "6"
            ]
          },
          "metadata": {},
          "execution_count": 25
        }
      ]
    },
    {
      "cell_type": "markdown",
      "source": [
        "**Desafio 043**\n",
        "\n",
        "Desenvolva uma lógica que leia o peso e a altura de uma pessoa. Calcule seu **IMC** e mostre seu status, de acordo com a tabela abaixo:\n",
        "- Abaixo de **18.5**: Abaixo do Peso\n",
        "- Entre **18.5** e **25**: Peso ideal\n",
        "- **25** até **30**: Sobrepeso\n",
        "- Acima de **40**:\n",
        "Obesidade mórbida"
      ],
      "metadata": {
        "id": "v6mJCFbcuzx8"
      }
    },
    {
      "cell_type": "code",
      "source": [
        "DOWN = 18.5\n",
        "RIGHT = 25\n",
        "OVER = 30\n",
        "OPUP = 40\n",
        "\n",
        "altura = float(input('Digite a sua altura (em metros): '))\n",
        "peso = float(input('Digite o seu peso (em kilogramas): '))\n",
        "\n",
        "\n",
        "\n",
        "IMC = peso/altura**2\n",
        "\n",
        "if IMC < DOWN:\n",
        "  print('Below weight\\'s')\n",
        "elif IMC < RIGHT:\n",
        "  print('Weight optimal ')\n",
        "elif IMC < OVER:\n",
        "  print('Above weight\\'s')\n",
        "elif IMC < OPUP:\n",
        "  print('Morbid obesity')"
      ],
      "metadata": {
        "id": "5C-WGG-Vu32Q",
        "colab": {
          "base_uri": "https://localhost:8080/"
        },
        "outputId": "03300b43-4d83-4a1e-c709-cca813ef0b78"
      },
      "execution_count": null,
      "outputs": [
        {
          "output_type": "stream",
          "name": "stdout",
          "text": [
            "Digite a sua altura (em metros): 1.89\n",
            "Digite o seu peso (em kilogramas): 80\n",
            "Weight optimal \n"
          ]
        }
      ]
    },
    {
      "cell_type": "code",
      "source": [
        "IMC"
      ],
      "metadata": {
        "id": "QQBABdLJhlgP",
        "colab": {
          "base_uri": "https://localhost:8080/"
        },
        "outputId": "5aeaf83e-9cdf-4166-a2f6-ecbd14b2bbe1"
      },
      "execution_count": null,
      "outputs": [
        {
          "output_type": "execute_result",
          "data": {
            "text/plain": [
              "22.395789591556788"
            ]
          },
          "metadata": {},
          "execution_count": 2
        }
      ]
    },
    {
      "cell_type": "markdown",
      "source": [
        "**Desafio 044**\n",
        "Elabore um programa que calcule o valor a ser pago por um produto, considerando o seu **preço normal** e **condição de pagamento**:\n",
        "\n",
        "\n",
        "*   à vista **dinheiro/cheque: 10%** de desconto\n",
        "*   à vista no **cartão: 5%** de desconto\n",
        "*   em até **2* no cartão**: preço normal\n",
        "*   **3* ou mais** no cartão: [**20%** de juros\n",
        "\n"
      ],
      "metadata": {
        "id": "dcPiqpIjFaW1"
      }
    },
    {
      "cell_type": "code",
      "source": [
        "price = float(input('What is the price of your product: '))\n",
        "payC = str(input('What is payment condition that you choose: ')) # paymentCOndition\n",
        "\n",
        "if payC == '1':\n",
        "  price *= 0.95\n",
        "elif payC == '2':\n",
        "  price *= 1\n",
        "elif payC == '3':\n",
        "  price *= 1.20\n",
        "elif payC.lower == 'm' or 'c':\n",
        "  price *= 0.9\n",
        "\n",
        "\n",
        "print('O preço a ser pago mediante a condição de pagamento é', price)"
      ],
      "metadata": {
        "colab": {
          "base_uri": "https://localhost:8080/"
        },
        "id": "c34e-kRBwmyY",
        "outputId": "57bbb73e-22db-4a28-9dc0-ed98dcc7100c"
      },
      "execution_count": null,
      "outputs": [
        {
          "output_type": "stream",
          "name": "stdout",
          "text": [
            "What is the price of your product: 12\n",
            "What is payment condition that you choose: c\n",
            "O preço a ser pago mediante a condição de pagamento é 10.8\n"
          ]
        }
      ]
    },
    {
      "cell_type": "markdown",
      "source": [
        "**Desafio 045**\n",
        "Crie um programa que faça o computador **Jokenpô** com voçê."
      ],
      "metadata": {
        "id": "AImnu02NkZu8"
      }
    },
    {
      "cell_type": "code",
      "source": [
        "import random\n"
      ],
      "metadata": {
        "id": "TDdytRBNp1An"
      },
      "execution_count": null,
      "outputs": []
    },
    {
      "cell_type": "code",
      "source": [
        "presentation = print('Rock, Paper and Scissors Game')"
      ],
      "metadata": {
        "colab": {
          "base_uri": "https://localhost:8080/"
        },
        "id": "CHw4OFeZi1p_",
        "outputId": "a4f4bcad-30fe-4d49-c52f-a12ccd6dacc4"
      },
      "execution_count": null,
      "outputs": [
        {
          "output_type": "stream",
          "name": "stdout",
          "text": [
            "Rock, Paper and Scissors Game\n"
          ]
        }
      ]
    },
    {
      "cell_type": "code",
      "source": [
        "gameV =  {1:'rock', 2:'paper', 3:'scissor'}\n",
        "\n",
        "while True: \n",
        "  num = random.randint(0,2) + 1\n",
        "  human = int(input('Write a number between 1 to 3 which:\\n 1 is Rock \\n 2 is Paper \\n 3 is Scissor\\n'))\n",
        "  if (0 < human < 4):\n",
        "    break\n",
        "\n",
        "print(num)\n",
        "pc = gameV[num]\n",
        "print(pc)\n",
        "print(' Jokenpô GAME :\\n\\n Human move: ', gameV[human],' vs PC move:', pc)#, '\\n \\n RESULT: ')\n",
        "dif = human-num #abs(num-human)\n",
        "\n",
        "print(dif)\n",
        "if dif == 0:\n",
        "  print('Draw', pc)\n",
        "elif dif == 1 or dif == -2:\n",
        "  print('Vitory')\n",
        "else:\n",
        "  print('Defeat') \n",
        "\n",
        "#human = gameV[human]\n",
        "\n",
        "#if \n"
      ],
      "metadata": {
        "colab": {
          "base_uri": "https://localhost:8080/"
        },
        "id": "u1fJlIR3lR7m",
        "outputId": "9327ee3d-6f19-4552-86d3-c4ffc352ac70"
      },
      "execution_count": null,
      "outputs": [
        {
          "name": "stdout",
          "output_type": "stream",
          "text": [
            "Write a number between 1 to 3 which:\n",
            " 1 is Rock \n",
            " 2 is Paper \n",
            " 3 is Scissor\n",
            "4\n",
            "Write a number between 1 to 3 which:\n",
            " 1 is Rock \n",
            " 2 is Paper \n",
            " 3 is Scissor\n",
            "8\n",
            "Write a number between 1 to 3 which:\n",
            " 1 is Rock \n",
            " 2 is Paper \n",
            " 3 is Scissor\n",
            "-1\n"
          ]
        }
      ]
    },
    {
      "cell_type": "code",
      "source": [
        "gameV[2]"
      ],
      "metadata": {
        "id": "qVT_nzivlJwH",
        "outputId": "42d09a33-9b1a-4ea6-fa59-27f3a6b08ef5",
        "colab": {
          "base_uri": "https://localhost:8080/",
          "height": 35
        }
      },
      "execution_count": null,
      "outputs": [
        {
          "output_type": "execute_result",
          "data": {
            "text/plain": [
              "'paper'"
            ],
            "application/vnd.google.colaboratory.intrinsic+json": {
              "type": "string"
            }
          },
          "metadata": {},
          "execution_count": 27
        }
      ]
    },
    {
      "cell_type": "code",
      "source": [
        "type(gameV[num])"
      ],
      "metadata": {
        "colab": {
          "base_uri": "https://localhost:8080/"
        },
        "id": "LB7rUeapZ5rn",
        "outputId": "0637375d-60f9-4205-8ed6-97a476a471a2"
      },
      "execution_count": null,
      "outputs": [
        {
          "output_type": "execute_result",
          "data": {
            "text/plain": [
              "str"
            ]
          },
          "metadata": {},
          "execution_count": 7
        }
      ]
    },
    {
      "cell_type": "code",
      "source": [
        "type(gameV)"
      ],
      "metadata": {
        "colab": {
          "base_uri": "https://localhost:8080/"
        },
        "id": "QcVatJX2Z-av",
        "outputId": "9a0d5c93-6b36-459d-b229-0ff1c589b7c6"
      },
      "execution_count": null,
      "outputs": [
        {
          "output_type": "execute_result",
          "data": {
            "text/plain": [
              "dict"
            ]
          },
          "metadata": {},
          "execution_count": 8
        }
      ]
    },
    {
      "cell_type": "code",
      "source": [
        "#type(gameV[])"
      ],
      "metadata": {
        "colab": {
          "base_uri": "https://localhost:8080/",
          "height": 130
        },
        "id": "0KbrBgqbaBEf",
        "outputId": "8cf59649-354b-450c-caaa-e648939c5c40"
      },
      "execution_count": null,
      "outputs": [
        {
          "output_type": "error",
          "ename": "SyntaxError",
          "evalue": "ignored",
          "traceback": [
            "\u001b[0;36m  File \u001b[0;32m\"<ipython-input-9-56275e43cb3c>\"\u001b[0;36m, line \u001b[0;32m1\u001b[0m\n\u001b[0;31m    type(gameV[])\u001b[0m\n\u001b[0m               ^\u001b[0m\n\u001b[0;31mSyntaxError\u001b[0m\u001b[0;31m:\u001b[0m invalid syntax\n"
          ]
        }
      ]
    },
    {
      "cell_type": "code",
      "source": [
        "gameV[num]"
      ],
      "metadata": {
        "colab": {
          "base_uri": "https://localhost:8080/",
          "height": 35
        },
        "id": "TqNHAOXnp8dr",
        "outputId": "2544c6b0-29f5-4212-fcd0-14440fead826"
      },
      "execution_count": null,
      "outputs": [
        {
          "output_type": "execute_result",
          "data": {
            "application/vnd.google.colaboratory.intrinsic+json": {
              "type": "string"
            },
            "text/plain": [
              "'scissor'"
            ]
          },
          "metadata": {},
          "execution_count": 23
        }
      ]
    },
    {
      "cell_type": "code",
      "source": [
        "# Solução do Gustavo Guanabará\n",
        "from random import randint\n",
        "from time import sleep\n",
        "itens =  ('Pedra', 'Papel', 'Tesoura')\n",
        "computador = randint(0, 2)\n",
        "print('''Suas opções:\n",
        "[ 0 ] PEDRA\n",
        "[ 1 ] PAPEL\n",
        "[ 2 ] TESOURA''')\n",
        "jogador = int(input('Qual é a sua jogada? '))\n",
        "print('JO')\n",
        "sleep(1)\n",
        "print('KEN')\n",
        "sleep(1)\n",
        "print('PÔ!!!')\n",
        "print('-=' * 11)\n",
        "print('O computador escolheu {}'.format(itens[computador]))\n",
        "print('Jogador jogou {}'.format(itens[jogador]))\n",
        "print('-=' * 11)\n",
        "if computador == 0: # computador jogou P  edra\n",
        "  if jogador == 0:\n",
        "    print('EMPATE')\n",
        "  elif jogador == 1:\n",
        "    print('JOGADOR VENCE')\n",
        "  elif jogador == 2:\n",
        "    print('COMPUTADOR VENCE')\n",
        "  else:\n",
        "    print('JOGADA INVÁLIDA!')\n",
        "elif computador == 1: # computador jogou PAPEL\n",
        "  if jogador == 0:\n",
        "    print('COMPUTADOR VENCE')\n",
        "  elif jogador == 1:\n",
        "    print('EMPATE')\n",
        "  elif jogador == 2:\n",
        "    print('JOGADOR VENCE')\n",
        "  else:\n",
        "    print('JOGADA INVÁLIDA!')\n",
        "elif computador == 1: # computador jogou TESOURA\n",
        "  if jogador == 0:\n",
        "    print('JOGADOR VENCE')\n",
        "  elif jogador == 1:\n",
        "    print('COMPUTADOR VENCE')\n",
        "  elif jogador == 2:\n",
        "    print('EMPATE')\n",
        "  else:\n",
        "    print('JOGADA INVÁLIDA!')"
      ],
      "metadata": {
        "id": "Fpr9TrxHqQ0u",
        "colab": {
          "base_uri": "https://localhost:8080/"
        },
        "outputId": "e647bfb3-9390-4fee-f1fa-6633c9d555cf"
      },
      "execution_count": null,
      "outputs": [
        {
          "output_type": "stream",
          "name": "stdout",
          "text": [
            "Suas opções:\n",
            "[ 0 ] PEDRA\n",
            "[ 1 ] PAPEL\n",
            "[ 2 ] TESOURA\n",
            "Qual é a sua jogada? 2\n",
            "-=-=-=-=-=-=-=-=-=-=-=\n",
            "O computador escolheu Papel\n",
            "Jogador jogou Tesoura\n",
            "-=-=-=-=-=-=-=-=-=-=-=\n",
            "JOGADOR VENCE\n"
          ]
        }
      ]
    },
    {
      "cell_type": "code",
      "source": [
        "# Estrutura de repetição\n",
        "\n",
        "# Aula 13\n",
        "\n",
        "# print('Oi')\n",
        "# print('Oi')\n",
        "# print('Oi')\n",
        "# print('Oi')\n",
        "# print('Oi')\n",
        "# print('Oi')\n",
        "\n",
        "\n",
        "for c in range(0, 6):\n",
        "  print('Oi')\n",
        "print('FIM')\n",
        "\n",
        "# aninhar, colocar uma estrutura dentro da outra\n",
        "\n",
        "# sintaxe do portinhol e do ..."
      ],
      "metadata": {
        "id": "wu_jqtJybkVA",
        "outputId": "4945ba1a-7b5d-4ed8-d5e4-8188f6aab6b0",
        "colab": {
          "base_uri": "https://localhost:8080/"
        }
      },
      "execution_count": null,
      "outputs": [
        {
          "output_type": "stream",
          "name": "stdout",
          "text": [
            "Oi\n",
            "Oi\n",
            "Oi\n",
            "Oi\n",
            "Oi\n",
            "Oi\n",
            "FIM\n"
          ]
        }
      ]
    },
    {
      "cell_type": "code",
      "source": [
        "for c in range(6, 0, -1):\n",
        "  print(c)\n",
        "print('FIM')"
      ],
      "metadata": {
        "id": "h9Q6ie2LILbP",
        "outputId": "fcc0f279-6696-4224-ae42-2297165962be",
        "colab": {
          "base_uri": "https://localhost:8080/"
        }
      },
      "execution_count": null,
      "outputs": [
        {
          "output_type": "stream",
          "name": "stdout",
          "text": [
            "6\n",
            "5\n",
            "4\n",
            "3\n",
            "2\n",
            "1\n",
            "FIM\n"
          ]
        }
      ]
    },
    {
      "cell_type": "code",
      "source": [
        "n = int(input('Digite um número: '))\n",
        "#f = int(input)"
      ],
      "metadata": {
        "id": "V4WUgY0rIbME",
        "outputId": "27075ec1-c408-4252-df8d-f6728996c97b",
        "colab": {
          "base_uri": "https://localhost:8080/"
        }
      },
      "execution_count": null,
      "outputs": [
        {
          "name": "stdout",
          "output_type": "stream",
          "text": [
            "Digite um número: 56\n"
          ]
        }
      ]
    },
    {
      "cell_type": "code",
      "source": [
        "s = 0\n",
        "for c in range(0,4):\n",
        "  n = int(input('Digite um valor: '))\n",
        "  s = s + n\n",
        "print('O somatório de todos os valores foi {}'.format(s))"
      ],
      "metadata": {
        "id": "5fqKsRt5w7uF",
        "outputId": "7041c7c5-e403-4a1f-d4a9-a2c164f44814",
        "colab": {
          "base_uri": "https://localhost:8080/"
        }
      },
      "execution_count": null,
      "outputs": [
        {
          "output_type": "stream",
          "name": "stdout",
          "text": [
            "Digite um valor: 43\n",
            "Digite um valor: 3\n",
            "Digite um valor: 7\n",
            "Digite um valor: 2\n",
            "O somatório de todos os valores foi 55\n"
          ]
        }
      ]
    },
    {
      "cell_type": "markdown",
      "source": [
        "# Desafio 046\n",
        "\n",
        "Faça um programa que mostre na tela **contagem regressiva** para o estouro de fogos de artifício, indo de **10 até 0**, com uma pausa de **1 segundo** entre eles.\n"
      ],
      "metadata": {
        "id": "Zs3CwnPQxksz"
      }
    },
    {
      "cell_type": "code",
      "source": [
        "import time\n",
        "\n",
        "for c in range(10,-1, -1):\n",
        "  print(c)\n",
        "  time.sleep(1)"
      ],
      "metadata": {
        "id": "YVMDB5qhyOFa",
        "outputId": "c7593ade-3550-4a88-f60e-02b6e516d72c",
        "colab": {
          "base_uri": "https://localhost:8080/"
        }
      },
      "execution_count": null,
      "outputs": [
        {
          "output_type": "stream",
          "name": "stdout",
          "text": [
            "10\n",
            "9\n",
            "8\n",
            "7\n",
            "6\n",
            "5\n",
            "4\n",
            "3\n",
            "2\n",
            "1\n",
            "0\n"
          ]
        }
      ]
    },
    {
      "cell_type": "code",
      "source": [
        ""
      ],
      "metadata": {
        "id": "zBakKcIN0BDg"
      },
      "execution_count": null,
      "outputs": []
    },
    {
      "cell_type": "code",
      "source": [
        "# Answer by Gustavo Guanabará\n",
        "from time import sleep\n",
        "for cont in range(10, -1, -1): # (0,11,1)\n",
        "  print(cont)\n",
        "  sleep(0.5)\n",
        "print('BUM! BUM! POOOW!')"
      ],
      "metadata": {
        "colab": {
          "base_uri": "https://localhost:8080/"
        },
        "id": "gDlDyVQwmF__",
        "outputId": "2f18e7ca-4aff-4c90-89fb-e68ce33f96ab"
      },
      "execution_count": 1,
      "outputs": [
        {
          "output_type": "stream",
          "name": "stdout",
          "text": [
            "10\n",
            "9\n",
            "8\n",
            "7\n",
            "6\n",
            "5\n",
            "4\n",
            "3\n",
            "2\n",
            "1\n",
            "0\n",
            "BUM! BUM! POOOW!\n"
          ]
        }
      ]
    },
    {
      "cell_type": "markdown",
      "source": [
        "# Desafio 047\n",
        "\n",
        "Crie um programa que mostre na tela **todos os números pares** que estão no intervalo de **1** e **50**"
      ],
      "metadata": {
        "id": "qLeG4Bw5znzz"
      }
    },
    {
      "cell_type": "code",
      "source": [
        "for c in range(0,50):\n",
        "  if c%2==0:\n",
        "    print(c)"
      ],
      "metadata": {
        "id": "SOav3myMzmvv",
        "outputId": "5286c9c9-bd5a-49e5-8508-054a5e3f3531",
        "colab": {
          "base_uri": "https://localhost:8080/"
        }
      },
      "execution_count": null,
      "outputs": [
        {
          "output_type": "stream",
          "name": "stdout",
          "text": [
            "0\n",
            "2\n",
            "4\n",
            "6\n",
            "8\n",
            "10\n",
            "12\n",
            "14\n",
            "16\n",
            "18\n",
            "20\n",
            "22\n",
            "24\n",
            "26\n",
            "28\n",
            "30\n",
            "32\n",
            "34\n",
            "36\n",
            "38\n",
            "40\n",
            "42\n",
            "44\n",
            "46\n",
            "48\n"
          ]
        }
      ]
    },
    {
      "cell_type": "code",
      "source": [
        "#Solved by Gustavo Guanabará\n",
        "for n in range(1, 51, 2):\n",
        "  # print('.', end='')\n",
        "  # if n % 2 == 0: #print(n, end=' ')\n",
        "    #print(n, end=' ')\n",
        "  print(n, end=' ') # tempo do processor métode do tempo! \n",
        "print('Acabou')"
      ],
      "metadata": {
        "colab": {
          "base_uri": "https://localhost:8080/"
        },
        "id": "f6A1fNwas-MV",
        "outputId": "b0f3063c-6453-4fa9-abb8-f29e3953d0a7"
      },
      "execution_count": 5,
      "outputs": [
        {
          "output_type": "stream",
          "name": "stdout",
          "text": [
            "1 3 5 7 9 11 13 15 17 19 21 23 25 27 29 31 33 35 37 39 41 43 45 47 49 Acabou\n"
          ]
        }
      ]
    },
    {
      "cell_type": "markdown",
      "source": [
        "# Desafio 048\n",
        "\n",
        "Faça um programa que calcule a **soma** entre todos os **número ímpares** que são **múltiplos de três** e que se encontram no intervalo de **1** até **500**\n"
      ],
      "metadata": {
        "id": "X0budvQG0RqA"
      }
    },
    {
      "cell_type": "code",
      "source": [
        "sum = 0\n",
        "for c in range(1, 500):\n",
        "  if c %3 == 0 and c %2 ==1:\n",
        "    sum += c\n",
        "    print(c)\n",
        "print(sum)\n",
        "# print('termo médio vezes 2, ou os dois do meio se guardar num vetor, -1 ')\n",
        "\n"
      ],
      "metadata": {
        "id": "h6PRppee0qp_",
        "outputId": "00bfd633-9981-4b4e-e373-51d8dffb552b",
        "colab": {
          "base_uri": "https://localhost:8080/"
        }
      },
      "execution_count": null,
      "outputs": [
        {
          "output_type": "stream",
          "name": "stdout",
          "text": [
            "3\n",
            "9\n",
            "15\n",
            "21\n",
            "27\n",
            "33\n",
            "39\n",
            "45\n",
            "51\n",
            "57\n",
            "63\n",
            "69\n",
            "75\n",
            "81\n",
            "87\n",
            "93\n",
            "99\n",
            "105\n",
            "111\n",
            "117\n",
            "123\n",
            "129\n",
            "135\n",
            "141\n",
            "147\n",
            "153\n",
            "159\n",
            "165\n",
            "171\n",
            "177\n",
            "183\n",
            "189\n",
            "195\n",
            "201\n",
            "207\n",
            "213\n",
            "219\n",
            "225\n",
            "231\n",
            "237\n",
            "243\n",
            "249\n",
            "255\n",
            "261\n",
            "267\n",
            "273\n",
            "279\n",
            "285\n",
            "291\n",
            "297\n",
            "303\n",
            "309\n",
            "315\n",
            "321\n",
            "327\n",
            "333\n",
            "339\n",
            "345\n",
            "351\n",
            "357\n",
            "363\n",
            "369\n",
            "375\n",
            "381\n",
            "387\n",
            "393\n",
            "399\n",
            "405\n",
            "411\n",
            "417\n",
            "423\n",
            "429\n",
            "435\n",
            "441\n",
            "447\n",
            "453\n",
            "459\n",
            "465\n",
            "471\n",
            "477\n",
            "483\n",
            "489\n",
            "495\n",
            "20667\n"
          ]
        }
      ]
    },
    {
      "cell_type": "code",
      "source": [
        "# Solution by Gustavo Guanabará\n",
        "\n",
        "soma = cont = 0\n",
        "for c in range(1, 501, 2): # números ímpares!\n",
        "  if c % 3 == 0:\n",
        "    cont = cont + 1\n",
        "    soma = soma + c\n",
        "   # print(c, end=' ')\n",
        "print('A soma de todos os {} valores solicitados é {}'.format(cont, soma))"
      ],
      "metadata": {
        "colab": {
          "base_uri": "https://localhost:8080/"
        },
        "id": "Nn4NMRowbQCX",
        "outputId": "4a30df95-22a8-47d3-af4c-5c7304b6d4fd"
      },
      "execution_count": 12,
      "outputs": [
        {
          "output_type": "stream",
          "name": "stdout",
          "text": [
            "A soma de todos os 83 valores solicitados é 20667\n"
          ]
        }
      ]
    },
    {
      "cell_type": "markdown",
      "source": [
        "# Desafio 049\n",
        "\n",
        "Refaça o **DESAFIO 009**, mostrando a **tabuada** de um número que o usuário escolher, só que agora utilizando um **laço for**.\n"
      ],
      "metadata": {
        "id": "PiCvNCie1L5V"
      }
    },
    {
      "cell_type": "code",
      "source": [
        "tabuada = int(input('Digite o número da tabuada que deseja: '))\n",
        "print('\\n Tabuada do {}'.format(tabuada))\n",
        "\n",
        "print('\\n')\n",
        "print('-' * 39)\n",
        "\n",
        "for c in range(0, 11):\n",
        "  print('{} * {} = {}'.format(tabuada, c, tabuada*c))\n"
      ],
      "metadata": {
        "id": "1OgehU0S1lRd",
        "outputId": "c497a6f5-d861-4dcd-b767-dd19f9949a66",
        "colab": {
          "base_uri": "https://localhost:8080/"
        }
      },
      "execution_count": null,
      "outputs": [
        {
          "output_type": "stream",
          "name": "stdout",
          "text": [
            "Digite o número da tabuada que deseja: 5\n",
            "\n",
            " Tabuada do 5\n",
            "\n",
            "\n",
            "---------------------------------------\n",
            "5 * 0 = 0\n",
            "5 * 1 = 5\n",
            "5 * 2 = 10\n",
            "5 * 3 = 15\n",
            "5 * 4 = 20\n",
            "5 * 5 = 25\n",
            "5 * 6 = 30\n",
            "5 * 7 = 35\n",
            "5 * 8 = 40\n",
            "5 * 9 = 45\n",
            "5 * 10 = 50\n"
          ]
        }
      ]
    },
    {
      "cell_type": "code",
      "source": [
        "# Answer by Gustavo Guanabará\n",
        "\n",
        "num = int(input('Digite um número para ver sua tabuada: '))\n",
        "for c in range(1,11):\n",
        "  print('{} * {:2} = {}'.format(num, c, num*c))"
      ],
      "metadata": {
        "colab": {
          "base_uri": "https://localhost:8080/"
        },
        "id": "rxhmI2uDhz12",
        "outputId": "3ab1d061-89a0-4464-cc90-62e3e5453d34"
      },
      "execution_count": 14,
      "outputs": [
        {
          "output_type": "stream",
          "name": "stdout",
          "text": [
            "Digite um número para ver sua tabuada: 7\n",
            "7 *  1 = 7\n",
            "7 *  2 = 14\n",
            "7 *  3 = 21\n",
            "7 *  4 = 28\n",
            "7 *  5 = 35\n",
            "7 *  6 = 42\n",
            "7 *  7 = 49\n",
            "7 *  8 = 56\n",
            "7 *  9 = 63\n",
            "7 * 10 = 70\n"
          ]
        }
      ]
    },
    {
      "cell_type": "markdown",
      "source": [
        "# Desafio 050\n",
        "\n",
        "Desenvolva um programa que leia **seis números inteiros** e mostre a soma apenas daqueles que forem **pares**. Se o valor digitado for **ímpar**, desconsidere-o."
      ],
      "metadata": {
        "id": "bzoy1VN53ni_"
      }
    },
    {
      "cell_type": "code",
      "source": [
        "sum = 0\n",
        "num={}\n",
        "for c in range(1, 7):\n",
        "  num[c] = int(input('Digit the number that you pretend: '))\n",
        "  if num[c]%2 == 0:\n",
        "    sum += num[c]\n",
        "print(sum)\n"
      ],
      "metadata": {
        "id": "HDs1bqgq4Awu",
        "outputId": "1effeb3f-6efe-4564-8757-a735fb872575",
        "colab": {
          "base_uri": "https://localhost:8080/"
        }
      },
      "execution_count": null,
      "outputs": [
        {
          "output_type": "stream",
          "name": "stdout",
          "text": [
            "Digit the number that you pretend: 22\n",
            "Digit the number that you pretend: 1\n",
            "Digit the number that you pretend: 3\n",
            "Digit the number that you pretend: 6\n",
            "Digit the number that you pretend: 8\n",
            "Digit the number that you pretend: 10\n",
            "46\n"
          ]
        }
      ]
    },
    {
      "cell_type": "code",
      "source": [
        "# Answered by Gustavo Guanabará\n",
        "\n",
        "soma = cont = 0\n",
        "\n",
        "for c in range(1,7):\n",
        "  num = int(input('Digite o {} valor: '.format(c)))\n",
        "  if num % 2 == 0:\n",
        "    soma = soma + num\n",
        "    cont += 1\n",
        "print('Você informou {} números e a soma foi {}'.format(cont, soma))"
      ],
      "metadata": {
        "colab": {
          "base_uri": "https://localhost:8080/"
        },
        "id": "hwup7qyMi-Nz",
        "outputId": "cdf6cd26-3350-4467-a4c1-25e6e5dd16ef"
      },
      "execution_count": 19,
      "outputs": [
        {
          "output_type": "stream",
          "name": "stdout",
          "text": [
            "Digite o 1 valor: 6\n",
            "Digite o 2 valor: 9\n",
            "Digite o 3 valor: 11\n",
            "Digite o 4 valor: 12\n",
            "Digite o 5 valor: 13\n",
            "Digite o 6 valor: 8\n",
            "Você informou 3 números e a soma foi 26\n"
          ]
        }
      ]
    },
    {
      "cell_type": "markdown",
      "source": [
        "# Desafio 051\n",
        "\n",
        "Desenvolve um programa que leia o **primeiro termo** e a **razão** de uma **PA**. No final, mostre os 10 primeiros termos dessa progressão."
      ],
      "metadata": {
        "id": "11B5-zl19W-K"
      }
    },
    {
      "cell_type": "code",
      "source": [
        "# PA é progressão aritmética, então vem da soma. razão de 4 e primeiro termo seja 2, P1 será 6, P2 -> 10 etc\n",
        "\n",
        "# base cases\n",
        "prog = {}\n",
        "prog[0] = int(input(\"Digit firST term: \"))\n",
        "ratio = int(input(\"Please, digit the ratio of formula: \"))\n",
        "\n",
        "print('0º -> {}'.format(prog[0]))\n",
        "for c in range(1,11):\n",
        "  prog[c] = prog[c-1] + ratio\n",
        "  print('{}º -> {}'.format(c, prog[c]))"
      ],
      "metadata": {
        "colab": {
          "base_uri": "https://localhost:8080/"
        },
        "id": "xV33mIR9933d",
        "outputId": "cdb85d1d-52df-4b91-ecaa-553088907c93"
      },
      "execution_count": 38,
      "outputs": [
        {
          "output_type": "stream",
          "name": "stdout",
          "text": [
            "Digit firST term: 7\n",
            "Please, digit the ratio of formula: 8\n",
            "0º -> 7\n",
            "1º -> 15\n",
            "2º -> 23\n",
            "3º -> 31\n",
            "4º -> 39\n",
            "5º -> 47\n",
            "6º -> 55\n",
            "7º -> 63\n",
            "8º -> 71\n",
            "9º -> 79\n",
            "10º -> 87\n"
          ]
        }
      ]
    },
    {
      "cell_type": "code",
      "source": [
        "# Solução Híbrida, feita à posteriori\n",
        "\n",
        "primeiro = int(input('Primeiro termo: '))\n",
        "razao = int(input('Razão: '))\n",
        "#décimo = primeiro + (10-1)* razao\n",
        "enésimo = int(input('How until term you want?: '))\n",
        "for c in range(primeiro, primeiro + enésimo*razao, razao): # se o step for a razão fica muito acessível ...\n",
        "  print('{} '.format(c), end=' ➙ ')\n",
        "print('ACABOU')"
      ],
      "metadata": {
        "outputId": "945a4674-a19e-41cf-df94-fd290d713d70",
        "colab": {
          "base_uri": "https://localhost:8080/"
        },
        "id": "XHUzxfQHoH7r"
      },
      "execution_count": 39,
      "outputs": [
        {
          "output_type": "stream",
          "name": "stdout",
          "text": [
            "Primeiro termo: 5\n",
            "Razão: 6\n",
            "How until term you want?: 3\n",
            "5  ➙ 11  ➙ 17  ➙ ACABOU\n"
          ]
        }
      ]
    },
    {
      "cell_type": "code",
      "source": [
        "# Solution by Gustavo Guanabara\n",
        "\n",
        "# tiramos o elefante branco da sala\n",
        "\n",
        "primeiro = int(input('Primeiro termo: '))\n",
        "razao = int(input('Razão: '))\n",
        "décimo = primeiro + (10-1)* razao\n",
        "for c in range(primeiro, décimo + razao, razao): # se o step for a razão fica muito acessível ...\n",
        "  print('{} '.format(c), end=' ➙ ')\n",
        "print('ACABOU')"
      ],
      "metadata": {
        "colab": {
          "base_uri": "https://localhost:8080/"
        },
        "id": "n0Gpk_vFmwyT",
        "outputId": "5d247dea-e760-43e3-8a45-95dca467477e"
      },
      "execution_count": 40,
      "outputs": [
        {
          "output_type": "stream",
          "name": "stdout",
          "text": [
            "Primeiro termo: 25\n",
            "Razão: 5\n",
            "25  ➙ 30  ➙ 35  ➙ 40  ➙ 45  ➙ 50  ➙ 55  ➙ 60  ➙ 65  ➙ 70  ➙ ACABOU\n"
          ]
        }
      ]
    },
    {
      "cell_type": "markdown",
      "source": [
        "# Desafio 052\n",
        "\n",
        " Faça um programa que leia um **número inteiro** e diga se ele é ou não um **número primo**.\n",
        " \n"
      ],
      "metadata": {
        "id": "O9uVpmxwC6-4"
      }
    },
    {
      "cell_type": "code",
      "source": [
        "import math\n",
        "from math import sqrt\n",
        "num = int(input('Digit a number: '))\n",
        "primo = True \n",
        "if num == 0 or num == 1:\n",
        "  primo = False\n",
        "for c in range(2, int(math.sqrt(num))):\n",
        "  primo = False\n",
        "  break\n",
        "print('É primo: {}'.format(primo))\n"
      ],
      "metadata": {
        "colab": {
          "base_uri": "https://localhost:8080/"
        },
        "id": "Tujj-_m3Dazo",
        "outputId": "33099384-620a-4015-930a-109a184455b8"
      },
      "execution_count": 26,
      "outputs": [
        {
          "output_type": "stream",
          "name": "stdout",
          "text": [
            "Digit a number: 1\n",
            "É primo: False\n"
          ]
        }
      ]
    },
    {
      "cell_type": "code",
      "source": [
        "# Answered by Gustavo Guanabará\n",
        "\n",
        "num = int(input('Digite um número: '))\n",
        "tot = 0\n",
        "for c in range(1, num +1):\n",
        "  if num % c == 0:\n",
        "    print('\\033[33m', end='')\n",
        "    tot += 1\n",
        "  else:\n",
        "    print('\\033[31m', end='')\n",
        "  print('{} '.format(c), end='')\n",
        "print('\\n\\033[mO número {} foi divisível {} vezes'.format(num, tot))\n",
        "if tot == 2:\n",
        "  print('E por isso ele É PRIMO!')\n",
        "else:\n",
        "  print('É por isso ele NÃO É PRIMO!')\n",
        " # print('{} '.format(c), end='')"
      ],
      "metadata": {
        "colab": {
          "base_uri": "https://localhost:8080/"
        },
        "id": "A2aNz2trwFXd",
        "outputId": "2670c282-4378-494a-ba4b-b49f5d73a256"
      },
      "execution_count": 48,
      "outputs": [
        {
          "output_type": "stream",
          "name": "stdout",
          "text": [
            "Digite um número: 67\n",
            "\u001b[33m1 \u001b[31m2 \u001b[31m3 \u001b[31m4 \u001b[31m5 \u001b[31m6 \u001b[31m7 \u001b[31m8 \u001b[31m9 \u001b[31m10 \u001b[31m11 \u001b[31m12 \u001b[31m13 \u001b[31m14 \u001b[31m15 \u001b[31m16 \u001b[31m17 \u001b[31m18 \u001b[31m19 \u001b[31m20 \u001b[31m21 \u001b[31m22 \u001b[31m23 \u001b[31m24 \u001b[31m25 \u001b[31m26 \u001b[31m27 \u001b[31m28 \u001b[31m29 \u001b[31m30 \u001b[31m31 \u001b[31m32 \u001b[31m33 \u001b[31m34 \u001b[31m35 \u001b[31m36 \u001b[31m37 \u001b[31m38 \u001b[31m39 \u001b[31m40 \u001b[31m41 \u001b[31m42 \u001b[31m43 \u001b[31m44 \u001b[31m45 \u001b[31m46 \u001b[31m47 \u001b[31m48 \u001b[31m49 \u001b[31m50 \u001b[31m51 \u001b[31m52 \u001b[31m53 \u001b[31m54 \u001b[31m55 \u001b[31m56 \u001b[31m57 \u001b[31m58 \u001b[31m59 \u001b[31m60 \u001b[31m61 \u001b[31m62 \u001b[31m63 \u001b[31m64 \u001b[31m65 \u001b[31m66 \u001b[33m67 \n",
            "\u001b[mO número 67 foi divisível 2 vezes\n",
            "E por isso ele É PRIMO!\n"
          ]
        }
      ]
    },
    {
      "cell_type": "markdown",
      "source": [
        "# Desafio 053\n",
        "\n",
        "Crie um programa que leia uma **frase** qualquer e diga se ela é um **palídromo**,\n",
        "desconsiderando os espaços.\n",
        "\n",
        "Ex:\n",
        "\n",
        "APOS A SOPA\n",
        "\n",
        "A SACADA DA CASA\n",
        "\n",
        "A TORRE DA DERROTA\n",
        "\n",
        " O LOBO AMA O BOLO\n",
        "\n",
        "ANOTARAM A DATA DA MARATONA"
      ],
      "metadata": {
        "id": "1ZKPbgaAIyvI"
      }
    },
    {
      "cell_type": "code",
      "source": [
        "import sys\n",
        "\n",
        "phrase = str(input('Digit the phrase: '))\n",
        "print(len(phrase))\n",
        "phrase = phrase.strip()\n",
        "phrase = phrase.replace(\" \", \"\")\n",
        "mid = int(len(phrase)/2)\n",
        "print(phrase)\n",
        "\n",
        "for c in range(0, mid):\n",
        "  if phrase[c] != phrase[len(phrase)-c-1]:\n",
        "    #print('Not palindrome')\n",
        "    sys.exit('Not palindrome')\n",
        "print('It\\'s PALINDROME')"
      ],
      "metadata": {
        "colab": {
          "base_uri": "https://localhost:8080/"
        },
        "id": "8tWH-Mn9Udjo",
        "outputId": "ac78da1b-3e4c-4c1d-d3b4-945fc6d0e4ec"
      },
      "execution_count": 9,
      "outputs": [
        {
          "output_type": "stream",
          "name": "stdout",
          "text": [
            "Digit the phrase: O LOBO AMA O BOLO\n",
            "17\n",
            "OLOBOAMAOBOLO\n",
            "It's PALINDROME\n"
          ]
        }
      ]
    },
    {
      "cell_type": "code",
      "source": [
        "# Answered by Gustavo Guanabara\n",
        "\n",
        "# Tradicional version\n",
        "\n",
        "frase = str(input('Digite uma frase: ')).strip().upper()\n",
        "palavras = frase.split()\n",
        "junto = ''.join(palavras) #'*'.join(palavras)\n",
        "#print(junto)#palavras)\n",
        "inverso = ''\n",
        "inverso = junto[::-1] # fatiamento ou macete do fatiamento do python\n",
        "''' for letra in range(len(junto)-1, -1, -1): # vai para o último index como começa em zero, temos de tirar 1 ..., depois vai até ao início que é 0 mas como é exclusivo .. temos de ir 1a além dessa: daí o -1,  como vai no sentido inverso do habitual then this!\n",
        "   #print(junto[letra])\n",
        "   inverso += junto[letra] '''\n",
        "print('O inverso de {} é {}'.format(junto, inverso))\n",
        "if inverso == junto:\n",
        "  print('Temos um palíndromo!')\n",
        "else:\n",
        "  print('A frase digitada não é um palíndromo!')\n",
        "# print('Você digitou a frase {}'.format(#junto))"
      ],
      "metadata": {
        "colab": {
          "base_uri": "https://localhost:8080/"
        },
        "id": "YF7qEFiQzaJ4",
        "outputId": "39d3ad08-01a8-4b28-b778-df949567e74f"
      },
      "execution_count": 2,
      "outputs": [
        {
          "output_type": "stream",
          "name": "stdout",
          "text": [
            "Digite uma frase: Hello Mocho!\n",
            "O inverso de HELLOMOCHO! é !OHCOMOLLEH\n",
            "A frase digitada não é um palíndromo!\n"
          ]
        }
      ]
    },
    {
      "cell_type": "code",
      "source": [
        "type(int(len(phrase)/2))"
      ],
      "metadata": {
        "colab": {
          "base_uri": "https://localhost:8080/"
        },
        "id": "AhyFROPsareV",
        "outputId": "526f845c-1417-45c9-ac65-674272efb9b6"
      },
      "execution_count": 25,
      "outputs": [
        {
          "output_type": "execute_result",
          "data": {
            "text/plain": [
              "int"
            ]
          },
          "metadata": {},
          "execution_count": 25
        }
      ]
    },
    {
      "cell_type": "markdown",
      "source": [
        "# Desafio 054\n",
        "\n",
        "Crie um programa que leia o **ano de nascimento** de **sete pessoas**. No final, mostre quantas pessoas ainda não atingiram a maioridade e quantas já são maiores."
      ],
      "metadata": {
        "id": "HQckphDjf_9o"
      }
    },
    {
      "cell_type": "code",
      "source": [
        "def clean_date_of_birth(self):\n",
        "    date = self.cleaned_data['date_of_birth']\n",
        "    if date > datetime.date.today():  # 🖘 raise error if greater than\n",
        "        raise forms.ValidationError(\"The date cannot be in the future!\")\n",
        "    return date"
      ],
      "metadata": {
        "id": "_THGrbBIlDWs"
      },
      "execution_count": 25,
      "outputs": []
    },
    {
      "cell_type": "code",
      "source": [
        "from datetime import date\n",
        "adults = 0\n",
        "tries = childs = 0\n",
        "ano = {}\n",
        "actualYear = date.today().year\n",
        "print(actualYear)\n",
        "for c in range(0,7):\n",
        "  ano[c] = int(input('Digit the bornYear: '))\n",
        "  while ano[c] > actualYear:\n",
        "    ano[c] = int(input('Digit the bornYear: '))\n",
        "    tries += 1\n",
        "  # while (date.today() < ano[c]):\n",
        "  #   ano[C] = int(input('Digit the bornYear: '))\n",
        "  print(ano[c])\n",
        "  if actualYear - ano[c] >= 21:\n",
        "    adults += 1\n",
        "  else:#if actualYear - ano[c]< 0:  # garantir que não tem datas futuras... \n",
        "    childs += 1\n",
        "print('Number of Babys: {} \\n Number of Adults: {}'.format(childs, adults))\n"
      ],
      "metadata": {
        "colab": {
          "base_uri": "https://localhost:8080/"
        },
        "id": "XDclOX2ngZ4d",
        "outputId": "434fc11d-81cf-47a3-e36b-b2f70ea20890"
      },
      "execution_count": 3,
      "outputs": [
        {
          "output_type": "stream",
          "name": "stdout",
          "text": [
            "2022\n",
            "Digit the bornYear: 2024\n",
            "Digit the bornYear: 2022\n",
            "2022\n",
            "Digit the bornYear: 2021\n",
            "2021\n",
            "Digit the bornYear: 2023\n",
            "Digit the bornYear: 2021\n",
            "2021\n",
            "Digit the bornYear: 2000\n",
            "2000\n",
            "Digit the bornYear: 2222\n",
            "Digit the bornYear: 221\n",
            "221\n",
            "Digit the bornYear: 2012\n",
            "2012\n",
            "Digit the bornYear: 2013\n",
            "2013\n",
            "Number of Babys: 5 \n",
            " Number of Adults: 2\n"
          ]
        }
      ]
    },
    {
      "cell_type": "code",
      "source": [
        "#install python 3.9\n",
        "!sudo apt-get update -y\n",
        "!sudo apt-get install python3.9\n",
        "\n",
        "#changes alternatives\n",
        "#!python --version\n"
      ],
      "metadata": {
        "colab": {
          "base_uri": "https://localhost:8080/"
        },
        "id": "VC6EVUE62Jd1",
        "outputId": "ef313fa4-6166-40da-a1e7-fa95748311b2"
      },
      "execution_count": 22,
      "outputs": [
        {
          "output_type": "stream",
          "name": "stdout",
          "text": [
            "\r0% [Working]\r            \rGet:1 https://developer.download.nvidia.com/compute/cuda/repos/ubuntu1804/x86_64  InRelease [1,581 B]\n",
            "Get:2 https://cloud.r-project.org/bin/linux/ubuntu bionic-cran40/ InRelease [3,626 B]\n",
            "Get:3 http://ppa.launchpad.net/c2d4u.team/c2d4u4.0+/ubuntu bionic InRelease [15.9 kB]\n",
            "Get:4 http://security.ubuntu.com/ubuntu bionic-security InRelease [88.7 kB]\n",
            "Ign:5 https://developer.download.nvidia.com/compute/machine-learning/repos/ubuntu1804/x86_64  InRelease\n",
            "Hit:6 https://developer.download.nvidia.com/compute/machine-learning/repos/ubuntu1804/x86_64  Release\n",
            "Hit:7 http://archive.ubuntu.com/ubuntu bionic InRelease\n",
            "Get:8 https://developer.download.nvidia.com/compute/cuda/repos/ubuntu1804/x86_64  Packages [817 kB]\n",
            "Get:9 http://archive.ubuntu.com/ubuntu bionic-updates InRelease [88.7 kB]\n",
            "Get:10 https://cloud.r-project.org/bin/linux/ubuntu bionic-cran40/ Packages [85.6 kB]\n",
            "Hit:11 http://ppa.launchpad.net/cran/libgit2/ubuntu bionic InRelease\n",
            "Hit:13 http://ppa.launchpad.net/deadsnakes/ppa/ubuntu bionic InRelease\n",
            "Get:14 http://archive.ubuntu.com/ubuntu bionic-backports InRelease [74.6 kB]\n",
            "Hit:15 http://ppa.launchpad.net/graphics-drivers/ppa/ubuntu bionic InRelease\n",
            "Get:16 http://security.ubuntu.com/ubuntu bionic-security/restricted amd64 Packages [1,063 kB]\n",
            "Get:17 http://ppa.launchpad.net/c2d4u.team/c2d4u4.0+/ubuntu bionic/main Sources [2,075 kB]\n",
            "Get:18 http://archive.ubuntu.com/ubuntu bionic-updates/universe amd64 Packages [2,304 kB]\n",
            "Get:19 http://security.ubuntu.com/ubuntu bionic-security/main amd64 Packages [2,901 kB]\n",
            "Get:20 http://security.ubuntu.com/ubuntu bionic-security/universe amd64 Packages [1,527 kB]\n",
            "Get:21 http://archive.ubuntu.com/ubuntu bionic-updates/main amd64 Packages [3,336 kB]\n",
            "Get:22 http://archive.ubuntu.com/ubuntu bionic-updates/restricted amd64 Packages [1,107 kB]\n",
            "Get:23 http://ppa.launchpad.net/c2d4u.team/c2d4u4.0+/ubuntu bionic/main amd64 Packages [1,063 kB]\n",
            "Fetched 16.6 MB in 3s (5,876 kB/s)\n",
            "Reading package lists... Done\n",
            "Reading package lists... Done\n",
            "Building dependency tree       \n",
            "Reading state information... Done\n",
            "The following package was automatically installed and is no longer required:\n",
            "  libnvidia-common-460\n",
            "Use 'sudo apt autoremove' to remove it.\n",
            "The following additional packages will be installed:\n",
            "  libpython3.9-minimal libpython3.9-stdlib python3.9-minimal\n",
            "Suggested packages:\n",
            "  python3.9-venv binfmt-support\n",
            "The following NEW packages will be installed:\n",
            "  libpython3.9-minimal libpython3.9-stdlib python3.9 python3.9-minimal\n",
            "0 upgraded, 4 newly installed, 0 to remove and 71 not upgraded.\n",
            "Need to get 4,914 kB of archives.\n",
            "After this operation, 19.1 MB of additional disk space will be used.\n",
            "Get:1 http://ppa.launchpad.net/deadsnakes/ppa/ubuntu bionic/main amd64 libpython3.9-minimal amd64 3.9.13-1+bionic1 [805 kB]\n",
            "Get:2 http://ppa.launchpad.net/deadsnakes/ppa/ubuntu bionic/main amd64 python3.9-minimal amd64 3.9.13-1+bionic1 [1,937 kB]\n",
            "Get:3 http://ppa.launchpad.net/deadsnakes/ppa/ubuntu bionic/main amd64 libpython3.9-stdlib amd64 3.9.13-1+bionic1 [1,679 kB]\n",
            "Get:4 http://ppa.launchpad.net/deadsnakes/ppa/ubuntu bionic/main amd64 python3.9 amd64 3.9.13-1+bionic1 [492 kB]\n",
            "Fetched 4,914 kB in 3s (1,679 kB/s)\n",
            "debconf: unable to initialize frontend: Dialog\n",
            "debconf: (No usable dialog-like program is installed, so the dialog based frontend cannot be used. at /usr/share/perl5/Debconf/FrontEnd/Dialog.pm line 76, <> line 4.)\n",
            "debconf: falling back to frontend: Readline\n",
            "debconf: unable to initialize frontend: Readline\n",
            "debconf: (This frontend requires a controlling tty.)\n",
            "debconf: falling back to frontend: Teletype\n",
            "dpkg-preconfigure: unable to re-open stdin: \n",
            "Selecting previously unselected package libpython3.9-minimal:amd64.\n",
            "(Reading database ... 155653 files and directories currently installed.)\n",
            "Preparing to unpack .../libpython3.9-minimal_3.9.13-1+bionic1_amd64.deb ...\n",
            "Unpacking libpython3.9-minimal:amd64 (3.9.13-1+bionic1) ...\n",
            "Selecting previously unselected package python3.9-minimal.\n",
            "Preparing to unpack .../python3.9-minimal_3.9.13-1+bionic1_amd64.deb ...\n",
            "Unpacking python3.9-minimal (3.9.13-1+bionic1) ...\n",
            "Selecting previously unselected package libpython3.9-stdlib:amd64.\n",
            "Preparing to unpack .../libpython3.9-stdlib_3.9.13-1+bionic1_amd64.deb ...\n",
            "Unpacking libpython3.9-stdlib:amd64 (3.9.13-1+bionic1) ...\n",
            "Selecting previously unselected package python3.9.\n",
            "Preparing to unpack .../python3.9_3.9.13-1+bionic1_amd64.deb ...\n",
            "Unpacking python3.9 (3.9.13-1+bionic1) ...\n",
            "Setting up libpython3.9-minimal:amd64 (3.9.13-1+bionic1) ...\n",
            "Setting up libpython3.9-stdlib:amd64 (3.9.13-1+bionic1) ...\n",
            "Setting up python3.9-minimal (3.9.13-1+bionic1) ...\n",
            "Setting up python3.9 (3.9.13-1+bionic1) ...\n",
            "Processing triggers for mime-support (3.60ubuntu1) ...\n",
            "Processing triggers for man-db (2.8.3-2ubuntu0.1) ...\n"
          ]
        }
      ]
    },
    {
      "cell_type": "code",
      "source": [
        "# changes alternatives\n",
        "!sudo update-alternatives --install /usr/bin/python3 python3 /usr/bin/python3.7 1\n",
        "!sudo update-alternatives --install /usr/bin/python3 python3 /usr/bin/python3.9 2"
      ],
      "metadata": {
        "colab": {
          "base_uri": "https://localhost:8080/"
        },
        "id": "xeFCst4g94h4",
        "outputId": "837b8592-9609-4deb-da2e-78f81c2894d2"
      },
      "execution_count": 25,
      "outputs": [
        {
          "output_type": "stream",
          "name": "stdout",
          "text": [
            "update-alternatives: using /usr/bin/python3.9 to provide /usr/bin/python3 (python3) in auto mode\n"
          ]
        }
      ]
    },
    {
      "cell_type": "code",
      "source": [
        "from datetime import date\n",
        "adults = 0\n",
        "childs = 0\n",
        "ano = {}\n",
        "actualYear = date.today().year\n",
        "print(actualYear)\n",
        "for c in range(0,7):\n",
        "  while actualYear < (bornYear := int(input('Digit the bornYear: '))): \n",
        "  # while (date.today() < ano[c]):\n",
        "  #   ano[C] = int(input('Digit the bornYear: '))\n",
        "  print(ano[c])\n",
        "  if actualYear - ano[c] >= 21:\n",
        "    adults += 1\n",
        "  else:#if actualYear - ano[c]< 0:  # garantir que não tem datas futuras... \n",
        "    childs += 1\n",
        "print('Number of Babys: {} \\n Number of Adults: {}'.format(childs, adults))"
      ],
      "metadata": {
        "colab": {
          "base_uri": "https://localhost:8080/",
          "height": 130
        },
        "id": "1w9hcLSYyuzG",
        "outputId": "d50472b9-8998-48de-8945-f14c82c47313"
      },
      "execution_count": 27,
      "outputs": [
        {
          "output_type": "error",
          "ename": "SyntaxError",
          "evalue": "ignored",
          "traceback": [
            "\u001b[0;36m  File \u001b[0;32m\"<ipython-input-27-358c7789298b>\"\u001b[0;36m, line \u001b[0;32m8\u001b[0m\n\u001b[0;31m    while actualYear < (bornYear := int(input('Digit the bornYear: '))):\u001b[0m\n\u001b[0m                                 ^\u001b[0m\n\u001b[0;31mSyntaxError\u001b[0m\u001b[0;31m:\u001b[0m invalid syntax\n"
          ]
        }
      ]
    },
    {
      "cell_type": "code",
      "source": [
        "!python --version"
      ],
      "metadata": {
        "colab": {
          "base_uri": "https://localhost:8080/"
        },
        "id": "7gNjFSY31E7p",
        "outputId": "93dc1219-8da8-461c-874b-efc6e43739f6"
      },
      "execution_count": 26,
      "outputs": [
        {
          "output_type": "stream",
          "name": "stdout",
          "text": [
            "Python 3.9.13\n"
          ]
        }
      ]
    },
    {
      "cell_type": "code",
      "source": [
        "# Answered by Gustavo Guanabará\n",
        "\n",
        "from datetime import date\n",
        "atual = date.today().year\n",
        "totmaior = 0\n",
        "totmenor = 0\n",
        "for pess in range(1,8):\n",
        "  nasc = int(input('Em que ano a {}ª pessoa nasceu? '.format(pess)))\n",
        "  idade = atual - nasc\n",
        "  if idade >= 21:\n",
        "    #print('Essa pessoa é maior')\n",
        "    totmaior += 1\n",
        "  else:\n",
        "    #print('Essa pessoa é menor')\n",
        "    totmenor += 1\n",
        "print('Ao todo tivemos {} pessoas maiores de idade'.format(totmaior))\n",
        "print('Ao todo tivemos {} pessoas menores de idade'.format(totmenor))"
      ],
      "metadata": {
        "colab": {
          "base_uri": "https://localhost:8080/"
        },
        "id": "JCtSl2IGlRJw",
        "outputId": "0d58236f-24b5-4afd-a73f-bbe48eb8209f"
      },
      "execution_count": 9,
      "outputs": [
        {
          "output_type": "stream",
          "name": "stdout",
          "text": [
            "Em que ano a 1ª pessoa nasceu? 3\n",
            "Em que ano a 2ª pessoa nasceu? 5\n",
            "Em que ano a 3ª pessoa nasceu? 6\n",
            "Em que ano a 4ª pessoa nasceu? 7\n",
            "Em que ano a 5ª pessoa nasceu? 6\n",
            "Em que ano a 6ª pessoa nasceu? 5674\n",
            "Em que ano a 7ª pessoa nasceu? 4365\n",
            "Ao todo tivemos 5 pessoas maiores de idade\n",
            "Ao todo tivemos 2 pessoas menores de idade\n"
          ]
        }
      ]
    },
    {
      "cell_type": "markdown",
      "source": [
        "# Desafio 055\n",
        "\n",
        "Faça um programa que leia o **peso** de **cinco pessoas**. No final, mostre qual foi o **maior** e o **menor** peso lidos."
      ],
      "metadata": {
        "id": "RXLddgMs0icK"
      }
    },
    {
      "cell_type": "code",
      "source": [
        "weight = {}\n",
        "min = 1000\n",
        "max = 0 \n",
        "for c in range(0, 5): \n",
        "  weight[c] = int(input('Digit the person weight: '))\n",
        "  if weight[c] < min:\n",
        "    min = weight[c]\n",
        "  if max < weight[c]: # nada a ver , mas se todos iguais não atualiza ...\n",
        "    max = weight[c]\n",
        "print('Os pesos máx. = {} e min. = {}'.format(max, min))"
      ],
      "metadata": {
        "colab": {
          "base_uri": "https://localhost:8080/"
        },
        "id": "ViDzGtMO0wmP",
        "outputId": "83fefa6e-24e1-46bb-89ea-462f33520958"
      },
      "execution_count": 29,
      "outputs": [
        {
          "output_type": "stream",
          "name": "stdout",
          "text": [
            "Digit the person weight: 120\n",
            "Digit the person weight: 56\n",
            "Digit the person weight: 78\n",
            "Digit the person weight: 75\n",
            "Digit the person weight: 90\n",
            "Os pesos máx. = 56 e min. = 120\n"
          ]
        }
      ]
    },
    {
      "cell_type": "code",
      "source": [
        "import numpy as np"
      ],
      "metadata": {
        "id": "75F41gLvSBHb"
      },
      "execution_count": 35,
      "outputs": []
    },
    {
      "cell_type": "code",
      "source": [
        "list1 = [67, 53, 88, 39, 102]\n",
        "# weight = {67, 53, 88, 39, 102}\n",
        "weight = np.array(list1)\n",
        "min = max = weight[0]\n",
        "for c in range(0, len(weight)):\n",
        "  if min > weight[c]:\n",
        "    min = weight[c]\n",
        "  elif weight[c] > max:\n",
        "    max = weight[c]\n",
        "print('The weights maximum is {} and the minimum is {}'.format(max, min)) \n"
      ],
      "metadata": {
        "colab": {
          "base_uri": "https://localhost:8080/"
        },
        "id": "Rrk4Op6F10wv",
        "outputId": "4191ca85-455b-47f0-e616-4a5f59da6889"
      },
      "execution_count": 43,
      "outputs": [
        {
          "output_type": "stream",
          "name": "stdout",
          "text": [
            "The weights maximum is 102 and minimum is 39\n"
          ]
        }
      ]
    },
    {
      "cell_type": "code",
      "source": [
        "weight[0]"
      ],
      "metadata": {
        "colab": {
          "base_uri": "https://localhost:8080/"
        },
        "id": "R5givMjVQyXX",
        "outputId": "d2de2561-5a00-49c9-807a-1c600de5804c"
      },
      "execution_count": 44,
      "outputs": [
        {
          "output_type": "execute_result",
          "data": {
            "text/plain": [
              "67"
            ]
          },
          "metadata": {},
          "execution_count": 44
        }
      ]
    },
    {
      "cell_type": "code",
      "source": [
        "# Solution by Gustavo Guanabara\n",
        "\n",
        "# Análise de dados, área de guarde importância no momentoi (totaliza, outra count .. ou diz o maior e menor [extremos] de uma lista)\n",
        "maior = 0\n",
        "menor = 0\n",
        "for p in range(1,6):\n",
        "  peso = float(input('Peso da {}ª pessoa: '.format(p)))\n",
        "  if p == 1:\n",
        "    maior = peso\n",
        "    menor = peso\n",
        "  else:\n",
        "    if peso > maior:\n",
        "      maior = peso\n",
        "    if peso < menor:\n",
        "      menor = peso\n",
        "print('O maior peso lido foi de {}Kg'.format(maior))\n",
        "print('O menor peso lido foi de {}Kg'.format(menor))"
      ],
      "metadata": {
        "colab": {
          "base_uri": "https://localhost:8080/"
        },
        "id": "SXP2ZSYTqMcG",
        "outputId": "89b833fa-e13d-4f62-b70a-47e8a5e58b1e"
      },
      "execution_count": 12,
      "outputs": [
        {
          "output_type": "stream",
          "name": "stdout",
          "text": [
            "Peso da 1ª pessoa: 45\n",
            "Peso da 2ª pessoa: 75\n",
            "Peso da 3ª pessoa: 98\n",
            "Peso da 4ª pessoa: 34\n",
            "Peso da 5ª pessoa: 86\n",
            "O maior peso lido foi de 98.0Kg\n",
            "O menor peso lido foi de 34.0Kg\n"
          ]
        }
      ]
    },
    {
      "cell_type": "code",
      "source": [
        "p"
      ],
      "metadata": {
        "colab": {
          "base_uri": "https://localhost:8080/"
        },
        "id": "MeWHe2DUsF_V",
        "outputId": "6869373b-2f15-4b58-e76f-0c07e6c7b0e4"
      },
      "execution_count": 11,
      "outputs": [
        {
          "output_type": "execute_result",
          "data": {
            "text/plain": [
              "5"
            ]
          },
          "metadata": {},
          "execution_count": 11
        }
      ]
    },
    {
      "cell_type": "markdown",
      "source": [
        "# Desafio 056\n",
        "\n",
        "Desenvolva um programa que leia o **nome**, **idade** e **sexo** de **4 pessoas**. No final do programa, mostre:\n",
        "\n",
        "\n",
        "\n",
        "*   A **média de idade** do grupo.\n",
        "*   Qual é o nome do homem **mais velho**.\n",
        "*   Quantas mulheres têm **menos de 20 anos**.\n",
        "\n"
      ],
      "metadata": {
        "id": "Ce1Mh8q2S75_"
      }
    },
    {
      "cell_type": "code",
      "source": [
        "names = {}\n",
        "ages = {}\n",
        "#sex = []\n",
        "sex = {}\n",
        "maXman = sum = count = max = 0\n",
        "maXmanI = -1 # saber o nome do homem mais velho..., implica saber o index do man\n",
        "S = 4\n",
        "for c in range(0, S):\n",
        "  names[c] = str(input(' Digit person name: '))\n",
        "  ages[c] = int(input('Digit person age: '))\n",
        "  sex[c] = str(input('Please, digit your sex: F or M?: '))\n",
        "  sum += ages[c]\n",
        "  if sex.upper().strip() == 'F' and ages[c]<20:\n",
        "  #if sex.strip() == 'F' and ages[c]<20:\n",
        "    count += 1\n",
        "  if sex.upper() == 'M':\n",
        "    if (max<ages[c]):\n",
        "      max = ages[c]\n",
        "      maXmanI = c\n",
        "mean = sum / S\n",
        "print('A média de idades é: {}, o homem mais velho é: {} e\\n existem {} mulheres com menos de 20 anos!'.format(mean,names[maXmanI], count))     \n",
        "\n"
      ],
      "metadata": {
        "colab": {
          "base_uri": "https://localhost:8080/",
          "height": 287
        },
        "id": "Rfr4dgQOS67H",
        "outputId": "22574df1-7f55-48cd-c7bb-200b662f29c8"
      },
      "execution_count": 17,
      "outputs": [
        {
          "name": "stdout",
          "output_type": "stream",
          "text": [
            " Digit person name: Gago\n",
            "Digit person age: 45\n",
            "Please, digit your sex: F or M?: M\n"
          ]
        },
        {
          "output_type": "error",
          "ename": "AttributeError",
          "evalue": "ignored",
          "traceback": [
            "\u001b[0;31m---------------------------------------------------------------------------\u001b[0m",
            "\u001b[0;31mAttributeError\u001b[0m                            Traceback (most recent call last)",
            "\u001b[0;32m<ipython-input-17-c05bfe07ddab>\u001b[0m in \u001b[0;36m<module>\u001b[0;34m()\u001b[0m\n\u001b[1;32m     11\u001b[0m   \u001b[0msex\u001b[0m\u001b[0;34m[\u001b[0m\u001b[0mc\u001b[0m\u001b[0;34m]\u001b[0m \u001b[0;34m=\u001b[0m \u001b[0mstr\u001b[0m\u001b[0;34m(\u001b[0m\u001b[0minput\u001b[0m\u001b[0;34m(\u001b[0m\u001b[0;34m'Please, digit your sex: F or M?: '\u001b[0m\u001b[0;34m)\u001b[0m\u001b[0;34m)\u001b[0m\u001b[0;34m\u001b[0m\u001b[0;34m\u001b[0m\u001b[0m\n\u001b[1;32m     12\u001b[0m   \u001b[0msum\u001b[0m \u001b[0;34m+=\u001b[0m \u001b[0mages\u001b[0m\u001b[0;34m[\u001b[0m\u001b[0mc\u001b[0m\u001b[0;34m]\u001b[0m\u001b[0;34m\u001b[0m\u001b[0;34m\u001b[0m\u001b[0m\n\u001b[0;32m---> 13\u001b[0;31m   \u001b[0;32mif\u001b[0m \u001b[0msex\u001b[0m\u001b[0;34m.\u001b[0m\u001b[0mupper\u001b[0m\u001b[0;34m(\u001b[0m\u001b[0;34m)\u001b[0m\u001b[0;34m.\u001b[0m\u001b[0mstrip\u001b[0m\u001b[0;34m(\u001b[0m\u001b[0;34m)\u001b[0m \u001b[0;34m==\u001b[0m \u001b[0;34m'F'\u001b[0m \u001b[0;32mand\u001b[0m \u001b[0mages\u001b[0m\u001b[0;34m[\u001b[0m\u001b[0mc\u001b[0m\u001b[0;34m]\u001b[0m\u001b[0;34m<\u001b[0m\u001b[0;36m20\u001b[0m\u001b[0;34m:\u001b[0m\u001b[0;34m\u001b[0m\u001b[0;34m\u001b[0m\u001b[0m\n\u001b[0m\u001b[1;32m     14\u001b[0m   \u001b[0;31m#if sex.strip() == 'F' and ages[c]<20:\u001b[0m\u001b[0;34m\u001b[0m\u001b[0;34m\u001b[0m\u001b[0;34m\u001b[0m\u001b[0m\n\u001b[1;32m     15\u001b[0m     \u001b[0mcount\u001b[0m \u001b[0;34m+=\u001b[0m \u001b[0;36m1\u001b[0m\u001b[0;34m\u001b[0m\u001b[0;34m\u001b[0m\u001b[0m\n",
            "\u001b[0;31mAttributeError\u001b[0m: 'dict' object has no attribute 'upper'"
          ]
        }
      ]
    },
    {
      "cell_type": "code",
      "source": [
        "type(sex)"
      ],
      "metadata": {
        "colab": {
          "base_uri": "https://localhost:8080/"
        },
        "id": "2V6CbE05jjKH",
        "outputId": "c62c7c59-0b93-4d75-d8f9-5ca038d6f47d"
      },
      "execution_count": 47,
      "outputs": [
        {
          "output_type": "execute_result",
          "data": {
            "text/plain": [
              "dict"
            ]
          },
          "metadata": {},
          "execution_count": 47
        }
      ]
    },
    {
      "cell_type": "code",
      "source": [
        "# Answer by Gustavo Guanabara\n",
        "somaidade = 0\n",
        "meidaidade = 0\n",
        "maioridadehomem = totmulher20 = 0\n",
        "nomevelho = ''\n",
        "for p in range(1, 5):\n",
        "  print('------ {}ª PESSOA ------'.format(p))\n",
        "  nome = str(input('Nome: ')).strip()\n",
        "  idade = int(input('Idade: '))\n",
        "  sexo = str(input('Sexo [M/F]: ')).strip()\n",
        "  somaidade += idade\n",
        "  if p == 1 and sexo in 'Mm':\n",
        "    maioridadehomem = idade\n",
        "    nomevelho = nome \n",
        "  if sexo in 'Mm' and idade > maioridadehomem:\n",
        "    maioridadehomem = idade\n",
        "    nomevelho = nome\n",
        "  if sexo in 'Ff' and idade < 20: #interessante, cadeia de string para definir.., evita a utilização de upper etc\n",
        "    totmulher20 += 1\n",
        "mediaidade = somaidade / 4\n",
        "print('A média de idade do grupo é de {}.'.format(mediaidade))\n",
        "print('O homem mais velho tem {} anos e se chama {}.'.format(maioridadehomem, nomevelho))\n",
        "print('Ao todo são {} mulheres com menos de 20 anos'.format(totmulher20))"
      ],
      "metadata": {
        "colab": {
          "base_uri": "https://localhost:8080/"
        },
        "id": "qGT0SAd2CA-z",
        "outputId": "54a56f06-0a94-409c-b195-c84aa7c0ce81"
      },
      "execution_count": 30,
      "outputs": [
        {
          "output_type": "stream",
          "name": "stdout",
          "text": [
            "------ 1ª PESSOA ------\n",
            "Nome: Ju\n",
            "Idade: 12\n",
            "Sexo [M/F]: F\n",
            "------ 2ª PESSOA ------\n",
            "Nome: Gasd\n",
            "Idade: 30\n",
            "Sexo [M/F]: M\n",
            "------ 3ª PESSOA ------\n",
            "Nome: ffg\n",
            "Idade: 19\n",
            "Sexo [M/F]: F\n",
            "------ 4ª PESSOA ------\n",
            "Nome: hugo\n",
            "Idade: 21\n",
            "Sexo [M/F]: F\n",
            "A média de idade do grupo é de 20.5.\n",
            "O homem mais velho tem 30 abnos e se chama Gasd.\n",
            "Ao todo são 2 mulheres com menos de 20 anos\n"
          ]
        }
      ]
    },
    {
      "cell_type": "code",
      "source": [
        "# For : estrutura de repetição com variável de controlo <- qdo tem limite\n",
        "# While : estrutura de repetição (não existe um padrão, está muito irregular!)\n",
        "# não existem mais rápido entre os dois"
      ],
      "metadata": {
        "id": "RyHR3uUAfI-U"
      },
      "execution_count": null,
      "outputs": []
    },
    {
      "cell_type": "code",
      "source": [
        "# Aula 14\n",
        "\n",
        "for c in range(1,10): # Quando não sei o limite não dá para usar o FOR\n",
        "  print(c)\n",
        "print('Fim')\n",
        "\n"
      ],
      "metadata": {
        "id": "mvJr9_OUhgjJ",
        "outputId": "3d785aa6-ccfe-4ee2-970b-a289086db454",
        "colab": {
          "base_uri": "https://localhost:8080/"
        }
      },
      "execution_count": 1,
      "outputs": [
        {
          "output_type": "stream",
          "name": "stdout",
          "text": [
            "1\n",
            "2\n",
            "3\n",
            "4\n",
            "5\n",
            "6\n",
            "7\n",
            "8\n",
            "9\n",
            "Fim\n"
          ]
        }
      ]
    },
    {
      "cell_type": "code",
      "source": [
        "c = 1\n",
        "while c < 10: \n",
        "  print(c)\n",
        "  c = c + 1\n",
        "print('Fim')"
      ],
      "metadata": {
        "id": "3zLGTECxhs3d",
        "outputId": "47a589b5-868f-4811-f049-afb852dca3ad",
        "colab": {
          "base_uri": "https://localhost:8080/"
        }
      },
      "execution_count": 2,
      "outputs": [
        {
          "output_type": "stream",
          "name": "stdout",
          "text": [
            "1\n",
            "2\n",
            "3\n",
            "4\n",
            "5\n",
            "6\n",
            "7\n",
            "8\n",
            "9\n",
            "Fim\n"
          ]
        }
      ]
    },
    {
      "cell_type": "markdown",
      "source": [
        ""
      ],
      "metadata": {
        "id": "e93LARMriCfU"
      }
    },
    {
      "cell_type": "code",
      "source": [
        "n = 1\n",
        "while n != 0:  # FLAG ou condição de parada\n",
        "  n = int(input('Digite um valor: '))\n",
        "print('Fim')"
      ],
      "metadata": {
        "id": "ZcGqy9g6iHqq",
        "outputId": "b5f0fc77-e9e4-4615-eb66-6bdf93c914e9",
        "colab": {
          "base_uri": "https://localhost:8080/"
        }
      },
      "execution_count": 3,
      "outputs": [
        {
          "output_type": "stream",
          "name": "stdout",
          "text": [
            "Digite um valor: 5\n",
            "Digite um valor: 8\n",
            "Digite um valor: 0\n",
            "Fim\n"
          ]
        }
      ]
    },
    {
      "cell_type": "code",
      "source": [
        "r = 'S'\n",
        "while r == 'S': # faz laços indetermininadamente\n",
        "  n = int(input('Digite um valor: '))\n",
        "  r = str(input('Quer continuar? [S/N] ')).upper()  \n",
        "print('Fim')"
      ],
      "metadata": {
        "id": "iURBEDxQibOF",
        "outputId": "0b91f6b1-0616-49d4-b8ad-06a841302f64",
        "colab": {
          "base_uri": "https://localhost:8080/"
        }
      },
      "execution_count": 4,
      "outputs": [
        {
          "output_type": "stream",
          "name": "stdout",
          "text": [
            "Digite um valor: 45\n",
            "Quer continuar? [S/N] S\n",
            "Digite um valor: 323\n",
            "Quer continuar? [S/N] 7\n",
            "Fim\n"
          ]
        }
      ]
    },
    {
      "cell_type": "code",
      "source": [
        "n = 1\n",
        "par = impar = 0\n",
        "while n != 0:\n",
        "  n = int(input('Digite um valor: '))\n",
        "  if n != 0: # gambiarra\n",
        "    if n % 2 == 0:\n",
        "      par += 1 \n",
        "    else:\n",
        "      impar += 1\n",
        "print('Voçê digitou {} números pares e {} números ímpares!'.format(par, impar))"
      ],
      "metadata": {
        "id": "OqIe9cNCjJQm"
      },
      "execution_count": null,
      "outputs": []
    },
    {
      "cell_type": "markdown",
      "source": [
        "# Desafio 57\n",
        "\n",
        "Faça um programa que leia o **sexo** de uma pessoa, mas só aceite os valores 'M' ou 'F'. \n",
        "Caso esteja errado, peça a digitação novamente até ter um valor correto."
      ],
      "metadata": {
        "id": "3qRQRh0whctz"
      }
    },
    {
      "cell_type": "code",
      "source": [
        "gender = str(input('Say your sex: '))  \n",
        "while gender not in 'Ff' and gender not in 'mM':\n",
        "  gender = str(input('Say your sex: '))  "
      ],
      "metadata": {
        "id": "V1391Oq9hcTb",
        "outputId": "7ba5ff3d-b1c7-4142-de8c-f91e0dcf81d1",
        "colab": {
          "base_uri": "https://localhost:8080/"
        }
      },
      "execution_count": 6,
      "outputs": [
        {
          "name": "stdout",
          "output_type": "stream",
          "text": [
            "Say your sex: g\n",
            "Say your sex: M\n"
          ]
        }
      ]
    },
    {
      "cell_type": "markdown",
      "source": [
        "**Desafio 58**\n",
        "\n",
        "Melhore o jogo do **Desafio 028** onde o computador vai \"pensar\" em um **número entre 0 e 10**. Só que agora o jogador vai tentar adivinhar até acertar, mostrando no final quantos palpites foram necessários para vencer."
      ],
      "metadata": {
        "id": "mqH6J29hmbVn"
      }
    },
    {
      "cell_type": "code",
      "source": [
        "import random\n",
        "count = 1\n",
        "num = random.randint(0, 11)\n",
        "unum = int(input('Digite um número entre 0 e 10: '))\n",
        "while num != unum :\n",
        "  unum = int(input('Digite um número entre 0 e 10: '))\n",
        "  count += 1\n",
        "print('The player guess the num in {} tries'.format(count))"
      ],
      "metadata": {
        "id": "t8q_ICLKmaq2",
        "outputId": "15949ed3-7a35-4b3a-81b2-019bcca3f179",
        "colab": {
          "base_uri": "https://localhost:8080/"
        }
      },
      "execution_count": 7,
      "outputs": [
        {
          "output_type": "stream",
          "name": "stdout",
          "text": [
            "Digite um número entre 0 e 10: 6\n",
            "Digite um número entre 0 e 10: 9\n",
            "Digite um número entre 0 e 10: 1\n",
            "Digite um número entre 0 e 10: 0\n",
            "Digite um número entre 0 e 10: 3\n",
            "Digite um número entre 0 e 10: 2\n",
            "The player guess the num in 6 tries\n"
          ]
        }
      ]
    },
    {
      "cell_type": "markdown",
      "source": [
        "# Desafio 059\n",
        "\n",
        "Crie um programa que leia **dois valores** e mostre um **menu** na tela:\n",
        "\n",
        "\n",
        "\n",
        "[1]    Somar\n",
        "\n",
        "[2]    Multiplicar\n",
        "\n",
        "[3]    Maior\n",
        "\n",
        "[4]    Novos números\n",
        "\n",
        "[5]    Sair do programa\n",
        "\n",
        "\n",
        "Seu programa deverá realizar a operação solicitada em cada caso.\n"
      ],
      "metadata": {
        "id": "NeRTs-BAsbaa"
      }
    },
    {
      "cell_type": "code",
      "source": [
        "def readNums():\n",
        "  a = int(input('Digit a number: '))\n",
        "  b = int(input('Digit other number: '))\n",
        "  return a, b"
      ],
      "metadata": {
        "id": "GutAfkPf8g8Q"
      },
      "execution_count": null,
      "outputs": []
    },
    {
      "cell_type": "code",
      "source": [
        "# def ciclo(option):\n",
        "#     if option == 1:\n",
        "#       print('Sum: {} + {} = {}'.format(num1, num2, num1+num2))\n",
        "#     elif option == 2:\n",
        "#       print('Multiplication: {} * {} = {}'.format(num1, num2, num1*num2))\n",
        "#     elif option == 3:\n",
        "#       print('Greater is {}'.format(max(num1, num2)))\n",
        "#     elif option == 4:\n",
        "#       num1, num2 = readNums()\n",
        "#     elif option == 5:\n",
        "#       print('The End!')\n",
        "#       break"
      ],
      "metadata": {
        "id": "xBbIvd2P9dhG",
        "outputId": "fecc7631-0c2b-4faf-8035-7f8ba078a7d7",
        "colab": {
          "base_uri": "https://localhost:8080/",
          "height": 130
        }
      },
      "execution_count": 18,
      "outputs": [
        {
          "output_type": "error",
          "ename": "SyntaxError",
          "evalue": "ignored",
          "traceback": [
            "\u001b[0;36m  File \u001b[0;32m\"<ipython-input-18-fd243572a9b7>\"\u001b[0;36m, line \u001b[0;32m12\u001b[0m\n\u001b[0;31m    break\u001b[0m\n\u001b[0m    ^\u001b[0m\n\u001b[0;31mSyntaxError\u001b[0m\u001b[0;31m:\u001b[0m 'break' outside loop\n"
          ]
        }
      ]
    },
    {
      "cell_type": "code",
      "source": [
        "option = 3.5\n",
        "while True:\n",
        "  if option == 3.5:\n",
        "    num1, num2 = readNums()\n",
        "  else:\n",
        "    print('''\\nBem Vindo ao Menu! \n",
        "          \\nDigite uma das opções:\\n\n",
        "            [1] Somar\n",
        "            [2] Multiplicar\n",
        "            [3] Maior\n",
        "            [4] Novos números\n",
        "            [5] Sair do programa\\n\\n''')\n",
        "\n",
        "\n",
        "    \n",
        "            \n",
        "  while option > 6 and option < 0:\n",
        "    option = int(input('Say a option: '))\n",
        "  if option == 1:\n",
        "    print('Sum: {} + {} = {}'.format(num1, num2, num1+num2)) \n",
        "  elif option == 2:\n",
        "    print('Multiplication: {} * {} = {}'.format(num1, num2, num1*num2)) \n",
        "  elif option == 3:\n",
        "    print('Greater is {}'.format(max(num1, num2))) \n",
        "  elif option == 4: \n",
        "    num1, num2 = readNums() \n",
        "  elif option == 5: \n",
        "    print('The End!') \n",
        "    break\n",
        "  option = int(input('Say a option: '))\n"
      ],
      "metadata": {
        "id": "Nh-6kIoy8jBq",
        "outputId": "47f23052-3679-434d-f451-f3d833a71252",
        "colab": {
          "base_uri": "https://localhost:8080/"
        }
      },
      "execution_count": 26,
      "outputs": [
        {
          "output_type": "stream",
          "name": "stdout",
          "text": [
            "Digit a number: 4\n",
            "Digit other number: 3\n",
            "Say a option: 1\n",
            "\n",
            "Bem Vindo ao Menu! \n",
            "          \n",
            "Digite uma das opções:\n",
            "\n",
            "            [1] Somar\n",
            "            [2] Multiplicar\n",
            "            [3] Maior\n",
            "            [4] Novos números\n",
            "            [5] Sair do programa\n",
            "\n",
            "\n",
            "Sum: 4 + 3 = 7\n",
            "Say a option: 5\n",
            "\n",
            "Bem Vindo ao Menu! \n",
            "          \n",
            "Digite uma das opções:\n",
            "\n",
            "            [1] Somar\n",
            "            [2] Multiplicar\n",
            "            [3] Maior\n",
            "            [4] Novos números\n",
            "            [5] Sair do programa\n",
            "\n",
            "\n",
            "The End!\n"
          ]
        }
      ]
    },
    {
      "cell_type": "code",
      "source": [
        "# num1, num2 = readNums()\n",
        "# # option = 1\n",
        "# # while (option > 0):\n",
        "# #   option = int(input('Say a option: '))\n",
        "# option = 4\n",
        "# while (option > 5): # necesaário se quiser garantir que quando vai fora do scope de 1 a cinco.., faz repetir a opção\n",
        "#   option = int(input('Say a option: '))\n",
        "#   if option > 0 and option < 6: # ao invés do while\n",
        "#     option = int(input('Say a option: '))\n",
        "#     if option == 1:\n",
        "#       print('Sum: {} + {} = {}'.format(num1, num2, num1+num2))\n",
        "#     elif option == 2:\n",
        "#       print('Multiplication: {} * {} = {}'.format(num1, num2, num1*num2))\n",
        "#     elif option == 3:\n",
        "#       print('Greater is {}'.format(max(num1, num2)))\n",
        "#     elif option == 4:\n",
        "#       num1, num2 = readNums()\n",
        "#     elif option == 5:\n",
        "#       print('The End!')\n",
        "#       break\n",
        "#     # else:\n",
        "#     #   print('The End!')\n",
        "#     #   break"
      ],
      "metadata": {
        "colab": {
          "base_uri": "https://localhost:8080/"
        },
        "id": "i_iAYgr3mRUz",
        "outputId": "82e7def3-c05f-4914-9460-8c67e42eb4e3"
      },
      "execution_count": 17,
      "outputs": [
        {
          "name": "stdout",
          "output_type": "stream",
          "text": [
            "Digit a number: 56\n",
            "Digit other number: 12\n",
            "Say a option: 2\n",
            "Multiplication: 56 * 12 = 672\n",
            "Say a option: 1\n",
            "Sum: 56 + 12 = 68\n",
            "Say a option: 3\n",
            "Greater is 56\n",
            "Say a option: 4\n",
            "Digit a number: 43\n",
            "Digit other number: 78\n",
            "Say a option: 1\n",
            "Sum: 43 + 78 = 121\n",
            "Say a option: 7\n"
          ]
        }
      ]
    },
    {
      "cell_type": "markdown",
      "source": [
        "# Desafio 60\n",
        "\n",
        "Faça um programa que leia um **número** qualquer e mostre o seu **fatorial**.\n",
        "\n",
        "Ex:\n",
        "5! = 5 * 4 * 3 * 2 * 1 = 120 \n",
        "\n",
        "\n",
        "\n"
      ],
      "metadata": {
        "id": "3ZFQm1m9HrsK"
      }
    },
    {
      "cell_type": "code",
      "source": [
        "def fatorial(n):\n",
        "  if n == 1:\n",
        "    print('{} \\n='.format(n))\n",
        "    return 1\n",
        "  else:\n",
        "    print('{} \\n*'.format(n , end = ' '))\n",
        "    return (n * fatorial(n-1))"
      ],
      "metadata": {
        "id": "m2rmP93lIfSt"
      },
      "execution_count": 59,
      "outputs": []
    },
    {
      "cell_type": "code",
      "source": [
        "fat = int(input('Say fatorial number that you wish: '))\n",
        "print('{} = {}!'.format(fatorial(fat), fat))"
      ],
      "metadata": {
        "id": "Od9OgzgnILMl",
        "outputId": "169a9b07-a3d8-4cf3-e11b-8985719114cb",
        "colab": {
          "base_uri": "https://localhost:8080/"
        }
      },
      "execution_count": 77,
      "outputs": [
        {
          "output_type": "stream",
          "name": "stdout",
          "text": [
            "Say fatorial number that you wish: 10\n",
            "10 \n",
            "*\n",
            "9 \n",
            "*\n",
            "8 \n",
            "*\n",
            "7 \n",
            "*\n",
            "6 \n",
            "*\n",
            "5 \n",
            "*\n",
            "4 \n",
            "*\n",
            "3 \n",
            "*\n",
            "2 \n",
            "*\n",
            "1 \n",
            "=\n",
            "3628800 = 10!\n"
          ]
        }
      ]
    },
    {
      "cell_type": "code",
      "source": [
        "def fatorial2 (fat): \n",
        "  result = 1 # In multiplication, identity element is 1, division to\n",
        "  while fat > 0:\n",
        "    print('{} \\n*'.format(fat , end = ' '))\n",
        "    result *= fat\n",
        "    fat -= 1\n",
        "  return result\n",
        "\n"
      ],
      "metadata": {
        "id": "3snW8g13IDIZ"
      },
      "execution_count": 78,
      "outputs": []
    },
    {
      "cell_type": "code",
      "source": [
        "print('{} = {}!'.format(fatorial2(fat), fat))"
      ],
      "metadata": {
        "id": "jPyG11Q0Pd_l",
        "outputId": "ffc530db-5555-415b-8ed0-eb122e7cb8fd",
        "colab": {
          "base_uri": "https://localhost:8080/"
        }
      },
      "execution_count": 79,
      "outputs": [
        {
          "output_type": "stream",
          "name": "stdout",
          "text": [
            "10 \n",
            "*\n",
            "9 \n",
            "*\n",
            "8 \n",
            "*\n",
            "7 \n",
            "*\n",
            "6 \n",
            "*\n",
            "5 \n",
            "*\n",
            "4 \n",
            "*\n",
            "3 \n",
            "*\n",
            "2 \n",
            "*\n",
            "1 \n",
            "*\n",
            "3628800 = 10!\n"
          ]
        }
      ]
    },
    {
      "cell_type": "code",
      "source": [
        "def fatorial3 (fat): \n",
        "  result = 1 # In multiplication, identity element is 1, division to\n",
        "  for n in range(1,fat+1):\n",
        "    print('{} \\n*'.format(n , end = ' '))\n",
        "    result *= n\n",
        "  return result"
      ],
      "metadata": {
        "id": "6J6LlM-TQVn-"
      },
      "execution_count": 80,
      "outputs": []
    },
    {
      "cell_type": "code",
      "source": [
        "def fatorial4 (fat): \n",
        "  result = 1 # In multiplication, identity element is 1, division to\n",
        "  for n in range(fat,0, -1):\n",
        "    print('{} \\n*'.format(n , end = ' '))\n",
        "    result *= n\n",
        "  return result"
      ],
      "metadata": {
        "id": "-HIrHRM4Yp-a"
      },
      "execution_count": 81,
      "outputs": []
    },
    {
      "cell_type": "code",
      "source": [
        "print('{} = {}!'.format(fatorial3(fat), fat))"
      ],
      "metadata": {
        "id": "aSIPq0jZQuG6",
        "outputId": "2641ba64-4352-41fb-bb9e-0b183c3f8759",
        "colab": {
          "base_uri": "https://localhost:8080/"
        }
      },
      "execution_count": 82,
      "outputs": [
        {
          "output_type": "stream",
          "name": "stdout",
          "text": [
            "1 \n",
            "*\n",
            "2 \n",
            "*\n",
            "3 \n",
            "*\n",
            "4 \n",
            "*\n",
            "5 \n",
            "*\n",
            "6 \n",
            "*\n",
            "7 \n",
            "*\n",
            "8 \n",
            "*\n",
            "9 \n",
            "*\n",
            "10 \n",
            "*\n",
            "3628800 = 10!\n"
          ]
        }
      ]
    },
    {
      "cell_type": "code",
      "source": [
        "print('{} = {}!'.format(fatorial4(fat), fat))"
      ],
      "metadata": {
        "id": "N86aE9iiY8Gu",
        "outputId": "011f993f-04d9-41a3-cf35-98c17829635c",
        "colab": {
          "base_uri": "https://localhost:8080/"
        }
      },
      "execution_count": 83,
      "outputs": [
        {
          "output_type": "stream",
          "name": "stdout",
          "text": [
            "10 \n",
            "*\n",
            "9 \n",
            "*\n",
            "8 \n",
            "*\n",
            "7 \n",
            "*\n",
            "6 \n",
            "*\n",
            "5 \n",
            "*\n",
            "4 \n",
            "*\n",
            "3 \n",
            "*\n",
            "2 \n",
            "*\n",
            "1 \n",
            "*\n",
            "3628800 = 10!\n"
          ]
        }
      ]
    },
    {
      "cell_type": "markdown",
      "source": [
        "# Desafio 061\n",
        "\n",
        "Refaça o **Desafio 051**, lendo o **primeiro termo** e a **razão** de uma **PA**, mostrando os **10 primeiros termos** da progressão usando a estrutura **while**"
      ],
      "metadata": {
        "id": "bVgYZPw5Zfz9"
      }
    },
    {
      "cell_type": "code",
      "source": [
        "pav = basis = float(input(\"Digit first term: \\n\"))\n",
        "\n",
        "ratio = float(input(\"Say ration that you want: \\n\"))\n",
        "\n",
        "count = 0\n",
        "\n",
        "print('The first 10 term of PA is: \\n')\n",
        "while count < 10:\n",
        "  pav += ratio\n",
        "  count += 1\n",
        "  print('{:.3f}'.format(pav))"
      ],
      "metadata": {
        "id": "oWttd2sSZ7rA",
        "outputId": "5a2d3368-336c-459a-9a99-45d39f47f5b9",
        "colab": {
          "base_uri": "https://localhost:8080/"
        }
      },
      "execution_count": 92,
      "outputs": [
        {
          "output_type": "stream",
          "name": "stdout",
          "text": [
            "Digit first term: \n",
            "1.51\n",
            "Say ration that you want: \n",
            "0.1\n",
            "The first 10 term of PA is: \n",
            "\n",
            "1.610\n",
            "1.710\n",
            "1.810\n",
            "1.910\n",
            "2.010\n",
            "2.110\n",
            "2.210\n",
            "2.310\n",
            "2.410\n",
            "2.510\n"
          ]
        }
      ]
    }
  ]
}