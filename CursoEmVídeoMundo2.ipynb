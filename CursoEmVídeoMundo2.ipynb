{
  "nbformat": 4,
  "nbformat_minor": 0,
  "metadata": {
    "colab": {
      "name": "CursoEmVídeoMundo2.ipynb",
      "provenance": [],
      "collapsed_sections": [],
      "authorship_tag": "ABX9TyOeyyBPUxVfMWrUn26ZIG/r",
      "include_colab_link": true
    },
    "kernelspec": {
      "name": "python3",
      "display_name": "Python 3"
    },
    "language_info": {
      "name": "python"
    }
  },
  "cells": [
    {
      "cell_type": "markdown",
      "metadata": {
        "id": "view-in-github",
        "colab_type": "text"
      },
      "source": [
        "<a href=\"https://colab.research.google.com/github/ManJ-PC/Py/blob/master/CursoEmV%C3%ADdeoMundo2.ipynb\" target=\"_parent\"><img src=\"https://colab.research.google.com/assets/colab-badge.svg\" alt=\"Open In Colab\"/></a>"
      ]
    },
    {
      "cell_type": "code",
      "metadata": {
        "id": "pVfzmcRw45Gr"
      },
      "source": [
        "# if carro.esquerda():\n",
        "#   bloco 1\n",
        "# elif carro.direita():\n",
        "#   bloco 2\n",
        "# elif carro.ré():\n",
        "#   bloco 3\n",
        "# else:\n",
        "#   bloco 4 NO"
      ],
      "execution_count": 1,
      "outputs": []
    },
    {
      "cell_type": "code",
      "metadata": {
        "id": "9_toTlIs6vK4"
      },
      "source": [
        "# nome = str(input('Qual é o seu nome? '))\n",
        "# if nome == 'Gustavo':\n",
        "#   print('Que nome bonito!')\n",
        "# elif nome in 'Ana Claúdia Jéssica Juliana':\n",
        "#   print('Belo nome feminino')\n",
        "# else:\n",
        "#   print('Seu nome é bem normal.')\n",
        "# print('Tenha um bom dia, {}!'.format(nome))"
      ],
      "execution_count": 2,
      "outputs": []
    },
    {
      "cell_type": "code",
      "metadata": {
        "id": "Hewv9NXhMb4_"
      },
      "source": [
        ""
      ],
      "execution_count": 2,
      "outputs": []
    },
    {
      "cell_type": "markdown",
      "metadata": {
        "id": "qJ0AHY-3MaMu"
      },
      "source": [
        "**Desafio  036**\n",
        "\n",
        "Escreva um programa para aprovar o empréstimo bancário para a compra de uma casa. O Programa vai perguntar o valor da casa, o salário do comprador e em quantos anos ele vai pagar.\n",
        "\n",
        "Calcule o valor da prestação mensal, sabendo que ela não pode exceder 30% do salário ou então o empréstimo será negado."
      ]
    },
    {
      "cell_type": "code",
      "metadata": {
        "id": "Ad1DFIn_LN_h"
      },
      "source": [
        "# PatrimonyL = float(input('Good Morning to our House Loan\\'s Bank!\\n Which the value of property that wants to adquire: '))\n",
        "# Wage = float(input('What is your wage: '))\n",
        "# T_Age = float(input('How much time lasts bank loan, in years: '))\n",
        "\n",
        "# MonthPay = PatrimonyL/(T_Age * 12)\n",
        "\n",
        "# print('The mensal value to pay the house is: ', MonthPay)\n",
        "\n",
        "# if MonthPay > 0.30 * Wage:\n",
        "#   print(\"Empréstimo negado\")\n",
        "# else:\n",
        "#   print(\"Aceite!!\")\n"
      ],
      "execution_count": 3,
      "outputs": []
    },
    {
      "cell_type": "markdown",
      "metadata": {
        "id": "bciltV4YshS-"
      },
      "source": [
        "**Desafio 37**"
      ]
    },
    {
      "cell_type": "markdown",
      "metadata": {
        "id": "jQ_sZgJHsPU8"
      },
      "source": [
        "Escreva um programa que leia um número inteiro qualquer e peça para o usuário escolher qual será a **base de conversão**\n",
        "\n",
        "\n",
        "*   1 para binário\n",
        "*   2 para octal\n",
        "*   3 para hexadecimal\n",
        "\n"
      ]
    },
    {
      "cell_type": "code",
      "metadata": {
        "id": "AlFBgd6ls7UO"
      },
      "source": [
        "# num = int(input('Insira o valor decimal: '))\n",
        "# b2 = bin(num)\n",
        "# o8 = oct(num)\n",
        "# Ox = hex(num)\n",
        "\n",
        "# base = str(input('Qual será a base de conversão?\\n O <- octal\\n H <- hexadecimal\\n B or other thing <- binary '))\n",
        "# if base.upper() == 'O':\n",
        "#   print(o8)\n",
        "# elif base.upper() == 'H':\n",
        "#   print(Ox)\n",
        "# else:\n",
        "#   print(b2)"
      ],
      "execution_count": 4,
      "outputs": []
    },
    {
      "cell_type": "code",
      "metadata": {
        "id": "HQ_9BUdcQtrn"
      },
      "source": [
        "# def converte2(a,b): #a = bq + r\n",
        "#   novabase = \"\" #resto ou r_string\n",
        "#   r = 0\n",
        "#   while a>0: #r<a: #r > 0: ...n//b!\n",
        "#     q = a // b\n",
        "#     r = a - (q*b)\n",
        "#     #r = a % b\n",
        "#     a = q \n",
        "\n",
        "#     print(r,'\\n')\n",
        "#     #novabase=str(r)\n",
        "#     novabase += str(r)\n",
        "#   novabase = novabase[::-1]\n",
        "#   #novabase[::-1]\n",
        "#   #print('\\n',novabase[::-1])\n",
        "#   return novabase"
      ],
      "execution_count": 5,
      "outputs": []
    },
    {
      "cell_type": "code",
      "source": [
        "# def converte(n,b): #n = bq + r\n",
        "#   # 10b10 = 1010b2  10/2 r1 5/2 r1 2/2 r0 0/2 r0\n",
        "#   r_string = \"\"\n",
        "#   while n//b > 0:\n",
        "#     r = n%b\n",
        "#     a = n//b\n",
        "#     print(r,'\\n')\n",
        "#     r_string += str(r)\n",
        "#   r_string[::-1]\n",
        "#   print('')  NO\n",
        "    \n",
        "\n",
        "    \n"
      ],
      "metadata": {
        "id": "m61tfNXS1dGB"
      },
      "execution_count": 6,
      "outputs": []
    },
    {
      "cell_type": "code",
      "metadata": {
        "id": "tNa8bDFIrrgf"
      },
      "source": [
        "# converte2(12,2)"
      ],
      "execution_count": 7,
      "outputs": []
    },
    {
      "cell_type": "code",
      "source": [
        "# converte2(12, 8)"
      ],
      "metadata": {
        "id": "FdcHStnN86LU"
      },
      "execution_count": 8,
      "outputs": []
    },
    {
      "cell_type": "code",
      "source": [
        "# Solution\n",
        "def dec_to_base(num,base): # Maximum base - 36\n",
        "  base_num = \"\"\n",
        "  while num>0:\n",
        "    dig = int(num%base) # porque este int? \n",
        "    if dig<10:\n",
        "      base_num += str(dig)\n",
        "    else:\n",
        "      base_num += chr(ord('A')+dig-10) # Using uppercase Letters\n",
        "    num //= base\n",
        "\n",
        "  base_num = base_num[::-1] #To reverse the string\n",
        "  return base_num"
      ],
      "metadata": {
        "id": "vuDXQHyAEc8e"
      },
      "execution_count": 9,
      "outputs": []
    },
    {
      "cell_type": "code",
      "source": [
        "int(\"12\",8)"
      ],
      "metadata": {
        "colab": {
          "base_uri": "https://localhost:8080/"
        },
        "id": "dQtoNDQAVTp9",
        "outputId": "c0b0dea4-b5bc-42b0-9afb-5e04ad4140c2"
      },
      "execution_count": 10,
      "outputs": [
        {
          "output_type": "execute_result",
          "data": {
            "text/plain": [
              "10"
            ]
          },
          "metadata": {},
          "execution_count": 10
        }
      ]
    },
    {
      "cell_type": "code",
      "source": [
        "ord('a')"
      ],
      "metadata": {
        "colab": {
          "base_uri": "https://localhost:8080/"
        },
        "id": "J5Uf7sB5RULc",
        "outputId": "a3cf3bfc-d6ad-4d21-a5cd-b7957b2ec38b"
      },
      "execution_count": 11,
      "outputs": [
        {
          "output_type": "execute_result",
          "data": {
            "text/plain": [
              "97"
            ]
          },
          "metadata": {},
          "execution_count": 11
        }
      ]
    },
    {
      "cell_type": "code",
      "source": [
        "ord('A')"
      ],
      "metadata": {
        "colab": {
          "base_uri": "https://localhost:8080/"
        },
        "id": "EIVaJTaDTMPI",
        "outputId": "253c9f22-9c72-42de-f9c1-549ece7cadbe"
      },
      "execution_count": 12,
      "outputs": [
        {
          "output_type": "execute_result",
          "data": {
            "text/plain": [
              "65"
            ]
          },
          "metadata": {},
          "execution_count": 12
        }
      ]
    },
    {
      "cell_type": "code",
      "source": [
        "chr(94)+chr(93)+chr(92)+chr(91)+chr(90)"
      ],
      "metadata": {
        "colab": {
          "base_uri": "https://localhost:8080/",
          "height": 35
        },
        "id": "AvFrhOLNTNg_",
        "outputId": "f1660389-1956-4a6b-b0cf-e4c20b4e4afe"
      },
      "execution_count": 13,
      "outputs": [
        {
          "output_type": "execute_result",
          "data": {
            "application/vnd.google.colaboratory.intrinsic+json": {
              "type": "string"
            },
            "text/plain": [
              "'^]\\\\[Z'"
            ]
          },
          "metadata": {},
          "execution_count": 13
        }
      ]
    },
    {
      "cell_type": "code",
      "source": [
        "# Any Base to Decimal\n",
        "\n",
        "print(int(\"12\",3))\n",
        "print(int(\"12\",8))\n",
        "print(int(\"12\",10))\n",
        "print(int(\"12\",16))\n",
        "\n",
        "#chr(16)"
      ],
      "metadata": {
        "colab": {
          "base_uri": "https://localhost:8080/"
        },
        "id": "_YDKVYGdVbF7",
        "outputId": "656f5d9a-64d0-4947-f396-bf3b2b3c7425"
      },
      "execution_count": 14,
      "outputs": [
        {
          "output_type": "stream",
          "name": "stdout",
          "text": [
            "5\n",
            "10\n",
            "12\n",
            "18\n"
          ]
        }
      ]
    },
    {
      "cell_type": "code",
      "source": [
        "username = input(\"Choose a username: \")  # Canita Broa\n",
        "final_username = username.replace(\"r\", \"_\")\n",
        "\n",
        "print(\"Your username is: \" + final_username) "
      ],
      "metadata": {
        "colab": {
          "base_uri": "https://localhost:8080/"
        },
        "id": "FIvNXYlmkQOP",
        "outputId": "b1c31cb8-28d5-49d2-d5cb-252ee9401f9e"
      },
      "execution_count": 15,
      "outputs": [
        {
          "output_type": "stream",
          "name": "stdout",
          "text": [
            "Choose a username: Galo\n",
            "Your username is: Galo\n"
          ]
        }
      ]
    },
    {
      "cell_type": "code",
      "source": [
        "for element in final_username: #string_name:\n",
        "  print(element, end=' ')\n",
        "print(\"\\n\")"
      ],
      "metadata": {
        "colab": {
          "base_uri": "https://localhost:8080/"
        },
        "id": "f2FBkp2hlqUT",
        "outputId": "6f51ae93-f854-4428-dd0a-0dbf8fed264b"
      },
      "execution_count": 16,
      "outputs": [
        {
          "output_type": "stream",
          "name": "stdout",
          "text": [
            "G a l o \n",
            "\n"
          ]
        }
      ]
    },
    {
      "cell_type": "code",
      "source": [
        "def base_to_dec(num_str, base):\n",
        " base_num = 0\n",
        " power = 0           # declaration and initialization\n",
        " for column in num_str[::-1]: # d\n",
        "   print(column)\n",
        "   base_num += int(column) * pow(base, power)  # c = a + b \n",
        "   power += 1 # e\n",
        " print(base_num)\n",
        " #falta a potência!!! Incorporar, dessa forma em vez 12*8 = 96\n",
        "# We have:"
      ],
      "metadata": {
        "id": "tTrnrxV9TgbM"
      },
      "execution_count": 17,
      "outputs": []
    },
    {
      "cell_type": "code",
      "source": [
        "num_str = \"147\"\n",
        "num_str[::-1]"
      ],
      "metadata": {
        "colab": {
          "base_uri": "https://localhost:8080/",
          "height": 35
        },
        "id": "2tWvCkng6pXK",
        "outputId": "d34a3c4a-fd16-4fe0-e69b-6eb24e1b9bc7"
      },
      "execution_count": 18,
      "outputs": [
        {
          "output_type": "execute_result",
          "data": {
            "application/vnd.google.colaboratory.intrinsic+json": {
              "type": "string"
            },
            "text/plain": [
              "'741'"
            ]
          },
          "metadata": {},
          "execution_count": 18
        }
      ]
    },
    {
      "cell_type": "code",
      "source": [
        "base_to_dec(\"147\",8)"
      ],
      "metadata": {
        "colab": {
          "base_uri": "https://localhost:8080/"
        },
        "id": "m6iKJMP78RuQ",
        "outputId": "cca3bdca-f0b8-41da-cb6b-0fb9c3b31295"
      },
      "execution_count": 19,
      "outputs": [
        {
          "output_type": "stream",
          "name": "stdout",
          "text": [
            "7\n",
            "4\n",
            "1\n",
            "103\n"
          ]
        }
      ]
    },
    {
      "cell_type": "code",
      "source": [
        "base_to_dec(\"147\",8)"
      ],
      "metadata": {
        "colab": {
          "base_uri": "https://localhost:8080/"
        },
        "id": "SxIaCQ7jkUau",
        "outputId": "871f1838-5cb1-4d3d-e085-9f32d38d2e07"
      },
      "execution_count": 20,
      "outputs": [
        {
          "output_type": "stream",
          "name": "stdout",
          "text": [
            "7\n",
            "4\n",
            "1\n",
            "103\n"
          ]
        }
      ]
    },
    {
      "cell_type": "code",
      "source": [
        "print(pow(8,3))\n",
        "7*64 # valores muito próximos, logicamente... pois base = 8 , 7 imediamente antes!"
      ],
      "metadata": {
        "colab": {
          "base_uri": "https://localhost:8080/"
        },
        "id": "Kb0aECnK3jI1",
        "outputId": "c9c3826a-2679-4270-9c75-4a170ff6247a"
      },
      "execution_count": 21,
      "outputs": [
        {
          "output_type": "stream",
          "name": "stdout",
          "text": [
            "512\n"
          ]
        },
        {
          "output_type": "execute_result",
          "data": {
            "text/plain": [
              "448"
            ]
          },
          "metadata": {},
          "execution_count": 21
        }
      ]
    },
    {
      "cell_type": "code",
      "source": [
        "base_to_dec(\"147\",8)"
      ],
      "metadata": {
        "colab": {
          "base_uri": "https://localhost:8080/"
        },
        "id": "zxAYslCoXxwI",
        "outputId": "acca8843-5986-49cf-825f-bacaedf0e98f"
      },
      "execution_count": 22,
      "outputs": [
        {
          "output_type": "stream",
          "name": "stdout",
          "text": [
            "7\n",
            "4\n",
            "1\n",
            "103\n"
          ]
        }
      ]
    },
    {
      "cell_type": "code",
      "source": [
        "pow(4,4)"
      ],
      "metadata": {
        "colab": {
          "base_uri": "https://localhost:8080/"
        },
        "id": "Ji_Z5aZjMr9b",
        "outputId": "2213f61a-f2c6-4d04-e17b-751686a93719"
      },
      "execution_count": 23,
      "outputs": [
        {
          "output_type": "execute_result",
          "data": {
            "text/plain": [
              "256"
            ]
          },
          "metadata": {},
          "execution_count": 23
        }
      ]
    },
    {
      "cell_type": "code",
      "source": [
        "pow(4,4,8)"
      ],
      "metadata": {
        "colab": {
          "base_uri": "https://localhost:8080/"
        },
        "id": "4lIZYwboIX2i",
        "outputId": "2df29cca-663c-452d-c0b5-982049560c3e"
      },
      "execution_count": 24,
      "outputs": [
        {
          "output_type": "execute_result",
          "data": {
            "text/plain": [
              "0"
            ]
          },
          "metadata": {},
          "execution_count": 24
        }
      ]
    },
    {
      "cell_type": "code",
      "source": [
        "pow(4,4,12)"
      ],
      "metadata": {
        "colab": {
          "base_uri": "https://localhost:8080/"
        },
        "id": "FMgNcxe1JB_Z",
        "outputId": "1358dba8-fe14-420e-ff09-41cae9949636"
      },
      "execution_count": 25,
      "outputs": [
        {
          "output_type": "execute_result",
          "data": {
            "text/plain": [
              "4"
            ]
          },
          "metadata": {},
          "execution_count": 25
        }
      ]
    },
    {
      "cell_type": "code",
      "source": [
        "# a,b,c = 100\n",
        "# print(c)  .> cannot unpack non-iterable int object\n",
        "\n",
        "a,b,c = 1,2,3\n",
        "print(a,b,c)"
      ],
      "metadata": {
        "colab": {
          "base_uri": "https://localhost:8080/"
        },
        "id": "YQCqnQYnJIex",
        "outputId": "dce81582-710e-4ce4-c402-3836fc64c90c"
      },
      "execution_count": 26,
      "outputs": [
        {
          "output_type": "stream",
          "name": "stdout",
          "text": [
            "1 2 3\n"
          ]
        }
      ]
    },
    {
      "cell_type": "code",
      "source": [
        "def baseToDec(num_str, base): # suporta até base de valor 36 \n",
        "  num_str = num_str[::-1]\n",
        "  num = 0\n",
        "  for k in range(len(num_str)):\n",
        "    dig = num_str[k]\n",
        "    if dig.isdigit():\n",
        "      dig = int(dig)\n",
        "    else:  # Assuming its either number or alphabet only\n",
        "      dig = ord(dig.upper())-ord('A')+10\n",
        "    num += dig*(base**k)\n",
        "  return num"
      ],
      "metadata": {
        "id": "0jhGYQhjbbVf"
      },
      "execution_count": 27,
      "outputs": []
    },
    {
      "cell_type": "code",
      "source": [
        "baseToDec(\"147\",8)"
      ],
      "metadata": {
        "colab": {
          "base_uri": "https://localhost:8080/"
        },
        "id": "rlLc6braV0oP",
        "outputId": "1e1799c3-e69a-4c21-87ef-eed7526e667c"
      },
      "execution_count": 28,
      "outputs": [
        {
          "output_type": "execute_result",
          "data": {
            "text/plain": [
              "103"
            ]
          },
          "metadata": {},
          "execution_count": 28
        }
      ]
    },
    {
      "cell_type": "code",
      "source": [
        "tries = 5\n",
        "time = \"0\"\n",
        "names = \"\"\n",
        "while time:\n",
        "  tries -= 1\n",
        "  name = input('Digite seu nome: ')\n",
        "  if name == 'name':\n",
        "    break\n",
        "  names += name\n",
        "print(names)"
      ],
      "metadata": {
        "colab": {
          "base_uri": "https://localhost:8080/"
        },
        "id": "856ZTcLdV737",
        "outputId": "d67088f2-6db7-4ef8-e799-a40b944a1675"
      },
      "execution_count": 29,
      "outputs": [
        {
          "output_type": "stream",
          "name": "stdout",
          "text": [
            "Digite seu nome: iu\n",
            "Digite seu nome: j\n",
            "Digite seu nome: name\n",
            "iuj\n"
          ]
        }
      ]
    },
    {
      "cell_type": "markdown",
      "source": [
        "**Desafio 038**\n",
        "\n",
        "Escreva um programa que leia dois números inteiros e compare-os, mostrando na tela uma mensagem:\n",
        "\n",
        "- O primeiro valor é maior\n",
        "- O segundo valor é maior \n",
        "- Não existe valor maior, os dois são iguais"
      ],
      "metadata": {
        "id": "XFQINJzGmX5R"
      }
    },
    {
      "cell_type": "code",
      "source": [
        "n1 = input('Digite o 1º: ')\n",
        "n2 = input('Digite o 2º: ')\n",
        "if n1 > n2:\n",
        "  print('O primeiro valor é maior.')\n",
        "elif n1 == n2:\n",
        "  print('\\nR: Não existe valor maior, os dois são iguais.')\n",
        "else:\n",
        "  print('\\nR: O segundo valor é maior')"
      ],
      "metadata": {
        "colab": {
          "base_uri": "https://localhost:8080/"
        },
        "id": "JxanOfckv5JE",
        "outputId": "db2aa97e-feeb-4767-825f-3b0259f0e755"
      },
      "execution_count": 30,
      "outputs": [
        {
          "output_type": "stream",
          "name": "stdout",
          "text": [
            "Digite o 1º: 6\n",
            "Digite o 2º: 9\n",
            "\n",
            "R: O segundo valor é maior\n"
          ]
        }
      ]
    },
    {
      "cell_type": "markdown",
      "source": [
        "**Desafio 039**\n",
        "\n",
        "Faça um programa que leia o ano de nascimento de um jovem e informe, de acordo com sua idade:\n",
        "\n",
        "- Se ele ainda vai se alistar ao serviço militar.\n",
        "- Se é na hora de se alistar.\n",
        "- Se já passou do tempo de alistamento.\n",
        "\n",
        "Seu programa também deverá mostrar o tempo que falta ou que passou de prazo"
      ],
      "metadata": {
        "id": "OFK80PEho8i0"
      }
    },
    {
      "cell_type": "code",
      "source": [
        "from datetime import date\n",
        "\n",
        "year = date.today().year\n",
        "#print(data_atual)\n",
        "bornYear = int(input('Say your born year: '))\n",
        "\n",
        "MILITARYAGE = 18 \n",
        "age = year-bornYear\n",
        "\n",
        "militaryTime = age - MILITARYAGE\n",
        "\n",
        "if militaryTime > 0:\n",
        "  print('Already passed ',militaryTime, ' year(s) since military register' )\n",
        "elif militaryTime == 0:\n",
        "  print('Military register is in this year')\n",
        "else:\n",
        "  print(abs(militaryTime), 'year(s) to you have military service register day.')"
      ],
      "metadata": {
        "id": "wMeG0zd_vBfZ",
        "outputId": "9fb09370-8955-48f6-cdd2-53a8690f5d2b",
        "colab": {
          "base_uri": "https://localhost:8080/"
        }
      },
      "execution_count": 31,
      "outputs": [
        {
          "output_type": "stream",
          "name": "stdout",
          "text": [
            "Say your born year: 1998\n",
            "Already passed  6  year(s) since military register\n"
          ]
        }
      ]
    },
    {
      "cell_type": "code",
      "source": [
        "data_atual = date.today()\n",
        "data_em_texto = '{}/{}/{}'.format(data_atual.day, data_atual.month, data_atual.year)"
      ],
      "metadata": {
        "id": "BILrrQCevaac"
      },
      "execution_count": 34,
      "outputs": []
    },
    {
      "cell_type": "code",
      "source": [
        "data_em_texto"
      ],
      "metadata": {
        "id": "1mlxPyrYIJ4H",
        "outputId": "62ace507-b4b6-4e1d-82c3-426ab6dd395a",
        "colab": {
          "base_uri": "https://localhost:8080/",
          "height": 35
        }
      },
      "execution_count": 35,
      "outputs": [
        {
          "output_type": "execute_result",
          "data": {
            "application/vnd.google.colaboratory.intrinsic+json": {
              "type": "string"
            },
            "text/plain": [
              "'1/3/2022'"
            ]
          },
          "metadata": {},
          "execution_count": 35
        }
      ]
    },
    {
      "cell_type": "code",
      "source": [
        "import datetime"
      ],
      "metadata": {
        "id": "oHUNq3hb1EJK"
      },
      "execution_count": 36,
      "outputs": []
    },
    {
      "cell_type": "code",
      "source": [
        "data_e_hora_atuais = datetime.datetime.now() # truque\n",
        "data_e_hora_em_texto = data_e_hora_atuais.strftime('%d/%m/%Y')\n",
        "\n",
        "print(data_e_hora_em_texto)"
      ],
      "metadata": {
        "id": "14ogZQ2UIyEH",
        "outputId": "b312b68b-1b19-4811-ed6e-4397d41ac65e",
        "colab": {
          "base_uri": "https://localhost:8080/"
        }
      },
      "execution_count": 37,
      "outputs": [
        {
          "output_type": "stream",
          "name": "stdout",
          "text": [
            "01/03/2022\n"
          ]
        }
      ]
    },
    {
      "cell_type": "code",
      "source": [
        "data_e_hora_em_texto = data_e_hora_atuais.strftime('%d/%m/%Y %H:%M')\n",
        "\n",
        "print(data_e_hora_em_texto)"
      ],
      "metadata": {
        "id": "ZHWvvscPQxpR",
        "outputId": "bf567030-1deb-462f-99f6-4a818287f3ea",
        "colab": {
          "base_uri": "https://localhost:8080/"
        }
      },
      "execution_count": 38,
      "outputs": [
        {
          "output_type": "stream",
          "name": "stdout",
          "text": [
            "01/03/2022 21:14\n"
          ]
        }
      ]
    },
    {
      "cell_type": "code",
      "source": [
        "from datetime import datetime\n",
        "\n",
        "data_e_hora_em_texto = '17/07/2030 12:55' #14:61'\n",
        "data_e_hora = datetime.strptime(data_em_texto, '%d/%m/%Y')# %H:%M')\n",
        "data_e_hora = datetime.strptime(data_e_hora_em_texto, '%d/%m/%Y %H:%M')\n"
      ],
      "metadata": {
        "id": "O79bfk0pc4A4"
      },
      "execution_count": 47,
      "outputs": []
    },
    {
      "cell_type": "code",
      "source": [
        "print(data_e_hora)"
      ],
      "metadata": {
        "id": "IOe3mgvu0Mw5",
        "outputId": "bed1bbf0-a236-45e0-efef-d5afb7a347b0",
        "colab": {
          "base_uri": "https://localhost:8080/"
        }
      },
      "execution_count": 48,
      "outputs": [
        {
          "output_type": "stream",
          "name": "stdout",
          "text": [
            "2030-07-17 12:55:00\n"
          ]
        }
      ]
    },
    {
      "cell_type": "markdown",
      "source": [
        "**Desafio 40**\n",
        "\n",
        "Crie um programa que leia duas notas de um aluno e calcule sua média, mostrando uma mensagem no final, de acordo com a média atingida:\n",
        "- Média abaixo de 5.0:  REPROVADO\n",
        "\n",
        "- Média entre 5.0 e 6.9: RECUPERAÇÃO\n",
        "\n",
        "- Média 7.0 ou superior: APROVADO\n"
      ],
      "metadata": {
        "id": "9tbkKTHOWLRI"
      }
    },
    {
      "cell_type": "code",
      "source": [
        "grade1 = float(input('Tell your first grade: '))\n",
        "grade2 = float(input('Tell me your second grade: '))\n",
        "\n",
        "avg = round((grade1+grade2)/2,1) # se 6.0 e 3.9 dá RECUPERAÇÃO\n",
        "\n",
        "if avg < 5.0:\n",
        "  print('REPROVADO')\n",
        "elif avg < 7.0: \n",
        "  print('RECUPERAÇÃO')\n",
        "else:\n",
        "  print('APROVADO')\n",
        "  "
      ],
      "metadata": {
        "id": "KH-vjpkm2W_U"
      },
      "execution_count": null,
      "outputs": []
    },
    {
      "cell_type": "markdown",
      "source": [
        "**Desafio 41**\n",
        "\n",
        "A Confederação Nacional de Natação precisa de um programa que leia o ano de nascimento de um atleta e mostre sua categoria, de acordo com a idade:\n",
        "\n",
        "- Até 9 anos: MIRIM\n",
        "- Até 14 anos: INFANTIL\n",
        "- Até 19 anos: JUNIOR\n",
        "- Até 30 anos: SÊNIOR\n",
        "- Acima: MASTER"
      ],
      "metadata": {
        "id": "IyrGuH7pcwhc"
      }
    },
    {
      "cell_type": "code",
      "source": [
        "bornYear = int(input('Athlete, say your born year: '))\n",
        "\n",
        "if bornYear <= 9:\n",
        "  print('MIRIM')\n",
        "elif bornYear <= 14:\n",
        "  print('INFANTIL')\n",
        "elif bornYear <= 19:\n",
        "  print('JUNIOR')\n",
        "elif bornYear <= 30:\n",
        "  print('SÊNIOR')\n",
        "else:\n",
        "  print('MASTER')"
      ],
      "metadata": {
        "id": "PCgSqjN2cwC1"
      },
      "execution_count": null,
      "outputs": []
    },
    {
      "cell_type": "markdown",
      "source": [
        "**DESAFIO 42**\n",
        "\n",
        "Refaça o Desafio 35 dos triângulos, acrescentando o recurso de mostrar que tipo de triângulo será formado:\n",
        "\n",
        "* **Equilátero**: todos os lados iguais\n",
        "* **Isósceles**: dois lados iguais\n",
        "* **Escaleno**: todos os lados diferentes"
      ],
      "metadata": {
        "id": "JJkkW_UwKs3U"
      }
    },
    {
      "cell_type": "code",
      "source": [
        "def triangletype(s1,s2,s3):\n",
        "  if s1 == s2 and s2 == s3:\n",
        "    print('Equilateral')\n",
        "  elif s1 == s2 or s1 == s3 or s2 == s3:\n",
        "    print('Isosceles')\n",
        "  else:\n",
        "    print('Scalene')"
      ],
      "metadata": {
        "id": "zgSaZEIRbJdh"
      },
      "execution_count": null,
      "outputs": []
    },
    {
      "cell_type": "code",
      "source": [
        "triangletype(2,3,4)"
      ],
      "metadata": {
        "id": "BMAscIlaQ6-M"
      },
      "execution_count": null,
      "outputs": []
    },
    {
      "cell_type": "code",
      "source": [
        "def triangletype2(s1,s2,s3):\n",
        "  if s1 == s2:\n",
        "    if s1 == s3:\n",
        "      print('Equilateral')\n",
        "    else: print('Isosceles')\n",
        "  elif s1 == s3 or s2 == s3:\n",
        "    print('Isosceles')\n",
        "  else: print('Scalene') "
      ],
      "metadata": {
        "id": "K4nkBCjdQ_cP"
      },
      "execution_count": null,
      "outputs": []
    },
    {
      "cell_type": "code",
      "source": [
        "triangletype2(4,2,5)"
      ],
      "metadata": {
        "id": "J6mqhKGuU0ec"
      },
      "execution_count": null,
      "outputs": []
    },
    {
      "cell_type": "code",
      "source": [
        "triangletype2(3,3,5)"
      ],
      "metadata": {
        "id": "sP_Gq17MU7dp"
      },
      "execution_count": null,
      "outputs": []
    },
    {
      "cell_type": "code",
      "source": [
        ""
      ],
      "metadata": {
        "id": "Q12xiFNoU_qC"
      },
      "execution_count": null,
      "outputs": []
    }
  ]
}