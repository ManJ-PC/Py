{
  "nbformat": 4,
  "nbformat_minor": 0,
  "metadata": {
    "colab": {
      "name": "CursoEmVídeoMundo2.ipynb",
      "provenance": [],
      "collapsed_sections": [],
      "authorship_tag": "ABX9TyOR9csLgUxoE52K8nnIZjYh",
      "include_colab_link": true
    },
    "kernelspec": {
      "name": "python3",
      "display_name": "Python 3"
    },
    "language_info": {
      "name": "python"
    }
  },
  "cells": [
    {
      "cell_type": "markdown",
      "metadata": {
        "id": "view-in-github",
        "colab_type": "text"
      },
      "source": [
        "<a href=\"https://colab.research.google.com/github/ManJ-PC/Py/blob/master/CursoEmV%C3%ADdeoMundo2.ipynb\" target=\"_parent\"><img src=\"https://colab.research.google.com/assets/colab-badge.svg\" alt=\"Open In Colab\"/></a>"
      ]
    },
    {
      "cell_type": "code",
      "metadata": {
        "id": "pVfzmcRw45Gr"
      },
      "source": [
        "# if carro.esquerda():\n",
        "#   bloco 1\n",
        "# elif carro.direita():\n",
        "#   bloco 2\n",
        "# elif carro.ré():\n",
        "#   bloco 3\n",
        "# else:\n",
        "#   bloco 4 NO"
      ],
      "execution_count": null,
      "outputs": []
    },
    {
      "cell_type": "code",
      "metadata": {
        "id": "9_toTlIs6vK4"
      },
      "source": [
        "# nome = str(input('Qual é o seu nome? '))\n",
        "# if nome == 'Gustavo':\n",
        "#   print('Que nome bonito!')\n",
        "# elif nome in 'Ana Claúdia Jéssica Juliana':\n",
        "#   print('Belo nome feminino')\n",
        "# else:\n",
        "#   print('Seu nome é bem normal.')\n",
        "# print('Tenha um bom dia, {}!'.format(nome))"
      ],
      "execution_count": null,
      "outputs": []
    },
    {
      "cell_type": "code",
      "metadata": {
        "id": "Hewv9NXhMb4_"
      },
      "source": [
        ""
      ],
      "execution_count": null,
      "outputs": []
    },
    {
      "cell_type": "markdown",
      "metadata": {
        "id": "qJ0AHY-3MaMu"
      },
      "source": [
        "**Desafio  036**\n",
        "\n",
        "Escreva um programa para aprovar o empréstimo bancário para a compra de uma casa. O Programa vai perguntar o valor da casa, o salário do comprador e em quantos anos ele vai pagar.\n",
        "\n",
        "Calcule o valor da prestação mensal, sabendo que ela não pode exceder 30% do salário ou então o empréstimo será negado."
      ]
    },
    {
      "cell_type": "code",
      "metadata": {
        "id": "Ad1DFIn_LN_h"
      },
      "source": [
        "# PatrimonyL = float(input('Good Morning to our House Loan\\'s Bank!\\n Which the value of property that wants to adquire: '))\n",
        "# Wage = float(input('What is your wage: '))\n",
        "# T_Age = float(input('How much time lasts bank loan, in years: '))\n",
        "\n",
        "# MonthPay = PatrimonyL/(T_Age * 12)\n",
        "\n",
        "# print('The mensal value to pay the house is: ', MonthPay)\n",
        "\n",
        "# if MonthPay > 0.30 * Wage:\n",
        "#   print(\"Empréstimo negado\")\n",
        "# else:\n",
        "#   print(\"Aceite!!\")\n"
      ],
      "execution_count": null,
      "outputs": []
    },
    {
      "cell_type": "markdown",
      "metadata": {
        "id": "bciltV4YshS-"
      },
      "source": [
        "**Desafio 37**"
      ]
    },
    {
      "cell_type": "markdown",
      "metadata": {
        "id": "jQ_sZgJHsPU8"
      },
      "source": [
        "Escreva um programa que leia um número inteiro qualquer e peça para o usuário escolher qual será a **base de conversão**\n",
        "\n",
        "\n",
        "*   1 para binário\n",
        "*   2 para octal\n",
        "*   3 para hexadecimal\n",
        "\n"
      ]
    },
    {
      "cell_type": "code",
      "metadata": {
        "id": "AlFBgd6ls7UO"
      },
      "source": [
        "# num = int(input('Insira o valor decimal: '))\n",
        "# b2 = bin(num)\n",
        "# o8 = oct(num)\n",
        "# Ox = hex(num)\n",
        "\n",
        "# base = str(input('Qual será a base de conversão?\\n O <- octal\\n H <- hexadecimal\\n B or other thing <- binary '))\n",
        "# if base.upper() == 'O':\n",
        "#   print(o8)\n",
        "# elif base.upper() == 'H':\n",
        "#   print(Ox)\n",
        "# else:\n",
        "#   print(b2)"
      ],
      "execution_count": null,
      "outputs": []
    },
    {
      "cell_type": "code",
      "metadata": {
        "id": "HQ_9BUdcQtrn"
      },
      "source": [
        "# def converte2(a,b): #a = bq + r\n",
        "#   novabase = \"\" #resto ou r_string\n",
        "#   r = 0\n",
        "#   while a>0: #r<a: #r > 0: ...n//b!\n",
        "#     q = a // b\n",
        "#     r = a - (q*b)\n",
        "#     #r = a % b\n",
        "#     a = q \n",
        "\n",
        "#     print(r,'\\n')\n",
        "#     #novabase=str(r)\n",
        "#     novabase += str(r)\n",
        "#   novabase = novabase[::-1]\n",
        "#   #novabase[::-1]\n",
        "#   #print('\\n',novabase[::-1])\n",
        "#   return novabase"
      ],
      "execution_count": null,
      "outputs": []
    },
    {
      "cell_type": "code",
      "source": [
        "# def converte(n,b): #n = bq + r\n",
        "#   # 10b10 = 1010b2  10/2 r1 5/2 r1 2/2 r0 0/2 r0\n",
        "#   r_string = \"\"\n",
        "#   while n//b > 0:\n",
        "#     r = n%b\n",
        "#     a = n//b\n",
        "#     print(r,'\\n')\n",
        "#     r_string += str(r)\n",
        "#   r_string[::-1]\n",
        "#   print('')  NO\n",
        "    \n",
        "\n",
        "    \n"
      ],
      "metadata": {
        "id": "m61tfNXS1dGB"
      },
      "execution_count": null,
      "outputs": []
    },
    {
      "cell_type": "code",
      "metadata": {
        "id": "tNa8bDFIrrgf"
      },
      "source": [
        "# converte2(12,2)"
      ],
      "execution_count": null,
      "outputs": []
    },
    {
      "cell_type": "code",
      "source": [
        "# converte2(12, 8)"
      ],
      "metadata": {
        "id": "FdcHStnN86LU"
      },
      "execution_count": null,
      "outputs": []
    },
    {
      "cell_type": "code",
      "source": [
        "# Solution\n",
        "def dec_to_base(num,base): # Maximum base - 36\n",
        "  base_num = \"\"\n",
        "  while num>0:\n",
        "    dig = int(num%base) # porque este int? \n",
        "    if dig<10:\n",
        "      base_num += str(dig)\n",
        "    else:\n",
        "      base_num += chr(ord('A')+dig-10) # Using uppercase Letters\n",
        "    num //= base\n",
        "\n",
        "  base_num = base_num[::-1] #To reverse the string\n",
        "  return base_num"
      ],
      "metadata": {
        "id": "vuDXQHyAEc8e"
      },
      "execution_count": null,
      "outputs": []
    },
    {
      "cell_type": "code",
      "source": [
        "int(\"12\",8)"
      ],
      "metadata": {
        "colab": {
          "base_uri": "https://localhost:8080/"
        },
        "id": "dQtoNDQAVTp9",
        "outputId": "46bcd678-d9a7-4f55-83d9-5fc6c4025a62"
      },
      "execution_count": null,
      "outputs": [
        {
          "output_type": "execute_result",
          "data": {
            "text/plain": [
              "10"
            ]
          },
          "metadata": {},
          "execution_count": 11
        }
      ]
    },
    {
      "cell_type": "code",
      "source": [
        "ord('a')"
      ],
      "metadata": {
        "colab": {
          "base_uri": "https://localhost:8080/"
        },
        "id": "J5Uf7sB5RULc",
        "outputId": "71c3e5cc-99c7-4011-ba15-8ab56016247e"
      },
      "execution_count": null,
      "outputs": [
        {
          "output_type": "execute_result",
          "data": {
            "text/plain": [
              "97"
            ]
          },
          "metadata": {},
          "execution_count": 12
        }
      ]
    },
    {
      "cell_type": "code",
      "source": [
        "ord('A')"
      ],
      "metadata": {
        "colab": {
          "base_uri": "https://localhost:8080/"
        },
        "id": "EIVaJTaDTMPI",
        "outputId": "b7590ce5-ebf7-4607-a1b3-6fd11cc2a100"
      },
      "execution_count": null,
      "outputs": [
        {
          "output_type": "execute_result",
          "data": {
            "text/plain": [
              "65"
            ]
          },
          "metadata": {},
          "execution_count": 13
        }
      ]
    },
    {
      "cell_type": "code",
      "source": [
        "chr(94)+chr(93)+chr(92)+chr(91)+chr(90)"
      ],
      "metadata": {
        "colab": {
          "base_uri": "https://localhost:8080/",
          "height": 35
        },
        "id": "AvFrhOLNTNg_",
        "outputId": "8efcf562-6b61-4b33-83b1-233dd78f86b3"
      },
      "execution_count": null,
      "outputs": [
        {
          "output_type": "execute_result",
          "data": {
            "application/vnd.google.colaboratory.intrinsic+json": {
              "type": "string"
            },
            "text/plain": [
              "'^]\\\\[Z'"
            ]
          },
          "metadata": {},
          "execution_count": 14
        }
      ]
    },
    {
      "cell_type": "code",
      "source": [
        "# Any Base to Decimal\n",
        "\n",
        "print(int(\"12\",3))\n",
        "print(int(\"12\",8))\n",
        "print(int(\"12\",10))\n",
        "print(int(\"12\",16))\n",
        "\n",
        "#chr(16)"
      ],
      "metadata": {
        "colab": {
          "base_uri": "https://localhost:8080/"
        },
        "id": "_YDKVYGdVbF7",
        "outputId": "7ddbfe72-fb31-4189-a09e-0e4111dee222"
      },
      "execution_count": null,
      "outputs": [
        {
          "output_type": "stream",
          "name": "stdout",
          "text": [
            "5\n",
            "10\n",
            "12\n",
            "18\n"
          ]
        }
      ]
    },
    {
      "cell_type": "code",
      "source": [
        "username = input(\"Choose a username: \")  # Canita Broa\n",
        "final_username = username.replace(\"r\", \"_\")\n",
        "\n",
        "print(\"Your username is: \" + final_username) "
      ],
      "metadata": {
        "colab": {
          "base_uri": "https://localhost:8080/"
        },
        "id": "FIvNXYlmkQOP",
        "outputId": "27d52ce5-a4a7-4ae4-b672-343e2f19e50c"
      },
      "execution_count": null,
      "outputs": [
        {
          "output_type": "stream",
          "name": "stdout",
          "text": [
            "Choose a username: curral\n",
            "Your username is: cu__al\n"
          ]
        }
      ]
    },
    {
      "cell_type": "code",
      "source": [
        "for element in final_username: #string_name:\n",
        "  print(element, end=' ')\n",
        "print(\"\\n\")"
      ],
      "metadata": {
        "colab": {
          "base_uri": "https://localhost:8080/"
        },
        "id": "f2FBkp2hlqUT",
        "outputId": "9575e224-12d4-4954-b3d2-097ffe48789c"
      },
      "execution_count": null,
      "outputs": [
        {
          "output_type": "stream",
          "name": "stdout",
          "text": [
            "c u _ _ a l \n",
            "\n"
          ]
        }
      ]
    },
    {
      "cell_type": "code",
      "source": [
        "def base_to_dec(num_str, base):\n",
        " base_num = 0\n",
        " power = 0           # declaration and initialization\n",
        " for column in num_str[::-1]: # d\n",
        "   print(column)\n",
        "   base_num += int(column) * pow(base, power)  # c = a + b \n",
        "   power += 1 # e\n",
        " print(base_num)\n",
        " #falta a potência!!! Incorporar, dessa forma em vez 12*8 = 96\n",
        "# We have:"
      ],
      "metadata": {
        "id": "tTrnrxV9TgbM"
      },
      "execution_count": null,
      "outputs": []
    },
    {
      "cell_type": "code",
      "source": [
        "num_str = \"147\"\n",
        "num_str[::-1]"
      ],
      "metadata": {
        "colab": {
          "base_uri": "https://localhost:8080/",
          "height": 35
        },
        "id": "2tWvCkng6pXK",
        "outputId": "ebb4e879-c4b0-4725-b97d-66497440c944"
      },
      "execution_count": null,
      "outputs": [
        {
          "output_type": "execute_result",
          "data": {
            "application/vnd.google.colaboratory.intrinsic+json": {
              "type": "string"
            },
            "text/plain": [
              "'741'"
            ]
          },
          "metadata": {},
          "execution_count": 19
        }
      ]
    },
    {
      "cell_type": "code",
      "source": [
        "base_to_dec(\"147\",8)"
      ],
      "metadata": {
        "colab": {
          "base_uri": "https://localhost:8080/"
        },
        "id": "m6iKJMP78RuQ",
        "outputId": "b2c2c3e0-07ac-44f3-9bd1-9c898cd3bcd1"
      },
      "execution_count": null,
      "outputs": [
        {
          "output_type": "stream",
          "name": "stdout",
          "text": [
            "7\n",
            "4\n",
            "1\n",
            "103\n"
          ]
        }
      ]
    },
    {
      "cell_type": "code",
      "source": [
        "base_to_dec(\"147\",8)"
      ],
      "metadata": {
        "colab": {
          "base_uri": "https://localhost:8080/"
        },
        "id": "SxIaCQ7jkUau",
        "outputId": "5d8794c9-0371-40a6-9153-65c865360f01"
      },
      "execution_count": null,
      "outputs": [
        {
          "output_type": "stream",
          "name": "stdout",
          "text": [
            "7\n",
            "4\n",
            "1\n",
            "103\n"
          ]
        }
      ]
    },
    {
      "cell_type": "code",
      "source": [
        "print(pow(8,3))\n",
        "7*64 # valores muito próximos, logicamente... pois base = 8 , 7 imediamente antes!"
      ],
      "metadata": {
        "colab": {
          "base_uri": "https://localhost:8080/"
        },
        "id": "Kb0aECnK3jI1",
        "outputId": "6a9b0aab-c1ea-4258-9bf0-14fa05279e6a"
      },
      "execution_count": null,
      "outputs": [
        {
          "output_type": "stream",
          "name": "stdout",
          "text": [
            "512\n"
          ]
        },
        {
          "output_type": "execute_result",
          "data": {
            "text/plain": [
              "448"
            ]
          },
          "metadata": {},
          "execution_count": 22
        }
      ]
    },
    {
      "cell_type": "code",
      "source": [
        "base_to_dec(\"147\",8)"
      ],
      "metadata": {
        "colab": {
          "base_uri": "https://localhost:8080/"
        },
        "id": "zxAYslCoXxwI",
        "outputId": "58152ac5-b662-4536-8fb6-0adadc16f41d"
      },
      "execution_count": null,
      "outputs": [
        {
          "output_type": "stream",
          "name": "stdout",
          "text": [
            "7\n",
            "4\n",
            "1\n",
            "103\n"
          ]
        }
      ]
    },
    {
      "cell_type": "code",
      "source": [
        "pow(4,4)"
      ],
      "metadata": {
        "colab": {
          "base_uri": "https://localhost:8080/"
        },
        "id": "Ji_Z5aZjMr9b",
        "outputId": "0d4d6ea5-ec67-4982-afd1-ae1b2a3ad023"
      },
      "execution_count": null,
      "outputs": [
        {
          "output_type": "execute_result",
          "data": {
            "text/plain": [
              "256"
            ]
          },
          "metadata": {},
          "execution_count": 24
        }
      ]
    },
    {
      "cell_type": "code",
      "source": [
        "pow(4,4,8)"
      ],
      "metadata": {
        "colab": {
          "base_uri": "https://localhost:8080/"
        },
        "id": "4lIZYwboIX2i",
        "outputId": "74e37868-3392-43ce-d820-771ca38216fe"
      },
      "execution_count": null,
      "outputs": [
        {
          "output_type": "execute_result",
          "data": {
            "text/plain": [
              "0"
            ]
          },
          "metadata": {},
          "execution_count": 25
        }
      ]
    },
    {
      "cell_type": "code",
      "source": [
        "pow(4,4,12)"
      ],
      "metadata": {
        "colab": {
          "base_uri": "https://localhost:8080/"
        },
        "id": "FMgNcxe1JB_Z",
        "outputId": "94fdc52e-c4bf-4725-f9a8-28c1d42382f8"
      },
      "execution_count": null,
      "outputs": [
        {
          "output_type": "execute_result",
          "data": {
            "text/plain": [
              "4"
            ]
          },
          "metadata": {},
          "execution_count": 26
        }
      ]
    },
    {
      "cell_type": "code",
      "source": [
        "# a,b,c = 100\n",
        "# print(c)  .> cannot unpack non-iterable int object\n",
        "\n",
        "a,b,c = 1,2,3\n",
        "print(a,b,c)"
      ],
      "metadata": {
        "colab": {
          "base_uri": "https://localhost:8080/"
        },
        "id": "YQCqnQYnJIex",
        "outputId": "bf3a2d99-351f-4028-ecd7-5dabd1cfb39b"
      },
      "execution_count": null,
      "outputs": [
        {
          "output_type": "stream",
          "name": "stdout",
          "text": [
            "1 2 3\n"
          ]
        }
      ]
    },
    {
      "cell_type": "code",
      "source": [
        "def baseToDec(num_str, base): # suporta até base de valor 36 \n",
        "  num_str = num_str[::-1]\n",
        "  num = 0\n",
        "  for k in range(len(num_str)):\n",
        "    dig = num_str[k]\n",
        "    if dig.isdigit():\n",
        "      dig = int(dig)\n",
        "    else:  # Assuming its either number or alphabet only\n",
        "      dig = ord(dig.upper())-ord('A')+10\n",
        "    num += dig*(base**k)\n",
        "  return num"
      ],
      "metadata": {
        "id": "0jhGYQhjbbVf"
      },
      "execution_count": null,
      "outputs": []
    },
    {
      "cell_type": "code",
      "source": [
        "baseToDec(\"147\",8)"
      ],
      "metadata": {
        "colab": {
          "base_uri": "https://localhost:8080/"
        },
        "id": "rlLc6braV0oP",
        "outputId": "2240c71f-9089-48a8-b5f4-e20d11069534"
      },
      "execution_count": null,
      "outputs": [
        {
          "output_type": "execute_result",
          "data": {
            "text/plain": [
              "103"
            ]
          },
          "metadata": {},
          "execution_count": 29
        }
      ]
    },
    {
      "cell_type": "code",
      "source": [
        "tries = 5\n",
        "time = \"0\"\n",
        "names = \"\"\n",
        "while time:\n",
        "  tries -= 1\n",
        "  name = input('Digite seu nome: ')\n",
        "  if name == 'name':\n",
        "    break\n",
        "  names += name\n",
        "print(names)"
      ],
      "metadata": {
        "colab": {
          "base_uri": "https://localhost:8080/"
        },
        "id": "856ZTcLdV737",
        "outputId": "8ea375e0-4f07-4615-87c1-0f89a43e7d06"
      },
      "execution_count": null,
      "outputs": [
        {
          "output_type": "stream",
          "name": "stdout",
          "text": [
            "Digite seu nome: Manuel\n",
            "Digite seu nome: guilherme\n",
            "Digite seu nome: name\n",
            "Manuelguilherme\n"
          ]
        }
      ]
    },
    {
      "cell_type": "markdown",
      "source": [
        "**Desafio 038**\n",
        "\n",
        "Escreva um programa que leia dois números inteiros e compare-os, mostrando na tela uma mensagem:\n",
        "\n",
        "- O primeiro valor é maior\n",
        "- O segundo valor é maior \n",
        "- Não existe valor maior, os dois são iguais"
      ],
      "metadata": {
        "id": "XFQINJzGmX5R"
      }
    },
    {
      "cell_type": "code",
      "source": [
        "n1 = input('Digite o 1º: ')\n",
        "n2 = input('Digite o 2º: ')\n",
        "if n1 > n2:\n",
        "  print('O primeiro valor é maior.')\n",
        "elif n1 == n2:\n",
        "  print('\\nR: Não existe valor maior, os dois são iguais.')\n",
        "else:\n",
        "  print('\\nR: O segundo valor é maior')"
      ],
      "metadata": {
        "colab": {
          "base_uri": "https://localhost:8080/"
        },
        "id": "JxanOfckv5JE",
        "outputId": "157ed3cb-f473-4062-c929-020a9c31eda0"
      },
      "execution_count": null,
      "outputs": [
        {
          "output_type": "stream",
          "name": "stdout",
          "text": [
            "Digite o 1º: 43\n",
            "Digite o 2º: 43\n",
            "\n",
            "R: Não existe valor maior, os dois são iguais.\n"
          ]
        }
      ]
    },
    {
      "cell_type": "markdown",
      "source": [
        "**Desafio 039**\n",
        "\n",
        "Faça um programa que leia o ano de nascimento de um jovem e informe, de acordo com sua idade:\n",
        "\n",
        "- Se ele ainda vai se alistar ao serviço militar.\n",
        "- Se é na hora de se alistar.\n",
        "- Se já passou do tempo de alistamento.\n",
        "\n",
        "Seu programa também deverá mostrar o tempo que falta ou que passou de prazo"
      ],
      "metadata": {
        "id": "OFK80PEho8i0"
      }
    },
    {
      "cell_type": "code",
      "source": [
        "from datetime import date\n",
        "\n",
        "year = date.today().year\n",
        "#print(data_atual)\n",
        "bornYear = int(input('Say your born year: '))\n",
        "\n",
        "MILITARYAGE = 18 \n",
        "age = year-bornYear\n",
        "\n",
        "militaryTime = age - MILITARYAGE\n",
        "\n",
        "if militaryTime > 0:\n",
        "  print('Already passed ',militaryTime, ' year(s) since military register' )\n",
        "elif militaryTime == 0:\n",
        "  print('Military register is in this year')\n",
        "else:\n",
        "  print(abs(militaryTime), 'year(s) to you have military service register day.')"
      ],
      "metadata": {
        "id": "wMeG0zd_vBfZ",
        "outputId": "c05df487-363c-4975-cbce-000ba9430e32",
        "colab": {
          "base_uri": "https://localhost:8080/"
        }
      },
      "execution_count": null,
      "outputs": [
        {
          "output_type": "stream",
          "name": "stdout",
          "text": [
            "Say your born year: 2004\n",
            "Military register is in this year\n"
          ]
        }
      ]
    },
    {
      "cell_type": "code",
      "source": [
        "data_em_texto = '{}/{}/{}'.format(data_atual.day, data_atual.month, data_atual.year)"
      ],
      "metadata": {
        "id": "BILrrQCevaac"
      },
      "execution_count": null,
      "outputs": []
    },
    {
      "cell_type": "code",
      "source": [
        "data_em_texto"
      ],
      "metadata": {
        "id": "1mlxPyrYIJ4H",
        "outputId": "416ad188-e563-4b34-d720-313c859c088d",
        "colab": {
          "base_uri": "https://localhost:8080/",
          "height": 35
        }
      },
      "execution_count": null,
      "outputs": [
        {
          "output_type": "execute_result",
          "data": {
            "application/vnd.google.colaboratory.intrinsic+json": {
              "type": "string"
            },
            "text/plain": [
              "'31/1/2022'"
            ]
          },
          "metadata": {},
          "execution_count": 34
        }
      ]
    },
    {
      "cell_type": "code",
      "source": [
        "import datetime"
      ],
      "metadata": {
        "id": "oHUNq3hb1EJK"
      },
      "execution_count": null,
      "outputs": []
    },
    {
      "cell_type": "code",
      "source": [
        "data_e_hora_atuais = datetime.datetime.now() # truque\n",
        "data_e_hora_em_texto = data_e_hora_atuais.strftime('%d/%m/%Y')\n",
        "\n",
        "print(data_e_hora_em_texto)"
      ],
      "metadata": {
        "id": "14ogZQ2UIyEH",
        "outputId": "d0dcf3d7-9ad8-41e8-a14f-d9c4e8f5408b",
        "colab": {
          "base_uri": "https://localhost:8080/"
        }
      },
      "execution_count": null,
      "outputs": [
        {
          "output_type": "stream",
          "name": "stdout",
          "text": [
            "31/01/2022\n"
          ]
        }
      ]
    },
    {
      "cell_type": "code",
      "source": [
        "data_e_hora_em_texto = data_e_hora_atuais.strftime('%d/%m/%Y %H:%M')\n",
        "\n",
        "print(data_e_hora_em_texto)"
      ],
      "metadata": {
        "id": "ZHWvvscPQxpR",
        "outputId": "8cb3bcdb-cac1-4d86-845d-098061f3d399",
        "colab": {
          "base_uri": "https://localhost:8080/"
        }
      },
      "execution_count": null,
      "outputs": [
        {
          "output_type": "stream",
          "name": "stdout",
          "text": [
            "31/01/2022 11:10\n"
          ]
        }
      ]
    },
    {
      "cell_type": "code",
      "source": [
        "from datetime import datetime\n",
        "\n",
        "data_e_hora_em_texto = '17/07/2030 14:61'\n",
        "#data_e_hora = datetime.strptime(data_em_texto, '%d/%m/%Y %H:%M')\n",
        "data_e_hora = datetime.strptime(data_e_hora_em_texto, '%d/%m/%Y %H:%M')\n"
      ],
      "metadata": {
        "id": "O79bfk0pc4A4",
        "outputId": "d805c815-70f2-4f7c-a836-603c06a7073a",
        "colab": {
          "base_uri": "https://localhost:8080/",
          "height": 345
        }
      },
      "execution_count": null,
      "outputs": [
        {
          "output_type": "error",
          "ename": "ValueError",
          "evalue": "ignored",
          "traceback": [
            "\u001b[0;31m---------------------------------------------------------------------------\u001b[0m",
            "\u001b[0;31mValueError\u001b[0m                                Traceback (most recent call last)",
            "\u001b[0;32m<ipython-input-44-c6cb7987fd40>\u001b[0m in \u001b[0;36m<module>\u001b[0;34m()\u001b[0m\n\u001b[1;32m      3\u001b[0m \u001b[0mdata_e_hora_em_texto\u001b[0m \u001b[0;34m=\u001b[0m \u001b[0;34m'17/07/2030 14:61'\u001b[0m\u001b[0;34m\u001b[0m\u001b[0;34m\u001b[0m\u001b[0m\n\u001b[1;32m      4\u001b[0m \u001b[0;31m#data_e_hora = datetime.strptime(data_em_texto, '%d/%m/%Y %H:%M')\u001b[0m\u001b[0;34m\u001b[0m\u001b[0;34m\u001b[0m\u001b[0;34m\u001b[0m\u001b[0m\n\u001b[0;32m----> 5\u001b[0;31m \u001b[0mdata_e_hora\u001b[0m \u001b[0;34m=\u001b[0m \u001b[0mdatetime\u001b[0m\u001b[0;34m.\u001b[0m\u001b[0mstrptime\u001b[0m\u001b[0;34m(\u001b[0m\u001b[0mdata_e_hora_em_texto\u001b[0m\u001b[0;34m,\u001b[0m \u001b[0;34m'%d/%m/%Y %H:%M'\u001b[0m\u001b[0;34m)\u001b[0m\u001b[0;34m\u001b[0m\u001b[0;34m\u001b[0m\u001b[0m\n\u001b[0m",
            "\u001b[0;32m/usr/lib/python3.7/_strptime.py\u001b[0m in \u001b[0;36m_strptime_datetime\u001b[0;34m(cls, data_string, format)\u001b[0m\n\u001b[1;32m    575\u001b[0m     \"\"\"Return a class cls instance based on the input string and the\n\u001b[1;32m    576\u001b[0m     format string.\"\"\"\n\u001b[0;32m--> 577\u001b[0;31m     \u001b[0mtt\u001b[0m\u001b[0;34m,\u001b[0m \u001b[0mfraction\u001b[0m\u001b[0;34m,\u001b[0m \u001b[0mgmtoff_fraction\u001b[0m \u001b[0;34m=\u001b[0m \u001b[0m_strptime\u001b[0m\u001b[0;34m(\u001b[0m\u001b[0mdata_string\u001b[0m\u001b[0;34m,\u001b[0m \u001b[0mformat\u001b[0m\u001b[0;34m)\u001b[0m\u001b[0;34m\u001b[0m\u001b[0;34m\u001b[0m\u001b[0m\n\u001b[0m\u001b[1;32m    578\u001b[0m     \u001b[0mtzname\u001b[0m\u001b[0;34m,\u001b[0m \u001b[0mgmtoff\u001b[0m \u001b[0;34m=\u001b[0m \u001b[0mtt\u001b[0m\u001b[0;34m[\u001b[0m\u001b[0;34m-\u001b[0m\u001b[0;36m2\u001b[0m\u001b[0;34m:\u001b[0m\u001b[0;34m]\u001b[0m\u001b[0;34m\u001b[0m\u001b[0;34m\u001b[0m\u001b[0m\n\u001b[1;32m    579\u001b[0m     \u001b[0margs\u001b[0m \u001b[0;34m=\u001b[0m \u001b[0mtt\u001b[0m\u001b[0;34m[\u001b[0m\u001b[0;34m:\u001b[0m\u001b[0;36m6\u001b[0m\u001b[0;34m]\u001b[0m \u001b[0;34m+\u001b[0m \u001b[0;34m(\u001b[0m\u001b[0mfraction\u001b[0m\u001b[0;34m,\u001b[0m\u001b[0;34m)\u001b[0m\u001b[0;34m\u001b[0m\u001b[0;34m\u001b[0m\u001b[0m\n",
            "\u001b[0;32m/usr/lib/python3.7/_strptime.py\u001b[0m in \u001b[0;36m_strptime\u001b[0;34m(data_string, format)\u001b[0m\n\u001b[1;32m    360\u001b[0m     \u001b[0;32mif\u001b[0m \u001b[0mlen\u001b[0m\u001b[0;34m(\u001b[0m\u001b[0mdata_string\u001b[0m\u001b[0;34m)\u001b[0m \u001b[0;34m!=\u001b[0m \u001b[0mfound\u001b[0m\u001b[0;34m.\u001b[0m\u001b[0mend\u001b[0m\u001b[0;34m(\u001b[0m\u001b[0;34m)\u001b[0m\u001b[0;34m:\u001b[0m\u001b[0;34m\u001b[0m\u001b[0;34m\u001b[0m\u001b[0m\n\u001b[1;32m    361\u001b[0m         raise ValueError(\"unconverted data remains: %s\" %\n\u001b[0;32m--> 362\u001b[0;31m                           data_string[found.end():])\n\u001b[0m\u001b[1;32m    363\u001b[0m \u001b[0;34m\u001b[0m\u001b[0m\n\u001b[1;32m    364\u001b[0m     \u001b[0miso_year\u001b[0m \u001b[0;34m=\u001b[0m \u001b[0myear\u001b[0m \u001b[0;34m=\u001b[0m \u001b[0;32mNone\u001b[0m\u001b[0;34m\u001b[0m\u001b[0;34m\u001b[0m\u001b[0m\n",
            "\u001b[0;31mValueError\u001b[0m: unconverted data remains: 1"
          ]
        }
      ]
    },
    {
      "cell_type": "code",
      "source": [
        "print(data_e_hora)"
      ],
      "metadata": {
        "id": "IOe3mgvu0Mw5",
        "outputId": "955de900-37fe-4624-cb45-81f23554c9e2",
        "colab": {
          "base_uri": "https://localhost:8080/"
        }
      },
      "execution_count": null,
      "outputs": [
        {
          "output_type": "stream",
          "name": "stdout",
          "text": [
            "2030-07-17 14:37:00\n"
          ]
        }
      ]
    },
    {
      "cell_type": "markdown",
      "source": [
        "**Desafio 40**\n",
        "\n",
        "Crie um programa que leia duas notas de um aluno e calcule sua média, mostrando uma mensagem no final, de acordo com a média atingida:\n",
        "- Média abaixo de 5.0:  REPROVADO\n",
        "\n",
        "- Média entre 5.0 e 6.9: RECUPERAÇÃO\n",
        "\n",
        "- Média 7.0 ou superior: APROVADO\n"
      ],
      "metadata": {
        "id": "9tbkKTHOWLRI"
      }
    },
    {
      "cell_type": "code",
      "source": [
        "grade1 = float(input('Tell your first grade: '))\n",
        "grade2 = float(input('Tell me your second grade: '))\n",
        "\n",
        "avg = round((grade1+grade2)/2,1) # se 6.0 e 3.9 dá RECUPERAÇÃO\n",
        "\n",
        "if avg < 5.0:\n",
        "  print('REPROVADO')\n",
        "elif avg < 7.0: \n",
        "  print('RECUPERAÇÃO')\n",
        "else:\n",
        "  print('APROVADO')\n",
        "  "
      ],
      "metadata": {
        "id": "KH-vjpkm2W_U",
        "colab": {
          "base_uri": "https://localhost:8080/"
        },
        "outputId": "08ddf53e-729d-4a98-a79c-a3c855a3b9ef"
      },
      "execution_count": 5,
      "outputs": [
        {
          "output_type": "stream",
          "name": "stdout",
          "text": [
            "Tell your first grade: 5.9\n",
            "Tell me your second grade: 3.99999\n",
            "REPROVADO\n"
          ]
        }
      ]
    },
    {
      "cell_type": "markdown",
      "source": [
        "**Desafio 41**\n",
        "\n",
        "A Confederação Nacional de Natação precisa de um programa que leia o ano de nascimento de um atleta e mostre sua categoria, de acordo com a idade:\n",
        "\n",
        "- Até 9 anos: MIRIM\n",
        "- Até 14 anos: INFANTIL\n",
        "- Até 19 anos: JUNIOR\n",
        "- Até 30 anos: SÊNIOR\n",
        "- Acima: MASTER"
      ],
      "metadata": {
        "id": "IyrGuH7pcwhc"
      }
    },
    {
      "cell_type": "code",
      "source": [
        "bornYear = int(input('Athlete, say your born year: '))\n",
        "\n",
        "if bornYear <= 9:\n",
        "  print('MIRIM')\n",
        "elif bornYear <= 14:\n",
        "  print('INFANTIL')\n",
        "elif bornYear <= 19:\n",
        "  print('JUNIOR')\n",
        "elif bornYear <= 30:\n",
        "  print('SÊNIOR')\n",
        "else:\n",
        "  print('MASTER')"
      ],
      "metadata": {
        "colab": {
          "base_uri": "https://localhost:8080/"
        },
        "id": "PCgSqjN2cwC1",
        "outputId": "823a0668-fb90-472d-caa8-eab89ae3d578"
      },
      "execution_count": 1,
      "outputs": [
        {
          "output_type": "stream",
          "name": "stdout",
          "text": [
            "Athlete, say your born year: 54\n",
            "MASTER\n"
          ]
        }
      ]
    },
    {
      "cell_type": "markdown",
      "source": [
        "**DESAFIO 42**\n",
        "\n",
        "Refaça o Desafio 35 dos triângulos, acrescentando o recurso de mostrar que tipo de triângulo será formado:\n",
        "\n",
        "* **Equilátero**: todos os lados iguais\n",
        "* **Isósceles**: dois lados iguais\n",
        "* **Escaleno**: todos os lados diferentes"
      ],
      "metadata": {
        "id": "JJkkW_UwKs3U"
      }
    },
    {
      "cell_type": "code",
      "source": [
        "def triangletype(s1,s2,s3):\n",
        "  if s1 == s2 and s2 == s3:\n",
        "    print('Equilateral')\n",
        "  elif s1 == s2 or s1 == s3 or s2 == s3:\n",
        "    print('Isosceles')\n",
        "  else:\n",
        "    print('Scalene')"
      ],
      "metadata": {
        "id": "zgSaZEIRbJdh"
      },
      "execution_count": 2,
      "outputs": []
    },
    {
      "cell_type": "code",
      "source": [
        "triangletype(2,3,4)"
      ],
      "metadata": {
        "id": "BMAscIlaQ6-M",
        "outputId": "f524496e-7585-492b-e4bf-e25e8f00b778",
        "colab": {
          "base_uri": "https://localhost:8080/"
        }
      },
      "execution_count": 10,
      "outputs": [
        {
          "output_type": "stream",
          "name": "stdout",
          "text": [
            "Scalene\n"
          ]
        }
      ]
    },
    {
      "cell_type": "code",
      "source": [
        "def triangletype2(s1,s2,s3):\n",
        "  if s1 == s2:\n",
        "    if s1 == s3:\n",
        "      print('Equilateral')\n",
        "    else: print('Isosceles')\n",
        "  elif s1 == s3 or s2 == s3:\n",
        "    print('Isosceles')\n",
        "  else: print('Scalene') "
      ],
      "metadata": {
        "id": "K4nkBCjdQ_cP"
      },
      "execution_count": 7,
      "outputs": []
    },
    {
      "cell_type": "code",
      "source": [
        "triangletype2(4,2,5)"
      ],
      "metadata": {
        "id": "J6mqhKGuU0ec",
        "outputId": "f3b771e5-d4f7-4b2f-aae5-75e1309c69f8",
        "colab": {
          "base_uri": "https://localhost:8080/"
        }
      },
      "execution_count": 8,
      "outputs": [
        {
          "output_type": "stream",
          "name": "stdout",
          "text": [
            "Scalene\n"
          ]
        }
      ]
    },
    {
      "cell_type": "code",
      "source": [
        "triangletype2(3,3,5)"
      ],
      "metadata": {
        "id": "sP_Gq17MU7dp",
        "outputId": "86a60e9b-7f3f-4401-d6c9-443b5d12b01a",
        "colab": {
          "base_uri": "https://localhost:8080/"
        }
      },
      "execution_count": 9,
      "outputs": [
        {
          "output_type": "stream",
          "name": "stdout",
          "text": [
            "Isosceles\n"
          ]
        }
      ]
    },
    {
      "cell_type": "code",
      "source": [
        ""
      ],
      "metadata": {
        "id": "Q12xiFNoU_qC"
      },
      "execution_count": null,
      "outputs": []
    }
  ]
}