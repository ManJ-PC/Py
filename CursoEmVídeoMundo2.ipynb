{
  "nbformat": 4,
  "nbformat_minor": 0,
  "metadata": {
    "colab": {
      "name": "CursoEmVídeoMundo2.ipynb",
      "provenance": [],
      "collapsed_sections": [],
      "authorship_tag": "ABX9TyO3sH7wTg5Iv+YNxJGuL6VZ",
      "include_colab_link": true
    },
    "kernelspec": {
      "name": "python3",
      "display_name": "Python 3"
    },
    "language_info": {
      "name": "python"
    }
  },
  "cells": [
    {
      "cell_type": "markdown",
      "metadata": {
        "id": "view-in-github",
        "colab_type": "text"
      },
      "source": [
        "<a href=\"https://colab.research.google.com/github/ManJ-PC/Py/blob/master/CursoEmV%C3%ADdeoMundo2.ipynb\" target=\"_parent\"><img src=\"https://colab.research.google.com/assets/colab-badge.svg\" alt=\"Open In Colab\"/></a>"
      ]
    },
    {
      "cell_type": "code",
      "metadata": {
        "id": "pVfzmcRw45Gr"
      },
      "source": [
        "# if carro.esquerda():\n",
        "#   bloco 1\n",
        "# elif carro.direita():\n",
        "#   bloco 2\n",
        "# elif carro.ré():\n",
        "#   bloco 3\n",
        "# else:\n",
        "#   bloco 4"
      ],
      "execution_count": 3,
      "outputs": []
    },
    {
      "cell_type": "code",
      "metadata": {
        "id": "9_toTlIs6vK4",
        "colab": {
          "base_uri": "https://localhost:8080/"
        },
        "outputId": "640e055d-3ec0-439b-90f6-2d9a019f3455"
      },
      "source": [
        "nome = str(input('Qual é o seu nome? '))\n",
        "if nome == 'Gustavo':\n",
        "  print('Que nome bonito!')\n",
        "elif nome in 'Ana Claúdia Jéssica Juliana':\n",
        "  print('Belo nome feminino')\n",
        "else:\n",
        "  print('Seu nome é bem normal.')\n",
        "print('Tenha um bom dia, {}!'.format(nome))"
      ],
      "execution_count": 4,
      "outputs": [
        {
          "output_type": "stream",
          "name": "stdout",
          "text": [
            "Qual é o seu nome? tu\n",
            "Seu nome é bem normal.\n",
            "Tenha um bom dia, tu!\n"
          ]
        }
      ]
    },
    {
      "cell_type": "code",
      "metadata": {
        "id": "Hewv9NXhMb4_"
      },
      "source": [
        ""
      ],
      "execution_count": 4,
      "outputs": []
    },
    {
      "cell_type": "markdown",
      "metadata": {
        "id": "qJ0AHY-3MaMu"
      },
      "source": [
        "**Desafio  036**\n",
        "\n",
        "Escreva um programa para aprovar o empréstimo bancário para a compra de uma casa. O Programa vai perguntar o valor da casa, o salário do comprador e em quantos anos ele vai pagar.\n",
        "\n",
        "Calcule o valor da prestação mensal, sabendo que ela não pode exceder 30% do salário ou então o empréstimo será negado."
      ]
    },
    {
      "cell_type": "code",
      "metadata": {
        "id": "Ad1DFIn_LN_h",
        "colab": {
          "base_uri": "https://localhost:8080/"
        },
        "outputId": "d323bce5-a59e-48f3-fd9a-60e2553047c6"
      },
      "source": [
        "PatrimonyL = float(input('Good Morning to our House Loan\\'s Bank!\\n Which the value of property that wants to adquire: '))\n",
        "Wage = float(input('What is your wage: '))\n",
        "T_Age = float(input('How much time lasts bank loan, in years: '))\n",
        "\n",
        "MonthPay = PatrimonyL/(T_Age * 12)\n",
        "\n",
        "print('The mensal value to pay the house is: ', MonthPay)\n",
        "\n",
        "if MonthPay > 0.30 * Wage:\n",
        "  print(\"Empréstimo negado\")\n",
        "else:\n",
        "  print(\"Aceite!!\")\n"
      ],
      "execution_count": 5,
      "outputs": [
        {
          "output_type": "stream",
          "name": "stdout",
          "text": [
            "Good Morning to our House Loan's Bank!\n",
            " Which the value of property that wants to adquire: 66\n",
            "What is your wage: 9\n",
            "How much time lasts bank loan, in years: 8\n",
            "The mensal value to pay the house is:  0.6875\n",
            "Aceite!!\n"
          ]
        }
      ]
    },
    {
      "cell_type": "markdown",
      "metadata": {
        "id": "bciltV4YshS-"
      },
      "source": [
        "**Desafio 37**"
      ]
    },
    {
      "cell_type": "markdown",
      "metadata": {
        "id": "jQ_sZgJHsPU8"
      },
      "source": [
        "Escreva um programa que leia um número inteiro qualquer e peça para o usuário escolher qual será a **base de conversão**\n",
        "\n",
        "\n",
        "*   1 para binário\n",
        "*   2 para octal\n",
        "*   3 para hexadecimal\n",
        "\n"
      ]
    },
    {
      "cell_type": "code",
      "metadata": {
        "id": "AlFBgd6ls7UO",
        "colab": {
          "base_uri": "https://localhost:8080/"
        },
        "outputId": "a2520ef5-5dae-4aef-9802-d93c26904c15"
      },
      "source": [
        "num = int(input('Insira o valor decimal: '))\n",
        "b2 = bin(num)\n",
        "o8 = oct(num)\n",
        "Ox = hex(num)\n",
        "\n",
        "base = str(input('Qual será a base de conversão?\\n O <- octal\\n H <- hexadecimal\\n B or other thing <- binary '))\n",
        "if base.upper() == 'O':\n",
        "  print(o8)\n",
        "elif base.upper() == 'H':\n",
        "  print(Ox)\n",
        "else:\n",
        "  print(b2)"
      ],
      "execution_count": 6,
      "outputs": [
        {
          "output_type": "stream",
          "name": "stdout",
          "text": [
            "Insira o valor decimal: 17\n",
            "Qual será a base de conversão?\n",
            " O <- octal\n",
            " H <- hexadecimal\n",
            " B or other thing <- binary o\n",
            "0o21\n"
          ]
        }
      ]
    },
    {
      "cell_type": "code",
      "metadata": {
        "id": "HQ_9BUdcQtrn"
      },
      "source": [
        "def converte2(a,b): #a = bq + r\n",
        "  novabase = \"\" #resto ou r_string\n",
        "  r = 0\n",
        "  while a>0: #r<a: #r > 0: ...n//b!\n",
        "    q = a // b\n",
        "    r = a - (q*b)\n",
        "    #r = a % b\n",
        "    a = q \n",
        "\n",
        "    print(r,'\\n')\n",
        "    #novabase=str(r)\n",
        "    novabase += str(r)\n",
        "  novabase = novabase[::-1]\n",
        "  #novabase[::-1]\n",
        "  #print('\\n',novabase[::-1])\n",
        "  return novabase"
      ],
      "execution_count": 31,
      "outputs": []
    },
    {
      "cell_type": "code",
      "source": [
        "# def converte(n,b): #n = bq + r\n",
        "#   # 10b10 = 1010b2  10/2 r1 5/2 r1 2/2 r0 0/2 r0\n",
        "#   r_string = \"\"\n",
        "#   while n//b > 0:\n",
        "#     r = n%b\n",
        "#     a = n//b\n",
        "#     print(r,'\\n')\n",
        "#     r_string += str(r)\n",
        "#   r_string[::-1]\n",
        "#   print('')\n",
        "    \n",
        "\n",
        "    \n"
      ],
      "metadata": {
        "id": "m61tfNXS1dGB",
        "outputId": "cc44b18f-8dbe-409c-90e3-0fdda4349ce8",
        "colab": {
          "base_uri": "https://localhost:8080/",
          "height": 132
        }
      },
      "execution_count": 13,
      "outputs": [
        {
          "output_type": "error",
          "ename": "SyntaxError",
          "evalue": "ignored",
          "traceback": [
            "\u001b[0;36m  File \u001b[0;32m\"<ipython-input-13-90c0cc043974>\"\u001b[0;36m, line \u001b[0;32m1\u001b[0m\n\u001b[0;31m    def converte(a,b): #a = bq + r\u001b[0m\n\u001b[0m                                  ^\u001b[0m\n\u001b[0;31mSyntaxError\u001b[0m\u001b[0;31m:\u001b[0m unexpected EOF while parsing\n"
          ]
        }
      ]
    },
    {
      "cell_type": "code",
      "metadata": {
        "id": "tNa8bDFIrrgf",
        "colab": {
          "base_uri": "https://localhost:8080/",
          "height": 174
        },
        "outputId": "3cef6f01-4cb2-4672-cbf5-988debf83cbc"
      },
      "source": [
        "converte2(12,2)"
      ],
      "execution_count": 32,
      "outputs": [
        {
          "output_type": "stream",
          "name": "stdout",
          "text": [
            "0 \n",
            "\n",
            "0 \n",
            "\n",
            "1 \n",
            "\n",
            "1 \n",
            "\n"
          ]
        },
        {
          "output_type": "execute_result",
          "data": {
            "application/vnd.google.colaboratory.intrinsic+json": {
              "type": "string"
            },
            "text/plain": [
              "'1100'"
            ]
          },
          "metadata": {},
          "execution_count": 32
        }
      ]
    },
    {
      "cell_type": "code",
      "source": [
        "converte2(12, 8)"
      ],
      "metadata": {
        "id": "FdcHStnN86LU",
        "colab": {
          "base_uri": "https://localhost:8080/",
          "height": 104
        },
        "outputId": "bc09c66b-a0d6-4aee-dd34-df665fc790c6"
      },
      "execution_count": 33,
      "outputs": [
        {
          "output_type": "stream",
          "name": "stdout",
          "text": [
            "4 \n",
            "\n",
            "1 \n",
            "\n"
          ]
        },
        {
          "output_type": "execute_result",
          "data": {
            "application/vnd.google.colaboratory.intrinsic+json": {
              "type": "string"
            },
            "text/plain": [
              "'14'"
            ]
          },
          "metadata": {},
          "execution_count": 33
        }
      ]
    },
    {
      "cell_type": "code",
      "source": [
        "# Solution\n",
        "def dec_to_base(num,base): # Maximum base - 36\n",
        "  base_num = \"\"\n",
        "  while num>0:\n",
        "    dig = int(num%base) # porque este int? \n",
        "    if dig<10:\n",
        "      base_num += str(dig)\n",
        "    else:\n",
        "      base_num += chr(ord('A')+dig-10) # Using uppercase"
      ],
      "metadata": {
        "id": "vuDXQHyAEc8e"
      },
      "execution_count": null,
      "outputs": []
    },
    {
      "cell_type": "code",
      "source": [
        "ord('a')"
      ],
      "metadata": {
        "id": "J5Uf7sB5RULc",
        "outputId": "fed5a032-7d9a-43c9-cb30-a84458721724",
        "colab": {
          "base_uri": "https://localhost:8080/"
        }
      },
      "execution_count": 34,
      "outputs": [
        {
          "output_type": "execute_result",
          "data": {
            "text/plain": [
              "97"
            ]
          },
          "metadata": {},
          "execution_count": 34
        }
      ]
    },
    {
      "cell_type": "code",
      "source": [
        "ord('A')"
      ],
      "metadata": {
        "id": "EIVaJTaDTMPI",
        "outputId": "c25a440f-f859-4f5a-b48b-1ca7e683a8f7",
        "colab": {
          "base_uri": "https://localhost:8080/"
        }
      },
      "execution_count": 35,
      "outputs": [
        {
          "output_type": "execute_result",
          "data": {
            "text/plain": [
              "65"
            ]
          },
          "metadata": {},
          "execution_count": 35
        }
      ]
    },
    {
      "cell_type": "code",
      "source": [
        "chr(94)+chr(93)+chr(92)+chr(91)+chr(90)"
      ],
      "metadata": {
        "id": "AvFrhOLNTNg_",
        "outputId": "50316438-4875-4911-dd00-0a57686774f1",
        "colab": {
          "base_uri": "https://localhost:8080/",
          "height": 35
        }
      },
      "execution_count": 42,
      "outputs": [
        {
          "output_type": "execute_result",
          "data": {
            "application/vnd.google.colaboratory.intrinsic+json": {
              "type": "string"
            },
            "text/plain": [
              "'^]\\\\[Z'"
            ]
          },
          "metadata": {},
          "execution_count": 42
        }
      ]
    },
    {
      "cell_type": "code",
      "source": [
        ""
      ],
      "metadata": {
        "id": "tTrnrxV9TgbM"
      },
      "execution_count": null,
      "outputs": []
    }
  ]
}