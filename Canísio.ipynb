{
  "nbformat": 4,
  "nbformat_minor": 0,
  "metadata": {
    "colab": {
      "name": "Canísio.ipynb",
      "provenance": [],
      "authorship_tag": "ABX9TyPhxDmjyQxPULNn8BlLX84a",
      "include_colab_link": true
    },
    "kernelspec": {
      "name": "python3",
      "display_name": "Python 3"
    },
    "language_info": {
      "name": "python"
    }
  },
  "cells": [
    {
      "cell_type": "markdown",
      "metadata": {
        "id": "view-in-github",
        "colab_type": "text"
      },
      "source": [
        "<a href=\"https://colab.research.google.com/github/ManJ-PC/Py/blob/master/Can%C3%ADsio.ipynb\" target=\"_parent\"><img src=\"https://colab.research.google.com/assets/colab-badge.svg\" alt=\"Open In Colab\"/></a>"
      ]
    },
    {
      "cell_type": "markdown",
      "metadata": {
        "id": "9B-M0OS6CjQ9"
      },
      "source": [
        "#1 Concentração (na aula) \n",
        "#2 Anote tudo\n",
        "#3 Estudar em Grupo\n",
        "#4 Ensine alguém (melhor maneira de aprender é ensinar)\n",
        "#5 Pratique muito\n",
        "#6 Não pules os exercícios\n",
        "#7 Não copie respostas, Exercícios fazem parte da avaliação e com conteúdo novo\n",
        "#8 Não desista nem mesmo que não saiba o exercício, assistir ao vídeo da ... próxima pode conseguir realizar etc\n",
        "\n",
        "# 97 pessoas e organizar as pessoas"
      ]
    },
    {
      "cell_type": "code",
      "metadata": {
        "id": "Wr9QsmFbBsH6"
      },
      "source": [
        "#1 Concentração (na aula) \n",
        "#2 Anote tudo\n",
        "#3 Estudar em Grupo\n",
        "#4 Ensine alguém (melhor maneira de aprender é ensinar)\n",
        "#5 Pratique muito\n",
        "#6 Não pules os exercícios (confirmar ... playlist e na ordem na mesma playlist na ordem que colocamos)\n"
      ],
      "execution_count": null,
      "outputs": []
    },
    {
      "cell_type": "markdown",
      "metadata": {
        "id": "7LPs-GdIEuYv"
      },
      "source": [
        "**Condições Aninhadas**"
      ]
    },
    {
      "cell_type": "code",
      "metadata": {
        "id": "oUIhAVEpChWM"
      },
      "source": [
        "#fundamentos, operadores, modulos, etc\n",
        "\n",
        "# fase 12 e condições.... estruturas condiçionais aninhadas "
      ],
      "execution_count": null,
      "outputs": []
    },
    {
      "cell_type": "code",
      "metadata": {
        "id": "igKAcQVlFDnD"
      },
      "source": [
        "# Engarrafamento e ver melhores oportunidades , várias.. condições aninhadas\n",
        "# estrutura aninhada padrão if1 elif* else0..1 em expressões regulares "
      ],
      "execution_count": null,
      "outputs": []
    },
    {
      "cell_type": "code",
      "metadata": {
        "colab": {
          "base_uri": "https://localhost:8080/",
          "height": 132
        },
        "id": "xTTfEwcfGjDh",
        "outputId": "b08a76e3-d43b-47ef-864e-2706e0481b6e"
      },
      "source": [
        "nome = str(input('Qual é o seu nome? '))\n",
        "if nome == 'Gustavo':\n",
        "  print('Que nome bonito!')\n",
        "elif nome == 'Pedro' or nome == 'Maria' or nome == 'Paulo':\n",
        "  print('Seu nome é bem popular no Brasil.')\n",
        "else: \n",
        "  print('Seu nome é bem normal')\n",
        "elif nome #in ['Ana', 'Claúdia', 'Jéssica', 'Juliana']:\n",
        "  print('Belo nome feminino')\n",
        "print('Tenha um bom dia, {}!'.format(nome))"
      ],
      "execution_count": null,
      "outputs": [
        {
          "output_type": "error",
          "ename": "SyntaxError",
          "evalue": "ignored",
          "traceback": [
            "\u001b[0;36m  File \u001b[0;32m\"<ipython-input-11-6766fc2fae81>\"\u001b[0;36m, line \u001b[0;32m8\u001b[0m\n\u001b[0;31m    elif nome in ['Ana', 'Claúdia', 'Jéssica', 'Juliana']:\u001b[0m\n\u001b[0m       ^\u001b[0m\n\u001b[0;31mSyntaxError\u001b[0m\u001b[0;31m:\u001b[0m invalid syntax\n"
          ]
        }
      ]
    },
    {
      "cell_type": "code",
      "metadata": {
        "colab": {
          "base_uri": "https://localhost:8080/"
        },
        "id": "Ir5UYvMmG6Kc",
        "outputId": "d7886156-9502-4dce-9829-6abf14caf26f"
      },
      "source": [
        "nome in 'Ana Claúdia Jéssica Juliana'"
      ],
      "execution_count": null,
      "outputs": [
        {
          "output_type": "execute_result",
          "data": {
            "text/plain": [
              "False"
            ]
          },
          "metadata": {},
          "execution_count": 12
        }
      ]
    },
    {
      "cell_type": "code",
      "metadata": {
        "colab": {
          "base_uri": "https://localhost:8080/",
          "height": 36
        },
        "id": "95xOT6EjI58N",
        "outputId": "96631b83-bf35-4c07-b781-2f17a650a16b"
      },
      "source": [
        "nome"
      ],
      "execution_count": null,
      "outputs": [
        {
          "output_type": "execute_result",
          "data": {
            "application/vnd.google.colaboratory.intrinsic+json": {
              "type": "string"
            },
            "text/plain": [
              "'Maria'"
            ]
          },
          "metadata": {},
          "execution_count": 13
        }
      ]
    },
    {
      "cell_type": "code",
      "metadata": {
        "colab": {
          "base_uri": "https://localhost:8080/",
          "height": 132
        },
        "id": "WnRmC4SfI8W6",
        "outputId": "8a006b15-f3e2-4dc4-e87e-3f4cd48e8313"
      },
      "source": [
        "name = str(input('Qual é o seu nome? '))\n",
        "if name == 'Gustavo':\n",
        "  print('Que nome bonito!')\n",
        "elif name == 'Pedro' or name == 'Maria' or name == 'Paulo':\n",
        "  print('Seu nome é bem popular no Brasil.')\n",
        "else: \n",
        "  print('Seu nome é bem normal')\n",
        "elif name in 'Ana Claúdia Jéssica Juliana':\n",
        "  print('Belo nome feminino')\n",
        "print('Tenha um bom dia, {}!'.format(nome))"
      ],
      "execution_count": null,
      "outputs": [
        {
          "output_type": "error",
          "ename": "SyntaxError",
          "evalue": "ignored",
          "traceback": [
            "\u001b[0;36m  File \u001b[0;32m\"<ipython-input-15-f0f7bc626f7a>\"\u001b[0;36m, line \u001b[0;32m8\u001b[0m\n\u001b[0;31m    elif name in 'Ana Claúdia Jéssica Juliana':\u001b[0m\n\u001b[0m       ^\u001b[0m\n\u001b[0;31mSyntaxError\u001b[0m\u001b[0;31m:\u001b[0m invalid syntax\n"
          ]
        }
      ]
    },
    {
      "cell_type": "code",
      "metadata": {
        "id": "GUmj-q2_JOji"
      },
      "source": [
        ""
      ],
      "execution_count": null,
      "outputs": []
    }
  ]
}