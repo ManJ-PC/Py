{
  "nbformat": 4,
  "nbformat_minor": 0,
  "metadata": {
    "colab": {
      "name": "Canísio.ipynb",
      "provenance": [],
      "authorship_tag": "ABX9TyPWld5jc14rPuZNrBDlMnW+",
      "include_colab_link": true
    },
    "kernelspec": {
      "name": "python3",
      "display_name": "Python 3"
    },
    "language_info": {
      "name": "python"
    }
  },
  "cells": [
    {
      "cell_type": "markdown",
      "metadata": {
        "id": "view-in-github",
        "colab_type": "text"
      },
      "source": [
        "<a href=\"https://colab.research.google.com/github/ManJ-PC/Py/blob/master/Can%C3%ADsio.ipynb\" target=\"_parent\"><img src=\"https://colab.research.google.com/assets/colab-badge.svg\" alt=\"Open In Colab\"/></a>"
      ]
    },
    {
      "cell_type": "markdown",
      "metadata": {
        "id": "9B-M0OS6CjQ9"
      },
      "source": [
        "#1 Concentração (na aula) \n",
        "#2 Anote tudo\n",
        "#3 Estudar em Grupo\n",
        "#4 Ensine alguém (melhor maneira de aprender é ensinar)\n",
        "#5 Pratique muito\n",
        "#6 Não pules os exercícios\n",
        "#7 Não copie respostas, Exercícios fazem parte da avaliação e com conteúdo novo\n",
        "#8 Não desista nem mesmo que não saiba o exercício, assistir ao vídeo da ... próxima pode conseguir realizar etc\n",
        "\n",
        "# 97 pessoas e organizar as pessoas"
      ]
    },
    {
      "cell_type": "code",
      "metadata": {
        "id": "Wr9QsmFbBsH6"
      },
      "source": [
        "#1 Concentração (na aula) \n",
        "#2 Anote tudo\n",
        "#3 Estudar em Grupo\n",
        "#4 Ensine alguém (melhor maneira de aprender é ensinar)\n",
        "#5 Pratique muito\n",
        "#6 Não pules os exercícios (confirmar ... playlist e na ordem na mesma playlist na ordem que colocamos)\n"
      ],
      "execution_count": null,
      "outputs": []
    },
    {
      "cell_type": "markdown",
      "metadata": {
        "id": "7LPs-GdIEuYv"
      },
      "source": [
        "**Condições Aninhadas**"
      ]
    },
    {
      "cell_type": "code",
      "metadata": {
        "id": "oUIhAVEpChWM"
      },
      "source": [
        "#fundamentos, operadores, modulos, etc\n",
        "\n",
        "# fase 12 e condições.... estruturas condiçionais aninhadas "
      ],
      "execution_count": null,
      "outputs": []
    },
    {
      "cell_type": "code",
      "metadata": {
        "id": "igKAcQVlFDnD"
      },
      "source": [
        "# Engarrafamento e ver melhores oportunidades , várias.. condições aninhadas\n",
        "# estrutura aninhada padrão if1 elif* else0..1 em expressões regulares "
      ],
      "execution_count": null,
      "outputs": []
    },
    {
      "cell_type": "code",
      "metadata": {
        "colab": {
          "base_uri": "https://localhost:8080/",
          "height": 132
        },
        "id": "xTTfEwcfGjDh",
        "outputId": "b08a76e3-d43b-47ef-864e-2706e0481b6e"
      },
      "source": [
        "nome = str(input('Qual é o seu nome? '))\n",
        "if nome == 'Gustavo':\n",
        "  print('Que nome bonito!')\n",
        "elif nome == 'Pedro' or nome == 'Maria' or nome == 'Paulo':\n",
        "  print('Seu nome é bem popular no Brasil.')\n",
        "else: \n",
        "  print('Seu nome é bem normal')\n",
        "elif nome #in ['Ana', 'Claúdia', 'Jéssica', 'Juliana']:\n",
        "  print('Belo nome feminino')\n",
        "print('Tenha um bom dia, {}!'.format(nome))"
      ],
      "execution_count": null,
      "outputs": [
        {
          "output_type": "error",
          "ename": "SyntaxError",
          "evalue": "ignored",
          "traceback": [
            "\u001b[0;36m  File \u001b[0;32m\"<ipython-input-11-6766fc2fae81>\"\u001b[0;36m, line \u001b[0;32m8\u001b[0m\n\u001b[0;31m    elif nome in ['Ana', 'Claúdia', 'Jéssica', 'Juliana']:\u001b[0m\n\u001b[0m       ^\u001b[0m\n\u001b[0;31mSyntaxError\u001b[0m\u001b[0;31m:\u001b[0m invalid syntax\n"
          ]
        }
      ]
    },
    {
      "cell_type": "code",
      "metadata": {
        "colab": {
          "base_uri": "https://localhost:8080/"
        },
        "id": "Ir5UYvMmG6Kc",
        "outputId": "d7886156-9502-4dce-9829-6abf14caf26f"
      },
      "source": [
        "nome in 'Ana Claúdia Jéssica Juliana'"
      ],
      "execution_count": null,
      "outputs": [
        {
          "output_type": "execute_result",
          "data": {
            "text/plain": [
              "False"
            ]
          },
          "metadata": {},
          "execution_count": 12
        }
      ]
    },
    {
      "cell_type": "code",
      "metadata": {
        "colab": {
          "base_uri": "https://localhost:8080/",
          "height": 36
        },
        "id": "95xOT6EjI58N",
        "outputId": "96631b83-bf35-4c07-b781-2f17a650a16b"
      },
      "source": [
        "nome"
      ],
      "execution_count": null,
      "outputs": [
        {
          "output_type": "execute_result",
          "data": {
            "application/vnd.google.colaboratory.intrinsic+json": {
              "type": "string"
            },
            "text/plain": [
              "'Maria'"
            ]
          },
          "metadata": {},
          "execution_count": 13
        }
      ]
    },
    {
      "cell_type": "code",
      "metadata": {
        "colab": {
          "base_uri": "https://localhost:8080/",
          "height": 132
        },
        "id": "WnRmC4SfI8W6",
        "outputId": "8a006b15-f3e2-4dc4-e87e-3f4cd48e8313"
      },
      "source": [
        "name = str(input('Qual é o seu nome? '))\n",
        "if name == 'Gustavo':\n",
        "  print('Que nome bonito!')\n",
        "elif name == 'Pedro' or name == 'Maria' or name == 'Paulo':\n",
        "  print('Seu nome é bem popular no Brasil.')\n",
        "else: \n",
        "  print('Seu nome é bem normal')\n",
        "elif name in 'Ana Claúdia Jéssica Juliana':\n",
        "  print('Belo nome feminino')\n",
        "print('Tenha um bom dia, {}!'.format(nome))"
      ],
      "execution_count": null,
      "outputs": [
        {
          "output_type": "error",
          "ename": "SyntaxError",
          "evalue": "ignored",
          "traceback": [
            "\u001b[0;36m  File \u001b[0;32m\"<ipython-input-15-f0f7bc626f7a>\"\u001b[0;36m, line \u001b[0;32m8\u001b[0m\n\u001b[0;31m    elif name in 'Ana Claúdia Jéssica Juliana':\u001b[0m\n\u001b[0m       ^\u001b[0m\n\u001b[0;31mSyntaxError\u001b[0m\u001b[0;31m:\u001b[0m invalid syntax\n"
          ]
        }
      ]
    },
    {
      "cell_type": "markdown",
      "source": [
        "# Vídeos\n",
        "\n",
        "[Intuições sobre Redes Neurais e Deep Learning](https://https://youtu.be/xtP1R6hiOh8)\n",
        "\n",
        "[Texto link](https://pastebin.com/H86PTCZ8)\n",
        "\n",
        "## execution order is preserve\n",
        "\n",
        "\n",
        "então nesse primeiro vídeo a gente vai\n",
        "aprender algumas instituições sobre\n",
        "redes neurais\n",
        "o primeiro só um resumo que a gente vai\n",
        "ver primeiro o que quer um rede neural\n",
        "depois a gente vai ganhar algumas\n",
        "instituições sobre o perception ea gente\n",
        "vai realizar algumas operações lógicas\n",
        "com ele a gente vai perceber que ele não\n",
        "resolve todo tipo de operação lógica\n",
        "então a gente vai adicionar camadas e\n",
        "por fim a gente vai visualizar e algumas\n",
        "redes neurais e um resolvi então vamos\n",
        "começar então inicialmente é para\n",
        "responder à pergunta o que quer uma rede\n",
        "neural então você pode imaginar que\n",
        "apenas uma caixa (uma função gigante) que\n",
        "tenta correlacionar entradas e saídas\n",
        "então eu tenho variáveis de entrada e\n",
        "de saída\n",
        "então vou dar um exemplo aqui se eu\n",
        "tento prevê se uma pessoa sobreviveu ao\n",
        "titanic ou não como variável tem k eu\n",
        "posso ter a idade da pessoa o gênero e o\n",
        "preço do tíquete que eles pagaram e como\n",
        "saída eu posso ter uma variável binário\n",
        "dizendo se a pessoa sobreviveu não então\n",
        "eu tenho um problema binário uma\n",
        "classificação binária e aqui por exemplo\n",
        "esse gráfico a gente idade VS ticket price\n",
        " e traz é o que foi pago ea gente\n",
        "percebe em que é possível desenhar uma\n",
        "fronteira de decisão aqui para separar\n",
        "as pessoas que sobreviveram e que não\n",
        "sobreviram, essa curva não precisa ser perfeita\n",
        "ela precisa na verdade generalizar bem\n",
        "pra essas duas regiões então por isso\n",
        "que às vezes alguns pontos podem ficar\n",
        "não dentro né mas é mais para buscar a\n",
        "generalização que aí dessa forma a gente\n",
        "consegue prever novos pontos pra ou essa\n",
        "região de pessoas que sobre o peru ou\n",
        "para essa região de pessoas que não\n",
        "sobreviveram\n",
        "então basicamente\n",
        "a rede neural ela busca descobrir essa\n",
        "fronteira de decisão a partir dos dados\n",
        "para que consiga pois nesse caso fazer\n",
        "uma classificação de novos dados não\n",
        "vistos e vamos aprofundar então um pouco\n",
        "aqui sobre essa essa rede neural vamos\n",
        "ver o que tem dentro dela de fato\n",
        "então primeiramente nós temos os pesos\n",
        "que são os pesos\n",
        "eles são valores que são aprendidos pela\n",
        "rede neural eles são multiplicados então\n",
        "por cada uma dessas variáveis de entrada\n",
        "a gente também tem o viés ou baias que é\n",
        "uma variável constante e ela sabe pra\n",
        "você deslocar horizontalmente a função\n",
        "de ativação que a gente vai ver mais\n",
        "adiante\n",
        "todos esses valores tanto e se tem um\n",
        "termo constante quanto aqui a\n",
        "multiplicação de entrada para esses\n",
        "pesos. todos elas vão ser somados em\n",
        "seguida após essa soma a gente aplica\n",
        "uma função de ativação nessa soma então\n",
        "essa função de ativação, ela busca extrair\n",
        "uma informação um único valor uma\n",
        "conclusão em cima dessa soma\n",
        "então por hora para simplificar podem\n",
        "imaginar que essa função de ativação\n",
        "simplesmente vai retornar 1 se for um\n",
        "valor positivo ou zero se for um valor\n",
        "negativo\n",
        "então vamos fazer alguns testes então\n",
        "com esse modelo que a gente criou agora\n",
        "e aliás esse modelo de ter um nome\n",
        "ele é o perseptom ele é tem esse nome\n",
        "justamente porque ele funciona de uma\n",
        "forma na água como seria o cérebro\n",
        "humano que de acordo com os sinais de\n",
        "entrada ele pode disparar ou não o sinal\n",
        "pra o próximo neurônio\n",
        "então vamos ganhar algumas instituições\n",
        "aqui em cima desse perseptom então\n",
        "primeiramente supomos que o meu peso\n",
        "seja um e como será a saída de acordo\n",
        "com a entrada aqui então basicamente a\n",
        "saída vai ser 1\n",
        "a entrada foi positivo ea sair do zero\n",
        "sem casa foi negativo\n",
        "eu estou aplicando aqui essa função de\n",
        "ativação\n",
        "então nada impressionante é bastante\n",
        "simples\n",
        "agora se eu por exemplo inverter aqui\n",
        "tem menos um aqui como peso usando pelo\n",
        "menos 1 agora eu estou invertendo a\n",
        "entrada ou seja se eu tenho um valor\n",
        "negativo vai ser positiva\n",
        "eu tenho um valor positivo vai ser zero\n",
        "então aqui a gente tem uma operação\n",
        "lógico que é ou não simplesmente está\n",
        "invertendo a entrada sem criar um\n",
        "verdadeiro é falso por falso é\n",
        "verdadeiro\n",
        "então esse é um exemplo de uma conclusão\n",
        "lógica que pode ser extraída a partir\n",
        "daquele se percebe\n",
        "vamos ver outras agora eu tenho duas\n",
        "entradas e peso ou impressas duas\n",
        "entradas e também um viés de -0 ponto 5\n",
        "com essa configuração eu tenho agora\n",
        "álcool a operação operador ou o ex\n",
        "operador\n",
        "a saída vai ser verdadeira se ou o\n",
        "primeiro ou segundo a segunda entrada\n",
        "for verdadeira então é tenho aqui alguns\n",
        "exemplos aqui um mais um dos jogadores -\n",
        "0.5 vai ser positivo ainda então aceitar\n",
        "um e isso vai permanecer positivo mesmo\n",
        "se um dos gols das duas entradas por\n",
        "positivo\n",
        "a saída vai ser zero somente se os dois\n",
        "valores porém 0 aí eu tenho esse tema\n",
        "constante - 0.5 então aceita e acaba\n",
        "sendo 10 por causa dessa função de\n",
        "ativação e por fim nós que apenas\n",
        "mudando aqui o meu viés para -0 ponto 5\n",
        "agora eu mudei esse operador em ver seu\n",
        "ou agora é o operador e nesse operador\n",
        "aceita vai ser um somente se a primeira\n",
        "ea segunda entrada foi verdadeira\n",
        "em outros casos vai ser falsa então aqui\n",
        "eu tenho um exemplo com\n",
        "as duas entradas verdadeiros vai dar 2 -\n",
        "0.5 e do grupo positivo e por que eu tô\n",
        "falando que de operadores lógicos então\n",
        "por alguns motivos mas o principal é que\n",
        "é interessante o fato que o perseptom\n",
        "ele consegue será então informações\n",
        "lógicas a partir dos dados que\n",
        "basicamente é o que a regional vai\n",
        "buscar é com relações lógicas é entre\n",
        "entradas e saídas no entanto existem\n",
        "algumas limitações aqui então ea\n",
        "limitação aqui do super certo é a\n",
        "seguinte ela só consegue criar\n",
        "fronteiras e decisão lineares\n",
        "então a curva lá que separa classes\n",
        "positivas e negativas\n",
        "ela sempre vai estar restringido para\n",
        "uma linha reta e nem sempre ela vai\n",
        "resolver todos os problemas\n",
        "eu tenho aqui um exemplo do operador ou\n",
        "exclusiva e nesse caso eu não vou\n",
        "conseguir resolver com o século uma reta\n",
        "não vai conseguir separar as coisas\n",
        "positivas das negativas\n",
        "então como uma solução então pra\n",
        "problemas que começam os corvos e mais\n",
        "complexos\n",
        "a gente pode adicionar novas camadas na\n",
        "rede neural\n",
        "então o que seria isso de adicionar\n",
        "novas camadas\n",
        "a gente simplesmente pegam o perception\n",
        "que eu apresentei antes que a gente\n",
        "repubblica ele e conecta ele então aqui\n",
        "eu posso generalizar para vários\n",
        "perceptions e aqui várias camadas\n",
        "então aqui eu tenho uma camada que pode\n",
        "até que me camadas eu posso ter\n",
        "infinitas bonitas mas eu posso tempo\n",
        "várias camadas então aqui em vez de\n",
        "apenas 11 percebe e existe uma prova\n",
        "matemática se chama teorema de\n",
        "aproximação se negando depois aparece o\n",
        "nome na descrição e se o nome bem certo\n",
        "mas esse um teorema que prova que a\n",
        "partir da adição de camadas na rede\n",
        "neural a gente consegue aproximar\n",
        "qualquer função então\n",
        "o poder representativo das redes neurais\n",
        "em partes bem a partir da adição de\n",
        "camadas\n",
        "então eu vou dar uma mas agora mais\n",
        "simplificada aqui nessa visualização\n",
        "porque geralmente quando você encontrar\n",
        "um modelo de rede neural aqui por aí\n",
        "você não vai ver ele todo detalhado\n",
        "desse jeito com a soma ea força de\n",
        "ocupação\n",
        "geralmente essa soma em função de\n",
        "ativação foi cá dentro\n",
        "essa bolinha então só pra você então tem\n",
        "um sempre tem em mente quando você vê\n",
        "uma arquitetura de rede neural estão\n",
        "correndo então dentro de cada um desses\n",
        "círculos simplesmente uma sombra e\n",
        "depois da aplicação de uma função de\n",
        "ativação que é enviada para o próximo\n",
        "neurônios ou percebe é a mesma coisa\n",
        "então o que a gente tem aqui são\n",
        "neurônios e assim finalmente quebrou\n",
        "exclusivo uma possível solução seria com\n",
        "essa configuração aqui de peso\n",
        "só que as fica meio difícil visualizar\n",
        "olhando aqui nesse monte de peso então\n",
        "por isso que agora aqui nessa parte\n",
        "final eu tenho também algumas\n",
        "visualizações para da intuições pra\n",
        "vocês\n",
        "então primeiramente vamos visualizar\n",
        "aqui\n",
        "o operador e e ou então eu tenho aqui os\n",
        "pesos nem o bairro e se você acessar\n",
        "essa página e também vai poder brincar\n",
        "então com esses pesos e você pode\n",
        "perceber que quando eu é que quero os\n",
        "pesos é como que o se eu tivesse\n",
        "alterando a inclinação aqui dessa\n",
        "fronteira de decisão\n",
        "enquanto que quando eu quero ouvir essas\n",
        "baias é como se eu tivesse deslocando\n",
        "essa fronteira decisão.com eu consigo\n",
        "alternará entre o procurador e ele\n",
        "operador ou a partir da mudança do viés\n",
        "então isso que eu tinha mostrado\n",
        "anteriormente então a gente está\n",
        "visualizando você pode acessar que os\n",
        "links também pra testar por conta\n",
        "própria\n",
        "eu tenho agora por exemplo que é o do\n",
        "gol exclusivo e você pode perceber que a\n",
        "partir da edição de uma nova camada\n",
        "eu tenho agora duas regiões\n",
        "uma região aqui para as coisas positivas\n",
        "e duas regiões aqui para as coisas\n",
        "negativas e você pode também perceber\n",
        "que partiu a ideia do deslocamento então\n",
        "desses pesos\n",
        "você consegue então alterar tanto a\n",
        "internação quanto o deslocamento né\n",
        "o deslizamento aqui das fronteiras da\n",
        "decisão ea gente também não está\n",
        "restrito apenas a linhas retas há\n",
        "fronteiras decisão lineares não aqui tem\n",
        "um exemplo de arquitetura no qual tem a\n",
        "função sigmóide aqui na saída em nota\n",
        "que eu consigo uma fronteira de decisão\n",
        "mais complexa com curvas e eventualmente\n",
        "então essa fronteira decisão ela vai ter\n",
        "seu objetivo de se ajustar aos dados de\n",
        "entrada é correlacionada de entrada e de\n",
        "saída e é um exemplo que eu tenho aqui\n",
        "como essa arquitetura por exemplo eu\n",
        "consigo resolver então aquele problema a\n",
        "da o titanic\n",
        "então eu quero aqui os pesos de forma a\n",
        "criar uma fronteira de decisão aqui que\n",
        "separa então as coisas positivas\n",
        "negativas é que a vontade também pra\n",
        "acessar aqui esse link pra também você\n",
        "mesmo por conta própria conseguir\n",
        "encontrar os pesos para essa solução\n",
        "você vai perceber aliás que define seus\n",
        "pesos não é uma tarefa trivial então\n",
        "justamente não é o nosso trabalho\n",
        "encontrar esses pesos a rede neural ela\n",
        "faz uso de métodos de otimização que a\n",
        "gente vai ver no próximo vídeo\n",
        "justamente pra tentar encontrar os pesos\n",
        "aqui os pesos ideais de forma a id a\n",
        "encontrar a melhor solução para\n",
        "correlacionar a entrada e saída então\n",
        "uns geral quando se está treinando redes\n",
        "neurais o maior desafio é justamente\n",
        "você é encontrar bons parâmetros de\n",
        "otimização pra que ele encontra então\n",
        "essa solução ideal para que ele encontre\n",
        "os melhores pesos para resolver o\n",
        "problema que você estava perdendo\n",
        "um resumo então regionais\n",
        "se for simplificação não é um bicho de\n",
        "sete cabeças deles só um conjunto de\n",
        "matrizes de uma explicação de matrizes e\n",
        "somas seguidas por operações não\n",
        "lineares que são as funções de ativação\n",
        "e cada um desses blocos da rede neural o\n",
        "que a gente chama de perseptom ou\n",
        "neurônio e a partir da combinação deles\n",
        "em caladas hoje eles conseguem aproximar\n",
        "qualquer função então eles conseguem\n",
        "aprender praticamente qualquer coisa e\n",
        "por fim a gente pode definir a\n",
        "aprendizagem profunda\n",
        "o dvd blueray como o uso de redes\n",
        "neurais bastante profundas na\n",
        "arquitetura com vários neurônios de\n",
        "forma a aprender com relações bastante\n",
        "complexas\n",
        "então por ora é isso e no próximo vídeo\n",
        "então a gente vai aprender como que a\n",
        "rede neural ela aprende esses pesos que\n",
        "eu acabei de apresentar pra vocês\n"
      ],
      "metadata": {
        "id": "leyhSHkDjpZ-"
      }
    },
    {
      "cell_type": "markdown",
      "source": [
        "[Nerdzão PT #13 - Machine Learning 101!](https://youtu.be/ZXRnLtRPtIg)"
      ],
      "metadata": {
        "id": "tr7YJXJSv8UR"
      }
    },
    {
      "cell_type": "markdown",
      "source": [
        "[Nerdzão PT #13.2 - Machine Learning 101 - Pt. 2!](https://www.youtube.com/watch?v=MXe3SJ83JDo)"
      ],
      "metadata": {
        "id": "C1Gzop_UlQ78"
      }
    },
    {
      "cell_type": "markdown",
      "source": [
        "[Introdução a Redes Neurais e Deep Learning](https://youtu.be/Z2SGE3_2Grg)\n",
        "\n",
        "[Coeficiente de determinação R2 (machine learning)](https://youtu.be/wDJjmH3JFqc)"
      ],
      "metadata": {
        "id": "eOHhHWgqw6Ky"
      }
    },
    {
      "cell_type": "markdown",
      "source": [
        "[MOOC Técnico: Valores Próprios – Introducao](https://youtu.be/npPpVDfGGvU)"
      ],
      "metadata": {
        "id": "5gLh0cT4yFE_"
      }
    },
    {
      "cell_type": "code",
      "metadata": {
        "id": "GUmj-q2_JOji"
      },
      "source": [
        ""
      ],
      "execution_count": null,
      "outputs": []
    }
  ]
}