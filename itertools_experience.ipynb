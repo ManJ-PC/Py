{
 "cells": [
  {
   "cell_type": "code",
   "execution_count": 2,
   "metadata": {},
   "outputs": [],
   "source": [
    "#pip install itertools\n",
    "import itertools"
   ]
  },
  {
   "cell_type": "code",
   "execution_count": 3,
   "metadata": {},
   "outputs": [
    {
     "data": {
      "text/plain": [
       "[(50, 64),\n",
       " (50, 128),\n",
       " (50, 256),\n",
       " (50, 512),\n",
       " (100, 64),\n",
       " (100, 128),\n",
       " (100, 256),\n",
       " (100, 512),\n",
       " (150, 64),\n",
       " (150, 128),\n",
       " (150, 256),\n",
       " (150, 512),\n",
       " (200, 64),\n",
       " (200, 128),\n",
       " (200, 256),\n",
       " (200, 512),\n",
       " (250, 64),\n",
       " (250, 128),\n",
       " (250, 256),\n",
       " (250, 512)]"
      ]
     },
     "execution_count": 3,
     "metadata": {},
     "output_type": "execute_result"
    }
   ],
   "source": [
    "embedding_dim_list = [50, 100, 150, 200, 250]\n",
    "hidden_dim_list = [64, 128, 256, 512]\n",
    "LstOfPrmVls=[ embedding_dim_list, hidden_dim_list ]\n",
    "var = list(itertools.product(*LstOfPrmVls))\n",
    "var"
   ]
  },
  {
   "cell_type": "code",
   "execution_count": 4,
   "metadata": {},
   "outputs": [
    {
     "data": {
      "text/plain": [
       "True"
      ]
     },
     "execution_count": 4,
     "metadata": {},
     "output_type": "execute_result"
    }
   ],
   "source": [
    "3.0 == 3 "
   ]
  }
 ],
 "metadata": {
  "kernelspec": {
   "display_name": "tensorflow",
   "language": "python",
   "name": "python3"
  },
  "language_info": {
   "codemirror_mode": {
    "name": "ipython",
    "version": 3
   },
   "file_extension": ".py",
   "mimetype": "text/x-python",
   "name": "python",
   "nbconvert_exporter": "python",
   "pygments_lexer": "ipython3",
   "version": "3.11.4"
  },
  "orig_nbformat": 4
 },
 "nbformat": 4,
 "nbformat_minor": 2
}
