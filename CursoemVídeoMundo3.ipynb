{
  "nbformat": 4,
  "nbformat_minor": 0,
  "metadata": {
    "colab": {
      "name": "CursoemVídeoMundo3.ipynb",
      "provenance": [],
      "authorship_tag": "ABX9TyMBQMrMe3CB+g8A+wTeZjvA",
      "include_colab_link": true
    },
    "kernelspec": {
      "name": "python3",
      "display_name": "Python 3"
    },
    "language_info": {
      "name": "python"
    }
  },
  "cells": [
    {
      "cell_type": "markdown",
      "metadata": {
        "id": "view-in-github",
        "colab_type": "text"
      },
      "source": [
        "<a href=\"https://colab.research.google.com/github/ManJ-PC/Py/blob/master/CursoemV%C3%ADdeoMundo3.ipynb\" target=\"_parent\"><img src=\"https://colab.research.google.com/assets/colab-badge.svg\" alt=\"Open In Colab\"/></a>"
      ]
    },
    {
      "cell_type": "code",
      "source": [
        "'''variável composta: tuplas, lista, dicionário\n",
        "\n",
        "strings, fatiamento... dentro do pyython tmb funciona ..., \n",
        "\n",
        "colchetes, durante o fatiamento ... divisão\n",
        "\n",
        "\n",
        "lanche -1 começa no fim!\n",
        "estruturas de repetição, ...\n",
        "\n",
        "iteração da estrutura\n",
        "\n",
        "\n",
        "for com o range e para coleções (variáveis compostas como a tupla).\n",
        "\n",
        "termo : as tuplas são imutáveis... não é possível trocar (tirar o pudim da tuplas. fica assim durante o programa diferente!)'''\n"
      ],
      "metadata": {
        "colab": {
          "base_uri": "https://localhost:8080/",
          "height": 53
        },
        "id": "qLb_fsiTjfl_",
        "outputId": "36ae7a21-9e88-4c53-a925-2310ab1965da"
      },
      "execution_count": 3,
      "outputs": [
        {
          "output_type": "execute_result",
          "data": {
            "text/plain": [
              "'variável composta: tuplas, lista, dicionário\\n\\nstrings, fatiamento... dentro do pyython tmb funciona ..., \\n\\ncolchetes, durante o fatiamento ... divisão\\n\\n\\nlanche -1 começa no fim!\\nestruturas de repetição, ...\\n\\niteração da estrutura\\n\\n\\nfor com o range e para coleções (variáveis compostas como a tupla).\\n\\ntermo : as tuplas são imutáveis... não é possível trocar (tirar o pudim da tuplas. fica assim durante o programa diferente!)'"
            ],
            "application/vnd.google.colaboratory.intrinsic+json": {
              "type": "string"
            }
          },
          "metadata": {},
          "execution_count": 3
        }
      ]
    },
    {
      "cell_type": "code",
      "source": [
        "'''\n",
        "3 tipos de variáveis compostas:\n",
        "tuple      <- ()  # entender cada uma delas (o que pode ser feito com elas) e as diferenças entre as v.c\n",
        "list       <- [] # colchete\n",
        "dictionary <- {}\n",
        "'''\n",
        "\n",
        "lanche = 2 # variável, é um espaço na memória, simples\n",
        "lanche = 3 # substitui o que estava na memória\n",
        "\n",
        "lanche = (1,3,2,4) # 3 possibilidades de armazenar 4 valores numa variável (composta, em forma de tuple, list or dictionary)\n",
        "\n",
        "# fatiamento, como aconteceu com as strings\n",
        "\n",
        "# analogia as strings, que tmb já são variáveis compostas (manipulação), funcionar antes da aula...\n",
        "lanche[0] # elementos diferentes, como posso acessar a esses elementos da tupla ...? através dos índices\n",
        "# manipulação das strings, através do fatiamento!"
      ],
      "metadata": {
        "colab": {
          "base_uri": "https://localhost:8080/"
        },
        "id": "FQeeLkpDjdtP",
        "outputId": "a198be70-68a8-4212-ed82-662c2f46f83c"
      },
      "execution_count": 4,
      "outputs": [
        {
          "output_type": "execute_result",
          "data": {
            "text/plain": [
              "1"
            ]
          },
          "metadata": {},
          "execution_count": 4
        }
      ]
    },
    {
      "cell_type": "code",
      "source": [
        "lanche\n",
        "lanche[0:2] # exclui o index 2 que é o 3º elemento\n",
        "lanche[1:] # 1: écomece no 1 e vai até ao final, fatiamento simples\n",
        "lanche[-1] # último elemento (começa no final quando tem menos)\n",
        "len(lanche) # size, repetições while, while TRUE infinito + break para interromper, for\n",
        "\n",
        "for c in lanche: # implica a iteração, em relação ao C\n",
        "  print(c) # for utilizando com o método range bem como em tupla etc. este 4 são os índexes 0,1,2,3"
      ],
      "metadata": {
        "colab": {
          "base_uri": "https://localhost:8080/"
        },
        "id": "ecywmvY1jb9P",
        "outputId": "565f97e3-ac77-4caa-9071-09f4f6fbf526"
      },
      "execution_count": 5,
      "outputs": [
        {
          "output_type": "stream",
          "name": "stdout",
          "text": [
            "1\n",
            "3\n",
            "2\n",
            "4\n"
          ]
        }
      ]
    },
    {
      "cell_type": "code",
      "source": [
        "# tuplas são imutáveis, não conseguimos mudar a tupla ... só correndo de novo o programa\n",
        "\n",
        "#lanche = 'Hambúrguer'\n",
        "#lanche = 'Suco'\n",
        "\n",
        "# lanche = ('Hambúrguer') # a partir do python 3.5 nem precisamosde colocar parentisis ... ora teste na linha abaixo\n",
        "lanche = 'Hambúrguer', 'Suco', 'Pizza', 'Pudim'\n",
        "lanche = ('Hambúrguer', 'Suco', 'Pizza', 'Pudim')\n",
        "print(lanche[1])\n",
        "print(lanche[-2])\n",
        "print(lanche[1:3]) # desconsidera o último elemento, mostra um pedaço da tupla\n",
        "print(lanche[2:])\n",
        "print(lanche[:2]) # mostra os elementos c/ indexes 0 e 1\n",
        "print(lanche[-4:-2]) # pensar na vírgulas com interregnios , contar as vírgulas como se fizessem barreiras e as últimas são os próprios colchetes. Isto mais útil quando são : pedaços, mas ele por norma segue para a direita -2: conta 2 vírgulas a contar do final e depois vai até ao final (mesmo caminho.); se for :-2 é do início e depois começa a contar do fim até 2 virgulas e highlited o que está no meio!\n",
        "print(lanche[-2:])"
      ],
      "metadata": {
        "colab": {
          "base_uri": "https://localhost:8080/"
        },
        "id": "JE2LOlJnjZ2y",
        "outputId": "8af1e78d-1113-479b-d113-d108c31f5370"
      },
      "execution_count": 6,
      "outputs": [
        {
          "output_type": "stream",
          "name": "stdout",
          "text": [
            "Suco\n",
            "Pizza\n",
            "('Suco', 'Pizza')\n",
            "('Pizza', 'Pudim')\n",
            "('Hambúrguer', 'Suco')\n",
            "('Hambúrguer', 'Suco')\n",
            "('Pizza', 'Pudim')\n"
          ]
        }
      ]
    },
    {
      "cell_type": "code",
      "source": [
        "lanche[-3:]"
      ],
      "metadata": {
        "colab": {
          "base_uri": "https://localhost:8080/"
        },
        "id": "CZrYf3TsjXb8",
        "outputId": "e7347dd0-d6c4-4bf0-9a27-bbfe2446c8fe"
      },
      "execution_count": 7,
      "outputs": [
        {
          "output_type": "execute_result",
          "data": {
            "text/plain": [
              "('Suco', 'Pizza', 'Pudim')"
            ]
          },
          "metadata": {},
          "execution_count": 7
        }
      ]
    },
    {
      "cell_type": "code",
      "source": [
        "lanche[:-2]\n",
        "lanche[:-3] # mostra a vírgula, que interessante!"
      ],
      "metadata": {
        "colab": {
          "base_uri": "https://localhost:8080/"
        },
        "id": "ZVDq_uNzjV0Z",
        "outputId": "7abb7479-c29a-4206-b33d-2ba228b16633"
      },
      "execution_count": 8,
      "outputs": [
        {
          "output_type": "execute_result",
          "data": {
            "text/plain": [
              "('Hambúrguer',)"
            ]
          },
          "metadata": {},
          "execution_count": 8
        }
      ]
    },
    {
      "cell_type": "code",
      "source": [
        "print(lanche[0:5]) # funciona igual .."
      ],
      "metadata": {
        "colab": {
          "base_uri": "https://localhost:8080/"
        },
        "id": "4yAp9p8HjUDG",
        "outputId": "7021c209-40d0-49cf-d01c-ba43feab2064"
      },
      "execution_count": 9,
      "outputs": [
        {
          "output_type": "stream",
          "name": "stdout",
          "text": [
            "('Hambúrguer', 'Suco', 'Pizza', 'Pudim')\n"
          ]
        }
      ]
    },
    {
      "cell_type": "code",
      "source": [
        "# Tuplas são imutáveis\n",
        "\n",
        "# lanche[1] = 'Refrigerante' # TypeError: 'tuple' object does not support item assignment\n",
        "print(lanche[1])\n",
        "\n",
        "for comida in lanche:\n",
        "  print(f'Eu vou comer {comida}')#lanche[1]}')\n",
        "print('Comi pra Caramba!')"
      ],
      "metadata": {
        "colab": {
          "base_uri": "https://localhost:8080/"
        },
        "id": "YAg9qQQqjRqf",
        "outputId": "2b576a25-1ff9-442e-9016-0a41203b04ca"
      },
      "execution_count": 10,
      "outputs": [
        {
          "output_type": "stream",
          "name": "stdout",
          "text": [
            "Suco\n",
            "Eu vou comer Hambúrguer\n",
            "Eu vou comer Suco\n",
            "Eu vou comer Pizza\n",
            "Eu vou comer Pudim\n",
            "Comi pra Caramba!\n"
          ]
        }
      ]
    },
    {
      "cell_type": "code",
      "source": [
        "lanche = ('Hambúrguer', 'Suco', 'Batata Frita', 'Pizza', 'Pudim')\n",
        "\n",
        "for cont in range(0, len(lanche)):\n",
        "  print(f' Vou comer {lanche[cont]} na posição {cont}')  "
      ],
      "metadata": {
        "colab": {
          "base_uri": "https://localhost:8080/"
        },
        "id": "kUO0BrXxjQC3",
        "outputId": "0443345c-fa0e-4ee1-b783-2fdc5a4b6071"
      },
      "execution_count": 11,
      "outputs": [
        {
          "output_type": "stream",
          "name": "stdout",
          "text": [
            " Vou comer Hambúrguer na posição 0\n",
            " Vou comer Suco na posição 1\n",
            " Vou comer Batata Frita na posição 2\n",
            " Vou comer Pizza na posição 3\n",
            " Vou comer Pudim na posição 4\n"
          ]
        }
      ]
    },
    {
      "cell_type": "code",
      "source": [
        "lanche = ('Hambúrguer', 'Suco', 'Batata Frita', 'Pizza', 'Pudim')\n",
        "\n",
        "for index, element in enumerate(lanche):\n",
        "  print(f' Vou comer {element} na posição {index}')  # enumerate retorna ... "
      ],
      "metadata": {
        "colab": {
          "base_uri": "https://localhost:8080/"
        },
        "id": "cAhsnEvIjMuY",
        "outputId": "764a0774-246e-47b7-cb9f-9c41c92f0ab6"
      },
      "execution_count": 13,
      "outputs": [
        {
          "output_type": "stream",
          "name": "stdout",
          "text": [
            " Vou comer Hambúrguer na posição 0\n",
            " Vou comer Suco na posição 1\n",
            " Vou comer Batata Frita na posição 2\n",
            " Vou comer Pizza na posição 3\n",
            " Vou comer Pudim na posição 4\n"
          ]
        }
      ]
    },
    {
      "cell_type": "code",
      "source": [
        "del index, element"
      ],
      "metadata": {
        "id": "zZe3zFlujOc3"
      },
      "execution_count": 14,
      "outputs": []
    },
    {
      "cell_type": "code",
      "source": [
        "for pos, comida in enumerate(lanche):\n",
        "  print(f'Eu vou comer {comida} na posição {pos}')"
      ],
      "metadata": {
        "colab": {
          "base_uri": "https://localhost:8080/"
        },
        "id": "Zir7MDrmjLEt",
        "outputId": "4ba213ea-da75-438f-b75d-c2fdb85850ef"
      },
      "execution_count": 15,
      "outputs": [
        {
          "output_type": "stream",
          "name": "stdout",
          "text": [
            "Eu vou comer Hambúrguer na posição 0\n",
            "Eu vou comer Suco na posição 1\n",
            "Eu vou comer Batata Frita na posição 2\n",
            "Eu vou comer Pizza na posição 3\n",
            "Eu vou comer Pudim na posição 4\n"
          ]
        }
      ]
    },
    {
      "cell_type": "code",
      "source": [
        "name_list = ['Jane', 'John', 'Mike']\n",
        "list(enumerate(name_list))"
      ],
      "metadata": {
        "colab": {
          "base_uri": "https://localhost:8080/"
        },
        "id": "JsK7-d0UjI__",
        "outputId": "f71ec889-32c6-4066-a380-466633c2790f"
      },
      "execution_count": 16,
      "outputs": [
        {
          "output_type": "execute_result",
          "data": {
            "text/plain": [
              "[(0, 'Jane'), (1, 'John'), (2, 'Mike')]"
            ]
          },
          "metadata": {},
          "execution_count": 16
        }
      ]
    },
    {
      "cell_type": "code",
      "source": [
        "name_list = ('Jane', 'John', 'Mike')\n",
        "list(enumerate(name_list))"
      ],
      "metadata": {
        "colab": {
          "base_uri": "https://localhost:8080/"
        },
        "id": "r-rrt9XcjHRH",
        "outputId": "0a1cd64c-8409-43f5-b7a6-ee5f24c03d8d"
      },
      "execution_count": 17,
      "outputs": [
        {
          "output_type": "execute_result",
          "data": {
            "text/plain": [
              "[(0, 'Jane'), (1, 'John'), (2, 'Mike')]"
            ]
          },
          "metadata": {},
          "execution_count": 17
        }
      ]
    },
    {
      "cell_type": "code",
      "source": [
        "name = \"Eric\"\n",
        "profession = \"comedian\"\n",
        "affiliation = \"Monty Python\"\n",
        "message = (\n",
        "  f\"Hi {name}. \"\n",
        "  f\"You are a {profession}. \"\n",
        "  f\"You were in {affiliation}.\"\n",
        ")\n",
        "message"
      ],
      "metadata": {
        "colab": {
          "base_uri": "https://localhost:8080/",
          "height": 35
        },
        "id": "8EB0Xq3EjFQy",
        "outputId": "c15ffe1f-9ad8-46d6-cd74-9b4f18283021"
      },
      "execution_count": 18,
      "outputs": [
        {
          "output_type": "execute_result",
          "data": {
            "text/plain": [
              "'Hi Eric. You are a comedian. You were in Monty Python.'"
            ],
            "application/vnd.google.colaboratory.intrinsic+json": {
              "type": "string"
            }
          },
          "metadata": {},
          "execution_count": 18
        }
      ]
    },
    {
      "cell_type": "code",
      "source": [
        "print(lanche)\n",
        "print(sorted(lanche)) # #não mudou#, apenas colocou em ordem! não altera simplestemente coloca em ordem\n",
        "print(lanche) # estado natural"
      ],
      "metadata": {
        "colab": {
          "base_uri": "https://localhost:8080/"
        },
        "id": "84p_bt_gjCrU",
        "outputId": "dc99d867-e1f0-4d34-a194-de591fa08196"
      },
      "execution_count": 19,
      "outputs": [
        {
          "output_type": "stream",
          "name": "stdout",
          "text": [
            "('Hambúrguer', 'Suco', 'Batata Frita', 'Pizza', 'Pudim')\n",
            "['Batata Frita', 'Hambúrguer', 'Pizza', 'Pudim', 'Suco']\n",
            "('Hambúrguer', 'Suco', 'Batata Frita', 'Pizza', 'Pudim')\n"
          ]
        }
      ]
    },
    {
      "cell_type": "code",
      "source": [
        "a = (2,5,4)\n",
        "b = (5,8,1,2)\n",
        "print(a)\n",
        "print(b)\n",
        "c = b + a\n",
        "print(c) # junta as tuplas, a ordem tem total influência! Mais uma funcionalidade aí!\n",
        "print(len(c))\n",
        "\n",
        "print(c.count(5)) # o cinco aparece duas vezes\n",
        "print(c.count(9))\n",
        "\n",
        "print(c.index(8))# em que posição está o 8\n",
        "print(c.index(5))# vai buscar o local da 1ª ocurrência\n",
        "\n",
        "print(c.index(5,1))# se for buscar após a 1ª posição, segundo argumento da função, deslocamento segundo argumento"
      ],
      "metadata": {
        "colab": {
          "base_uri": "https://localhost:8080/"
        },
        "id": "Wy-Djyn-jAUk",
        "outputId": "6e385a4d-e857-4188-e6b0-494567b3f729"
      },
      "execution_count": 20,
      "outputs": [
        {
          "output_type": "stream",
          "name": "stdout",
          "text": [
            "(2, 5, 4)\n",
            "(5, 8, 1, 2)\n",
            "(5, 8, 1, 2, 2, 5, 4)\n",
            "7\n",
            "2\n",
            "0\n",
            "1\n",
            "0\n",
            "5\n"
          ]
        }
      ]
    },
    {
      "cell_type": "code",
      "source": [
        "pessoa = (1,2,3)\n",
        "\n",
        "pessoa = ('Gustavo', 39, 'M', 99.88) # aceita vários tipos de dados, em outras linguagens não (na generalidade)/ dados de tipos diferentes na tupla\n",
        "print(pessoa)\n",
        "\n",
        "#del(pessoa[0]) #TypeError: 'tuple' object doesn't support item deletion"
      ],
      "metadata": {
        "colab": {
          "base_uri": "https://localhost:8080/"
        },
        "id": "Fo3u4-Zai9--",
        "outputId": "4b0b5704-759e-43ad-bd34-6db40ee7447d"
      },
      "execution_count": 21,
      "outputs": [
        {
          "output_type": "stream",
          "name": "stdout",
          "text": [
            "('Gustavo', 39, 'M', 99.88)\n"
          ]
        }
      ]
    },
    {
      "cell_type": "code",
      "source": [
        "del (pessoa)# apagar uma variável\n",
        "#pessoa # NameError: name 'pessoa' is not defined\n"
      ],
      "metadata": {
        "id": "7JqbvFfei6oF"
      },
      "execution_count": 22,
      "outputs": []
    },
    {
      "cell_type": "markdown",
      "source": [
        "# Desafio 072\n",
        "\n",
        "Crie um programa que tenha uma **tupla** totalmente prenchida com uma contagem por extenso, de **zero** até **vinte**.\n",
        "\n",
        "Seu programa deverá ler um número pelo teclado (entre 0 e 20) e mostrá-lo por **extenso**."
      ],
      "metadata": {
        "id": "IDuajzJBihUu"
      }
    },
    {
      "cell_type": "code",
      "source": [
        "tupla = ('zero', 'um', 'dois', 'três', 'quatro', 'cinco', 'seis', 'sete', 'oito', 'nove', 'dez', 'onze', 'doze', 'treze', 'catorze', 'quinze', 'dezesseis', 'dezassete', 'dezoito', 'dezanove', 'vinte')\n",
        "\n",
        "for seq in range(0,21):\n",
        "  print(tupla[seq])"
      ],
      "metadata": {
        "colab": {
          "base_uri": "https://localhost:8080/"
        },
        "id": "9iRlueuxiiW9",
        "outputId": "77d512e2-9bb7-4776-ea02-dd5896a22154"
      },
      "execution_count": 23,
      "outputs": [
        {
          "output_type": "stream",
          "name": "stdout",
          "text": [
            "zero\n",
            "um\n",
            "dois\n",
            "três\n",
            "quatro\n",
            "cinco\n",
            "seis\n",
            "sete\n",
            "oito\n",
            "nove\n",
            "dez\n",
            "onze\n",
            "doze\n",
            "treze\n",
            "catorze\n",
            "quinze\n",
            "dezesseis\n",
            "dezassete\n",
            "dezoito\n",
            "dezanove\n",
            "vinte\n"
          ]
        }
      ]
    },
    {
      "cell_type": "code",
      "source": [
        "userNum = int(input('Please, say a number in interval between [0,20]: '))\n",
        "while userNum < 0 or userNum > 20:\n",
        "  userNum = int(input('Please try again!\\n\\n Say a number in interval between [0,20]: '))\n",
        "for seq in tupla:\n",
        "  print(f'You choose {tupla[userNum]}')\n",
        "  break"
      ],
      "metadata": {
        "colab": {
          "base_uri": "https://localhost:8080/"
        },
        "id": "E4jLmb57ip7q",
        "outputId": "d1d82351-ee1d-437c-b107-2e247c5f3cd3"
      },
      "execution_count": 24,
      "outputs": [
        {
          "output_type": "stream",
          "name": "stdout",
          "text": [
            "Please, say a number in interval between [0,20]: 56\n",
            "Please try again!\n",
            "\n",
            " Say a number in interval between [0,20]: 19\n",
            "You choose dezanove\n"
          ]
        }
      ]
    },
    {
      "cell_type": "markdown",
      "source": [
        "# Desafio 073\n",
        "\n",
        "Crie uma **tupla** preenchida com os **20 primeiros** colocados da Tabela do **Campeonato Brasileiro de Futebol**, na ordem de colocação. Depois mostre:\n",
        "\n",
        "A) Apenas os **5** **primeiros** colocados.\n",
        "\n",
        "B) Os **últimos 4** colocados da tabela.\n",
        "\n",
        "C) Uma lista com os times em **ordem alfabética**.\n",
        "\n",
        "D) Em que **posição** na tabela está o time da **Chapecoense**."
      ],
      "metadata": {
        "id": "27Ec0_tRiWjf"
      }
    },
    {
      "cell_type": "code",
      "execution_count": 54,
      "metadata": {
        "colab": {
          "base_uri": "https://localhost:8080/"
        },
        "id": "9AhMxNLciFc9",
        "outputId": "005c5ac4-b4b4-4c3b-a40c-f10f748bbd7f"
      },
      "outputs": [
        {
          "output_type": "stream",
          "name": "stdout",
          "text": [
            "1 - Palmeiras\n",
            "2 - Corinthians\n",
            "3 - Fluminense\n",
            "4 - Athletico-PR\n",
            "5 - Flamengo\n",
            " - - - \n",
            "17 - Cuiabá\n",
            "18 - Fortaleza\n",
            "19 - Atlético-GO\n",
            "20 - Juventude\n"
          ]
        }
      ],
      "source": [
        "tupla = ('Palmeiras', 'Corinthians', 'Fluminense', 'Athletico-PR', 'Flamengo', 'Internacional', 'Atlético-MG', 'Bragantino', 'Santos', 'São Paulo', 'Goías', 'Botafogo', 'América-MG', 'Ceará SC', 'Coritiba', 'Avaí', 'Cuiabá', 'Fortaleza', 'Atlético-GO', 'Juventude'  )\n",
        "\n",
        "\n",
        "#A\n",
        "best = 5\n",
        "\n",
        "for clubs in range(0, best):\n",
        "  print(f'{clubs+1} - {tupla[clubs]}')\n",
        "\n",
        "print(' - - - ')\n",
        "\n",
        "\n",
        "for clubs in range(len(tupla)-best+1, len(tupla)):\n",
        "  print(f'{clubs+1} - {tupla[clubs]}')\n",
        "# Como não há Chapecoense, emito a mensagem que não está no Brasileirão e por exemplo a equipa tal tal está no lugar tal"
      ]
    },
    {
      "cell_type": "code",
      "execution_count": 64,
      "metadata": {
        "colab": {
          "base_uri": "https://localhost:8080/"
        },
        "outputId": "2c96a77e-ee2f-41d6-fcb5-4a7e28b6d8ae",
        "id": "QUusRqMf0Vzy"
      },
      "outputs": [
        {
          "output_type": "stream",
          "name": "stdout",
          "text": [
            "17 - Avaí\n",
            "18 - Cuiabá\n",
            "19 - Fortaleza\n",
            "20 - Atlético-GO\n"
          ]
        }
      ],
      "source": [
        "for clubs in range(0, best-1):\n",
        "  print(f'{len(tupla)-best+clubs+2} - {tupla[-best+clubs]}')\n",
        "# Como não há Chapecoense, emito a mensagem que não está no Brasileirão e por exemplo a equipa tal tal está no lugar tal"
      ]
    },
    {
      "cell_type": "code",
      "source": [
        "better = tupla[:5]\n",
        "for turma in better:\n",
        "  print(turma)"
      ],
      "metadata": {
        "colab": {
          "base_uri": "https://localhost:8080/"
        },
        "id": "7oNTqxBmicA9",
        "outputId": "961bc253-c9e4-40c5-a770-35a9af05ce7a"
      },
      "execution_count": 43,
      "outputs": [
        {
          "output_type": "stream",
          "name": "stdout",
          "text": [
            "Palmeiras\n",
            "Corinthians\n",
            "Fluminense\n",
            "Athletico-PR\n",
            "Flamengo\n"
          ]
        }
      ]
    },
    {
      "cell_type": "code",
      "source": [
        "worst = tupla[len(tupla)-4:]\n",
        "for turma in worst:\n",
        "  print(f'{tupla.index(turma)+1} - {turma}') # len(tupla)-4"
      ],
      "metadata": {
        "colab": {
          "base_uri": "https://localhost:8080/"
        },
        "id": "tJBALO3m278D",
        "outputId": "e8c6630f-f376-4444-93c2-c7919a85de03"
      },
      "execution_count": 87,
      "outputs": [
        {
          "output_type": "stream",
          "name": "stdout",
          "text": [
            "17 - Cuiabá\n",
            "18 - Fortaleza\n",
            "19 - Atlético-GO\n",
            "20 - Juventude\n"
          ]
        }
      ]
    },
    {
      "cell_type": "code",
      "source": [
        "for teams in tupla[:5]:\n",
        "  print(teams)"
      ],
      "metadata": {
        "colab": {
          "base_uri": "https://localhost:8080/"
        },
        "id": "gpy7AamGtgfk",
        "outputId": "7f139a68-c878-4ba1-8a1b-744c0603cf17"
      },
      "execution_count": 47,
      "outputs": [
        {
          "output_type": "stream",
          "name": "stdout",
          "text": [
            "Palmeiras\n",
            "Corinthians\n",
            "Fluminense\n",
            "Athletico-PR\n",
            "Flamengo\n"
          ]
        }
      ]
    },
    {
      "cell_type": "code",
      "source": [
        "for teams in tupla[len(tupla)-4:]:\n",
        "  print(f'{tupla.index(teams)+1} - {teams}')\n",
        "  "
      ],
      "metadata": {
        "colab": {
          "base_uri": "https://localhost:8080/"
        },
        "id": "AlMMg3G14szs",
        "outputId": "238fee21-bdf2-4ecf-e418-aa4652714978"
      },
      "execution_count": 84,
      "outputs": [
        {
          "output_type": "stream",
          "name": "stdout",
          "text": [
            "17 - Cuiabá\n",
            "18 - Fortaleza\n",
            "19 - Atlético-GO\n",
            "20 - Juventude\n"
          ]
        }
      ]
    },
    {
      "cell_type": "code",
      "source": [
        "tupla[:5]"
      ],
      "metadata": {
        "colab": {
          "base_uri": "https://localhost:8080/"
        },
        "id": "ETx29moHr--e",
        "outputId": "9e60f7af-954b-45b7-f60e-7f386dbe7a2c"
      },
      "execution_count": 34,
      "outputs": [
        {
          "output_type": "execute_result",
          "data": {
            "text/plain": [
              "('Palmeiras', 'Corinthians', 'Fluminense', 'Athletico-PR', 'Flamengo')"
            ]
          },
          "metadata": {},
          "execution_count": 34
        }
      ]
    },
    {
      "cell_type": "code",
      "source": [
        "for count, value in enumerate(tupla[:5]):\n",
        "  print(count+1, value)\n",
        "print('---') \n",
        "for count, value in enumerate(tupla[len(tupla)-best+1:]):\n",
        "  print(len(tupla)-(best-1) + (count+1), value)"
      ],
      "metadata": {
        "colab": {
          "base_uri": "https://localhost:8080/"
        },
        "id": "mrcEB495uCzV",
        "outputId": "aca673ed-8846-4593-fcd2-043740c3b475"
      },
      "execution_count": 90,
      "outputs": [
        {
          "output_type": "stream",
          "name": "stdout",
          "text": [
            "1 Palmeiras\n",
            "2 Corinthians\n",
            "3 Fluminense\n",
            "4 Athletico-PR\n",
            "5 Flamengo\n",
            "---\n",
            "17 Cuiabá\n",
            "18 Fortaleza\n",
            "19 Atlético-GO\n",
            "20 Juventude\n"
          ]
        }
      ]
    },
    {
      "cell_type": "code",
      "source": [
        "# C) \n",
        "\n",
        "ord_tuple = list(tupla)\n",
        "\n",
        "ord_tuple.sort()\n",
        "print(ord_tuple)"
      ],
      "metadata": {
        "colab": {
          "base_uri": "https://localhost:8080/"
        },
        "id": "R4dQJJOfyEXr",
        "outputId": "e5f57c5f-a144-499d-8a39-e6d9cb2824d0"
      },
      "execution_count": 105,
      "outputs": [
        {
          "output_type": "stream",
          "name": "stdout",
          "text": [
            "['América-MG', 'Athletico-PR', 'Atlético-GO', 'Atlético-MG', 'Avaí', 'Botafogo', 'Bragantino', 'Ceará SC', 'Corinthians', 'Coritiba', 'Cuiabá', 'Flamengo', 'Fluminense', 'Fortaleza', 'Goías', 'Internacional', 'Juventude', 'Palmeiras', 'Santos', 'São Paulo']\n"
          ]
        }
      ]
    },
    {
      "cell_type": "code",
      "source": [
        "dir(tupla)"
      ],
      "metadata": {
        "colab": {
          "base_uri": "https://localhost:8080/"
        },
        "id": "g828_OUcBVhU",
        "outputId": "0393174d-500a-401f-8c69-9bb2316c967a"
      },
      "execution_count": 95,
      "outputs": [
        {
          "output_type": "execute_result",
          "data": {
            "text/plain": [
              "['__add__',\n",
              " '__class__',\n",
              " '__contains__',\n",
              " '__delattr__',\n",
              " '__dir__',\n",
              " '__doc__',\n",
              " '__eq__',\n",
              " '__format__',\n",
              " '__ge__',\n",
              " '__getattribute__',\n",
              " '__getitem__',\n",
              " '__getnewargs__',\n",
              " '__gt__',\n",
              " '__hash__',\n",
              " '__init__',\n",
              " '__init_subclass__',\n",
              " '__iter__',\n",
              " '__le__',\n",
              " '__len__',\n",
              " '__lt__',\n",
              " '__mul__',\n",
              " '__ne__',\n",
              " '__new__',\n",
              " '__reduce__',\n",
              " '__reduce_ex__',\n",
              " '__repr__',\n",
              " '__rmul__',\n",
              " '__setattr__',\n",
              " '__sizeof__',\n",
              " '__str__',\n",
              " '__subclasshook__',\n",
              " 'count',\n",
              " 'index']"
            ]
          },
          "metadata": {},
          "execution_count": 95
        }
      ]
    },
    {
      "cell_type": "code",
      "source": [
        "# D) Em que posição está o Internacional\n",
        "def lookPos(team):\n",
        "  pos = 0\n",
        "  for index, teams in enumerate(tupla) :\n",
        "    if teams == team:#'Chapecoense':\n",
        "      pos = index\n",
        "  return pos"
      ],
      "metadata": {
        "id": "rOHcpzmBG3l6"
      },
      "execution_count": null,
      "outputs": []
    },
    {
      "cell_type": "code",
      "source": [
        "cardinalidade = ('st', 'nd', 'rd', 'th') # fazer para a ..."
      ],
      "metadata": {
        "id": "TDnmgtHmP1t2"
      },
      "execution_count": 132,
      "outputs": []
    },
    {
      "cell_type": "code",
      "source": [
        "lookupT = ['Chapecoense', 'Internacional']\n",
        "for index, teams in enumerate(lookupT):\n",
        "  if(lookPos(lookupT[index])):\n",
        "    print(f'The {lookupT[index]} is in the {lookPos(lookupT[index])+1}th position') # place of ')\n",
        "    break\n",
        "  else:\n",
        "    print(f\"{lookupT[index]} team  doesn't play in this competition!\")\n",
        "\n",
        "    \n"
      ],
      "metadata": {
        "colab": {
          "base_uri": "https://localhost:8080/"
        },
        "id": "zLSPuQ45HkYC",
        "outputId": "77616876-f0be-42d1-83b5-6beee47b5b0a"
      },
      "execution_count": 133,
      "outputs": [
        {
          "output_type": "stream",
          "name": "stdout",
          "text": [
            "Chapecoense team  doesn't play in this competition!\n",
            "The Internacional is in the 6th position\n"
          ]
        }
      ]
    },
    {
      "cell_type": "code",
      "source": [
        "del index, teams"
      ],
      "metadata": {
        "id": "alHx_TVNJxiN"
      },
      "execution_count": 118,
      "outputs": []
    },
    {
      "cell_type": "code",
      "source": [
        ""
      ],
      "metadata": {
        "colab": {
          "base_uri": "https://localhost:8080/"
        },
        "id": "fioCmLu-KeR5",
        "outputId": "ae4fe0cd-0353-4a55-f0c7-9897bc894224"
      },
      "execution_count": 119,
      "outputs": [
        {
          "output_type": "stream",
          "name": "stdout",
          "text": [
            "0\n"
          ]
        }
      ]
    },
    {
      "cell_type": "code",
      "source": [
        "pos = 0\n",
        "for index, teams in enumerate(tupla) :\n",
        "    if teams == 'Chapecoense':\n",
        "      pos = index\n",
        "print(pos)"
      ],
      "metadata": {
        "colab": {
          "base_uri": "https://localhost:8080/"
        },
        "id": "ho4kA1wEIkWU",
        "outputId": "b25a01de-dc17-4fa7-e89e-c55a4d6cf60d"
      },
      "execution_count": 117,
      "outputs": [
        {
          "output_type": "stream",
          "name": "stdout",
          "text": [
            "0\n"
          ]
        }
      ]
    }
  ]
}