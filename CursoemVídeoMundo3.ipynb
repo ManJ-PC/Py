{
  "nbformat": 4,
  "nbformat_minor": 0,
  "metadata": {
    "colab": {
      "name": "CursoemVídeoMundo3.ipynb",
      "provenance": [],
      "authorship_tag": "ABX9TyNuqKtJVNkAYCjdtjrykxAm",
      "include_colab_link": true
    },
    "kernelspec": {
      "name": "python3",
      "display_name": "Python 3"
    },
    "language_info": {
      "name": "python"
    }
  },
  "cells": [
    {
      "cell_type": "markdown",
      "metadata": {
        "id": "view-in-github",
        "colab_type": "text"
      },
      "source": [
        "<a href=\"https://colab.research.google.com/github/ManJ-PC/Py/blob/master/CursoemV%C3%ADdeoMundo3.ipynb\" target=\"_parent\"><img src=\"https://colab.research.google.com/assets/colab-badge.svg\" alt=\"Open In Colab\"/></a>"
      ]
    },
    {
      "cell_type": "code",
      "source": [
        "'''variável composta: tuplas, lista, dicionário\n",
        "\n",
        "strings, fatiamento... dentro do pyython tmb funciona ..., \n",
        "\n",
        "colchetes, durante o fatiamento ... divisão\n",
        "\n",
        "\n",
        "lanche -1 começa no fim!\n",
        "estruturas de repetição, ...\n",
        "\n",
        "iteração da estrutura\n",
        "\n",
        "\n",
        "for com o range e para coleções (variáveis compostas como a tupla).\n",
        "\n",
        "termo : as tuplas são imutáveis... não é possível trocar (tirar o pudim da tuplas. fica assim durante o programa diferente!)'''\n"
      ],
      "metadata": {
        "colab": {
          "base_uri": "https://localhost:8080/",
          "height": 70
        },
        "id": "qLb_fsiTjfl_",
        "outputId": "36ae7a21-9e88-4c53-a925-2310ab1965da"
      },
      "execution_count": null,
      "outputs": [
        {
          "output_type": "execute_result",
          "data": {
            "text/plain": [
              "'variável composta: tuplas, lista, dicionário\\n\\nstrings, fatiamento... dentro do pyython tmb funciona ..., \\n\\ncolchetes, durante o fatiamento ... divisão\\n\\n\\nlanche -1 começa no fim!\\nestruturas de repetição, ...\\n\\niteração da estrutura\\n\\n\\nfor com o range e para coleções (variáveis compostas como a tupla).\\n\\ntermo : as tuplas são imutáveis... não é possível trocar (tirar o pudim da tuplas. fica assim durante o programa diferente!)'"
            ],
            "application/vnd.google.colaboratory.intrinsic+json": {
              "type": "string"
            }
          },
          "metadata": {},
          "execution_count": 3
        }
      ]
    },
    {
      "cell_type": "code",
      "source": [
        "'''\n",
        "3 tipos de variáveis compostas:\n",
        "tuple      <- ()  # entender cada uma delas (o que pode ser feito com elas) e as diferenças entre as v.c\n",
        "list       <- [] # colchete\n",
        "dictionary <- {}\n",
        "'''\n",
        "\n",
        "lanche = 2 # variável, é um espaço na memória, simples\n",
        "lanche = 3 # substitui o que estava na memória\n",
        "\n",
        "lanche = (1,3,2,4) # 3 possibilidades de armazenar 4 valores numa variável (composta, em forma de tuple, list or dictionary)\n",
        "\n",
        "# fatiamento, como aconteceu com as strings\n",
        "\n",
        "# analogia as strings, que tmb já são variáveis compostas (manipulação), funcionar antes da aula...\n",
        "lanche[0] # elementos diferentes, como posso acessar a esses elementos da tupla ...? através dos índices\n",
        "# manipulação das strings, através do fatiamento!"
      ],
      "metadata": {
        "colab": {
          "base_uri": "https://localhost:8080/"
        },
        "id": "FQeeLkpDjdtP",
        "outputId": "a198be70-68a8-4212-ed82-662c2f46f83c"
      },
      "execution_count": null,
      "outputs": [
        {
          "output_type": "execute_result",
          "data": {
            "text/plain": [
              "1"
            ]
          },
          "metadata": {},
          "execution_count": 4
        }
      ]
    },
    {
      "cell_type": "code",
      "source": [
        "lanche\n",
        "lanche[0:2] # exclui o index 2 que é o 3º elemento\n",
        "lanche[1:] # 1: écomece no 1 e vai até ao final, fatiamento simples\n",
        "lanche[-1] # último elemento (começa no final quando tem menos)\n",
        "len(lanche) # size, repetições while, while TRUE infinito + break para interromper, for\n",
        "\n",
        "for c in lanche: # implica a iteração, em relação ao C\n",
        "  print(c) # for utilizando com o método range bem como em tupla etc. este 4 são os índexes 0,1,2,3"
      ],
      "metadata": {
        "colab": {
          "base_uri": "https://localhost:8080/"
        },
        "id": "ecywmvY1jb9P",
        "outputId": "565f97e3-ac77-4caa-9071-09f4f6fbf526"
      },
      "execution_count": null,
      "outputs": [
        {
          "output_type": "stream",
          "name": "stdout",
          "text": [
            "1\n",
            "3\n",
            "2\n",
            "4\n"
          ]
        }
      ]
    },
    {
      "cell_type": "code",
      "source": [
        "# tuplas são imutáveis, não conseguimos mudar a tupla ... só correndo de novo o programa\n",
        "\n",
        "#lanche = 'Hambúrguer'\n",
        "#lanche = 'Suco'\n",
        "\n",
        "# lanche = ('Hambúrguer') # a partir do python 3.5 nem precisamosde colocar parentisis ... ora teste na linha abaixo\n",
        "lanche = 'Hambúrguer', 'Suco', 'Pizza', 'Pudim'\n",
        "lanche = ('Hambúrguer', 'Suco', 'Pizza', 'Pudim')\n",
        "print(lanche[1])\n",
        "print(lanche[-2])\n",
        "print(lanche[1:3]) # desconsidera o último elemento, mostra um pedaço da tupla\n",
        "print(lanche[2:])\n",
        "print(lanche[:2]) # mostra os elementos c/ indexes 0 e 1\n",
        "print(lanche[-4:-2]) # pensar na vírgulas com interregnios , contar as vírgulas como se fizessem barreiras e as últimas são os próprios colchetes. Isto mais útil quando são : pedaços, mas ele por norma segue para a direita -2: conta 2 vírgulas a contar do final e depois vai até ao final (mesmo caminho.); se for :-2 é do início e depois começa a contar do fim até 2 virgulas e highlited o que está no meio!\n",
        "print(lanche[-2:])"
      ],
      "metadata": {
        "colab": {
          "base_uri": "https://localhost:8080/"
        },
        "id": "JE2LOlJnjZ2y",
        "outputId": "8af1e78d-1113-479b-d113-d108c31f5370"
      },
      "execution_count": null,
      "outputs": [
        {
          "output_type": "stream",
          "name": "stdout",
          "text": [
            "Suco\n",
            "Pizza\n",
            "('Suco', 'Pizza')\n",
            "('Pizza', 'Pudim')\n",
            "('Hambúrguer', 'Suco')\n",
            "('Hambúrguer', 'Suco')\n",
            "('Pizza', 'Pudim')\n"
          ]
        }
      ]
    },
    {
      "cell_type": "code",
      "source": [
        "lanche[-3:]"
      ],
      "metadata": {
        "colab": {
          "base_uri": "https://localhost:8080/"
        },
        "id": "CZrYf3TsjXb8",
        "outputId": "e7347dd0-d6c4-4bf0-9a27-bbfe2446c8fe"
      },
      "execution_count": null,
      "outputs": [
        {
          "output_type": "execute_result",
          "data": {
            "text/plain": [
              "('Suco', 'Pizza', 'Pudim')"
            ]
          },
          "metadata": {},
          "execution_count": 7
        }
      ]
    },
    {
      "cell_type": "code",
      "source": [
        "lanche[:-2]\n",
        "lanche[:-3] # mostra a vírgula, que interessante!"
      ],
      "metadata": {
        "colab": {
          "base_uri": "https://localhost:8080/"
        },
        "id": "ZVDq_uNzjV0Z",
        "outputId": "7abb7479-c29a-4206-b33d-2ba228b16633"
      },
      "execution_count": null,
      "outputs": [
        {
          "output_type": "execute_result",
          "data": {
            "text/plain": [
              "('Hambúrguer',)"
            ]
          },
          "metadata": {},
          "execution_count": 8
        }
      ]
    },
    {
      "cell_type": "code",
      "source": [
        "print(lanche[0:5]) # funciona igual .."
      ],
      "metadata": {
        "colab": {
          "base_uri": "https://localhost:8080/"
        },
        "id": "4yAp9p8HjUDG",
        "outputId": "7021c209-40d0-49cf-d01c-ba43feab2064"
      },
      "execution_count": null,
      "outputs": [
        {
          "output_type": "stream",
          "name": "stdout",
          "text": [
            "('Hambúrguer', 'Suco', 'Pizza', 'Pudim')\n"
          ]
        }
      ]
    },
    {
      "cell_type": "code",
      "source": [
        "# Tuplas são imutáveis\n",
        "\n",
        "# lanche[1] = 'Refrigerante' # TypeError: 'tuple' object does not support item assignment\n",
        "print(lanche[1])\n",
        "\n",
        "for comida in lanche:\n",
        "  print(f'Eu vou comer {comida}')#lanche[1]}')\n",
        "print('Comi pra Caramba!')"
      ],
      "metadata": {
        "colab": {
          "base_uri": "https://localhost:8080/"
        },
        "id": "YAg9qQQqjRqf",
        "outputId": "2b576a25-1ff9-442e-9016-0a41203b04ca"
      },
      "execution_count": null,
      "outputs": [
        {
          "output_type": "stream",
          "name": "stdout",
          "text": [
            "Suco\n",
            "Eu vou comer Hambúrguer\n",
            "Eu vou comer Suco\n",
            "Eu vou comer Pizza\n",
            "Eu vou comer Pudim\n",
            "Comi pra Caramba!\n"
          ]
        }
      ]
    },
    {
      "cell_type": "code",
      "source": [
        "lanche = ('Hambúrguer', 'Suco', 'Batata Frita', 'Pizza', 'Pudim')\n",
        "\n",
        "for cont in range(0, len(lanche)):\n",
        "  print(f' Vou comer {lanche[cont]} na posição {cont}')  "
      ],
      "metadata": {
        "colab": {
          "base_uri": "https://localhost:8080/"
        },
        "id": "kUO0BrXxjQC3",
        "outputId": "0443345c-fa0e-4ee1-b783-2fdc5a4b6071"
      },
      "execution_count": null,
      "outputs": [
        {
          "output_type": "stream",
          "name": "stdout",
          "text": [
            " Vou comer Hambúrguer na posição 0\n",
            " Vou comer Suco na posição 1\n",
            " Vou comer Batata Frita na posição 2\n",
            " Vou comer Pizza na posição 3\n",
            " Vou comer Pudim na posição 4\n"
          ]
        }
      ]
    },
    {
      "cell_type": "code",
      "source": [
        "lanche = ('Hambúrguer', 'Suco', 'Batata Frita', 'Pizza', 'Pudim')\n",
        "\n",
        "for index, element in enumerate(lanche):\n",
        "  print(f' Vou comer {element} na posição {index}')  # enumerate retorna ... "
      ],
      "metadata": {
        "colab": {
          "base_uri": "https://localhost:8080/"
        },
        "id": "cAhsnEvIjMuY",
        "outputId": "764a0774-246e-47b7-cb9f-9c41c92f0ab6"
      },
      "execution_count": null,
      "outputs": [
        {
          "output_type": "stream",
          "name": "stdout",
          "text": [
            " Vou comer Hambúrguer na posição 0\n",
            " Vou comer Suco na posição 1\n",
            " Vou comer Batata Frita na posição 2\n",
            " Vou comer Pizza na posição 3\n",
            " Vou comer Pudim na posição 4\n"
          ]
        }
      ]
    },
    {
      "cell_type": "code",
      "source": [
        "del index, element"
      ],
      "metadata": {
        "id": "zZe3zFlujOc3"
      },
      "execution_count": null,
      "outputs": []
    },
    {
      "cell_type": "code",
      "source": [
        "for pos, comida in enumerate(lanche):\n",
        "  print(f'Eu vou comer {comida} na posição {pos}')"
      ],
      "metadata": {
        "colab": {
          "base_uri": "https://localhost:8080/"
        },
        "id": "Zir7MDrmjLEt",
        "outputId": "4ba213ea-da75-438f-b75d-c2fdb85850ef"
      },
      "execution_count": null,
      "outputs": [
        {
          "output_type": "stream",
          "name": "stdout",
          "text": [
            "Eu vou comer Hambúrguer na posição 0\n",
            "Eu vou comer Suco na posição 1\n",
            "Eu vou comer Batata Frita na posição 2\n",
            "Eu vou comer Pizza na posição 3\n",
            "Eu vou comer Pudim na posição 4\n"
          ]
        }
      ]
    },
    {
      "cell_type": "code",
      "source": [
        "name_list = ['Jane', 'John', 'Mike']\n",
        "list(enumerate(name_list))"
      ],
      "metadata": {
        "colab": {
          "base_uri": "https://localhost:8080/"
        },
        "id": "JsK7-d0UjI__",
        "outputId": "f71ec889-32c6-4066-a380-466633c2790f"
      },
      "execution_count": null,
      "outputs": [
        {
          "output_type": "execute_result",
          "data": {
            "text/plain": [
              "[(0, 'Jane'), (1, 'John'), (2, 'Mike')]"
            ]
          },
          "metadata": {},
          "execution_count": 16
        }
      ]
    },
    {
      "cell_type": "code",
      "source": [
        "name_list = ('Jane', 'John', 'Mike')\n",
        "list(enumerate(name_list))"
      ],
      "metadata": {
        "colab": {
          "base_uri": "https://localhost:8080/"
        },
        "id": "r-rrt9XcjHRH",
        "outputId": "0a1cd64c-8409-43f5-b7a6-ee5f24c03d8d"
      },
      "execution_count": null,
      "outputs": [
        {
          "output_type": "execute_result",
          "data": {
            "text/plain": [
              "[(0, 'Jane'), (1, 'John'), (2, 'Mike')]"
            ]
          },
          "metadata": {},
          "execution_count": 17
        }
      ]
    },
    {
      "cell_type": "code",
      "source": [
        "name = \"Eric\"\n",
        "profession = \"comedian\"\n",
        "affiliation = \"Monty Python\"\n",
        "message = (\n",
        "  f\"Hi {name}. \"\n",
        "  f\"You are a {profession}. \"\n",
        "  f\"You were in {affiliation}.\"\n",
        ")\n",
        "message"
      ],
      "metadata": {
        "colab": {
          "base_uri": "https://localhost:8080/",
          "height": 35
        },
        "id": "8EB0Xq3EjFQy",
        "outputId": "c15ffe1f-9ad8-46d6-cd74-9b4f18283021"
      },
      "execution_count": null,
      "outputs": [
        {
          "output_type": "execute_result",
          "data": {
            "text/plain": [
              "'Hi Eric. You are a comedian. You were in Monty Python.'"
            ],
            "application/vnd.google.colaboratory.intrinsic+json": {
              "type": "string"
            }
          },
          "metadata": {},
          "execution_count": 18
        }
      ]
    },
    {
      "cell_type": "code",
      "source": [
        "print(lanche)\n",
        "print(sorted(lanche)) # #não mudou#, apenas colocou em ordem! não altera simplestemente coloca em ordem\n",
        "print(lanche) # estado natural"
      ],
      "metadata": {
        "colab": {
          "base_uri": "https://localhost:8080/"
        },
        "id": "84p_bt_gjCrU",
        "outputId": "dc99d867-e1f0-4d34-a194-de591fa08196"
      },
      "execution_count": null,
      "outputs": [
        {
          "output_type": "stream",
          "name": "stdout",
          "text": [
            "('Hambúrguer', 'Suco', 'Batata Frita', 'Pizza', 'Pudim')\n",
            "['Batata Frita', 'Hambúrguer', 'Pizza', 'Pudim', 'Suco']\n",
            "('Hambúrguer', 'Suco', 'Batata Frita', 'Pizza', 'Pudim')\n"
          ]
        }
      ]
    },
    {
      "cell_type": "code",
      "source": [
        "a = (2,5,4)\n",
        "b = (5,8,1,2)\n",
        "print(a)\n",
        "print(b)\n",
        "c = b + a\n",
        "print(c) # junta as tuplas, a ordem tem total influência! Mais uma funcionalidade aí!\n",
        "print(len(c))\n",
        "\n",
        "print(c.count(5)) # o cinco aparece duas vezes\n",
        "print(c.count(9))\n",
        "\n",
        "print(c.index(8))# em que posição está o 8\n",
        "print(c.index(5))# vai buscar o local da 1ª ocurrência\n",
        "\n",
        "print(c.index(5,1))# se for buscar após a 1ª posição, segundo argumento da função, deslocamento segundo argumento"
      ],
      "metadata": {
        "colab": {
          "base_uri": "https://localhost:8080/"
        },
        "id": "Wy-Djyn-jAUk",
        "outputId": "6e385a4d-e857-4188-e6b0-494567b3f729"
      },
      "execution_count": null,
      "outputs": [
        {
          "output_type": "stream",
          "name": "stdout",
          "text": [
            "(2, 5, 4)\n",
            "(5, 8, 1, 2)\n",
            "(5, 8, 1, 2, 2, 5, 4)\n",
            "7\n",
            "2\n",
            "0\n",
            "1\n",
            "0\n",
            "5\n"
          ]
        }
      ]
    },
    {
      "cell_type": "code",
      "source": [
        "pessoa = (1,2,3)\n",
        "\n",
        "pessoa = ('Gustavo', 39, 'M', 99.88) # aceita vários tipos de dados, em outras linguagens não (na generalidade)/ dados de tipos diferentes na tupla\n",
        "print(pessoa)\n",
        "\n",
        "#del(pessoa[0]) #TypeError: 'tuple' object doesn't support item deletion"
      ],
      "metadata": {
        "colab": {
          "base_uri": "https://localhost:8080/"
        },
        "id": "Fo3u4-Zai9--",
        "outputId": "4b0b5704-759e-43ad-bd34-6db40ee7447d"
      },
      "execution_count": null,
      "outputs": [
        {
          "output_type": "stream",
          "name": "stdout",
          "text": [
            "('Gustavo', 39, 'M', 99.88)\n"
          ]
        }
      ]
    },
    {
      "cell_type": "code",
      "source": [
        "del (pessoa)# apagar uma variável\n",
        "#pessoa # NameError: name 'pessoa' is not defined\n"
      ],
      "metadata": {
        "id": "7JqbvFfei6oF"
      },
      "execution_count": null,
      "outputs": []
    },
    {
      "cell_type": "markdown",
      "source": [
        "# Desafio 072\n",
        "\n",
        "Crie um programa que tenha uma **tupla** totalmente prenchida com uma contagem por extenso, de **zero** até **vinte**.\n",
        "\n",
        "Seu programa deverá ler um número pelo teclado (entre 0 e 20) e mostrá-lo por **extenso**."
      ],
      "metadata": {
        "id": "IDuajzJBihUu"
      }
    },
    {
      "cell_type": "code",
      "source": [
        "tupla = ('zero', 'um', 'dois', 'três', 'quatro', 'cinco', 'seis', 'sete', 'oito', 'nove', 'dez', 'onze', 'doze', 'treze', 'catorze', 'quinze', 'dezesseis', 'dezassete', 'dezoito', 'dezanove', 'vinte')\n",
        "\n",
        "for seq in range(0,21):\n",
        "  print(tupla[seq])"
      ],
      "metadata": {
        "colab": {
          "base_uri": "https://localhost:8080/"
        },
        "id": "9iRlueuxiiW9",
        "outputId": "4ca0caed-bf0f-410a-834f-6977b7983846"
      },
      "execution_count": null,
      "outputs": [
        {
          "output_type": "stream",
          "name": "stdout",
          "text": [
            "zero\n",
            "um\n",
            "dois\n",
            "três\n",
            "quatro\n",
            "cinco\n",
            "seis\n",
            "sete\n",
            "oito\n",
            "nove\n",
            "dez\n",
            "onze\n",
            "doze\n",
            "treze\n",
            "catorze\n",
            "quinze\n",
            "dezesseis\n",
            "dezassete\n",
            "dezoito\n",
            "dezanove\n",
            "vinte\n"
          ]
        }
      ]
    },
    {
      "cell_type": "code",
      "source": [
        "dir(tupla)"
      ],
      "metadata": {
        "colab": {
          "base_uri": "https://localhost:8080/"
        },
        "id": "SC4N_6toQkIe",
        "outputId": "76d1ef35-bc9d-4a53-bce7-e2fb3c336088"
      },
      "execution_count": null,
      "outputs": [
        {
          "output_type": "execute_result",
          "data": {
            "text/plain": [
              "['__add__',\n",
              " '__class__',\n",
              " '__contains__',\n",
              " '__delattr__',\n",
              " '__dir__',\n",
              " '__doc__',\n",
              " '__eq__',\n",
              " '__format__',\n",
              " '__ge__',\n",
              " '__getattribute__',\n",
              " '__getitem__',\n",
              " '__getnewargs__',\n",
              " '__gt__',\n",
              " '__hash__',\n",
              " '__init__',\n",
              " '__init_subclass__',\n",
              " '__iter__',\n",
              " '__le__',\n",
              " '__len__',\n",
              " '__lt__',\n",
              " '__mul__',\n",
              " '__ne__',\n",
              " '__new__',\n",
              " '__reduce__',\n",
              " '__reduce_ex__',\n",
              " '__repr__',\n",
              " '__rmul__',\n",
              " '__setattr__',\n",
              " '__sizeof__',\n",
              " '__str__',\n",
              " '__subclasshook__',\n",
              " 'count',\n",
              " 'index']"
            ]
          },
          "metadata": {},
          "execution_count": 70
        }
      ]
    },
    {
      "cell_type": "code",
      "source": [
        "sorted([3,5,7,3,4,6,8])"
      ],
      "metadata": {
        "colab": {
          "base_uri": "https://localhost:8080/"
        },
        "id": "2Inu00mYdo9c",
        "outputId": "c3bb935f-a395-4def-f717-314b76248d40"
      },
      "execution_count": null,
      "outputs": [
        {
          "output_type": "execute_result",
          "data": {
            "text/plain": [
              "[3, 3, 4, 5, 6, 7, 8]"
            ]
          },
          "metadata": {},
          "execution_count": 71
        }
      ]
    },
    {
      "cell_type": "code",
      "source": [
        "userNum = int(input('Please, say a number in interval between [0,20]: '))\n",
        "while userNum < 0 or userNum > 20:\n",
        "  userNum = int(input('Please try again!\\n\\n Say a number in interval between [0,20]: '))\n",
        "#for seq in tupla:\n",
        "print(f'You choose {tupla[userNum]}') # após fazer ver e comparar com o outro programa... ficou mais simples! \n",
        "#break # Fiz tudo ao contrário... enquanto ele colocou o ciclo a True e ... caso o número estivesse limitado, faria o break;  True"
      ],
      "metadata": {
        "colab": {
          "base_uri": "https://localhost:8080/"
        },
        "id": "E4jLmb57ip7q",
        "outputId": "91bf4340-679f-4279-817e-c65e7480c9ff"
      },
      "execution_count": null,
      "outputs": [
        {
          "output_type": "stream",
          "name": "stdout",
          "text": [
            "Please, say a number in interval between [0,20]: 32\n",
            "Please try again!\n",
            "\n",
            " Say a number in interval between [0,20]: 9\n",
            "You choose nove\n"
          ]
        }
      ]
    },
    {
      "cell_type": "code",
      "source": [
        "sorted([3,5,7,3,4,6,8], reverse=True)"
      ],
      "metadata": {
        "colab": {
          "base_uri": "https://localhost:8080/"
        },
        "id": "JCniy0BgdydS",
        "outputId": "2bd2d67a-5982-409b-a6aa-0214cfdc9730"
      },
      "execution_count": null,
      "outputs": [
        {
          "output_type": "execute_result",
          "data": {
            "text/plain": [
              "[8, 7, 6, 5, 4, 3, 3]"
            ]
          },
          "metadata": {},
          "execution_count": 73
        }
      ]
    },
    {
      "cell_type": "code",
      "source": [
        "# Solution by Gustavo Guanabara\n",
        "\n",
        "cont = ('zero', 'um', 'dois', 'três', 'quatro', #80 letras por comando, por questões estéticas\n",
        "        'cinco', 'seis', 'sete', 'oito', 'nove',\n",
        "        'dez', 'onze', 'doze', 'treze', 'catorze',\n",
        "        'quinze', 'dezesseis', 'dezassete', 'dezoito',\n",
        "        'dezanove', 'vinte')\n",
        "while True:\n",
        "  núm = int(input('Digite um número entre 0  e 20: '))\n",
        "  if 0 <= núm <= 20: # se encontrar baza e printa a seguir\n",
        "    break\n",
        "  print('Tente novamente. ', end='') # validação para ver se o número está dentro do limite ...no intervalo estipulado/compreendido\n",
        "print(f'Voçê digitou o número {cont[núm]}')"
      ],
      "metadata": {
        "colab": {
          "base_uri": "https://localhost:8080/"
        },
        "id": "U6RdOl7MvXtE",
        "outputId": "6db91549-ddce-46f1-fff8-024b4b1b7a23"
      },
      "execution_count": null,
      "outputs": [
        {
          "output_type": "stream",
          "name": "stdout",
          "text": [
            "Digite um número entre o e 20: 8\n",
            "Voçê digitou o número oito\n"
          ]
        }
      ]
    },
    {
      "cell_type": "code",
      "source": [
        "# Solution by Gustavo Guanabara + extra\n",
        "\n",
        "cont = ('zero', 'um', 'dois', 'três', 'quatro', #80 letras por comando, por questões estéticas\n",
        "        'cinco', 'seis', 'sete', 'oito', 'nove',\n",
        "        'dez', 'onze', 'doze', 'treze', 'catorze',\n",
        "        'quinze', 'dezesseis', 'dezassete', 'dezoito',\n",
        "        'dezanove', 'vinte')\n",
        "next = 'Y'\n",
        "while next in 'Y':\n",
        "  núm = int(input('Digite um número entre o e 20: '))\n",
        "  if 0 <= núm <= 20:\n",
        "    print(f'Voçê digitou o número {cont[núm]}')\n",
        "  else:\n",
        "    print('Tente novamente. ', end='') # validação para ver se o número está dentro do limite ...no intervalo estipulado/compreendido\n",
        "  next = ' '\n",
        "  while next not in 'YN':\n",
        "    next = str(input('Do you want continue? \\n Yes press [Y] \\n No press [N]\\n')).strip().upper()"
      ],
      "metadata": {
        "colab": {
          "base_uri": "https://localhost:8080/"
        },
        "id": "55BKNElzysxr",
        "outputId": "08630635-bdc6-49c4-8fdc-c590cd856cd4"
      },
      "execution_count": null,
      "outputs": [
        {
          "name": "stdout",
          "output_type": "stream",
          "text": [
            "Digite um número entre o e 20: 11\n",
            "Voçê digitou o número onze\n",
            "Do you want continue? \n",
            " Yes press [Y] \n",
            " No press [N]\n",
            "y\n",
            "Digite um número entre o e 20: 77\n",
            "Tente novamente. Do you want continue? \n",
            " Yes press [Y] \n",
            " No press [N]\n",
            "y\n",
            "Digite um número entre o e 20: 13\n",
            "Voçê digitou o número treze\n",
            "Do you want continue? \n",
            " Yes press [Y] \n",
            " No press [N]\n",
            "n\n"
          ]
        }
      ]
    },
    {
      "cell_type": "markdown",
      "source": [
        "# Desafio 073\n",
        "\n",
        "Crie uma **tupla** preenchida com os **20 primeiros** colocados da Tabela do **Campeonato Brasileiro de Futebol**, na ordem de colocação. Depois mostre:\n",
        "\n",
        "A) Apenas os **5** **primeiros** colocados.\n",
        "\n",
        "B) Os **últimos 4** colocados da tabela.\n",
        "\n",
        "C) Uma lista com os times em **ordem alfabética**.\n",
        "\n",
        "D) Em que **posição** na tabela está o time da **Chapecoense**."
      ],
      "metadata": {
        "id": "27Ec0_tRiWjf"
      }
    },
    {
      "cell_type": "code",
      "execution_count": null,
      "metadata": {
        "colab": {
          "base_uri": "https://localhost:8080/"
        },
        "id": "9AhMxNLciFc9",
        "outputId": "1ac8c6e8-f000-4576-882d-a678fd72710b"
      },
      "outputs": [
        {
          "output_type": "stream",
          "name": "stdout",
          "text": [
            "1 - Palmeiras\n",
            "2 - Corinthians\n",
            "3 - Fluminense\n",
            "4 - Athletico-PR\n",
            "5 - Flamengo\n",
            " - - - \n",
            "17 - Cuiabá\n",
            "18 - Fortaleza\n",
            "19 - Atlético-GO\n",
            "20 - Juventude\n"
          ]
        }
      ],
      "source": [
        "tupla = ('Palmeiras', 'Corinthians', 'Fluminense', 'Athletico-PR', 'Flamengo', 'Internacional', 'Atlético-MG', 'Bragantino', 'Santos', 'São Paulo', 'Goías', 'Botafogo', 'América-MG', 'Ceará SC', 'Coritiba', 'Avaí', 'Cuiabá', 'Fortaleza', 'Atlético-GO', 'Juventude'  )\n",
        "\n",
        "\n",
        "#A\n",
        "best = 5\n",
        "\n",
        "for clubs in range(0, best):\n",
        "  print(f'{clubs+1} - {tupla[clubs]}')\n",
        "\n",
        "print(' - - - ')\n",
        "\n",
        "\n",
        "for clubs in range(len(tupla)-best+1, len(tupla)):\n",
        "  print(f'{clubs+1} - {tupla[clubs]}')\n",
        "# Como não há Chapecoense, emito a mensagem que não está no Brasileirão e por exemplo a equipa tal tal está no lugar tal"
      ]
    },
    {
      "cell_type": "code",
      "execution_count": null,
      "metadata": {
        "colab": {
          "base_uri": "https://localhost:8080/"
        },
        "outputId": "1e73d148-86da-4abe-e0d7-5d8003ef97a0",
        "id": "QUusRqMf0Vzy"
      },
      "outputs": [
        {
          "output_type": "stream",
          "name": "stdout",
          "text": [
            "17 - Avaí\n",
            "18 - Cuiabá\n",
            "19 - Fortaleza\n",
            "20 - Atlético-GO\n"
          ]
        }
      ],
      "source": [
        "for clubs in range(0, best-1):\n",
        "  print(f'{len(tupla)-best+clubs+2} - {tupla[-best+clubs]}')\n",
        "# Como não há Chapecoense, emito a mensagem que não está no Brasileirão e por exemplo a equipa tal tal está no lugar tal"
      ]
    },
    {
      "cell_type": "code",
      "source": [
        "better = tupla[:5] # não é preciso fazer ciclos...\n",
        "print(better)\n",
        "for turma in better:\n",
        "  print(turma)"
      ],
      "metadata": {
        "colab": {
          "base_uri": "https://localhost:8080/"
        },
        "id": "7oNTqxBmicA9",
        "outputId": "7fd2dab4-fcb5-47dc-be37-66645669358b"
      },
      "execution_count": null,
      "outputs": [
        {
          "output_type": "stream",
          "name": "stdout",
          "text": [
            "('Palmeiras', 'Corinthians', 'Fluminense', 'Athletico-PR', 'Flamengo')\n",
            "Palmeiras\n",
            "Corinthians\n",
            "Fluminense\n",
            "Athletico-PR\n",
            "Flamengo\n"
          ]
        }
      ]
    },
    {
      "cell_type": "code",
      "source": [
        "worst = tupla[len(tupla)-4:]\n",
        "for turma in worst:\n",
        "  print(f'{tupla.index(turma)+1} - {turma}') # len(tupla)-4"
      ],
      "metadata": {
        "colab": {
          "base_uri": "https://localhost:8080/"
        },
        "id": "tJBALO3m278D",
        "outputId": "50fa69f0-bc0c-4c10-db56-c872626efdbc"
      },
      "execution_count": null,
      "outputs": [
        {
          "output_type": "stream",
          "name": "stdout",
          "text": [
            "17 - Cuiabá\n",
            "18 - Fortaleza\n",
            "19 - Atlético-GO\n",
            "20 - Juventude\n"
          ]
        }
      ]
    },
    {
      "cell_type": "code",
      "source": [
        "for teams in tupla[:5]:\n",
        "  print(teams)"
      ],
      "metadata": {
        "colab": {
          "base_uri": "https://localhost:8080/"
        },
        "id": "gpy7AamGtgfk",
        "outputId": "4a465c79-5afb-4540-9ad0-5ce5a083c401"
      },
      "execution_count": null,
      "outputs": [
        {
          "output_type": "stream",
          "name": "stdout",
          "text": [
            "Palmeiras\n",
            "Corinthians\n",
            "Fluminense\n",
            "Athletico-PR\n",
            "Flamengo\n"
          ]
        }
      ]
    },
    {
      "cell_type": "code",
      "source": [
        "for teams in tupla[len(tupla)-4:]:\n",
        "  print(f'{tupla.index(teams)+1} - {teams}')\n",
        "  "
      ],
      "metadata": {
        "colab": {
          "base_uri": "https://localhost:8080/"
        },
        "id": "AlMMg3G14szs",
        "outputId": "e307a10f-2d7f-480b-d5ef-e79640860281"
      },
      "execution_count": null,
      "outputs": [
        {
          "output_type": "stream",
          "name": "stdout",
          "text": [
            "17 - Cuiabá\n",
            "18 - Fortaleza\n",
            "19 - Atlético-GO\n",
            "20 - Juventude\n"
          ]
        }
      ]
    },
    {
      "cell_type": "code",
      "source": [
        "tupla[:5]"
      ],
      "metadata": {
        "colab": {
          "base_uri": "https://localhost:8080/"
        },
        "id": "ETx29moHr--e",
        "outputId": "f007b09a-84b1-43fd-ca4f-c1c9e6ba5a1f"
      },
      "execution_count": null,
      "outputs": [
        {
          "output_type": "execute_result",
          "data": {
            "text/plain": [
              "('Palmeiras', 'Corinthians', 'Fluminense', 'Athletico-PR', 'Flamengo')"
            ]
          },
          "metadata": {},
          "execution_count": 7
        }
      ]
    },
    {
      "cell_type": "code",
      "source": [
        "for count, value in enumerate(tupla[:5]):\n",
        "  print(count+1, value)\n",
        "print('---') \n",
        "for count, value in enumerate(tupla[len(tupla)-best+1:]):\n",
        "  print(len(tupla)-(best-1) + (count+1), value)"
      ],
      "metadata": {
        "colab": {
          "base_uri": "https://localhost:8080/"
        },
        "id": "mrcEB495uCzV",
        "outputId": "8c0ca04a-1ade-4fa4-f73f-d039b2360978"
      },
      "execution_count": null,
      "outputs": [
        {
          "output_type": "stream",
          "name": "stdout",
          "text": [
            "1 Palmeiras\n",
            "2 Corinthians\n",
            "3 Fluminense\n",
            "4 Athletico-PR\n",
            "5 Flamengo\n",
            "---\n",
            "17 Cuiabá\n",
            "18 Fortaleza\n",
            "19 Atlético-GO\n",
            "20 Juventude\n"
          ]
        }
      ]
    },
    {
      "cell_type": "code",
      "source": [
        "# C) \n",
        "\n",
        "ord_tuple = list(tupla)\n",
        "\n",
        "ord_tuple.sort()\n",
        "print(ord_tuple)"
      ],
      "metadata": {
        "colab": {
          "base_uri": "https://localhost:8080/"
        },
        "id": "R4dQJJOfyEXr",
        "outputId": "e5f57c5f-a144-499d-8a39-e6d9cb2824d0"
      },
      "execution_count": null,
      "outputs": [
        {
          "output_type": "stream",
          "name": "stdout",
          "text": [
            "['América-MG', 'Athletico-PR', 'Atlético-GO', 'Atlético-MG', 'Avaí', 'Botafogo', 'Bragantino', 'Ceará SC', 'Corinthians', 'Coritiba', 'Cuiabá', 'Flamengo', 'Fluminense', 'Fortaleza', 'Goías', 'Internacional', 'Juventude', 'Palmeiras', 'Santos', 'São Paulo']\n"
          ]
        }
      ]
    },
    {
      "cell_type": "code",
      "source": [
        "print(sorted(tupla))"
      ],
      "metadata": {
        "colab": {
          "base_uri": "https://localhost:8080/"
        },
        "id": "NVy38pw7-zcZ",
        "outputId": "19bfd9d6-53bb-4ab3-e691-615ebe52a186"
      },
      "execution_count": null,
      "outputs": [
        {
          "output_type": "stream",
          "name": "stdout",
          "text": [
            "['América-MG', 'Athletico-PR', 'Atlético-GO', 'Atlético-MG', 'Avaí', 'Botafogo', 'Bragantino', 'Ceará SC', 'Corinthians', 'Coritiba', 'Cuiabá', 'Flamengo', 'Fluminense', 'Fortaleza', 'Goías', 'Internacional', 'Juventude', 'Palmeiras', 'Santos', 'São Paulo']\n"
          ]
        }
      ]
    },
    {
      "cell_type": "code",
      "source": [
        "dir(tupla)"
      ],
      "metadata": {
        "colab": {
          "base_uri": "https://localhost:8080/"
        },
        "id": "g828_OUcBVhU",
        "outputId": "0393174d-500a-401f-8c69-9bb2316c967a"
      },
      "execution_count": null,
      "outputs": [
        {
          "output_type": "execute_result",
          "data": {
            "text/plain": [
              "['__add__',\n",
              " '__class__',\n",
              " '__contains__',\n",
              " '__delattr__',\n",
              " '__dir__',\n",
              " '__doc__',\n",
              " '__eq__',\n",
              " '__format__',\n",
              " '__ge__',\n",
              " '__getattribute__',\n",
              " '__getitem__',\n",
              " '__getnewargs__',\n",
              " '__gt__',\n",
              " '__hash__',\n",
              " '__init__',\n",
              " '__init_subclass__',\n",
              " '__iter__',\n",
              " '__le__',\n",
              " '__len__',\n",
              " '__lt__',\n",
              " '__mul__',\n",
              " '__ne__',\n",
              " '__new__',\n",
              " '__reduce__',\n",
              " '__reduce_ex__',\n",
              " '__repr__',\n",
              " '__rmul__',\n",
              " '__setattr__',\n",
              " '__sizeof__',\n",
              " '__str__',\n",
              " '__subclasshook__',\n",
              " 'count',\n",
              " 'index']"
            ]
          },
          "metadata": {},
          "execution_count": 95
        }
      ]
    },
    {
      "cell_type": "code",
      "source": [
        "# D) Em que posição está o Internacional\n",
        "def lookPos(team):\n",
        "  pos = 0\n",
        "  for index, teams in enumerate(tupla) :\n",
        "    if teams == team:#'Chapecoense':\n",
        "      pos = index\n",
        "  return pos"
      ],
      "metadata": {
        "id": "rOHcpzmBG3l6"
      },
      "execution_count": null,
      "outputs": []
    },
    {
      "cell_type": "code",
      "source": [
        "cardinalidade = ('st', 'nd', 'rd', 'th') # fazer para a ..."
      ],
      "metadata": {
        "id": "TDnmgtHmP1t2"
      },
      "execution_count": null,
      "outputs": []
    },
    {
      "cell_type": "code",
      "source": [
        "lookupT = ['Chapecoense', 'Internacional']\n",
        "for index, teams in enumerate(lookupT):\n",
        "  if(lookPos(lookupT[index])):\n",
        "    print(f'The {lookupT[index]} is in the {lookPos(lookupT[index])+1}th position') # place of ')\n",
        "    break\n",
        "  else:\n",
        "    print(f\"{lookupT[index]} team  doesn't play in this competition!\")\n",
        "\n",
        "    \n"
      ],
      "metadata": {
        "colab": {
          "base_uri": "https://localhost:8080/"
        },
        "id": "zLSPuQ45HkYC",
        "outputId": "85a4897f-2562-4700-d615-6bc76f5ee81d"
      },
      "execution_count": null,
      "outputs": [
        {
          "output_type": "stream",
          "name": "stdout",
          "text": [
            "Chapecoense team  doesn't play in this competition!\n",
            "The Internacional is in the 6th position\n"
          ]
        }
      ]
    },
    {
      "cell_type": "code",
      "source": [
        "del index, teams"
      ],
      "metadata": {
        "id": "alHx_TVNJxiN"
      },
      "execution_count": null,
      "outputs": []
    },
    {
      "cell_type": "code",
      "source": [
        ""
      ],
      "metadata": {
        "colab": {
          "base_uri": "https://localhost:8080/"
        },
        "id": "fioCmLu-KeR5",
        "outputId": "ae4fe0cd-0353-4a55-f0c7-9897bc894224"
      },
      "execution_count": null,
      "outputs": [
        {
          "output_type": "stream",
          "name": "stdout",
          "text": [
            "0\n"
          ]
        }
      ]
    },
    {
      "cell_type": "code",
      "source": [
        "pos = 0\n",
        "for index, teams in enumerate(tupla) :\n",
        "    if teams == 'Chapecoense':\n",
        "      pos = index\n",
        "print(pos)"
      ],
      "metadata": {
        "colab": {
          "base_uri": "https://localhost:8080/"
        },
        "id": "ho4kA1wEIkWU",
        "outputId": "d395b633-3e23-4379-de37-3681d9e69121"
      },
      "execution_count": null,
      "outputs": [
        {
          "output_type": "stream",
          "name": "stdout",
          "text": [
            "0\n"
          ]
        }
      ]
    },
    {
      "cell_type": "code",
      "source": [
        "# Solution by Gustavo Guanabara\n",
        "times = ('Corinthians', 'Palmeiras', 'Santos', 'Grêmio', # imutabilidade, então a solução para mostrar as mudanças seria usando listas...\n",
        "         'Cruzeiro', 'Flamengo', 'Vasco da Gama', 'Chapecoense',\n",
        "         'Atlético', 'Borafogo', 'Atlético-PR', 'Bahia',\n",
        "         'São Paulo', 'Fluminense', 'Sport Recife', 'EC Vitória', 'Coritiba', 'Avaí', \n",
        "         'Ponta Preta', 'Atlético-GO') # coleções\n",
        "# print(f'Lista de times: {times}')\n",
        "print('-=' * 15)\n",
        "print(f'Lista de times do Brasileirão: {times}')\n",
        "print('-=' * 15)\n",
        "print(f'Os 5 primeiros são {times[0:5]}')\n",
        "print(f'Os 4 últimos são {times[-4:]}')\n",
        "print(f'Times em ordem alfabética: {sorted(times)}')\n",
        "print('-=' * 15)\n",
        "print(f'O Chapecoense está na {times.index(\"Chapecoense\")+1}ª posição') # claro uso a função que já está definida!"
      ],
      "metadata": {
        "colab": {
          "base_uri": "https://localhost:8080/"
        },
        "id": "sEyaHBbD5Xov",
        "outputId": "8112496f-4d6f-4aa4-9976-4c835c9098b8"
      },
      "execution_count": null,
      "outputs": [
        {
          "output_type": "stream",
          "name": "stdout",
          "text": [
            "-=-=-=-=-=-=-=-=-=-=-=-=-=-=-=\n",
            "Lista de times do Brasileirão: ('Corinthians', 'Palmeiras', 'Santos', 'Grêmio', 'Cruzeiro', 'Flamengo', 'Vasco da Gama', 'Chapecoense', 'Atlético', 'Borafogo', 'Atlético-PR', 'Bahia', 'São Paulo', 'Fluminense', 'Sport Recife', 'EC Vitória', 'Coritiba', 'Avaí', 'Ponta Preta', 'Atlético-GO')\n",
            "-=-=-=-=-=-=-=-=-=-=-=-=-=-=-=\n",
            "Os 5 primeiros são ('Corinthians', 'Palmeiras', 'Santos', 'Grêmio', 'Cruzeiro')\n",
            "Os 4 últimos são ('Coritiba', 'Avaí', 'Ponta Preta', 'Atlético-GO')\n",
            "Times em ordem alfabética: ['Atlético', 'Atlético-GO', 'Atlético-PR', 'Avaí', 'Bahia', 'Borafogo', 'Chapecoense', 'Corinthians', 'Coritiba', 'Cruzeiro', 'EC Vitória', 'Flamengo', 'Fluminense', 'Grêmio', 'Palmeiras', 'Ponta Preta', 'Santos', 'Sport Recife', 'São Paulo', 'Vasco da Gama']\n",
            "-=-=-=-=-=-=-=-=-=-=-=-=-=-=-=\n",
            "O Chapecoense está na 8ª posição\n"
          ]
        }
      ]
    },
    {
      "cell_type": "code",
      "source": [
        ""
      ],
      "metadata": {
        "id": "sYTfLQEN7h0x"
      },
      "execution_count": null,
      "outputs": []
    },
    {
      "cell_type": "markdown",
      "source": [
        "# Desafio 074\n",
        "\n",
        "Crie um programa que vai gerar **cinco números aleatórios** e colocar em uma **tupla**.\n",
        "\n",
        "Depois disso, mostre a **listagem de números** gerados e também indique o **menor** e o **maior** valor que estão na tupla."
      ],
      "metadata": {
        "id": "lG61w_clQ3hq"
      }
    },
    {
      "cell_type": "code",
      "source": [
        "from random import randint\n",
        "\n",
        "tuple = ()\n",
        "for i in range(0,5):\n",
        "  part = (randint(0,51),)\n",
        "  tuple = tuple + part\n",
        "\n",
        "  #or substitute two lines above for: tuple = tuple + (randint(0,51),)\n",
        "print(tuple)"
      ],
      "metadata": {
        "colab": {
          "base_uri": "https://localhost:8080/"
        },
        "id": "19e6CUP2QoHt",
        "outputId": "0098f051-bff7-4b6e-a00e-13504400703f"
      },
      "execution_count": null,
      "outputs": [
        {
          "output_type": "stream",
          "name": "stdout",
          "text": [
            "(21, 26, 36, 8, 4)\n"
          ]
        }
      ]
    },
    {
      "cell_type": "code",
      "source": [
        "def greatminimum(tupla):\n",
        "  min = max = 0\n",
        "  for index, elem in enumerate(tupla):\n",
        "    if index == 0 or elem < min:\n",
        "      min = elem\n",
        "    if index == 0 or elem > max:\n",
        "      max = elem\n",
        "    # print( index, elem)\n",
        "  return min, max"
      ],
      "metadata": {
        "id": "dax1ZpFnYero"
      },
      "execution_count": null,
      "outputs": []
    },
    {
      "cell_type": "code",
      "source": [
        " print(f' The minimum and maximum is {greatminimum(tuple)} in our {tuple}')"
      ],
      "metadata": {
        "colab": {
          "base_uri": "https://localhost:8080/"
        },
        "id": "XOyri3F7Zlkz",
        "outputId": "c5cfa05e-23ae-4e51-ac7d-17dfdd2ee0d7"
      },
      "execution_count": null,
      "outputs": [
        {
          "output_type": "stream",
          "name": "stdout",
          "text": [
            " The minimum and maximum is (15, 41) in our (25, 41, 31, 32, 15)\n"
          ]
        }
      ]
    },
    {
      "cell_type": "code",
      "source": [
        "# easy way\n",
        "from random import randint\n",
        "smaller = bigger = 0\n",
        "tuple = ()\n",
        "for i in range(0,5):\n",
        "  part = (randint(0,51),)\n",
        "  if i == 0 or part[0] < smaller:\n",
        "    smaller = part[0] #part.index(i)\n",
        "  if i == 0 or part[0] > bigger:\n",
        "    bigger = part[0]\n",
        "  tuple = tuple + part\n",
        "\n",
        "  #or substitute two lines above for: tuple = tuple + (randint(0,51),)\n",
        "print(f'The {tuple} have {bigger} as greater and {smaller} as smaller number.')"
      ],
      "metadata": {
        "colab": {
          "base_uri": "https://localhost:8080/"
        },
        "id": "bUWEEBRDUttH",
        "outputId": "79d81554-ef0b-4568-c3f7-d5f21ca35c31"
      },
      "execution_count": null,
      "outputs": [
        {
          "output_type": "stream",
          "name": "stdout",
          "text": [
            "The (25, 41, 31, 32, 15) have 41 as greater and 15 as smaller number.\n"
          ]
        }
      ]
    },
    {
      "cell_type": "code",
      "source": [
        "# Solution by Gustavo Guanabara \n",
        "# sortear buscar o maior,.. sem repetição...\n",
        "\n",
        "from random import randint # randomizazr um número inteiro!\n",
        "numeros = (randint(1,10),randint(1,10),randint(1,10),randint(1,10),randint(1,10)) # assim já é uma variável composta...\n",
        "print('Os valores sorteados foram: ', end=' ') #print(f'Eu sorteei o valor {n}')\n",
        "for n in numeros:\n",
        "  print(f'{n} ', end=' ')\n",
        "print(f'\\n O maior valor sortados foi {max(numeros)}') # Usando variáveis já definidas ... claramente!\n",
        "print(f' O menor valor sortados foi {min(numeros)}') # ... sem repetição!..."
      ],
      "metadata": {
        "colab": {
          "base_uri": "https://localhost:8080/"
        },
        "id": "PQVl8XVg3hMv",
        "outputId": "46ba5454-6ffc-4ce9-af02-731764316c15"
      },
      "execution_count": null,
      "outputs": [
        {
          "output_type": "stream",
          "name": "stdout",
          "text": [
            "Os valores sorteados foram:  2  2  4  7  2  \n",
            " O maior valor sortados foi 7\n",
            " O menor valor sortados foi 2\n"
          ]
        }
      ]
    },
    {
      "cell_type": "markdown",
      "source": [
        "# Desafio 075\n",
        "\n",
        "Desenvolva um programa que leia **quatro valores** pelo **teclado** e guarde-os em uma **tupla**. No final, mostre:\n",
        "\n",
        "**A)** Quantas vezes apareceu o valor **9**.\n",
        "\n",
        "**B)** Em que posição foi digitado o primeiro valor **3**.\n",
        "\n",
        "**C)** Quais foram os números **pares**"
      ],
      "metadata": {
        "id": "Y1lieh6_d_se"
      }
    },
    {
      "cell_type": "code",
      "source": [
        "tup  = even = ()\n",
        "c3 = 0\n",
        "\n",
        "for i in range(0,4):\n",
        "  num = (int(input('Say a number: ')),)\n",
        "  tup = tup + num\n",
        "  ind = num[0]\n",
        "  if ind % 2 == 0:\n",
        "    even += (ind,) \n",
        "  if ind == 3:\n",
        "    c3 =1 # +=1 como conta a posição, basta ter uma flag! somente ...\n",
        "\n",
        "print(f'You write this value: {tup}')\n",
        "print(f'9 appears {tup.count(9)} times') # A\n",
        "if c3: #not in [1,2,3,4]:\n",
        "  print(f'3 appears first time in {tup.index(3)+1}') # B\n",
        "else:\n",
        " print(f\"3 is missing\")\n",
        "print(f'Even numbers was: {even}') # C\n"
      ],
      "metadata": {
        "colab": {
          "base_uri": "https://localhost:8080/"
        },
        "id": "92ilvROvd40F",
        "outputId": "b22f316b-a9b8-4966-b938-569384480baf"
      },
      "execution_count": null,
      "outputs": [
        {
          "output_type": "stream",
          "name": "stdout",
          "text": [
            "Say a number: 3\n",
            "Say a number: 9\n",
            "Say a number: 1\n",
            "Say a number: 09\n",
            "You write this value: (3, 9, 1, 9)\n",
            "9 appears 2 times\n",
            "3 appears first time in 1\n",
            "Even numbers was: ()\n"
          ]
        }
      ]
    },
    {
      "cell_type": "code",
      "source": [
        "tup.index(3)+1 not in [1,2,3,4]"
      ],
      "metadata": {
        "colab": {
          "base_uri": "https://localhost:8080/"
        },
        "id": "-Gp_3YSGCrG_",
        "outputId": "23605663-8904-4224-fa6f-326d78be666a"
      },
      "execution_count": null,
      "outputs": [
        {
          "output_type": "execute_result",
          "data": {
            "text/plain": [
              "False"
            ]
          },
          "metadata": {},
          "execution_count": 20
        }
      ]
    },
    {
      "cell_type": "code",
      "source": [
        "# Solution by Gustavo Guanabará\n",
        "# 5 valores numa tupla\n",
        "# imutável, mas conseguimos atribuir uma única vez (a 1ª atribuição), não de maneira explícita ...uma cete\n",
        "\n",
        "núm = (int(input('Digite um número: ')),\n",
        "      int(input('Digite outro número: ')),\n",
        "      int(input('Digite mais um número: ')),\n",
        "      int(input('Digite o último número: ')))\n",
        "print(f'Voçê digitou os valores {núm}')\n",
        "print(f'O valor 9 apareceu {núm.count(9)} vezes')\n",
        "if 3 in núm:\n",
        "  print(f'O valor 3 apareceu na {núm.index(3)+1}ª posição')\n",
        "#else:\n",
        " # print(f' O valor 3 não foi digitado em nenhuma posição')\n",
        "print('Os valores pares digitais foram ', end='')\n",
        "for n in núm:\n",
        "  if n % 2 == 0:\n",
        "    print(n, end=' ')\n"
      ],
      "metadata": {
        "colab": {
          "base_uri": "https://localhost:8080/"
        },
        "id": "b8jZP6Vb3fxh",
        "outputId": "d9926f3e-3267-4cdb-b61a-7ecaf8ab0a0e"
      },
      "execution_count": null,
      "outputs": [
        {
          "output_type": "stream",
          "name": "stdout",
          "text": [
            "Digite um número: 32\n",
            "Digite outro número: 12\n",
            "Digite mais um número: 9\n",
            "Digite o último número: 1\n",
            "Voçê digitou os valores (32, 12, 9, 1)\n",
            "O valor 9 apareceu 1 vezes\n",
            "Os valores pares digitais foram 32 12 "
          ]
        }
      ]
    },
    {
      "cell_type": "markdown",
      "source": [
        "# Desafio 76\n",
        "\n",
        "Crie um programa que tenha uma **tupla** única com **nomes de produtos** e seus respectivos **preços**, na sequência.\n",
        "No final, mostre uma listagem de preços, organizando os dados em forma **tabular**."
      ],
      "metadata": {
        "id": "cHImjDga-mhu"
      }
    },
    {
      "cell_type": "code",
      "source": [
        "shoppingItems = ('Pencil', 0.50, 'Yougurt', 0.70, 'Chip', 1.70, 'Printer', 190, 'Rice', 1, 'Pizza', 3)\n",
        "\n",
        "print('-'*30)\n",
        "name = 'PRICE LIST'\n",
        "print(f'{name:^30}')\n",
        "print('-'*30)\n",
        "for items in range(0,len(shoppingItems),2):\n",
        "  print(f'{shoppingItems[items]:.<20}R${shoppingItems[items+1]:>8.2f}')\n",
        "print('-'*30)"
      ],
      "metadata": {
        "colab": {
          "base_uri": "https://localhost:8080/"
        },
        "id": "ZN2xJYEa-lou",
        "outputId": "3fd831d6-2908-44f5-c8d5-6efa36ef20b7"
      },
      "execution_count": null,
      "outputs": [
        {
          "output_type": "stream",
          "name": "stdout",
          "text": [
            "------------------------------\n",
            "          PRICE LIST          \n",
            "------------------------------\n",
            "Pencil..............R$    0.50\n",
            "Yougurt.............R$    0.70\n",
            "Chip................R$    1.70\n",
            "Printer.............R$  190.00\n",
            "Rice................R$    1.00\n",
            "Pizza...............R$    3.00\n",
            "------------------------------\n"
          ]
        }
      ]
    },
    {
      "cell_type": "code",
      "source": [
        "# Solution by Gustavo Guanabará\n",
        "\n",
        "listagem = ('Lápis', 1.75,\n",
        "            'Borracha', 2,\n",
        "            'Caderno', 15.90,\n",
        "            'Estojo', 25,\n",
        "            'Transferidor', 4.20,\n",
        "            'Compasso', 9.99,\n",
        "            'Mochila', 120.32,\n",
        "            'Canetas', 22.30,\n",
        "            'Livro', 34.90) #podia criar duas tuplas, uma para produtos e outra para preço, esta é única!\n",
        "#print(listagem)\n",
        "# for item in listagem:\n",
        "#   print(item)\n",
        "print('-' * 40)\n",
        "print(f\"{'LISTAGEM DE PREÇOS':^40}\")\n",
        "print('-'*40)\n",
        "for pos in range(0, len(listagem)):\n",
        "  if pos % 2 == 0: # é o nome do produto\n",
        "    # print(f'{listagem[pos:30]}') passa de item a item assim... e passa de 2 em dois porque quando é o preço não é divisível por 2 então acaba \n",
        "    print(f'{listagem[pos]:.<30}', end='')\n",
        "  else:\n",
        "    print(f'R${listagem[pos]:>7.2f}')\n",
        "print('-'*40)"
      ],
      "metadata": {
        "colab": {
          "base_uri": "https://localhost:8080/"
        },
        "id": "j9m6raPBPAKc",
        "outputId": "b3742393-af80-4df5-8781-a73c641204a5"
      },
      "execution_count": null,
      "outputs": [
        {
          "output_type": "stream",
          "name": "stdout",
          "text": [
            "----------------------------------------\n",
            "           LISTAGEM DE PREÇOS           \n",
            "----------------------------------------\n",
            "Lápis.........................R$   1.75\n",
            "Borracha......................R$   2.00\n",
            "Caderno.......................R$  15.90\n",
            "Estojo........................R$  25.00\n",
            "Transferidor..................R$   4.20\n",
            "Compasso......................R$   9.99\n",
            "Mochila.......................R$ 120.32\n",
            "Canetas.......................R$  22.30\n",
            "Livro.........................R$  34.90\n",
            "----------------------------------------\n"
          ]
        }
      ]
    },
    {
      "cell_type": "markdown",
      "source": [
        "# Desafio 77\n",
        "\n",
        "Crie um programa que tenha uma **tupla** com **várias palavras** *(não usar acentos)*.\n",
        "\n",
        "Depois disso, voçê deve mostrar, para cada palavra, quais são as suas **vogais**. "
      ],
      "metadata": {
        "id": "FaYyw1bhOQ2w"
      }
    },
    {
      "cell_type": "code",
      "source": [
        "print(words[0].index('a')) # na palavra \"vida\" temos o index('a')=3 é a 4a letra, pois começa em 0\n",
        "\n",
        "print('ambulancia'.count('a')) # temos 3 a's na palavra\n",
        "\n",
        "# a ideia passa por ambulancia -> a, u, a, i, a\n",
        "\n",
        "# para cada letra vejo se é vogal?"
      ],
      "metadata": {
        "colab": {
          "base_uri": "https://localhost:8080/"
        },
        "id": "-jK0OtPwzPV8",
        "outputId": "0afb6003-6fde-48ef-f875-c68dea77ae55"
      },
      "execution_count": null,
      "outputs": [
        {
          "output_type": "stream",
          "name": "stdout",
          "text": [
            "3\n",
            "3\n"
          ]
        }
      ]
    },
    {
      "cell_type": "code",
      "source": [
        "vowels2 = ('a','e','i','o','u') # dá erro igual"
      ],
      "metadata": {
        "id": "pv0RD7w0MSBt"
      },
      "execution_count": null,
      "outputs": []
    },
    {
      "cell_type": "code",
      "source": [
        "print(' The following words have this vowels: ')\n",
        "for index, word in enumerate(words):\n",
        "  print(f\" {word} have {word.count('a')} a, {word.count('e')} e, {word.count('i')} i, {word.count('o')} o, {word.count('u')} u the following order:\")# f' {word},  ') vowels\n",
        "  for ind, letter in enumerate(word):\n",
        "    if letter in vowels:\n",
        "      print(f' {letter}')\n",
        "  print('\\nNext: ')"
      ],
      "metadata": {
        "colab": {
          "base_uri": "https://localhost:8080/"
        },
        "id": "u6sUDCcc1F0l",
        "outputId": "a814a5a2-53bc-4221-e49a-98438a5c43eb"
      },
      "execution_count": null,
      "outputs": [
        {
          "output_type": "stream",
          "name": "stdout",
          "text": [
            " The following words have this vowels: \n",
            " vida have 1 a, 0 e, 1 i, 0 o, 0 u the following order:\n",
            " i\n",
            " a\n",
            "\n",
            "Next: \n",
            " estudo have 0 a, 1 e, 0 i, 1 o, 1 u the following order:\n",
            " e\n",
            " u\n",
            " o\n",
            "\n",
            "Next: \n",
            " acreditar have 2 a, 1 e, 1 i, 0 o, 0 u the following order:\n",
            " a\n",
            " e\n",
            " i\n",
            " a\n",
            "\n",
            "Next: \n",
            " lagrima have 2 a, 0 e, 1 i, 0 o, 0 u the following order:\n",
            " a\n",
            " i\n",
            " a\n",
            "\n",
            "Next: \n",
            " amor have 1 a, 0 e, 0 i, 1 o, 0 u the following order:\n",
            " a\n",
            " o\n",
            "\n",
            "Next: \n",
            " gloria have 1 a, 0 e, 1 i, 1 o, 0 u the following order:\n",
            " o\n",
            " i\n",
            " a\n",
            "\n",
            "Next: \n",
            " paixao have 2 a, 0 e, 1 i, 1 o, 0 u the following order:\n",
            " a\n",
            " i\n",
            " a\n",
            " o\n",
            "\n",
            "Next: \n",
            " casa have 2 a, 0 e, 0 i, 0 o, 0 u the following order:\n",
            " a\n",
            " a\n",
            "\n",
            "Next: \n",
            " colchonete have 0 a, 2 e, 0 i, 2 o, 0 u the following order:\n",
            " o\n",
            " o\n",
            " e\n",
            " e\n",
            "\n",
            "Next: \n",
            " cachorro have 1 a, 0 e, 0 i, 2 o, 0 u the following order:\n",
            " a\n",
            " o\n",
            " o\n",
            "\n",
            "Next: \n",
            " virtude have 0 a, 1 e, 1 i, 0 o, 1 u the following order:\n",
            " i\n",
            " u\n",
            " e\n",
            "\n",
            "Next: \n",
            " ambulancia have 3 a, 0 e, 1 i, 0 o, 1 u the following order:\n",
            " a\n",
            " u\n",
            " a\n",
            " i\n",
            " a\n",
            "\n",
            "Next: \n"
          ]
        }
      ]
    },
    {
      "cell_type": "code",
      "source": [
        "print(' The following words have this vowels: ')\n",
        "for index, word in enumerate(words):\n",
        "  print(f' {word},  ')\n",
        "  for ind, letter in enumerate(vowels2):\n",
        "    print(word.count(letter)) # word.index(letter))#"
      ],
      "metadata": {
        "colab": {
          "base_uri": "https://localhost:8080/"
        },
        "id": "YVAHuW_UwfHy",
        "outputId": "095130d7-c248-4bfc-87cd-b88ce7cab176"
      },
      "execution_count": null,
      "outputs": [
        {
          "output_type": "stream",
          "name": "stdout",
          "text": [
            " The following words have this vowels: \n",
            " vida,  \n",
            "1\n",
            "0\n",
            "1\n",
            "0\n",
            "0\n",
            " estudo,  \n",
            "0\n",
            "1\n",
            "0\n",
            "1\n",
            "1\n",
            " acreditar,  \n",
            "2\n",
            "1\n",
            "1\n",
            "0\n",
            "0\n",
            " lagrima,  \n",
            "2\n",
            "0\n",
            "1\n",
            "0\n",
            "0\n",
            " amor,  \n",
            "1\n",
            "0\n",
            "0\n",
            "1\n",
            "0\n",
            " gloria,  \n",
            "1\n",
            "0\n",
            "1\n",
            "1\n",
            "0\n",
            " paixao,  \n",
            "2\n",
            "0\n",
            "1\n",
            "1\n",
            "0\n",
            " casa,  \n",
            "2\n",
            "0\n",
            "0\n",
            "0\n",
            "0\n",
            " colchonete,  \n",
            "0\n",
            "2\n",
            "0\n",
            "2\n",
            "0\n",
            " cachorro,  \n",
            "1\n",
            "0\n",
            "0\n",
            "2\n",
            "0\n",
            " virtude,  \n",
            "0\n",
            "1\n",
            "1\n",
            "0\n",
            "1\n",
            " ambulancia,  \n",
            "3\n",
            "0\n",
            "1\n",
            "0\n",
            "1\n"
          ]
        }
      ]
    },
    {
      "cell_type": "code",
      "source": [
        "words = \"vida\", \"estudo\", \"acreditar\", \"lagrima\", \"amor\", \"gloria\", \"paixao\", \"casa\", \"colchonete\", \"cachorro\", \"virtude\", \"ambulancia\"\n",
        "vowels = 'aeiou'\n",
        "\n",
        "# for index, word in enumerate(words):\n",
        "#   for letter in vowels:\n",
        "#     while word.index(letter) > 0:\n",
        "#       print(letter)\n",
        "#       desl = word.index(letter)\n",
        "#       desl -=1\n",
        "#       word.count(letter)\n",
        "      \n",
        "#       word[desl:]\n",
        "#   #print(word.index('a'))#word.count('a'))"
      ],
      "metadata": {
        "colab": {
          "base_uri": "https://localhost:8080/",
          "height": 1000
        },
        "id": "BzITLvkaOz59",
        "outputId": "97322582-8862-400c-daa6-7ed1a53258e7"
      },
      "execution_count": null,
      "outputs": [
        {
          "output_type": "stream",
          "name": "stdout",
          "text": [
            "\u001b[1;30;43mA saída de streaming foi truncada nas últimas 5000 linhas.\u001b[0m\n",
            "a\n",
            "a\n",
            "a\n",
            "a\n",
            "a\n",
            "a\n",
            "a\n",
            "a\n",
            "a\n",
            "a\n",
            "a\n",
            "a\n",
            "a\n",
            "a\n",
            "a\n",
            "a\n",
            "a\n",
            "a\n",
            "a\n",
            "a\n",
            "a\n",
            "a\n",
            "a\n",
            "a\n",
            "a\n",
            "a\n",
            "a\n",
            "a\n",
            "a\n",
            "a\n",
            "a\n",
            "a\n",
            "a\n",
            "a\n",
            "a\n",
            "a\n",
            "a\n",
            "a\n",
            "a\n",
            "a\n",
            "a\n",
            "a\n",
            "a\n",
            "a\n",
            "a\n",
            "a\n",
            "a\n",
            "a\n",
            "a\n",
            "a\n",
            "a\n",
            "a\n",
            "a\n",
            "a\n",
            "a\n",
            "a\n",
            "a\n",
            "a\n",
            "a\n",
            "a\n",
            "a\n",
            "a\n",
            "a\n",
            "a\n",
            "a\n",
            "a\n",
            "a\n",
            "a\n",
            "a\n",
            "a\n",
            "a\n",
            "a\n",
            "a\n",
            "a\n",
            "a\n",
            "a\n",
            "a\n",
            "a\n",
            "a\n",
            "a\n",
            "a\n",
            "a\n",
            "a\n",
            "a\n",
            "a\n",
            "a\n",
            "a\n",
            "a\n",
            "a\n",
            "a\n",
            "a\n",
            "a\n",
            "a\n",
            "a\n",
            "a\n",
            "a\n",
            "a\n",
            "a\n",
            "a\n",
            "a\n",
            "a\n",
            "a\n",
            "a\n",
            "a\n",
            "a\n",
            "a\n",
            "a\n",
            "a\n",
            "a\n",
            "a\n",
            "a\n",
            "a\n",
            "a\n",
            "a\n",
            "a\n",
            "a\n",
            "a\n",
            "a\n",
            "a\n",
            "a\n",
            "a\n",
            "a\n",
            "a\n",
            "a\n",
            "a\n",
            "a\n",
            "a\n",
            "a\n",
            "a\n",
            "a\n",
            "a\n",
            "a\n",
            "a\n",
            "a\n",
            "a\n",
            "a\n",
            "a\n",
            "a\n",
            "a\n",
            "a\n",
            "a\n",
            "a\n",
            "a\n",
            "a\n",
            "a\n",
            "a\n",
            "a\n",
            "a\n",
            "a\n",
            "a\n",
            "a\n",
            "a\n",
            "a\n",
            "a\n",
            "a\n",
            "a\n",
            "a\n",
            "a\n",
            "a\n",
            "a\n",
            "a\n",
            "a\n",
            "a\n",
            "a\n",
            "a\n",
            "a\n",
            "a\n",
            "a\n",
            "a\n",
            "a\n",
            "a\n",
            "a\n",
            "a\n",
            "a\n",
            "a\n",
            "a\n",
            "a\n",
            "a\n",
            "a\n",
            "a\n",
            "a\n",
            "a\n",
            "a\n",
            "a\n",
            "a\n",
            "a\n",
            "a\n",
            "a\n",
            "a\n",
            "a\n",
            "a\n",
            "a\n",
            "a\n",
            "a\n",
            "a\n",
            "a\n",
            "a\n",
            "a\n",
            "a\n",
            "a\n",
            "a\n",
            "a\n",
            "a\n",
            "a\n",
            "a\n",
            "a\n",
            "a\n",
            "a\n",
            "a\n",
            "a\n",
            "a\n",
            "a\n",
            "a\n",
            "a\n",
            "a\n",
            "a\n",
            "a\n",
            "a\n",
            "a\n",
            "a\n",
            "a\n",
            "a\n",
            "a\n",
            "a\n",
            "a\n",
            "a\n",
            "a\n",
            "a\n",
            "a\n",
            "a\n",
            "a\n",
            "a\n",
            "a\n",
            "a\n",
            "a\n",
            "a\n",
            "a\n",
            "a\n",
            "a\n",
            "a\n",
            "a\n",
            "a\n",
            "a\n",
            "a\n",
            "a\n",
            "a\n",
            "a\n",
            "a\n",
            "a\n",
            "a\n",
            "a\n",
            "a\n",
            "a\n",
            "a\n",
            "a\n",
            "a\n",
            "a\n",
            "a\n",
            "a\n",
            "a\n",
            "a\n",
            "a\n",
            "a\n",
            "a\n",
            "a\n",
            "a\n",
            "a\n",
            "a\n",
            "a\n",
            "a\n",
            "a\n",
            "a\n",
            "a\n",
            "a\n",
            "a\n",
            "a\n",
            "a\n",
            "a\n",
            "a\n",
            "a\n",
            "a\n",
            "a\n",
            "a\n",
            "a\n",
            "a\n",
            "a\n",
            "a\n",
            "a\n",
            "a\n",
            "a\n",
            "a\n",
            "a\n",
            "a\n",
            "a\n",
            "a\n",
            "a\n",
            "a\n",
            "a\n",
            "a\n",
            "a\n",
            "a\n",
            "a\n",
            "a\n",
            "a\n",
            "a\n",
            "a\n",
            "a\n",
            "a\n",
            "a\n",
            "a\n",
            "a\n",
            "a\n",
            "a\n",
            "a\n",
            "a\n",
            "a\n",
            "a\n",
            "a\n",
            "a\n",
            "a\n",
            "a\n",
            "a\n",
            "a\n",
            "a\n",
            "a\n",
            "a\n",
            "a\n",
            "a\n",
            "a\n",
            "a\n",
            "a\n",
            "a\n",
            "a\n",
            "a\n",
            "a\n",
            "a\n",
            "a\n",
            "a\n",
            "a\n",
            "a\n",
            "a\n",
            "a\n",
            "a\n",
            "a\n",
            "a\n",
            "a\n",
            "a\n",
            "a\n",
            "a\n",
            "a\n",
            "a\n",
            "a\n",
            "a\n",
            "a\n",
            "a\n",
            "a\n",
            "a\n",
            "a\n",
            "a\n",
            "a\n",
            "a\n",
            "a\n",
            "a\n",
            "a\n",
            "a\n",
            "a\n",
            "a\n",
            "a\n",
            "a\n",
            "a\n",
            "a\n",
            "a\n",
            "a\n",
            "a\n",
            "a\n",
            "a\n",
            "a\n",
            "a\n",
            "a\n",
            "a\n",
            "a\n",
            "a\n",
            "a\n",
            "a\n",
            "a\n",
            "a\n",
            "a\n",
            "a\n",
            "a\n",
            "a\n",
            "a\n",
            "a\n",
            "a\n",
            "a\n",
            "a\n",
            "a\n",
            "a\n",
            "a\n",
            "a\n",
            "a\n",
            "a\n",
            "a\n",
            "a\n",
            "a\n",
            "a\n",
            "a\n",
            "a\n",
            "a\n",
            "a\n",
            "a\n",
            "a\n",
            "a\n",
            "a\n",
            "a\n",
            "a\n",
            "a\n",
            "a\n",
            "a\n",
            "a\n",
            "a\n",
            "a\n",
            "a\n",
            "a\n",
            "a\n",
            "a\n",
            "a\n",
            "a\n",
            "a\n",
            "a\n",
            "a\n",
            "a\n",
            "a\n",
            "a\n",
            "a\n",
            "a\n",
            "a\n",
            "a\n",
            "a\n",
            "a\n",
            "a\n",
            "a\n",
            "a\n",
            "a\n",
            "a\n",
            "a\n",
            "a\n",
            "a\n",
            "a\n",
            "a\n",
            "a\n",
            "a\n",
            "a\n",
            "a\n",
            "a\n",
            "a\n",
            "a\n",
            "a\n",
            "a\n",
            "a\n",
            "a\n",
            "a\n",
            "a\n",
            "a\n",
            "a\n",
            "a\n",
            "a\n",
            "a\n",
            "a\n",
            "a\n",
            "a\n",
            "a\n",
            "a\n",
            "a\n",
            "a\n",
            "a\n",
            "a\n",
            "a\n",
            "a\n",
            "a\n",
            "a\n",
            "a\n",
            "a\n",
            "a\n",
            "a\n",
            "a\n",
            "a\n",
            "a\n",
            "a\n",
            "a\n",
            "a\n",
            "a\n",
            "a\n",
            "a\n",
            "a\n",
            "a\n",
            "a\n",
            "a\n",
            "a\n",
            "a\n",
            "a\n",
            "a\n",
            "a\n",
            "a\n",
            "a\n",
            "a\n",
            "a\n",
            "a\n",
            "a\n",
            "a\n",
            "a\n",
            "a\n",
            "a\n",
            "a\n",
            "a\n",
            "a\n",
            "a\n",
            "a\n",
            "a\n",
            "a\n",
            "a\n",
            "a\n",
            "a\n",
            "a\n",
            "a\n",
            "a\n",
            "a\n",
            "a\n",
            "a\n",
            "a\n",
            "a\n",
            "a\n",
            "a\n",
            "a\n",
            "a\n",
            "a\n",
            "a\n",
            "a\n",
            "a\n",
            "a\n",
            "a\n",
            "a\n",
            "a\n",
            "a\n",
            "a\n",
            "a\n",
            "a\n",
            "a\n",
            "a\n",
            "a\n",
            "a\n",
            "a\n",
            "a\n",
            "a\n",
            "a\n",
            "a\n",
            "a\n",
            "a\n",
            "a\n",
            "a\n",
            "a\n",
            "a\n",
            "a\n",
            "a\n",
            "a\n",
            "a\n",
            "a\n",
            "a\n",
            "a\n",
            "a\n",
            "a\n",
            "a\n",
            "a\n",
            "a\n",
            "a\n",
            "a\n",
            "a\n",
            "a\n",
            "a\n",
            "a\n",
            "a\n",
            "a\n",
            "a\n",
            "a\n",
            "a\n",
            "a\n",
            "a\n",
            "a\n",
            "a\n",
            "a\n",
            "a\n",
            "a\n",
            "a\n",
            "a\n",
            "a\n",
            "a\n",
            "a\n",
            "a\n",
            "a\n",
            "a\n",
            "a\n",
            "a\n",
            "a\n",
            "a\n",
            "a\n",
            "a\n",
            "a\n",
            "a\n",
            "a\n",
            "a\n",
            "a\n",
            "a\n",
            "a\n",
            "a\n",
            "a\n",
            "a\n",
            "a\n",
            "a\n",
            "a\n",
            "a\n",
            "a\n",
            "a\n",
            "a\n",
            "a\n",
            "a\n",
            "a\n",
            "a\n",
            "a\n",
            "a\n",
            "a\n",
            "a\n",
            "a\n",
            "a\n",
            "a\n",
            "a\n",
            "a\n",
            "a\n",
            "a\n",
            "a\n",
            "a\n",
            "a\n",
            "a\n",
            "a\n",
            "a\n",
            "a\n",
            "a\n",
            "a\n",
            "a\n",
            "a\n",
            "a\n",
            "a\n",
            "a\n",
            "a\n",
            "a\n",
            "a\n",
            "a\n",
            "a\n",
            "a\n",
            "a\n",
            "a\n",
            "a\n",
            "a\n",
            "a\n",
            "a\n",
            "a\n",
            "a\n",
            "a\n",
            "a\n",
            "a\n",
            "a\n",
            "a\n",
            "a\n",
            "a\n",
            "a\n",
            "a\n",
            "a\n",
            "a\n",
            "a\n",
            "a\n",
            "a\n",
            "a\n",
            "a\n",
            "a\n",
            "a\n",
            "a\n",
            "a\n",
            "a\n",
            "a\n",
            "a\n",
            "a\n",
            "a\n",
            "a\n",
            "a\n",
            "a\n",
            "a\n",
            "a\n",
            "a\n",
            "a\n",
            "a\n",
            "a\n",
            "a\n",
            "a\n",
            "a\n",
            "a\n",
            "a\n",
            "a\n",
            "a\n",
            "a\n",
            "a\n",
            "a\n",
            "a\n",
            "a\n",
            "a\n",
            "a\n",
            "a\n",
            "a\n",
            "a\n",
            "a\n",
            "a\n",
            "a\n",
            "a\n",
            "a\n",
            "a\n",
            "a\n",
            "a\n",
            "a\n",
            "a\n",
            "a\n",
            "a\n",
            "a\n",
            "a\n",
            "a\n",
            "a\n",
            "a\n",
            "a\n",
            "a\n",
            "a\n",
            "a\n",
            "a\n",
            "a\n",
            "a\n",
            "a\n",
            "a\n",
            "a\n",
            "a\n",
            "a\n",
            "a\n",
            "a\n",
            "a\n",
            "a\n",
            "a\n",
            "a\n",
            "a\n",
            "a\n",
            "a\n",
            "a\n",
            "a\n",
            "a\n",
            "a\n",
            "a\n",
            "a\n",
            "a\n",
            "a\n",
            "a\n",
            "a\n",
            "a\n",
            "a\n",
            "a\n",
            "a\n",
            "a\n",
            "a\n",
            "a\n",
            "a\n",
            "a\n",
            "a\n",
            "a\n",
            "a\n",
            "a\n",
            "a\n",
            "a\n",
            "a\n",
            "a\n",
            "a\n",
            "a\n",
            "a\n",
            "a\n",
            "a\n",
            "a\n",
            "a\n",
            "a\n",
            "a\n",
            "a\n",
            "a\n",
            "a\n",
            "a\n",
            "a\n",
            "a\n",
            "a\n",
            "a\n",
            "a\n",
            "a\n",
            "a\n",
            "a\n",
            "a\n",
            "a\n",
            "a\n",
            "a\n",
            "a\n",
            "a\n",
            "a\n",
            "a\n",
            "a\n",
            "a\n",
            "a\n",
            "a\n",
            "a\n",
            "a\n",
            "a\n",
            "a\n",
            "a\n",
            "a\n",
            "a\n",
            "a\n",
            "a\n",
            "a\n",
            "a\n",
            "a\n",
            "a\n",
            "a\n",
            "a\n",
            "a\n",
            "a\n",
            "a\n",
            "a\n",
            "a\n",
            "a\n",
            "a\n",
            "a\n",
            "a\n",
            "a\n",
            "a\n",
            "a\n",
            "a\n",
            "a\n",
            "a\n",
            "a\n",
            "a\n",
            "a\n",
            "a\n",
            "a\n",
            "a\n",
            "a\n",
            "a\n",
            "a\n",
            "a\n",
            "a\n",
            "a\n",
            "a\n",
            "a\n",
            "a\n",
            "a\n",
            "a\n",
            "a\n",
            "a\n",
            "a\n",
            "a\n",
            "a\n",
            "a\n",
            "a\n",
            "a\n",
            "a\n",
            "a\n",
            "a\n",
            "a\n",
            "a\n",
            "a\n",
            "a\n",
            "a\n",
            "a\n",
            "a\n",
            "a\n",
            "a\n",
            "a\n",
            "a\n",
            "a\n",
            "a\n",
            "a\n",
            "a\n",
            "a\n",
            "a\n",
            "a\n",
            "a\n",
            "a\n",
            "a\n",
            "a\n",
            "a\n",
            "a\n",
            "a\n",
            "a\n",
            "a\n",
            "a\n",
            "a\n",
            "a\n",
            "a\n",
            "a\n",
            "a\n",
            "a\n",
            "a\n",
            "a\n",
            "a\n",
            "a\n",
            "a\n",
            "a\n",
            "a\n",
            "a\n",
            "a\n",
            "a\n",
            "a\n",
            "a\n",
            "a\n",
            "a\n",
            "a\n",
            "a\n",
            "a\n",
            "a\n",
            "a\n",
            "a\n",
            "a\n",
            "a\n",
            "a\n",
            "a\n",
            "a\n",
            "a\n",
            "a\n",
            "a\n",
            "a\n",
            "a\n",
            "a\n",
            "a\n",
            "a\n",
            "a\n",
            "a\n",
            "a\n",
            "a\n",
            "a\n",
            "a\n",
            "a\n",
            "a\n",
            "a\n",
            "a\n",
            "a\n",
            "a\n",
            "a\n",
            "a\n",
            "a\n",
            "a\n",
            "a\n",
            "a\n",
            "a\n",
            "a\n",
            "a\n",
            "a\n",
            "a\n",
            "a\n",
            "a\n",
            "a\n",
            "a\n",
            "a\n",
            "a\n",
            "a\n",
            "a\n",
            "a\n",
            "a\n",
            "a\n",
            "a\n",
            "a\n",
            "a\n",
            "a\n",
            "a\n",
            "a\n",
            "a\n",
            "a\n",
            "a\n",
            "a\n",
            "a\n",
            "a\n",
            "a\n",
            "a\n",
            "a\n",
            "a\n",
            "a\n",
            "a\n",
            "a\n",
            "a\n",
            "a\n",
            "a\n",
            "a\n",
            "a\n",
            "a\n",
            "a\n",
            "a\n",
            "a\n",
            "a\n",
            "a\n",
            "a\n",
            "a\n",
            "a\n",
            "a\n",
            "a\n",
            "a\n",
            "a\n",
            "a\n",
            "a\n",
            "a\n",
            "a\n",
            "a\n",
            "a\n",
            "a\n",
            "a\n",
            "a\n",
            "a\n",
            "a\n",
            "a\n",
            "a\n",
            "a\n",
            "a\n",
            "a\n",
            "a\n",
            "a\n",
            "a\n",
            "a\n",
            "a\n",
            "a\n",
            "a\n",
            "a\n",
            "a\n",
            "a\n",
            "a\n",
            "a\n",
            "a\n",
            "a\n",
            "a\n",
            "a\n",
            "a\n",
            "a\n",
            "a\n",
            "a\n",
            "a\n",
            "a\n",
            "a\n",
            "a\n",
            "a\n",
            "a\n",
            "a\n",
            "a\n",
            "a\n",
            "a\n",
            "a\n",
            "a\n",
            "a\n",
            "a\n",
            "a\n",
            "a\n",
            "a\n",
            "a\n",
            "a\n",
            "a\n",
            "a\n",
            "a\n",
            "a\n",
            "a\n",
            "a\n",
            "a\n",
            "a\n",
            "a\n",
            "a\n",
            "a\n",
            "a\n",
            "a\n",
            "a\n",
            "a\n",
            "a\n",
            "a\n",
            "a\n",
            "a\n",
            "a\n",
            "a\n",
            "a\n",
            "a\n",
            "a\n",
            "a\n",
            "a\n",
            "a\n",
            "a\n",
            "a\n",
            "a\n",
            "a\n",
            "a\n",
            "a\n",
            "a\n",
            "a\n",
            "a\n",
            "a\n",
            "a\n",
            "a\n",
            "a\n",
            "a\n",
            "a\n",
            "a\n",
            "a\n",
            "a\n",
            "a\n",
            "a\n",
            "a\n",
            "a\n",
            "a\n",
            "a\n",
            "a\n",
            "a\n",
            "a\n",
            "a\n",
            "a\n",
            "a\n",
            "a\n",
            "a\n",
            "a\n",
            "a\n",
            "a\n",
            "a\n",
            "a\n",
            "a\n",
            "a\n",
            "a\n",
            "a\n",
            "a\n",
            "a\n",
            "a\n",
            "a\n",
            "a\n",
            "a\n",
            "a\n",
            "a\n",
            "a\n",
            "a\n",
            "a\n",
            "a\n",
            "a\n",
            "a\n",
            "a\n",
            "a\n",
            "a\n",
            "a\n",
            "a\n",
            "a\n",
            "a\n",
            "a\n",
            "a\n",
            "a\n",
            "a\n",
            "a\n",
            "a\n",
            "a\n",
            "a\n",
            "a\n",
            "a\n",
            "a\n",
            "a\n",
            "a\n",
            "a\n",
            "a\n",
            "a\n",
            "a\n",
            "a\n",
            "a\n",
            "a\n",
            "a\n",
            "a\n",
            "a\n",
            "a\n",
            "a\n",
            "a\n",
            "a\n",
            "a\n",
            "a\n",
            "a\n",
            "a\n",
            "a\n",
            "a\n",
            "a\n",
            "a\n",
            "a\n",
            "a\n",
            "a\n",
            "a\n",
            "a\n",
            "a\n",
            "a\n",
            "a\n",
            "a\n",
            "a\n",
            "a\n",
            "a\n",
            "a\n",
            "a\n",
            "a\n",
            "a\n",
            "a\n",
            "a\n",
            "a\n",
            "a\n",
            "a\n",
            "a\n",
            "a\n",
            "a\n",
            "a\n",
            "a\n",
            "a\n",
            "a\n",
            "a\n",
            "a\n",
            "a\n",
            "a\n",
            "a\n",
            "a\n",
            "a\n",
            "a\n",
            "a\n",
            "a\n",
            "a\n",
            "a\n",
            "a\n",
            "a\n",
            "a\n",
            "a\n",
            "a\n",
            "a\n",
            "a\n",
            "a\n",
            "a\n",
            "a\n",
            "a\n",
            "a\n",
            "a\n",
            "a\n",
            "a\n",
            "a\n",
            "a\n",
            "a\n",
            "a\n",
            "a\n",
            "a\n",
            "a\n",
            "a\n",
            "a\n",
            "a\n",
            "a\n",
            "a\n",
            "a\n",
            "a\n",
            "a\n",
            "a\n",
            "a\n",
            "a\n",
            "a\n",
            "a\n",
            "a\n",
            "a\n",
            "a\n",
            "a\n",
            "a\n",
            "a\n",
            "a\n",
            "a\n",
            "a\n",
            "a\n",
            "a\n",
            "a\n",
            "a\n",
            "a\n",
            "a\n",
            "a\n",
            "a\n",
            "a\n",
            "a\n",
            "a\n",
            "a\n",
            "a\n",
            "a\n",
            "a\n",
            "a\n",
            "a\n",
            "a\n",
            "a\n",
            "a\n",
            "a\n",
            "a\n",
            "a\n",
            "a\n",
            "a\n",
            "a\n",
            "a\n",
            "a\n",
            "a\n",
            "a\n",
            "a\n",
            "a\n",
            "a\n",
            "a\n",
            "a\n",
            "a\n",
            "a\n",
            "a\n",
            "a\n",
            "a\n",
            "a\n",
            "a\n",
            "a\n",
            "a\n",
            "a\n",
            "a\n",
            "a\n",
            "a\n",
            "a\n",
            "a\n",
            "a\n",
            "a\n",
            "a\n",
            "a\n",
            "a\n",
            "a\n",
            "a\n",
            "a\n",
            "a\n",
            "a\n",
            "a\n",
            "a\n",
            "a\n",
            "a\n",
            "a\n",
            "a\n",
            "a\n",
            "a\n",
            "a\n",
            "a\n",
            "a\n",
            "a\n",
            "a\n",
            "a\n",
            "a\n",
            "a\n",
            "a\n",
            "a\n",
            "a\n",
            "a\n",
            "a\n",
            "a\n",
            "a\n",
            "a\n",
            "a\n",
            "a\n",
            "a\n",
            "a\n",
            "a\n",
            "a\n",
            "a\n",
            "a\n",
            "a\n",
            "a\n",
            "a\n",
            "a\n",
            "a\n",
            "a\n",
            "a\n",
            "a\n",
            "a\n",
            "a\n",
            "a\n",
            "a\n",
            "a\n",
            "a\n",
            "a\n",
            "a\n",
            "a\n",
            "a\n",
            "a\n",
            "a\n",
            "a\n",
            "a\n",
            "a\n",
            "a\n",
            "a\n",
            "a\n",
            "a\n",
            "a\n",
            "a\n",
            "a\n",
            "a\n",
            "a\n",
            "a\n",
            "a\n",
            "a\n",
            "a\n",
            "a\n",
            "a\n",
            "a\n",
            "a\n",
            "a\n",
            "a\n",
            "a\n",
            "a\n",
            "a\n",
            "a\n",
            "a\n",
            "a\n",
            "a\n",
            "a\n",
            "a\n",
            "a\n",
            "a\n",
            "a\n",
            "a\n",
            "a\n",
            "a\n",
            "a\n",
            "a\n",
            "a\n",
            "a\n",
            "a\n",
            "a\n",
            "a\n",
            "a\n",
            "a\n",
            "a\n",
            "a\n",
            "a\n",
            "a\n",
            "a\n",
            "a\n",
            "a\n",
            "a\n",
            "a\n",
            "a\n",
            "a\n",
            "a\n",
            "a\n",
            "a\n",
            "a\n",
            "a\n",
            "a\n",
            "a\n",
            "a\n",
            "a\n",
            "a\n",
            "a\n",
            "a\n",
            "a\n",
            "a\n",
            "a\n",
            "a\n",
            "a\n",
            "a\n",
            "a\n",
            "a\n",
            "a\n",
            "a\n",
            "a\n",
            "a\n",
            "a\n",
            "a\n",
            "a\n",
            "a\n",
            "a\n",
            "a\n",
            "a\n",
            "a\n",
            "a\n",
            "a\n",
            "a\n",
            "a\n",
            "a\n",
            "a\n",
            "a\n",
            "a\n",
            "a\n",
            "a\n",
            "a\n",
            "a\n",
            "a\n",
            "a\n",
            "a\n",
            "a\n",
            "a\n",
            "a\n",
            "a\n",
            "a\n",
            "a\n",
            "a\n",
            "a\n",
            "a\n",
            "a\n",
            "a\n",
            "a\n",
            "a\n",
            "a\n",
            "a\n",
            "a\n",
            "a\n",
            "a\n",
            "a\n",
            "a\n",
            "a\n",
            "a\n",
            "a\n",
            "a\n",
            "a\n",
            "a\n",
            "a\n",
            "a\n",
            "a\n",
            "a\n",
            "a\n",
            "a\n",
            "a\n",
            "a\n",
            "a\n",
            "a\n",
            "a\n",
            "a\n",
            "a\n",
            "a\n",
            "a\n",
            "a\n",
            "a\n",
            "a\n",
            "a\n",
            "a\n",
            "a\n",
            "a\n",
            "a\n",
            "a\n",
            "a\n",
            "a\n",
            "a\n",
            "a\n",
            "a\n",
            "a\n",
            "a\n",
            "a\n",
            "a\n",
            "a\n",
            "a\n",
            "a\n",
            "a\n",
            "a\n",
            "a\n",
            "a\n",
            "a\n",
            "a\n",
            "a\n",
            "a\n",
            "a\n",
            "a\n",
            "a\n",
            "a\n",
            "a\n",
            "a\n",
            "a\n",
            "a\n",
            "a\n",
            "a\n",
            "a\n",
            "a\n",
            "a\n",
            "a\n",
            "a\n",
            "a\n",
            "a\n",
            "a\n",
            "a\n",
            "a\n",
            "a\n",
            "a\n",
            "a\n",
            "a\n",
            "a\n",
            "a\n",
            "a\n",
            "a\n",
            "a\n",
            "a\n",
            "a\n",
            "a\n",
            "a\n",
            "a\n",
            "a\n",
            "a\n",
            "a\n",
            "a\n",
            "a\n",
            "a\n",
            "a\n",
            "a\n",
            "a\n",
            "a\n",
            "a\n",
            "a\n",
            "a\n",
            "a\n",
            "a\n",
            "a\n",
            "a\n",
            "a\n",
            "a\n",
            "a\n",
            "a\n",
            "a\n",
            "a\n",
            "a\n",
            "a\n",
            "a\n",
            "a\n",
            "a\n",
            "a\n",
            "a\n",
            "a\n",
            "a\n",
            "a\n",
            "a\n",
            "a\n",
            "a\n",
            "a\n",
            "a\n",
            "a\n",
            "a\n",
            "a\n",
            "a\n",
            "a\n",
            "a\n",
            "a\n",
            "a\n",
            "a\n",
            "a\n",
            "a\n",
            "a\n",
            "a\n",
            "a\n",
            "a\n",
            "a\n",
            "a\n",
            "a\n",
            "a\n",
            "a\n",
            "a\n",
            "a\n",
            "a\n",
            "a\n",
            "a\n",
            "a\n",
            "a\n",
            "a\n",
            "a\n",
            "a\n",
            "a\n",
            "a\n",
            "a\n",
            "a\n",
            "a\n",
            "a\n",
            "a\n",
            "a\n",
            "a\n",
            "a\n",
            "a\n",
            "a\n",
            "a\n",
            "a\n",
            "a\n",
            "a\n",
            "a\n",
            "a\n",
            "a\n",
            "a\n",
            "a\n",
            "a\n",
            "a\n",
            "a\n",
            "a\n",
            "a\n",
            "a\n",
            "a\n",
            "a\n",
            "a\n",
            "a\n",
            "a\n",
            "a\n",
            "a\n",
            "a\n",
            "a\n",
            "a\n",
            "a\n",
            "a\n",
            "a\n",
            "a\n",
            "a\n",
            "a\n",
            "a\n",
            "a\n",
            "a\n",
            "a\n",
            "a\n",
            "a\n",
            "a\n",
            "a\n",
            "a\n",
            "a\n",
            "a\n",
            "a\n",
            "a\n",
            "a\n",
            "a\n",
            "a\n",
            "a\n",
            "a\n",
            "a\n",
            "a\n",
            "a\n",
            "a\n",
            "a\n",
            "a\n",
            "a\n",
            "a\n",
            "a\n",
            "a\n",
            "a\n",
            "a\n",
            "a\n",
            "a\n",
            "a\n",
            "a\n",
            "a\n",
            "a\n",
            "a\n",
            "a\n",
            "a\n",
            "a\n",
            "a\n",
            "a\n",
            "a\n",
            "a\n",
            "a\n",
            "a\n",
            "a\n",
            "a\n",
            "a\n",
            "a\n",
            "a\n",
            "a\n",
            "a\n",
            "a\n",
            "a\n",
            "a\n",
            "a\n",
            "a\n",
            "a\n",
            "a\n",
            "a\n",
            "a\n",
            "a\n",
            "a\n",
            "a\n",
            "a\n",
            "a\n",
            "a\n",
            "a\n",
            "a\n",
            "a\n",
            "a\n",
            "a\n",
            "a\n",
            "a\n",
            "a\n",
            "a\n",
            "a\n",
            "a\n",
            "a\n",
            "a\n",
            "a\n",
            "a\n",
            "a\n",
            "a\n",
            "a\n",
            "a\n",
            "a\n",
            "a\n",
            "a\n",
            "a\n",
            "a\n",
            "a\n",
            "a\n",
            "a\n",
            "a\n",
            "a\n",
            "a\n",
            "a\n",
            "a\n",
            "a\n",
            "a\n",
            "a\n",
            "a\n",
            "a\n",
            "a\n",
            "a\n",
            "a\n",
            "a\n",
            "a\n",
            "a\n",
            "a\n",
            "a\n",
            "a\n",
            "a\n",
            "a\n",
            "a\n",
            "a\n",
            "a\n",
            "a\n",
            "a\n",
            "a\n",
            "a\n",
            "a\n",
            "a\n",
            "a\n",
            "a\n",
            "a\n",
            "a\n",
            "a\n",
            "a\n",
            "a\n",
            "a\n",
            "a\n",
            "a\n",
            "a\n",
            "a\n",
            "a\n",
            "a\n",
            "a\n",
            "a\n",
            "a\n",
            "a\n",
            "a\n",
            "a\n",
            "a\n",
            "a\n",
            "a\n",
            "a\n",
            "a\n",
            "a\n",
            "a\n",
            "a\n",
            "a\n",
            "a\n",
            "a\n",
            "a\n",
            "a\n",
            "a\n",
            "a\n",
            "a\n",
            "a\n",
            "a\n",
            "a\n",
            "a\n",
            "a\n",
            "a\n",
            "a\n",
            "a\n",
            "a\n",
            "a\n",
            "a\n",
            "a\n",
            "a\n",
            "a\n",
            "a\n",
            "a\n",
            "a\n",
            "a\n",
            "a\n",
            "a\n",
            "a\n",
            "a\n",
            "a\n",
            "a\n",
            "a\n",
            "a\n",
            "a\n",
            "a\n",
            "a\n",
            "a\n",
            "a\n",
            "a\n",
            "a\n",
            "a\n",
            "a\n",
            "a\n",
            "a\n",
            "a\n",
            "a\n",
            "a\n",
            "a\n",
            "a\n",
            "a\n",
            "a\n",
            "a\n",
            "a\n",
            "a\n",
            "a\n",
            "a\n",
            "a\n",
            "a\n",
            "a\n",
            "a\n",
            "a\n",
            "a\n",
            "a\n",
            "a\n",
            "a\n",
            "a\n",
            "a\n",
            "a\n",
            "a\n",
            "a\n",
            "a\n",
            "a\n",
            "a\n",
            "a\n",
            "a\n",
            "a\n",
            "a\n",
            "a\n",
            "a\n",
            "a\n",
            "a\n",
            "a\n",
            "a\n",
            "a\n",
            "a\n",
            "a\n",
            "a\n",
            "a\n",
            "a\n",
            "a\n",
            "a\n",
            "a\n",
            "a\n",
            "a\n",
            "a\n",
            "a\n",
            "a\n",
            "a\n",
            "a\n",
            "a\n",
            "a\n",
            "a\n",
            "a\n",
            "a\n",
            "a\n",
            "a\n",
            "a\n",
            "a\n",
            "a\n",
            "a\n",
            "a\n",
            "a\n",
            "a\n",
            "a\n",
            "a\n",
            "a\n",
            "a\n",
            "a\n",
            "a\n",
            "a\n",
            "a\n",
            "a\n",
            "a\n",
            "a\n",
            "a\n",
            "a\n",
            "a\n",
            "a\n",
            "a\n",
            "a\n",
            "a\n",
            "a\n",
            "a\n",
            "a\n",
            "a\n",
            "a\n",
            "a\n",
            "a\n",
            "a\n",
            "a\n",
            "a\n",
            "a\n",
            "a\n",
            "a\n",
            "a\n",
            "a\n",
            "a\n",
            "a\n",
            "a\n",
            "a\n",
            "a\n",
            "a\n",
            "a\n",
            "a\n",
            "a\n",
            "a\n",
            "a\n",
            "a\n",
            "a\n",
            "a\n",
            "a\n",
            "a\n",
            "a\n",
            "a\n",
            "a\n",
            "a\n",
            "a\n",
            "a\n",
            "a\n",
            "a\n",
            "a\n",
            "a\n",
            "a\n",
            "a\n",
            "a\n",
            "a\n",
            "a\n",
            "a\n",
            "a\n",
            "a\n",
            "a\n",
            "a\n",
            "a\n",
            "a\n",
            "a\n",
            "a\n",
            "a\n",
            "a\n",
            "a\n",
            "a\n",
            "a\n",
            "a\n",
            "a\n",
            "a\n",
            "a\n",
            "a\n",
            "a\n",
            "a\n",
            "a\n",
            "a\n",
            "a\n",
            "a\n",
            "a\n",
            "a\n",
            "a\n",
            "a\n",
            "a\n",
            "a\n",
            "a\n",
            "a\n",
            "a\n",
            "a\n",
            "a\n",
            "a\n",
            "a\n",
            "a\n",
            "a\n",
            "a\n",
            "a\n",
            "a\n",
            "a\n",
            "a\n",
            "a\n",
            "a\n",
            "a\n",
            "a\n",
            "a\n",
            "a\n",
            "a\n",
            "a\n",
            "a\n",
            "a\n",
            "a\n",
            "a\n",
            "a\n",
            "a\n",
            "a\n",
            "a\n",
            "a\n",
            "a\n",
            "a\n",
            "a\n",
            "a\n",
            "a\n",
            "a\n",
            "a\n",
            "a\n",
            "a\n",
            "a\n",
            "a\n",
            "a\n",
            "a\n",
            "a\n",
            "a\n",
            "a\n",
            "a\n",
            "a\n",
            "a\n",
            "a\n",
            "a\n",
            "a\n",
            "a\n",
            "a\n",
            "a\n",
            "a\n",
            "a\n",
            "a\n",
            "a\n",
            "a\n",
            "a\n",
            "a\n",
            "a\n",
            "a\n",
            "a\n",
            "a\n",
            "a\n",
            "a\n",
            "a\n",
            "a\n",
            "a\n",
            "a\n",
            "a\n",
            "a\n",
            "a\n",
            "a\n",
            "a\n",
            "a\n",
            "a\n",
            "a\n",
            "a\n",
            "a\n",
            "a\n",
            "a\n",
            "a\n",
            "a\n",
            "a\n",
            "a\n",
            "a\n",
            "a\n",
            "a\n",
            "a\n",
            "a\n",
            "a\n",
            "a\n",
            "a\n",
            "a\n",
            "a\n",
            "a\n",
            "a\n",
            "a\n",
            "a\n",
            "a\n",
            "a\n",
            "a\n",
            "a\n",
            "a\n",
            "a\n",
            "a\n",
            "a\n",
            "a\n",
            "a\n",
            "a\n",
            "a\n",
            "a\n",
            "a\n",
            "a\n",
            "a\n",
            "a\n",
            "a\n",
            "a\n",
            "a\n",
            "a\n",
            "a\n",
            "a\n",
            "a\n",
            "a\n",
            "a\n",
            "a\n",
            "a\n",
            "a\n",
            "a\n",
            "a\n",
            "a\n",
            "a\n",
            "a\n",
            "a\n",
            "a\n",
            "a\n",
            "a\n",
            "a\n",
            "a\n",
            "a\n",
            "a\n",
            "a\n",
            "a\n",
            "a\n",
            "a\n",
            "a\n",
            "a\n",
            "a\n",
            "a\n",
            "a\n",
            "a\n",
            "a\n",
            "a\n",
            "a\n",
            "a\n",
            "a\n",
            "a\n",
            "a\n",
            "a\n",
            "a\n",
            "a\n",
            "a\n",
            "a\n",
            "a\n",
            "a\n",
            "a\n",
            "a\n",
            "a\n",
            "a\n",
            "a\n",
            "a\n",
            "a\n",
            "a\n",
            "a\n",
            "a\n",
            "a\n",
            "a\n",
            "a\n",
            "a\n",
            "a\n",
            "a\n",
            "a\n",
            "a\n",
            "a\n",
            "a\n",
            "a\n",
            "a\n",
            "a\n",
            "a\n",
            "a\n",
            "a\n",
            "a\n",
            "a\n",
            "a\n",
            "a\n",
            "a\n",
            "a\n",
            "a\n",
            "a\n",
            "a\n",
            "a\n",
            "a\n",
            "a\n",
            "a\n",
            "a\n",
            "a\n",
            "a\n",
            "a\n",
            "a\n",
            "a\n",
            "a\n",
            "a\n",
            "a\n",
            "a\n",
            "a\n",
            "a\n",
            "a\n",
            "a\n",
            "a\n",
            "a\n",
            "a\n",
            "a\n",
            "a\n",
            "a\n",
            "a\n",
            "a\n",
            "a\n",
            "a\n",
            "a\n",
            "a\n",
            "a\n",
            "a\n",
            "a\n",
            "a\n",
            "a\n",
            "a\n",
            "a\n",
            "a\n",
            "a\n",
            "a\n",
            "a\n",
            "a\n",
            "a\n",
            "a\n",
            "a\n",
            "a\n",
            "a\n",
            "a\n",
            "a\n",
            "a\n",
            "a\n",
            "a\n",
            "a\n",
            "a\n",
            "a\n",
            "a\n",
            "a\n",
            "a\n",
            "a\n",
            "a\n",
            "a\n",
            "a\n",
            "a\n",
            "a\n",
            "a\n",
            "a\n",
            "a\n",
            "a\n",
            "a\n",
            "a\n",
            "a\n",
            "a\n",
            "a\n",
            "a\n",
            "a\n",
            "a\n",
            "a\n",
            "a\n",
            "a\n",
            "a\n",
            "a\n",
            "a\n",
            "a\n",
            "a\n",
            "a\n",
            "a\n",
            "a\n",
            "a\n",
            "a\n",
            "a\n",
            "a\n",
            "a\n",
            "a\n",
            "a\n",
            "a\n",
            "a\n",
            "a\n",
            "a\n",
            "a\n",
            "a\n",
            "a\n",
            "a\n",
            "a\n",
            "a\n",
            "a\n",
            "a\n",
            "a\n",
            "a\n",
            "a\n",
            "a\n",
            "a\n",
            "a\n",
            "a\n",
            "a\n",
            "a\n",
            "a\n",
            "a\n",
            "a\n",
            "a\n",
            "a\n",
            "a\n",
            "a\n",
            "a\n",
            "a\n",
            "a\n",
            "a\n",
            "a\n",
            "a\n",
            "a\n",
            "a\n",
            "a\n",
            "a\n",
            "a\n",
            "a\n",
            "a\n",
            "a\n",
            "a\n",
            "a\n",
            "a\n",
            "a\n",
            "a\n",
            "a\n",
            "a\n",
            "a\n",
            "a\n",
            "a\n",
            "a\n",
            "a\n",
            "a\n",
            "a\n",
            "a\n",
            "a\n",
            "a\n",
            "a\n",
            "a\n",
            "a\n",
            "a\n",
            "a\n",
            "a\n",
            "a\n",
            "a\n",
            "a\n",
            "a\n",
            "a\n",
            "a\n",
            "a\n",
            "a\n",
            "a\n",
            "a\n",
            "a\n",
            "a\n",
            "a\n",
            "a\n",
            "a\n",
            "a\n",
            "a\n",
            "a\n",
            "a\n",
            "a\n",
            "a\n",
            "a\n",
            "a\n",
            "a\n",
            "a\n",
            "a\n",
            "a\n",
            "a\n",
            "a\n",
            "a\n",
            "a\n",
            "a\n",
            "a\n",
            "a\n",
            "a\n",
            "a\n",
            "a\n",
            "a\n",
            "a\n",
            "a\n",
            "a\n",
            "a\n",
            "a\n",
            "a\n",
            "a\n",
            "a\n",
            "a\n",
            "a\n",
            "a\n",
            "a\n",
            "a\n",
            "a\n",
            "a\n",
            "a\n",
            "a\n",
            "a\n",
            "a\n",
            "a\n",
            "a\n",
            "a\n",
            "a\n",
            "a\n",
            "a\n",
            "a\n",
            "a\n",
            "a\n",
            "a\n",
            "a\n",
            "a\n",
            "a\n",
            "a\n",
            "a\n",
            "a\n",
            "a\n",
            "a\n",
            "a\n",
            "a\n",
            "a\n",
            "a\n",
            "a\n",
            "a\n",
            "a\n",
            "a\n",
            "a\n",
            "a\n",
            "a\n",
            "a\n",
            "a\n",
            "a\n",
            "a\n",
            "a\n",
            "a\n",
            "a\n",
            "a\n",
            "a\n",
            "a\n",
            "a\n",
            "a\n",
            "a\n",
            "a\n",
            "a\n",
            "a\n",
            "a\n",
            "a\n",
            "a\n",
            "a\n",
            "a\n",
            "a\n",
            "a\n",
            "a\n",
            "a\n",
            "a\n",
            "a\n",
            "a\n",
            "a\n",
            "a\n",
            "a\n",
            "a\n",
            "a\n",
            "a\n",
            "a\n",
            "a\n",
            "a\n",
            "a\n",
            "a\n",
            "a\n",
            "a\n",
            "a\n",
            "a\n",
            "a\n",
            "a\n",
            "a\n",
            "a\n",
            "a\n",
            "a\n",
            "a\n",
            "a\n",
            "a\n",
            "a\n",
            "a\n",
            "a\n",
            "a\n",
            "a\n",
            "a\n",
            "a\n",
            "a\n",
            "a\n",
            "a\n",
            "a\n",
            "a\n",
            "a\n",
            "a\n",
            "a\n",
            "a\n",
            "a\n",
            "a\n",
            "a\n",
            "a\n",
            "a\n",
            "a\n",
            "a\n",
            "a\n",
            "a\n",
            "a\n",
            "a\n",
            "a\n",
            "a\n",
            "a\n",
            "a\n",
            "a\n",
            "a\n",
            "a\n",
            "a\n",
            "a\n",
            "a\n",
            "a\n",
            "a\n",
            "a\n",
            "a\n",
            "a\n",
            "a\n",
            "a\n",
            "a\n",
            "a\n",
            "a\n",
            "a\n",
            "a\n",
            "a\n",
            "a\n",
            "a\n",
            "a\n",
            "a\n",
            "a\n",
            "a\n",
            "a\n",
            "a\n",
            "a\n",
            "a\n",
            "a\n",
            "a\n",
            "a\n",
            "a\n",
            "a\n",
            "a\n",
            "a\n",
            "a\n",
            "a\n",
            "a\n",
            "a\n",
            "a\n",
            "a\n",
            "a\n",
            "a\n",
            "a\n",
            "a\n",
            "a\n",
            "a\n",
            "a\n",
            "a\n",
            "a\n",
            "a\n",
            "a\n",
            "a\n",
            "a\n",
            "a\n",
            "a\n",
            "a\n",
            "a\n",
            "a\n",
            "a\n",
            "a\n",
            "a\n",
            "a\n",
            "a\n",
            "a\n",
            "a\n",
            "a\n",
            "a\n",
            "a\n",
            "a\n",
            "a\n",
            "a\n",
            "a\n",
            "a\n",
            "a\n",
            "a\n",
            "a\n",
            "a\n",
            "a\n",
            "a\n",
            "a\n",
            "a\n",
            "a\n",
            "a\n",
            "a\n",
            "a\n",
            "a\n",
            "a\n",
            "a\n",
            "a\n",
            "a\n",
            "a\n",
            "a\n",
            "a\n",
            "a\n",
            "a\n",
            "a\n",
            "a\n",
            "a\n",
            "a\n",
            "a\n",
            "a\n",
            "a\n",
            "a\n",
            "a\n",
            "a\n",
            "a\n",
            "a\n",
            "a\n",
            "a\n",
            "a\n",
            "a\n",
            "a\n",
            "a\n",
            "a\n",
            "a\n",
            "a\n",
            "a\n",
            "a\n",
            "a\n",
            "a\n",
            "a\n",
            "a\n",
            "a\n",
            "a\n",
            "a\n",
            "a\n",
            "a\n",
            "a\n",
            "a\n",
            "a\n",
            "a\n",
            "a\n",
            "a\n",
            "a\n",
            "a\n",
            "a\n",
            "a\n",
            "a\n",
            "a\n",
            "a\n",
            "a\n",
            "a\n",
            "a\n",
            "a\n",
            "a\n",
            "a\n",
            "a\n",
            "a\n",
            "a\n",
            "a\n",
            "a\n",
            "a\n",
            "a\n",
            "a\n",
            "a\n",
            "a\n",
            "a\n",
            "a\n",
            "a\n",
            "a\n",
            "a\n",
            "a\n",
            "a\n",
            "a\n",
            "a\n",
            "a\n",
            "a\n",
            "a\n",
            "a\n",
            "a\n",
            "a\n",
            "a\n",
            "a\n",
            "a\n",
            "a\n",
            "a\n",
            "a\n",
            "a\n",
            "a\n",
            "a\n",
            "a\n",
            "a\n",
            "a\n",
            "a\n",
            "a\n",
            "a\n",
            "a\n",
            "a\n",
            "a\n",
            "a\n",
            "a\n",
            "a\n",
            "a\n",
            "a\n",
            "a\n",
            "a\n",
            "a\n",
            "a\n",
            "a\n",
            "a\n",
            "a\n",
            "a\n",
            "a\n",
            "a\n",
            "a\n",
            "a\n",
            "a\n",
            "a\n",
            "a\n",
            "a\n",
            "a\n",
            "a\n",
            "a\n",
            "a\n",
            "a\n",
            "a\n",
            "a\n",
            "a\n",
            "a\n",
            "a\n",
            "a\n",
            "a\n",
            "a\n",
            "a\n",
            "a\n",
            "a\n",
            "a\n",
            "a\n",
            "a\n",
            "a\n",
            "a\n",
            "a\n",
            "a\n",
            "a\n",
            "a\n",
            "a\n",
            "a\n",
            "a\n",
            "a\n",
            "a\n",
            "a\n",
            "a\n",
            "a\n",
            "a\n",
            "a\n",
            "a\n",
            "a\n",
            "a\n",
            "a\n",
            "a\n",
            "a\n",
            "a\n",
            "a\n",
            "a\n",
            "a\n",
            "a\n",
            "a\n",
            "a\n",
            "a\n",
            "a\n",
            "a\n",
            "a\n",
            "a\n",
            "a\n",
            "a\n",
            "a\n",
            "a\n",
            "a\n",
            "a\n",
            "a\n",
            "a\n",
            "a\n",
            "a\n",
            "a\n",
            "a\n",
            "a\n",
            "a\n",
            "a\n",
            "a\n",
            "a\n",
            "a\n",
            "a\n",
            "a\n",
            "a\n",
            "a\n",
            "a\n",
            "a\n",
            "a\n",
            "a\n",
            "a\n",
            "a\n",
            "a\n",
            "a\n",
            "a\n",
            "a\n",
            "a\n",
            "a\n",
            "a\n",
            "a\n",
            "a\n",
            "a\n",
            "a\n",
            "a\n",
            "a\n",
            "a\n",
            "a\n",
            "a\n",
            "a\n",
            "a\n",
            "a\n",
            "a\n",
            "a\n",
            "a\n",
            "a\n",
            "a\n",
            "a\n",
            "a\n",
            "a\n",
            "a\n",
            "a\n",
            "a\n",
            "a\n",
            "a\n",
            "a\n",
            "a\n",
            "a\n",
            "a\n",
            "a\n",
            "a\n",
            "a\n",
            "a\n",
            "a\n",
            "a\n",
            "a\n",
            "a\n",
            "a\n",
            "a\n",
            "a\n",
            "a\n",
            "a\n",
            "a\n",
            "a\n",
            "a\n",
            "a\n",
            "a\n",
            "a\n",
            "a\n",
            "a\n",
            "a\n",
            "a\n",
            "a\n",
            "a\n",
            "a\n",
            "a\n",
            "a\n",
            "a\n",
            "a\n",
            "a\n",
            "a\n",
            "a\n",
            "a\n",
            "a\n",
            "a\n",
            "a\n",
            "a\n",
            "a\n",
            "a\n",
            "a\n",
            "a\n",
            "a\n",
            "a\n",
            "a\n",
            "a\n",
            "a\n",
            "a\n",
            "a\n",
            "a\n",
            "a\n",
            "a\n",
            "a\n",
            "a\n",
            "a\n",
            "a\n",
            "a\n",
            "a\n",
            "a\n",
            "a\n",
            "a\n",
            "a\n",
            "a\n",
            "a\n",
            "a\n",
            "a\n",
            "a\n",
            "a\n",
            "a\n",
            "a\n",
            "a\n",
            "a\n",
            "a\n",
            "a\n",
            "a\n",
            "a\n",
            "a\n",
            "a\n",
            "a\n",
            "a\n",
            "a\n",
            "a\n",
            "a\n",
            "a\n",
            "a\n",
            "a\n",
            "a\n",
            "a\n",
            "a\n",
            "a\n",
            "a\n",
            "a\n",
            "a\n",
            "a\n",
            "a\n",
            "a\n",
            "a\n",
            "a\n",
            "a\n",
            "a\n",
            "a\n",
            "a\n",
            "a\n",
            "a\n",
            "a\n",
            "a\n",
            "a\n",
            "a\n",
            "a\n",
            "a\n",
            "a\n",
            "a\n",
            "a\n",
            "a\n",
            "a\n",
            "a\n",
            "a\n",
            "a\n",
            "a\n",
            "a\n",
            "a\n",
            "a\n",
            "a\n",
            "a\n",
            "a\n",
            "a\n",
            "a\n",
            "a\n",
            "a\n",
            "a\n",
            "a\n",
            "a\n",
            "a\n",
            "a\n",
            "a\n",
            "a\n",
            "a\n",
            "a\n",
            "a\n",
            "a\n",
            "a\n",
            "a\n",
            "a\n",
            "a\n",
            "a\n",
            "a\n",
            "a\n",
            "a\n",
            "a\n",
            "a\n",
            "a\n",
            "a\n",
            "a\n",
            "a\n",
            "a\n",
            "a\n",
            "a\n",
            "a\n",
            "a\n",
            "a\n",
            "a\n",
            "a\n",
            "a\n",
            "a\n",
            "a\n",
            "a\n",
            "a\n",
            "a\n",
            "a\n",
            "a\n",
            "a\n",
            "a\n",
            "a\n",
            "a\n",
            "a\n",
            "a\n",
            "a\n",
            "a\n",
            "a\n",
            "a\n",
            "a\n",
            "a\n",
            "a\n",
            "a\n",
            "a\n",
            "a\n",
            "a\n",
            "a\n",
            "a\n",
            "a\n",
            "a\n",
            "a\n",
            "a\n",
            "a\n",
            "a\n",
            "a\n",
            "a\n",
            "a\n",
            "a\n",
            "a\n",
            "a\n",
            "a\n",
            "a\n",
            "a\n",
            "a\n",
            "a\n",
            "a\n",
            "a\n",
            "a\n",
            "a\n",
            "a\n",
            "a\n",
            "a\n",
            "a\n",
            "a\n",
            "a\n",
            "a\n",
            "a\n",
            "a\n",
            "a\n",
            "a\n",
            "a\n",
            "a\n",
            "a\n",
            "a\n",
            "a\n",
            "a\n",
            "a\n",
            "a\n",
            "a\n",
            "a\n",
            "a\n",
            "a\n",
            "a\n",
            "a\n",
            "a\n",
            "a\n",
            "a\n",
            "a\n",
            "a\n",
            "a\n",
            "a\n",
            "a\n",
            "a\n",
            "a\n",
            "a\n",
            "a\n",
            "a\n",
            "a\n",
            "a\n",
            "a\n",
            "a\n",
            "a\n",
            "a\n",
            "a\n",
            "a\n",
            "a\n",
            "a\n",
            "a\n",
            "a\n",
            "a\n",
            "a\n",
            "a\n",
            "a\n",
            "a\n",
            "a\n",
            "a\n",
            "a\n",
            "a\n",
            "a\n",
            "a\n",
            "a\n",
            "a\n",
            "a\n",
            "a\n",
            "a\n",
            "a\n",
            "a\n",
            "a\n",
            "a\n",
            "a\n",
            "a\n",
            "a\n",
            "a\n",
            "a\n",
            "a\n",
            "a\n",
            "a\n",
            "a\n",
            "a\n",
            "a\n",
            "a\n",
            "a\n",
            "a\n",
            "a\n",
            "a\n",
            "a\n",
            "a\n",
            "a\n",
            "a\n",
            "a\n",
            "a\n",
            "a\n",
            "a\n",
            "a\n",
            "a\n",
            "a\n",
            "a\n",
            "a\n",
            "a\n",
            "a\n",
            "a\n",
            "a\n",
            "a\n",
            "a\n",
            "a\n",
            "a\n",
            "a\n",
            "a\n",
            "a\n",
            "a\n",
            "a\n",
            "a\n",
            "a\n",
            "a\n",
            "a\n",
            "a\n",
            "a\n",
            "a\n",
            "a\n",
            "a\n",
            "a\n",
            "a\n",
            "a\n",
            "a\n",
            "a\n",
            "a\n",
            "a\n",
            "a\n",
            "a\n",
            "a\n",
            "a\n",
            "a\n",
            "a\n",
            "a\n",
            "a\n",
            "a\n",
            "a\n",
            "a\n",
            "a\n",
            "a\n",
            "a\n",
            "a\n",
            "a\n",
            "a\n",
            "a\n",
            "a\n",
            "a\n",
            "a\n",
            "a\n",
            "a\n",
            "a\n",
            "a\n",
            "a\n",
            "a\n",
            "a\n",
            "a\n",
            "a\n",
            "a\n",
            "a\n",
            "a\n",
            "a\n",
            "a\n",
            "a\n",
            "a\n",
            "a\n",
            "a\n",
            "a\n",
            "a\n",
            "a\n",
            "a\n",
            "a\n",
            "a\n",
            "a\n",
            "a\n",
            "a\n",
            "a\n",
            "a\n",
            "a\n",
            "a\n",
            "a\n",
            "a\n",
            "a\n",
            "a\n",
            "a\n",
            "a\n",
            "a\n",
            "a\n",
            "a\n",
            "a\n",
            "a\n",
            "a\n",
            "a\n",
            "a\n",
            "a\n",
            "a\n",
            "a\n",
            "a\n",
            "a\n",
            "a\n",
            "a\n",
            "a\n",
            "a\n",
            "a\n",
            "a\n",
            "a\n",
            "a\n",
            "a\n",
            "a\n",
            "a\n",
            "a\n",
            "a\n",
            "a\n",
            "a\n",
            "a\n",
            "a\n",
            "a\n",
            "a\n",
            "a\n",
            "a\n",
            "a\n",
            "a\n",
            "a\n",
            "a\n",
            "a\n",
            "a\n",
            "a\n",
            "a\n",
            "a\n",
            "a\n",
            "a\n",
            "a\n",
            "a\n",
            "a\n",
            "a\n",
            "a\n",
            "a\n",
            "a\n",
            "a\n",
            "a\n",
            "a\n",
            "a\n",
            "a\n",
            "a\n",
            "a\n",
            "a\n",
            "a\n",
            "a\n",
            "a\n",
            "a\n",
            "a\n",
            "a\n",
            "a\n",
            "a\n",
            "a\n",
            "a\n",
            "a\n",
            "a\n",
            "a\n",
            "a\n",
            "a\n",
            "a\n",
            "a\n",
            "a\n",
            "a\n",
            "a\n",
            "a\n",
            "a\n",
            "a\n",
            "a\n",
            "a\n",
            "a\n",
            "a\n",
            "a\n",
            "a\n",
            "a\n",
            "a\n",
            "a\n",
            "a\n",
            "a\n",
            "a\n",
            "a\n",
            "a\n",
            "a\n",
            "a\n",
            "a\n",
            "a\n",
            "a\n",
            "a\n",
            "a\n",
            "a\n",
            "a\n",
            "a\n",
            "a\n",
            "a\n",
            "a\n",
            "a\n",
            "a\n",
            "a\n",
            "a\n",
            "a\n",
            "a\n",
            "a\n",
            "a\n",
            "a\n",
            "a\n",
            "a\n",
            "a\n",
            "a\n",
            "a\n",
            "a\n",
            "a\n",
            "a\n",
            "a\n",
            "a\n",
            "a\n",
            "a\n",
            "a\n",
            "a\n",
            "a\n",
            "a\n",
            "a\n",
            "a\n",
            "a\n",
            "a\n",
            "a\n",
            "a\n",
            "a\n",
            "a\n",
            "a\n",
            "a\n",
            "a\n",
            "a\n",
            "a\n",
            "a\n",
            "a\n",
            "a\n",
            "a\n",
            "a\n",
            "a\n",
            "a\n",
            "a\n",
            "a\n",
            "a\n",
            "a\n",
            "a\n",
            "a\n",
            "a\n",
            "a\n",
            "a\n",
            "a\n",
            "a\n",
            "a\n",
            "a\n",
            "a\n",
            "a\n",
            "a\n",
            "a\n",
            "a\n",
            "a\n",
            "a\n",
            "a\n",
            "a\n",
            "a\n",
            "a\n",
            "a\n",
            "a\n",
            "a\n",
            "a\n",
            "a\n",
            "a\n",
            "a\n",
            "a\n",
            "a\n",
            "a\n",
            "a\n",
            "a\n",
            "a\n",
            "a\n",
            "a\n",
            "a\n",
            "a\n",
            "a\n",
            "a\n",
            "a\n",
            "a\n",
            "a\n",
            "a\n",
            "a\n",
            "a\n",
            "a\n",
            "a\n",
            "a\n",
            "a\n",
            "a\n",
            "a\n",
            "a\n",
            "a\n",
            "a\n",
            "a\n",
            "a\n",
            "a\n",
            "a\n",
            "a\n",
            "a\n",
            "a\n",
            "a\n",
            "a\n",
            "a\n",
            "a\n",
            "a\n",
            "a\n",
            "a\n",
            "a\n",
            "a\n",
            "a\n",
            "a\n",
            "a\n",
            "a\n",
            "a\n",
            "a\n",
            "a\n",
            "a\n",
            "a\n",
            "a\n",
            "a\n",
            "a\n",
            "a\n",
            "a\n",
            "a\n",
            "a\n",
            "a\n",
            "a\n",
            "a\n",
            "a\n",
            "a\n",
            "a\n",
            "a\n",
            "a\n",
            "a\n",
            "a\n",
            "a\n",
            "a\n",
            "a\n",
            "a\n",
            "a\n",
            "a\n",
            "a\n",
            "a\n",
            "a\n",
            "a\n",
            "a\n",
            "a\n",
            "a\n",
            "a\n",
            "a\n",
            "a\n",
            "a\n",
            "a\n",
            "a\n",
            "a\n",
            "a\n",
            "a\n",
            "a\n",
            "a\n",
            "a\n",
            "a\n",
            "a\n",
            "a\n",
            "a\n",
            "a\n",
            "a\n",
            "a\n",
            "a\n",
            "a\n",
            "a\n",
            "a\n",
            "a\n",
            "a\n",
            "a\n",
            "a\n",
            "a\n",
            "a\n",
            "a\n",
            "a\n",
            "a\n",
            "a\n",
            "a\n",
            "a\n",
            "a\n",
            "a\n",
            "a\n",
            "a\n",
            "a\n",
            "a\n",
            "a\n",
            "a\n",
            "a\n",
            "a\n",
            "a\n",
            "a\n",
            "a\n",
            "a\n",
            "a\n",
            "a\n",
            "a\n",
            "a\n",
            "a\n",
            "a\n",
            "a\n",
            "a\n",
            "a\n",
            "a\n",
            "a\n",
            "a\n",
            "a\n",
            "a\n",
            "a\n",
            "a\n",
            "a\n",
            "a\n",
            "a\n",
            "a\n",
            "a\n",
            "a\n",
            "a\n",
            "a\n",
            "a\n",
            "a\n",
            "a\n",
            "a\n",
            "a\n",
            "a\n",
            "a\n",
            "a\n",
            "a\n",
            "a\n",
            "a\n",
            "a\n",
            "a\n",
            "a\n",
            "a\n",
            "a\n",
            "a\n",
            "a\n",
            "a\n",
            "a\n",
            "a\n",
            "a\n",
            "a\n",
            "a\n",
            "a\n",
            "a\n",
            "a\n",
            "a\n",
            "a\n",
            "a\n",
            "a\n",
            "a\n",
            "a\n",
            "a\n",
            "a\n",
            "a\n",
            "a\n",
            "a\n",
            "a\n",
            "a\n",
            "a\n",
            "a\n",
            "a\n",
            "a\n",
            "a\n",
            "a\n",
            "a\n",
            "a\n",
            "a\n",
            "a\n",
            "a\n",
            "a\n",
            "a\n",
            "a\n",
            "a\n",
            "a\n",
            "a\n",
            "a\n",
            "a\n",
            "a\n",
            "a\n",
            "a\n",
            "a\n",
            "a\n",
            "a\n",
            "a\n",
            "a\n",
            "a\n",
            "a\n",
            "a\n",
            "a\n",
            "a\n",
            "a\n",
            "a\n",
            "a\n",
            "a\n",
            "a\n",
            "a\n",
            "a\n",
            "a\n",
            "a\n",
            "a\n",
            "a\n",
            "a\n",
            "a\n",
            "a\n",
            "a\n",
            "a\n",
            "a\n",
            "a\n",
            "a\n",
            "a\n",
            "a\n",
            "a\n",
            "a\n",
            "a\n",
            "a\n",
            "a\n",
            "a\n",
            "a\n",
            "a\n",
            "a\n",
            "a\n",
            "a\n",
            "a\n",
            "a\n",
            "a\n",
            "a\n",
            "a\n",
            "a\n",
            "a\n",
            "a\n",
            "a\n",
            "a\n",
            "a\n",
            "a\n",
            "a\n",
            "a\n",
            "a\n",
            "a\n",
            "a\n",
            "a\n",
            "a\n",
            "a\n",
            "a\n",
            "a\n",
            "a\n",
            "a\n",
            "a\n",
            "a\n",
            "a\n",
            "a\n",
            "a\n",
            "a\n",
            "a\n",
            "a\n",
            "a\n",
            "a\n",
            "a\n",
            "a\n",
            "a\n",
            "a\n",
            "a\n",
            "a\n",
            "a\n",
            "a\n",
            "a\n",
            "a\n",
            "a\n",
            "a\n",
            "a\n",
            "a\n",
            "a\n",
            "a\n",
            "a\n",
            "a\n",
            "a\n",
            "a\n",
            "a\n",
            "a\n",
            "a\n",
            "a\n",
            "a\n",
            "a\n",
            "a\n",
            "a\n",
            "a\n",
            "a\n",
            "a\n",
            "a\n",
            "a\n",
            "a\n",
            "a\n",
            "a\n",
            "a\n",
            "a\n",
            "a\n",
            "a\n",
            "a\n",
            "a\n",
            "a\n",
            "a\n",
            "a\n",
            "a\n",
            "a\n",
            "a\n",
            "a\n",
            "a\n",
            "a\n",
            "a\n",
            "a\n",
            "a\n",
            "a\n",
            "a\n",
            "a\n",
            "a\n",
            "a\n",
            "a\n",
            "a\n",
            "a\n",
            "a\n",
            "a\n",
            "a\n",
            "a\n",
            "a\n",
            "a\n",
            "a\n",
            "a\n",
            "a\n",
            "a\n",
            "a\n",
            "a\n",
            "a\n",
            "a\n",
            "a\n",
            "a\n",
            "a\n",
            "a\n",
            "a\n",
            "a\n",
            "a\n",
            "a\n",
            "a\n",
            "a\n",
            "a\n",
            "a\n",
            "a\n",
            "a\n",
            "a\n",
            "a\n",
            "a\n",
            "a\n",
            "a\n",
            "a\n",
            "a\n",
            "a\n",
            "a\n",
            "a\n",
            "a\n",
            "a\n",
            "a\n",
            "a\n",
            "a\n",
            "a\n",
            "a\n",
            "a\n",
            "a\n",
            "a\n",
            "a\n",
            "a\n",
            "a\n",
            "a\n",
            "a\n",
            "a\n",
            "a\n",
            "a\n",
            "a\n",
            "a\n",
            "a\n",
            "a\n",
            "a\n",
            "a\n",
            "a\n",
            "a\n",
            "a\n",
            "a\n",
            "a\n",
            "a\n",
            "a\n",
            "a\n",
            "a\n",
            "a\n",
            "a\n",
            "a\n",
            "a\n",
            "a\n",
            "a\n",
            "a\n",
            "a\n",
            "a\n",
            "a\n",
            "a\n",
            "a\n",
            "a\n",
            "a\n",
            "a\n",
            "a\n",
            "a\n",
            "a\n",
            "a\n",
            "a\n",
            "a\n",
            "a\n",
            "a\n",
            "a\n",
            "a\n",
            "a\n",
            "a\n",
            "a\n",
            "a\n",
            "a\n",
            "a\n",
            "a\n",
            "a\n",
            "a\n",
            "a\n",
            "a\n",
            "a\n",
            "a\n",
            "a\n",
            "a\n",
            "a\n",
            "a\n",
            "a\n",
            "a\n",
            "a\n",
            "a\n",
            "a\n",
            "a\n",
            "a\n",
            "a\n",
            "a\n",
            "a\n",
            "a\n",
            "a\n",
            "a\n",
            "a\n",
            "a\n",
            "a\n",
            "a\n",
            "a\n",
            "a\n",
            "a\n",
            "a\n",
            "a\n",
            "a\n",
            "a\n",
            "a\n",
            "a\n",
            "a\n",
            "a\n",
            "a\n",
            "a\n",
            "a\n",
            "a\n",
            "a\n",
            "a\n",
            "a\n",
            "a\n",
            "a\n",
            "a\n",
            "a\n",
            "a\n",
            "a\n",
            "a\n",
            "a\n",
            "a\n",
            "a\n",
            "a\n",
            "a\n",
            "a\n",
            "a\n",
            "a\n",
            "a\n",
            "a\n",
            "a\n",
            "a\n",
            "a\n",
            "a\n",
            "a\n",
            "a\n",
            "a\n",
            "a\n",
            "a\n",
            "a\n",
            "a\n",
            "a\n",
            "a\n",
            "a\n",
            "a\n",
            "a\n",
            "a\n",
            "a\n",
            "a\n",
            "a\n",
            "a\n",
            "a\n",
            "a\n",
            "a\n",
            "a\n",
            "a\n",
            "a\n",
            "a\n",
            "a\n",
            "a\n",
            "a\n",
            "a\n",
            "a\n",
            "a\n",
            "a\n",
            "a\n",
            "a\n",
            "a\n",
            "a\n",
            "a\n",
            "a\n",
            "a\n",
            "a\n",
            "a\n",
            "a\n",
            "a\n",
            "a\n",
            "a\n",
            "a\n",
            "a\n",
            "a\n",
            "a\n",
            "a\n",
            "a\n",
            "a\n",
            "a\n",
            "a\n",
            "a\n",
            "a\n",
            "a\n",
            "a\n",
            "a\n",
            "a\n",
            "a\n",
            "a\n",
            "a\n",
            "a\n",
            "a\n",
            "a\n",
            "a\n",
            "a\n",
            "a\n",
            "a\n",
            "a\n",
            "a\n",
            "a\n",
            "a\n",
            "a\n",
            "a\n",
            "a\n",
            "a\n",
            "a\n",
            "a\n",
            "a\n",
            "a\n",
            "a\n",
            "a\n",
            "a\n",
            "a\n",
            "a\n",
            "a\n",
            "a\n",
            "a\n",
            "a\n",
            "a\n",
            "a\n",
            "a\n",
            "a\n",
            "a\n",
            "a\n",
            "a\n",
            "a\n",
            "a\n",
            "a\n",
            "a\n",
            "a\n",
            "a\n",
            "a\n",
            "a\n",
            "a\n",
            "a\n",
            "a\n",
            "a\n",
            "a\n",
            "a\n",
            "a\n",
            "a\n",
            "a\n",
            "a\n",
            "a\n",
            "a\n",
            "a\n",
            "a\n",
            "a\n",
            "a\n",
            "a\n",
            "a\n",
            "a\n",
            "a\n",
            "a\n",
            "a\n",
            "a\n",
            "a\n",
            "a\n",
            "a\n",
            "a\n",
            "a\n",
            "a\n",
            "a\n",
            "a\n",
            "a\n",
            "a\n",
            "a\n",
            "a\n",
            "a\n",
            "a\n",
            "a\n",
            "a\n",
            "a\n",
            "a\n",
            "a\n",
            "a\n",
            "a\n",
            "a\n",
            "a\n",
            "a\n",
            "a\n",
            "a\n",
            "a\n",
            "a\n",
            "a\n",
            "a\n",
            "a\n",
            "a\n",
            "a\n",
            "a\n",
            "a\n",
            "a\n",
            "a\n",
            "a\n",
            "a\n",
            "a\n",
            "a\n",
            "a\n",
            "a\n",
            "a\n",
            "a\n",
            "a\n",
            "a\n",
            "a\n",
            "a\n",
            "a\n",
            "a\n",
            "a\n",
            "a\n",
            "a\n",
            "a\n",
            "a\n",
            "a\n",
            "a\n",
            "a\n",
            "a\n",
            "a\n",
            "a\n",
            "a\n",
            "a\n",
            "a\n",
            "a\n",
            "a\n",
            "a\n",
            "a\n",
            "a\n",
            "a\n",
            "a\n",
            "a\n",
            "a\n",
            "a\n",
            "a\n",
            "a\n",
            "a\n",
            "a\n",
            "a\n",
            "a\n",
            "a\n",
            "a\n",
            "a\n",
            "a\n",
            "a\n",
            "a\n",
            "a\n",
            "a\n",
            "a\n",
            "a\n",
            "a\n",
            "a\n",
            "a\n",
            "a\n",
            "a\n",
            "a\n",
            "a\n",
            "a\n",
            "a\n",
            "a\n",
            "a\n",
            "a\n",
            "a\n",
            "a\n",
            "a\n",
            "a\n",
            "a\n",
            "a\n",
            "a\n",
            "a\n",
            "a\n",
            "a\n",
            "a\n",
            "a\n",
            "a\n",
            "a\n",
            "a\n",
            "a\n",
            "a\n",
            "a\n",
            "a\n",
            "a\n",
            "a\n",
            "a\n",
            "a\n",
            "a\n",
            "a\n",
            "a\n",
            "a\n",
            "a\n",
            "a\n",
            "a\n",
            "a\n",
            "a\n",
            "a\n",
            "a\n",
            "a\n",
            "a\n",
            "a\n",
            "a\n",
            "a\n",
            "a\n",
            "a\n",
            "a\n",
            "a\n",
            "a\n",
            "a\n",
            "a\n",
            "a\n",
            "a\n",
            "a\n",
            "a\n",
            "a\n",
            "a\n",
            "a\n",
            "a\n",
            "a\n",
            "a\n",
            "a\n",
            "a\n",
            "a\n",
            "a\n",
            "a\n",
            "a\n",
            "a\n",
            "a\n",
            "a\n",
            "a\n",
            "a\n",
            "a\n",
            "a\n",
            "a\n",
            "a\n",
            "a\n",
            "a\n",
            "a\n",
            "a\n",
            "a\n",
            "a\n",
            "a\n",
            "a\n",
            "a\n",
            "a\n",
            "a\n",
            "a\n",
            "a\n",
            "a\n",
            "a\n",
            "a\n",
            "a\n",
            "a\n",
            "a\n",
            "a\n",
            "a\n",
            "a\n",
            "a\n",
            "a\n",
            "a\n",
            "a\n",
            "a\n",
            "a\n",
            "a\n",
            "a\n",
            "a\n",
            "a\n",
            "a\n",
            "a\n",
            "a\n",
            "a\n",
            "a\n",
            "a\n",
            "a\n",
            "a\n",
            "a\n",
            "a\n",
            "a\n",
            "a\n",
            "a\n",
            "a\n",
            "a\n",
            "a\n",
            "a\n",
            "a\n",
            "a\n",
            "a\n",
            "a\n",
            "a\n",
            "a\n",
            "a\n",
            "a\n",
            "a\n",
            "a\n",
            "a\n",
            "a\n",
            "a\n",
            "a\n",
            "a\n",
            "a\n",
            "a\n",
            "a\n",
            "a\n",
            "a\n",
            "a\n",
            "a\n",
            "a\n",
            "a\n",
            "a\n",
            "a\n",
            "a\n",
            "a\n",
            "a\n",
            "a\n",
            "a\n",
            "a\n",
            "a\n",
            "a\n",
            "a\n",
            "a\n",
            "a\n",
            "a\n",
            "a\n",
            "a\n",
            "a\n",
            "a\n",
            "a\n",
            "a\n",
            "a\n",
            "a\n",
            "a\n",
            "a\n",
            "a\n",
            "a\n",
            "a\n",
            "a\n",
            "a\n",
            "a\n",
            "a\n",
            "a\n",
            "a\n",
            "a\n",
            "a\n",
            "a\n",
            "a\n",
            "a\n",
            "a\n",
            "a\n",
            "a\n",
            "a\n",
            "a\n",
            "a\n",
            "a\n",
            "a\n",
            "a\n",
            "a\n",
            "a\n",
            "a\n",
            "a\n",
            "a\n",
            "a\n",
            "a\n",
            "a\n",
            "a\n",
            "a\n",
            "a\n",
            "a\n",
            "a\n",
            "a\n",
            "a\n",
            "a\n",
            "a\n",
            "a\n",
            "a\n",
            "a\n",
            "a\n",
            "a\n",
            "a\n",
            "a\n",
            "a\n",
            "a\n",
            "a\n",
            "a\n",
            "a\n",
            "a\n",
            "a\n",
            "a\n",
            "a\n",
            "a\n",
            "a\n",
            "a\n",
            "a\n",
            "a\n",
            "a\n",
            "a\n",
            "a\n",
            "a\n",
            "a\n",
            "a\n",
            "a\n",
            "a\n",
            "a\n",
            "a\n",
            "a\n",
            "a\n",
            "a\n",
            "a\n",
            "a\n",
            "a\n",
            "a\n",
            "a\n",
            "a\n",
            "a\n",
            "a\n",
            "a\n",
            "a\n",
            "a\n",
            "a\n",
            "a\n",
            "a\n",
            "a\n",
            "a\n",
            "a\n",
            "a\n",
            "a\n",
            "a\n",
            "a\n",
            "a\n",
            "a\n",
            "a\n",
            "a\n",
            "a\n",
            "a\n",
            "a\n",
            "a\n",
            "a\n",
            "a\n",
            "a\n",
            "a\n",
            "a\n",
            "a\n",
            "a\n",
            "a\n",
            "a\n",
            "a\n",
            "a\n",
            "a\n",
            "a\n",
            "a\n",
            "a\n",
            "a\n",
            "a\n",
            "a\n",
            "a\n",
            "a\n",
            "a\n",
            "a\n",
            "a\n",
            "a\n",
            "a\n",
            "a\n",
            "a\n",
            "a\n",
            "a\n",
            "a\n",
            "a\n",
            "a\n",
            "a\n",
            "a\n",
            "a\n",
            "a\n",
            "a\n",
            "a\n",
            "a\n",
            "a\n",
            "a\n",
            "a\n",
            "a\n",
            "a\n",
            "a\n",
            "a\n",
            "a\n",
            "a\n",
            "a\n",
            "a\n",
            "a\n",
            "a\n",
            "a\n",
            "a\n",
            "a\n",
            "a\n",
            "a\n",
            "a\n",
            "a\n",
            "a\n",
            "a\n",
            "a\n",
            "a\n",
            "a\n",
            "a\n",
            "a\n",
            "a\n",
            "a\n",
            "a\n",
            "a\n",
            "a\n",
            "a\n",
            "a\n",
            "a\n",
            "a\n",
            "a\n",
            "a\n",
            "a\n",
            "a\n",
            "a\n",
            "a\n",
            "a\n",
            "a\n",
            "a\n",
            "a\n",
            "a\n",
            "a\n",
            "a\n",
            "a\n",
            "a\n",
            "a\n",
            "a\n",
            "a\n",
            "a\n",
            "a\n",
            "a\n",
            "a\n",
            "a\n",
            "a\n",
            "a\n",
            "a\n",
            "a\n",
            "a\n",
            "a\n",
            "a\n",
            "a\n",
            "a\n",
            "a\n",
            "a\n",
            "a\n",
            "a\n",
            "a\n",
            "a\n",
            "a\n",
            "a\n",
            "a\n",
            "a\n",
            "a\n",
            "a\n",
            "a\n",
            "a\n",
            "a\n",
            "a\n",
            "a\n",
            "a\n",
            "a\n",
            "a\n",
            "a\n",
            "a\n",
            "a\n",
            "a\n",
            "a\n",
            "a\n",
            "a\n",
            "a\n",
            "a\n",
            "a\n",
            "a\n",
            "a\n",
            "a\n",
            "a\n",
            "a\n",
            "a\n",
            "a\n",
            "a\n",
            "a\n",
            "a\n",
            "a\n",
            "a\n",
            "a\n",
            "a\n",
            "a\n",
            "a\n",
            "a\n",
            "a\n",
            "a\n",
            "a\n",
            "a\n",
            "a\n",
            "a\n",
            "a\n",
            "a\n",
            "a\n",
            "a\n",
            "a\n",
            "a\n",
            "a\n",
            "a\n",
            "a\n",
            "a\n",
            "a\n",
            "a\n",
            "a\n",
            "a\n",
            "a\n",
            "a\n",
            "a\n",
            "a\n",
            "a\n",
            "a\n",
            "a\n",
            "a\n",
            "a\n",
            "a\n",
            "a\n",
            "a\n",
            "a\n",
            "a\n",
            "a\n",
            "a\n",
            "a\n",
            "a\n",
            "a\n",
            "a\n",
            "a\n",
            "a\n",
            "a\n",
            "a\n",
            "a\n",
            "a\n",
            "a\n",
            "a\n",
            "a\n",
            "a\n",
            "a\n",
            "a\n",
            "a\n",
            "a\n",
            "a\n",
            "a\n",
            "a\n",
            "a\n",
            "a\n",
            "a\n",
            "a\n",
            "a\n",
            "a\n",
            "a\n",
            "a\n",
            "a\n",
            "a\n",
            "a\n",
            "a\n",
            "a\n",
            "a\n",
            "a\n",
            "a\n",
            "a\n",
            "a\n",
            "a\n",
            "a\n",
            "a\n",
            "a\n",
            "a\n",
            "a\n",
            "a\n",
            "a\n",
            "a\n",
            "a\n",
            "a\n",
            "a\n",
            "a\n",
            "a\n",
            "a\n",
            "a\n",
            "a\n",
            "a\n",
            "a\n",
            "a\n",
            "a\n",
            "a\n",
            "a\n",
            "a\n",
            "a\n",
            "a\n",
            "a\n",
            "a\n",
            "a\n",
            "a\n",
            "a\n",
            "a\n",
            "a\n",
            "a\n",
            "a\n",
            "a\n",
            "a\n",
            "a\n",
            "a\n",
            "a\n",
            "a\n",
            "a\n",
            "a\n",
            "a\n",
            "a\n",
            "a\n",
            "a\n",
            "a\n",
            "a\n",
            "a\n",
            "a\n",
            "a\n",
            "a\n",
            "a\n",
            "a\n",
            "a\n",
            "a\n",
            "a\n",
            "a\n",
            "a\n",
            "a\n",
            "a\n",
            "a\n",
            "a\n",
            "a\n",
            "a\n",
            "a\n",
            "a\n",
            "a\n",
            "a\n",
            "a\n",
            "a\n",
            "a\n",
            "a\n",
            "a\n",
            "a\n",
            "a\n",
            "a\n",
            "a\n",
            "a\n",
            "a\n",
            "a\n",
            "a\n",
            "a\n",
            "a\n",
            "a\n",
            "a\n",
            "a\n",
            "a\n",
            "a\n",
            "a\n",
            "a\n",
            "a\n",
            "a\n",
            "a\n",
            "a\n",
            "a\n",
            "a\n",
            "a\n",
            "a\n",
            "a\n",
            "a\n",
            "a\n",
            "a\n",
            "a\n",
            "a\n",
            "a\n",
            "a\n",
            "a\n",
            "a\n",
            "a\n",
            "a\n",
            "a\n",
            "a\n",
            "a\n",
            "a\n",
            "a\n",
            "a\n",
            "a\n",
            "a\n",
            "a\n",
            "a\n",
            "a\n",
            "a\n",
            "a\n",
            "a\n",
            "a\n",
            "a\n",
            "a\n",
            "a\n",
            "a\n",
            "a\n",
            "a\n",
            "a\n",
            "a\n",
            "a\n",
            "a\n",
            "a\n",
            "a\n",
            "a\n",
            "a\n",
            "a\n",
            "a\n",
            "a\n",
            "a\n",
            "a\n",
            "a\n",
            "a\n",
            "a\n",
            "a\n",
            "a\n",
            "a\n",
            "a\n",
            "a\n",
            "a\n",
            "a\n",
            "a\n",
            "a\n",
            "a\n",
            "a\n",
            "a\n",
            "a\n",
            "a\n",
            "a\n",
            "a\n",
            "a\n",
            "a\n",
            "a\n",
            "a\n",
            "a\n",
            "a\n",
            "a\n",
            "a\n",
            "a\n",
            "a\n",
            "a\n",
            "a\n",
            "a\n",
            "a\n",
            "a\n",
            "a\n",
            "a\n",
            "a\n",
            "a\n",
            "a\n",
            "a\n",
            "a\n",
            "a\n",
            "a\n",
            "a\n",
            "a\n",
            "a\n",
            "a\n",
            "a\n",
            "a\n",
            "a\n",
            "a\n",
            "a\n",
            "a\n",
            "a\n",
            "a\n",
            "a\n",
            "a\n",
            "a\n",
            "a\n",
            "a\n",
            "a\n",
            "a\n",
            "a\n",
            "a\n",
            "a\n",
            "a\n",
            "a\n",
            "a\n",
            "a\n",
            "a\n",
            "a\n",
            "a\n",
            "a\n",
            "a\n",
            "a\n",
            "a\n",
            "a\n",
            "a\n",
            "a\n",
            "a\n",
            "a\n",
            "a\n",
            "a\n",
            "a\n",
            "a\n",
            "a\n",
            "a\n",
            "a\n",
            "a\n",
            "a\n"
          ]
        },
        {
          "output_type": "error",
          "ename": "KeyboardInterrupt",
          "evalue": "ignored",
          "traceback": [
            "\u001b[0;31m---------------------------------------------------------------------------\u001b[0m",
            "\u001b[0;31mKeyboardInterrupt\u001b[0m                         Traceback (most recent call last)",
            "\u001b[0;32m<ipython-input-1-465b34cee590>\u001b[0m in \u001b[0;36m<module>\u001b[0;34m()\u001b[0m\n\u001b[1;32m      5\u001b[0m   \u001b[0;32mfor\u001b[0m \u001b[0mletter\u001b[0m \u001b[0;32min\u001b[0m \u001b[0mvowels\u001b[0m\u001b[0;34m:\u001b[0m\u001b[0;34m\u001b[0m\u001b[0;34m\u001b[0m\u001b[0m\n\u001b[1;32m      6\u001b[0m     \u001b[0;32mwhile\u001b[0m \u001b[0mword\u001b[0m\u001b[0;34m.\u001b[0m\u001b[0mindex\u001b[0m\u001b[0;34m(\u001b[0m\u001b[0mletter\u001b[0m\u001b[0;34m)\u001b[0m \u001b[0;34m>\u001b[0m \u001b[0;36m0\u001b[0m\u001b[0;34m:\u001b[0m\u001b[0;34m\u001b[0m\u001b[0;34m\u001b[0m\u001b[0m\n\u001b[0;32m----> 7\u001b[0;31m       \u001b[0mprint\u001b[0m\u001b[0;34m(\u001b[0m\u001b[0mletter\u001b[0m\u001b[0;34m)\u001b[0m\u001b[0;34m\u001b[0m\u001b[0;34m\u001b[0m\u001b[0m\n\u001b[0m\u001b[1;32m      8\u001b[0m       \u001b[0mdesl\u001b[0m \u001b[0;34m=\u001b[0m \u001b[0mword\u001b[0m\u001b[0;34m.\u001b[0m\u001b[0mindex\u001b[0m\u001b[0;34m(\u001b[0m\u001b[0mletter\u001b[0m\u001b[0;34m)\u001b[0m\u001b[0;34m\u001b[0m\u001b[0;34m\u001b[0m\u001b[0m\n\u001b[1;32m      9\u001b[0m       \u001b[0mdesl\u001b[0m \u001b[0;34m-=\u001b[0m\u001b[0;36m1\u001b[0m\u001b[0;34m\u001b[0m\u001b[0;34m\u001b[0m\u001b[0m\n",
            "\u001b[0;32m/usr/local/lib/python3.7/dist-packages/ipykernel/iostream.py\u001b[0m in \u001b[0;36mwrite\u001b[0;34m(self, string)\u001b[0m\n\u001b[1;32m    398\u001b[0m             \u001b[0mis_child\u001b[0m \u001b[0;34m=\u001b[0m \u001b[0;34m(\u001b[0m\u001b[0;32mnot\u001b[0m \u001b[0mself\u001b[0m\u001b[0;34m.\u001b[0m\u001b[0m_is_master_process\u001b[0m\u001b[0;34m(\u001b[0m\u001b[0;34m)\u001b[0m\u001b[0;34m)\u001b[0m\u001b[0;34m\u001b[0m\u001b[0;34m\u001b[0m\u001b[0m\n\u001b[1;32m    399\u001b[0m             \u001b[0;31m# only touch the buffer in the IO thread to avoid races\u001b[0m\u001b[0;34m\u001b[0m\u001b[0;34m\u001b[0m\u001b[0;34m\u001b[0m\u001b[0m\n\u001b[0;32m--> 400\u001b[0;31m             \u001b[0mself\u001b[0m\u001b[0;34m.\u001b[0m\u001b[0mpub_thread\u001b[0m\u001b[0;34m.\u001b[0m\u001b[0mschedule\u001b[0m\u001b[0;34m(\u001b[0m\u001b[0;32mlambda\u001b[0m \u001b[0;34m:\u001b[0m \u001b[0mself\u001b[0m\u001b[0;34m.\u001b[0m\u001b[0m_buffer\u001b[0m\u001b[0;34m.\u001b[0m\u001b[0mwrite\u001b[0m\u001b[0;34m(\u001b[0m\u001b[0mstring\u001b[0m\u001b[0;34m)\u001b[0m\u001b[0;34m)\u001b[0m\u001b[0;34m\u001b[0m\u001b[0;34m\u001b[0m\u001b[0m\n\u001b[0m\u001b[1;32m    401\u001b[0m             \u001b[0;32mif\u001b[0m \u001b[0mis_child\u001b[0m\u001b[0;34m:\u001b[0m\u001b[0;34m\u001b[0m\u001b[0;34m\u001b[0m\u001b[0m\n\u001b[1;32m    402\u001b[0m                 \u001b[0;31m# newlines imply flush in subprocesses\u001b[0m\u001b[0;34m\u001b[0m\u001b[0;34m\u001b[0m\u001b[0;34m\u001b[0m\u001b[0m\n",
            "\u001b[0;32m/usr/local/lib/python3.7/dist-packages/ipykernel/iostream.py\u001b[0m in \u001b[0;36mschedule\u001b[0;34m(self, f)\u001b[0m\n\u001b[1;32m    201\u001b[0m             \u001b[0mself\u001b[0m\u001b[0;34m.\u001b[0m\u001b[0m_events\u001b[0m\u001b[0;34m.\u001b[0m\u001b[0mappend\u001b[0m\u001b[0;34m(\u001b[0m\u001b[0mf\u001b[0m\u001b[0;34m)\u001b[0m\u001b[0;34m\u001b[0m\u001b[0;34m\u001b[0m\u001b[0m\n\u001b[1;32m    202\u001b[0m             \u001b[0;31m# wake event thread (message content is ignored)\u001b[0m\u001b[0;34m\u001b[0m\u001b[0;34m\u001b[0m\u001b[0;34m\u001b[0m\u001b[0m\n\u001b[0;32m--> 203\u001b[0;31m             \u001b[0mself\u001b[0m\u001b[0;34m.\u001b[0m\u001b[0m_event_pipe\u001b[0m\u001b[0;34m.\u001b[0m\u001b[0msend\u001b[0m\u001b[0;34m(\u001b[0m\u001b[0;34mb''\u001b[0m\u001b[0;34m)\u001b[0m\u001b[0;34m\u001b[0m\u001b[0;34m\u001b[0m\u001b[0m\n\u001b[0m\u001b[1;32m    204\u001b[0m         \u001b[0;32melse\u001b[0m\u001b[0;34m:\u001b[0m\u001b[0;34m\u001b[0m\u001b[0;34m\u001b[0m\u001b[0m\n\u001b[1;32m    205\u001b[0m             \u001b[0mf\u001b[0m\u001b[0;34m(\u001b[0m\u001b[0;34m)\u001b[0m\u001b[0;34m\u001b[0m\u001b[0;34m\u001b[0m\u001b[0m\n",
            "\u001b[0;32m/usr/local/lib/python3.7/dist-packages/zmq/sugar/socket.py\u001b[0m in \u001b[0;36msend\u001b[0;34m(self, data, flags, copy, track, routing_id, group)\u001b[0m\n\u001b[1;32m    616\u001b[0m                 )\n\u001b[1;32m    617\u001b[0m             \u001b[0mdata\u001b[0m\u001b[0;34m.\u001b[0m\u001b[0mgroup\u001b[0m \u001b[0;34m=\u001b[0m \u001b[0mgroup\u001b[0m\u001b[0;34m\u001b[0m\u001b[0;34m\u001b[0m\u001b[0m\n\u001b[0;32m--> 618\u001b[0;31m         \u001b[0;32mreturn\u001b[0m \u001b[0msuper\u001b[0m\u001b[0;34m(\u001b[0m\u001b[0;34m)\u001b[0m\u001b[0;34m.\u001b[0m\u001b[0msend\u001b[0m\u001b[0;34m(\u001b[0m\u001b[0mdata\u001b[0m\u001b[0;34m,\u001b[0m \u001b[0mflags\u001b[0m\u001b[0;34m=\u001b[0m\u001b[0mflags\u001b[0m\u001b[0;34m,\u001b[0m \u001b[0mcopy\u001b[0m\u001b[0;34m=\u001b[0m\u001b[0mcopy\u001b[0m\u001b[0;34m,\u001b[0m \u001b[0mtrack\u001b[0m\u001b[0;34m=\u001b[0m\u001b[0mtrack\u001b[0m\u001b[0;34m)\u001b[0m\u001b[0;34m\u001b[0m\u001b[0;34m\u001b[0m\u001b[0m\n\u001b[0m\u001b[1;32m    619\u001b[0m \u001b[0;34m\u001b[0m\u001b[0m\n\u001b[1;32m    620\u001b[0m     def send_multipart(\n",
            "\u001b[0;32mzmq/backend/cython/socket.pyx\u001b[0m in \u001b[0;36mzmq.backend.cython.socket.Socket.send\u001b[0;34m()\u001b[0m\n",
            "\u001b[0;32mzmq/backend/cython/socket.pyx\u001b[0m in \u001b[0;36mzmq.backend.cython.socket.Socket.send\u001b[0;34m()\u001b[0m\n",
            "\u001b[0;32mzmq/backend/cython/socket.pyx\u001b[0m in \u001b[0;36mzmq.backend.cython.socket._send_copy\u001b[0;34m()\u001b[0m\n",
            "\u001b[0;32m/usr/local/lib/python3.7/dist-packages/zmq/backend/cython/checkrc.pxd\u001b[0m in \u001b[0;36mzmq.backend.cython.checkrc._check_rc\u001b[0;34m()\u001b[0m\n",
            "\u001b[0;31mKeyboardInterrupt\u001b[0m: "
          ]
        }
      ]
    },
    {
      "cell_type": "code",
      "source": [
        "# Solution by Gustavo Guanabará\n",
        "\n",
        "# exercício passivo, sem interação do usuário ....  só mostra\n",
        "\n",
        "palavras = ('aprender', 'programar', 'linguagem', 'python', \n",
        "            'curso', 'grátis', 'estudar', 'praticar',\n",
        "            'trabalhar', 'mercado', 'programador', 'futuro')\n",
        "for p in palavras:\n",
        "  print(f'\\nNa palavra {p.upper()} temos ', end='')\n",
        "  for letra in p:\n",
        "    if letra.lower() in 'aàáâãeéêiou': #'aeiou': # nem usou io word count, foi algo opcional que decidi colocar EXTRA\n",
        "      print(letra, end=' ')"
      ],
      "metadata": {
        "id": "d6v5v7EkOQYf",
        "colab": {
          "base_uri": "https://localhost:8080/"
        },
        "outputId": "285f9a50-ff2d-4a51-de75-b16a7f8def44"
      },
      "execution_count": null,
      "outputs": [
        {
          "output_type": "stream",
          "name": "stdout",
          "text": [
            "\n",
            "Na palavra APRENDER temos a e e \n",
            "Na palavra PROGRAMAR temos o a a \n",
            "Na palavra LINGUAGEM temos i u a e \n",
            "Na palavra PYTHON temos o \n",
            "Na palavra CURSO temos u o \n",
            "Na palavra GRÁTIS temos á i \n",
            "Na palavra ESTUDAR temos e u a \n",
            "Na palavra PRATICAR temos a i a \n",
            "Na palavra TRABALHAR temos a a a \n",
            "Na palavra MERCADO temos e a o \n",
            "Na palavra PROGRAMADOR temos o a a o \n",
            "Na palavra FUTURO temos u u o "
          ]
        }
      ]
    },
    {
      "cell_type": "markdown",
      "source": [
        "# Aula 17\n",
        "\n",
        "# acrescentar\n",
        ".insert(0, 'cachorro quente') # pos\n",
        "\n",
        ".append('cookie')\n",
        "\n",
        "\n",
        "# eliminar\n",
        ".del lanche[3]\n",
        "\n",
        "lanche.pop(3)\n",
        "\n",
        "lanche.remove('pizza')\n",
        "\n",
        "lanche.pop()\n",
        "\n",
        "senão existir o item a remover, vai dar erro...\n",
        "\n",
        "\n",
        "if 'pizza' in lanche:\n",
        "  lanche.remove('pizza')\n",
        "### poucas linguagens tem este operador poderoso que permite ... trabalha/manipular estruturas compostas do Python!\n",
        "\n",
        "# criar listas a partir ... de for ciclos etc\n",
        "valores = list(range(4,11)# ordenanda de forma crescente ou 4, 11 ,2 pula de 2 em 2\n",
        "valores=[8,2,5,4,9,3,0]\n",
        "valores.sort() ordena\n",
        "\n",
        "\n"
      ],
      "metadata": {
        "id": "HyDZn5PUArnv"
      }
    },
    {
      "cell_type": "code",
      "source": [
        "valores=[8,2,5,4,9,3,0]\n",
        "valores.sort()\n",
        "\n",
        "valores\n",
        "\n",
        "valores.sort(reverse=True)\n",
        "valores"
      ],
      "metadata": {
        "colab": {
          "base_uri": "https://localhost:8080/"
        },
        "id": "CwhwNSGTCjH9",
        "outputId": "fe87568b-e9b1-4d45-ae84-a75c2adaf2d8"
      },
      "execution_count": null,
      "outputs": [
        {
          "output_type": "execute_result",
          "data": {
            "text/plain": [
              "[9, 8, 5, 4, 3, 2, 0]"
            ]
          },
          "metadata": {},
          "execution_count": 2
        }
      ]
    },
    {
      "cell_type": "code",
      "source": [
        "len(valores)"
      ],
      "metadata": {
        "colab": {
          "base_uri": "https://localhost:8080/"
        },
        "id": "QeMAlz95CqZh",
        "outputId": "2215a679-c088-4f0c-f03f-a40b0bf43ad8"
      },
      "execution_count": null,
      "outputs": [
        {
          "output_type": "execute_result",
          "data": {
            "text/plain": [
              "7"
            ]
          },
          "metadata": {},
          "execution_count": 3
        }
      ]
    },
    {
      "cell_type": "code",
      "source": [
        "num = (2,5,9,1)\n",
        "#num[2] = 3 Erro\n",
        "num = list(num)\n",
        "num[2] = 3\n",
        "num.append(7) # num[4] = 7 erro, tem de ser através de método... no PHP não por isso ser mais insegura..\n",
        "num.sort(reverse=True)\n",
        "num.insert(2, 2) # 0)\n",
        "num.remove(2) # num.pop(2)/pop() remove a primeira occorrência .... do valor\n",
        "if 4 in num: # muito jeito este operador in\n",
        "  num.remove(4)\n",
        "else:\n",
        "  print('Não achei o número 4')\n",
        "print(num)\n",
        "print(f'Essa lista tem {len(num)} elementos.')"
      ],
      "metadata": {
        "id": "SBxLI1lAEWE0",
        "colab": {
          "base_uri": "https://localhost:8080/"
        },
        "outputId": "f52412cc-87af-4d23-a700-68b7afd05efd"
      },
      "execution_count": null,
      "outputs": [
        {
          "output_type": "stream",
          "name": "stdout",
          "text": [
            "Não achei o número 5\n",
            "[7, 5, 3, 2, 1]\n",
            "Essa lista tem 5 elementos.\n"
          ]
        }
      ]
    },
    {
      "cell_type": "code",
      "source": [
        "valores = []\n",
        "valores.append(5)\n",
        "valores.append(9)\n",
        "valores.append(4)\n",
        "\n",
        "for v in valores:\n",
        "  print(f'{v}...', end='')\n",
        "\n",
        "\n",
        "for c, v in enumerate(valores):\n",
        "  print(f'\\nNa posição {c} encontrei o valor {v}!')\n",
        "print('Cheguei ao final da lista.')\n",
        "\n",
        "\n",
        "valores = list()\n",
        "for cont in range(0,5):\n",
        "  valores.append(int(input('Digite um valor: ')))\n",
        "  # Ler valores, colocar dentro de lista, analisar dentro de lista e colocar para a frente"
      ],
      "metadata": {
        "colab": {
          "base_uri": "https://localhost:8080/"
        },
        "id": "8fRiML2GlF2R",
        "outputId": "28311f97-95f2-4b7f-8c5a-ed6f8bab1258"
      },
      "execution_count": null,
      "outputs": [
        {
          "name": "stdout",
          "output_type": "stream",
          "text": [
            "5...9...4...\n",
            "Na posição 0 encontrei o valor 5!\n",
            "\n",
            "Na posição 1 encontrei o valor 9!\n",
            "\n",
            "Na posição 2 encontrei o valor 4!\n",
            "Cheguei ao final da lista.\n",
            "Digite um valor: 5\n",
            "Digite um valor: 7\n",
            "Digite um valor: 10\n",
            "Digite um valor: 6\n",
            "Digite um valor: 0\n"
          ]
        }
      ]
    },
    {
      "cell_type": "code",
      "source": [
        "a = [2,3,4,7]\n",
        "b = a\n",
        "c = a[:] # faz cópia\n",
        "c[3]=1\n",
        "b[2] = 8 # mexe nas duas lista pois o python ao igualar ... faz uma ligação e não cópia\n",
        "print(f'Lista A: {a}')\n",
        "print(f'Lista B: {b}')\n",
        "print(f'List C: {c}')\n"
      ],
      "metadata": {
        "colab": {
          "base_uri": "https://localhost:8080/"
        },
        "id": "9lZOf5xrlLLO",
        "outputId": "7c2ddb4c-9cdb-4d55-d464-b1157f762fd5"
      },
      "execution_count": null,
      "outputs": [
        {
          "output_type": "stream",
          "name": "stdout",
          "text": [
            "Lista A: [2, 3, 8, 7]\n",
            "Lista B: [2, 3, 8, 7]\n",
            "List C: [2, 3, 4, 1]\n"
          ]
        }
      ]
    },
    {
      "cell_type": "markdown",
      "source": [
        "# Desafio 78\n",
        "\n",
        "Faça um programa que leia **5 valores numéricos** e guarde-os em uma **lista**. No final, mostre qual\n",
        "foi o **maior** e o **menor** valor digitado e as suas respectivas **posições** na lista."
      ],
      "metadata": {
        "id": "KbYrmW2PyHgG"
      }
    },
    {
      "cell_type": "code",
      "source": [
        "nums=[]\n",
        "max=min=0.0\n",
        "for i in range(0,5):\n",
        "  nums[i] = float(input(' Say a new number: '))\n",
        "  if i == 0 or float(nums[i]) < min:\n",
        "    min = nums[i]\n",
        "  if i == 0 or float(nums[i]) > max:\n",
        "    max == nums[i]"
      ],
      "metadata": {
        "colab": {
          "base_uri": "https://localhost:8080/",
          "height": 252
        },
        "id": "X9QPtzf6yMRM",
        "outputId": "830ab5ab-4b44-4307-f199-0a9cf4e2936f"
      },
      "execution_count": 1,
      "outputs": [
        {
          "name": "stdout",
          "output_type": "stream",
          "text": [
            " Say a new number: 78\n"
          ]
        },
        {
          "output_type": "error",
          "ename": "IndexError",
          "evalue": "ignored",
          "traceback": [
            "\u001b[0;31m---------------------------------------------------------------------------\u001b[0m",
            "\u001b[0;31mIndexError\u001b[0m                                Traceback (most recent call last)",
            "\u001b[0;32m<ipython-input-1-843fad3ea467>\u001b[0m in \u001b[0;36m<module>\u001b[0;34m\u001b[0m\n\u001b[1;32m      2\u001b[0m \u001b[0mmax\u001b[0m\u001b[0;34m=\u001b[0m\u001b[0mmin\u001b[0m\u001b[0;34m=\u001b[0m\u001b[0;36m0.0\u001b[0m\u001b[0;34m\u001b[0m\u001b[0;34m\u001b[0m\u001b[0m\n\u001b[1;32m      3\u001b[0m \u001b[0;32mfor\u001b[0m \u001b[0mi\u001b[0m \u001b[0;32min\u001b[0m \u001b[0mrange\u001b[0m\u001b[0;34m(\u001b[0m\u001b[0;36m0\u001b[0m\u001b[0;34m,\u001b[0m\u001b[0;36m5\u001b[0m\u001b[0;34m)\u001b[0m\u001b[0;34m:\u001b[0m\u001b[0;34m\u001b[0m\u001b[0;34m\u001b[0m\u001b[0m\n\u001b[0;32m----> 4\u001b[0;31m   \u001b[0mnums\u001b[0m\u001b[0;34m[\u001b[0m\u001b[0mi\u001b[0m\u001b[0;34m]\u001b[0m \u001b[0;34m=\u001b[0m \u001b[0mfloat\u001b[0m\u001b[0;34m(\u001b[0m\u001b[0minput\u001b[0m\u001b[0;34m(\u001b[0m\u001b[0;34m' Say a new number: '\u001b[0m\u001b[0;34m)\u001b[0m\u001b[0;34m)\u001b[0m\u001b[0;34m\u001b[0m\u001b[0;34m\u001b[0m\u001b[0m\n\u001b[0m\u001b[1;32m      5\u001b[0m   \u001b[0;32mif\u001b[0m \u001b[0mi\u001b[0m \u001b[0;34m==\u001b[0m \u001b[0;36m0\u001b[0m \u001b[0;32mor\u001b[0m \u001b[0mfloat\u001b[0m\u001b[0;34m(\u001b[0m\u001b[0mnums\u001b[0m\u001b[0;34m[\u001b[0m\u001b[0mi\u001b[0m\u001b[0;34m]\u001b[0m\u001b[0;34m)\u001b[0m \u001b[0;34m<\u001b[0m \u001b[0mmin\u001b[0m\u001b[0;34m:\u001b[0m\u001b[0;34m\u001b[0m\u001b[0;34m\u001b[0m\u001b[0m\n\u001b[1;32m      6\u001b[0m     \u001b[0mmin\u001b[0m \u001b[0;34m=\u001b[0m \u001b[0mnums\u001b[0m\u001b[0;34m[\u001b[0m\u001b[0mi\u001b[0m\u001b[0;34m]\u001b[0m\u001b[0;34m\u001b[0m\u001b[0;34m\u001b[0m\u001b[0m\n",
            "\u001b[0;31mIndexError\u001b[0m: list assignment index out of range"
          ]
        }
      ]
    },
    {
      "cell_type": "code",
      "source": [
        "del values"
      ],
      "metadata": {
        "id": "I720RzhB4x6u"
      },
      "execution_count": null,
      "outputs": []
    },
    {
      "cell_type": "code",
      "source": [
        "# def countPos(x: float, values: list(float)) -> list(float): \n",
        "#     result: list[float] = []\n",
        "#     for i, value in enumerate(values):\n",
        "#         if value == x:\n",
        "#             result.append(i + 1)\n",
        "#     return result"
      ],
      "metadata": {
        "colab": {
          "base_uri": "https://localhost:8080/",
          "height": 235
        },
        "id": "t4RCoaZEiQnp",
        "outputId": "c17854ce-f8f1-4432-acc0-472b280d288a"
      },
      "execution_count": null,
      "outputs": [
        {
          "output_type": "error",
          "ename": "TypeError",
          "evalue": "ignored",
          "traceback": [
            "\u001b[0;31m---------------------------------------------------------------------------\u001b[0m",
            "\u001b[0;31mTypeError\u001b[0m                                 Traceback (most recent call last)",
            "\u001b[0;32m<ipython-input-54-db4c87b6bd1f>\u001b[0m in \u001b[0;36m<module>\u001b[0;34m()\u001b[0m\n\u001b[0;32m----> 1\u001b[0;31m \u001b[0;32mdef\u001b[0m \u001b[0mcountPos\u001b[0m\u001b[0;34m(\u001b[0m\u001b[0mx\u001b[0m\u001b[0;34m:\u001b[0m \u001b[0mfloat\u001b[0m\u001b[0;34m,\u001b[0m \u001b[0mvalues\u001b[0m\u001b[0;34m:\u001b[0m \u001b[0mlist\u001b[0m\u001b[0;34m(\u001b[0m\u001b[0mfloat\u001b[0m\u001b[0;34m)\u001b[0m\u001b[0;34m)\u001b[0m \u001b[0;34m->\u001b[0m \u001b[0mlist\u001b[0m\u001b[0;34m(\u001b[0m\u001b[0mfloat\u001b[0m\u001b[0;34m)\u001b[0m\u001b[0;34m:\u001b[0m\u001b[0;34m\u001b[0m\u001b[0;34m\u001b[0m\u001b[0m\n\u001b[0m\u001b[1;32m      2\u001b[0m     \u001b[0mresult\u001b[0m\u001b[0;34m:\u001b[0m \u001b[0mlist\u001b[0m\u001b[0;34m[\u001b[0m\u001b[0mfloat\u001b[0m\u001b[0;34m]\u001b[0m \u001b[0;34m=\u001b[0m \u001b[0;34m[\u001b[0m\u001b[0;34m]\u001b[0m\u001b[0;34m\u001b[0m\u001b[0;34m\u001b[0m\u001b[0m\n\u001b[1;32m      3\u001b[0m     \u001b[0;32mfor\u001b[0m \u001b[0mi\u001b[0m\u001b[0;34m,\u001b[0m \u001b[0mvalue\u001b[0m \u001b[0;32min\u001b[0m \u001b[0menumerate\u001b[0m\u001b[0;34m(\u001b[0m\u001b[0mvalues\u001b[0m\u001b[0;34m)\u001b[0m\u001b[0;34m:\u001b[0m\u001b[0;34m\u001b[0m\u001b[0;34m\u001b[0m\u001b[0m\n\u001b[1;32m      4\u001b[0m         \u001b[0;32mif\u001b[0m \u001b[0mvalue\u001b[0m \u001b[0;34m==\u001b[0m \u001b[0mx\u001b[0m\u001b[0;34m:\u001b[0m\u001b[0;34m\u001b[0m\u001b[0;34m\u001b[0m\u001b[0m\n\u001b[1;32m      5\u001b[0m             \u001b[0mresult\u001b[0m\u001b[0;34m.\u001b[0m\u001b[0mappend\u001b[0m\u001b[0;34m(\u001b[0m\u001b[0mi\u001b[0m \u001b[0;34m+\u001b[0m \u001b[0;36m1\u001b[0m\u001b[0;34m)\u001b[0m\u001b[0;34m\u001b[0m\u001b[0;34m\u001b[0m\u001b[0m\n",
            "\u001b[0;31mTypeError\u001b[0m: 'type' object is not iterable"
          ]
        }
      ]
    },
    {
      "cell_type": "code",
      "source": [
        ""
      ],
      "metadata": {
        "id": "U-NDzCElye71"
      },
      "execution_count": null,
      "outputs": []
    },
    {
      "cell_type": "code",
      "source": [
        "values.count(mini)\n",
        "values.index(mini)\n",
        "type(maxi)\n",
        "values.count(maxi)\n",
        "values.index(maxi)\n",
        "values[0+1:].index(maxi)\n",
        "\n",
        "for ind, values in enumerate(values):\n",
        "  if values.count > 1:\n",
        "     "
      ],
      "metadata": {
        "colab": {
          "base_uri": "https://localhost:8080/"
        },
        "id": "aSQdYJ0RsASZ",
        "outputId": "dc49e373-d1dc-419e-9fee-0bd4009c9437"
      },
      "execution_count": null,
      "outputs": [
        {
          "output_type": "execute_result",
          "data": {
            "text/plain": [
              "int"
            ]
          },
          "metadata": {},
          "execution_count": 78
        }
      ]
    },
    {
      "cell_type": "code",
      "source": [
        "def countPosOri(extreme, values): #values\n",
        "  for ind, value in enumerate(values):\n",
        "    pos = []\n",
        "    oc = values.count(extreme)\n",
        "    pst=values.index(extreme)\n",
        "    if oc > 1:\n",
        "      pos.append(pst)\n",
        "      oc -= 1\n",
        "      values = values[oc+1:]\n",
        "      countPos(extreme, values) #values\n",
        "    else:\n",
        "      return pst\n",
        "    if oc == len(values-1):\n",
        "      return pos"
      ],
      "metadata": {
        "id": "sJfCyQasGXBQ"
      },
      "execution_count": null,
      "outputs": []
    },
    {
      "cell_type": "code",
      "source": [
        "# Solution by Rui Carlos\n",
        "def countPos(x, values):  # float, list[float] -> list[float]\n",
        "  result = [] # list[float]\n",
        "  for i, value in enumerate(values):\n",
        "    if value == x:\n",
        "      result.append(i+1) # podia ser um print também ...\n",
        "  return result"
      ],
      "metadata": {
        "id": "DsrNI5JZZVjR"
      },
      "execution_count": null,
      "outputs": []
    },
    {
      "cell_type": "code",
      "source": [
        "def countPosPrint(x, values):\n",
        "  for i, value in enumerate(values):\n",
        "    if value == x:\n",
        "      print(f'{i+1}' ,end=' ')\n",
        "  return"
      ],
      "metadata": {
        "id": "wwvfGXEngJ0E"
      },
      "execution_count": 20,
      "outputs": []
    },
    {
      "cell_type": "code",
      "source": [
        "maxi = 7\n",
        "values = [3,7,-4,7,0]\n",
        "countPosPrint(maxi,values) # pronto como não é um script ele próprio retorna o valor, pois é interativo\n",
        "\n",
        "print(f'\\n{maxi} de : {countPosPrint(maxi, values)}')"
      ],
      "metadata": {
        "colab": {
          "base_uri": "https://localhost:8080/"
        },
        "id": "6v1Cgm759OSH",
        "outputId": "dc829352-2c41-4dcd-f77d-443ca5cd8ec2"
      },
      "execution_count": 24,
      "outputs": [
        {
          "output_type": "stream",
          "name": "stdout",
          "text": [
            "2 4 2 4 \n",
            "7 de : None\n"
          ]
        }
      ]
    },
    {
      "cell_type": "code",
      "source": [
        "def countPosRec(v, values, base=1):\n",
        "  if len(values) == 0: \n",
        "    return [] \n",
        "  if v == values[0]:\n",
        "    return [base] + countPosRec(v, values[1:], base + 1)\n",
        "  else:\n",
        "    return countPosRec(v, values[1:], base + 1)"
      ],
      "metadata": {
        "id": "XTB_NsCz2yYg"
      },
      "execution_count": null,
      "outputs": []
    },
    {
      "cell_type": "code",
      "source": [
        "def countPosFunctional(v, valus):\n",
        "  return list(map(lambda entry: entry[1] + 1, filter(lambda entry: entry[0] == v, zip(values, range(len(values))))))"
      ],
      "metadata": {
        "id": "6oeSYufJCBo8"
      },
      "execution_count": null,
      "outputs": []
    },
    {
      "cell_type": "code",
      "source": [
        "for i in range(0,10):\n",
        "  helloWorld()"
      ],
      "metadata": {
        "colab": {
          "base_uri": "https://localhost:8080/"
        },
        "id": "UQ3-Djrh7uYe",
        "outputId": "eefa0d8b-4eee-4aa0-d6c7-45c9e6c5dae1"
      },
      "execution_count": 8,
      "outputs": [
        {
          "output_type": "stream",
          "name": "stdout",
          "text": [
            "Hello World\n",
            "Hello World\n",
            "Hello World\n",
            "Hello World\n",
            "Hello World\n",
            "Hello World\n",
            "Hello World\n",
            "Hello World\n",
            "Hello World\n",
            "Hello World\n"
          ]
        }
      ]
    },
    {
      "cell_type": "code",
      "source": [
        "def helloWorld():\n",
        "  print('Hello World')"
      ],
      "metadata": {
        "id": "R6OAFDUq8WNZ"
      },
      "execution_count": 7,
      "outputs": []
    },
    {
      "cell_type": "code",
      "source": [
        "values = []\n",
        "maxi=mini=0.0\n",
        "im = iM = []\n",
        "for i in range(0,5):\n",
        "  n = float(input(f'Digit num[{i+1}]: ')) # instead of float\n",
        "  values.append(n) \n",
        "  if i == 0 or values[i] < mini:\n",
        "    #mini, im  = values[i], i\n",
        "    mini = values[i]\n",
        "    #im.append(i+1)\n",
        "  if i == 0 or float(values[i]) >= maxi:\n",
        "    #maxi, iM = values[i], i\n",
        "    maxi = values[i]\n",
        "    #iM.append(i+1)\n",
        "print('-=' *20)\n",
        "print(f'You digit: {values}')\n",
        "print(f'Maximum is: {maxi} in position {countPosPrint(maxi, values)}')#countPosFunctional(maxi, values)}')#countPosRec(maxi, values)}')#countPosOri(maxi, values)}') #iM} ')\n",
        "print(f'Minimum is: {mini} in position {countPosPrint(mini, values)}')#countPosFunctional(mini, values)}')#countPosOri(mini, values)}') #im}')\n",
        "# print(values)\n",
        "# print(f'Maximun is: {max(values)}')\n",
        "# print(f'Minimun is: {min(values)}')"
      ],
      "metadata": {
        "colab": {
          "base_uri": "https://localhost:8080/"
        },
        "id": "lYyBFQnXs3xl",
        "outputId": "b1e142d7-b8cb-4865-99ee-bfa0630963e2"
      },
      "execution_count": 5,
      "outputs": [
        {
          "output_type": "stream",
          "name": "stdout",
          "text": [
            "Digit num[1]: 7\n",
            "Digit num[2]: 4\n",
            "Digit num[3]: -2\n",
            "Digit num[4]: 5\n",
            "Digit num[5]: -8\n",
            "-=-=-=-=-=-=-=-=-=-=-=-=-=-=-=-=-=-=-=-=\n",
            "You digit: [7.0, 4.0, -2.0, 5.0, -8.0]\n",
            "1 Maximum is: 7.0 in position None\n",
            "5 Minimum is: -8.0 in position None\n"
          ]
        }
      ]
    },
    {
      "cell_type": "code",
      "source": [
        "l1 = [10, 20, 30, 40, 50] \n",
        "l3 = [50, 10, 30, 20, 40] \n",
        "\n",
        "a = set(l1)\n",
        "b = set(l3)\n",
        "a\n",
        "b\n",
        "if a == b:\n",
        "    print(\"Lists l1 and l3 are equal\")\n",
        "else:\n",
        "    print(\"Lists l1 and l3 are not equal\")"
      ],
      "metadata": {
        "colab": {
          "base_uri": "https://localhost:8080/"
        },
        "id": "hVORUioSFVRi",
        "outputId": "df58f101-01ff-4b43-c094-ba1a40d0d495"
      },
      "execution_count": null,
      "outputs": [
        {
          "output_type": "stream",
          "name": "stdout",
          "text": [
            "Lists l1 and l3 are equal\n"
          ]
        }
      ]
    },
    {
      "cell_type": "code",
      "source": [
        "del iM"
      ],
      "metadata": {
        "id": "knRYoSp0wfkh"
      },
      "execution_count": null,
      "outputs": []
    },
    {
      "cell_type": "code",
      "source": [
        "def remove&Count():"
      ],
      "metadata": {
        "id": "adCbDbYqw41-"
      },
      "execution_count": null,
      "outputs": []
    },
    {
      "cell_type": "code",
      "source": [
        "nMin\n",
        "mini\n",
        "im"
      ],
      "metadata": {
        "colab": {
          "base_uri": "https://localhost:8080/"
        },
        "id": "cKo_WgzYx5BL",
        "outputId": "563969a2-8dd4-4205-b43d-f70efffeaa5d"
      },
      "execution_count": null,
      "outputs": [
        {
          "output_type": "execute_result",
          "data": {
            "text/plain": [
              "[]"
            ]
          },
          "metadata": {},
          "execution_count": 19
        }
      ]
    },
    {
      "cell_type": "code",
      "source": [
        "values = []\n",
        "maxi=mini=0.0\n",
        "#im = iM = [] # é aquil que o G G disse, não é cópia é ligação uma à outra, então não devo... declarar as listas juntas uma da outra!\n",
        "iM = []\n",
        "im = []\n",
        "\n",
        "\n",
        "for i in range(0,5):\n",
        "  n = float(input(f'Digit num[{i+1}]: ')) # instead of float\n",
        "  values.append(n)  # ele junto.. na mesma linha, retirando a criação da variável n\n",
        "  if i == 0 or values[i] < mini:\n",
        "    #mini, im  = values[i], i\n",
        "    mini = values[i]\n",
        "    #im.append(i+1)\n",
        "  if i == 0 or float(values[i]) >= maxi:\n",
        "    #maxi, iM = values[i], i\n",
        "    maxi = values[i]\n",
        "    #iM.append(i+1)\n",
        "print('-=' *20)\n",
        "print(f'You digit: {values}') # até aqui muito semelhante ...\n",
        "\n",
        "copy = values[:] # muitas nuances, a ser usada pelo ... mínimos\n",
        "\n",
        "i=0\n",
        "############### para o Máximo\n",
        "nMax = values.count(maxi)\n",
        "while nMax > 0:\n",
        "  #values.index(maxi)\n",
        "  iM.append(values.index(maxi)+1+i)\n",
        "  #maxi == values...[]\n",
        "    # if nMax == 1:\n",
        "  #   break\n",
        "  values.remove(maxi)\n",
        "  nMax-=1\n",
        "  i+=1\n",
        "print(f'Maximum is: {maxi} in position: {[iM]}') #iM} ')\n",
        "################ para o Mínimo\n",
        "\n",
        "i=0\n",
        "nMin = copy.count(mini)\n",
        "while nMin > 0:\n",
        "  #values.index(maxi)\n",
        "  im.append(copy.index(mini)+1+i)\n",
        "  #maxi == values...[]\n",
        "    # if nMax == 1:\n",
        "  #   break\n",
        "  copy.remove(mini)\n",
        "  nMin -=1\n",
        "  i+=1\n",
        "print(f'Minimum is: {mini} in position: {im}#[im]}') #iM} ')\n",
        "# print(f'Minimum is: {mini} in position {countPos(mini, values)}') #im}')\n",
        "# print(values)\n",
        "# print(f'Maximun is: {max(values)}')\n",
        "# print(f'Minimun is: {min(values)}')"
      ],
      "metadata": {
        "colab": {
          "base_uri": "https://localhost:8080/"
        },
        "id": "JwSD-mbtpin-",
        "outputId": "bc4a2e9b-f603-4d40-9c46-52860163e3cf"
      },
      "execution_count": 2,
      "outputs": [
        {
          "output_type": "stream",
          "name": "stdout",
          "text": [
            "Digit num[1]: 6\n",
            "Digit num[2]: 98\n",
            "Digit num[3]: 13\n",
            "Digit num[4]: -8\n",
            "Digit num[5]: 21\n",
            "-=-=-=-=-=-=-=-=-=-=-=-=-=-=-=-=-=-=-=-=\n",
            "You digit: [6.0, 98.0, 13.0, -8.0, 21.0]\n",
            "Maximum is: 98.0 in position: [[2]]\n",
            "Minimum is: -8.0 in position: [[4]]\n"
          ]
        }
      ]
    },
    {
      "cell_type": "code",
      "source": [
        "dir(values)"
      ],
      "metadata": {
        "colab": {
          "base_uri": "https://localhost:8080/",
          "height": 165
        },
        "id": "2jInFNEFAbbC",
        "outputId": "d27d21c2-1630-4fc7-adcd-cda38e46f4ab"
      },
      "execution_count": null,
      "outputs": [
        {
          "output_type": "error",
          "ename": "NameError",
          "evalue": "ignored",
          "traceback": [
            "\u001b[0;31m---------------------------------------------------------------------------\u001b[0m",
            "\u001b[0;31mNameError\u001b[0m                                 Traceback (most recent call last)",
            "\u001b[0;32m<ipython-input-1-3d634a84cef6>\u001b[0m in \u001b[0;36m<module>\u001b[0;34m()\u001b[0m\n\u001b[0;32m----> 1\u001b[0;31m \u001b[0mdir\u001b[0m\u001b[0;34m(\u001b[0m\u001b[0mvalues\u001b[0m\u001b[0;34m)\u001b[0m\u001b[0;34m\u001b[0m\u001b[0;34m\u001b[0m\u001b[0m\n\u001b[0m",
            "\u001b[0;31mNameError\u001b[0m: name 'values' is not defined"
          ]
        }
      ]
    },
    {
      "cell_type": "code",
      "source": [
        "values"
      ],
      "metadata": {
        "colab": {
          "base_uri": "https://localhost:8080/"
        },
        "id": "-AmDvMfULU1y",
        "outputId": "2bf618c1-4ef9-4412-e47c-e846f46c0ba4"
      },
      "execution_count": null,
      "outputs": [
        {
          "output_type": "execute_result",
          "data": {
            "text/plain": [
              "[6.0, 4.0, 3.0, 6.0, 3.0]"
            ]
          },
          "metadata": {},
          "execution_count": 69
        }
      ]
    },
    {
      "cell_type": "code",
      "source": [
        "values[1:]"
      ],
      "metadata": {
        "colab": {
          "base_uri": "https://localhost:8080/"
        },
        "id": "Cunyj2F0LWMb",
        "outputId": "3d0d7661-119f-4fa4-e7c1-b379f484288f"
      },
      "execution_count": null,
      "outputs": [
        {
          "output_type": "execute_result",
          "data": {
            "text/plain": [
              "[4.0, 3.0, 6.0, 3.0]"
            ]
          },
          "metadata": {},
          "execution_count": 70
        }
      ]
    },
    {
      "cell_type": "code",
      "source": [
        "del max"
      ],
      "metadata": {
        "id": "zhGOFKQO6T6d"
      },
      "execution_count": null,
      "outputs": []
    },
    {
      "cell_type": "code",
      "source": [
        "max(54,23,2)"
      ],
      "metadata": {
        "colab": {
          "base_uri": "https://localhost:8080/"
        },
        "id": "TVZAHGZ26RR5",
        "outputId": "be4a257a-784f-46db-aafe-e96310dc65a3"
      },
      "execution_count": null,
      "outputs": [
        {
          "output_type": "execute_result",
          "data": {
            "text/plain": [
              "54"
            ]
          },
          "metadata": {},
          "execution_count": 44
        }
      ]
    },
    {
      "cell_type": "code",
      "source": [
        "# Solution by Gustavo Guanabará, PyCharm exercício novo ...\n",
        "\n",
        "# Durante os exercícios aprendemos coisas novas e isso é muito legal!\n",
        "\n",
        "listanum = [] # or list() , existe também {} para os conjuntos\n",
        "mai = 0\n",
        "men = 0\n",
        "for c in range(0, 5):\n",
        "  listanum.append(int(input(f'Digite um valor para a Posição {c}: '))) # esque[]\n",
        "  if c == 0: # primeiro valor lido é tudo\n",
        "      mai = men = listanum[c]\n",
        "  else:\n",
        "    if listanum[c] > mai:\n",
        "      mai = listanum[c]\n",
        "    if listanum[c] < men: # tinha optado pelo elif\n",
        "      men = listanum[c]\n",
        "print('-=' * 30)\n",
        "print(f'Voçê digitou os valores {listanum}')\n",
        "print(f'O maior valor digitado foi {mai} nas posições ', end=' ')\n",
        "for i, v in enumerate(listanum):\n",
        "  if v == mai:\n",
        "    print(f'{i}... ', end='')\n",
        "print()\n",
        "print(f'O menor valor digitado foi {men} nas posições ', end=' ')\n",
        "for i,  v in enumerate(listanum):\n",
        "  if v == men:\n",
        "    print(f'{i}... ', end='')\n",
        "print()\n"
      ],
      "metadata": {
        "colab": {
          "base_uri": "https://localhost:8080/"
        },
        "id": "INrJOlakql18",
        "outputId": "c28253ce-9576-4bc3-d976-644d0bd2ae00"
      },
      "execution_count": 2,
      "outputs": [
        {
          "output_type": "stream",
          "name": "stdout",
          "text": [
            "Digite um valor para a Posição 0: 78\n",
            "Digite um valor para a Posição 1: 32\n",
            "Digite um valor para a Posição 2: 32\n",
            "Digite um valor para a Posição 3: 34\n",
            "Digite um valor para a Posição 4: 59\n",
            "-=-=-=-=-=-=-=-=-=-=-=-=-=-=-=-=-=-=-=-=-=-=-=-=-=-=-=-=-=-=\n",
            "Voçê digitou os valores [78, 32, 32, 34, 59]\n",
            "O maior valor digitado foi 78 nas posições  0... \n",
            "O menor valor digitado foi 32 nas posições  1... 2... \n"
          ]
        }
      ]
    },
    {
      "cell_type": "markdown",
      "source": [
        "# Desafio 79\n",
        "\n",
        "Crie um programa onde o usuário possa digitar vários **valores numéricos** e cadastre-os em uma **lista**. Caso o número já exista lá dentro, ele **não será adicionado**.\n",
        "No final, serão exibidos todos os **valores únicos** digitados, em **ordem crescente**."
      ],
      "metadata": {
        "id": "sltymAj7eA7j"
      }
    },
    {
      "cell_type": "code",
      "source": [
        "numVal = []\n",
        "moveNext = 1\n",
        "while moveNext != 0:\n",
        "  num = float(input('Digit a number: '))\n",
        "  if numVal.count(num) == 0: # espectacular!\n",
        "    numVal.append(num)\n",
        "    print('Added value')\n",
        "  else: \n",
        "    print('Repeated value, not added ...')\n",
        "  print(numVal)\n",
        "  moveNext = int(input('\\nDo you want continue?: '))\n",
        "#numVal.sort() # o sorte não deve criar lista cópia... deve alterar na ligação\n",
        "numVal.sort() # se igualar a numVal2 ao sort da lista, ela tem o mesmo comportamento que é ... RETORNAR None \n",
        "print(f'The crescent order of values is {numVal}')"
      ],
      "metadata": {
        "colab": {
          "base_uri": "https://localhost:8080/"
        },
        "id": "YCQ3vlSaeAch",
        "outputId": "365459f4-989b-4363-b0f8-6936fb205d85"
      },
      "execution_count": 10,
      "outputs": [
        {
          "output_type": "stream",
          "name": "stdout",
          "text": [
            "Digit a number: 19\n",
            "Added value\n",
            "[19.0]\n",
            "\n",
            "Do you want continue?: 2\n",
            "Digit a number: 2\n",
            "Added value\n",
            "[19.0, 2.0]\n",
            "\n",
            "Do you want continue?: 0\n",
            "The crescent order of values is [2.0, 19.0]\n"
          ]
        }
      ]
    },
    {
      "cell_type": "code",
      "source": [
        ""
      ],
      "metadata": {
        "id": "7tB2g2g9Pehi"
      },
      "execution_count": 3,
      "outputs": []
    },
    {
      "cell_type": "code",
      "source": [
        "# Solution by Gustavo Guanabará\n",
        "\n",
        " # sem usar range, pois o número não esta definido à priori\n",
        "números = list()  # ler valores, colocar numa lista toltalmente, crescente, dinâmica/mutável e valores em ordem\n",
        "while True:\n",
        "  n = int(input('Digite um valor: '))\n",
        "  if n not in números:\n",
        "    números.append(n)\n",
        "    print('Valor adicionado com sucesso...')\n",
        "  else:\n",
        "    print('Valor duplicado! Não vou adicionar...')\n",
        "  r = str(input('Quer continuar? [S/N] '))\n",
        "  if r in 'Nn': # interessante cria uma variável que só é testada neste if. no while não faz dupla verificação ...\n",
        "    break\n",
        "print('-=' *30)\n",
        "números.sort()\n",
        "print(f'Voçê digitou os valores {números}')\n"
      ],
      "metadata": {
        "colab": {
          "base_uri": "https://localhost:8080/"
        },
        "id": "mbCiGR1HNnG9",
        "outputId": "c8c068ae-160d-4968-b32e-204bb7eaf74c"
      },
      "execution_count": 6,
      "outputs": [
        {
          "output_type": "stream",
          "name": "stdout",
          "text": [
            "Digite um valor: 71\n",
            "Valor adicionado com sucesso...\n",
            "Quer continuar? [S/N] S\n",
            "Digite um valor: 09\n",
            "Valor adicionado com sucesso...\n",
            "Quer continuar? [S/N] n\n",
            "-=-=-=-=-=-=-=-=-=-=-=-=-=-=-=-=-=-=-=-=-=-=-=-=-=-=-=-=-=-=\n",
            "Voçê digitou os valores [9, 71]\n"
          ]
        }
      ]
    },
    {
      "cell_type": "markdown",
      "source": [
        "# Desafio 80\n",
        "\n",
        "Crie um programa onde o usuário possa digitar cinco **valores numéricos** e cadastre-os em uma **lista**, **já na posição correta** de inserção (sem usar o **sort()**).\n",
        "\n",
        "No final, mostre a **lista ordenada** na tela."
      ],
      "metadata": {
        "id": "veWr6JB84h5L"
      }
    },
    {
      "cell_type": "code",
      "source": [
        "vals = []\n",
        "flag = 0\n",
        "sz = 5\n",
        "for a in range(0,sz):\n",
        "  print(vals)\n",
        "  v = float(input('Say a digit:  '))\n",
        "  p = len(vals)//2\n",
        "  if len(vals) >= 2:\n",
        "    if v > vals[p]:\n",
        "      # print('Entra IF')\n",
        "      while v > vals[p] and p < sz and p < len(vals):\n",
        "        p += 1\n",
        "        if p == len(vals):\n",
        "          break\n",
        "        # print('Entrou')        # flag = 1\n",
        "    else:\n",
        "      while v < vals[p-1] and p > 0: #[p-1]\n",
        "        p -= 1\n",
        "    vals.insert(p, v)\n",
        "  elif len(vals) == 0:\n",
        "    vals.append(v)\n",
        "  elif vals[p] > v: # quando len(vals) já é um, precisamos de saber se vai para a esquerda ou direita...se for menor e maior respectivamente \n",
        "    vals.insert(0, v) # v < vals[0] then insert v in vals[0] -> vals[1]\n",
        "  else:\n",
        "    vals.insert(1,v)\n",
        "  if (len(vals)-1 > p > 0):\n",
        "    print(f'Adding value {v} in the position: {p}')\n",
        "  elif(p == 0):\n",
        "    print(f'Adding value {v} in list beggining.')\n",
        "  elif(p == len(vals)-1):\n",
        "    print(f'Adding value {v} on the end of list.')\n",
        "  \n",
        "print(vals)\n",
        "\n",
        "\n"
      ],
      "metadata": {
        "colab": {
          "base_uri": "https://localhost:8080/"
        },
        "id": "8pJVsT3D7TDb",
        "outputId": "27bae79a-ff28-4e3e-dee2-95a3a058e002"
      },
      "execution_count": 15,
      "outputs": [
        {
          "output_type": "stream",
          "name": "stdout",
          "text": [
            "[]\n",
            "Say a digit:  64\n",
            "Adding value 64.0 in list beggining.\n",
            "[64.0]\n",
            "Say a digit:  32\n",
            "Adding value 32.0 in list beggining.\n",
            "[32.0, 64.0]\n",
            "Say a digit:  34\n",
            "Adding value 34.0 in the position: 1\n",
            "[32.0, 34.0, 64.0]\n",
            "Say a digit:  75\n",
            "Adding value 75.0 on the end of list.\n",
            "[32.0, 34.0, 64.0, 75.0]\n",
            "Say a digit:  43\n",
            "Adding value 43.0 in the position: 2\n",
            "[32.0, 34.0, 43.0, 64.0, 75.0]\n"
          ]
        }
      ]
    },
    {
      "cell_type": "code",
      "source": [
        "vals[-sz]"
      ],
      "metadata": {
        "colab": {
          "base_uri": "https://localhost:8080/"
        },
        "id": "b8Oot_y1WSaU",
        "outputId": "99ae032b-9ef6-4aa8-c997-8485b4570daf"
      },
      "execution_count": 17,
      "outputs": [
        {
          "output_type": "execute_result",
          "data": {
            "text/plain": [
              "32.0"
            ]
          },
          "metadata": {},
          "execution_count": 17
        }
      ]
    },
    {
      "cell_type": "code",
      "source": [
        "# Solution by Gustavo Guanabará\n",
        "# bem mais sofisticado e simples\n",
        "lista = []\n",
        "for c in range(0, 5):\n",
        "  n = int(input('Digite um valor: '))\n",
        "  # if c == 0:\n",
        "  #   lista.append(n)\n",
        "  # elif n > lista[-1]\n",
        "  if c == 0 or n > lista[-1]: # se for o primeiro ou maior que o último (2 casos que são fáceis de resolver!)\n",
        "    lista.append(n)\n",
        "    print('Adicionado no final da lista')\n",
        "  else:\n",
        "    pos = 0\n",
        "    while pos < len(lista):\n",
        "      if n <= lista[pos]:\n",
        "        lista.insert(pos, n)\n",
        "        print(f'Adiconado na posição {pos} da lista...')\n",
        "        break\n",
        "      pos += 1\n",
        "print('-=' * 30)\n",
        "print(f'Os valores digitados em ordem forma {lista}')\n",
        "\n"
      ],
      "metadata": {
        "colab": {
          "base_uri": "https://localhost:8080/"
        },
        "id": "eNphtTUjSY0i",
        "outputId": "cd5cd6b3-877a-4047-ef27-f47ea7d20d48"
      },
      "execution_count": 11,
      "outputs": [
        {
          "output_type": "stream",
          "name": "stdout",
          "text": [
            "Digite um valor: 53\n",
            "Digite um valor: 23\n",
            "Digite um valor: 89\n",
            "Digite um valor: 53\n",
            "Digite um valor: 32\n",
            "-=-=-=-=-=-=-=-=-=-=-=-=-=-=-=-=-=-=-=-=-=-=-=-=-=-=-=-=-=-=\n",
            "Os valores digitados em ordem forma [23, 32, 53, 53, 89]\n"
          ]
        }
      ]
    },
    {
      "cell_type": "markdown",
      "source": [
        "# Desafio 81\n",
        "\n",
        "Crie um programa que vai ler **vários números** e colocar em uma **lista**.\n",
        "\n",
        "Depois disso, mostre:\n",
        "\n",
        "**A)** **Quantos** números foram digitados.\n",
        "\n",
        "**B)** A lista de valores, ordenada de forma **decrescente**.\n",
        "\n",
        "**C)** Se o valor **5** foi digitado e está ou não na **lista**."
      ],
      "metadata": {
        "id": "FEi32qfGDHPA"
      }
    },
    {
      "cell_type": "code",
      "source": [
        "list81 = []\n",
        "count81 = 0\n",
        "continue81 = 'Y'\n",
        "while continue81 != 'N': # tem como True e faz isto com o break... no caso negativo (neste caso)\n",
        "  n = float(input('Say a num: '))\n",
        "  continue81 = ' ' #ouytra que tal com a debaixo., nova técnica aprendida.. para descomplicar!\n",
        "  count81 += 1 # o len fazia isto e evita sempre esta instruction ...\n",
        "  list81.append(n)\n",
        "  while continue81 not in 'YN': \n",
        "    continue81 = str(input('Do you want continuing...? [Y/N] ')).strip().upper()\n",
        "print(f'Answers: \\n* {count81} numbers was typed')\n",
        "list81.sort(reverse=True)\n",
        "print(f'* {list81} values ordered ') #\n",
        "# print(list81.count(5))\n",
        "if list81.count(5) > 0: # fez de forma alternativa, com o operador \"genérico\" in\n",
        "  isPresent = 'ON list'\n",
        "else:\n",
        "  isPresent = 'missing'\n",
        "print(f'* Value 5 {isPresent}')  # por um lado criei uma variável + atribuição da mesma ... mas escrevi só um print... lol"
      ],
      "metadata": {
        "colab": {
          "base_uri": "https://localhost:8080/"
        },
        "id": "egW35daL0HDi",
        "outputId": "9f0b5377-9374-4b3c-94d8-63ea12da95e3"
      },
      "execution_count": 18,
      "outputs": [
        {
          "output_type": "stream",
          "name": "stdout",
          "text": [
            "Say a num: 83\n",
            "Do you want continuing...? [Y/N] h\n",
            "Do you want continuing...? [Y/N] y\n",
            "Say a num: 23\n",
            "Do you want continuing...? [Y/N] yahoo\n",
            "Do you want continuing...? [Y/N] y\n",
            "Say a num: 5\n",
            "Do you want continuing...? [Y/N] n\n",
            "Answers: \n",
            "* 3 numbers was typed\n",
            "* [83.0, 23.0, 5.0] values ordered \n",
            "* Value 5 ON list\n"
          ]
        }
      ]
    },
    {
      "cell_type": "code",
      "source": [
        "# Solution by Gustavoo Guanabará, e aprender uma nova técnica de programação! importância de interagir quer para receber notificações que acrescer valor a ti! Ajuda a continuar ... nesta maratona, contribuindo!\n",
        "\n",
        "valores = [] \n",
        "while True:\n",
        "  valores.append(int(input('Digite um valor: ')))\n",
        "  resp = str(input('Quer continuar? [S/N] ')) # entra tudo, não faz condição que diz, é necessário ... é como no windows ('prima qualquer tecla, fora dos shortcuts especiais F10 F2 F1 para ir para o booy)\n",
        "  if resp in 'Nn':\n",
        "    break\n",
        "print('-=' * 30)\n",
        "print(f'Voçê digitou {len(valores)} elementos.')\n",
        "valores.sort(reverse=True)\n",
        "print(f'Os valores em ordem crescente são {valores}')\n",
        "if 5 in valores:\n",
        "  print('O valor 5 faz parte da lista!')\n",
        "else:\n",
        "  print('O valor 5 não foi encontrado na lista!')"
      ],
      "metadata": {
        "colab": {
          "base_uri": "https://localhost:8080/"
        },
        "id": "-293wsBwZF0Y",
        "outputId": "6d7810c3-3c12-4ab2-8beb-b1f9fce5c972"
      },
      "execution_count": 21,
      "outputs": [
        {
          "output_type": "stream",
          "name": "stdout",
          "text": [
            "Digite um valor: 54\n",
            "Quer continuar? [S/N] 23\n",
            "Digite um valor: 65\n",
            "Quer continuar? [S/N] 43\n",
            "Digite um valor: 2\n",
            "Quer continuar? [S/N] yhj\n",
            "Digite um valor: 98\n",
            "Quer continuar? [S/N] n\n",
            "-=-=-=-=-=-=-=-=-=-=-=-=-=-=-=-=-=-=-=-=-=-=-=-=-=-=-=-=-=-=\n",
            "Voçê digitou 4 elementos.\n",
            "Os valores em ordem crescente são [98, 65, 54, 2]\n",
            "O valor 5 não foi encontrado na lista!\n"
          ]
        }
      ]
    },
    {
      "cell_type": "markdown",
      "source": [
        "# Desafio 082\n",
        "\n",
        "Crie um programa que vai ler **vários** **números** e colocar em uma **lista**.\n",
        "Depois disso, crie **duas listas extras** que vão conter apenas os valores **pares** e os valores **ímpares** digitados, respectivamente.\n",
        "\n",
        "Por final, mostre o conteúdo das **três listas** geradas."
      ],
      "metadata": {
        "id": "zED8vEcYljlr"
      }
    },
    {
      "cell_type": "code",
      "source": [
        "even = []\n",
        "odd = []\n",
        "default = []\n",
        "continue82='Y'\n",
        "\n",
        "while continue82 != 'N':\n",
        "  num = int(input('Read a new number: '))\n",
        "  default.append(num)\n",
        "  if num%2==0:\n",
        "    even.append(num)\n",
        "  else:\n",
        "    odd.append(num)\n",
        "  continue82 = ' '\n",
        "  while continue82 not in 'YN':\n",
        "    continue82 = str(input('Do you want continue?  [Y/N]')).strip().upper()[0]\n",
        "print(f'The content of list are: {default}, \\nwhich this are {even} even and \\n{odd} odd numbers.')"
      ],
      "metadata": {
        "colab": {
          "base_uri": "https://localhost:8080/"
        },
        "id": "bFtGUtUaljEy",
        "outputId": "e1881e0b-5434-498c-c8c8-6ae522410924"
      },
      "execution_count": null,
      "outputs": [
        {
          "output_type": "stream",
          "name": "stdout",
          "text": [
            "Read a new number: 56\n",
            "Do you want continue?  [Y/N]y\n",
            "Read a new number: 12\n",
            "Do you want continue?  [Y/N]09\n",
            "Do you want continue?  [Y/N]y\n",
            "Read a new number: 09\n",
            "Do you want continue?  [Y/N]yh\n",
            "Read a new number: -1\n",
            "Do you want continue?  [Y/N]y\n",
            "Read a new number: -3\n",
            "Do you want continue?  [Y/N]y\n",
            "Read a new number: 7\n",
            "Do you want continue?  [Y/N]n\n",
            "The content of list are: [56, 12, 9, -1, -3, 7], \n",
            "which this are [56, 12] even and \n",
            "[9, -1, -3, 7] odd numbers.\n"
          ]
        }
      ]
    },
    {
      "cell_type": "code",
      "source": [
        ""
      ],
      "metadata": {
        "colab": {
          "base_uri": "https://localhost:8080/"
        },
        "id": "do8dGdT3hIsg",
        "outputId": "a803966a-95be-4046-f324-493524dab822"
      },
      "execution_count": 26,
      "outputs": [
        {
          "output_type": "stream",
          "name": "stdout",
          "text": [
            "Digite a expressão: )9-8(\n",
            "Sua expressão está errada!\n"
          ]
        }
      ]
    },
    {
      "cell_type": "code",
      "source": [
        "dir(odd)"
      ],
      "metadata": {
        "colab": {
          "base_uri": "https://localhost:8080/"
        },
        "id": "COUFE9u9OBym",
        "outputId": "8231681c-01d5-40ca-f4ee-b5ece2b14413"
      },
      "execution_count": null,
      "outputs": [
        {
          "output_type": "execute_result",
          "data": {
            "text/plain": [
              "['__add__',\n",
              " '__class__',\n",
              " '__contains__',\n",
              " '__delattr__',\n",
              " '__delitem__',\n",
              " '__dir__',\n",
              " '__doc__',\n",
              " '__eq__',\n",
              " '__format__',\n",
              " '__ge__',\n",
              " '__getattribute__',\n",
              " '__getitem__',\n",
              " '__gt__',\n",
              " '__hash__',\n",
              " '__iadd__',\n",
              " '__imul__',\n",
              " '__init__',\n",
              " '__init_subclass__',\n",
              " '__iter__',\n",
              " '__le__',\n",
              " '__len__',\n",
              " '__lt__',\n",
              " '__mul__',\n",
              " '__ne__',\n",
              " '__new__',\n",
              " '__reduce__',\n",
              " '__reduce_ex__',\n",
              " '__repr__',\n",
              " '__reversed__',\n",
              " '__rmul__',\n",
              " '__setattr__',\n",
              " '__setitem__',\n",
              " '__sizeof__',\n",
              " '__str__',\n",
              " '__subclasshook__',\n",
              " 'append',\n",
              " 'clear',\n",
              " 'copy',\n",
              " 'count',\n",
              " 'extend',\n",
              " 'index',\n",
              " 'insert',\n",
              " 'pop',\n",
              " 'remove',\n",
              " 'reverse',\n",
              " 'sort']"
            ]
          },
          "metadata": {},
          "execution_count": 8
        }
      ]
    },
    {
      "cell_type": "code",
      "source": [
        "odd82 = []\n",
        "even82 = []\n",
        "default = []\n",
        "continue82 = 'Y'\n",
        "while continue82 == 'Y':\n",
        "  num = int(input('Read a new number: '))\n",
        "  default.append(num)\n",
        "  continue82 = ' '\n",
        "  while continue82 not in 'YN':\n",
        "    continue82 = str(input('Do you want continue..? ')).strip().upper()[0]\n",
        "for i in range (0, len(default)):\n",
        "  if default[i] % 2 == 0:\n",
        "    even82.append(default[i])\n",
        "  else:\n",
        "    odd82.append(default[i])\n",
        "print(f'Complete list: {default}\\nEven list: {even82}\\nOdd list: {odd82}')"
      ],
      "metadata": {
        "colab": {
          "base_uri": "https://localhost:8080/"
        },
        "id": "SPbJS8vlwHjb",
        "outputId": "7651243c-84a0-478c-e98e-9dfd5f14650c"
      },
      "execution_count": null,
      "outputs": [
        {
          "output_type": "stream",
          "name": "stdout",
          "text": [
            "Read a new number: 12\n",
            "Do you want continue..? y\n",
            "Read a new number: 098\n",
            "Do you want continue..? y\n",
            "Read a new number: 43\n",
            "Do you want continue..? y\n",
            "Read a new number: 3237\n",
            "Do you want continue..?    yq\n",
            "Read a new number: 87\n",
            "Do you want continue..? n\n",
            "Complete list: [12, 98, 43, 3237, 87]\n",
            "Even list: [12, 98]\n",
            "Odd list: [43, 3237, 87]\n"
          ]
        }
      ]
    },
    {
      "cell_type": "code",
      "source": [
        "odd82 = []\n",
        "even82 = []\n",
        "default = []\n",
        "continue82 = 'Y'\n",
        "while continue82 == 'Y':\n",
        "  num = int(input('Read a new number: '))\n",
        "  default.append(num)\n",
        "  continue82 = ' '\n",
        "  while continue82 not in 'YN':\n",
        "    continue82 = str(input('Do you want continue..? ')).strip().upper()[0]\n",
        "for i,v in enumerate(default):\n",
        "  if v % 2 == 0:\n",
        "    even82.append(v)\n",
        "  else:\n",
        "    odd82.append(v)\n",
        "print(f'Complete list: {default}\\nEven list: {even82}\\nOdd list: {odd82}')"
      ],
      "metadata": {
        "colab": {
          "base_uri": "https://localhost:8080/"
        },
        "id": "mkTFPPJX_77x",
        "outputId": "decd370d-8632-4369-ee22-654a45a50272"
      },
      "execution_count": null,
      "outputs": [
        {
          "output_type": "stream",
          "name": "stdout",
          "text": [
            "Read a new number: 12\n",
            "Do you want continue..? y\n",
            "Read a new number: 98\n",
            "Do you want continue..? uy\n",
            "Do you want continue..? yt\n",
            "Read a new number: 13\n",
            "Do you want continue..? yo\n",
            "Read a new number: -3\n",
            "Do you want continue..? n\n",
            "Complete list: [12, 98, 13, -3]\n",
            "Even list: [12, 98]\n",
            "Odd list: [13, -3]\n"
          ]
        }
      ]
    },
    {
      "cell_type": "code",
      "source": [
        "# Solution by Gustavo Guanabará\n",
        "\n",
        "num = list()# preencha uma lista e o próprio programa vai criar 2 listas extras... só nas aulas de exercício a técnica possa aparecer. a importância de assistir  aos vídeos aulas etc\n",
        "pares = list()# VETOR PARES E IMPARES\n",
        "ímpares = list()\n",
        "while True:\n",
        "  num.append(int(input('Digite um número: '))) # tudo junto, poupa código! e váriáveis temporárias\n",
        "  resp = str(input('Quer continuar? [S/N]'))\n",
        "  if resp in 'Nn': # keep simple .. em vez dizer para repetir repetir, é sempre aviar ... manda vir... que não diz não , consente mesmo que diga uma merda impercetível S ou N digo aeroporto´.. então é para ir em frente..como. no limite até posso dizer stop que ele segue ou break\n",
        "    break\n",
        "for i, v in enumerate(num):  #print(num)\n",
        "  if v%2 == 0:\n",
        "    pares.append(v)\n",
        "  elif v%2 == 1:\n",
        "    ímpares.append(v)\n",
        "print('-= * 30')\n",
        "print(f'A lista completa é {num}')\n",
        "print(f'A lista de pares é {pares}')\n",
        "print(f'A lista de ímpares é {ímpares}') # tudo igual até aqui... , só que pus o código todo num único print.. menos legível, Paciência!"
      ],
      "metadata": {
        "colab": {
          "base_uri": "https://localhost:8080/"
        },
        "id": "5W6KXdDkeQBc",
        "outputId": "c2f6337b-26bf-47fe-80e0-d875f3934a9e"
      },
      "execution_count": 24,
      "outputs": [
        {
          "output_type": "stream",
          "name": "stdout",
          "text": [
            "Digite um número: 183\n",
            "Quer continuar? [S/N]beak\n",
            "Digite um número: 77\n",
            "Quer continuar? [S/N]stop\n",
            "Digite um número: 909\n",
            "Quer continuar? [S/N]Pará moço\n",
            "Digite um número: 53\n",
            "Quer continuar? [S/N]N\n",
            "-= * 30\n",
            "A lista completa é [183, 77, 909, 53]\n",
            "A lista de pares é []\n",
            "A lista de ímpares é [183, 77, 909, 53]\n"
          ]
        }
      ]
    },
    {
      "cell_type": "markdown",
      "source": [
        "# Desafio 083\n",
        "\n",
        "Crie um programa onde o usuário digite uma **expressão** qualquer que use **parênteses**. Seu aplicativo deverá analisar se a expressão passada está com os parênteses abertos e fechados na **ordem correta**."
      ],
      "metadata": {
        "id": "uw79Ht4NAVqJ"
      }
    },
    {
      "cell_type": "code",
      "source": [
        "#expression = []\n",
        "expression = list(input('Tell me the expression: '))\n",
        "posOP = 0\n",
        "#expression = list(exp.split(\"\"))\n",
        "\n",
        "numOEP = expression.count('(') != expression.count(')') # number Open&End Parenthisis \n",
        "if numOEP: # This only should be do one time... if\n",
        "  print('Wrong syntax expressions: number of parenthisis should be equal!')\n",
        "  # break\n",
        "if not numOEP: # if\n",
        "#if expression.count('(') > 0:\n",
        "  #first = expression.index('(')\n",
        "  while expression.count('(') > 0: #and\n",
        "    posOP = expression.index('(')\n",
        "    if posOP > expression.index(')'): #\n",
        "      print('Wrong syntax expressions: end parentisis firsts that open parenthesis!')\n",
        "      break\n",
        "    print(f' Valid expression: {expression}')\n",
        "    expression = expression[expression.index(')')+1:]\n",
        "  #expression = list(expression).remove('(')\n",
        "    print(expression)\n",
        "  #expression = list(expression).remove(')')\n",
        "  #print(expression)\n",
        "  #expression = ''.join(expression)\n",
        "\n",
        "  #break # outside loop\n",
        "    #else:\n",
        "  \n",
        "# na forma de uma lista, bem legal e entra em desespero e há gente... que corre pelada"
      ],
      "metadata": {
        "colab": {
          "base_uri": "https://localhost:8080/"
        },
        "id": "O4yhqmxeA_TU",
        "outputId": "d80621dd-2edc-4b0b-ea16-a3ddc52ddcf1"
      },
      "execution_count": null,
      "outputs": [
        {
          "output_type": "stream",
          "name": "stdout",
          "text": [
            "Tell me the expression: (7+3)-)5*1(\n",
            " Valid expression: ['(', '7', '+', '3', ')', '-', ')', '5', '*', '1', '(']\n",
            "['-', ')', '5', '*', '1', '(']\n",
            "Wrong syntax expressions: end parentisis firsts that open parenthesis!\n"
          ]
        }
      ]
    },
    {
      "cell_type": "code",
      "source": [
        "# Solution by Gustavo Guanabará, como ver se errada com base no nº de parentisis que abrem ou fechem...\n",
        "\n",
        "# + raciocínio, mas nem tão grande assim\n",
        "\n",
        "expr = str(input('Digite a expressão: '))\n",
        "pilha = []\n",
        "for símb in expr:\n",
        "  if símb == '(':\n",
        "    pilha.append('(')# criar estrutura de pilha ...\n",
        "  elif símb == ')':\n",
        "    if len(pilha) > 0:\n",
        "      pilha.pop()\n",
        "    else:\n",
        "      pilha.append(')')\n",
        "      break\n",
        "      # aqui fora verifico se a pilha está cheia ou vazia!\n",
        "if len(pilha) == 0:\n",
        "  print('Sua expressão está válida')\n",
        "else:\n",
        "  print('Sua expressão está errada!')"
      ],
      "metadata": {
        "id": "AU97OgIbjRtK"
      },
      "execution_count": null,
      "outputs": []
    },
    {
      "cell_type": "code",
      "source": [
        "expression.count('(')"
      ],
      "metadata": {
        "colab": {
          "base_uri": "https://localhost:8080/"
        },
        "id": "ZKAn4vG7WCDP",
        "outputId": "9396914f-6cfa-49f3-d74a-11d1d98e366e"
      },
      "execution_count": null,
      "outputs": [
        {
          "output_type": "execute_result",
          "data": {
            "text/plain": [
              "2"
            ]
          },
          "metadata": {},
          "execution_count": 10
        }
      ]
    },
    {
      "cell_type": "code",
      "source": [
        "expression.index('(')"
      ],
      "metadata": {
        "colab": {
          "base_uri": "https://localhost:8080/"
        },
        "id": "JFCzH1OLWHFz",
        "outputId": "45e72737-0fdd-4f37-c044-87e3f34f47e3"
      },
      "execution_count": null,
      "outputs": [
        {
          "output_type": "execute_result",
          "data": {
            "text/plain": [
              "0"
            ]
          },
          "metadata": {},
          "execution_count": 11
        }
      ]
    },
    {
      "cell_type": "code",
      "source": [
        "expression[posPO+1:]"
      ],
      "metadata": {
        "colab": {
          "base_uri": "https://localhost:8080/"
        },
        "id": "bjNmLwJVWO6R",
        "outputId": "48176b61-b4ae-4c6f-9f71-b23a289b2416"
      },
      "execution_count": null,
      "outputs": [
        {
          "output_type": "execute_result",
          "data": {
            "text/plain": [
              "['7', '*', '2', ')', '+', ')', '4', '-', '3', '(']"
            ]
          },
          "metadata": {},
          "execution_count": 14
        }
      ]
    },
    {
      "cell_type": "code",
      "source": [
        "expression = list(input('Tell me the expression: ')) #.count('(')"
      ],
      "metadata": {
        "colab": {
          "base_uri": "https://localhost:8080/"
        },
        "id": "Oj0zvq8ZT8F9",
        "outputId": "bf71c41a-d281-4913-d193-4f3774d09470"
      },
      "execution_count": null,
      "outputs": [
        {
          "name": "stdout",
          "output_type": "stream",
          "text": [
            "Tell me the expression: (7*2)+)4-3(\n"
          ]
        }
      ]
    },
    {
      "cell_type": "code",
      "source": [
        ""
      ],
      "metadata": {
        "id": "-6UaXUa9V_WT"
      },
      "execution_count": null,
      "outputs": []
    },
    {
      "cell_type": "code",
      "source": [
        "expression"
      ],
      "metadata": {
        "id": "dSq48snbT_iA"
      },
      "execution_count": null,
      "outputs": []
    },
    {
      "cell_type": "code",
      "source": [
        "cenas = [1,2,4,'str']"
      ],
      "metadata": {
        "id": "NwLtBIvow0nG"
      },
      "execution_count": null,
      "outputs": []
    },
    {
      "cell_type": "code",
      "source": [
        "cenas.remove(2)"
      ],
      "metadata": {
        "id": "U1i-n2A0w6w7"
      },
      "execution_count": null,
      "outputs": []
    },
    {
      "cell_type": "code",
      "source": [
        "cenas"
      ],
      "metadata": {
        "colab": {
          "base_uri": "https://localhost:8080/"
        },
        "id": "saAVARWQw_QV",
        "outputId": "574ec710-2097-499e-ef7c-f158ce97b024"
      },
      "execution_count": null,
      "outputs": [
        {
          "output_type": "execute_result",
          "data": {
            "text/plain": [
              "[1, 4, 'str']"
            ]
          },
          "metadata": {},
          "execution_count": 27
        }
      ]
    },
    {
      "cell_type": "code",
      "source": [
        "print(cenas.remove(1))"
      ],
      "metadata": {
        "colab": {
          "base_uri": "https://localhost:8080/"
        },
        "id": "N74fn6IEw9iG",
        "outputId": "500cbee8-3eda-46cd-8b34-9589f67f6035"
      },
      "execution_count": null,
      "outputs": [
        {
          "output_type": "stream",
          "name": "stdout",
          "text": [
            "None\n"
          ]
        }
      ]
    },
    {
      "cell_type": "code",
      "source": [
        "type(expression)"
      ],
      "metadata": {
        "colab": {
          "base_uri": "https://localhost:8080/"
        },
        "id": "TxmX1lzmmGmh",
        "outputId": "fa46641e-9bb0-4978-834b-bb911bd32c50"
      },
      "execution_count": null,
      "outputs": [
        {
          "output_type": "execute_result",
          "data": {
            "text/plain": [
              "str"
            ]
          },
          "metadata": {},
          "execution_count": 12
        }
      ]
    },
    {
      "cell_type": "code",
      "source": [
        "p1=expression.split(\"(\")"
      ],
      "metadata": {
        "id": "nilwM-Xxl8sV"
      },
      "execution_count": null,
      "outputs": []
    },
    {
      "cell_type": "code",
      "source": [
        "p1.split(\")\")"
      ],
      "metadata": {
        "colab": {
          "base_uri": "https://localhost:8080/",
          "height": 166
        },
        "id": "4sTkHV6AuQNM",
        "outputId": "c71fdb3e-d0ee-4a59-a6d9-448c99b5708f"
      },
      "execution_count": null,
      "outputs": [
        {
          "output_type": "error",
          "ename": "AttributeError",
          "evalue": "ignored",
          "traceback": [
            "\u001b[0;31m---------------------------------------------------------------------------\u001b[0m",
            "\u001b[0;31mAttributeError\u001b[0m                            Traceback (most recent call last)",
            "\u001b[0;32m<ipython-input-16-bc24b3cfbd9e>\u001b[0m in \u001b[0;36m<module>\u001b[0;34m()\u001b[0m\n\u001b[0;32m----> 1\u001b[0;31m \u001b[0mp1\u001b[0m\u001b[0;34m.\u001b[0m\u001b[0msplit\u001b[0m\u001b[0;34m(\u001b[0m\u001b[0;34m\")\"\u001b[0m\u001b[0;34m)\u001b[0m\u001b[0;34m\u001b[0m\u001b[0;34m\u001b[0m\u001b[0m\n\u001b[0m",
            "\u001b[0;31mAttributeError\u001b[0m: 'list' object has no attribute 'split'"
          ]
        }
      ]
    },
    {
      "cell_type": "code",
      "source": [
        "# dir(expression)\n"
      ],
      "metadata": {
        "colab": {
          "base_uri": "https://localhost:8080/"
        },
        "id": "CKkSsEV6aSx9",
        "outputId": "57b78157-4c9c-4cb4-8b76-d373c10ac97c"
      },
      "execution_count": null,
      "outputs": [
        {
          "output_type": "execute_result",
          "data": {
            "text/plain": [
              "['__add__',\n",
              " '__class__',\n",
              " '__contains__',\n",
              " '__delattr__',\n",
              " '__dir__',\n",
              " '__doc__',\n",
              " '__eq__',\n",
              " '__format__',\n",
              " '__ge__',\n",
              " '__getattribute__',\n",
              " '__getitem__',\n",
              " '__getnewargs__',\n",
              " '__gt__',\n",
              " '__hash__',\n",
              " '__init__',\n",
              " '__init_subclass__',\n",
              " '__iter__',\n",
              " '__le__',\n",
              " '__len__',\n",
              " '__lt__',\n",
              " '__mod__',\n",
              " '__mul__',\n",
              " '__ne__',\n",
              " '__new__',\n",
              " '__reduce__',\n",
              " '__reduce_ex__',\n",
              " '__repr__',\n",
              " '__rmod__',\n",
              " '__rmul__',\n",
              " '__setattr__',\n",
              " '__sizeof__',\n",
              " '__str__',\n",
              " '__subclasshook__',\n",
              " 'capitalize',\n",
              " 'casefold',\n",
              " 'center',\n",
              " 'count',\n",
              " 'encode',\n",
              " 'endswith',\n",
              " 'expandtabs',\n",
              " 'find',\n",
              " 'format',\n",
              " 'format_map',\n",
              " 'index',\n",
              " 'isalnum',\n",
              " 'isalpha',\n",
              " 'isascii',\n",
              " 'isdecimal',\n",
              " 'isdigit',\n",
              " 'isidentifier',\n",
              " 'islower',\n",
              " 'isnumeric',\n",
              " 'isprintable',\n",
              " 'isspace',\n",
              " 'istitle',\n",
              " 'isupper',\n",
              " 'join',\n",
              " 'ljust',\n",
              " 'lower',\n",
              " 'lstrip',\n",
              " 'maketrans',\n",
              " 'partition',\n",
              " 'replace',\n",
              " 'rfind',\n",
              " 'rindex',\n",
              " 'rjust',\n",
              " 'rpartition',\n",
              " 'rsplit',\n",
              " 'rstrip',\n",
              " 'split',\n",
              " 'splitlines',\n",
              " 'startswith',\n",
              " 'strip',\n",
              " 'swapcase',\n",
              " 'title',\n",
              " 'translate',\n",
              " 'upper',\n",
              " 'zfill']"
            ]
          },
          "metadata": {},
          "execution_count": 2
        }
      ]
    },
    {
      "cell_type": "code",
      "source": [
        "dir(even)"
      ],
      "metadata": {
        "colab": {
          "base_uri": "https://localhost:8080/"
        },
        "id": "NhV6-KZGAuXK",
        "outputId": "fcd8c024-bd83-4f4c-ef02-f4b2acd10fd0"
      },
      "execution_count": null,
      "outputs": [
        {
          "output_type": "execute_result",
          "data": {
            "text/plain": [
              "['__add__',\n",
              " '__class__',\n",
              " '__contains__',\n",
              " '__delattr__',\n",
              " '__delitem__',\n",
              " '__dir__',\n",
              " '__doc__',\n",
              " '__eq__',\n",
              " '__format__',\n",
              " '__ge__',\n",
              " '__getattribute__',\n",
              " '__getitem__',\n",
              " '__gt__',\n",
              " '__hash__',\n",
              " '__iadd__',\n",
              " '__imul__',\n",
              " '__init__',\n",
              " '__init_subclass__',\n",
              " '__iter__',\n",
              " '__le__',\n",
              " '__len__',\n",
              " '__lt__',\n",
              " '__mul__',\n",
              " '__ne__',\n",
              " '__new__',\n",
              " '__reduce__',\n",
              " '__reduce_ex__',\n",
              " '__repr__',\n",
              " '__reversed__',\n",
              " '__rmul__',\n",
              " '__setattr__',\n",
              " '__setitem__',\n",
              " '__sizeof__',\n",
              " '__str__',\n",
              " '__subclasshook__',\n",
              " 'append',\n",
              " 'clear',\n",
              " 'copy',\n",
              " 'count',\n",
              " 'extend',\n",
              " 'index',\n",
              " 'insert',\n",
              " 'pop',\n",
              " 'remove',\n",
              " 'reverse',\n",
              " 'sort']"
            ]
          },
          "metadata": {},
          "execution_count": 22
        }
      ]
    },
    {
      "cell_type": "code",
      "source": [
        "numbers = [6, 9, 3, 1]"
      ],
      "metadata": {
        "id": "v1okZfkP0kEF"
      },
      "execution_count": null,
      "outputs": []
    },
    {
      "cell_type": "code",
      "source": [
        "sorted(numbers)"
      ],
      "metadata": {
        "colab": {
          "base_uri": "https://localhost:8080/"
        },
        "id": "7FNXeM2i0niS",
        "outputId": "6e4e1985-f676-4002-de41-4673cb436f16"
      },
      "execution_count": null,
      "outputs": [
        {
          "output_type": "execute_result",
          "data": {
            "text/plain": [
              "[1, 3, 6, 9]"
            ]
          },
          "metadata": {},
          "execution_count": 2
        }
      ]
    },
    {
      "cell_type": "code",
      "source": [
        "numbers"
      ],
      "metadata": {
        "colab": {
          "base_uri": "https://localhost:8080/"
        },
        "id": "GdIVPQtd0qDq",
        "outputId": "ac60df41-8d71-4901-e1cd-c974b0dded46"
      },
      "execution_count": null,
      "outputs": [
        {
          "output_type": "execute_result",
          "data": {
            "text/plain": [
              "[6, 9, 3, 1]"
            ]
          },
          "metadata": {},
          "execution_count": 3
        }
      ]
    },
    {
      "cell_type": "code",
      "source": [
        "numbers[::-1]"
      ],
      "metadata": {
        "colab": {
          "base_uri": "https://localhost:8080/"
        },
        "id": "axKa6ewcjiRY",
        "outputId": "bd5bf9e0-11c8-4e1f-8e52-1db8d06d9700"
      },
      "execution_count": null,
      "outputs": [
        {
          "output_type": "execute_result",
          "data": {
            "text/plain": [
              "[1, 3, 9, 6]"
            ]
          },
          "metadata": {},
          "execution_count": 42
        }
      ]
    },
    {
      "cell_type": "code",
      "source": [
        "numbers_sorted = sorted(numbers)"
      ],
      "metadata": {
        "id": "N8BYzJpF0zIs"
      },
      "execution_count": null,
      "outputs": []
    },
    {
      "cell_type": "code",
      "source": [
        "numbers_sorted"
      ],
      "metadata": {
        "colab": {
          "base_uri": "https://localhost:8080/"
        },
        "id": "YGZCApGI01B0",
        "outputId": "6254603e-0733-4be8-c51f-02fbea20fbf9"
      },
      "execution_count": null,
      "outputs": [
        {
          "output_type": "execute_result",
          "data": {
            "text/plain": [
              "[1, 3, 6, 9]"
            ]
          },
          "metadata": {},
          "execution_count": 5
        }
      ]
    },
    {
      "cell_type": "code",
      "source": [
        "help(sorted)"
      ],
      "metadata": {
        "colab": {
          "base_uri": "https://localhost:8080/"
        },
        "id": "ZxJaUZUz05bR",
        "outputId": "6db606bb-89e1-4b8f-bf7a-113f7c876cc5"
      },
      "execution_count": null,
      "outputs": [
        {
          "output_type": "stream",
          "name": "stdout",
          "text": [
            "Help on built-in function sorted in module builtins:\n",
            "\n",
            "sorted(iterable, /, *, key=None, reverse=False)\n",
            "    Return a new list containing all items from the iterable in ascending order.\n",
            "    \n",
            "    A custom key function can be supplied to customize the sort order, and the\n",
            "    reverse flag can be set to request the result in descending order.\n",
            "\n"
          ]
        }
      ]
    },
    {
      "cell_type": "code",
      "source": [
        "numbers_set = {5, 5, 10, 1, 0}"
      ],
      "metadata": {
        "id": "V9BWYFjH516X"
      },
      "execution_count": null,
      "outputs": []
    },
    {
      "cell_type": "code",
      "source": [
        "numbers_tuple_sorted = sorted(numbers)"
      ],
      "metadata": {
        "id": "w-QOyRna56RD"
      },
      "execution_count": null,
      "outputs": []
    },
    {
      "cell_type": "code",
      "source": [
        "numbers_set_sorted = sorted(numbers_set)"
      ],
      "metadata": {
        "id": "2O20osr56DPF"
      },
      "execution_count": null,
      "outputs": []
    },
    {
      "cell_type": "code",
      "source": [
        "numbers_tuple_sorted"
      ],
      "metadata": {
        "colab": {
          "base_uri": "https://localhost:8080/"
        },
        "id": "yNasi34n6G_5",
        "outputId": "4588610f-db9d-4090-ae2f-96db253b0402"
      },
      "execution_count": null,
      "outputs": [
        {
          "output_type": "execute_result",
          "data": {
            "text/plain": [
              "[1, 3, 6, 9]"
            ]
          },
          "metadata": {},
          "execution_count": 11
        }
      ]
    },
    {
      "cell_type": "code",
      "source": [
        "numbers_set_sorted"
      ],
      "metadata": {
        "colab": {
          "base_uri": "https://localhost:8080/"
        },
        "id": "EL89HjDc6NYy",
        "outputId": "09ed8188-4471-4437-9024-c84720ae5124"
      },
      "execution_count": null,
      "outputs": [
        {
          "output_type": "execute_result",
          "data": {
            "text/plain": [
              "[0, 1, 5, 10]"
            ]
          },
          "metadata": {},
          "execution_count": 12
        }
      ]
    },
    {
      "cell_type": "code",
      "source": [
        "tuple(numbers_tuple_sorted)"
      ],
      "metadata": {
        "colab": {
          "base_uri": "https://localhost:8080/"
        },
        "id": "46Bqr1XB6Z2G",
        "outputId": "9dc089f3-b36a-4787-c137-7e0dd2700d18"
      },
      "execution_count": null,
      "outputs": [
        {
          "output_type": "execute_result",
          "data": {
            "text/plain": [
              "(1, 3, 6, 9)"
            ]
          },
          "metadata": {},
          "execution_count": 13
        }
      ]
    },
    {
      "cell_type": "code",
      "source": [
        "set(numbers_set_sorted)"
      ],
      "metadata": {
        "colab": {
          "base_uri": "https://localhost:8080/"
        },
        "id": "3GDLb2MD6cc5",
        "outputId": "930a0f1b-6eb0-4b49-910a-24ca1576c10c"
      },
      "execution_count": null,
      "outputs": [
        {
          "output_type": "execute_result",
          "data": {
            "text/plain": [
              "{0, 1, 5, 10}"
            ]
          },
          "metadata": {},
          "execution_count": 14
        }
      ]
    },
    {
      "cell_type": "code",
      "source": [
        "string_number_value = '34521'\n",
        "string_value = 'I like to sort'\n",
        "sorted_string_number = sorted(string_number_value)\n",
        "sorted_string = sorted(string_value)"
      ],
      "metadata": {
        "id": "-vfjXmQZ7gRq"
      },
      "execution_count": null,
      "outputs": []
    },
    {
      "cell_type": "code",
      "source": [
        "sorted_string_number"
      ],
      "metadata": {
        "colab": {
          "base_uri": "https://localhost:8080/"
        },
        "id": "RN51_PKv7k1a",
        "outputId": "ea3b7479-9b5c-445f-83c4-70b714bfefd3"
      },
      "execution_count": null,
      "outputs": [
        {
          "output_type": "execute_result",
          "data": {
            "text/plain": [
              "['1', '2', '3', '4', '5']"
            ]
          },
          "metadata": {},
          "execution_count": 16
        }
      ]
    },
    {
      "cell_type": "code",
      "source": [
        "sorted_string"
      ],
      "metadata": {
        "colab": {
          "base_uri": "https://localhost:8080/"
        },
        "id": "sDJ3J4wj7w9K",
        "outputId": "fc05c69a-7373-4aaf-ffb5-6d2d23a1c8bc"
      },
      "execution_count": null,
      "outputs": [
        {
          "output_type": "execute_result",
          "data": {
            "text/plain": [
              "[' ', ' ', ' ', 'I', 'e', 'i', 'k', 'l', 'o', 'o', 'r', 's', 't', 't']"
            ]
          },
          "metadata": {},
          "execution_count": 17
        }
      ]
    },
    {
      "cell_type": "code",
      "source": [
        "string_value = 'I like to sort'\n",
        "sorted_string = sorted(string_value.split())\n",
        "sorted_string"
      ],
      "metadata": {
        "colab": {
          "base_uri": "https://localhost:8080/"
        },
        "id": "gc4vtfxH-308",
        "outputId": "8cb1c06b-46ff-4a51-bdee-6d8eb91097fd"
      },
      "execution_count": null,
      "outputs": [
        {
          "output_type": "execute_result",
          "data": {
            "text/plain": [
              "['I', 'like', 'sort', 'to']"
            ]
          },
          "metadata": {},
          "execution_count": 20
        }
      ]
    },
    {
      "cell_type": "code",
      "source": [
        "' '.join(sorted_string)"
      ],
      "metadata": {
        "colab": {
          "base_uri": "https://localhost:8080/",
          "height": 35
        },
        "id": "KS2rnHuX_Gr5",
        "outputId": "e5fe2b5d-fb22-457d-d087-3420efbbfdff"
      },
      "execution_count": null,
      "outputs": [
        {
          "output_type": "execute_result",
          "data": {
            "text/plain": [
              "'I like sort to'"
            ],
            "application/vnd.google.colaboratory.intrinsic+json": {
              "type": "string"
            }
          },
          "metadata": {},
          "execution_count": 21
        }
      ]
    },
    {
      "cell_type": "code",
      "source": [
        "mixed_types = [None, 0]\n",
        "# sorted(mixed_types) # TypeError: '<' not supported between instances of 'int' and 'NoneType'\n",
        "\n",
        "mixed_numbers = [5, \"1\", 100, \"34\"]\n",
        "# sorted(mixed_numbers) # TypeError: '<' not supported between instances of 'str' and 'int'\n",
        "\n",
        "# List comprehension to convert all values to integers\n",
        "[int(x) for x in mixed_numbers]\n",
        "\n",
        "sorted([int(x) for x in mixed_numbers])"
      ],
      "metadata": {
        "colab": {
          "base_uri": "https://localhost:8080/"
        },
        "id": "2cSTBu5aGhAq",
        "outputId": "d2f35212-498c-48c1-9eda-21fd9ce71bec"
      },
      "execution_count": null,
      "outputs": [
        {
          "output_type": "execute_result",
          "data": {
            "text/plain": [
              "[1, 5, 34, 100]"
            ]
          },
          "metadata": {},
          "execution_count": 26
        }
      ]
    },
    {
      "cell_type": "code",
      "source": [
        "similar_values = [False, 0, 1, 'A' == 'B', 1 <= 0]\n",
        "sorted(similar_values)"
      ],
      "metadata": {
        "colab": {
          "base_uri": "https://localhost:8080/"
        },
        "id": "9J3unY42JwAF",
        "outputId": "a3ff0142-c966-4e96-d075-5afeaf36fdb0"
      },
      "execution_count": null,
      "outputs": [
        {
          "output_type": "execute_result",
          "data": {
            "text/plain": [
              "[False, 0, False, False, 1]"
            ]
          },
          "metadata": {},
          "execution_count": 27
        }
      ]
    },
    {
      "cell_type": "code",
      "source": [
        "names = ['Harry', 'Suzy', 'Al', 'Mark']\n",
        "sorted(names)"
      ],
      "metadata": {
        "colab": {
          "base_uri": "https://localhost:8080/"
        },
        "id": "SsvqLHtjNEI0",
        "outputId": "48d888b0-f3ec-46b1-aaaf-261add7f4aa2"
      },
      "execution_count": null,
      "outputs": [
        {
          "output_type": "execute_result",
          "data": {
            "text/plain": [
              "['Al', 'Harry', 'Mark', 'Suzy']"
            ]
          },
          "metadata": {},
          "execution_count": 28
        }
      ]
    },
    {
      "cell_type": "code",
      "source": [
        "names_with_case = ['harry', 'Suzy', 'al', 'Mark']\n",
        "sorted(names_with_case)"
      ],
      "metadata": {
        "colab": {
          "base_uri": "https://localhost:8080/"
        },
        "id": "dgHTpiDWNcey",
        "outputId": "99d5ca08-f2f0-4ff3-d882-ac4e393942be"
      },
      "execution_count": null,
      "outputs": [
        {
          "output_type": "execute_result",
          "data": {
            "text/plain": [
              "['Mark', 'Suzy', 'al', 'harry']"
            ]
          },
          "metadata": {},
          "execution_count": 29
        }
      ]
    },
    {
      "cell_type": "code",
      "source": [
        "[(ord(name[0]), name[0]) for name in sorted(names_with_case)]"
      ],
      "metadata": {
        "colab": {
          "base_uri": "https://localhost:8080/"
        },
        "id": "sDxcFRodTUt9",
        "outputId": "f3e21feb-f78c-4e05-d3ab-82b7148e67f6"
      },
      "execution_count": null,
      "outputs": [
        {
          "output_type": "execute_result",
          "data": {
            "text/plain": [
              "[(77, 'M'), (83, 'S'), (97, 'a'), (104, 'h')]"
            ]
          },
          "metadata": {},
          "execution_count": 30
        }
      ]
    },
    {
      "cell_type": "code",
      "source": [
        "very_similar_strs = ['hhhhhd', 'hhhhha', 'hhhhhc','hhhhhb']\n",
        "sorted(very_similar_strs)"
      ],
      "metadata": {
        "colab": {
          "base_uri": "https://localhost:8080/"
        },
        "id": "VHLxxhRRUqXM",
        "outputId": "40b08ff2-e348-42e6-94b1-5454378036e0"
      },
      "execution_count": null,
      "outputs": [
        {
          "output_type": "execute_result",
          "data": {
            "text/plain": [
              "['hhhhha', 'hhhhhb', 'hhhhhc', 'hhhhhd']"
            ]
          },
          "metadata": {},
          "execution_count": 31
        }
      ]
    },
    {
      "cell_type": "code",
      "source": [
        "different_lengths = ['hhhh', 'hh', 'hhhhh','h']\n",
        "sorted(different_lengths)"
      ],
      "metadata": {
        "colab": {
          "base_uri": "https://localhost:8080/"
        },
        "id": "MNmbxV3mUzlQ",
        "outputId": "4296beb8-b75d-4ab2-8d00-efdd9ff4f4a0"
      },
      "execution_count": null,
      "outputs": [
        {
          "output_type": "execute_result",
          "data": {
            "text/plain": [
              "['h', 'hh', 'hhhh', 'hhhhh']"
            ]
          },
          "metadata": {},
          "execution_count": 32
        }
      ]
    },
    {
      "cell_type": "code",
      "source": [
        "names"
      ],
      "metadata": {
        "id": "2vXoQ30Ljbu4"
      },
      "execution_count": null,
      "outputs": []
    },
    {
      "cell_type": "code",
      "source": [
        "sorted(names)\n",
        "sorted(names, reverse=True)"
      ],
      "metadata": {
        "colab": {
          "base_uri": "https://localhost:8080/"
        },
        "id": "uxNv9RYHWCob",
        "outputId": "61c47612-01eb-4f05-db62-3a922148c928"
      },
      "execution_count": null,
      "outputs": [
        {
          "output_type": "execute_result",
          "data": {
            "text/plain": [
              "['Suzy', 'Mark', 'Harry', 'Al']"
            ]
          },
          "metadata": {},
          "execution_count": 34
        }
      ]
    },
    {
      "cell_type": "code",
      "source": [
        "similar_values = [False, 1, 'A' == 'B', 1 <= 0]\n",
        "sorted(similar_values, reverse=True)"
      ],
      "metadata": {
        "colab": {
          "base_uri": "https://localhost:8080/"
        },
        "id": "N4ESeKfLX-RU",
        "outputId": "1b3da627-add5-40d0-db1a-1c528e708607"
      },
      "execution_count": null,
      "outputs": [
        {
          "output_type": "execute_result",
          "data": {
            "text/plain": [
              "[1, False, False, False]"
            ]
          },
          "metadata": {},
          "execution_count": 35
        }
      ]
    },
    {
      "cell_type": "code",
      "source": [
        "sorted(numbers, reverse=False)"
      ],
      "metadata": {
        "colab": {
          "base_uri": "https://localhost:8080/"
        },
        "id": "78VCm9hxYF5R",
        "outputId": "09be8c03-d467-4a7c-cacc-4c17956c72f1"
      },
      "execution_count": null,
      "outputs": [
        {
          "output_type": "execute_result",
          "data": {
            "text/plain": [
              "[1, 3, 6, 9]"
            ]
          },
          "metadata": {},
          "execution_count": 36
        }
      ]
    },
    {
      "cell_type": "code",
      "source": [
        "sorted(names_with_case)"
      ],
      "metadata": {
        "colab": {
          "base_uri": "https://localhost:8080/"
        },
        "id": "kj1lG55mcLG9",
        "outputId": "910f6b5c-4ac7-4254-ef25-17fa1060c822"
      },
      "execution_count": null,
      "outputs": [
        {
          "output_type": "execute_result",
          "data": {
            "text/plain": [
              "['Mark', 'Suzy', 'al', 'harry']"
            ]
          },
          "metadata": {},
          "execution_count": 37
        }
      ]
    },
    {
      "cell_type": "code",
      "source": [
        "sorted(names_with_case, key=str.lower)"
      ],
      "metadata": {
        "colab": {
          "base_uri": "https://localhost:8080/"
        },
        "id": "Za9og4PucPqD",
        "outputId": "beeb4fbc-0ebc-45ef-ed9d-d7b65170316f"
      },
      "execution_count": null,
      "outputs": [
        {
          "output_type": "execute_result",
          "data": {
            "text/plain": [
              "['al', 'harry', 'Mark', 'Suzy']"
            ]
          },
          "metadata": {},
          "execution_count": 38
        }
      ]
    },
    {
      "cell_type": "code",
      "source": [
        "def add(x, y):\n",
        "  return x + y"
      ],
      "metadata": {
        "id": "8HbUERSlciTZ"
      },
      "execution_count": null,
      "outputs": []
    },
    {
      "cell_type": "code",
      "source": [
        "values_to_add = [1, 2, 3]\n",
        "sorted(values_to_add, key=add) # TypeError: add() missing 1 required positional argument: 'y'"
      ],
      "metadata": {
        "colab": {
          "base_uri": "https://localhost:8080/",
          "height": 183
        },
        "id": "nXMqOCKzd6Fq",
        "outputId": "8bbc82a6-7ba0-45f7-c2f9-e9339c85470a"
      },
      "execution_count": null,
      "outputs": [
        {
          "output_type": "error",
          "ename": "TypeError",
          "evalue": "ignored",
          "traceback": [
            "\u001b[0;31m---------------------------------------------------------------------------\u001b[0m",
            "\u001b[0;31mTypeError\u001b[0m                                 Traceback (most recent call last)",
            "\u001b[0;32m<ipython-input-41-86e5e04cf7f6>\u001b[0m in \u001b[0;36m<module>\u001b[0;34m()\u001b[0m\n\u001b[1;32m      1\u001b[0m \u001b[0mvalues_to_add\u001b[0m \u001b[0;34m=\u001b[0m \u001b[0;34m[\u001b[0m\u001b[0;36m1\u001b[0m\u001b[0;34m,\u001b[0m \u001b[0;36m2\u001b[0m\u001b[0;34m,\u001b[0m \u001b[0;36m3\u001b[0m\u001b[0;34m]\u001b[0m\u001b[0;34m\u001b[0m\u001b[0;34m\u001b[0m\u001b[0m\n\u001b[0;32m----> 2\u001b[0;31m \u001b[0msorted\u001b[0m\u001b[0;34m(\u001b[0m\u001b[0mvalues_to_add\u001b[0m\u001b[0;34m,\u001b[0m \u001b[0mkey\u001b[0m\u001b[0;34m=\u001b[0m\u001b[0madd\u001b[0m\u001b[0;34m)\u001b[0m \u001b[0;31m# TypeError: add() missing 1 required positional argument: 'y'\u001b[0m\u001b[0;34m\u001b[0m\u001b[0;34m\u001b[0m\u001b[0m\n\u001b[0m",
            "\u001b[0;31mTypeError\u001b[0m: add() missing 1 required positional argument: 'y'"
          ]
        }
      ]
    },
    {
      "cell_type": "code",
      "source": [
        "help(list.sort)"
      ],
      "metadata": {
        "colab": {
          "base_uri": "https://localhost:8080/"
        },
        "id": "3_ZV8U7ck9mz",
        "outputId": "b83f1ad5-28cc-4dfc-f790-2c54f3346c37"
      },
      "execution_count": null,
      "outputs": [
        {
          "output_type": "stream",
          "name": "stdout",
          "text": [
            "Help on method_descriptor:\n",
            "\n",
            "sort(self, /, *, key=None, reverse=False)\n",
            "    Stable sort *IN PLACE*.\n",
            "\n"
          ]
        }
      ]
    },
    {
      "cell_type": "code",
      "source": [
        "help(sorted)"
      ],
      "metadata": {
        "colab": {
          "base_uri": "https://localhost:8080/"
        },
        "id": "jmcw0ZjSlFXI",
        "outputId": "673fc469-6648-4ed7-f01c-ddee81099743"
      },
      "execution_count": null,
      "outputs": [
        {
          "output_type": "stream",
          "name": "stdout",
          "text": [
            "Help on built-in function sorted in module builtins:\n",
            "\n",
            "sorted(iterable, /, *, key=None, reverse=False)\n",
            "    Return a new list containing all items from the iterable in ascending order.\n",
            "    \n",
            "    A custom key function can be supplied to customize the sort order, and the\n",
            "    reverse flag can be set to request the result in descending order.\n",
            "\n"
          ]
        }
      ]
    },
    {
      "cell_type": "code",
      "source": [
        "values_to_sort = [5, 2, 6, 1]\n",
        "# # Try to call .sort() like sorted()\n",
        "# sort(values_to_sort) # NameError: name 'sort' is not defined\n",
        "\n",
        "# # Try to use .sort() on a tuple\n",
        "# tuple_val = (5, 1, 3, 5)\n",
        "# tuple_val.sort() # AttributeError: 'tuple' object has no attribute 'sort'\n",
        "\n",
        "#  # Sort the list and assign to new variable\n",
        "sorted_values = values_to_sort.sort()\n",
        "print(sorted_values)\n",
        "\n",
        "print(values_to_sort)"
      ],
      "metadata": {
        "colab": {
          "base_uri": "https://localhost:8080/"
        },
        "id": "mjxR5VummvU3",
        "outputId": "048bae6a-8699-4e38-8b2c-d78c1552a02a"
      },
      "execution_count": null,
      "outputs": [
        {
          "output_type": "stream",
          "name": "stdout",
          "text": [
            "[1, 2, 5, 6]\n"
          ]
        }
      ]
    },
    {
      "cell_type": "code",
      "source": [
        " phrases = ['when in rome', \n",
        "'what goes around comes around', \n",
        "'all is fair in love and war'\n",
        "]\n",
        "phrases.sort(key=lambda x: x.split()[2][1], reverse=True)\n",
        "phrases"
      ],
      "metadata": {
        "colab": {
          "base_uri": "https://localhost:8080/"
        },
        "id": "-lGGO7ah-TaN",
        "outputId": "af2eb329-060a-470c-ee18-e59a11169eda"
      },
      "execution_count": null,
      "outputs": [
        {
          "output_type": "execute_result",
          "data": {
            "text/plain": [
              "['what goes around comes around',\n",
              " 'when in rome',\n",
              " 'all is fair in love and war']"
            ]
          },
          "metadata": {},
          "execution_count": 1
        }
      ]
    },
    {
      "cell_type": "code",
      "source": [
        "from collections import namedtuple\n",
        "\n",
        "Runner = namedtuple('Runner', 'bibnumber duration')"
      ],
      "metadata": {
        "id": "ofuy5bkLCSmF"
      },
      "execution_count": null,
      "outputs": []
    },
    {
      "cell_type": "code",
      "source": [
        "runners = []\n",
        "runners.append(Runner('2528567', 1500))\n",
        "runners.append(Runner('7575234', 1420))\n",
        "runners.append(Runner('2666234', 1600))\n",
        "runners.append(Runner('2425234', 1490))\n",
        "runners.append(Runner('1235234', 1620))\n",
        "# Thousands and Thousands of entries later...\n",
        "runners.append(Runner('2526674', 1906))"
      ],
      "metadata": {
        "id": "E-z9WcD2oRZR"
      },
      "execution_count": null,
      "outputs": []
    },
    {
      "cell_type": "code",
      "source": [
        "runners.sort(key=lambda x: getattr(x, 'duration'))\n",
        "top_five_runners = runners[:5]\n",
        "top_five_runners"
      ],
      "metadata": {
        "colab": {
          "base_uri": "https://localhost:8080/"
        },
        "id": "i-maMpLbFmkS",
        "outputId": "ce2b2c24-5c87-4704-b798-36f4ece4fb80"
      },
      "execution_count": null,
      "outputs": [
        {
          "output_type": "execute_result",
          "data": {
            "text/plain": [
              "[Runner(bibnumber='7575234', duration=1420),\n",
              " Runner(bibnumber='2425234', duration=1490),\n",
              " Runner(bibnumber='2528567', duration=1500),\n",
              " Runner(bibnumber='2666234', duration=1600),\n",
              " Runner(bibnumber='1235234', duration=1620)]"
            ]
          },
          "metadata": {},
          "execution_count": 7
        }
      ]
    },
    {
      "cell_type": "code",
      "source": [
        "runners_by_duration = sorted(runners, key=lambda x: getattr(x, 'duration'))\n",
        "top_five_runners = runners_by_duration[:5]\n",
        "top_five_runners"
      ],
      "metadata": {
        "colab": {
          "base_uri": "https://localhost:8080/"
        },
        "id": "X7fBOK3VI_Ru",
        "outputId": "3e6b2ac3-5d2a-4451-e766-f429141fbdf9"
      },
      "execution_count": null,
      "outputs": [
        {
          "output_type": "execute_result",
          "data": {
            "text/plain": [
              "[Runner(bibnumber='7575234', duration=1420),\n",
              " Runner(bibnumber='2425234', duration=1490),\n",
              " Runner(bibnumber='2528567', duration=1500),\n",
              " Runner(bibnumber='2666234', duration=1600),\n",
              " Runner(bibnumber='1235234', duration=1620)]"
            ]
          },
          "metadata": {},
          "execution_count": 9
        }
      ]
    },
    {
      "cell_type": "code",
      "source": [
        "every_thirtyseventh_runners = runners[::37]\n",
        "every_thirtyseventh_runners"
      ],
      "metadata": {
        "colab": {
          "base_uri": "https://localhost:8080/"
        },
        "id": "1cnN6y-wJqek",
        "outputId": "c909ccbf-ea9b-46e6-86bf-797efced04f9"
      },
      "execution_count": null,
      "outputs": [
        {
          "output_type": "execute_result",
          "data": {
            "text/plain": [
              "[Runner(bibnumber='7575234', duration=1420)]"
            ]
          },
          "metadata": {},
          "execution_count": 12
        }
      ]
    },
    {
      "cell_type": "code",
      "source": [
        "# create a list of vowels\n",
        "vowel = ['a', 'e', 'i', 'u']\n",
        "\n",
        "# 'o' is inserted at index 3 (4th position)\n",
        "vowel.insert(3, 'o')\n",
        "\n",
        "\n",
        "print('List:', vowel)"
      ],
      "metadata": {
        "colab": {
          "base_uri": "https://localhost:8080/"
        },
        "id": "lhNcW47NO1NF",
        "outputId": "87d210f4-33ba-4b36-d3a0-f77afb8596af"
      },
      "execution_count": null,
      "outputs": [
        {
          "output_type": "stream",
          "name": "stdout",
          "text": [
            "List: ['a', 'e', 'i', 'o', 'u']\n"
          ]
        }
      ]
    },
    {
      "cell_type": "code",
      "source": [
        "mixed_list = [{1, 2}, [5, 6, 7]]\n",
        "\n",
        "# number tuple\n",
        "number_tuple = (3, 4)\n",
        "\n",
        "# inserting a tuple to the list\n",
        "mixed_list.insert(1, number_tuple)\n",
        "\n",
        "\n",
        "print('Updated List:', mixed_list)"
      ],
      "metadata": {
        "colab": {
          "base_uri": "https://localhost:8080/"
        },
        "id": "DTRXVszJOtWi",
        "outputId": "301c68bd-d09f-45d9-a638-e69a0e1b7726"
      },
      "execution_count": null,
      "outputs": [
        {
          "output_type": "stream",
          "name": "stdout",
          "text": [
            "Updated List: [{1, 2}, (3, 4), [5, 6, 7]]\n"
          ]
        }
      ]
    },
    {
      "cell_type": "code",
      "source": [
        "pass"
      ],
      "metadata": {
        "id": "5k7UCpRWTr4h"
      },
      "execution_count": null,
      "outputs": []
    },
    {
      "cell_type": "code",
      "source": [
        "def return_42():\n",
        "  return 42"
      ],
      "metadata": {
        "id": "8Sel7-XNnZbz"
      },
      "execution_count": null,
      "outputs": []
    },
    {
      "cell_type": "code",
      "source": [
        "return_42()*2+5"
      ],
      "metadata": {
        "colab": {
          "base_uri": "https://localhost:8080/"
        },
        "id": "_OJfky_cnbR3",
        "outputId": "8fc43266-3cc3-4586-be41-41be033d6c5c"
      },
      "execution_count": null,
      "outputs": [
        {
          "output_type": "execute_result",
          "data": {
            "text/plain": [
              "89"
            ]
          },
          "metadata": {},
          "execution_count": 23
        }
      ]
    },
    {
      "cell_type": "code",
      "source": [
        "def get_even(numbers):\n",
        "  even_nums = [num for num in numbers if not num % 2]\n",
        "  return even_nums"
      ],
      "metadata": {
        "id": "xYAmYxr9nOTJ"
      },
      "execution_count": null,
      "outputs": []
    },
    {
      "cell_type": "code",
      "source": [
        "get_even([1,2,3,4,5,6,7])"
      ],
      "metadata": {
        "colab": {
          "base_uri": "https://localhost:8080/"
        },
        "id": "FDxlt7xXnTY-",
        "outputId": "594a89f5-805a-43bb-c3f7-993334a742f5"
      },
      "execution_count": null,
      "outputs": [
        {
          "output_type": "execute_result",
          "data": {
            "text/plain": [
              "[2, 4, 6]"
            ]
          },
          "metadata": {},
          "execution_count": 17
        }
      ]
    },
    {
      "cell_type": "code",
      "source": [
        "def get_even2(numbers):\n",
        "  return [num for num in numbers if not num % 2]"
      ],
      "metadata": {
        "id": "ocWktBufI6Ip"
      },
      "execution_count": null,
      "outputs": []
    },
    {
      "cell_type": "code",
      "source": [
        "get_even2([1,2,3,4,5,6,8])"
      ],
      "metadata": {
        "colab": {
          "base_uri": "https://localhost:8080/"
        },
        "id": "xn4wdwJGJ9b2",
        "outputId": "fadbb24f-c899-40d5-ecfd-cb6227d91f8e"
      },
      "execution_count": null,
      "outputs": [
        {
          "output_type": "execute_result",
          "data": {
            "text/plain": [
              "[2, 4, 6, 8]"
            ]
          },
          "metadata": {},
          "execution_count": 3
        }
      ]
    },
    {
      "cell_type": "code",
      "source": [
        "def mean(sample):\n",
        "    return sum(sample) / len(sample)"
      ],
      "metadata": {
        "id": "v99x7K-ETuhV"
      },
      "execution_count": null,
      "outputs": []
    },
    {
      "cell_type": "code",
      "source": [
        "mean([1,2,3,4,5,6])"
      ],
      "metadata": {
        "colab": {
          "base_uri": "https://localhost:8080/"
        },
        "id": "IS_t6a-PT5xe",
        "outputId": "984380ee-6b31-4550-b3ed-447dc757a281"
      },
      "execution_count": null,
      "outputs": [
        {
          "output_type": "execute_result",
          "data": {
            "text/plain": [
              "3.5"
            ]
          },
          "metadata": {},
          "execution_count": 6
        }
      ]
    },
    {
      "cell_type": "code",
      "source": [
        "def add_one(n):\n",
        "  # No return statement at all\n",
        "  result = n+1"
      ],
      "metadata": {
        "id": "8kGXKObsU4VP"
      },
      "execution_count": null,
      "outputs": []
    },
    {
      "cell_type": "code",
      "source": [
        "value = add_one(5)\n",
        "value\n",
        "print(value)"
      ],
      "metadata": {
        "colab": {
          "base_uri": "https://localhost:8080/"
        },
        "id": "gqE_3lfWU7p5",
        "outputId": "871be14c-8995-4ed1-b7fe-50a901ee1c2b"
      },
      "execution_count": null,
      "outputs": [
        {
          "output_type": "stream",
          "name": "stdout",
          "text": [
            "None\n"
          ]
        }
      ]
    },
    {
      "cell_type": "code",
      "source": [
        "return_value= print('Hello World!')\n",
        "\n",
        "print(return_value)"
      ],
      "metadata": {
        "colab": {
          "base_uri": "https://localhost:8080/"
        },
        "id": "OmAaWq9SVqr5",
        "outputId": "df0d1520-9299-4d3a-9f2e-0e86e9f8e236"
      },
      "execution_count": null,
      "outputs": [
        {
          "output_type": "stream",
          "name": "stdout",
          "text": [
            "Hello World!\n",
            "None\n"
          ]
        }
      ]
    },
    {
      "cell_type": "code",
      "source": [
        "def print_greeting():\n",
        "  print('Hello, World')\n",
        "\n",
        "print_greeting()"
      ],
      "metadata": {
        "colab": {
          "base_uri": "https://localhost:8080/"
        },
        "id": "fSv9XQoOc-Ye",
        "outputId": "94d2b79f-aa4e-4306-a53b-69a3fae61d98"
      },
      "execution_count": null,
      "outputs": [
        {
          "output_type": "stream",
          "name": "stdout",
          "text": [
            "Hello, World\n"
          ]
        }
      ]
    },
    {
      "cell_type": "code",
      "source": [
        "def return_greeting():\n",
        "  return \"Hello, World\"\n",
        "\n",
        "return_greeting()"
      ],
      "metadata": {
        "colab": {
          "base_uri": "https://localhost:8080/",
          "height": 35
        },
        "id": "FfrKSzfLdTTI",
        "outputId": "dabf1626-43ce-43ae-bf7a-af9d9a4e0fde"
      },
      "execution_count": null,
      "outputs": [
        {
          "output_type": "execute_result",
          "data": {
            "text/plain": [
              "'Hello, World'"
            ],
            "application/vnd.google.colaboratory.intrinsic+json": {
              "type": "string"
            }
          },
          "metadata": {},
          "execution_count": 16
        }
      ]
    },
    {
      "cell_type": "code",
      "source": [
        "print(return_greeting())"
      ],
      "metadata": {
        "colab": {
          "base_uri": "https://localhost:8080/"
        },
        "id": "TR3lgV2Idjab",
        "outputId": "346c3c6a-947c-4bb9-fef6-234817a771b9"
      },
      "execution_count": null,
      "outputs": [
        {
          "output_type": "stream",
          "name": "stdout",
          "text": [
            "Hello, World\n"
          ]
        }
      ]
    },
    {
      "cell_type": "code",
      "source": [
        "def print_42():\n",
        "  print(42)"
      ],
      "metadata": {
        "id": "c17n_yFZfZcX"
      },
      "execution_count": null,
      "outputs": []
    },
    {
      "cell_type": "code",
      "source": [
        "print_42()"
      ],
      "metadata": {
        "colab": {
          "base_uri": "https://localhost:8080/"
        },
        "id": "5zd-i9wFfe4k",
        "outputId": "01d53181-b13d-4598-c944-50e163102c6d"
      },
      "execution_count": null,
      "outputs": [
        {
          "output_type": "stream",
          "name": "stdout",
          "text": [
            "42\n"
          ]
        }
      ]
    },
    {
      "cell_type": "code",
      "source": [
        "def return_42():\n",
        "  return 42"
      ],
      "metadata": {
        "id": "LcfMwZp2fg0E"
      },
      "execution_count": null,
      "outputs": []
    },
    {
      "cell_type": "code",
      "source": [
        "return_42()"
      ],
      "metadata": {
        "colab": {
          "base_uri": "https://localhost:8080/"
        },
        "id": "W1PMEDpgfj98",
        "outputId": "a5e24de8-af47-4525-9a98-c6b46bdb9f83"
      },
      "execution_count": null,
      "outputs": [
        {
          "output_type": "execute_result",
          "data": {
            "text/plain": [
              "42"
            ]
          },
          "metadata": {},
          "execution_count": 23
        }
      ]
    },
    {
      "cell_type": "code",
      "source": [
        "def add(a,b):\n",
        "  return a+b\n",
        "\n",
        "add(2,2)"
      ],
      "metadata": {
        "colab": {
          "base_uri": "https://localhost:8080/"
        },
        "id": "hIWgYAe5fmeq",
        "outputId": "59d75c47-8882-4b4f-fc7d-9ed8be7acd76"
      },
      "execution_count": null,
      "outputs": [
        {
          "output_type": "execute_result",
          "data": {
            "text/plain": [
              "4"
            ]
          },
          "metadata": {},
          "execution_count": 24
        }
      ]
    },
    {
      "cell_type": "code",
      "source": [
        "import statistics as st\n",
        "\n",
        "def describe(sample):\n",
        "  return st.mean(sample), st.median(sample), st.mode(sample)\n",
        "  #return st.mean(sample), st.median(sample), st.mode(sample)"
      ],
      "metadata": {
        "id": "rq-h_Nqzwg_0"
      },
      "execution_count": null,
      "outputs": []
    },
    {
      "cell_type": "code",
      "source": [
        "del mean, median, mode"
      ],
      "metadata": {
        "colab": {
          "base_uri": "https://localhost:8080/",
          "height": 166
        },
        "id": "0ZW2q4xBxCKw",
        "outputId": "d181ccca-7543-4d8a-8742-302ca6efecb8"
      },
      "execution_count": null,
      "outputs": [
        {
          "output_type": "error",
          "ename": "NameError",
          "evalue": "ignored",
          "traceback": [
            "\u001b[0;31m---------------------------------------------------------------------------\u001b[0m",
            "\u001b[0;31mNameError\u001b[0m                                 Traceback (most recent call last)",
            "\u001b[0;32m<ipython-input-30-33dff9276c58>\u001b[0m in \u001b[0;36m<module>\u001b[0;34m()\u001b[0m\n\u001b[0;32m----> 1\u001b[0;31m \u001b[0;32mdel\u001b[0m \u001b[0mmean\u001b[0m\u001b[0;34m\u001b[0m\u001b[0;34m\u001b[0m\u001b[0m\n\u001b[0m",
            "\u001b[0;31mNameError\u001b[0m: name 'mean' is not defined"
          ]
        }
      ]
    },
    {
      "cell_type": "code",
      "source": [
        "# sample = [10, 2, 4, 7, 8, 3, 9, 8, 6, 7]\n",
        "# mean, median, mode = describe(sample) Whats up , gives ERROR and I don't know why\n",
        "# #mean, median, mode = describe(sample)"
      ],
      "metadata": {
        "colab": {
          "base_uri": "https://localhost:8080/",
          "height": 346
        },
        "id": "03qmfVrLwvKX",
        "outputId": "e3a05a8f-7f46-426e-8009-dc08272e541f"
      },
      "execution_count": null,
      "outputs": [
        {
          "output_type": "error",
          "ename": "StatisticsError",
          "evalue": "ignored",
          "traceback": [
            "\u001b[0;31m---------------------------------------------------------------------------\u001b[0m",
            "\u001b[0;31mStatisticsError\u001b[0m                           Traceback (most recent call last)",
            "\u001b[0;32m<ipython-input-36-898965dac08b>\u001b[0m in \u001b[0;36m<module>\u001b[0;34m()\u001b[0m\n\u001b[1;32m      1\u001b[0m \u001b[0msample\u001b[0m \u001b[0;34m=\u001b[0m \u001b[0;34m[\u001b[0m\u001b[0;36m10\u001b[0m\u001b[0;34m,\u001b[0m \u001b[0;36m2\u001b[0m\u001b[0;34m,\u001b[0m \u001b[0;36m4\u001b[0m\u001b[0;34m,\u001b[0m \u001b[0;36m7\u001b[0m\u001b[0;34m,\u001b[0m \u001b[0;36m8\u001b[0m\u001b[0;34m,\u001b[0m \u001b[0;36m3\u001b[0m\u001b[0;34m,\u001b[0m \u001b[0;36m9\u001b[0m\u001b[0;34m,\u001b[0m \u001b[0;36m8\u001b[0m\u001b[0;34m,\u001b[0m \u001b[0;36m6\u001b[0m\u001b[0;34m,\u001b[0m \u001b[0;36m7\u001b[0m\u001b[0;34m]\u001b[0m\u001b[0;34m\u001b[0m\u001b[0;34m\u001b[0m\u001b[0m\n\u001b[0;32m----> 2\u001b[0;31m \u001b[0mmean\u001b[0m\u001b[0;34m,\u001b[0m \u001b[0mmedian\u001b[0m\u001b[0;34m,\u001b[0m \u001b[0mmode\u001b[0m \u001b[0;34m=\u001b[0m \u001b[0mdescribe\u001b[0m\u001b[0;34m(\u001b[0m\u001b[0msample\u001b[0m\u001b[0;34m)\u001b[0m\u001b[0;34m\u001b[0m\u001b[0;34m\u001b[0m\u001b[0m\n\u001b[0m\u001b[1;32m      3\u001b[0m \u001b[0;31m#mean, median, mode = describe(sample)\u001b[0m\u001b[0;34m\u001b[0m\u001b[0;34m\u001b[0m\u001b[0;34m\u001b[0m\u001b[0m\n",
            "\u001b[0;32m<ipython-input-35-a5ba997a1b42>\u001b[0m in \u001b[0;36mdescribe\u001b[0;34m(sample)\u001b[0m\n\u001b[1;32m      2\u001b[0m \u001b[0;34m\u001b[0m\u001b[0m\n\u001b[1;32m      3\u001b[0m \u001b[0;32mdef\u001b[0m \u001b[0mdescribe\u001b[0m\u001b[0;34m(\u001b[0m\u001b[0msample\u001b[0m\u001b[0;34m)\u001b[0m\u001b[0;34m:\u001b[0m\u001b[0;34m\u001b[0m\u001b[0;34m\u001b[0m\u001b[0m\n\u001b[0;32m----> 4\u001b[0;31m   \u001b[0;32mreturn\u001b[0m \u001b[0mst\u001b[0m\u001b[0;34m.\u001b[0m\u001b[0mmean\u001b[0m\u001b[0;34m(\u001b[0m\u001b[0msample\u001b[0m\u001b[0;34m)\u001b[0m\u001b[0;34m,\u001b[0m \u001b[0mst\u001b[0m\u001b[0;34m.\u001b[0m\u001b[0mmedian\u001b[0m\u001b[0;34m(\u001b[0m\u001b[0msample\u001b[0m\u001b[0;34m)\u001b[0m\u001b[0;34m,\u001b[0m \u001b[0mst\u001b[0m\u001b[0;34m.\u001b[0m\u001b[0mmode\u001b[0m\u001b[0;34m(\u001b[0m\u001b[0msample\u001b[0m\u001b[0;34m)\u001b[0m\u001b[0;34m\u001b[0m\u001b[0;34m\u001b[0m\u001b[0m\n\u001b[0m\u001b[1;32m      5\u001b[0m   \u001b[0;31m#return st.mean(sample), st.median(sample), st.mode(sample)\u001b[0m\u001b[0;34m\u001b[0m\u001b[0;34m\u001b[0m\u001b[0;34m\u001b[0m\u001b[0m\n",
            "\u001b[0;32m/usr/lib/python3.7/statistics.py\u001b[0m in \u001b[0;36mmode\u001b[0;34m(data)\u001b[0m\n\u001b[1;32m    504\u001b[0m     \u001b[0;32melif\u001b[0m \u001b[0mtable\u001b[0m\u001b[0;34m:\u001b[0m\u001b[0;34m\u001b[0m\u001b[0;34m\u001b[0m\u001b[0m\n\u001b[1;32m    505\u001b[0m         raise StatisticsError(\n\u001b[0;32m--> 506\u001b[0;31m                 \u001b[0;34m'no unique mode; found %d equally common values'\u001b[0m \u001b[0;34m%\u001b[0m \u001b[0mlen\u001b[0m\u001b[0;34m(\u001b[0m\u001b[0mtable\u001b[0m\u001b[0;34m)\u001b[0m\u001b[0;34m\u001b[0m\u001b[0;34m\u001b[0m\u001b[0m\n\u001b[0m\u001b[1;32m    507\u001b[0m                 )\n\u001b[1;32m    508\u001b[0m     \u001b[0;32melse\u001b[0m\u001b[0;34m:\u001b[0m\u001b[0;34m\u001b[0m\u001b[0;34m\u001b[0m\u001b[0m\n",
            "\u001b[0;31mStatisticsError\u001b[0m: no unique mode; found 2 equally common values"
          ]
        }
      ]
    },
    {
      "cell_type": "code",
      "source": [
        "divmod(15, 3)"
      ],
      "metadata": {
        "colab": {
          "base_uri": "https://localhost:8080/"
        },
        "id": "Idpn_WO1xMWQ",
        "outputId": "acac5194-3613-4f8e-b8b7-c0316475f3a4"
      },
      "execution_count": null,
      "outputs": [
        {
          "output_type": "execute_result",
          "data": {
            "text/plain": [
              "(5, 0)"
            ]
          },
          "metadata": {},
          "execution_count": 37
        }
      ]
    },
    {
      "cell_type": "code",
      "source": [
        "divmod(8,3)"
      ],
      "metadata": {
        "colab": {
          "base_uri": "https://localhost:8080/"
        },
        "id": "vcuo2NshycFu",
        "outputId": "4bd1fb11-598c-4559-da5e-76d581f92402"
      },
      "execution_count": null,
      "outputs": [
        {
          "output_type": "execute_result",
          "data": {
            "text/plain": [
              "(2, 2)"
            ]
          },
          "metadata": {},
          "execution_count": 38
        }
      ]
    },
    {
      "cell_type": "code",
      "source": [
        "def variance(data, ddof=0):\n",
        "  mean = sum(data) / len(data)\n",
        "  return sum((x - mean) ** 2 for x in data)/ (len(data) - ddof)"
      ],
      "metadata": {
        "id": "pGVyR5VbygDM"
      },
      "execution_count": null,
      "outputs": []
    },
    {
      "cell_type": "code",
      "source": [
        "variance([3,4,7,5,6,2,9,4,1,3])"
      ],
      "metadata": {
        "colab": {
          "base_uri": "https://localhost:8080/"
        },
        "id": "Asly2XTfy9vF",
        "outputId": "a960b867-d62a-43cb-8e05-84633b9957b2"
      },
      "execution_count": null,
      "outputs": [
        {
          "output_type": "execute_result",
          "data": {
            "text/plain": [
              "5.24"
            ]
          },
          "metadata": {},
          "execution_count": 41
        }
      ]
    },
    {
      "cell_type": "code",
      "source": [
        "def variance2(data, ddof=0):\n",
        "  n = len(data)\n",
        "  mean = sum(data) / n\n",
        "  total_sqare_dev = sum((x - mean) ** 2 for x in data)\n",
        "  return total_square_dev / (n - ddof)"
      ],
      "metadata": {
        "id": "lg9DxIJlzHBG"
      },
      "execution_count": null,
      "outputs": []
    },
    {
      "cell_type": "code",
      "source": [
        "variance([3,4,7,5,6,2,9,4,1,3])"
      ],
      "metadata": {
        "colab": {
          "base_uri": "https://localhost:8080/"
        },
        "id": "QYffMctPz_Bv",
        "outputId": "c3233978-e468-411a-e896-3e7d91230e9a"
      },
      "execution_count": null,
      "outputs": [
        {
          "output_type": "execute_result",
          "data": {
            "text/plain": [
              "5.24"
            ]
          },
          "metadata": {},
          "execution_count": 44
        }
      ]
    },
    {
      "cell_type": "code",
      "source": [
        ""
      ],
      "metadata": {
        "id": "GlaU1UlZDGqa"
      },
      "execution_count": null,
      "outputs": []
    }
  ]
}