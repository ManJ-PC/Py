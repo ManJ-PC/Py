{
 "cells": [
  {
   "cell_type": "code",
   "execution_count": 1,
   "metadata": {},
   "outputs": [],
   "source": [
    "from timeit import timeit\n",
    "\n",
    "import flatten\n"
   ]
  },
  {
   "cell_type": "code",
   "execution_count": 2,
   "metadata": {},
   "outputs": [
    {
     "name": "stdout",
     "output_type": "stream",
     "text": [
      "Time to flatten a 1000x1000 matrix (in milliseconds):\n",
      "\n",
      "flatten_reduce_iconcat().........9.91 ms\n",
      "flatten_concatenation().........11.72 ms\n",
      "flatten_chain().................11.74 ms\n",
      "flatten_extend()................16.40 ms\n",
      "flatten_comprehension().........21.13 ms\n",
      "flatten_reduce_concat()........938.13 ms\n",
      "flatten_sum()..................942.13 ms\n",
      "flatten_reduce_add()...........977.34 ms\n",
      "flatten_reduce_lambda().......1073.71 ms\n"
     ]
    }
   ],
   "source": [
    "SIZE = 1000\n",
    "TO_MS = 1000\n",
    "NUM = 10\n",
    "FUNCTIONS = [\n",
    "    \"flatten_extend\",\n",
    "    \"flatten_concatenation\",\n",
    "    \"flatten_comprehension\",\n",
    "    \"flatten_chain\",\n",
    "    \"flatten_reduce_lambda\",\n",
    "    \"flatten_reduce_add\",\n",
    "    \"flatten_reduce_concat\",\n",
    "    \"flatten_reduce_iconcat\",\n",
    "    \"flatten_sum\",\n",
    "]\n",
    "\n",
    "matrix = [list(range(SIZE))] * SIZE\n",
    "\n",
    "results = {\n",
    "    func: timeit(f\"flatten.{func}(matrix)\", globals=globals(), number=NUM)\n",
    "    for func in FUNCTIONS\n",
    "}\n",
    "\n",
    "print(f\"Time to flatten a {SIZE}x{SIZE} matrix (in milliseconds):\\n\")\n",
    "\n",
    "for func, time in sorted(results.items(), key=lambda result: result[1]):\n",
    "    print(f\"{func + '()':.<30}{time * TO_MS / NUM:.>7.2f} ms\")"
   ]
  }
 ],
 "metadata": {
  "kernelspec": {
   "display_name": "venv",
   "language": "python",
   "name": "python3"
  },
  "language_info": {
   "codemirror_mode": {
    "name": "ipython",
    "version": 3
   },
   "file_extension": ".py",
   "mimetype": "text/x-python",
   "name": "python",
   "nbconvert_exporter": "python",
   "pygments_lexer": "ipython3",
   "version": "3.11.4"
  }
 },
 "nbformat": 4,
 "nbformat_minor": 2
}
