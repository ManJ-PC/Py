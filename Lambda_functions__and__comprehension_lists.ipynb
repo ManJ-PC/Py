{
  "nbformat": 4,
  "nbformat_minor": 0,
  "metadata": {
    "colab": {
      "provenance": [],
      "include_colab_link": true
    },
    "kernelspec": {
      "name": "python3",
      "display_name": "Python 3"
    },
    "language_info": {
      "name": "python"
    }
  },
  "cells": [
    {
      "cell_type": "markdown",
      "metadata": {
        "id": "view-in-github",
        "colab_type": "text"
      },
      "source": [
        "<a href=\"https://colab.research.google.com/github/ManJ-PC/Py/blob/master/Lambda_functions__and__comprehension_lists.ipynb\" target=\"_parent\"><img src=\"https://colab.research.google.com/assets/colab-badge.svg\" alt=\"Open In Colab\"/></a>"
      ]
    },
    {
      "cell_type": "code",
      "execution_count": null,
      "metadata": {
        "colab": {
          "base_uri": "https://localhost:8080/"
        },
        "id": "lIcIjYWZSOn3",
        "outputId": "d2e6d0af-91e4-4ab4-bf9a-83ed57ba5b62"
      },
      "outputs": [
        {
          "output_type": "stream",
          "name": "stdout",
          "text": [
            "a=6\n",
            "b=5\n",
            "11\n"
          ]
        }
      ],
      "source": [
        "if __name__=='__main__':\n",
        "    #Entradas de dados\n",
        "    c=int(input(\"a=\"))\n",
        "    d=int(input(\"b=\"))\n",
        "\n",
        "    #Funções\n",
        "    y=lambda a,b : a+b\n",
        "    x=lambda k,j : k*j\n",
        "\n",
        "    #Estrutura decisão\n",
        "    if c>d: #True\n",
        "        print(y(c,d))\n",
        "    elif c<d:\n",
        "        print(x(c,d))\n",
        "    else:\n",
        "        print(y(c,d))\n",
        "        print(x(c,d))"
      ]
    },
    {
      "cell_type": "code",
      "source": [
        "c=int(input(\"a=\"))\n",
        "d=int(input(\"b=\"))\n",
        "y=lambda a,b : a+b\n",
        "x=lambda k,j : k*j\n",
        "result = (lambda c, d: print(y(c, d)) if c > d else print(x(c, d))if c < d else (print(y(c, d)), print(x(c, d))))(c, d)"
      ],
      "metadata": {
        "colab": {
          "base_uri": "https://localhost:8080/"
        },
        "id": "k1Gs1nj8SVX3",
        "outputId": "fbcf2bf5-f075-4793-9d0e-365ecd7ad085"
      },
      "execution_count": null,
      "outputs": [
        {
          "output_type": "stream",
          "name": "stdout",
          "text": [
            "a=6\n",
            "b=8\n",
            "48\n"
          ]
        }
      ]
    },
    {
      "cell_type": "code",
      "source": [
        "c=int(input('a='))\n",
        "d=int(input('b='))\n",
        "x=lambda a,b: a+b if (a>b) else  a*b if (a<b) else str({a*b})+str({a+b})\n",
        "\n",
        "print(x(c,d))"
      ],
      "metadata": {
        "colab": {
          "base_uri": "https://localhost:8080/"
        },
        "id": "c_vHOiHcSZgp",
        "outputId": "ccf286ce-2eb6-4dcb-8a45-9c1a7289ac63"
      },
      "execution_count": null,
      "outputs": [
        {
          "output_type": "stream",
          "name": "stdout",
          "text": [
            "a=7\n",
            "b=7\n",
            "{49}{14}\n"
          ]
        }
      ]
    },
    {
      "cell_type": "code",
      "source": [
        "sentence = 'The rocket, who was named Ted, came back \\\n",
        "... from Mars because he missed his friends.'\n",
        "def is_consonant(letter):\n",
        "     vowels = 'aeiou'\n",
        "     return letter.isalpha() and letter.islower() and letter not in vowels # letter in sentence if letter in not vowels\n",
        "\n",
        "consonants = [i for i in sentence if is_consonant(i)] #letter) for letter in sentence"
      ],
      "metadata": {
        "id": "vwMDN4emJw52"
      },
      "execution_count": null,
      "outputs": []
    },
    {
      "cell_type": "code",
      "source": [
        "consonants"
      ],
      "metadata": {
        "colab": {
          "base_uri": "https://localhost:8080/"
        },
        "id": "67s0tjPpN269",
        "outputId": "30c6cd1e-2ae3-4d92-f571-c374e79753ff"
      },
      "execution_count": null,
      "outputs": [
        {
          "output_type": "execute_result",
          "data": {
            "text/plain": [
              "['h',\n",
              " 'r',\n",
              " 'c',\n",
              " 'k',\n",
              " 't',\n",
              " 'w',\n",
              " 'h',\n",
              " 'w',\n",
              " 's',\n",
              " 'n',\n",
              " 'm',\n",
              " 'd',\n",
              " 'd',\n",
              " 'c',\n",
              " 'm',\n",
              " 'b',\n",
              " 'c',\n",
              " 'k',\n",
              " 'f',\n",
              " 'r',\n",
              " 'm',\n",
              " 'r',\n",
              " 's',\n",
              " 'b',\n",
              " 'c',\n",
              " 's',\n",
              " 'h',\n",
              " 'm',\n",
              " 's',\n",
              " 's',\n",
              " 'd',\n",
              " 'h',\n",
              " 's',\n",
              " 'f',\n",
              " 'r',\n",
              " 'n',\n",
              " 'd',\n",
              " 's']"
            ]
          },
          "metadata": {},
          "execution_count": 5
        }
      ]
    },
    {
      "cell_type": "code",
      "source": [
        "sentence = 'The rocket, who was named Ted, came back \\\n",
        "... from Mars because he missed his friends.'\n",
        "\n",
        "def is_consonant(letter):\n",
        "    vowels = 'aeiou'\n",
        "    return letter.isalpha() and letter.islower() and letter not in vowels\n",
        "\n",
        "consonants = [i for i in sentence if is_consonant(i)]\n",
        "\n",
        "print(consonants)\n"
      ],
      "metadata": {
        "colab": {
          "base_uri": "https://localhost:8080/"
        },
        "id": "OXz468IRKWSy",
        "outputId": "f87b9c28-7391-4ea1-e43b-029fd31b91b8"
      },
      "execution_count": null,
      "outputs": [
        {
          "output_type": "stream",
          "name": "stdout",
          "text": [
            "['h', 'r', 'c', 'k', 't', 'w', 'h', 'w', 's', 'n', 'm', 'd', 'd', 'c', 'm', 'b', 'c', 'k', 'f', 'r', 'm', 'r', 's', 'b', 'c', 's', 'h', 'm', 's', 's', 'd', 'h', 's', 'f', 'r', 'n', 'd', 's']\n"
          ]
        }
      ]
    },
    {
      "cell_type": "markdown",
      "source": [
        "# Aula 4"
      ],
      "metadata": {
        "id": "nUjqh4ijAV_v"
      }
    },
    {
      "cell_type": "code",
      "source": [
        "lista_valores = [1,2,3,4,5,6,7,8,9]\n",
        "list(filter(lambda x: x% 2 != 0, lista_valores))"
      ],
      "metadata": {
        "id": "4tmwYDDm_hCw",
        "outputId": "4d3530b6-cb43-4e5d-c519-1d5950f25aef",
        "colab": {
          "base_uri": "https://localhost:8080/"
        }
      },
      "execution_count": 1,
      "outputs": [
        {
          "output_type": "execute_result",
          "data": {
            "text/plain": [
              "[1, 3, 5, 7, 9]"
            ]
          },
          "metadata": {},
          "execution_count": 1
        }
      ]
    },
    {
      "cell_type": "code",
      "source": [
        "lista_valores = [1,2,3,4,5,6,7,8,9]\n",
        "cubo = map(lambda x: pow(x,3), lista_valores)\n",
        "list(cubo)"
      ],
      "metadata": {
        "id": "q5zUPbDP_oVO",
        "outputId": "224a809a-92c8-4bc8-e2df-37b2c09fbbb1",
        "colab": {
          "base_uri": "https://localhost:8080/"
        }
      },
      "execution_count": 4,
      "outputs": [
        {
          "output_type": "execute_result",
          "data": {
            "text/plain": [
              "[1, 8, 27, 64, 125, 216, 343, 512, 729]"
            ]
          },
          "metadata": {},
          "execution_count": 4
        }
      ]
    },
    {
      "cell_type": "code",
      "source": [
        "lista_valores = [1,2,3,4,5,6,7,8,9,10, 11,12]\n",
        "cubo = map(lambda x: pow(x,3), lista_valores)\n",
        "list(cubo)"
      ],
      "metadata": {
        "id": "1oSvziQt_7x_",
        "outputId": "948cb620-2344-4632-d82b-20f3279cf69e",
        "colab": {
          "base_uri": "https://localhost:8080/"
        }
      },
      "execution_count": 5,
      "outputs": [
        {
          "output_type": "execute_result",
          "data": {
            "text/plain": [
              "[1, 8, 27, 64, 125, 216, 343, 512, 729, 1000, 1331, 1728]"
            ]
          },
          "metadata": {},
          "execution_count": 5
        }
      ]
    },
    {
      "cell_type": "markdown",
      "source": [
        "# Classes e objectos em Python"
      ],
      "metadata": {
        "id": "hG71zDAzANOY"
      }
    },
    {
      "cell_type": "markdown",
      "source": [
        "#objectos não são gráficos\n",
        "# no fundo são grupos que agregam outros elementos"
      ],
      "metadata": {
        "id": "MVGcT-EGAZhA"
      }
    },
    {
      "cell_type": "markdown",
      "source": [
        "# condições a adicionar ali...\n",
        "\n",
        "# class Grande caixa, com objectos que podem ter ou não atributos diferentes  e funcionalidades\n",
        "# Custos por aluno, seguro e subsídeo de alimentaçõ e custos de equipamento etc\n",
        "# classe e 2 objectos com as atribuições.\n"
      ],
      "metadata": {
        "id": "F-SPAGVmDPAH"
      }
    },
    {
      "cell_type": "markdown",
      "source": [
        "# Classe e construtor"
      ],
      "metadata": {
        "id": "8yHshkotR5jE"
      }
    },
    {
      "cell_type": "code",
      "source": [
        "\"\"\"Nome alfanumerica\n",
        "  Teste1 real\n",
        "  Teste2 real\n",
        "\n",
        "  Criar um construtor que receba três parâmetros\n",
        "  Método ClassFinal calcular a média aritmética das notas obtidas pelo aluno\n",
        "\n",
        "  João Silva 14 16  --> 15\n",
        "\"\"\"\n",
        "import math\n",
        "# Construtor da classe EstudanteInf()\n",
        "class EstudanteInf():\n",
        "  def __init__(self, N, T1, T2):\n",
        "    self.Nome = N\n",
        "    self.Teste1 = T1\n",
        "    self.Teste2 = T2\n",
        "\n",
        "# Método de classificação final da classe EstudanteInf\n",
        "  def ClassificacaoFinal(self):\n",
        "    return math.floor(((self.Teste1+self.Teste2)/2))\n",
        "\n",
        "#Programa principal\n",
        "if __name__==\"__main__\":\n",
        "  E=EstudanteInf(\"João Silva\", 14, 16)\n",
        "  print(f'{E.Nome} teve a classificação final de {E.ClassificacaoFinal()} valores')\n"
      ],
      "metadata": {
        "colab": {
          "base_uri": "https://localhost:8080/"
        },
        "id": "4F7tLssBSJjY",
        "outputId": "5989203f-1e33-4e60-8438-ede9bf4cab14"
      },
      "execution_count": 7,
      "outputs": [
        {
          "output_type": "stream",
          "name": "stdout",
          "text": [
            "João Silva teve a classificação final de 15 valores\n"
          ]
        }
      ]
    },
    {
      "cell_type": "code",
      "source": [],
      "metadata": {
        "id": "bwOfeaKJZA3-"
      },
      "execution_count": null,
      "outputs": []
    },
    {
      "cell_type": "code",
      "source": [
        "\"\"\"Nome alfanumerica\n",
        "  Teste1 real\n",
        "  Teste2 real\n",
        "\n",
        "  Criar um construtor que receba três parâmetros\n",
        "  Método ClassFinal calcular a média aritmética das notas obtidas pelo aluno\n",
        "\n",
        "  João Silva 14 16  --> 15\n",
        "\"\"\"\n",
        "import math\n",
        "# Construtor da classe EstudanteInf()\n",
        "class EstudanteInf():\n",
        "  def __init__(self, N, T1, T2):\n",
        "    self.Nome = N\n",
        "    self.Teste1 = T1\n",
        "    self.Teste2 = T2\n",
        "\n",
        "# Método de classificação final da classe EstudanteInf\n",
        "  def ClassificacaoFinal(self):\n",
        "    return math.floor(((self.Teste1+self.Teste2)/2))\n",
        "\n",
        "#Programa principal\n",
        "if __name__==\"__main__\":\n",
        "  E=EstudanteInf(\"João Silva\", 14, 16)\n",
        "  print(f'{E.Nome} teve a classificação final de {E.ClassificacaoFinal()} valores')\n"
      ],
      "metadata": {
        "outputId": "5989203f-1e33-4e60-8438-ede9bf4cab14",
        "colab": {
          "base_uri": "https://localhost:8080/"
        },
        "id": "5JPPGXWeZBMg"
      },
      "execution_count": null,
      "outputs": [
        {
          "output_type": "stream",
          "name": "stdout",
          "text": [
            "João Silva teve a classificação final de 15 valores\n"
          ]
        }
      ]
    },
    {
      "cell_type": "code",
      "source": [
        "print(turma[i])\n",
        "print(E)\n",
        "def imprime_aluno(E):\n",
        "  print(f'{E.Nome:<10s} teve a classificação final de {E.ClassificacaoFinal():<.2f} valores')\n",
        "  print(imprime_aluno(E))"
      ],
      "metadata": {
        "id": "BV5Vajyubm-H",
        "outputId": "af51614d-9b39-4a36-9f42-452175900255",
        "colab": {
          "base_uri": "https://localhost:8080/"
        }
      },
      "execution_count": 15,
      "outputs": [
        {
          "output_type": "stream",
          "name": "stdout",
          "text": [
            "João Silva teve a classificação final de 15.00 valores\n"
          ]
        }
      ]
    },
    {
      "cell_type": "markdown",
      "source": [],
      "metadata": {
        "id": "ehaYVE_GbXk1"
      }
    },
    {
      "cell_type": "markdown",
      "source": [],
      "metadata": {
        "id": "1esU8xGzEKok"
      }
    },
    {
      "cell_type": "code",
      "source": [
        "import math\n",
        "#Construtor da classe EstudanteInf()\n",
        "class EstudanteInf():\n",
        "    def __init__(self, N, T1, T2):\n",
        "        self.Nome=N\n",
        "        self.Teste1=T1\n",
        "        self.Teste2=T2\n",
        "\n",
        "#Método de classificação final da classe EstudanteInf\n",
        "    def ClassificacaoFinal(self):\n",
        "        return math.floor(((self.Teste1+self.Teste2)/2))\n",
        "\n",
        "    def imprime_aluno2(self):\n",
        "      print(f'{self.Nome:<10s} teve a classificação final de {self.ClassificacaoFinal():<.2f} valores')\n",
        "\n",
        "def imprime_aluno(E):\n",
        "  print(f'{E.Nome:^10s} teve a classificação final de {E.ClassificacaoFinal():<.2f} valores')\n",
        "\n",
        "#Programa principal\n",
        "if __name__==\"__main__\":\n",
        "    turma=[]\n",
        "    n_alunos=int(input(\"Introduza o número de alunos:\"))\n",
        "    for i in range(n_alunos):\n",
        "        turma.append(EstudanteInf(input(\"Qual o nome:\"),int(input(\"Nota Teste 1:\")),int(input(\"Nota Teste 2:\"))))\n",
        "    for i in range(n_alunos):\n",
        "        imprime_aluno(turma[i])\n",
        "        turma[i].imprime_aluno2()"
      ],
      "metadata": {
        "id": "25WBBP3ZjLoW",
        "outputId": "e286e478-0f84-4027-af1a-696bb565e88b",
        "colab": {
          "base_uri": "https://localhost:8080/"
        }
      },
      "execution_count": 1,
      "outputs": [
        {
          "output_type": "stream",
          "name": "stdout",
          "text": [
            "Introduza o número de alunos:1\n",
            "Qual o nome:Sofia\n",
            "Nota Teste 1:17\n",
            "Nota Teste 2:19\n",
            "  Sofia    teve a classificação final de 18.00 valores\n",
            "Sofia      teve a classificação final de 18.00 valores\n"
          ]
        }
      ]
    }
  ]
}