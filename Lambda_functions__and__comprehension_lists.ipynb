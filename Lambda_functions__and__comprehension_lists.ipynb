{
  "nbformat": 4,
  "nbformat_minor": 0,
  "metadata": {
    "colab": {
      "provenance": [],
      "include_colab_link": true
    },
    "kernelspec": {
      "name": "python3",
      "display_name": "Python 3"
    },
    "language_info": {
      "name": "python"
    }
  },
  "cells": [
    {
      "cell_type": "markdown",
      "metadata": {
        "id": "view-in-github",
        "colab_type": "text"
      },
      "source": [
        "<a href=\"https://colab.research.google.com/github/ManJ-PC/Py/blob/master/Lambda_functions__and__comprehension_lists.ipynb\" target=\"_parent\"><img src=\"https://colab.research.google.com/assets/colab-badge.svg\" alt=\"Open In Colab\"/></a>"
      ]
    },
    {
      "cell_type": "code",
      "execution_count": null,
      "metadata": {
        "colab": {
          "base_uri": "https://localhost:8080/"
        },
        "id": "lIcIjYWZSOn3",
        "outputId": "d2e6d0af-91e4-4ab4-bf9a-83ed57ba5b62"
      },
      "outputs": [
        {
          "output_type": "stream",
          "name": "stdout",
          "text": [
            "a=6\n",
            "b=5\n",
            "11\n"
          ]
        }
      ],
      "source": [
        "if __name__=='__main__':\n",
        "    #Entradas de dados\n",
        "    c=int(input(\"a=\"))\n",
        "    d=int(input(\"b=\"))\n",
        "\n",
        "    #Funções\n",
        "    y=lambda a,b : a+b\n",
        "    x=lambda k,j : k*j\n",
        "\n",
        "    #Estrutura decisão\n",
        "    if c>d: #True\n",
        "        print(y(c,d))\n",
        "    elif c<d:\n",
        "        print(x(c,d))\n",
        "    else:\n",
        "        print(y(c,d))\n",
        "        print(x(c,d))"
      ]
    },
    {
      "cell_type": "code",
      "source": [
        "c=int(input(\"a=\"))\n",
        "d=int(input(\"b=\"))\n",
        "y=lambda a,b : a+b\n",
        "x=lambda k,j : k*j\n",
        "result = (lambda c, d: print(y(c, d)) if c > d else print(x(c, d))if c < d else (print(y(c, d)), print(x(c, d))))(c, d)"
      ],
      "metadata": {
        "colab": {
          "base_uri": "https://localhost:8080/"
        },
        "id": "k1Gs1nj8SVX3",
        "outputId": "fbcf2bf5-f075-4793-9d0e-365ecd7ad085"
      },
      "execution_count": null,
      "outputs": [
        {
          "output_type": "stream",
          "name": "stdout",
          "text": [
            "a=6\n",
            "b=8\n",
            "48\n"
          ]
        }
      ]
    },
    {
      "cell_type": "code",
      "source": [
        "c=int(input('a='))\n",
        "d=int(input('b='))\n",
        "x=lambda a,b: a+b if (a>b) else  a*b if (a<b) else str({a*b})+str({a+b})\n",
        "\n",
        "print(x(c,d))"
      ],
      "metadata": {
        "colab": {
          "base_uri": "https://localhost:8080/"
        },
        "id": "c_vHOiHcSZgp",
        "outputId": "ccf286ce-2eb6-4dcb-8a45-9c1a7289ac63"
      },
      "execution_count": null,
      "outputs": [
        {
          "output_type": "stream",
          "name": "stdout",
          "text": [
            "a=7\n",
            "b=7\n",
            "{49}{14}\n"
          ]
        }
      ]
    },
    {
      "cell_type": "code",
      "source": [
        "sentence = 'The rocket, who was named Ted, came back \\\n",
        "... from Mars because he missed his friends.'\n",
        "def is_consonant(letter):\n",
        "     vowels = 'aeiou'\n",
        "     return letter.isalpha() and letter.islower() and letter not in vowels # letter in sentence if letter in not vowels\n",
        "\n",
        "consonants = [i for i in sentence if is_consonant(i)] #letter) for letter in sentence"
      ],
      "metadata": {
        "id": "vwMDN4emJw52"
      },
      "execution_count": null,
      "outputs": []
    },
    {
      "cell_type": "code",
      "source": [
        "consonants"
      ],
      "metadata": {
        "colab": {
          "base_uri": "https://localhost:8080/"
        },
        "id": "67s0tjPpN269",
        "outputId": "30c6cd1e-2ae3-4d92-f571-c374e79753ff"
      },
      "execution_count": null,
      "outputs": [
        {
          "output_type": "execute_result",
          "data": {
            "text/plain": [
              "['h',\n",
              " 'r',\n",
              " 'c',\n",
              " 'k',\n",
              " 't',\n",
              " 'w',\n",
              " 'h',\n",
              " 'w',\n",
              " 's',\n",
              " 'n',\n",
              " 'm',\n",
              " 'd',\n",
              " 'd',\n",
              " 'c',\n",
              " 'm',\n",
              " 'b',\n",
              " 'c',\n",
              " 'k',\n",
              " 'f',\n",
              " 'r',\n",
              " 'm',\n",
              " 'r',\n",
              " 's',\n",
              " 'b',\n",
              " 'c',\n",
              " 's',\n",
              " 'h',\n",
              " 'm',\n",
              " 's',\n",
              " 's',\n",
              " 'd',\n",
              " 'h',\n",
              " 's',\n",
              " 'f',\n",
              " 'r',\n",
              " 'n',\n",
              " 'd',\n",
              " 's']"
            ]
          },
          "metadata": {},
          "execution_count": 5
        }
      ]
    },
    {
      "cell_type": "code",
      "source": [
        "sentence = 'The rocket, who was named Ted, came back \\\n",
        "... from Mars because he missed his friends.'\n",
        "\n",
        "def is_consonant(letter):\n",
        "    vowels = 'aeiou'\n",
        "    return letter.isalpha() and letter.islower() and letter not in vowels\n",
        "\n",
        "consonants = [i for i in sentence if is_consonant(i)]\n",
        "\n",
        "print(consonants)\n"
      ],
      "metadata": {
        "colab": {
          "base_uri": "https://localhost:8080/"
        },
        "id": "OXz468IRKWSy",
        "outputId": "f87b9c28-7391-4ea1-e43b-029fd31b91b8"
      },
      "execution_count": null,
      "outputs": [
        {
          "output_type": "stream",
          "name": "stdout",
          "text": [
            "['h', 'r', 'c', 'k', 't', 'w', 'h', 'w', 's', 'n', 'm', 'd', 'd', 'c', 'm', 'b', 'c', 'k', 'f', 'r', 'm', 'r', 's', 'b', 'c', 's', 'h', 'm', 's', 's', 'd', 'h', 's', 'f', 'r', 'n', 'd', 's']\n"
          ]
        }
      ]
    }
  ]
}